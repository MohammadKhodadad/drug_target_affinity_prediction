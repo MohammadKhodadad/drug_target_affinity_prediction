{
  "nbformat": 4,
  "nbformat_minor": 0,
  "metadata": {
    "colab": {
      "provenance": [],
      "gpuType": "T4"
    },
    "kernelspec": {
      "name": "python3",
      "display_name": "Python 3"
    },
    "language_info": {
      "name": "python"
    },
    "accelerator": "GPU"
  },
  "cells": [
    {
      "cell_type": "code",
      "execution_count": 1,
      "metadata": {
        "colab": {
          "base_uri": "https://localhost:8080/",
          "height": 1000
        },
        "id": "6khgmzi-ra0d",
        "outputId": "29cd6c22-da19-4073-96ae-b3f33a05ad43"
      },
      "outputs": [
        {
          "output_type": "stream",
          "name": "stdout",
          "text": [
            "Collecting PyTDC\n",
            "  Downloading PyTDC-0.4.1.tar.gz (107 kB)\n",
            "\u001b[2K     \u001b[90m━━━━━━━━━━━━━━━━━━━━━━━━━━━━━━━━━━━━━━━━\u001b[0m \u001b[32m107.7/107.7 kB\u001b[0m \u001b[31m1.1 MB/s\u001b[0m eta \u001b[36m0:00:00\u001b[0m\n",
            "\u001b[?25h  Preparing metadata (setup.py) ... \u001b[?25l\u001b[?25hdone\n",
            "Collecting rdkit-pypi (from PyTDC)\n",
            "  Downloading rdkit_pypi-2022.9.5-cp310-cp310-manylinux_2_17_x86_64.manylinux2014_x86_64.whl (29.4 MB)\n",
            "\u001b[2K     \u001b[90m━━━━━━━━━━━━━━━━━━━━━━━━━━━━━━━━━━━━━━━━\u001b[0m \u001b[32m29.4/29.4 MB\u001b[0m \u001b[31m39.9 MB/s\u001b[0m eta \u001b[36m0:00:00\u001b[0m\n",
            "\u001b[?25hCollecting fuzzywuzzy (from PyTDC)\n",
            "  Downloading fuzzywuzzy-0.18.0-py2.py3-none-any.whl (18 kB)\n",
            "Requirement already satisfied: numpy in /usr/local/lib/python3.10/dist-packages (from PyTDC) (1.23.5)\n",
            "Requirement already satisfied: pandas in /usr/local/lib/python3.10/dist-packages (from PyTDC) (1.5.3)\n",
            "Requirement already satisfied: tqdm in /usr/local/lib/python3.10/dist-packages (from PyTDC) (4.66.1)\n",
            "Requirement already satisfied: scikit-learn in /usr/local/lib/python3.10/dist-packages (from PyTDC) (1.2.2)\n",
            "Requirement already satisfied: seaborn in /usr/local/lib/python3.10/dist-packages (from PyTDC) (0.12.2)\n",
            "Requirement already satisfied: requests in /usr/local/lib/python3.10/dist-packages (from PyTDC) (2.31.0)\n",
            "Requirement already satisfied: huggingface_hub in /usr/local/lib/python3.10/dist-packages (from PyTDC) (0.19.4)\n",
            "Collecting dataclasses (from PyTDC)\n",
            "  Downloading dataclasses-0.6-py3-none-any.whl (14 kB)\n",
            "Requirement already satisfied: filelock in /usr/local/lib/python3.10/dist-packages (from huggingface_hub->PyTDC) (3.13.1)\n",
            "Requirement already satisfied: fsspec>=2023.5.0 in /usr/local/lib/python3.10/dist-packages (from huggingface_hub->PyTDC) (2023.6.0)\n",
            "Requirement already satisfied: pyyaml>=5.1 in /usr/local/lib/python3.10/dist-packages (from huggingface_hub->PyTDC) (6.0.1)\n",
            "Requirement already satisfied: typing-extensions>=3.7.4.3 in /usr/local/lib/python3.10/dist-packages (from huggingface_hub->PyTDC) (4.5.0)\n",
            "Requirement already satisfied: packaging>=20.9 in /usr/local/lib/python3.10/dist-packages (from huggingface_hub->PyTDC) (23.2)\n",
            "Requirement already satisfied: python-dateutil>=2.8.1 in /usr/local/lib/python3.10/dist-packages (from pandas->PyTDC) (2.8.2)\n",
            "Requirement already satisfied: pytz>=2020.1 in /usr/local/lib/python3.10/dist-packages (from pandas->PyTDC) (2023.3.post1)\n",
            "Requirement already satisfied: Pillow in /usr/local/lib/python3.10/dist-packages (from rdkit-pypi->PyTDC) (9.4.0)\n",
            "Requirement already satisfied: charset-normalizer<4,>=2 in /usr/local/lib/python3.10/dist-packages (from requests->PyTDC) (3.3.2)\n",
            "Requirement already satisfied: idna<4,>=2.5 in /usr/local/lib/python3.10/dist-packages (from requests->PyTDC) (3.6)\n",
            "Requirement already satisfied: urllib3<3,>=1.21.1 in /usr/local/lib/python3.10/dist-packages (from requests->PyTDC) (2.0.7)\n",
            "Requirement already satisfied: certifi>=2017.4.17 in /usr/local/lib/python3.10/dist-packages (from requests->PyTDC) (2023.11.17)\n",
            "Requirement already satisfied: scipy>=1.3.2 in /usr/local/lib/python3.10/dist-packages (from scikit-learn->PyTDC) (1.11.4)\n",
            "Requirement already satisfied: joblib>=1.1.1 in /usr/local/lib/python3.10/dist-packages (from scikit-learn->PyTDC) (1.3.2)\n",
            "Requirement already satisfied: threadpoolctl>=2.0.0 in /usr/local/lib/python3.10/dist-packages (from scikit-learn->PyTDC) (3.2.0)\n",
            "Requirement already satisfied: matplotlib!=3.6.1,>=3.1 in /usr/local/lib/python3.10/dist-packages (from seaborn->PyTDC) (3.7.1)\n",
            "Requirement already satisfied: contourpy>=1.0.1 in /usr/local/lib/python3.10/dist-packages (from matplotlib!=3.6.1,>=3.1->seaborn->PyTDC) (1.2.0)\n",
            "Requirement already satisfied: cycler>=0.10 in /usr/local/lib/python3.10/dist-packages (from matplotlib!=3.6.1,>=3.1->seaborn->PyTDC) (0.12.1)\n",
            "Requirement already satisfied: fonttools>=4.22.0 in /usr/local/lib/python3.10/dist-packages (from matplotlib!=3.6.1,>=3.1->seaborn->PyTDC) (4.45.1)\n",
            "Requirement already satisfied: kiwisolver>=1.0.1 in /usr/local/lib/python3.10/dist-packages (from matplotlib!=3.6.1,>=3.1->seaborn->PyTDC) (1.4.5)\n",
            "Requirement already satisfied: pyparsing>=2.3.1 in /usr/local/lib/python3.10/dist-packages (from matplotlib!=3.6.1,>=3.1->seaborn->PyTDC) (3.1.1)\n",
            "Requirement already satisfied: six>=1.5 in /usr/local/lib/python3.10/dist-packages (from python-dateutil>=2.8.1->pandas->PyTDC) (1.16.0)\n",
            "Building wheels for collected packages: PyTDC\n",
            "  Building wheel for PyTDC (setup.py) ... \u001b[?25l\u001b[?25hdone\n",
            "  Created wheel for PyTDC: filename=PyTDC-0.4.1-py3-none-any.whl size=140644 sha256=30ad08387a081b32cee89fe05107b681823efe8986a34cbc9ec6e3064ed4a211\n",
            "  Stored in directory: /root/.cache/pip/wheels/14/b7/b8/9d9e1442129743359b0507234ccc0beb67b47173faccd57d54\n",
            "Successfully built PyTDC\n",
            "Installing collected packages: fuzzywuzzy, dataclasses, rdkit-pypi, PyTDC\n",
            "Successfully installed PyTDC-0.4.1 dataclasses-0.6 fuzzywuzzy-0.18.0 rdkit-pypi-2022.9.5\n"
          ]
        },
        {
          "output_type": "display_data",
          "data": {
            "application/vnd.colab-display-data+json": {
              "pip_warning": {
                "packages": [
                  "dataclasses"
                ]
              }
            }
          },
          "metadata": {}
        },
        {
          "output_type": "stream",
          "name": "stdout",
          "text": [
            "Collecting datasets\n",
            "  Downloading datasets-2.15.0-py3-none-any.whl (521 kB)\n",
            "\u001b[2K     \u001b[90m━━━━━━━━━━━━━━━━━━━━━━━━━━━━━━━━━━━━━━━━\u001b[0m \u001b[32m521.2/521.2 kB\u001b[0m \u001b[31m3.1 MB/s\u001b[0m eta \u001b[36m0:00:00\u001b[0m\n",
            "\u001b[?25hRequirement already satisfied: numpy>=1.17 in /usr/local/lib/python3.10/dist-packages (from datasets) (1.23.5)\n",
            "Requirement already satisfied: pyarrow>=8.0.0 in /usr/local/lib/python3.10/dist-packages (from datasets) (9.0.0)\n",
            "Collecting pyarrow-hotfix (from datasets)\n",
            "  Downloading pyarrow_hotfix-0.6-py3-none-any.whl (7.9 kB)\n",
            "Collecting dill<0.3.8,>=0.3.0 (from datasets)\n",
            "  Downloading dill-0.3.7-py3-none-any.whl (115 kB)\n",
            "\u001b[2K     \u001b[90m━━━━━━━━━━━━━━━━━━━━━━━━━━━━━━━━━━━━━━━━\u001b[0m \u001b[32m115.3/115.3 kB\u001b[0m \u001b[31m12.3 MB/s\u001b[0m eta \u001b[36m0:00:00\u001b[0m\n",
            "\u001b[?25hRequirement already satisfied: pandas in /usr/local/lib/python3.10/dist-packages (from datasets) (1.5.3)\n",
            "Requirement already satisfied: requests>=2.19.0 in /usr/local/lib/python3.10/dist-packages (from datasets) (2.31.0)\n",
            "Requirement already satisfied: tqdm>=4.62.1 in /usr/local/lib/python3.10/dist-packages (from datasets) (4.66.1)\n",
            "Requirement already satisfied: xxhash in /usr/local/lib/python3.10/dist-packages (from datasets) (3.4.1)\n",
            "Collecting multiprocess (from datasets)\n",
            "  Downloading multiprocess-0.70.15-py310-none-any.whl (134 kB)\n",
            "\u001b[2K     \u001b[90m━━━━━━━━━━━━━━━━━━━━━━━━━━━━━━━━━━━━━━━━\u001b[0m \u001b[32m134.8/134.8 kB\u001b[0m \u001b[31m14.1 MB/s\u001b[0m eta \u001b[36m0:00:00\u001b[0m\n",
            "\u001b[?25hRequirement already satisfied: fsspec[http]<=2023.10.0,>=2023.1.0 in /usr/local/lib/python3.10/dist-packages (from datasets) (2023.6.0)\n",
            "Requirement already satisfied: aiohttp in /usr/local/lib/python3.10/dist-packages (from datasets) (3.9.1)\n",
            "Requirement already satisfied: huggingface-hub>=0.18.0 in /usr/local/lib/python3.10/dist-packages (from datasets) (0.19.4)\n",
            "Requirement already satisfied: packaging in /usr/local/lib/python3.10/dist-packages (from datasets) (23.2)\n",
            "Requirement already satisfied: pyyaml>=5.1 in /usr/local/lib/python3.10/dist-packages (from datasets) (6.0.1)\n",
            "Requirement already satisfied: attrs>=17.3.0 in /usr/local/lib/python3.10/dist-packages (from aiohttp->datasets) (23.1.0)\n",
            "Requirement already satisfied: multidict<7.0,>=4.5 in /usr/local/lib/python3.10/dist-packages (from aiohttp->datasets) (6.0.4)\n",
            "Requirement already satisfied: yarl<2.0,>=1.0 in /usr/local/lib/python3.10/dist-packages (from aiohttp->datasets) (1.9.3)\n",
            "Requirement already satisfied: frozenlist>=1.1.1 in /usr/local/lib/python3.10/dist-packages (from aiohttp->datasets) (1.4.0)\n",
            "Requirement already satisfied: aiosignal>=1.1.2 in /usr/local/lib/python3.10/dist-packages (from aiohttp->datasets) (1.3.1)\n",
            "Requirement already satisfied: async-timeout<5.0,>=4.0 in /usr/local/lib/python3.10/dist-packages (from aiohttp->datasets) (4.0.3)\n",
            "Requirement already satisfied: filelock in /usr/local/lib/python3.10/dist-packages (from huggingface-hub>=0.18.0->datasets) (3.13.1)\n",
            "Requirement already satisfied: typing-extensions>=3.7.4.3 in /usr/local/lib/python3.10/dist-packages (from huggingface-hub>=0.18.0->datasets) (4.5.0)\n",
            "Requirement already satisfied: charset-normalizer<4,>=2 in /usr/local/lib/python3.10/dist-packages (from requests>=2.19.0->datasets) (3.3.2)\n",
            "Requirement already satisfied: idna<4,>=2.5 in /usr/local/lib/python3.10/dist-packages (from requests>=2.19.0->datasets) (3.6)\n",
            "Requirement already satisfied: urllib3<3,>=1.21.1 in /usr/local/lib/python3.10/dist-packages (from requests>=2.19.0->datasets) (2.0.7)\n",
            "Requirement already satisfied: certifi>=2017.4.17 in /usr/local/lib/python3.10/dist-packages (from requests>=2.19.0->datasets) (2023.11.17)\n",
            "Requirement already satisfied: python-dateutil>=2.8.1 in /usr/local/lib/python3.10/dist-packages (from pandas->datasets) (2.8.2)\n",
            "Requirement already satisfied: pytz>=2020.1 in /usr/local/lib/python3.10/dist-packages (from pandas->datasets) (2023.3.post1)\n",
            "Requirement already satisfied: six>=1.5 in /usr/local/lib/python3.10/dist-packages (from python-dateutil>=2.8.1->pandas->datasets) (1.16.0)\n",
            "Installing collected packages: pyarrow-hotfix, dill, multiprocess, datasets\n",
            "Successfully installed datasets-2.15.0 dill-0.3.7 multiprocess-0.70.15 pyarrow-hotfix-0.6\n",
            "Requirement already satisfied: transformers in /usr/local/lib/python3.10/dist-packages (4.35.2)\n",
            "Requirement already satisfied: filelock in /usr/local/lib/python3.10/dist-packages (from transformers) (3.13.1)\n",
            "Requirement already satisfied: huggingface-hub<1.0,>=0.16.4 in /usr/local/lib/python3.10/dist-packages (from transformers) (0.19.4)\n",
            "Requirement already satisfied: numpy>=1.17 in /usr/local/lib/python3.10/dist-packages (from transformers) (1.23.5)\n",
            "Requirement already satisfied: packaging>=20.0 in /usr/local/lib/python3.10/dist-packages (from transformers) (23.2)\n",
            "Requirement already satisfied: pyyaml>=5.1 in /usr/local/lib/python3.10/dist-packages (from transformers) (6.0.1)\n",
            "Requirement already satisfied: regex!=2019.12.17 in /usr/local/lib/python3.10/dist-packages (from transformers) (2023.6.3)\n",
            "Requirement already satisfied: requests in /usr/local/lib/python3.10/dist-packages (from transformers) (2.31.0)\n",
            "Requirement already satisfied: tokenizers<0.19,>=0.14 in /usr/local/lib/python3.10/dist-packages (from transformers) (0.15.0)\n",
            "Requirement already satisfied: safetensors>=0.3.1 in /usr/local/lib/python3.10/dist-packages (from transformers) (0.4.1)\n",
            "Requirement already satisfied: tqdm>=4.27 in /usr/local/lib/python3.10/dist-packages (from transformers) (4.66.1)\n",
            "Requirement already satisfied: fsspec>=2023.5.0 in /usr/local/lib/python3.10/dist-packages (from huggingface-hub<1.0,>=0.16.4->transformers) (2023.6.0)\n",
            "Requirement already satisfied: typing-extensions>=3.7.4.3 in /usr/local/lib/python3.10/dist-packages (from huggingface-hub<1.0,>=0.16.4->transformers) (4.5.0)\n",
            "Requirement already satisfied: charset-normalizer<4,>=2 in /usr/local/lib/python3.10/dist-packages (from requests->transformers) (3.3.2)\n",
            "Requirement already satisfied: idna<4,>=2.5 in /usr/local/lib/python3.10/dist-packages (from requests->transformers) (3.6)\n",
            "Requirement already satisfied: urllib3<3,>=1.21.1 in /usr/local/lib/python3.10/dist-packages (from requests->transformers) (2.0.7)\n",
            "Requirement already satisfied: certifi>=2017.4.17 in /usr/local/lib/python3.10/dist-packages (from requests->transformers) (2023.11.17)\n"
          ]
        }
      ],
      "source": [
        "!pip install PyTDC\n",
        "!pip install datasets\n",
        "\n",
        "!pip install transformers"
      ]
    },
    {
      "cell_type": "code",
      "source": [
        "import tqdm\n",
        "import numpy as np\n",
        "import pandas as pd\n",
        "import plotly.express as px\n",
        "from tdc.multi_pred import DTI\n",
        "from tdc.generation import MolGen\n",
        "import plotly.figure_factory as ff\n",
        "\n",
        "import torch\n",
        "import torch.nn as nn\n",
        "import torch.nn.functional as F\n",
        "from torch.utils.data import Dataset, DataLoader\n",
        "from sklearn.metrics import accuracy_score, precision_recall_fscore_support"
      ],
      "metadata": {
        "id": "leGyYHrNrfAg"
      },
      "execution_count": 2,
      "outputs": []
    },
    {
      "cell_type": "code",
      "source": [
        "data = MolGen(name = 'MOSES')\n",
        "data=data.get_data()[:100000]"
      ],
      "metadata": {
        "colab": {
          "base_uri": "https://localhost:8080/"
        },
        "id": "ZpN9GJKcrgbC",
        "outputId": "72b96107-4c48-49d7-d898-201f4a74a712"
      },
      "execution_count": 3,
      "outputs": [
        {
          "output_type": "stream",
          "name": "stderr",
          "text": [
            "Downloading...\n",
            "100%|██████████| 75.3M/75.3M [00:04<00:00, 18.1MiB/s]\n",
            "Loading...\n",
            "Done!\n"
          ]
        }
      ]
    },
    {
      "cell_type": "code",
      "source": [
        "data=data.sample(frac=1)\n",
        "data=data.reset_index(drop=True)"
      ],
      "metadata": {
        "id": "7GTPJCrPuxIk"
      },
      "execution_count": 4,
      "outputs": []
    },
    {
      "cell_type": "markdown",
      "source": [
        "## Some Basic Analysis"
      ],
      "metadata": {
        "id": "sAuRdYeXtf8L"
      }
    },
    {
      "cell_type": "code",
      "source": [
        "data['l_smiles']=data.smiles.apply(len)"
      ],
      "metadata": {
        "id": "ZPPNyb-Zsu2H"
      },
      "execution_count": 5,
      "outputs": []
    },
    {
      "cell_type": "code",
      "source": [
        "data['l_smiles'].describe(percentiles=[i/10 for i in range(1,10)])"
      ],
      "metadata": {
        "colab": {
          "base_uri": "https://localhost:8080/"
        },
        "id": "S9xHxyfLriKM",
        "outputId": "f3682f59-19bf-4062-ae3c-bfb2ab09375a"
      },
      "execution_count": 6,
      "outputs": [
        {
          "output_type": "execute_result",
          "data": {
            "text/plain": [
              "count    100000.000000\n",
              "mean         35.150310\n",
              "std           4.566592\n",
              "min          15.000000\n",
              "10%          29.000000\n",
              "20%          31.000000\n",
              "30%          33.000000\n",
              "40%          34.000000\n",
              "50%          35.000000\n",
              "60%          36.000000\n",
              "70%          38.000000\n",
              "80%          39.000000\n",
              "90%          41.000000\n",
              "max          54.000000\n",
              "Name: l_smiles, dtype: float64"
            ]
          },
          "metadata": {},
          "execution_count": 6
        }
      ]
    },
    {
      "cell_type": "markdown",
      "source": [
        "## A solid preset length for drug would be 50"
      ],
      "metadata": {
        "id": "2X1w4NI5tmtg"
      }
    },
    {
      "cell_type": "code",
      "source": [
        "def tokenize(input_string):\n",
        "  return [ord(char) for char in input_string]\n",
        "def encode(input_string,max_length=128,padding=True):\n",
        "  tokens=tokenize(input_string)\n",
        "  if len(tokens)>max_length:\n",
        "    tokens=tokens[:max_length]\n",
        "  if (len(tokens)<max_length) & padding:\n",
        "    tokens.extend([0 for _ in range(max_length-len(tokens))])\n",
        "  return tokens\n",
        "def decode(input_tokens):\n",
        "  return ''.join(list(map(lambda x:chr(x), input_tokens)))"
      ],
      "metadata": {
        "id": "Xur6R70Arnye"
      },
      "execution_count": 7,
      "outputs": []
    },
    {
      "cell_type": "code",
      "source": [
        "l_tokenizer=encode('z',padding=False)[0]+1"
      ],
      "metadata": {
        "id": "1X_w-I0RuPfk"
      },
      "execution_count": 8,
      "outputs": []
    },
    {
      "cell_type": "code",
      "source": [
        "class Drug_Dataset(Dataset):\n",
        "    def __init__(self, df,drug_max_length):\n",
        "        self.df = df\n",
        "        self.dml=drug_max_length\n",
        "    def __len__(self):\n",
        "        return len(self.df)\n",
        "\n",
        "    def __getitem__(self, idx):\n",
        "        row=self.df.iloc[idx]\n",
        "        input_drug=torch.tensor(encode(row['smiles'],max_length=self.dml))\n",
        "        return {'input_drug':input_drug}"
      ],
      "metadata": {
        "id": "5VaFsFIouSxK"
      },
      "execution_count": 9,
      "outputs": []
    },
    {
      "cell_type": "code",
      "source": [
        "dml=50"
      ],
      "metadata": {
        "id": "RvNEPWDXujUt"
      },
      "execution_count": 10,
      "outputs": []
    },
    {
      "cell_type": "code",
      "source": [
        "l=int(data.shape[0]*0.8)\n",
        "train_p=Drug_Dataset(data[:l],drug_max_length=dml)\n",
        "test_p=Drug_Dataset(data[l:],drug_max_length=dml)"
      ],
      "metadata": {
        "id": "a16H4eWbunSr"
      },
      "execution_count": 11,
      "outputs": []
    },
    {
      "cell_type": "code",
      "source": [
        "train_loader=DataLoader(train_p,batch_size=32,shuffle=True)\n",
        "test_loader=DataLoader(test_p,batch_size=32)"
      ],
      "metadata": {
        "id": "3YIkiOK_uu0c"
      },
      "execution_count": 12,
      "outputs": []
    },
    {
      "cell_type": "markdown",
      "source": [
        "## Let's create the model"
      ],
      "metadata": {
        "id": "VyC9BHbTu9A7"
      }
    },
    {
      "cell_type": "markdown",
      "source": [
        "## This is Attention, as Torch's attention does not work with mask."
      ],
      "metadata": {
        "id": "0V_0xlhbvBjL"
      }
    },
    {
      "cell_type": "code",
      "source": [
        "device = torch.device('cuda' if torch.cuda.is_available() else 'cpu')\n",
        "class Encoder(nn.Module):\n",
        "    def __init__(self, latent_dim=8,embed_dim=16):\n",
        "        super(Encoder, self).__init__()\n",
        "        self.latent_dim=latent_dim\n",
        "        self.embeddings = nn.Embedding(l_tokenizer, embed_dim)\n",
        "        self.conv1=nn.Conv1d(embed_dim,embed_dim//2,3)\n",
        "        self.pool1=nn.MaxPool1d(2)\n",
        "        self.conv2=nn.Conv1d(embed_dim//2,embed_dim//4,3)\n",
        "        self.pool2=nn.MaxPool1d(2)\n",
        "        self.conv3=nn.Conv1d(embed_dim//4,embed_dim//8,2)\n",
        "        self.pool3=nn.MaxPool1d(2)\n",
        "        self.lsigma=nn.Linear((embed_dim//8)*5, latent_dim)\n",
        "        self.llogvar=nn.Linear((embed_dim//8)*5, latent_dim)\n",
        "\n",
        "        # self.N = torch.distributions.Normal(0, 1)\n",
        "        # self.N.loc = self.N.loc # hack to get sampling on the GPU\n",
        "        # self.N.scale = self.N.scale\n",
        "        self.kl = 0\n",
        "    def reparameterize(self, mu , logvar):\n",
        "        std = torch.exp(logvar*0.5)\n",
        "        eps = torch.randn_like(std).to(device)\n",
        "        z = mu + eps * std\n",
        "        return z\n",
        "    def forward(self, x):\n",
        "        x=self.embeddings(x)\n",
        "        bn=x.size(0)\n",
        "        x=torch.transpose(x,1,2)\n",
        "        x = self.pool1(F.relu(self.conv1(x)))\n",
        "        x = self.pool2(F.relu(self.conv2(x)))\n",
        "        x = self.pool3(F.relu(self.conv3(x)))\n",
        "        # x=torch.transpose(x,1,2)\n",
        "        x=x.view(bn,-1)\n",
        "        mu =  self.lsigma(x)\n",
        "        logvar = self.llogvar(x)\n",
        "        z=self.reparameterize(mu , logvar)\n",
        "        self.kl = 0.5*(logvar.exp() + mu**2 - logvar - 1).sum()/x.size(0)/dml/10\n",
        "        return z\n",
        "\n",
        "class Decoder(nn.Module):\n",
        "    def __init__(self, latent_dim=8,dim1=16):\n",
        "        super(Decoder, self).__init__()\n",
        "        self.linear=nn.Linear(latent_dim,24)\n",
        "        self.conv1 = nn.ConvTranspose1d(1, dim1,3,stride=2)\n",
        "        self.conv2 = nn.ConvTranspose1d(dim1, 2*dim1,2)\n",
        "        self.linear2 = nn.Linear(2*dim1,l_tokenizer)\n",
        "\n",
        "    def forward(self, z):\n",
        "        z = F.relu(self.linear(z))\n",
        "        z = z.view(-1,1,24)\n",
        "        z = F.relu(self.conv1(z))\n",
        "        z = F.relu(self.conv2(z))\n",
        "        z = torch.transpose(z,1,2)\n",
        "        z = self.linear2(z)\n",
        "        return z\n",
        "\n",
        "class VariationalAutoencoder(nn.Module):\n",
        "    def __init__(self, latent_dims=64):\n",
        "        super(VariationalAutoencoder, self).__init__()\n",
        "        self.encoder = Encoder(latent_dims,64).to(device)\n",
        "        self.decoder = Decoder(latent_dims,32).to(device)\n",
        "\n",
        "    def forward(self, x):\n",
        "        z = self.encoder(x)\n",
        "        return self.decoder(z)"
      ],
      "metadata": {
        "id": "y4CwoD0PvNfd"
      },
      "execution_count": 37,
      "outputs": []
    },
    {
      "cell_type": "code",
      "source": [
        "device = torch.device('cuda' if torch.cuda.is_available() else 'cpu')\n",
        "autoencoder=VariationalAutoencoder()\n",
        "opt = torch.optim.Adam(autoencoder.parameters(),lr=0.0005)\n",
        "loss_fn=torch.nn.CrossEntropyLoss()\n",
        "def acc_fn(y,y_hat):\n",
        "  return torch.mean((y==torch.argmax(y_hat,dim=1)).float())\n",
        "for epoch in range(100):\n",
        "    train_loss1=0\n",
        "    train_loss2=0\n",
        "    train_acc=0\n",
        "    autoencoder.train()\n",
        "    for batch in tqdm.tqdm(train_loader):\n",
        "        x = batch['input_drug'].to(device) # GPU\n",
        "        opt.zero_grad()\n",
        "        x_hat = autoencoder(x)\n",
        "        # x2=torch.transpose(x,1,2)\n",
        "        x2_hat=torch.transpose(x_hat,1,2)\n",
        "        loss1=loss_fn(x2_hat,x)\n",
        "        loss2=autoencoder.encoder.kl\n",
        "        acc=acc_fn(x,x2_hat)\n",
        "        loss = loss1 + loss2\n",
        "        train_acc+=acc.detach().cpu().numpy()\n",
        "        train_loss1+=loss1.detach().cpu().numpy()\n",
        "        train_loss2+=loss2.detach().cpu().numpy()\n",
        "        loss.backward()\n",
        "        opt.step()\n",
        "\n",
        "    test_loss1=0\n",
        "    test_loss2=0\n",
        "    test_acc=0\n",
        "    autoencoder.eval()\n",
        "    with torch.no_grad():\n",
        "      for batch in tqdm.tqdm(test_loader):\n",
        "          x = batch['input_drug'].to(device) # GPU\n",
        "          x_hat = autoencoder(x)\n",
        "          # x2=torch.transpose(x,1,2)\n",
        "          x2_hat=torch.transpose(x_hat,1,2)\n",
        "          loss1=loss_fn(x2_hat,x)\n",
        "          loss2=autoencoder.encoder.kl\n",
        "          acc=acc_fn(x,x2_hat)\n",
        "          loss = loss1 + loss2\n",
        "          test_acc+=acc.detach().cpu().numpy()\n",
        "          test_loss1+=loss1.detach().cpu().numpy()\n",
        "          test_loss2+=loss2.detach().cpu().numpy()\n",
        "\n",
        "    print(f\"TRAIN: EPOCH {epoch}: SSE: {train_loss1/len(train_loader)}, KL_LOSS: {train_loss2/len(train_loader)}, ACC: {train_acc/len(train_loader)}   \\nTEST: EPOCH {epoch}: SSE: {test_loss1/len(test_loader)}, KL_LOSS: {test_loss2/len(test_loader)}, ACC: {test_acc/len(test_loader)}\")"
      ],
      "metadata": {
        "id": "UtIiLw_1UK73",
        "colab": {
          "base_uri": "https://localhost:8080/"
        },
        "outputId": "196f5f01-4bdc-46f1-9f1f-b044c5242387"
      },
      "execution_count": 38,
      "outputs": [
        {
          "output_type": "stream",
          "name": "stderr",
          "text": [
            "100%|██████████| 2500/2500 [00:24<00:00, 101.02it/s]\n",
            "100%|██████████| 625/625 [00:03<00:00, 175.79it/s]\n"
          ]
        },
        {
          "output_type": "stream",
          "name": "stdout",
          "text": [
            "TRAIN: EPOCH 0: SSE: 1.7329068256378173, KL_LOSS: 0.04536705662759487, ACC: 0.4831164893992711   \n",
            "TEST: EPOCH 0: SSE: 1.557160227203369, KL_LOSS: 0.04142424785494805, ACC: 0.521051988697052\n"
          ]
        },
        {
          "output_type": "stream",
          "name": "stderr",
          "text": [
            "100%|██████████| 2500/2500 [00:24<00:00, 100.61it/s]\n",
            "100%|██████████| 625/625 [00:03<00:00, 176.78it/s]\n"
          ]
        },
        {
          "output_type": "stream",
          "name": "stdout",
          "text": [
            "TRAIN: EPOCH 1: SSE: 1.4094014980316163, KL_LOSS: 0.06349502699226141, ACC: 0.5593669870257377   \n",
            "TEST: EPOCH 1: SSE: 1.2341641063690185, KL_LOSS: 0.08825779937505722, ACC: 0.6001389857292175\n"
          ]
        },
        {
          "output_type": "stream",
          "name": "stderr",
          "text": [
            "100%|██████████| 2500/2500 [00:24<00:00, 101.04it/s]\n",
            "100%|██████████| 625/625 [00:03<00:00, 175.64it/s]\n"
          ]
        },
        {
          "output_type": "stream",
          "name": "stdout",
          "text": [
            "TRAIN: EPOCH 2: SSE: 1.1337827871084214, KL_LOSS: 0.1014793445289135, ACC: 0.6447377353191376   \n",
            "TEST: EPOCH 2: SSE: 1.0637198895454407, KL_LOSS: 0.10796176235675811, ACC: 0.6651439858436584\n"
          ]
        },
        {
          "output_type": "stream",
          "name": "stderr",
          "text": [
            "100%|██████████| 2500/2500 [00:25<00:00, 99.16it/s] \n",
            "100%|██████████| 625/625 [00:03<00:00, 168.31it/s]\n"
          ]
        },
        {
          "output_type": "stream",
          "name": "stdout",
          "text": [
            "TRAIN: EPOCH 3: SSE: 1.0271055659294128, KL_LOSS: 0.10870277592837811, ACC: 0.6782552352428436   \n",
            "TEST: EPOCH 3: SSE: 0.9945407009124756, KL_LOSS: 0.11257987473011016, ACC: 0.6909109842300415\n"
          ]
        },
        {
          "output_type": "stream",
          "name": "stderr",
          "text": [
            "100%|██████████| 2500/2500 [00:24<00:00, 101.28it/s]\n",
            "100%|██████████| 625/625 [00:03<00:00, 157.83it/s]\n"
          ]
        },
        {
          "output_type": "stream",
          "name": "stdout",
          "text": [
            "TRAIN: EPOCH 4: SSE: 0.9678002001523972, KL_LOSS: 0.11267001200318337, ACC: 0.7019804843902588   \n",
            "TEST: EPOCH 4: SSE: 0.9428338751792907, KL_LOSS: 0.11465626987218856, ACC: 0.7121459829330444\n"
          ]
        },
        {
          "output_type": "stream",
          "name": "stderr",
          "text": [
            "100%|██████████| 2500/2500 [00:24<00:00, 101.89it/s]\n",
            "100%|██████████| 625/625 [00:04<00:00, 141.32it/s]\n"
          ]
        },
        {
          "output_type": "stream",
          "name": "stdout",
          "text": [
            "TRAIN: EPOCH 5: SSE: 0.9277705830335617, KL_LOSS: 0.1147374362140894, ACC: 0.7168684832811355   \n",
            "TEST: EPOCH 5: SSE: 0.9123746046066284, KL_LOSS: 0.11447037304639816, ACC: 0.7232589825630188\n"
          ]
        },
        {
          "output_type": "stream",
          "name": "stderr",
          "text": [
            "100%|██████████| 2500/2500 [00:24<00:00, 103.61it/s]\n",
            "100%|██████████| 625/625 [00:04<00:00, 132.67it/s]\n"
          ]
        },
        {
          "output_type": "stream",
          "name": "stdout",
          "text": [
            "TRAIN: EPOCH 6: SSE: 0.9005432815074921, KL_LOSS: 0.11568438049256802, ACC: 0.7257027338266373   \n",
            "TEST: EPOCH 6: SSE: 0.8842336497306824, KL_LOSS: 0.11747664399147034, ACC: 0.7307519826889038\n"
          ]
        },
        {
          "output_type": "stream",
          "name": "stderr",
          "text": [
            "100%|██████████| 2500/2500 [00:23<00:00, 105.70it/s]\n",
            "100%|██████████| 625/625 [00:04<00:00, 129.14it/s]\n"
          ]
        },
        {
          "output_type": "stream",
          "name": "stdout",
          "text": [
            "TRAIN: EPOCH 7: SSE: 0.8795268325090408, KL_LOSS: 0.11658605397641658, ACC: 0.7312957329273224   \n",
            "TEST: EPOCH 7: SSE: 0.877216932106018, KL_LOSS: 0.11717942887544631, ACC: 0.7307409835815429\n"
          ]
        },
        {
          "output_type": "stream",
          "name": "stderr",
          "text": [
            "100%|██████████| 2500/2500 [00:23<00:00, 105.14it/s]\n",
            "100%|██████████| 625/625 [00:04<00:00, 131.56it/s]\n"
          ]
        },
        {
          "output_type": "stream",
          "name": "stdout",
          "text": [
            "TRAIN: EPOCH 8: SSE: 0.8634593811511994, KL_LOSS: 0.11665506655275822, ACC: 0.7348562330722809   \n",
            "TEST: EPOCH 8: SSE: 0.865338073348999, KL_LOSS: 0.11528468533754349, ACC: 0.7333449836730958\n"
          ]
        },
        {
          "output_type": "stream",
          "name": "stderr",
          "text": [
            "100%|██████████| 2500/2500 [00:24<00:00, 103.13it/s]\n",
            "100%|██████████| 625/625 [00:04<00:00, 144.19it/s]\n"
          ]
        },
        {
          "output_type": "stream",
          "name": "stdout",
          "text": [
            "TRAIN: EPOCH 9: SSE: 0.8498242005825043, KL_LOSS: 0.11654270901381969, ACC: 0.7381854835748672   \n",
            "TEST: EPOCH 9: SSE: 0.8427015717506409, KL_LOSS: 0.11693298007249832, ACC: 0.7413379835128784\n"
          ]
        },
        {
          "output_type": "stream",
          "name": "stderr",
          "text": [
            "100%|██████████| 2500/2500 [00:24<00:00, 102.38it/s]\n",
            "100%|██████████| 625/625 [00:04<00:00, 156.09it/s]\n"
          ]
        },
        {
          "output_type": "stream",
          "name": "stdout",
          "text": [
            "TRAIN: EPOCH 10: SSE: 0.8389622572898865, KL_LOSS: 0.11616859417557716, ACC: 0.740850983452797   \n",
            "TEST: EPOCH 10: SSE: 0.8308414995193482, KL_LOSS: 0.11499279592037201, ACC: 0.7434469840049743\n"
          ]
        },
        {
          "output_type": "stream",
          "name": "stderr",
          "text": [
            "100%|██████████| 2500/2500 [00:24<00:00, 102.00it/s]\n",
            "100%|██████████| 625/625 [00:03<00:00, 170.34it/s]\n"
          ]
        },
        {
          "output_type": "stream",
          "name": "stdout",
          "text": [
            "TRAIN: EPOCH 11: SSE: 0.8283717918395996, KL_LOSS: 0.11563461984395981, ACC: 0.7435132335662842   \n",
            "TEST: EPOCH 11: SSE: 0.8185758823394775, KL_LOSS: 0.11574002152681351, ACC: 0.7463339835166931\n"
          ]
        },
        {
          "output_type": "stream",
          "name": "stderr",
          "text": [
            "100%|██████████| 2500/2500 [00:24<00:00, 100.91it/s]\n",
            "100%|██████████| 625/625 [00:03<00:00, 181.01it/s]\n"
          ]
        },
        {
          "output_type": "stream",
          "name": "stdout",
          "text": [
            "TRAIN: EPOCH 12: SSE: 0.8191111178874969, KL_LOSS: 0.11540149481594562, ACC: 0.7461329836845398   \n",
            "TEST: EPOCH 12: SSE: 0.8209346473693848, KL_LOSS: 0.11565997811555863, ACC: 0.7466039834976196\n"
          ]
        },
        {
          "output_type": "stream",
          "name": "stderr",
          "text": [
            "100%|██████████| 2500/2500 [00:24<00:00, 100.77it/s]\n",
            "100%|██████████| 625/625 [00:03<00:00, 174.80it/s]\n"
          ]
        },
        {
          "output_type": "stream",
          "name": "stdout",
          "text": [
            "TRAIN: EPOCH 13: SSE: 0.809559364748001, KL_LOSS: 0.11554014559686183, ACC: 0.7489302329063415   \n",
            "TEST: EPOCH 13: SSE: 0.8056609112739563, KL_LOSS: 0.1154859933257103, ACC: 0.7498419825553894\n"
          ]
        },
        {
          "output_type": "stream",
          "name": "stderr",
          "text": [
            "100%|██████████| 2500/2500 [00:24<00:00, 100.17it/s]\n",
            "100%|██████████| 625/625 [00:03<00:00, 171.06it/s]\n"
          ]
        },
        {
          "output_type": "stream",
          "name": "stdout",
          "text": [
            "TRAIN: EPOCH 14: SSE: 0.8001186698198318, KL_LOSS: 0.11573752527534961, ACC: 0.7516884828567505   \n",
            "TEST: EPOCH 14: SSE: 0.7964272310256958, KL_LOSS: 0.11500392144918442, ACC: 0.7538719827651977\n"
          ]
        },
        {
          "output_type": "stream",
          "name": "stderr",
          "text": [
            "100%|██████████| 2500/2500 [00:24<00:00, 100.53it/s]\n",
            "100%|██████████| 625/625 [00:03<00:00, 171.90it/s]\n"
          ]
        },
        {
          "output_type": "stream",
          "name": "stdout",
          "text": [
            "TRAIN: EPOCH 15: SSE: 0.7928438481330872, KL_LOSS: 0.11605127340853215, ACC: 0.7543254835367202   \n",
            "TEST: EPOCH 15: SSE: 0.7926189618110657, KL_LOSS: 0.11547503355741501, ACC: 0.753768982887268\n"
          ]
        },
        {
          "output_type": "stream",
          "name": "stderr",
          "text": [
            "100%|██████████| 2500/2500 [00:24<00:00, 101.10it/s]\n",
            "100%|██████████| 625/625 [00:03<00:00, 177.16it/s]\n"
          ]
        },
        {
          "output_type": "stream",
          "name": "stdout",
          "text": [
            "TRAIN: EPOCH 16: SSE: 0.784993405175209, KL_LOSS: 0.11626617548465729, ACC: 0.7566267332315445   \n",
            "TEST: EPOCH 16: SSE: 0.7856118793487549, KL_LOSS: 0.11677026090621949, ACC: 0.7575159834861755\n"
          ]
        },
        {
          "output_type": "stream",
          "name": "stderr",
          "text": [
            "100%|██████████| 2500/2500 [00:24<00:00, 101.13it/s]\n",
            "100%|██████████| 625/625 [00:03<00:00, 174.22it/s]\n"
          ]
        },
        {
          "output_type": "stream",
          "name": "stdout",
          "text": [
            "TRAIN: EPOCH 17: SSE: 0.7781660021305085, KL_LOSS: 0.11622671588361264, ACC: 0.758937483382225   \n",
            "TEST: EPOCH 17: SSE: 0.7751104142189026, KL_LOSS: 0.11624498453140258, ACC: 0.7602289840698242\n"
          ]
        },
        {
          "output_type": "stream",
          "name": "stderr",
          "text": [
            "100%|██████████| 2500/2500 [00:25<00:00, 99.66it/s] \n",
            "100%|██████████| 625/625 [00:03<00:00, 172.68it/s]\n"
          ]
        },
        {
          "output_type": "stream",
          "name": "stdout",
          "text": [
            "TRAIN: EPOCH 18: SSE: 0.7715345689296722, KL_LOSS: 0.11651883058249951, ACC: 0.7612654831171036   \n",
            "TEST: EPOCH 18: SSE: 0.7640383650779724, KL_LOSS: 0.11729955383539199, ACC: 0.7638679838180542\n"
          ]
        },
        {
          "output_type": "stream",
          "name": "stderr",
          "text": [
            "100%|██████████| 2500/2500 [00:25<00:00, 99.72it/s] \n",
            "100%|██████████| 625/625 [00:03<00:00, 172.21it/s]\n"
          ]
        },
        {
          "output_type": "stream",
          "name": "stdout",
          "text": [
            "TRAIN: EPOCH 19: SSE: 0.7640887642145157, KL_LOSS: 0.11662399659752845, ACC: 0.7640754834413529   \n",
            "TEST: EPOCH 19: SSE: 0.7733195554733276, KL_LOSS: 0.11721762299537658, ACC: 0.7599279832839966\n"
          ]
        },
        {
          "output_type": "stream",
          "name": "stderr",
          "text": [
            "100%|██████████| 2500/2500 [00:25<00:00, 99.36it/s] \n",
            "100%|██████████| 625/625 [00:03<00:00, 162.90it/s]\n"
          ]
        },
        {
          "output_type": "stream",
          "name": "stdout",
          "text": [
            "TRAIN: EPOCH 20: SSE: 0.7573182398557663, KL_LOSS: 0.11681853067278862, ACC: 0.7663729828357696   \n",
            "TEST: EPOCH 20: SSE: 0.7483379940032959, KL_LOSS: 0.11613980050086975, ACC: 0.7698289833068848\n"
          ]
        },
        {
          "output_type": "stream",
          "name": "stderr",
          "text": [
            "100%|██████████| 2500/2500 [00:24<00:00, 100.26it/s]\n",
            "100%|██████████| 625/625 [00:04<00:00, 148.11it/s]\n"
          ]
        },
        {
          "output_type": "stream",
          "name": "stdout",
          "text": [
            "TRAIN: EPOCH 21: SSE: 0.7505861282348633, KL_LOSS: 0.11696781914234161, ACC: 0.768779733800888   \n",
            "TEST: EPOCH 21: SSE: 0.7410781036376953, KL_LOSS: 0.11713458781242371, ACC: 0.7719579835891723\n"
          ]
        },
        {
          "output_type": "stream",
          "name": "stderr",
          "text": [
            "100%|██████████| 2500/2500 [00:24<00:00, 101.66it/s]\n",
            "100%|██████████| 625/625 [00:04<00:00, 129.52it/s]\n"
          ]
        },
        {
          "output_type": "stream",
          "name": "stdout",
          "text": [
            "TRAIN: EPOCH 22: SSE: 0.7453479760885239, KL_LOSS: 0.11726087546944618, ACC: 0.7705187333106994   \n",
            "TEST: EPOCH 22: SSE: 0.7653258853912354, KL_LOSS: 0.11591403906345367, ACC: 0.7640869829177857\n"
          ]
        },
        {
          "output_type": "stream",
          "name": "stderr",
          "text": [
            "100%|██████████| 2500/2500 [00:24<00:00, 103.44it/s]\n",
            "100%|██████████| 625/625 [00:04<00:00, 127.42it/s]\n"
          ]
        },
        {
          "output_type": "stream",
          "name": "stdout",
          "text": [
            "TRAIN: EPOCH 23: SSE: 0.7399511790275574, KL_LOSS: 0.11734315926730633, ACC: 0.7720497329950332   \n",
            "TEST: EPOCH 23: SSE: 0.7363853050231933, KL_LOSS: 0.11707089885473251, ACC: 0.773295982170105\n"
          ]
        },
        {
          "output_type": "stream",
          "name": "stderr",
          "text": [
            "100%|██████████| 2500/2500 [00:24<00:00, 102.04it/s]\n",
            "100%|██████████| 625/625 [00:04<00:00, 141.11it/s]\n"
          ]
        },
        {
          "output_type": "stream",
          "name": "stdout",
          "text": [
            "TRAIN: EPOCH 24: SSE: 0.7351134815931321, KL_LOSS: 0.11746311227679253, ACC: 0.7734722329616547   \n",
            "TEST: EPOCH 24: SSE: 0.7369793982505798, KL_LOSS: 0.11887115293741227, ACC: 0.7742539832115173\n"
          ]
        },
        {
          "output_type": "stream",
          "name": "stderr",
          "text": [
            "100%|██████████| 2500/2500 [00:24<00:00, 100.44it/s]\n",
            "100%|██████████| 625/625 [00:03<00:00, 163.72it/s]\n"
          ]
        },
        {
          "output_type": "stream",
          "name": "stdout",
          "text": [
            "TRAIN: EPOCH 25: SSE: 0.7304807121992111, KL_LOSS: 0.11754181440770627, ACC: 0.7748999833106994   \n",
            "TEST: EPOCH 25: SSE: 0.7283621737480164, KL_LOSS: 0.11836755788326263, ACC: 0.7761179832458496\n"
          ]
        },
        {
          "output_type": "stream",
          "name": "stderr",
          "text": [
            "100%|██████████| 2500/2500 [00:25<00:00, 99.70it/s]\n",
            "100%|██████████| 625/625 [00:03<00:00, 177.05it/s]\n"
          ]
        },
        {
          "output_type": "stream",
          "name": "stdout",
          "text": [
            "TRAIN: EPOCH 26: SSE: 0.7262233528375626, KL_LOSS: 0.11760061578750611, ACC: 0.7759209835767746   \n",
            "TEST: EPOCH 26: SSE: 0.7315339291572571, KL_LOSS: 0.11707573872804641, ACC: 0.7746639841079712\n"
          ]
        },
        {
          "output_type": "stream",
          "name": "stderr",
          "text": [
            "100%|██████████| 2500/2500 [00:25<00:00, 99.43it/s] \n",
            "100%|██████████| 625/625 [00:03<00:00, 174.20it/s]\n"
          ]
        },
        {
          "output_type": "stream",
          "name": "stdout",
          "text": [
            "TRAIN: EPOCH 27: SSE: 0.7223341166496277, KL_LOSS: 0.11766115251779556, ACC: 0.777122232913971   \n",
            "TEST: EPOCH 27: SSE: 0.7201931910514832, KL_LOSS: 0.11814857335090637, ACC: 0.7786949831008911\n"
          ]
        },
        {
          "output_type": "stream",
          "name": "stderr",
          "text": [
            "100%|██████████| 2500/2500 [00:25<00:00, 99.73it/s] \n",
            "100%|██████████| 625/625 [00:03<00:00, 176.00it/s]\n"
          ]
        },
        {
          "output_type": "stream",
          "name": "stdout",
          "text": [
            "TRAIN: EPOCH 28: SSE: 0.7188558028697968, KL_LOSS: 0.11778261029422284, ACC: 0.778017733001709   \n",
            "TEST: EPOCH 28: SSE: 0.715818482875824, KL_LOSS: 0.11828742027282715, ACC: 0.7787429831504822\n"
          ]
        },
        {
          "output_type": "stream",
          "name": "stderr",
          "text": [
            "100%|██████████| 2500/2500 [00:24<00:00, 100.13it/s]\n",
            "100%|██████████| 625/625 [00:03<00:00, 171.68it/s]\n"
          ]
        },
        {
          "output_type": "stream",
          "name": "stdout",
          "text": [
            "TRAIN: EPOCH 29: SSE: 0.7149104240655899, KL_LOSS: 0.11786732676923276, ACC: 0.7792554833412171   \n",
            "TEST: EPOCH 29: SSE: 0.7130943150520325, KL_LOSS: 0.11772075281143188, ACC: 0.779673982334137\n"
          ]
        },
        {
          "output_type": "stream",
          "name": "stderr",
          "text": [
            "100%|██████████| 2500/2500 [00:25<00:00, 99.04it/s] \n",
            "100%|██████████| 625/625 [00:03<00:00, 173.54it/s]\n"
          ]
        },
        {
          "output_type": "stream",
          "name": "stdout",
          "text": [
            "TRAIN: EPOCH 30: SSE: 0.7117750764131546, KL_LOSS: 0.11791992458105087, ACC: 0.7802517327785492   \n",
            "TEST: EPOCH 30: SSE: 0.7149127103805542, KL_LOSS: 0.11778641177415848, ACC: 0.781265982913971\n"
          ]
        },
        {
          "output_type": "stream",
          "name": "stderr",
          "text": [
            "100%|██████████| 2500/2500 [00:25<00:00, 99.49it/s] \n",
            "100%|██████████| 625/625 [00:03<00:00, 171.45it/s]\n"
          ]
        },
        {
          "output_type": "stream",
          "name": "stdout",
          "text": [
            "TRAIN: EPOCH 31: SSE: 0.7090681595087052, KL_LOSS: 0.11781352780461311, ACC: 0.7813659826993943   \n",
            "TEST: EPOCH 31: SSE: 0.7101480493545532, KL_LOSS: 0.1179412888765335, ACC: 0.7803739847183228\n"
          ]
        },
        {
          "output_type": "stream",
          "name": "stderr",
          "text": [
            "100%|██████████| 2500/2500 [00:25<00:00, 97.83it/s] \n",
            "100%|██████████| 625/625 [00:03<00:00, 166.53it/s]\n"
          ]
        },
        {
          "output_type": "stream",
          "name": "stdout",
          "text": [
            "TRAIN: EPOCH 32: SSE: 0.705400061249733, KL_LOSS: 0.1178754622220993, ACC: 0.7825659831762314   \n",
            "TEST: EPOCH 32: SSE: 0.7011581179618835, KL_LOSS: 0.11812040815353393, ACC: 0.7858509818077087\n"
          ]
        },
        {
          "output_type": "stream",
          "name": "stderr",
          "text": [
            "100%|██████████| 2500/2500 [00:25<00:00, 99.46it/s] \n",
            "100%|██████████| 625/625 [00:04<00:00, 143.46it/s]\n"
          ]
        },
        {
          "output_type": "stream",
          "name": "stdout",
          "text": [
            "TRAIN: EPOCH 33: SSE: 0.7029669037342071, KL_LOSS: 0.11788761659264564, ACC: 0.7835994825601578   \n",
            "TEST: EPOCH 33: SSE: 0.7216844084739685, KL_LOSS: 0.11783850011825561, ACC: 0.7772479818344116\n"
          ]
        },
        {
          "output_type": "stream",
          "name": "stderr",
          "text": [
            "100%|██████████| 2500/2500 [00:25<00:00, 99.12it/s] \n",
            "100%|██████████| 625/625 [00:05<00:00, 124.23it/s]\n"
          ]
        },
        {
          "output_type": "stream",
          "name": "stdout",
          "text": [
            "TRAIN: EPOCH 34: SSE: 0.700458885216713, KL_LOSS: 0.11777619373500348, ACC: 0.7845777321338654   \n",
            "TEST: EPOCH 34: SSE: 0.7021063164710999, KL_LOSS: 0.11861642158031463, ACC: 0.7857189821243287\n"
          ]
        },
        {
          "output_type": "stream",
          "name": "stderr",
          "text": [
            "100%|██████████| 2500/2500 [00:24<00:00, 100.02it/s]\n",
            "100%|██████████| 625/625 [00:04<00:00, 137.85it/s]\n"
          ]
        },
        {
          "output_type": "stream",
          "name": "stdout",
          "text": [
            "TRAIN: EPOCH 35: SSE: 0.6974419225931168, KL_LOSS: 0.11764722608029843, ACC: 0.7855197324752807   \n",
            "TEST: EPOCH 35: SSE: 0.6914135228157043, KL_LOSS: 0.11753517122268677, ACC: 0.7886919817924499\n"
          ]
        },
        {
          "output_type": "stream",
          "name": "stderr",
          "text": [
            "100%|██████████| 2500/2500 [00:25<00:00, 97.68it/s]\n",
            "100%|██████████| 625/625 [00:03<00:00, 168.31it/s]\n"
          ]
        },
        {
          "output_type": "stream",
          "name": "stdout",
          "text": [
            "TRAIN: EPOCH 36: SSE: 0.6950045680999756, KL_LOSS: 0.11769795615971089, ACC: 0.7864057324647904   \n",
            "TEST: EPOCH 36: SSE: 0.6905817556381225, KL_LOSS: 0.11432704916000366, ACC: 0.7883109823226929\n"
          ]
        },
        {
          "output_type": "stream",
          "name": "stderr",
          "text": [
            "100%|██████████| 2500/2500 [00:25<00:00, 97.35it/s] \n",
            "100%|██████████| 625/625 [00:03<00:00, 176.88it/s]\n"
          ]
        },
        {
          "output_type": "stream",
          "name": "stdout",
          "text": [
            "TRAIN: EPOCH 37: SSE: 0.6932112695217133, KL_LOSS: 0.1176265963613987, ACC: 0.7867784825801849   \n",
            "TEST: EPOCH 37: SSE: 0.6883880308151246, KL_LOSS: 0.11847392779588699, ACC: 0.7885179825782775\n"
          ]
        },
        {
          "output_type": "stream",
          "name": "stderr",
          "text": [
            "100%|██████████| 2500/2500 [00:25<00:00, 98.05it/s] \n",
            "100%|██████████| 625/625 [00:03<00:00, 171.27it/s]\n"
          ]
        },
        {
          "output_type": "stream",
          "name": "stdout",
          "text": [
            "TRAIN: EPOCH 38: SSE: 0.6905246349811553, KL_LOSS: 0.1173207237124443, ACC: 0.7874127329826355   \n",
            "TEST: EPOCH 38: SSE: 0.6956292452812195, KL_LOSS: 0.11763849881887437, ACC: 0.7854829830169677\n"
          ]
        },
        {
          "output_type": "stream",
          "name": "stderr",
          "text": [
            "100%|██████████| 2500/2500 [00:25<00:00, 97.21it/s] \n",
            "100%|██████████| 625/625 [00:03<00:00, 171.67it/s]\n"
          ]
        },
        {
          "output_type": "stream",
          "name": "stdout",
          "text": [
            "TRAIN: EPOCH 39: SSE: 0.687369520497322, KL_LOSS: 0.11670451721251011, ACC: 0.7884322321891785   \n",
            "TEST: EPOCH 39: SSE: 0.6874946796417236, KL_LOSS: 0.11712166907787323, ACC: 0.7885299825668335\n"
          ]
        },
        {
          "output_type": "stream",
          "name": "stderr",
          "text": [
            "100%|██████████| 2500/2500 [00:25<00:00, 97.51it/s] \n",
            "100%|██████████| 625/625 [00:03<00:00, 172.03it/s]\n"
          ]
        },
        {
          "output_type": "stream",
          "name": "stdout",
          "text": [
            "TRAIN: EPOCH 40: SSE: 0.68445865380764, KL_LOSS: 0.1162454935014248, ACC: 0.7894247323036194   \n",
            "TEST: EPOCH 40: SSE: 0.6912456891059876, KL_LOSS: 0.11719298497438431, ACC: 0.7861189816474915\n"
          ]
        },
        {
          "output_type": "stream",
          "name": "stderr",
          "text": [
            "100%|██████████| 2500/2500 [00:25<00:00, 97.36it/s] \n",
            "100%|██████████| 625/625 [00:03<00:00, 160.67it/s]\n"
          ]
        },
        {
          "output_type": "stream",
          "name": "stdout",
          "text": [
            "TRAIN: EPOCH 41: SSE: 0.6819502267599106, KL_LOSS: 0.1162149561226368, ACC: 0.7902917315244675   \n",
            "TEST: EPOCH 41: SSE: 0.6855641693115234, KL_LOSS: 0.1155694287776947, ACC: 0.7910699822425842\n"
          ]
        },
        {
          "output_type": "stream",
          "name": "stderr",
          "text": [
            "100%|██████████| 2500/2500 [00:25<00:00, 98.90it/s] \n",
            "100%|██████████| 625/625 [00:04<00:00, 138.21it/s]\n"
          ]
        },
        {
          "output_type": "stream",
          "name": "stdout",
          "text": [
            "TRAIN: EPOCH 42: SSE: 0.6791555242776871, KL_LOSS: 0.11601162765920162, ACC: 0.7912909823656082   \n",
            "TEST: EPOCH 42: SSE: 0.6855878747940064, KL_LOSS: 0.1160145749092102, ACC: 0.7895229809761047\n"
          ]
        },
        {
          "output_type": "stream",
          "name": "stderr",
          "text": [
            "100%|██████████| 2500/2500 [00:24<00:00, 101.30it/s]\n",
            "100%|██████████| 625/625 [00:05<00:00, 123.60it/s]\n"
          ]
        },
        {
          "output_type": "stream",
          "name": "stdout",
          "text": [
            "TRAIN: EPOCH 43: SSE: 0.6763143486022949, KL_LOSS: 0.11606789807379246, ACC: 0.7919947319984436   \n",
            "TEST: EPOCH 43: SSE: 0.6799611323356628, KL_LOSS: 0.11558189492225647, ACC: 0.7915449821472168\n"
          ]
        },
        {
          "output_type": "stream",
          "name": "stderr",
          "text": [
            "100%|██████████| 2500/2500 [00:25<00:00, 99.26it/s]\n",
            "100%|██████████| 625/625 [00:04<00:00, 145.40it/s]\n"
          ]
        },
        {
          "output_type": "stream",
          "name": "stdout",
          "text": [
            "TRAIN: EPOCH 44: SSE: 0.6734736032485962, KL_LOSS: 0.11600300777852535, ACC: 0.7927747322320938   \n",
            "TEST: EPOCH 44: SSE: 0.6698344612121582, KL_LOSS: 0.11584136279821396, ACC: 0.7928689827919007\n"
          ]
        },
        {
          "output_type": "stream",
          "name": "stderr",
          "text": [
            "100%|██████████| 2500/2500 [00:25<00:00, 97.89it/s]\n",
            "100%|██████████| 625/625 [00:03<00:00, 168.53it/s]\n"
          ]
        },
        {
          "output_type": "stream",
          "name": "stdout",
          "text": [
            "TRAIN: EPOCH 45: SSE: 0.6702210710763932, KL_LOSS: 0.11599781037569046, ACC: 0.79377323179245   \n",
            "TEST: EPOCH 45: SSE: 0.6655724457740784, KL_LOSS: 0.11710775783061982, ACC: 0.7952689826965332\n"
          ]
        },
        {
          "output_type": "stream",
          "name": "stderr",
          "text": [
            "100%|██████████| 2500/2500 [00:25<00:00, 97.32it/s] \n",
            "100%|██████████| 625/625 [00:03<00:00, 168.62it/s]\n"
          ]
        },
        {
          "output_type": "stream",
          "name": "stdout",
          "text": [
            "TRAIN: EPOCH 46: SSE: 0.6669195628881455, KL_LOSS: 0.11598269351422787, ACC: 0.7945127320289612   \n",
            "TEST: EPOCH 46: SSE: 0.66668550863266, KL_LOSS: 0.11548554999828338, ACC: 0.7947139830589295\n"
          ]
        },
        {
          "output_type": "stream",
          "name": "stderr",
          "text": [
            "100%|██████████| 2500/2500 [00:25<00:00, 97.59it/s] \n",
            "100%|██████████| 625/625 [00:03<00:00, 173.16it/s]\n"
          ]
        },
        {
          "output_type": "stream",
          "name": "stdout",
          "text": [
            "TRAIN: EPOCH 47: SSE: 0.6638757270812988, KL_LOSS: 0.11609259955883026, ACC: 0.7952609818458557   \n",
            "TEST: EPOCH 47: SSE: 0.6572712460517883, KL_LOSS: 0.11660121195316314, ACC: 0.7963539819717407\n"
          ]
        },
        {
          "output_type": "stream",
          "name": "stderr",
          "text": [
            "100%|██████████| 2500/2500 [00:25<00:00, 99.09it/s] \n",
            "100%|██████████| 625/625 [00:03<00:00, 172.11it/s]\n"
          ]
        },
        {
          "output_type": "stream",
          "name": "stdout",
          "text": [
            "TRAIN: EPOCH 48: SSE: 0.6615822263002396, KL_LOSS: 0.11612231781482696, ACC: 0.7958812318325043   \n",
            "TEST: EPOCH 48: SSE: 0.6594481927871704, KL_LOSS: 0.1157727690577507, ACC: 0.797081981754303\n"
          ]
        },
        {
          "output_type": "stream",
          "name": "stderr",
          "text": [
            "100%|██████████| 2500/2500 [00:25<00:00, 97.99it/s] \n",
            "100%|██████████| 625/625 [00:03<00:00, 176.87it/s]\n"
          ]
        },
        {
          "output_type": "stream",
          "name": "stdout",
          "text": [
            "TRAIN: EPOCH 49: SSE: 0.6587161833763122, KL_LOSS: 0.1162397931009531, ACC: 0.7965359816074371   \n",
            "TEST: EPOCH 49: SSE: 0.6488492684364319, KL_LOSS: 0.1169176399588585, ACC: 0.8010229821205139\n"
          ]
        },
        {
          "output_type": "stream",
          "name": "stderr",
          "text": [
            "100%|██████████| 2500/2500 [00:25<00:00, 98.33it/s] \n",
            "100%|██████████| 625/625 [00:03<00:00, 173.16it/s]\n"
          ]
        },
        {
          "output_type": "stream",
          "name": "stdout",
          "text": [
            "TRAIN: EPOCH 50: SSE: 0.6565090020179749, KL_LOSS: 0.11608487208485603, ACC: 0.7971004817247391   \n",
            "TEST: EPOCH 50: SSE: 0.6576165038108825, KL_LOSS: 0.11661431782245636, ACC: 0.7969069820404052\n"
          ]
        },
        {
          "output_type": "stream",
          "name": "stderr",
          "text": [
            "100%|██████████| 2500/2500 [00:25<00:00, 97.78it/s] \n",
            "100%|██████████| 625/625 [00:04<00:00, 144.61it/s]\n"
          ]
        },
        {
          "output_type": "stream",
          "name": "stdout",
          "text": [
            "TRAIN: EPOCH 51: SSE: 0.6543844082832336, KL_LOSS: 0.11621552296578884, ACC: 0.7975474819183349   \n",
            "TEST: EPOCH 51: SSE: 0.6465545546531677, KL_LOSS: 0.11636469593048096, ACC: 0.8009359808921814\n"
          ]
        },
        {
          "output_type": "stream",
          "name": "stderr",
          "text": [
            "100%|██████████| 2500/2500 [00:24<00:00, 100.28it/s]\n",
            "100%|██████████| 625/625 [00:04<00:00, 126.54it/s]\n"
          ]
        },
        {
          "output_type": "stream",
          "name": "stdout",
          "text": [
            "TRAIN: EPOCH 52: SSE: 0.652092325758934, KL_LOSS: 0.11626948049366474, ACC: 0.7981864820241928   \n",
            "TEST: EPOCH 52: SSE: 0.6454785597801208, KL_LOSS: 0.11596537050008773, ACC: 0.8006229819297791\n"
          ]
        },
        {
          "output_type": "stream",
          "name": "stderr",
          "text": [
            "100%|██████████| 2500/2500 [00:24<00:00, 101.37it/s]\n",
            "100%|██████████| 625/625 [00:04<00:00, 131.09it/s]\n"
          ]
        },
        {
          "output_type": "stream",
          "name": "stdout",
          "text": [
            "TRAIN: EPOCH 53: SSE: 0.6499115877151489, KL_LOSS: 0.11637852600216865, ACC: 0.7987509816408157   \n",
            "TEST: EPOCH 53: SSE: 0.6534251608848571, KL_LOSS: 0.11615170118808746, ACC: 0.7976119820594788\n"
          ]
        },
        {
          "output_type": "stream",
          "name": "stderr",
          "text": [
            "100%|██████████| 2500/2500 [00:25<00:00, 98.53it/s]\n",
            "100%|██████████| 625/625 [00:03<00:00, 159.57it/s]\n"
          ]
        },
        {
          "output_type": "stream",
          "name": "stdout",
          "text": [
            "TRAIN: EPOCH 54: SSE: 0.6482025257349014, KL_LOSS: 0.1163394667237997, ACC: 0.7992597316026687   \n",
            "TEST: EPOCH 54: SSE: 0.6534238882064819, KL_LOSS: 0.11694780459403992, ACC: 0.798764981174469\n"
          ]
        },
        {
          "output_type": "stream",
          "name": "stderr",
          "text": [
            "100%|██████████| 2500/2500 [00:25<00:00, 96.77it/s] \n",
            "100%|██████████| 625/625 [00:03<00:00, 171.96it/s]\n"
          ]
        },
        {
          "output_type": "stream",
          "name": "stdout",
          "text": [
            "TRAIN: EPOCH 55: SSE: 0.6460598526954651, KL_LOSS: 0.11638799896240234, ACC: 0.7996987314462661   \n",
            "TEST: EPOCH 55: SSE: 0.6499976044654846, KL_LOSS: 0.11681795052289963, ACC: 0.7986459815979003\n"
          ]
        },
        {
          "output_type": "stream",
          "name": "stderr",
          "text": [
            "100%|██████████| 2500/2500 [00:25<00:00, 97.43it/s] \n",
            "100%|██████████| 625/625 [00:03<00:00, 172.39it/s]\n"
          ]
        },
        {
          "output_type": "stream",
          "name": "stdout",
          "text": [
            "TRAIN: EPOCH 56: SSE: 0.6433130456209183, KL_LOSS: 0.11639911673367023, ACC: 0.8005082313776016   \n",
            "TEST: EPOCH 56: SSE: 0.6584482955932617, KL_LOSS: 0.1158792232632637, ACC: 0.7962919815063476\n"
          ]
        },
        {
          "output_type": "stream",
          "name": "stderr",
          "text": [
            "100%|██████████| 2500/2500 [00:26<00:00, 95.45it/s] \n",
            "100%|██████████| 625/625 [00:03<00:00, 173.02it/s]\n"
          ]
        },
        {
          "output_type": "stream",
          "name": "stdout",
          "text": [
            "TRAIN: EPOCH 57: SSE: 0.6425043110966683, KL_LOSS: 0.11658024950325489, ACC: 0.8007574810504914   \n",
            "TEST: EPOCH 57: SSE: 0.6428528070449829, KL_LOSS: 0.11720048576593399, ACC: 0.8013009818077087\n"
          ]
        },
        {
          "output_type": "stream",
          "name": "stderr",
          "text": [
            "100%|██████████| 2500/2500 [00:25<00:00, 98.89it/s] \n",
            "100%|██████████| 625/625 [00:03<00:00, 171.36it/s]\n"
          ]
        },
        {
          "output_type": "stream",
          "name": "stdout",
          "text": [
            "TRAIN: EPOCH 58: SSE: 0.6407325593948364, KL_LOSS: 0.1165599247276783, ACC: 0.8013954815149307   \n",
            "TEST: EPOCH 58: SSE: 0.6439101280212403, KL_LOSS: 0.11652633564472198, ACC: 0.7992179812431336\n"
          ]
        },
        {
          "output_type": "stream",
          "name": "stderr",
          "text": [
            "100%|██████████| 2500/2500 [00:25<00:00, 99.70it/s] \n",
            "100%|██████████| 625/625 [00:03<00:00, 167.73it/s]\n"
          ]
        },
        {
          "output_type": "stream",
          "name": "stdout",
          "text": [
            "TRAIN: EPOCH 59: SSE: 0.6386386773109436, KL_LOSS: 0.11661316037178039, ACC: 0.8018594814777374   \n",
            "TEST: EPOCH 59: SSE: 0.6435345254898072, KL_LOSS: 0.11863545680046081, ACC: 0.8003129820823669\n"
          ]
        },
        {
          "output_type": "stream",
          "name": "stderr",
          "text": [
            "100%|██████████| 2500/2500 [00:24<00:00, 100.05it/s]\n",
            "100%|██████████| 625/625 [00:04<00:00, 150.20it/s]\n"
          ]
        },
        {
          "output_type": "stream",
          "name": "stdout",
          "text": [
            "TRAIN: EPOCH 60: SSE: 0.6376457797884941, KL_LOSS: 0.1165140224993229, ACC: 0.8020747310638427   \n",
            "TEST: EPOCH 60: SSE: 0.6354898194313049, KL_LOSS: 0.11665266495943069, ACC: 0.8031039813995361\n"
          ]
        },
        {
          "output_type": "stream",
          "name": "stderr",
          "text": [
            "100%|██████████| 2500/2500 [00:24<00:00, 101.70it/s]\n",
            "100%|██████████| 625/625 [00:04<00:00, 135.43it/s]\n"
          ]
        },
        {
          "output_type": "stream",
          "name": "stdout",
          "text": [
            "TRAIN: EPOCH 61: SSE: 0.6351735815048217, KL_LOSS: 0.11652128240764141, ACC: 0.802769731092453   \n",
            "TEST: EPOCH 61: SSE: 0.641186383152008, KL_LOSS: 0.11576834622621536, ACC: 0.8011249814033509\n"
          ]
        },
        {
          "output_type": "stream",
          "name": "stderr",
          "text": [
            "100%|██████████| 2500/2500 [00:24<00:00, 102.55it/s]\n",
            "100%|██████████| 625/625 [00:04<00:00, 125.54it/s]\n"
          ]
        },
        {
          "output_type": "stream",
          "name": "stdout",
          "text": [
            "TRAIN: EPOCH 62: SSE: 0.634415907716751, KL_LOSS: 0.11652661941349507, ACC: 0.8031484818458557   \n",
            "TEST: EPOCH 62: SSE: 0.6321776560783386, KL_LOSS: 0.11954442871809005, ACC: 0.8038139818191529\n"
          ]
        },
        {
          "output_type": "stream",
          "name": "stderr",
          "text": [
            "100%|██████████| 2500/2500 [00:24<00:00, 102.50it/s]\n",
            "100%|██████████| 625/625 [00:04<00:00, 138.04it/s]\n"
          ]
        },
        {
          "output_type": "stream",
          "name": "stdout",
          "text": [
            "TRAIN: EPOCH 63: SSE: 0.6317395915269852, KL_LOSS: 0.11664162010848522, ACC: 0.8038877310752869   \n",
            "TEST: EPOCH 63: SSE: 0.6229192549705506, KL_LOSS: 0.11597328445911408, ACC: 0.8074939805984497\n"
          ]
        },
        {
          "output_type": "stream",
          "name": "stderr",
          "text": [
            "100%|██████████| 2500/2500 [00:24<00:00, 100.04it/s]\n",
            "100%|██████████| 625/625 [00:03<00:00, 160.10it/s]\n"
          ]
        },
        {
          "output_type": "stream",
          "name": "stdout",
          "text": [
            "TRAIN: EPOCH 64: SSE: 0.6318272531151772, KL_LOSS: 0.11666317461431026, ACC: 0.8038179811239242   \n",
            "TEST: EPOCH 64: SSE: 0.6290526224136352, KL_LOSS: 0.11722398697137833, ACC: 0.8048669819831848\n"
          ]
        },
        {
          "output_type": "stream",
          "name": "stderr",
          "text": [
            "100%|██████████| 2500/2500 [00:25<00:00, 98.80it/s]\n",
            "100%|██████████| 625/625 [00:03<00:00, 172.21it/s]\n"
          ]
        },
        {
          "output_type": "stream",
          "name": "stdout",
          "text": [
            "TRAIN: EPOCH 65: SSE: 0.6297280779361725, KL_LOSS: 0.11659754391312599, ACC: 0.8044474811315536   \n",
            "TEST: EPOCH 65: SSE: 0.6235644764900208, KL_LOSS: 0.11519989544153214, ACC: 0.8061109815597535\n"
          ]
        },
        {
          "output_type": "stream",
          "name": "stderr",
          "text": [
            "100%|██████████| 2500/2500 [00:24<00:00, 100.28it/s]\n",
            "100%|██████████| 625/625 [00:03<00:00, 174.81it/s]\n"
          ]
        },
        {
          "output_type": "stream",
          "name": "stdout",
          "text": [
            "TRAIN: EPOCH 66: SSE: 0.6283803198575973, KL_LOSS: 0.11672065583467484, ACC: 0.8047724809408188   \n",
            "TEST: EPOCH 66: SSE: 0.6322458711624146, KL_LOSS: 0.11742766519784928, ACC: 0.8039669821739197\n"
          ]
        },
        {
          "output_type": "stream",
          "name": "stderr",
          "text": [
            "100%|██████████| 2500/2500 [00:25<00:00, 99.62it/s] \n",
            "100%|██████████| 625/625 [00:03<00:00, 174.99it/s]\n"
          ]
        },
        {
          "output_type": "stream",
          "name": "stdout",
          "text": [
            "TRAIN: EPOCH 67: SSE: 0.6275057754397392, KL_LOSS: 0.1167595045953989, ACC: 0.8050599811792374   \n",
            "TEST: EPOCH 67: SSE: 0.6257556488037109, KL_LOSS: 0.11570579468011856, ACC: 0.8056209803581238\n"
          ]
        },
        {
          "output_type": "stream",
          "name": "stderr",
          "text": [
            "100%|██████████| 2500/2500 [00:25<00:00, 98.11it/s] \n",
            "100%|██████████| 625/625 [00:03<00:00, 176.05it/s]\n"
          ]
        },
        {
          "output_type": "stream",
          "name": "stdout",
          "text": [
            "TRAIN: EPOCH 68: SSE: 0.6252704157471657, KL_LOSS: 0.11675542843937874, ACC: 0.8058479810237884   \n",
            "TEST: EPOCH 68: SSE: 0.6284410574913025, KL_LOSS: 0.11789172103404999, ACC: 0.8052169814109802\n"
          ]
        },
        {
          "output_type": "stream",
          "name": "stderr",
          "text": [
            "100%|██████████| 2500/2500 [00:25<00:00, 99.51it/s] \n",
            "100%|██████████| 625/625 [00:03<00:00, 171.36it/s]\n"
          ]
        },
        {
          "output_type": "stream",
          "name": "stdout",
          "text": [
            "TRAIN: EPOCH 69: SSE: 0.6249612688779831, KL_LOSS: 0.11692740949094295, ACC: 0.8059657313346863   \n",
            "TEST: EPOCH 69: SSE: 0.6221507454872132, KL_LOSS: 0.11524372462034226, ACC: 0.805762981414795\n"
          ]
        },
        {
          "output_type": "stream",
          "name": "stderr",
          "text": [
            "100%|██████████| 2500/2500 [00:25<00:00, 99.39it/s] \n",
            "100%|██████████| 625/625 [00:03<00:00, 177.90it/s]\n"
          ]
        },
        {
          "output_type": "stream",
          "name": "stdout",
          "text": [
            "TRAIN: EPOCH 70: SSE: 0.6238126917481422, KL_LOSS: 0.11686963433921337, ACC: 0.8060604811668396   \n",
            "TEST: EPOCH 70: SSE: 0.6185556183815002, KL_LOSS: 0.11795735193490982, ACC: 0.808048980808258\n"
          ]
        },
        {
          "output_type": "stream",
          "name": "stderr",
          "text": [
            "100%|██████████| 2500/2500 [00:25<00:00, 99.93it/s] \n",
            "100%|██████████| 625/625 [00:03<00:00, 173.78it/s]\n"
          ]
        },
        {
          "output_type": "stream",
          "name": "stdout",
          "text": [
            "TRAIN: EPOCH 71: SSE: 0.6221719986200333, KL_LOSS: 0.11688678766191006, ACC: 0.8063109813690186   \n",
            "TEST: EPOCH 71: SSE: 0.6121811844348908, KL_LOSS: 0.11749732018709183, ACC: 0.8094899809837341\n"
          ]
        },
        {
          "output_type": "stream",
          "name": "stderr",
          "text": [
            "100%|██████████| 2500/2500 [00:25<00:00, 99.57it/s] \n",
            "100%|██████████| 625/625 [00:03<00:00, 159.64it/s]\n"
          ]
        },
        {
          "output_type": "stream",
          "name": "stdout",
          "text": [
            "TRAIN: EPOCH 72: SSE: 0.6216951677203179, KL_LOSS: 0.11691436794698239, ACC: 0.8065844810247421   \n",
            "TEST: EPOCH 72: SSE: 0.6274884305000306, KL_LOSS: 0.11639401502609253, ACC: 0.8056129816055297\n"
          ]
        },
        {
          "output_type": "stream",
          "name": "stderr",
          "text": [
            "100%|██████████| 2500/2500 [00:24<00:00, 100.53it/s]\n",
            "100%|██████████| 625/625 [00:04<00:00, 142.01it/s]\n"
          ]
        },
        {
          "output_type": "stream",
          "name": "stdout",
          "text": [
            "TRAIN: EPOCH 73: SSE: 0.6200710716962814, KL_LOSS: 0.11687725624144077, ACC: 0.8069804811239243   \n",
            "TEST: EPOCH 73: SSE: 0.6142493158817292, KL_LOSS: 0.11536579501628876, ACC: 0.8095229804039001\n"
          ]
        },
        {
          "output_type": "stream",
          "name": "stderr",
          "text": [
            "100%|██████████| 2500/2500 [00:24<00:00, 101.69it/s]\n",
            "100%|██████████| 625/625 [00:04<00:00, 127.38it/s]\n"
          ]
        },
        {
          "output_type": "stream",
          "name": "stdout",
          "text": [
            "TRAIN: EPOCH 74: SSE: 0.6190272648215294, KL_LOSS: 0.11676805248260498, ACC: 0.8073224805355071   \n",
            "TEST: EPOCH 74: SSE: 0.6144691015243531, KL_LOSS: 0.11819208245277404, ACC: 0.8084709809303283\n"
          ]
        },
        {
          "output_type": "stream",
          "name": "stderr",
          "text": [
            "100%|██████████| 2500/2500 [00:24<00:00, 102.73it/s]\n",
            "100%|██████████| 625/625 [00:04<00:00, 130.88it/s]\n"
          ]
        },
        {
          "output_type": "stream",
          "name": "stdout",
          "text": [
            "TRAIN: EPOCH 75: SSE: 0.6172735946536064, KL_LOSS: 0.11691615612506867, ACC: 0.8077134812831879   \n",
            "TEST: EPOCH 75: SSE: 0.6148780479431152, KL_LOSS: 0.11585054163932801, ACC: 0.8082759819984436\n"
          ]
        },
        {
          "output_type": "stream",
          "name": "stderr",
          "text": [
            "100%|██████████| 2500/2500 [00:25<00:00, 98.90it/s]\n",
            "100%|██████████| 625/625 [00:04<00:00, 150.93it/s]\n"
          ]
        },
        {
          "output_type": "stream",
          "name": "stdout",
          "text": [
            "TRAIN: EPOCH 76: SSE: 0.6163380808472634, KL_LOSS: 0.11706533734202385, ACC: 0.808034480714798   \n",
            "TEST: EPOCH 76: SSE: 0.6122622131824493, KL_LOSS: 0.11788603727817536, ACC: 0.8094359807014465\n"
          ]
        },
        {
          "output_type": "stream",
          "name": "stderr",
          "text": [
            "100%|██████████| 2500/2500 [00:25<00:00, 97.03it/s] \n",
            "100%|██████████| 625/625 [00:03<00:00, 170.93it/s]\n"
          ]
        },
        {
          "output_type": "stream",
          "name": "stdout",
          "text": [
            "TRAIN: EPOCH 77: SSE: 0.6149301977276802, KL_LOSS: 0.1168828119635582, ACC: 0.8083187307119369   \n",
            "TEST: EPOCH 77: SSE: 0.6148911553382873, KL_LOSS: 0.11668104555606842, ACC: 0.8078569806098937\n"
          ]
        },
        {
          "output_type": "stream",
          "name": "stderr",
          "text": [
            "100%|██████████| 2500/2500 [00:25<00:00, 97.06it/s] \n",
            "100%|██████████| 625/625 [00:03<00:00, 167.60it/s]\n"
          ]
        },
        {
          "output_type": "stream",
          "name": "stdout",
          "text": [
            "TRAIN: EPOCH 78: SSE: 0.6138522547960281, KL_LOSS: 0.11701571427285672, ACC: 0.8087574807882308   \n",
            "TEST: EPOCH 78: SSE: 0.6227143013954163, KL_LOSS: 0.11641445434093475, ACC: 0.805732980632782\n"
          ]
        },
        {
          "output_type": "stream",
          "name": "stderr",
          "text": [
            "100%|██████████| 2500/2500 [00:25<00:00, 97.45it/s] \n",
            "100%|██████████| 625/625 [00:03<00:00, 171.07it/s]\n"
          ]
        },
        {
          "output_type": "stream",
          "name": "stdout",
          "text": [
            "TRAIN: EPOCH 79: SSE: 0.6131038857102394, KL_LOSS: 0.11696640854179859, ACC: 0.8088582318067551   \n",
            "TEST: EPOCH 79: SSE: 0.6343743365287781, KL_LOSS: 0.11752509219646454, ACC: 0.8013389821052551\n"
          ]
        },
        {
          "output_type": "stream",
          "name": "stderr",
          "text": [
            "100%|██████████| 2500/2500 [00:25<00:00, 96.67it/s] \n",
            "100%|██████████| 625/625 [00:03<00:00, 171.24it/s]\n"
          ]
        },
        {
          "output_type": "stream",
          "name": "stdout",
          "text": [
            "TRAIN: EPOCH 80: SSE: 0.6122819123864174, KL_LOSS: 0.11703064700067044, ACC: 0.8092429814338684   \n",
            "TEST: EPOCH 80: SSE: 0.607630662727356, KL_LOSS: 0.11594589298963547, ACC: 0.8113719824790955\n"
          ]
        },
        {
          "output_type": "stream",
          "name": "stderr",
          "text": [
            "100%|██████████| 2500/2500 [00:25<00:00, 98.08it/s]\n",
            "100%|██████████| 625/625 [00:03<00:00, 163.99it/s]\n"
          ]
        },
        {
          "output_type": "stream",
          "name": "stdout",
          "text": [
            "TRAIN: EPOCH 81: SSE: 0.6115778997540474, KL_LOSS: 0.11711679244935512, ACC: 0.8092534816026687   \n",
            "TEST: EPOCH 81: SSE: 0.6113002650260926, KL_LOSS: 0.11540246758460998, ACC: 0.809624979877472\n"
          ]
        },
        {
          "output_type": "stream",
          "name": "stderr",
          "text": [
            "100%|██████████| 2500/2500 [00:25<00:00, 97.91it/s] \n",
            "100%|██████████| 625/625 [00:04<00:00, 141.17it/s]\n"
          ]
        },
        {
          "output_type": "stream",
          "name": "stdout",
          "text": [
            "TRAIN: EPOCH 82: SSE: 0.6100941003918647, KL_LOSS: 0.11709222916662693, ACC: 0.8098059810161591   \n",
            "TEST: EPOCH 82: SSE: 0.602946471452713, KL_LOSS: 0.11692820888757706, ACC: 0.812160980129242\n"
          ]
        },
        {
          "output_type": "stream",
          "name": "stderr",
          "text": [
            "100%|██████████| 2500/2500 [00:25<00:00, 99.42it/s] \n",
            "100%|██████████| 625/625 [00:04<00:00, 125.49it/s]\n"
          ]
        },
        {
          "output_type": "stream",
          "name": "stdout",
          "text": [
            "TRAIN: EPOCH 83: SSE: 0.608991111433506, KL_LOSS: 0.11703199808299541, ACC: 0.8101192307949067   \n",
            "TEST: EPOCH 83: SSE: 0.6213941442489624, KL_LOSS: 0.11623374491930008, ACC: 0.8063319806098938\n"
          ]
        },
        {
          "output_type": "stream",
          "name": "stderr",
          "text": [
            "100%|██████████| 2500/2500 [00:25<00:00, 99.00it/s]\n",
            "100%|██████████| 625/625 [00:04<00:00, 142.19it/s]\n"
          ]
        },
        {
          "output_type": "stream",
          "name": "stdout",
          "text": [
            "TRAIN: EPOCH 84: SSE: 0.6081390682816505, KL_LOSS: 0.11706687515377999, ACC: 0.8103967316627503   \n",
            "TEST: EPOCH 84: SSE: 0.6028573438644409, KL_LOSS: 0.11659682074785233, ACC: 0.811552981376648\n"
          ]
        },
        {
          "output_type": "stream",
          "name": "stderr",
          "text": [
            "100%|██████████| 2500/2500 [00:25<00:00, 96.94it/s]\n",
            "100%|██████████| 625/625 [00:03<00:00, 168.02it/s]\n"
          ]
        },
        {
          "output_type": "stream",
          "name": "stdout",
          "text": [
            "TRAIN: EPOCH 85: SSE: 0.6072362722873688, KL_LOSS: 0.11708347898125648, ACC: 0.8105204813480377   \n",
            "TEST: EPOCH 85: SSE: 0.6038442438125611, KL_LOSS: 0.11714227417707443, ACC: 0.8120599813461303\n"
          ]
        },
        {
          "output_type": "stream",
          "name": "stderr",
          "text": [
            "100%|██████████| 2500/2500 [00:25<00:00, 97.29it/s] \n",
            "100%|██████████| 625/625 [00:03<00:00, 169.28it/s]\n"
          ]
        },
        {
          "output_type": "stream",
          "name": "stdout",
          "text": [
            "TRAIN: EPOCH 86: SSE: 0.6070812373876572, KL_LOSS: 0.11717338350713254, ACC: 0.8106184817075729   \n",
            "TEST: EPOCH 86: SSE: 0.6046298551082611, KL_LOSS: 0.11679863662719726, ACC: 0.8106169815063476\n"
          ]
        },
        {
          "output_type": "stream",
          "name": "stderr",
          "text": [
            "100%|██████████| 2500/2500 [00:25<00:00, 96.23it/s] \n",
            "100%|██████████| 625/625 [00:03<00:00, 168.16it/s]\n"
          ]
        },
        {
          "output_type": "stream",
          "name": "stdout",
          "text": [
            "TRAIN: EPOCH 87: SSE: 0.6059851869821549, KL_LOSS: 0.11703428862988949, ACC: 0.8110009813785553   \n",
            "TEST: EPOCH 87: SSE: 0.6013735325336457, KL_LOSS: 0.11676893094778061, ACC: 0.8117109815597534\n"
          ]
        },
        {
          "output_type": "stream",
          "name": "stderr",
          "text": [
            "100%|██████████| 2500/2500 [00:25<00:00, 98.53it/s] \n",
            "100%|██████████| 625/625 [00:03<00:00, 169.71it/s]\n"
          ]
        },
        {
          "output_type": "stream",
          "name": "stdout",
          "text": [
            "TRAIN: EPOCH 88: SSE: 0.6042182997345924, KL_LOSS: 0.11720406223237514, ACC: 0.8116437311649323   \n",
            "TEST: EPOCH 88: SSE: 0.6048448748588562, KL_LOSS: 0.11865500626564025, ACC: 0.8107849817276\n"
          ]
        },
        {
          "output_type": "stream",
          "name": "stderr",
          "text": [
            "100%|██████████| 2500/2500 [00:25<00:00, 97.11it/s] \n",
            "100%|██████████| 625/625 [00:03<00:00, 167.70it/s]\n"
          ]
        },
        {
          "output_type": "stream",
          "name": "stdout",
          "text": [
            "TRAIN: EPOCH 89: SSE: 0.6043081852078438, KL_LOSS: 0.11716388656198978, ACC: 0.8115697306632995   \n",
            "TEST: EPOCH 89: SSE: 0.5989034048080444, KL_LOSS: 0.11647504591941833, ACC: 0.8138629817962646\n"
          ]
        },
        {
          "output_type": "stream",
          "name": "stderr",
          "text": [
            "100%|██████████| 2500/2500 [00:26<00:00, 95.83it/s] \n",
            "100%|██████████| 625/625 [00:04<00:00, 141.82it/s]\n"
          ]
        },
        {
          "output_type": "stream",
          "name": "stdout",
          "text": [
            "TRAIN: EPOCH 90: SSE: 0.6037131248474121, KL_LOSS: 0.1171868954628706, ACC: 0.8118107311487198   \n",
            "TEST: EPOCH 90: SSE: 0.6204586577415466, KL_LOSS: 0.1184281340122223, ACC: 0.8064729804039001\n"
          ]
        },
        {
          "output_type": "stream",
          "name": "stderr",
          "text": [
            "100%|██████████| 2500/2500 [00:25<00:00, 99.40it/s] \n",
            "100%|██████████| 625/625 [00:05<00:00, 124.13it/s]\n"
          ]
        },
        {
          "output_type": "stream",
          "name": "stdout",
          "text": [
            "TRAIN: EPOCH 91: SSE: 0.6025799540996551, KL_LOSS: 0.11712534169852734, ACC: 0.8120907314300537   \n",
            "TEST: EPOCH 91: SSE: 0.6001993793487549, KL_LOSS: 0.11679884657859803, ACC: 0.8121789807319642\n"
          ]
        },
        {
          "output_type": "stream",
          "name": "stderr",
          "text": [
            "100%|██████████| 2500/2500 [00:25<00:00, 98.65it/s]\n",
            "100%|██████████| 625/625 [00:04<00:00, 141.61it/s]\n"
          ]
        },
        {
          "output_type": "stream",
          "name": "stdout",
          "text": [
            "TRAIN: EPOCH 92: SSE: 0.6024697159171104, KL_LOSS: 0.1171352532029152, ACC: 0.8121949813365936   \n",
            "TEST: EPOCH 92: SSE: 0.6157246738433838, KL_LOSS: 0.11771498396396637, ACC: 0.8085089817047119\n"
          ]
        },
        {
          "output_type": "stream",
          "name": "stderr",
          "text": [
            "100%|██████████| 2500/2500 [00:25<00:00, 97.46it/s]\n",
            "100%|██████████| 625/625 [00:03<00:00, 169.50it/s]\n"
          ]
        },
        {
          "output_type": "stream",
          "name": "stdout",
          "text": [
            "TRAIN: EPOCH 93: SSE: 0.6016265895009041, KL_LOSS: 0.11719986858963967, ACC: 0.8125704812526703   \n",
            "TEST: EPOCH 93: SSE: 0.6018652724266053, KL_LOSS: 0.11647849552631379, ACC: 0.8121919811248779\n"
          ]
        },
        {
          "output_type": "stream",
          "name": "stderr",
          "text": [
            "100%|██████████| 2500/2500 [00:25<00:00, 97.79it/s] \n",
            "100%|██████████| 625/625 [00:03<00:00, 172.15it/s]\n"
          ]
        },
        {
          "output_type": "stream",
          "name": "stdout",
          "text": [
            "TRAIN: EPOCH 94: SSE: 0.6008564864873887, KL_LOSS: 0.11709973154962063, ACC: 0.812729981136322   \n",
            "TEST: EPOCH 94: SSE: 0.612155260181427, KL_LOSS: 0.11695669375658035, ACC: 0.8084549820899963\n"
          ]
        },
        {
          "output_type": "stream",
          "name": "stderr",
          "text": [
            "100%|██████████| 2500/2500 [00:25<00:00, 98.13it/s] \n",
            "100%|██████████| 625/625 [00:03<00:00, 173.53it/s]\n"
          ]
        },
        {
          "output_type": "stream",
          "name": "stdout",
          "text": [
            "TRAIN: EPOCH 95: SSE: 0.599756815636158, KL_LOSS: 0.11720977382957935, ACC: 0.8128664811611176   \n",
            "TEST: EPOCH 95: SSE: 0.5991219827651978, KL_LOSS: 0.11817963800430298, ACC: 0.8126069814682007\n"
          ]
        },
        {
          "output_type": "stream",
          "name": "stderr",
          "text": [
            "100%|██████████| 2500/2500 [00:25<00:00, 97.06it/s]\n",
            "100%|██████████| 625/625 [00:03<00:00, 165.96it/s]\n"
          ]
        },
        {
          "output_type": "stream",
          "name": "stdout",
          "text": [
            "TRAIN: EPOCH 96: SSE: 0.5988728234171867, KL_LOSS: 0.1172390012025833, ACC: 0.8132567316770554   \n",
            "TEST: EPOCH 96: SSE: 0.6046705497741699, KL_LOSS: 0.11901417447328567, ACC: 0.8112999816894532\n"
          ]
        },
        {
          "output_type": "stream",
          "name": "stderr",
          "text": [
            "100%|██████████| 2500/2500 [00:25<00:00, 98.82it/s] \n",
            "100%|██████████| 625/625 [00:03<00:00, 173.13it/s]\n"
          ]
        },
        {
          "output_type": "stream",
          "name": "stdout",
          "text": [
            "TRAIN: EPOCH 97: SSE: 0.5986001903891564, KL_LOSS: 0.11718855932354927, ACC: 0.813389230465889   \n",
            "TEST: EPOCH 97: SSE: 0.6020316452026367, KL_LOSS: 0.1171969602227211, ACC: 0.8120879807472229\n"
          ]
        },
        {
          "output_type": "stream",
          "name": "stderr",
          "text": [
            "100%|██████████| 2500/2500 [00:25<00:00, 97.01it/s] \n",
            "100%|██████████| 625/625 [00:04<00:00, 154.84it/s]\n"
          ]
        },
        {
          "output_type": "stream",
          "name": "stdout",
          "text": [
            "TRAIN: EPOCH 98: SSE: 0.5966527721047401, KL_LOSS: 0.11717203666865826, ACC: 0.8136819811344147   \n",
            "TEST: EPOCH 98: SSE: 0.590332763671875, KL_LOSS: 0.11704137345552444, ACC: 0.8149979801177979\n"
          ]
        },
        {
          "output_type": "stream",
          "name": "stderr",
          "text": [
            "100%|██████████| 2500/2500 [00:25<00:00, 98.23it/s] \n",
            "100%|██████████| 625/625 [00:04<00:00, 130.89it/s]"
          ]
        },
        {
          "output_type": "stream",
          "name": "stdout",
          "text": [
            "TRAIN: EPOCH 99: SSE: 0.5967556195020676, KL_LOSS: 0.11728634235560895, ACC: 0.8137077312707901   \n",
            "TEST: EPOCH 99: SSE: 0.6018684244155884, KL_LOSS: 0.11682128728628159, ACC: 0.8115099796295167\n"
          ]
        },
        {
          "output_type": "stream",
          "name": "stderr",
          "text": [
            "\n"
          ]
        }
      ]
    },
    {
      "cell_type": "code",
      "source": [
        "x_hat[0].argmax(-1)"
      ],
      "metadata": {
        "colab": {
          "base_uri": "https://localhost:8080/"
        },
        "id": "sSvgeGEIejwY",
        "outputId": "b3de630c-7f55-4b14-84b0-f2702917691e"
      },
      "execution_count": 39,
      "outputs": [
        {
          "output_type": "execute_result",
          "data": {
            "text/plain": [
              "tensor([67, 99, 49, 99, 99, 40, 67, 41, 99, 99, 40, 45, 99, 49, 99, 99, 40, 45,\n",
              "        99, 50, 99, 99, 99, 40, 99, 41, 99, 99, 99, 41, 99, 99, 99, 41, 40, 50,\n",
              "        41, 99, 49,  0,  0,  0,  0,  0,  0,  0,  0,  0,  0,  0],\n",
              "       device='cuda:0')"
            ]
          },
          "metadata": {},
          "execution_count": 39
        }
      ]
    },
    {
      "cell_type": "code",
      "source": [
        "x[0]"
      ],
      "metadata": {
        "colab": {
          "base_uri": "https://localhost:8080/"
        },
        "id": "Ut3NZEuKqZV9",
        "outputId": "dcddf515-28fa-42bb-a4cf-6bc1f1732cf5"
      },
      "execution_count": 41,
      "outputs": [
        {
          "output_type": "execute_result",
          "data": {
            "text/plain": [
              "tensor([ 67,  99,  49,  99,  99,  40,  67,  41, 110,  99,  40,  78,  99,  50,\n",
              "        110,  99,  40,  45,  99,  51,  99,  99,  99,  40,  78,  41,  99,  99,\n",
              "         51,  41, 110,  91, 110,  72,  93,  50,  41, 110,  49,   0,   0,   0,\n",
              "          0,   0,   0,   0,   0,   0,   0,   0], device='cuda:0')"
            ]
          },
          "metadata": {},
          "execution_count": 41
        }
      ]
    }
  ]
}