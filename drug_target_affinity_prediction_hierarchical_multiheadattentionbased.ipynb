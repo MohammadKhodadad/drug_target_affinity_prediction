{
  "cells": [
    {
      "cell_type": "code",
      "execution_count": 1,
      "metadata": {
        "colab": {
          "base_uri": "https://localhost:8080/",
          "height": 959
        },
        "id": "CEa14-K0_4bQ",
        "outputId": "b3783ad6-bfc1-467d-b895-31fcc7c74d23"
      },
      "outputs": [
        {
          "output_type": "stream",
          "name": "stdout",
          "text": [
            "Collecting PyTDC\n",
            "  Downloading PyTDC-0.4.1.tar.gz (107 kB)\n",
            "\u001b[?25l     \u001b[90m━━━━━━━━━━━━━━━━━━━━━━━━━━━━━━━━━━━━━━━━\u001b[0m \u001b[32m0.0/107.7 kB\u001b[0m \u001b[31m?\u001b[0m eta \u001b[36m-:--:--\u001b[0m\r\u001b[2K     \u001b[90m━━━━━━━━━━━━━━━━━━━━━━━━━━━━━━━━━━━━━━━━\u001b[0m \u001b[32m107.7/107.7 kB\u001b[0m \u001b[31m3.3 MB/s\u001b[0m eta \u001b[36m0:00:00\u001b[0m\n",
            "\u001b[?25h  Preparing metadata (setup.py) ... \u001b[?25l\u001b[?25hdone\n",
            "Collecting rdkit-pypi (from PyTDC)\n",
            "  Downloading rdkit_pypi-2022.9.5-cp310-cp310-manylinux_2_17_x86_64.manylinux2014_x86_64.whl (29.4 MB)\n",
            "\u001b[2K     \u001b[90m━━━━━━━━━━━━━━━━━━━━━━━━━━━━━━━━━━━━━━━━\u001b[0m \u001b[32m29.4/29.4 MB\u001b[0m \u001b[31m39.8 MB/s\u001b[0m eta \u001b[36m0:00:00\u001b[0m\n",
            "\u001b[?25hCollecting fuzzywuzzy (from PyTDC)\n",
            "  Downloading fuzzywuzzy-0.18.0-py2.py3-none-any.whl (18 kB)\n",
            "Requirement already satisfied: numpy in /usr/local/lib/python3.10/dist-packages (from PyTDC) (1.23.5)\n",
            "Requirement already satisfied: pandas in /usr/local/lib/python3.10/dist-packages (from PyTDC) (1.5.3)\n",
            "Requirement already satisfied: tqdm in /usr/local/lib/python3.10/dist-packages (from PyTDC) (4.66.1)\n",
            "Requirement already satisfied: scikit-learn in /usr/local/lib/python3.10/dist-packages (from PyTDC) (1.2.2)\n",
            "Requirement already satisfied: seaborn in /usr/local/lib/python3.10/dist-packages (from PyTDC) (0.12.2)\n",
            "Requirement already satisfied: requests in /usr/local/lib/python3.10/dist-packages (from PyTDC) (2.31.0)\n",
            "Requirement already satisfied: huggingface_hub in /usr/local/lib/python3.10/dist-packages (from PyTDC) (0.19.4)\n",
            "Collecting dataclasses (from PyTDC)\n",
            "  Downloading dataclasses-0.6-py3-none-any.whl (14 kB)\n",
            "Requirement already satisfied: filelock in /usr/local/lib/python3.10/dist-packages (from huggingface_hub->PyTDC) (3.13.1)\n",
            "Requirement already satisfied: fsspec>=2023.5.0 in /usr/local/lib/python3.10/dist-packages (from huggingface_hub->PyTDC) (2023.6.0)\n",
            "Requirement already satisfied: pyyaml>=5.1 in /usr/local/lib/python3.10/dist-packages (from huggingface_hub->PyTDC) (6.0.1)\n",
            "Requirement already satisfied: typing-extensions>=3.7.4.3 in /usr/local/lib/python3.10/dist-packages (from huggingface_hub->PyTDC) (4.5.0)\n",
            "Requirement already satisfied: packaging>=20.9 in /usr/local/lib/python3.10/dist-packages (from huggingface_hub->PyTDC) (23.2)\n",
            "Requirement already satisfied: python-dateutil>=2.8.1 in /usr/local/lib/python3.10/dist-packages (from pandas->PyTDC) (2.8.2)\n",
            "Requirement already satisfied: pytz>=2020.1 in /usr/local/lib/python3.10/dist-packages (from pandas->PyTDC) (2023.3.post1)\n",
            "Requirement already satisfied: Pillow in /usr/local/lib/python3.10/dist-packages (from rdkit-pypi->PyTDC) (9.4.0)\n",
            "Requirement already satisfied: charset-normalizer<4,>=2 in /usr/local/lib/python3.10/dist-packages (from requests->PyTDC) (3.3.2)\n",
            "Requirement already satisfied: idna<4,>=2.5 in /usr/local/lib/python3.10/dist-packages (from requests->PyTDC) (3.6)\n",
            "Requirement already satisfied: urllib3<3,>=1.21.1 in /usr/local/lib/python3.10/dist-packages (from requests->PyTDC) (2.0.7)\n",
            "Requirement already satisfied: certifi>=2017.4.17 in /usr/local/lib/python3.10/dist-packages (from requests->PyTDC) (2023.11.17)\n",
            "Requirement already satisfied: scipy>=1.3.2 in /usr/local/lib/python3.10/dist-packages (from scikit-learn->PyTDC) (1.11.4)\n",
            "Requirement already satisfied: joblib>=1.1.1 in /usr/local/lib/python3.10/dist-packages (from scikit-learn->PyTDC) (1.3.2)\n",
            "Requirement already satisfied: threadpoolctl>=2.0.0 in /usr/local/lib/python3.10/dist-packages (from scikit-learn->PyTDC) (3.2.0)\n",
            "Requirement already satisfied: matplotlib!=3.6.1,>=3.1 in /usr/local/lib/python3.10/dist-packages (from seaborn->PyTDC) (3.7.1)\n",
            "Requirement already satisfied: contourpy>=1.0.1 in /usr/local/lib/python3.10/dist-packages (from matplotlib!=3.6.1,>=3.1->seaborn->PyTDC) (1.2.0)\n",
            "Requirement already satisfied: cycler>=0.10 in /usr/local/lib/python3.10/dist-packages (from matplotlib!=3.6.1,>=3.1->seaborn->PyTDC) (0.12.1)\n",
            "Requirement already satisfied: fonttools>=4.22.0 in /usr/local/lib/python3.10/dist-packages (from matplotlib!=3.6.1,>=3.1->seaborn->PyTDC) (4.45.1)\n",
            "Requirement already satisfied: kiwisolver>=1.0.1 in /usr/local/lib/python3.10/dist-packages (from matplotlib!=3.6.1,>=3.1->seaborn->PyTDC) (1.4.5)\n",
            "Requirement already satisfied: pyparsing>=2.3.1 in /usr/local/lib/python3.10/dist-packages (from matplotlib!=3.6.1,>=3.1->seaborn->PyTDC) (3.1.1)\n",
            "Requirement already satisfied: six>=1.5 in /usr/local/lib/python3.10/dist-packages (from python-dateutil>=2.8.1->pandas->PyTDC) (1.16.0)\n",
            "Building wheels for collected packages: PyTDC\n",
            "  Building wheel for PyTDC (setup.py) ... \u001b[?25l\u001b[?25hdone\n",
            "  Created wheel for PyTDC: filename=PyTDC-0.4.1-py3-none-any.whl size=140644 sha256=37af6acc5e2275ff51b273a704f9169ba138c4059a22689d9f43379da596ebf7\n",
            "  Stored in directory: /root/.cache/pip/wheels/14/b7/b8/9d9e1442129743359b0507234ccc0beb67b47173faccd57d54\n",
            "Successfully built PyTDC\n",
            "Installing collected packages: fuzzywuzzy, dataclasses, rdkit-pypi, PyTDC\n",
            "Successfully installed PyTDC-0.4.1 dataclasses-0.6 fuzzywuzzy-0.18.0 rdkit-pypi-2022.9.5\n"
          ]
        },
        {
          "output_type": "display_data",
          "data": {
            "application/vnd.colab-display-data+json": {
              "pip_warning": {
                "packages": [
                  "dataclasses"
                ]
              }
            }
          },
          "metadata": {}
        }
      ],
      "source": [
        "!pip install PyTDC"
      ]
    },
    {
      "cell_type": "code",
      "execution_count": 2,
      "metadata": {
        "id": "PaSFOc7BAtSc"
      },
      "outputs": [],
      "source": [
        "import tqdm\n",
        "import numpy as np\n",
        "import pandas as pd\n",
        "import plotly.express as px\n",
        "from tdc.multi_pred import DTI\n",
        "import plotly.figure_factory as ff\n",
        "\n",
        "import torch\n",
        "import torch.nn as nn\n",
        "import torch.nn.functional as F\n",
        "from torch.utils.data import Dataset, DataLoader\n",
        "from sklearn.metrics import accuracy_score, precision_recall_fscore_support"
      ]
    },
    {
      "cell_type": "code",
      "execution_count": null,
      "metadata": {
        "colab": {
          "base_uri": "https://localhost:8080/"
        },
        "id": "eI5aPCcx_o42",
        "outputId": "c82630a2-0abf-4eb5-cb56-2826b7f39bcc"
      },
      "outputs": [
        {
          "output_type": "stream",
          "name": "stderr",
          "text": [
            "Downloading...\n",
            "  8%|▊         | 1.60M/21.4M [00:00<00:03, 5.42MiB/s]"
          ]
        }
      ],
      "source": [
        "data = DTI(name = 'Davis')\n",
        "split = data.get_split()"
      ]
    },
    {
      "cell_type": "markdown",
      "metadata": {
        "id": "T3TLl-kYve4m"
      },
      "source": [
        "## Data Provision"
      ]
    },
    {
      "cell_type": "code",
      "execution_count": null,
      "metadata": {
        "id": "hp1b0qS5_va9"
      },
      "outputs": [],
      "source": [
        "new_data=data.get_data()\n",
        "# new_data['weights']=1/new_data['Y']\n",
        "# new_data=new_data.sample(frac=0.5,weights='weights')\n",
        "y_max=new_data['Y'].max()\n",
        "y_min=new_data['Y'].min()\n",
        "new_data['Y']=(new_data['Y']-y_min)/(y_max-y_min)\n",
        "# new_data['Y']=-np.log10(new_data['Y']/1e9)\n",
        "new_data=new_data.sample(frac=1)\n",
        "new_data=new_data.reset_index(drop=True)"
      ]
    },
    {
      "cell_type": "markdown",
      "metadata": {
        "id": "S7MM7TgE55Cx"
      },
      "source": [
        "## Some basic Analysis"
      ]
    },
    {
      "cell_type": "code",
      "execution_count": null,
      "metadata": {
        "colab": {
          "base_uri": "https://localhost:8080/",
          "height": 300
        },
        "id": "ZjQ4b6zg_wWC",
        "outputId": "4f426a0b-5e33-4be8-948e-26604588b7f0"
      },
      "outputs": [
        {
          "output_type": "execute_result",
          "data": {
            "text/plain": [
              "             Drug_l      Target_l             Y\n",
              "count  25772.000000  25772.000000  25772.000000\n",
              "mean      54.176471    744.849604      0.755811\n",
              "std       10.962637    372.813592      0.399002\n",
              "min       32.000000    244.000000      0.000000\n",
              "25%       45.000000    479.000000      0.377499\n",
              "50%       53.000000    632.000000      1.000000\n",
              "75%       61.250000    954.000000      1.000000\n",
              "max       81.000000   2549.000000      1.000000"
            ],
            "text/html": [
              "\n",
              "  <div id=\"df-06a99035-6f01-4bd5-b456-f76e70829380\" class=\"colab-df-container\">\n",
              "    <div>\n",
              "<style scoped>\n",
              "    .dataframe tbody tr th:only-of-type {\n",
              "        vertical-align: middle;\n",
              "    }\n",
              "\n",
              "    .dataframe tbody tr th {\n",
              "        vertical-align: top;\n",
              "    }\n",
              "\n",
              "    .dataframe thead th {\n",
              "        text-align: right;\n",
              "    }\n",
              "</style>\n",
              "<table border=\"1\" class=\"dataframe\">\n",
              "  <thead>\n",
              "    <tr style=\"text-align: right;\">\n",
              "      <th></th>\n",
              "      <th>Drug_l</th>\n",
              "      <th>Target_l</th>\n",
              "      <th>Y</th>\n",
              "    </tr>\n",
              "  </thead>\n",
              "  <tbody>\n",
              "    <tr>\n",
              "      <th>count</th>\n",
              "      <td>25772.000000</td>\n",
              "      <td>25772.000000</td>\n",
              "      <td>25772.000000</td>\n",
              "    </tr>\n",
              "    <tr>\n",
              "      <th>mean</th>\n",
              "      <td>54.176471</td>\n",
              "      <td>744.849604</td>\n",
              "      <td>0.755811</td>\n",
              "    </tr>\n",
              "    <tr>\n",
              "      <th>std</th>\n",
              "      <td>10.962637</td>\n",
              "      <td>372.813592</td>\n",
              "      <td>0.399002</td>\n",
              "    </tr>\n",
              "    <tr>\n",
              "      <th>min</th>\n",
              "      <td>32.000000</td>\n",
              "      <td>244.000000</td>\n",
              "      <td>0.000000</td>\n",
              "    </tr>\n",
              "    <tr>\n",
              "      <th>25%</th>\n",
              "      <td>45.000000</td>\n",
              "      <td>479.000000</td>\n",
              "      <td>0.377499</td>\n",
              "    </tr>\n",
              "    <tr>\n",
              "      <th>50%</th>\n",
              "      <td>53.000000</td>\n",
              "      <td>632.000000</td>\n",
              "      <td>1.000000</td>\n",
              "    </tr>\n",
              "    <tr>\n",
              "      <th>75%</th>\n",
              "      <td>61.250000</td>\n",
              "      <td>954.000000</td>\n",
              "      <td>1.000000</td>\n",
              "    </tr>\n",
              "    <tr>\n",
              "      <th>max</th>\n",
              "      <td>81.000000</td>\n",
              "      <td>2549.000000</td>\n",
              "      <td>1.000000</td>\n",
              "    </tr>\n",
              "  </tbody>\n",
              "</table>\n",
              "</div>\n",
              "    <div class=\"colab-df-buttons\">\n",
              "\n",
              "  <div class=\"colab-df-container\">\n",
              "    <button class=\"colab-df-convert\" onclick=\"convertToInteractive('df-06a99035-6f01-4bd5-b456-f76e70829380')\"\n",
              "            title=\"Convert this dataframe to an interactive table.\"\n",
              "            style=\"display:none;\">\n",
              "\n",
              "  <svg xmlns=\"http://www.w3.org/2000/svg\" height=\"24px\" viewBox=\"0 -960 960 960\">\n",
              "    <path d=\"M120-120v-720h720v720H120Zm60-500h600v-160H180v160Zm220 220h160v-160H400v160Zm0 220h160v-160H400v160ZM180-400h160v-160H180v160Zm440 0h160v-160H620v160ZM180-180h160v-160H180v160Zm440 0h160v-160H620v160Z\"/>\n",
              "  </svg>\n",
              "    </button>\n",
              "\n",
              "  <style>\n",
              "    .colab-df-container {\n",
              "      display:flex;\n",
              "      gap: 12px;\n",
              "    }\n",
              "\n",
              "    .colab-df-convert {\n",
              "      background-color: #E8F0FE;\n",
              "      border: none;\n",
              "      border-radius: 50%;\n",
              "      cursor: pointer;\n",
              "      display: none;\n",
              "      fill: #1967D2;\n",
              "      height: 32px;\n",
              "      padding: 0 0 0 0;\n",
              "      width: 32px;\n",
              "    }\n",
              "\n",
              "    .colab-df-convert:hover {\n",
              "      background-color: #E2EBFA;\n",
              "      box-shadow: 0px 1px 2px rgba(60, 64, 67, 0.3), 0px 1px 3px 1px rgba(60, 64, 67, 0.15);\n",
              "      fill: #174EA6;\n",
              "    }\n",
              "\n",
              "    .colab-df-buttons div {\n",
              "      margin-bottom: 4px;\n",
              "    }\n",
              "\n",
              "    [theme=dark] .colab-df-convert {\n",
              "      background-color: #3B4455;\n",
              "      fill: #D2E3FC;\n",
              "    }\n",
              "\n",
              "    [theme=dark] .colab-df-convert:hover {\n",
              "      background-color: #434B5C;\n",
              "      box-shadow: 0px 1px 3px 1px rgba(0, 0, 0, 0.15);\n",
              "      filter: drop-shadow(0px 1px 2px rgba(0, 0, 0, 0.3));\n",
              "      fill: #FFFFFF;\n",
              "    }\n",
              "  </style>\n",
              "\n",
              "    <script>\n",
              "      const buttonEl =\n",
              "        document.querySelector('#df-06a99035-6f01-4bd5-b456-f76e70829380 button.colab-df-convert');\n",
              "      buttonEl.style.display =\n",
              "        google.colab.kernel.accessAllowed ? 'block' : 'none';\n",
              "\n",
              "      async function convertToInteractive(key) {\n",
              "        const element = document.querySelector('#df-06a99035-6f01-4bd5-b456-f76e70829380');\n",
              "        const dataTable =\n",
              "          await google.colab.kernel.invokeFunction('convertToInteractive',\n",
              "                                                    [key], {});\n",
              "        if (!dataTable) return;\n",
              "\n",
              "        const docLinkHtml = 'Like what you see? Visit the ' +\n",
              "          '<a target=\"_blank\" href=https://colab.research.google.com/notebooks/data_table.ipynb>data table notebook</a>'\n",
              "          + ' to learn more about interactive tables.';\n",
              "        element.innerHTML = '';\n",
              "        dataTable['output_type'] = 'display_data';\n",
              "        await google.colab.output.renderOutput(dataTable, element);\n",
              "        const docLink = document.createElement('div');\n",
              "        docLink.innerHTML = docLinkHtml;\n",
              "        element.appendChild(docLink);\n",
              "      }\n",
              "    </script>\n",
              "  </div>\n",
              "\n",
              "\n",
              "<div id=\"df-72de9134-ed22-407d-b32c-23c905718c1d\">\n",
              "  <button class=\"colab-df-quickchart\" onclick=\"quickchart('df-72de9134-ed22-407d-b32c-23c905718c1d')\"\n",
              "            title=\"Suggest charts\"\n",
              "            style=\"display:none;\">\n",
              "\n",
              "<svg xmlns=\"http://www.w3.org/2000/svg\" height=\"24px\"viewBox=\"0 0 24 24\"\n",
              "     width=\"24px\">\n",
              "    <g>\n",
              "        <path d=\"M19 3H5c-1.1 0-2 .9-2 2v14c0 1.1.9 2 2 2h14c1.1 0 2-.9 2-2V5c0-1.1-.9-2-2-2zM9 17H7v-7h2v7zm4 0h-2V7h2v10zm4 0h-2v-4h2v4z\"/>\n",
              "    </g>\n",
              "</svg>\n",
              "  </button>\n",
              "\n",
              "<style>\n",
              "  .colab-df-quickchart {\n",
              "      --bg-color: #E8F0FE;\n",
              "      --fill-color: #1967D2;\n",
              "      --hover-bg-color: #E2EBFA;\n",
              "      --hover-fill-color: #174EA6;\n",
              "      --disabled-fill-color: #AAA;\n",
              "      --disabled-bg-color: #DDD;\n",
              "  }\n",
              "\n",
              "  [theme=dark] .colab-df-quickchart {\n",
              "      --bg-color: #3B4455;\n",
              "      --fill-color: #D2E3FC;\n",
              "      --hover-bg-color: #434B5C;\n",
              "      --hover-fill-color: #FFFFFF;\n",
              "      --disabled-bg-color: #3B4455;\n",
              "      --disabled-fill-color: #666;\n",
              "  }\n",
              "\n",
              "  .colab-df-quickchart {\n",
              "    background-color: var(--bg-color);\n",
              "    border: none;\n",
              "    border-radius: 50%;\n",
              "    cursor: pointer;\n",
              "    display: none;\n",
              "    fill: var(--fill-color);\n",
              "    height: 32px;\n",
              "    padding: 0;\n",
              "    width: 32px;\n",
              "  }\n",
              "\n",
              "  .colab-df-quickchart:hover {\n",
              "    background-color: var(--hover-bg-color);\n",
              "    box-shadow: 0 1px 2px rgba(60, 64, 67, 0.3), 0 1px 3px 1px rgba(60, 64, 67, 0.15);\n",
              "    fill: var(--button-hover-fill-color);\n",
              "  }\n",
              "\n",
              "  .colab-df-quickchart-complete:disabled,\n",
              "  .colab-df-quickchart-complete:disabled:hover {\n",
              "    background-color: var(--disabled-bg-color);\n",
              "    fill: var(--disabled-fill-color);\n",
              "    box-shadow: none;\n",
              "  }\n",
              "\n",
              "  .colab-df-spinner {\n",
              "    border: 2px solid var(--fill-color);\n",
              "    border-color: transparent;\n",
              "    border-bottom-color: var(--fill-color);\n",
              "    animation:\n",
              "      spin 1s steps(1) infinite;\n",
              "  }\n",
              "\n",
              "  @keyframes spin {\n",
              "    0% {\n",
              "      border-color: transparent;\n",
              "      border-bottom-color: var(--fill-color);\n",
              "      border-left-color: var(--fill-color);\n",
              "    }\n",
              "    20% {\n",
              "      border-color: transparent;\n",
              "      border-left-color: var(--fill-color);\n",
              "      border-top-color: var(--fill-color);\n",
              "    }\n",
              "    30% {\n",
              "      border-color: transparent;\n",
              "      border-left-color: var(--fill-color);\n",
              "      border-top-color: var(--fill-color);\n",
              "      border-right-color: var(--fill-color);\n",
              "    }\n",
              "    40% {\n",
              "      border-color: transparent;\n",
              "      border-right-color: var(--fill-color);\n",
              "      border-top-color: var(--fill-color);\n",
              "    }\n",
              "    60% {\n",
              "      border-color: transparent;\n",
              "      border-right-color: var(--fill-color);\n",
              "    }\n",
              "    80% {\n",
              "      border-color: transparent;\n",
              "      border-right-color: var(--fill-color);\n",
              "      border-bottom-color: var(--fill-color);\n",
              "    }\n",
              "    90% {\n",
              "      border-color: transparent;\n",
              "      border-bottom-color: var(--fill-color);\n",
              "    }\n",
              "  }\n",
              "</style>\n",
              "\n",
              "  <script>\n",
              "    async function quickchart(key) {\n",
              "      const quickchartButtonEl =\n",
              "        document.querySelector('#' + key + ' button');\n",
              "      quickchartButtonEl.disabled = true;  // To prevent multiple clicks.\n",
              "      quickchartButtonEl.classList.add('colab-df-spinner');\n",
              "      try {\n",
              "        const charts = await google.colab.kernel.invokeFunction(\n",
              "            'suggestCharts', [key], {});\n",
              "      } catch (error) {\n",
              "        console.error('Error during call to suggestCharts:', error);\n",
              "      }\n",
              "      quickchartButtonEl.classList.remove('colab-df-spinner');\n",
              "      quickchartButtonEl.classList.add('colab-df-quickchart-complete');\n",
              "    }\n",
              "    (() => {\n",
              "      let quickchartButtonEl =\n",
              "        document.querySelector('#df-72de9134-ed22-407d-b32c-23c905718c1d button');\n",
              "      quickchartButtonEl.style.display =\n",
              "        google.colab.kernel.accessAllowed ? 'block' : 'none';\n",
              "    })();\n",
              "  </script>\n",
              "</div>\n",
              "    </div>\n",
              "  </div>\n"
            ]
          },
          "metadata": {},
          "execution_count": 6
        }
      ],
      "source": [
        "new_data['Drug_l']=new_data.Drug.apply(len)\n",
        "new_data['Target_l']=new_data.Target.apply(len)\n",
        "new_data[['Drug_l','Target_l','Y']].describe()"
      ]
    },
    {
      "cell_type": "code",
      "execution_count": null,
      "metadata": {
        "colab": {
          "base_uri": "https://localhost:8080/",
          "height": 206
        },
        "id": "QPbc8LXjux20",
        "outputId": "abae11fc-80db-4e03-a9e8-117619f42aff"
      },
      "outputs": [
        {
          "output_type": "execute_result",
          "data": {
            "text/plain": [
              "                                                    Drug  \\\n",
              "25767   Cc1cc2c(F)c(Oc3ncnn4cc(OCC(C)O)c(C)c34)ccc2[nH]1   \n",
              "25768  Cc1[nH]c(C=C2C(=O)Nc3ccc(F)cc32)c(C)c1C(=O)NCC...   \n",
              "25769          O=C(NOCC1CC1)c1ccc(F)c(F)c1Nc1ccc(I)cc1Cl   \n",
              "25770     Nc1nc(N)c2nc(-c3cccc(O)c3)c(-c3cccc(O)c3)nc2n1   \n",
              "25771  Cc1nc(Nc2ncc(C(=O)Nc3c(C)cccc3Cl)s2)cc(N2CCN(C...   \n",
              "\n",
              "                                                  Target  \n",
              "25767  MTAVYMNGGGLVNPHYARWDRRDSVESGCQTESSKEGEEGQPRQLT...  \n",
              "25768  MHTGGETSACKPSSVRLAPSFSFHAAGLQMAGQMPHSHQYSDRRQP...  \n",
              "25769  MELQAARACFALLWGCALAAAAAAQGKEVVLLDFAAAGGELGWLTH...  \n",
              "25770  MFQASMRSPNMEPFKQQKVEDFYDIGEELGSGQFAIVKKCREKSTG...  \n",
              "25771  MVDMGALDNLIANTAYLQARKPSDCDSKELQRRRRSLALPGLQGCA...  "
            ],
            "text/html": [
              "\n",
              "  <div id=\"df-00a1ae07-9de4-444a-b45e-c759a02fbe89\" class=\"colab-df-container\">\n",
              "    <div>\n",
              "<style scoped>\n",
              "    .dataframe tbody tr th:only-of-type {\n",
              "        vertical-align: middle;\n",
              "    }\n",
              "\n",
              "    .dataframe tbody tr th {\n",
              "        vertical-align: top;\n",
              "    }\n",
              "\n",
              "    .dataframe thead th {\n",
              "        text-align: right;\n",
              "    }\n",
              "</style>\n",
              "<table border=\"1\" class=\"dataframe\">\n",
              "  <thead>\n",
              "    <tr style=\"text-align: right;\">\n",
              "      <th></th>\n",
              "      <th>Drug</th>\n",
              "      <th>Target</th>\n",
              "    </tr>\n",
              "  </thead>\n",
              "  <tbody>\n",
              "    <tr>\n",
              "      <th>25767</th>\n",
              "      <td>Cc1cc2c(F)c(Oc3ncnn4cc(OCC(C)O)c(C)c34)ccc2[nH]1</td>\n",
              "      <td>MTAVYMNGGGLVNPHYARWDRRDSVESGCQTESSKEGEEGQPRQLT...</td>\n",
              "    </tr>\n",
              "    <tr>\n",
              "      <th>25768</th>\n",
              "      <td>Cc1[nH]c(C=C2C(=O)Nc3ccc(F)cc32)c(C)c1C(=O)NCC...</td>\n",
              "      <td>MHTGGETSACKPSSVRLAPSFSFHAAGLQMAGQMPHSHQYSDRRQP...</td>\n",
              "    </tr>\n",
              "    <tr>\n",
              "      <th>25769</th>\n",
              "      <td>O=C(NOCC1CC1)c1ccc(F)c(F)c1Nc1ccc(I)cc1Cl</td>\n",
              "      <td>MELQAARACFALLWGCALAAAAAAQGKEVVLLDFAAAGGELGWLTH...</td>\n",
              "    </tr>\n",
              "    <tr>\n",
              "      <th>25770</th>\n",
              "      <td>Nc1nc(N)c2nc(-c3cccc(O)c3)c(-c3cccc(O)c3)nc2n1</td>\n",
              "      <td>MFQASMRSPNMEPFKQQKVEDFYDIGEELGSGQFAIVKKCREKSTG...</td>\n",
              "    </tr>\n",
              "    <tr>\n",
              "      <th>25771</th>\n",
              "      <td>Cc1nc(Nc2ncc(C(=O)Nc3c(C)cccc3Cl)s2)cc(N2CCN(C...</td>\n",
              "      <td>MVDMGALDNLIANTAYLQARKPSDCDSKELQRRRRSLALPGLQGCA...</td>\n",
              "    </tr>\n",
              "  </tbody>\n",
              "</table>\n",
              "</div>\n",
              "    <div class=\"colab-df-buttons\">\n",
              "\n",
              "  <div class=\"colab-df-container\">\n",
              "    <button class=\"colab-df-convert\" onclick=\"convertToInteractive('df-00a1ae07-9de4-444a-b45e-c759a02fbe89')\"\n",
              "            title=\"Convert this dataframe to an interactive table.\"\n",
              "            style=\"display:none;\">\n",
              "\n",
              "  <svg xmlns=\"http://www.w3.org/2000/svg\" height=\"24px\" viewBox=\"0 -960 960 960\">\n",
              "    <path d=\"M120-120v-720h720v720H120Zm60-500h600v-160H180v160Zm220 220h160v-160H400v160Zm0 220h160v-160H400v160ZM180-400h160v-160H180v160Zm440 0h160v-160H620v160ZM180-180h160v-160H180v160Zm440 0h160v-160H620v160Z\"/>\n",
              "  </svg>\n",
              "    </button>\n",
              "\n",
              "  <style>\n",
              "    .colab-df-container {\n",
              "      display:flex;\n",
              "      gap: 12px;\n",
              "    }\n",
              "\n",
              "    .colab-df-convert {\n",
              "      background-color: #E8F0FE;\n",
              "      border: none;\n",
              "      border-radius: 50%;\n",
              "      cursor: pointer;\n",
              "      display: none;\n",
              "      fill: #1967D2;\n",
              "      height: 32px;\n",
              "      padding: 0 0 0 0;\n",
              "      width: 32px;\n",
              "    }\n",
              "\n",
              "    .colab-df-convert:hover {\n",
              "      background-color: #E2EBFA;\n",
              "      box-shadow: 0px 1px 2px rgba(60, 64, 67, 0.3), 0px 1px 3px 1px rgba(60, 64, 67, 0.15);\n",
              "      fill: #174EA6;\n",
              "    }\n",
              "\n",
              "    .colab-df-buttons div {\n",
              "      margin-bottom: 4px;\n",
              "    }\n",
              "\n",
              "    [theme=dark] .colab-df-convert {\n",
              "      background-color: #3B4455;\n",
              "      fill: #D2E3FC;\n",
              "    }\n",
              "\n",
              "    [theme=dark] .colab-df-convert:hover {\n",
              "      background-color: #434B5C;\n",
              "      box-shadow: 0px 1px 3px 1px rgba(0, 0, 0, 0.15);\n",
              "      filter: drop-shadow(0px 1px 2px rgba(0, 0, 0, 0.3));\n",
              "      fill: #FFFFFF;\n",
              "    }\n",
              "  </style>\n",
              "\n",
              "    <script>\n",
              "      const buttonEl =\n",
              "        document.querySelector('#df-00a1ae07-9de4-444a-b45e-c759a02fbe89 button.colab-df-convert');\n",
              "      buttonEl.style.display =\n",
              "        google.colab.kernel.accessAllowed ? 'block' : 'none';\n",
              "\n",
              "      async function convertToInteractive(key) {\n",
              "        const element = document.querySelector('#df-00a1ae07-9de4-444a-b45e-c759a02fbe89');\n",
              "        const dataTable =\n",
              "          await google.colab.kernel.invokeFunction('convertToInteractive',\n",
              "                                                    [key], {});\n",
              "        if (!dataTable) return;\n",
              "\n",
              "        const docLinkHtml = 'Like what you see? Visit the ' +\n",
              "          '<a target=\"_blank\" href=https://colab.research.google.com/notebooks/data_table.ipynb>data table notebook</a>'\n",
              "          + ' to learn more about interactive tables.';\n",
              "        element.innerHTML = '';\n",
              "        dataTable['output_type'] = 'display_data';\n",
              "        await google.colab.output.renderOutput(dataTable, element);\n",
              "        const docLink = document.createElement('div');\n",
              "        docLink.innerHTML = docLinkHtml;\n",
              "        element.appendChild(docLink);\n",
              "      }\n",
              "    </script>\n",
              "  </div>\n",
              "\n",
              "\n",
              "<div id=\"df-d615c2ca-c581-4b6b-a38e-a5935410ba89\">\n",
              "  <button class=\"colab-df-quickchart\" onclick=\"quickchart('df-d615c2ca-c581-4b6b-a38e-a5935410ba89')\"\n",
              "            title=\"Suggest charts\"\n",
              "            style=\"display:none;\">\n",
              "\n",
              "<svg xmlns=\"http://www.w3.org/2000/svg\" height=\"24px\"viewBox=\"0 0 24 24\"\n",
              "     width=\"24px\">\n",
              "    <g>\n",
              "        <path d=\"M19 3H5c-1.1 0-2 .9-2 2v14c0 1.1.9 2 2 2h14c1.1 0 2-.9 2-2V5c0-1.1-.9-2-2-2zM9 17H7v-7h2v7zm4 0h-2V7h2v10zm4 0h-2v-4h2v4z\"/>\n",
              "    </g>\n",
              "</svg>\n",
              "  </button>\n",
              "\n",
              "<style>\n",
              "  .colab-df-quickchart {\n",
              "      --bg-color: #E8F0FE;\n",
              "      --fill-color: #1967D2;\n",
              "      --hover-bg-color: #E2EBFA;\n",
              "      --hover-fill-color: #174EA6;\n",
              "      --disabled-fill-color: #AAA;\n",
              "      --disabled-bg-color: #DDD;\n",
              "  }\n",
              "\n",
              "  [theme=dark] .colab-df-quickchart {\n",
              "      --bg-color: #3B4455;\n",
              "      --fill-color: #D2E3FC;\n",
              "      --hover-bg-color: #434B5C;\n",
              "      --hover-fill-color: #FFFFFF;\n",
              "      --disabled-bg-color: #3B4455;\n",
              "      --disabled-fill-color: #666;\n",
              "  }\n",
              "\n",
              "  .colab-df-quickchart {\n",
              "    background-color: var(--bg-color);\n",
              "    border: none;\n",
              "    border-radius: 50%;\n",
              "    cursor: pointer;\n",
              "    display: none;\n",
              "    fill: var(--fill-color);\n",
              "    height: 32px;\n",
              "    padding: 0;\n",
              "    width: 32px;\n",
              "  }\n",
              "\n",
              "  .colab-df-quickchart:hover {\n",
              "    background-color: var(--hover-bg-color);\n",
              "    box-shadow: 0 1px 2px rgba(60, 64, 67, 0.3), 0 1px 3px 1px rgba(60, 64, 67, 0.15);\n",
              "    fill: var(--button-hover-fill-color);\n",
              "  }\n",
              "\n",
              "  .colab-df-quickchart-complete:disabled,\n",
              "  .colab-df-quickchart-complete:disabled:hover {\n",
              "    background-color: var(--disabled-bg-color);\n",
              "    fill: var(--disabled-fill-color);\n",
              "    box-shadow: none;\n",
              "  }\n",
              "\n",
              "  .colab-df-spinner {\n",
              "    border: 2px solid var(--fill-color);\n",
              "    border-color: transparent;\n",
              "    border-bottom-color: var(--fill-color);\n",
              "    animation:\n",
              "      spin 1s steps(1) infinite;\n",
              "  }\n",
              "\n",
              "  @keyframes spin {\n",
              "    0% {\n",
              "      border-color: transparent;\n",
              "      border-bottom-color: var(--fill-color);\n",
              "      border-left-color: var(--fill-color);\n",
              "    }\n",
              "    20% {\n",
              "      border-color: transparent;\n",
              "      border-left-color: var(--fill-color);\n",
              "      border-top-color: var(--fill-color);\n",
              "    }\n",
              "    30% {\n",
              "      border-color: transparent;\n",
              "      border-left-color: var(--fill-color);\n",
              "      border-top-color: var(--fill-color);\n",
              "      border-right-color: var(--fill-color);\n",
              "    }\n",
              "    40% {\n",
              "      border-color: transparent;\n",
              "      border-right-color: var(--fill-color);\n",
              "      border-top-color: var(--fill-color);\n",
              "    }\n",
              "    60% {\n",
              "      border-color: transparent;\n",
              "      border-right-color: var(--fill-color);\n",
              "    }\n",
              "    80% {\n",
              "      border-color: transparent;\n",
              "      border-right-color: var(--fill-color);\n",
              "      border-bottom-color: var(--fill-color);\n",
              "    }\n",
              "    90% {\n",
              "      border-color: transparent;\n",
              "      border-bottom-color: var(--fill-color);\n",
              "    }\n",
              "  }\n",
              "</style>\n",
              "\n",
              "  <script>\n",
              "    async function quickchart(key) {\n",
              "      const quickchartButtonEl =\n",
              "        document.querySelector('#' + key + ' button');\n",
              "      quickchartButtonEl.disabled = true;  // To prevent multiple clicks.\n",
              "      quickchartButtonEl.classList.add('colab-df-spinner');\n",
              "      try {\n",
              "        const charts = await google.colab.kernel.invokeFunction(\n",
              "            'suggestCharts', [key], {});\n",
              "      } catch (error) {\n",
              "        console.error('Error during call to suggestCharts:', error);\n",
              "      }\n",
              "      quickchartButtonEl.classList.remove('colab-df-spinner');\n",
              "      quickchartButtonEl.classList.add('colab-df-quickchart-complete');\n",
              "    }\n",
              "    (() => {\n",
              "      let quickchartButtonEl =\n",
              "        document.querySelector('#df-d615c2ca-c581-4b6b-a38e-a5935410ba89 button');\n",
              "      quickchartButtonEl.style.display =\n",
              "        google.colab.kernel.accessAllowed ? 'block' : 'none';\n",
              "    })();\n",
              "  </script>\n",
              "</div>\n",
              "    </div>\n",
              "  </div>\n"
            ]
          },
          "metadata": {},
          "execution_count": 7
        }
      ],
      "source": [
        "new_data[['Drug',\"Target\"]].tail()"
      ]
    },
    {
      "cell_type": "code",
      "execution_count": null,
      "metadata": {
        "colab": {
          "base_uri": "https://localhost:8080/",
          "height": 542
        },
        "id": "CHaH9ovHPuJK",
        "outputId": "7aa4e69f-1ad5-4c68-8981-8cd535e42d88"
      },
      "outputs": [
        {
          "output_type": "display_data",
          "data": {
            "text/html": [
              "<html>\n",
              "<head><meta charset=\"utf-8\" /></head>\n",
              "<body>\n",
              "    <div>            <script src=\"https://cdnjs.cloudflare.com/ajax/libs/mathjax/2.7.5/MathJax.js?config=TeX-AMS-MML_SVG\"></script><script type=\"text/javascript\">if (window.MathJax && window.MathJax.Hub && window.MathJax.Hub.Config) {window.MathJax.Hub.Config({SVG: {font: \"STIX-Web\"}});}</script>                <script type=\"text/javascript\">window.PlotlyConfig = {MathJaxConfig: 'local'};</script>\n",
              "        <script charset=\"utf-8\" src=\"https://cdn.plot.ly/plotly-2.24.1.min.js\"></script>                <div id=\"a416316b-6350-4ac2-a334-5aed7fc30e96\" class=\"plotly-graph-div\" style=\"height:525px; width:100%;\"></div>            <script type=\"text/javascript\">                                    window.PLOTLYENV=window.PLOTLYENV || {};                                    if (document.getElementById(\"a416316b-6350-4ac2-a334-5aed7fc30e96\")) {                    Plotly.newPlot(                        \"a416316b-6350-4ac2-a334-5aed7fc30e96\",                        [{\"alignmentgroup\":\"True\",\"bingroup\":\"x\",\"hovertemplate\":\"variable=Y\\u003cbr\\u003evalue=%{x}\\u003cbr\\u003ecount=%{y}\\u003cextra\\u003e\\u003c\\u002fextra\\u003e\",\"legendgroup\":\"Y\",\"marker\":{\"color\":\"#636efa\",\"pattern\":{\"shape\":\"\"}},\"name\":\"Y\",\"nbinsx\":200,\"offsetgroup\":\"Y\",\"orientation\":\"v\",\"showlegend\":true,\"x\":[1.0,1.0,1.0,1.0,0.5399992639988224,1.0,0.18999870399792637,0.15999865599784957,1.0,1.0,1.0,0.043998470397552635,1.0,1.0,0.17999868799790078,1.0,1.0,1.0,1.0,1.0,0.07599852159763455,1.0,1.0,1.0,1.0,1.0,0.2299987679980288,0.06899851039761663,1.0,1.0,1.0,1.0,1.0,0.28999886399818237,1.0,1.0,1.0,0.2799988479981568,0.010998417597468155,1.0,1.0,1.0,1.0,1.0,1.0,1.0,0.0007084011334418135,1.0,1.0,0.019998431997491198,1.0,1.0,1.0,1.0,1.0,0.009098414557463292,1.0,1.0,0.0005484008774414039,1.0,0.009998415997465595,1.0,1.0,1.0,0.00639841023745638,1.0,1.0,1.0,1.0,1.0,1.0,1.0,1.0,1.0,1.0,1.0,0.04599847359755775,0.2799988479981568,1.0,0.11999859199774718,1.0,0.23999878399805438,0.3399989439983104,1.0,1.0,0.019998431997491198,0.11999859199774718,1.0,0.020998433597493756,1.0,1.0,1.0,1.0,1.0,0.09399855039768064,0.006798410877457403,1.0,1.0,1.0,0.0006584010534416854,1.0,1.0,1.0,1.0,1.0,0.00038840062144099427,1.0,1.0,1.0,1.0,1.0,1.0,0.3099988959982336,0.0002184003494405591,0.2299987679980288,1.0,1.0,1.0,1.0,1.0,1.0,1.0,0.03399845439752703,1.0,1.0,1.0,1.0,1.0,1.0,1.0,0.002798404477447164,9.84001574402519e-05,1.0,1.0,0.003598405757449212,1.0,1.0,1.0,1.0,0.7199995519992832,0.399999039998464,1.0,0.10999857599772159,0.055998489597583356,0.001198401917443068,1.0,1.0,1.0,1.0,1.0,1.0,0.6899995039992064,1.0,0.34999895999833597,0.00489840783745254,1.0,1.0,1.0,1.0,1.0,1.0,1.0,0.1299986079977728,0.039998463997542394,0.003198405117448188,1.0,0.1399986239977984,1.0,0.018998430397488636,0.849999759999616,1.0,1.0,1.0,1.0,1.0,1.0,1.0,1.0,1.0,1.0,1.0,1.0,1.0,1.0,0.010998417597468155,0.10999857599772159,1.0,0.10999857599772159,1.0,0.0799985279976448,1.0,1.0,1.0,1.0,0.4899991839986944,1.0,0.029998447997516792,1.0,1.0,1.0,1.0,1.0,1.0,0.004498407197451516,1.0,1.0,1.0,1.0,0.00239840383744614,1.0,0.05299848479757568,0.004698407517452028,1.0,1.0,1.0,1.0,1.0,1.0,1.0,1.0,1.0,0.18999870399792637,1.0,1.0,1.0,1.0,0.4299990879985408,1.0,1.0,0.002598404157446652,1.0,1.0,0.14999863999782398,1.0,1.0,1.0,1.0,1.0,1.0,0.4299990879985408,1.0,1.0,0.017998428797486078,1.0,0.0001484002374403799,1.0,1.0,1.0,1.0,1.0,0.008498413597461755,0.020998433597493756,0.399999039998464,0.012998420797473277,1.0,0.0012984020774433238,1.0,1.0,1.0,1.0,0.29999887999820796,1.0,1.0,1.0,1.0,1.0,1.0,1.0,1.0,1.0,1.0,1.0,1.0,1.0,0.1399986239977984,1.0,1.0,0.0001484002374403799,1.0,1.0,1.0,1.0,1.0,1.0,1.0,1.0,1.0,0.00189840303744486,1.0,1.0,1.0,1.0,1.0,1.0,1.0,1.0,0.009998415997465595,1.0,1.0,1.0,0.4399991039985664,1.0,1.0,1.0,1.0,1.0,0.00389840623744998,1.0,1.0,1.0,1.0,1.0,0.15999865599784957,1.0,1.0,1.0,0.019998431997491198,0.09099854559767295,1.0,1.0,1.0,0.28999886399818237,1.0,1.0,1.0,1.0,1.0,0.00859841375746201,1.0,1.0,1.0,1.0,1.0,1.0,1.0,0.026998443197509114,1.0,0.016998427197483516,1.0,1.0,1.0,0.001698402717444348,1.0,0.3399989439983104,1.0,1.0,1.0,1.0,0.00239840383744614,0.0599984959975936,0.010998417597468155,1.0,1.0,0.20999873599797758,1.0,0.016998427197483516,1.0,1.0,0.36999899199838715,1.0,0.013998422397475837,0.047998476797562875,1.0,1.0,1.0,0.099998559997696,1.0,0.018998430397488636,1.0,1.0,0.025998441597506552,1.0,1.0,1.0,0.6299994079990529,1.0,1.0,1.0,1.0,1.0,1.0,1.0,1.0,1.0,1.0,1.0,0.021998435197496315,0.0033984054374487,1.0,0.9599999359998976,1.0,1.0,0.0006284010054416086,1.0,1.0,1.0,0.23999878399805438,1.0,1.0,1.0,1.0,1.0,1.0,1.0,0.040998465597544956,1.0,0.0003084004934407895,1.0,1.0,0.043998470397552635,1.0,0.08299853279765247,1.0,1.0,1.0,1.0,0.21999875199800317,1.0,1.0,1.0,1.0,1.0,1.0,0.18999870399792637,0.18999870399792637,0.09299854879767808,1.0,1.0,0.0006484010374416599,1.0,1.0,0.18999870399792637,1.0,1.0,1.0,1.0,1.0,1.0,0.030998449597519354,1.0,1.0,1.0,1.0,0.0649985039976064,1.0,1.0,0.06099849759759616,0.4399991039985664,0.030998449597519354,1.0,1.0,1.0,1.0,0.003798406077449724,1.0,1.0,0.002698404317446908,0.2299987679980288,1.0,1.0,0.0008984014374422999,1.0,0.055998489597583356,1.0,1.0,0.4399991039985664,1.0,1.0,5.5400088640141815e-05,1.0,2.0400032640052226e-05,1.0,1.0,1.0,0.34999895999833597,1.0,1.0,1.0,0.18999870399792637,1.0,1.0,1.0,0.020998433597493756,1.0,1.0,1.0,1.0,1.0,0.7499995999993601,1.0,1.0,1.0,0.5799993279989248,1.0,0.07899852639764224,1.0,1.0,0.1699986719978752,1.0,1.0,1.0,1.0,1.0,1.0,1.0,1.0,0.021998435197496315,1.0,1.0,1.0,1.0,1.0,1.0,0.007098411357458171,1.0,1.0,1.0,0.014998423997478397,0.03399845439752703,1.0,0.08399853439765503,0.0003084004934407895,1.0,0.4799991679986688,0.099998559997696,0.030998449597519354,0.2299987679980288,1.0,1.0,1.0,0.022998436797498877,0.07399851839762944,1.0,1.0,0.005998409597455356,1.0,1.0,0.399999039998464,0.03399845439752703,1.0,1.0,1.0,1.0,1.0,1.0,1.0,1.0,0.001698402717444348,0.015998425597480957,1.0,1.0,1.0,0.18999870399792637,1.0,1.0,0.002598404157446652,1.0,1.0,1.0,0.099998559997696,1.0,0.24999879999807997,1.0,1.0,1.0,0.010998417597468155,0.28999886399818237,1.0,1.0,1.0,1.0,1.0,0.002798404477447164,1.0,1.0,1.0,0.2599988159981056,0.1399986239977984,0.0599984959975936,1.0,0.10999857599772159,0.4199990719985152,1.0,1.0,1.0,1.0,1.0,0.0003284005254408407,1.0,0.005298408477453564,1.0,1.0,1.0,1.0,1.0,1.0,1.0,1.0,0.20999873599797758,1.0,1.0,1.0,0.05699849119758592,0.2599988159981056,0.00039840063744101987,0.1399986239977984,1.0,1.0,1.0,0.04299846879755007,1.0,1.0,1.0,1.0,1.0,1.0,1.0,1.0,1.0,1.0,1.0,1.0,1.0,1.0,0.199998719997952,1.0,1.0,1.0,0.4199990719985152,0.09299854879767808,1.0,1.0,1.0,1.0,1.0,1.0,1.0,1.0,0.0005084008134413014,0.099998559997696,1.0,1.0,1.0,0.0061984099174558676,1.0,1.0,1.0,1.0,1.0,1.0,0.019998431997491198,1.0,1.0,1.0,0.1699986719978752,1.0,1.0,0.4399991039985664,0.1299986079977728,1.0,1.0,1.0,1.0,1.0,1.0,1.0,0.04599847359755775,0.28999886399818237,1.0,1.0,0.2799988479981568,0.28999886399818237,1.0,1.0,1.0,1.0,1.0,0.23999878399805438,1.0,1.0,1.0,1.0,0.4899991839986944,1.0,1.0,1.0,0.0008284013254421207,0.006698410717457147,1.0,1.0,1.0,1.0,0.3199989119982592,0.10999857599772159,0.05399848639757824,1.0,1.0,1.0,1.0,0.099998559997696,1.0,1.0,1.0,1.0,1.0,0.24999879999807997,0.649999439999104,1.0,1.0,1.0,0.0004084006534410455,1.0,1.0,1.0,0.016998427197483516,1.0,0.2799988479981568,1.0,1.0,1.0,1.0,1.0,1.0,1.0,0.2699988319981312,1.0,0.20999873599797758,1.0,1.0,0.21999875199800317,1.0,1.0,1.0,1.0,1.0,0.2599988159981056,0.002598404157446652,1.0,1.0,1.0,1.0,1.0,1.0,1.0,1.0,1.0,0.07399851839762944,1.0,1.0,1.0,1.0,1.0,1.0,1.0,0.039998463997542394,0.09899855839769343,1.0,0.23999878399805438,1.0,1.0,0.8599997759996416,1.0,0.5299992479987968,1.0,1.0,1.0,0.00389840623744998,1.0,1.0,1.0,0.18999870399792637,0.1699986719978752,1.0,0.00047840076544122465,1.0,1.0,0.10999857599772159,0.011998419197470715,1.0,0.2799988479981568,1.0,0.07599852159763455,1.0,1.0,1.0,0.029998447997516792,1.0,0.036998459197534715,1.0,1.0,1.0,0.09399855039768064,1.0,0.023998438397501435,1.0,1.0,1.0,1.0,1.0,1.0,2.3400037440059902e-05,1.0,1.0,1.0,1.0,1.0,1.0,0.0056984091174545875,1.0,0.001198401917443068,1.0,1.0,0.34999895999833597,1.0,1.0,1.0,1.0,1.0,1.0,1.0,0.1699986719978752,1.0,1.0,1.0,1.0,1.0,0.005598408957454332,1.0,1.0,1.0,1.0,0.0849985359976576,1.0,0.0001784002854404567,0.004598407357451772,1.0,1.0,0.7299995679993088,1.0,1.0,1.0,9.440015104024165e-05,1.0,1.0,1.0,0.099998559997696,1.0,0.7299995679993088,1.0,1.0,1.0,1.0,0.0004484007174411479,1.0,0.21999875199800317,1.0,1.0,1.0,1.0,1.0,1.0,0.11999859199774718,1.0,0.03499845599752959,1.0,1.0,1.0,0.023998438397501435,0.549999279998848,1.0,1.0,1.0,0.5099992159987456,1.0,1.0,0.4199990719985152,1.0,0.009498415197464315,1.0,0.8699997919996671,1.0,1.0,1.0,0.15999865599784957,1.0,1.0,0.00289840463744742,1.0,1.0,0.023998438397501435,0.199998719997952,1.0,1.0,1.0,1.0,1.0,1.0,1.0,0.010998417597468155,0.0015984025574440918,1.0,0.6799994879991809,1.0,1.0,0.0949985519976832,1.0,1.0,1.0,1.0,0.8399997439995904,1.0,1.0,1.0,1.0,0.28999886399818237,1.0,1.0,0.0006584010534416854,1.0,1.0,0.050998481597570554,1.0,1.0,1.0,0.799999679999488,1.0,1.0,0.23999878399805438,0.012998420797473277,1.0,0.04299846879755007,0.001998403197445116,1.0,1.0,1.0,1.0,1.0,1.0,1.0,1.0,0.7499995999993601,1.0,1.0,1.0,0.0002884004614407383,0.08299853279765247,1.0,1.0,1.0,1.0,1.0,1.0,1.0,1.0,1.0,0.099998559997696,1.0,0.007898412637460219,1.0,1.0,1.0,1.0,1.0,1.0,1.0,1.0,1.0,1.0,1.0,0.2299987679980288,0.199998719997952,1.0,1.0,0.699999519999232,1.0,0.011998419197470715,0.002098403357445372,0.07399851839762944,0.016998427197483516,1.0,1.0,1.0,1.0,1.0,1.0,0.199998719997952,1.0,1.0,0.099998559997696,0.5399992639988224,0.004598407357451772,1.0,0.011998419197470715,0.04599847359755775,0.007498411997459195,5.040008064012902e-05,1.0,1.0,1.0,1.0,1.0,1.0,0.011998419197470715,1.0,1.0,1.0,0.09299854879767808,1.0,1.0,1.0,0.00639841023745638,0.2599988159981056,1.0,0.18999870399792637,1.0,1.0,0.18999870399792637,1.0,0.03599845759753215,0.1399986239977984,6.540010464016743e-05,1.0,1.0,1.0,0.04899847839756543,1.0,1.0,1.0,1.0,1.0,1.0,0.10999857599772159,1.0,1.0,1.0,0.058998494397591035,1.0,0.099998559997696,1.0,1.0,1.0,1.0,1.0,1.0,0.0849985359976576,0.03199845119752191,1.0,0.5699993119988992,1.0,1.0,1.0,1.0,1.0,1.0,1.0,1.0,0.00015840025344040552,1.0,1.0,1.0,1.0,1.0,1.0,1.0,1.0,1.0,0.0013984022374435798,0.002798404477447164,1.0,1.0,1.0,1.0,1.0,1.0,1.0,1.0,1.0,1.0,0.14999863999782398,0.005498408797454076,0.4399991039985664,0.09899855839769343,1.0,1.0,0.4099990559984896,1.0,1.0,1.0,1.0,0.013998422397475837,1.0,1.0,1.0,1.0,1.0,1.0,1.0,1.0,1.0,1.0,0.00037840060544096866,0.6799994879991809,1.0,0.15999865599784957,1.0,1.0,0.047998476797562875,1.0,0.3299989279982848,0.2299987679980288,0.010998417597468155,1.0,1.0,1.0,1.0,8.140013024020837e-05,0.013998422397475837,1.0,1.0,1.0,1.0,0.026998443197509114,1.0,0.14999863999782398,1.0,1.0,1.0,0.04499847199755519,0.44999911999859205,1.0,1.0,0.010998417597468155,0.14999863999782398,1.0,0.04699847519756031,0.6799994879991809,1.0,1.0,1.0,1.0,1.0,1.0,1.0,1.0,1.0,1.0,1.0,1.0,0.23999878399805438,1.0,1.0,0.6899995039992064,1.0,0.2599988159981056,1.0,0.8799998079996928,1.0,1.0,1.0,0.199998719997952,1.0,1.0,1.0,1.0,1.0,0.0007684012294419671,0.04499847199755519,1.0,0.11999859199774718,1.0,1.0,0.0013984022374435798,1.0,1.0,1.0,1.0,1.0,1.0,0.0061984099174558676,1.0,1.0,1.0,1.0,1.0,0.9299998879998208,1.0,0.03399845439752703,1.0,0.2799988479981568,0.11999859199774718,0.0007384011814418903,1.0,0.3299989279982848,0.025998441597506552,1.0,1.0,0.899999839999744,0.0849985359976576,0.00939841503746406,1.0,1.0,0.0006584010534416854,0.2699988319981312,1.0,1.0,1.0,1.0,1.0,1.0,0.006298410077456124,1.0,1.0,1.0,0.5699993119988992,1.0,0.3099988959982336,1.0,1.0,1.0,1.0,1.0,0.05799849279758848,1.0,1.0,1.0,1.0,1.0,1.0,1.0,1.0,0.06899851039761663,0.3299989279982848,0.014998423997478397,1.0,0.003298405277448444,0.03199845119752191,1.0,1.0,0.0799985279976448,1.0,0.00038840062144099427,1.0,0.0003184005094408151,1.0,1.0,1.0,1.0,1.0,1.0,0.24999879999807997,0.18999870399792637,1.0,1.0,1.0,1.0,0.11999859199774718,0.10999857599772159,1.0,1.0,1.0,1.0,0.002098403357445372,5.5400088640141815e-05,1.0,1.0,0.006598410557456891,0.0013984022374435798,1.0,0.002098403357445372,0.1299986079977728,1.0,0.040998465597544956,0.010998417597468155,0.199998719997952,1.0,1.0,0.099998559997696,1.0,0.36999899199838715,1.640002624004198e-05,0.003298405277448444,1.0,1.0,0.09399855039768064,1.0,0.027998444797511672,0.21999875199800317,1.0,0.4399991039985664,1.0,1.0,1.0,0.9299998879998208,1.0,0.0005084008134413014,1.0,0.24999879999807997,1.0,1.0,1.0,1.0,1.0,0.11999859199774718,1.0,1.0,1.0,1.0,0.1299986079977728,1.0,0.001998403197445116,1.0,1.0,1.0,1.0,1.0,0.0008984014374422999,0.014998423997478397,0.025998441597506552,0.004098406557450492,1.0,1.0,1.0,1.0,1.0,1.0,1.0,1.0,1.0,1.0,1.0,1.0,0.5799993279989248,0.00289840463744742,1.0,1.0,1.0,1.0,0.018998430397488636,0.002198403517445628,1.0,1.0,1.0,1.0,1.0,1.0,1.0,1.0,1.0,1.0,1.0,1.0,0.013998422397475837,1.0,0.11999859199774718,1.0,0.0056984091174545875,0.017998428797486078,0.10999857599772159,1.0,0.0006784010854417366,1.0,0.1699986719978752,1.0,1.0,1.0,1.0,0.10999857599772159,0.017998428797486078,1.0,1.0,1.0,1.0,1.0,1.0,1.0,0.00539840863745382,1.0,0.016998427197483516,1.0,1.0,0.18999870399792637,0.21999875199800317,0.36999899199838715,1.0,0.9699999519999232,1.0,1.0,1.0,1.0,0.06699850719761152,0.03799846079753727,1.0,1.0,1.0,1.0,1.0,0.49999919999872,1.0,0.001098401757442812,0.020998433597493756,1.0,1.0,1.0,1.0,1.0,0.028998446397514234,1.0,1.0,1.0,1.0,0.019998431997491198,1.0,1.0,0.1399986239977984,0.6899995039992064,1.0,1.0,0.2699988319981312,1.0,0.009998415997465595,1.0,1.0,1.0,1.0,1.0,1.0,1.0,1.0,1.0,1.0,1.0,1.0,1.0,1.0,0.1399986239977984,1.0,1.0,1.0,1.0,1.0,1.0,1.0,0.28999886399818237,1.0,0.009998415997465595,0.36999899199838715,0.007198411517458427,0.0003084004934407895,1.0,1.0,1.0,0.001098401757442812,1.0,0.026998443197509114,1.0,0.199998719997952,0.5099992159987456,0.07399851839762944,0.00289840463744742,0.23999878399805438,1.0,1.0,1.0,0.019998431997491198,1.0,0.5899993439989504,1.0,1.0,1.0,1.0,1.0,1.0,1.0,1.0,1.0,0.007698412317459707,1.0,0.005598408957454332,1.0,1.0,1.0,1.2400019840031744e-05,1.0,0.011998419197470715,1.0,1.0,1.0,1.0,1.0,0.5899993439989504,1.0,1.0,1.0,0.36999899199838715,0.0949985519976832,1.0,1.0,1.0,0.0012984020774433238,1.0,1.0,1.0,1.0,0.003998406397450236,1.0,1.0,1.0,0.011998419197470715,0.00439840703745126,1.0,1.0,1.0,1.0,1.0,1.0,1.0,1.0,0.0005584008934414295,1.0,0.03499845599752959,0.8099996959995136,1.0,1.0,1.0,1.0,0.018998430397488636,0.010998417597468155,0.022998436797498877,1.0,1.0,0.018998430397488636,1.0,1.0,0.7099995359992576,1.0,1.0,1.0,0.025998441597506552,0.051998483197573116,1.0,1.0,1.0,1.0,1.0,0.20999873599797758,1.0,1.0,1.0,1.0,0.10999857599772159,1.0,1.0,1.0,1.0,1.0,1.0,1.0,0.0004684007494411991,1.0,0.11999859199774718,0.17999868799790078,1.0,1.0,1.0,0.008698413917462268,0.28999886399818237,1.0,0.29999887999820796,1.0,1.0,1.0,1.0,0.03499845599752959,1.0,0.2699988319981312,1.0,1.0,1.0,0.024998439997503997,0.001198401917443068,1.0,0.028998446397514234,0.2599988159981056,1.0,1.0,1.0,0.4199990719985152,0.5299992479987968,0.019998431997491198,1.0,0.058998494397591035,1.0,1.0,0.006098409757455612,0.04199846719754751,1.0,1.0,0.21999875199800317,0.004098406557450492,1.0,1.0,1.0,1.0,1.0,0.06099849759759616,1.0,1.0,1.0,1.0,1.0,1.0,1.0,0.007698412317459707,1.0,1.0,1.0,1.0,1.0,1.0,1.0,0.2699988319981312,0.032998452797524475,0.3399989439983104,1.0,0.17999868799790078,1.0,1.0,0.07399851839762944,1.0,1.0,1.0,1.0,1.0,1.0,0.36999899199838715,0.040998465597544956,1.0,1.0,1.0,1.0,0.4799991679986688,1.0,1.0,1.0,0.016998427197483516,1.0,1.0,1.0,0.001198401917443068,0.054998487997580794,1.0,1.0,1.0,1.0,0.0949985519976832,1.0,1.0,1.0,0.8699997919996671,1.0,0.020998433597493756,1.0,0.3899990239984384,0.099998559997696,0.2599988159981056,1.0,1.0,0.022998436797498877,1.0,1.0,1.0,8.140013024020837e-05,1.0,1.0,1.0,1.0,1.0,1.0,1.0,1.0,0.016998427197483516,1.0,1.0,1.0,0.008898414237462779,0.023998438397501435,0.10999857599772159,1.0,1.0,1.0,1.0,0.5199992319987712,1.0,0.011998419197470715,1.0,0.09699855519768831,1.0,0.001198401917443068,1.0,1.0,0.03899846239753983,1.0,0.025998441597506552,0.3099988959982336,1.0,1.0,1.0,0.06299850079760128,1.0,1.0,1.0,1.0,0.0003084004934407895,1.0,1.0,1.0,1.0,1.0,1.0,1.0,1.0,1.0,0.00189840303744486,0.10999857599772159,1.0,1.0,0.17999868799790078,0.039998463997542394,1.0,1.0,1.0,0.11999859199774718,1.0,0.10999857599772159,1.0,1.0,1.0,1.0,1.0,0.015998425597480957,0.03899846239753983,1.0,1.0,1.0,1.0,1.0,0.199998719997952,1.0,1.0,1.0,1.0,1.0,1.0,1.0,1.0,1.0,0.004498407197451516,1.0,1.0,1.0,1.0,1.0,1.0,1.0,1.0,0.6399994239990784,0.44999911999859205,1.0,1.0,0.099998559997696,1.0,1.0,1.0,1.0,1.0,1.0,0.2699988319981312,1.0,0.050998481597570554,1.0,9.140014624023398e-05,0.3899990239984384,1.0,0.055998489597583356,1.0,0.08999854399767039,1.0,0.2299987679980288,1.0,1.0,1.0,0.03499845599752959,1.0,1.0,1.0,1.0,1.0,1.0,0.2299987679980288,1.0,1.0,1.0,1.0,0.29999887999820796,1.0,1.0,1.0,0.10999857599772159,0.010998417597468155,1.0,1.0,1.0,1.0,0.003598405757449212,1.0,1.0,1.0,1.0,1.0,1.0,0.0015984025574440918,0.017998428797486078,1.0,1.0,1.0,1.0,0.0,1.0,1.0,1.0,1.0,1.0,0.00026840042944068713,1.0,1.0,1.0,1.0,0.03599845759753215,1.0,1.0,1.0,1.0,1.0,1.0,0.14999863999782398,1.0,1.0,1.0,0.00439840703745126,0.021998435197496315,1.0,1.0,1.0,0.04299846879755007,1.0,1.0,0.0013984022374435798,1.0,1.0,1.0,1.0,1.0,1.0,1.0,0.06199849919759872,0.2299987679980288,1.0,0.0849985359976576,1.0,1.0,1.0,1.0,1.0,0.11999859199774718,0.5699993119988992,0.016998427197483516,1.0,0.054998487997580794,0.00489840783745254,0.36999899199838715,1.0,1.0,1.0,1.0,1.0,1.0,1.0,1.0,1.0,0.013998422397475837,1.0,1.0,1.0,0.4199990719985152,1.0,0.06399850239760384,1.0,1.0,1.0,0.00539840863745382,1.0,0.0061984099174558676,0.014998423997478397,0.4399991039985664,0.03799846079753727,1.0,1.0,1.0,1.0,1.0,0.17999868799790078,1.0,1.0,1.0,1.0,0.04699847519756031,1.0,1.0,0.18999870399792637,0.0001284002054403287,1.0,1.0,1.0,1.0,1.0,1.0,1.0,1.0,1.0,1.0,1.0,0.009998415997465595,0.36999899199838715,1.0,1.0,1.0,1.0,0.4699991519986432,1.0,1.0,0.030998449597519354,1.0,1.0,1.0,1.0,0.010998417597468155,0.1299986079977728,0.009998415997465595,1.0,1.0,1.0,0.3299989279982848,1.0,1.0,1.0,1.0,1.0,1.0,1.0,0.002698404317446908,1.0,0.3099988959982336,1.0,1.0,1.0,1.0,0.0008484013574421719,0.18999870399792637,1.0,1.0,0.10999857599772159,0.050998481597570554,1.0,0.5199992319987712,0.06199849919759872,0.11999859199774718,1.0,0.007498411997459195,1.0,1.0,0.3099988959982336,1.0,1.0,0.06199849919759872,0.2599988159981056,1.0,1.0,0.3799990079984128,1.0,1.0,1.0,1.0,1.0,0.4399991039985664,1.0,1.0,0.019998431997491198,1.0,1.0,1.0,1.0,1.0,1.0,1.0,0.7099995359992576,1.0,1.0,1.0,1.0,1.0,1.0,0.2799988479981568,1.0,1.0,1.0,1.0,0.005498408797454076,0.008198413117460987,0.07299851679762688,1.0,1.0,1.0,0.099998559997696,1.0,1.0,1.0,1.0,1.0,1.0,1.0,1.0,1.0,1.0,0.7199995519992832,1.0,1.0,0.019998431997491198,1.0,1.0,1.0,0.008998414397463034,1.0,0.7099995359992576,1.0,1.0,1.0,1.0,1.0,1.0,1.0,1.0,1.0,0.549999279998848,1.0,0.015998425597480957,1.0,1.0,1.0,1.0,0.024998439997503997,1.0,1.0,1.0,1.0,1.0,0.07799852479763968,1.0,1.0,1.0,1.0,1.0,1.0,1.0,1.0,0.04299846879755007,0.14999863999782398,0.039998463997542394,1.0,1.0,0.030998449597519354,1.0,0.04299846879755007,0.0013984022374435798,1.0,1.0,1.0,1.0,1.0,1.0,1.0,1.0,0.00010840017344027751,1.0,0.34999895999833597,1.0,1.0,1.0,1.0,5.640009024014438e-05,1.0,1.0,0.00189840303744486,1.0,1.0,0.1299986079977728,1.0,1.0,1.0,1.0,0.1399986239977984,1.0,1.0,1.0,1.0,1.0,0.0002884004614407383,1.0,0.04599847359755775,1.0,1.0,0.017998428797486078,1.0,1.0,1.0,1.0,0.06599850559760896,1.0,0.1399986239977984,1.0,0.9599999359998976,1.0,0.015998425597480957,0.0017984028774446041,1.0,1.0,1.0,1.0,1.0,0.2699988319981312,1.0,1.0,1.0,1.0,1.0,1.0,1.0,0.009998415997465595,1.0,1.0,1.0,1.0,1.0,1.0,0.10999857599772159,1.0,1.0,1.0,1.0,0.3199989119982592,1.0,1.0,0.017998428797486078,1.0,1.0,0.0008384013414421463,0.3799990079984128,1.0,1.0,1.0,1.0,1.0,0.0005784009254414807,0.2599988159981056,1.0,1.0,0.006498410397456635,0.043998470397552635,1.0,0.043998470397552635,0.001098401757442812,0.04699847519756031,1.0,1.0,1.0,0.2299987679980288,0.00439840703745126,1.0,1.0,0.1699986719978752,1.0,1.0,1.0,1.0,0.06199849919759872,1.0,1.0,0.03199845119752191,1.0,0.2599988159981056,1.0,0.11999859199774718,0.2599988159981056,1.0,0.3799990079984128,1.0,0.04199846719754751,0.6699994719991552,1.0,0.4699991519986432,0.11999859199774718,0.00289840463744742,1.0,1.0,1.0,0.5199992319987712,1.0,0.04199846719754751,1.0,1.0,1.0,1.0,1.0,1.0,1.0,0.11999859199774718,1.0,1.0,0.001698402717444348,1.0,0.08699853919766272,1.0,1.0,1.0,1.0,0.021998435197496315,1.0,0.35999897599836156,1.0,1.0,1.0,1.0,1.0,1.0,1.0,1.0,1.0,0.0009584015334424534,1.0,1.0,1.0,1.0,1.0,0.7199995519992832,0.199998719997952,1.0,1.0,1.0,1.0,1.0,0.026998443197509114,1.0,0.1699986719978752,0.17999868799790078,1.0,1.0,1.0,0.11999859199774718,0.0799985279976448,1.0,0.18999870399792637,1.0,0.6899995039992064,1.0,0.00859841375746201,1.0,1.0,0.054998487997580794,0.4299990879985408,1.0,1.0,1.0,0.3199989119982592,1.0,1.0,1.0,1.0,1.0,1.0,1.0,0.4699991519986432,1.0,1.0,1.0,1.0,1.0,1.0,1.0,1.0,1.0,1.0,1.0,1.0,1.0,0.008998414397463034,0.11999859199774718,1.0,1.0,1.0,0.1299986079977728,1.0,1.0,1.0,1.0,0.005998409597455356,1.0,1.0,0.17999868799790078,1.0,1.0,0.054998487997580794,0.4699991519986432,0.05399848639757824,1.0,1.0,1.0,1.0,0.17999868799790078,1.0,1.0,1.0,1.0,1.0,1.0,1.0,1.0,1.0,0.006998411197457915,0.011998419197470715,0.09399855039768064,1.0,1.0,1.0,1.0,1.0,0.0006984011174417879,1.0,1.0,0.199998719997952,1.0,0.1699986719978752,1.0,1.0,1.0,1.0,1.0,0.026998443197509114,1.0,1.0,0.002298403677445884,1.0,1.0,1.0,1.0,0.03899846239753983,1.0,1.0,1.0,0.18999870399792637,1.0,1.0,0.09099854559767295,1.0,1.0,1.0,1.0,1.0,1.0,1.0,1.0,1.0,1.0,0.021998435197496315,1.0,1.0,1.0,0.36999899199838715,0.012998420797473277,0.025998441597506552,1.0,1.0,1.0,0.15999865599784957,0.028998446397514234,1.0,1.0,1.0,0.043998470397552635,1.0,1.0,0.007998412797460474,1.0,0.10999857599772159,1.0,1.0,1.0,1.0,1.0,1.0,1.0,1.0,0.17999868799790078,1.0,1.0,1.0,1.0,1.0,0.012998420797473277,0.0005384008614413783,1.0,1.0,1.0,1.0,1.0,1.0,0.013998422397475837,1.0,0.34999895999833597,0.05299848479757568,1.0,1.0,1.0,1.0,1.0,0.15999865599784957,0.039998463997542394,1.0,1.0,1.0,1.0,1.0,0.021998435197496315,1.0,0.5299992479987968,1.0,0.11999859199774718,0.004698407517452028,1.0,1.0,1.0,1.0,1.0,0.032998452797524475,0.009998415997465595,1.0,0.28999886399818237,1.0,1.0,0.03399845439752703,0.8799998079996928,1.0,0.002598404157446652,1.0,1.0,1.0,1.0,0.07699852319763711,1.0,1.0,1.0,1.0,1.0,0.5799993279989248,0.0005684009094414551,1.0,0.04199846719754751,0.028998446397514234,1.0,1.0,1.0,1.0,1.0,1.0,1.0,0.3099988959982336,1.0,1.0,1.0,1.0,1.0,1.0,1.0,1.0,0.0012984020774433238,1.0,0.03399845439752703,1.0,1.0,1.0,1.0,1.0,1.0,0.18999870399792637,1.0,1.0,0.34999895999833597,1.0,1.0,1.0,1.0,0.006698410717457147,0.18999870399792637,1.0,1.0,1.0,1.0,1.0,0.016998427197483516,1.0,1.0,1.0,1.0,1.0,1.0,1.0,1.0,1.0,1.0,0.10999857599772159,0.18999870399792637,1.0,1.0,0.8699997919996671,0.0799985279976448,1.0,1.0,0.07499851999763199,0.03799846079753727,1.0,0.15999865599784957,1.0,1.0,1.0,1.0,1.0,1.0,1.0,1.0,0.03599845759753215,0.024998439997503997,1.0,0.3099988959982336,0.21999875199800317,1.0,1.0,0.06299850079760128,1.0,1.0,1.0,1.0,0.1299986079977728,0.036998459197534715,0.0003284005254408407,1.0,1.0,4.34000694401111e-05,1.0,1.0,1.0,1.0,1.0,1.0,1.0,0.0799985279976448,0.004498407197451516,1.0,1.0,0.00489840783745254,1.0,1.0,1.0,0.21999875199800317,1.0,1.0,1.0,1.0,1.0,0.07199851519762432,1.0,1.0,1.0,1.0,1.0,1.0,1.0,1.0,1.0,1.0,0.1299986079977728,0.4399991039985664,0.49999919999872,1.0,1.0,6.740010784017254e-05,1.0,0.007198411517458427,1.0,1.0,1.0,1.0,1.0,1.0,1.0,1.0,1.0,1.0,1.0,0.027998444797511672,1.0,0.10999857599772159,1.0,1.0,1.0,0.06699850719761152,0.00018840030144048227,0.0013984022374435798,0.599999359998976,0.03199845119752191,1.0,1.0,0.17999868799790078,0.054998487997580794,1.0,0.599999359998976,0.013998422397475837,1.0,1.0,1.0,1.0,1.0,0.29999887999820796,1.0,0.0033984054374487,1.0,1.0,1.0,1.0,1.0,0.20999873599797758,0.015998425597480957,0.0599984959975936,1.0,1.0,1.0,1.0,1.0,0.054998487997580794,1.0,1.0,1.0,0.099998559997696,1.0,1.0,1.0,1.0,1.0,0.009298414877463803,1.0,0.15999865599784957,1.0,1.0,1.0,1.0,0.024998439997503997,1.0,1.0,1.0,1.0,0.03899846239753983,0.0003284005254408407,1.0,1.0,1.0,1.0,1.0,1.0,0.0002284003654405847,1.0,1.0,0.06199849919759872,0.027998444797511672,1.0,1.0,1.0,1.0,1.0,1.0,1.0,1.0,1.0,1.0,1.0,0.0061984099174558676,1.0,0.003098404957447932,1.0,1.0,1.0,0.06199849919759872,0.35999897599836156,1.0,1.0,1.0,1.0,1.0,1.0,0.010998417597468155,1.0,1.0,1.0,1.0,1.0,1.0,1.0,1.0,0.24999879999807997,1.0,1.0,1.0,1.0,1.0,1.0,1.0,1.0,1.0,1.0,1.0,0.020998433597493756,1.0,1.0,0.14999863999782398,1.0,1.0,1.0,1.0,0.7099995359992576,0.00189840303744486,1.0,1.0,1.0,1.0,0.8899998239997184,0.0009984015974425558,0.07699852319763711,0.025998441597506552,1.0,1.0,0.04499847199755519,1.0,1.0,1.0,1.0,1.0,1.0,0.0002984004774407639,1.0,1.0,1.0,1.0,1.0,1.0,0.0068984110374576595,1.0,1.0,1.0,1.0,0.14999863999782398,0.3199989119982592,1.0,1.0,1.0,0.011998419197470715,1.0,1.0,1.0,1.0,1.0,0.18999870399792637,0.03599845759753215,1.0,1.0,1.0,0.4899991839986944,1.0,1.0,1.0,0.21999875199800317,1.0,1.0,1.0,1.0,1.0,1.0,1.0,1.0,0.002498403997446396,1.0,1.0,1.0,1.0,1.0,1.0,0.36999899199838715,1.0,1.0,1.0,1.0,0.03499845599752959,1.0,1.0,1.0,1.0,1.0,1.0,1.0,0.0003584005734409175,0.18999870399792637,0.35999897599836156,0.7799996479994368,1.0,1.0,1.0,1.0,1.0,1.0,0.36999899199838715,0.004798407677452284,1.0,1.0,1.0,1.0,0.0849985359976576,0.7699996319994112,1.0,1.0,1.0,1.0,1.0,1.0,1.0,1.0,0.0009084014534423254,1.0,0.8099996959995136,0.3199989119982592,1.0,1.0,1.0,0.009998415997465595,1.0,1.0,1.0,1.0,1.0,1.0,0.3799990079984128,1.0,1.0,0.00639841023745638,1.0,1.0,1.0,1.0,0.002698404317446908,1.0,0.00959841535746457,0.0012984020774433238,1.0,1.0,0.20999873599797758,0.043998470397552635,1.0,1.0,1.0,1.0,1.0,1.0,1.0,1.0,1.0,1.0,1.0,1.0,1.0,1.0,1.0,1.0,1.0,1.0,0.09799855679769087,1.0,0.099998559997696,1.0,1.0,1.0,1.0,1.0,0.0017984028774446041,1.0,1.0,0.04699847519756031,1.0,1.0,0.34999895999833597,0.00038840062144099427,1.0,0.001498402397443836,1.0,0.0649985039976064,0.002598404157446652,1.0,0.032998452797524475,1.0,0.2799988479981568,1.0,1.0,1.0,0.4699991519986432,1.0,0.008498413597461755,1.0,1.0,1.0,1.0,1.0,1.0,1.0,1.0,1.0,1.0,1.0,1.0,0.34999895999833597,1.0,0.021998435197496315,1.0,0.04999847999756799,1.0,0.6399994239990784,1.0,1.0,1.0,1.0,1.0,1.0,0.005098408157453052,0.28999886399818237,0.0009284014854423768,0.7099995359992576,1.0,1.0,1.0,0.043998470397552635,1.0,1.0,0.2599988159981056,1.0,1.0,1.0,1.0,1.0,0.050998481597570554,0.0007884012614420183,0.032998452797524475,1.0,1.0,1.0,1.0,0.11999859199774718,1.0,0.007598412157459451,1.0,1.0,0.0001684002694404311,1.0,1.0,1.0,1.0,1.0,1.0,1.0,1.0,1.0,1.0,0.2299987679980288,1.0,1.0,1.0,1.0,0.07499851999763199,8.440013504021606e-05,1.0,1.0,1.0,1.0,1.0,1.0,0.7899996639994624,0.00859841375746201,1.0,1.0,1.0,1.0,1.0,0.05299848479757568,1.0,1.0,7.740012384019814e-05,1.0,1.0,1.0,0.11999859199774718,1.0,0.5199992319987712,1.0,1.0,0.11999859199774718,1.0,1.0,1.0,1.0,0.03499845599752959,1.0,1.0,1.0,0.11999859199774718,1.0,1.0,1.0,0.07699852319763711,1.0,1.0,0.549999279998848,0.09799855679769087,1.0,0.1399986239977984,1.0,0.028998446397514234,1.0,1.0,1.0,1.0,1.0,1.0,1.0,1.0,1.0,1.0,0.0015984025574440918,1.0,0.0005984009574415319,0.04899847839756543,0.002198403517445628,1.0,0.03499845599752959,1.0,0.08699853919766272,1.0,0.006598410557456891,1.0,1.0,0.0061984099174558676,1.0,1.0,0.4699991519986432,1.0,0.007798412477459963,1.0,1.0,1.0,1.0,1.0,1.0,1.0,0.199998719997952,0.45999913599861764,1.0,1.0,1.0,1.0,1.0,0.9599999359998976,1.0,1.0,1.0,1.0,1.0,1.0,1.0,1.0,1.0,1.0,1.0,0.06799850879761407,1.0,0.0009284014854423768,1.0,0.022998436797498877,1.0,0.005198408317453308,0.7699996319994112,0.28999886399818237,1.0,1.0,1.0,0.2799988479981568,1.0,0.3099988959982336,1.0,1.0,1.0,1.0,0.04699847519756031,0.6299994079990529,0.9699999519999232,0.0008284013254421207,1.0,0.04899847839756543,1.0,1.0,1.0,1.0,0.799999679999488,1.0,0.09399855039768064,1.0,0.1299986079977728,0.10999857599772159,1.0,0.2699988319981312,0.008698413917462268,0.599999359998976,1.0,0.06699850719761152,1.0,1.0,0.015998425597480957,1.0,1.0,0.20999873599797758,0.11999859199774718,1.0,1.0,1.0,0.3099988959982336,0.0007984012774420439,1.0,1.0,1.0,1.0,1.0,1.0,1.0,1.0,0.6299994079990529,1.0,1.0,1.0,1.0,0.0599984959975936,1.0,1.0,0.05699849119758592,1.0,1.0,1.0,1.0,0.3099988959982336,1.0,1.0,1.0,0.08899854239766784,1.0,1.0,1.0,1.0,1.0,1.0,0.099998559997696,1.0,1.0,0.3799990079984128,1.0,1.0,1.0,1.9400031040049665e-05,1.0,1.0,0.002098403357445372,1.0,0.10999857599772159,0.20999873599797758,1.0,1.0,0.055998489597583356,1.0,1.0,0.001698402717444348,1.0,1.0,1.0,0.15999865599784957,1.0,1.0,1.0,1.0,1.0,0.1699986719978752,0.051998483197573116,1.0,1.0,1.0,1.0,0.3199989119982592,1.0,0.0015984025574440918,1.0,0.00038840062144099427,1.0,0.11999859199774718,1.0,1.0,1.0,1.0,0.00639841023745638,1.0,1.0,0.001698402717444348,0.026998443197509114,1.0,1.0,1.0,1.0,1.0,1.0,1.0,1.0,1.0,1.0,1.0,0.1299986079977728,0.06799850879761407,0.003798406077449724,1.0,1.0,1.0,1.0,1.0,1.0,0.0015984025574440918,0.4399991039985664,1.0,0.022998436797498877,1.0,0.15999865599784957,1.0,1.0,1.0,1.0,1.0,0.06799850879761407,0.3199989119982592,1.0,0.002598404157446652,1.0,1.0,1.0,0.49999919999872,1.0,1.0,0.8899998239997184,0.4299990879985408,1.0,1.0,1.0,0.29999887999820796,0.549999279998848,1.0,1.0,1.0,0.44999911999859205,1.0,0.002798404477447164,1.0,1.0,1.0,1.0,1.0,1.0,1.0,1.0,1.0,0.00010840017344027751,1.0,1.0,0.019998431997491198,1.0,0.5099992159987456,0.006998411197457915,0.28999886399818237,1.0,0.29999887999820796,0.099998559997696,1.0,1.0,1.0,1.0,0.3799990079984128,1.0,1.0,1.0,1.0,0.0017984028774446041,1.0,1.0,1.0,1.0,0.17999868799790078,1.0,1.0,1.0,1.0,0.007298411677458683,1.0,0.005098408157453052,1.0,0.4899991839986944,1.0,1.0,0.051998483197573116,1.0,1.0,0.06599850559760896,1.0,0.06399850239760384,1.0,0.1299986079977728,1.0,1.0,0.006298410077456124,1.0,1.0,0.11999859199774718,1.0,1.0,0.03199845119752191,1.0,1.0,1.0,1.0,1.0,1.0,1.0,1.0,0.00038840062144099427,1.0,0.29999887999820796,1.0,1.0,1.0,0.010998417597468155,0.44999911999859205,0.003698405917449468,1.0,1.0,1.0,1.0,1.0,1.0,1.0,1.0,0.00039840063744101987,1.0,0.024998439997503997,1.0,1.0,0.5899993439989504,1.0,0.949999919999872,0.007998412797460474,1.0,0.399999039998464,0.0008084012934420694,1.0,0.014998423997478397,0.032998452797524475,1.0,1.0,1.0,1.0,1.0,1.0,1.0,1.0,1.0,1.0,0.0012984020774433238,1.0,1.0,1.0,1.0,1.0,1.0,1.0,0.0001484002374403799,0.029998447997516792,1.0,0.058998494397591035,1.0,1.0,1.0,0.03499845599752959,0.3399989439983104,1.0,1.0,1.0,1.0,1.0,1.5400024640039427e-05,1.0,1.0,1.0,1.0,1.0,1.0,1.0,1.0,1.0,1.0,1.0,1.0,1.0,1.0,1.0,1.0,0.7599996159993856,1.0,1.0,1.0,0.0009884015814425303,0.099998559997696,1.0,1.0,1.0,1.0,1.0,1.0,1.0,1.7400027840044543e-05,1.0,1.0,1.0,0.1399986239977984,1.0,1.0,1.0,1.0,0.0008384013414421463,1.0,1.0,0.6699994719991552,1.0,1.0,0.003198405117448188,1.0,1.0,1.0,1.0,1.0,1.0,1.0,1.0,1.0,1.0,1.0,0.007298411677458683,1.0,1.0,1.0,1.0,1.0,1.0,1.0,1.0,1.0,0.1399986239977984,0.04699847519756031,0.030998449597519354,1.0,1.0,1.0,1.0,1.0,1.0,1.0,1.0,0.10999857599772159,0.0068984110374576595,1.0,1.0,0.5299992479987968,1.0,1.0,1.0,0.019998431997491198,0.003798406077449724,1.0,1.0,1.0,1.0,0.017998428797486078,0.050998481597570554,0.030998449597519354,1.0,1.0,0.0009584015334424534,1.0,1.0,0.04299846879755007,0.002598404157446652,0.08399853439765503,1.0,0.036998459197534715,1.0,1.0,0.8299997279995648,1.0,1.0,1.0,1.0,0.20999873599797758,1.0,1.0,0.00047840076544122465,0.3099988959982336,1.0,6.140009824015718e-05,0.7799996479994368,1.0,1.0,1.0,0.0056984091174545875,1.0,0.07099851359762176,1.0,1.0,1.0,1.0,1.0,0.2599988159981056,1.0,1.0,1.0,1.0,0.043998470397552635,1.0,0.03399845439752703,1.0,1.0,1.0,0.043998470397552635,0.003698405917449468,1.0,0.002598404157446652,1.0,1.0,1.0,0.028998446397514234,1.0,1.0,1.0,1.0,1.0,1.0,1.0,1.0,0.1699986719978752,1.0,1.0,1.0,1.0,1.0,1.0,1.0,0.024998439997503997,1.0,1.0,0.024998439997503997,1.0,1.0,1.0,1.0,0.35999897599836156,1.0,1.0,0.00039840063744101987,0.013998422397475837,1.0,1.0,1.0,1.0,1.0,0.001098401757442812,1.0,1.0,1.0,1.0,0.11999859199774718,1.0,1.0,0.11999859199774718,0.017998428797486078,1.0,0.0003584005734409175,1.0,1.0,1.0,0.002698404317446908,1.0,1.0,1.0,1.0,1.0,0.3899990239984384,0.3299989279982848,1.0,1.0,0.005598408957454332,0.00024840039744063587,1.0,1.0,1.0,0.0003584005734409175,1.0,1.0,0.6399994239990784,1.0,1.0,1.0,1.0,1.0,1.0,1.0,1.0,1.0,1.0,1.0,1.0,1.0,0.099998559997696,0.0002284003654405847,1.0,0.1699986719978752,1.0,0.34999895999833597,1.0,1.0,1.0,1.0,0.0002084003334405335,1.0,1.0,1.0,1.0,1.0,1.0,1.0,1.0,1.0,0.028998446397514234,1.0,1.0,1.0,1.0,0.0015984025574440918,1.0,1.0,1.0,1.0,0.001498402397443836,0.1399986239977984,0.06699850719761152,1.0,1.0,0.0002284003654405847,1.0,1.0,1.0,1.0,1.0,1.0,1.0,1.0,1.0,0.799999679999488,1.0,1.0,0.004598407357451772,1.0,0.1399986239977984,0.0006084009734415574,1.0,1.0,0.29999887999820796,1.0,1.0,1.0,1.0,1.0,1.0,1.0,0.3299989279982848,1.0,1.0,1.0,1.0,1.0,0.027998444797511672,0.008298413277461242,1.0,1.0,1.0,1.0,0.019998431997491198,1.0,1.0,1.0,1.0,6.240009984015974e-05,0.35999897599836156,1.0,1.0,0.028998446397514234,1.0,1.0,0.04899847839756543,1.0,0.06399850239760384,1.0,0.18999870399792637,0.07399851839762944,1.0,1.0,1.0,1.0,0.05699849119758592,1.0,1.0,0.06299850079760128,0.10999857599772159,1.0,1.0,1.0,0.06599850559760896,1.0,0.0007284011654418647,0.699999519999232,1.0,1.0,0.00289840463744742,1.0,0.08699853919766272,1.0,1.0,1.0,1.0,0.03599845759753215,1.0,0.1299986079977728,0.015998425597480957,0.08099852959764736,1.0,1.0,0.008898414237462779,1.0,1.0,1.0,1.0,1.0,1.0,1.0,1.0,1.0,0.2299987679980288,1.0,0.4799991679986688,0.0949985519976832,1.0,1.0,1.0,0.0001284002054403287,1.0,1.0,0.012998420797473277,1.0,1.0,1.0,1.0,1.0,0.020998433597493756,1.0,1.0,1.0,1.0,1.0,0.199998719997952,1.0,1.0,1.0,1.0,1.0,0.021998435197496315,1.0,1.0,1.0,1.0,1.0,1.0,0.006298410077456124,0.15999865599784957,1.0,1.0,1.0,1.0,0.0012984020774433238,1.0,1.0,1.0,1.0,1.0,1.0,0.14999863999782398,1.0,1.0,1.0,1.0,1.0,0.03399845439752703,1.0,1.0,1.0,1.0,1.0,0.2699988319981312,1.0,1.0,1.0,1.0,1.0,1.0,0.05699849119758592,1.0,1.0,1.0,1.0,0.34999895999833597,1.0,1.0,1.0,1.0,1.0,1.0,1.0,0.2699988319981312,1.0,1.0,1.0,1.0,1.0,0.06799850879761407,1.0,1.0,1.0,1.0,1.0,1.0,0.011998419197470715,0.1399986239977984,1.0,1.0,0.15999865599784957,1.0,1.0,0.004798407677452284,1.0,1.0,0.8799998079996928,0.013998422397475837,1.0,1.0,1.0,1.0,1.0,1.0,1.0,1.0,1.0,1.0,0.0699985119976192,1.0,1.0,0.03599845759753215,1.0,1.0,1.0,0.28999886399818237,0.3099988959982336,1.0,0.09599855359768576,1.0,1.4400023040036864e-05,1.0,1.0,0.4899991839986944,1.0,1.0,1.0,1.0,1.0,0.1399986239977984,1.0,1.0,1.0,1.0,0.0012984020774433238,1.0,1.0,0.1299986079977728,1.0,1.0,1.0,0.29999887999820796,1.0,0.003998406397450236,1.0,1.0,1.0,1.0,0.10999857599772159,1.0,1.0,1.0,1.0,0.008098412957460732,1.0,0.004298406877451004,1.0,1.0,0.49999919999872,0.05699849119758592,1.0,1.0,1.0,0.0005884009414415063,1.0,1.0,1.0,0.1299986079977728,1.0,1.0,1.0,1.0,1.0,0.04699847519756031,0.15999865599784957,1.0,1.0,1.0,1.0,1.0,1.0,1.0,1.0,1.0,1.0,1.0,1.0,1.0,0.027998444797511672,1.0,0.17999868799790078,1.0,1.0,1.0,1.0,0.03899846239753983,1.0,1.0,0.040998465597544956,1.0,1.0,1.0,1.0,1.0,0.35999897599836156,1.0,1.0,1.0,1.0,1.0,1.0,0.8699997919996671,0.1399986239977984,1.0,1.0,0.003598405757449212,1.0,1.0,1.0,1.0,1.0,0.1699986719978752,1.0,1.0,1.0,0.023998438397501435,1.0,1.0,1.0,1.0,1.0,1.0,1.0,0.023998438397501435,0.0002984004774407639,1.0,1.0,1.0,1.0,1.0,1.0,0.20999873599797758,1.0,1.0,0.0649985039976064,0.1399986239977984,1.0,1.0,1.0,1.0,0.036998459197534715,1.0,1.0,1.0,1.0,1.0,0.026998443197509114,1.0,1.0,1.0,1.0,1.0,1.0,1.0,1.0,1.0,1.0,1.0,0.013998422397475837,1.0,1.0,1.0,1.0,0.012998420797473277,1.0,1.0,1.8400029440047104e-05,0.0949985519976832,1.0,1.0,1.0,0.5899993439989504,0.3199989119982592,0.14999863999782398,1.0,1.0,1.0,1.0,1.0,1.0,1.0,1.0,1.0,0.099998559997696,1.0,1.0,0.004498407197451516,1.0,1.0,0.029998447997516792,1.0,1.0,0.44999911999859205,1.0,0.00018840030144048227,0.08899854239766784,1.0,0.009298414877463803,0.1299986079977728,1.0,1.0,1.0,1.0,1.0,1.0,1.0,1.0,1.0,1.0,1.0,1.0,1.0,1.0,0.11999859199774718,0.002598404157446652,1.0,1.0,1.0,1.0,0.3899990239984384,1.0,1.0,1.0,1.0,0.199998719997952,0.08799854079766528,1.0,0.05399848639757824,0.5199992319987712,0.0013984022374435798,1.0,1.0,1.0,1.0,1.0,1.0,1.0,1.0,0.7699996319994112,1.0,0.36999899199838715,1.0,1.0,0.07599852159763455,1.0,1.0,1.0,1.0,0.002798404477447164,0.032998452797524475,1.0,0.00037840060544096866,1.0,1.0,1.0,1.0,1.0,1.0,0.0004984007974412759,1.0,1.0,1.0,1.0,1.0,1.0,0.015998425597480957,1.0,0.5299992479987968,1.0,1.0,0.10999857599772159,1.0,1.0,1.0,0.23999878399805438,1.0,1.0,1.0,1.0,1.0,1.0,1.0,1.0,1.0,0.34999895999833597,1.0,1.0,1.0,0.15999865599784957,1.0,1.0,1.0,0.04899847839756543,1.0,1.0,1.0,1.0,1.0,1.0,1.0,1.0,1.0,0.6699994719991552,1.0,1.0,1.0,1.0,1.0,1.0,0.03199845119752191,0.2599988159981056,0.001698402717444348,0.29999887999820796,0.04999847999756799,0.022998436797498877,1.0,1.0,1.0,1.0,1.0,0.000818401309442095,1.0,1.0,1.0,1.0,1.0,1.0,0.9899999839999744,1.0,1.0,0.2699988319981312,0.040998465597544956,0.36999899199838715,1.0,0.029998447997516792,1.0,1.0,1.0,1.0,1.4400023040036864e-05,1.0,1.0,1.0,1.0,1.0,1.0,0.026998443197509114,1.0,0.5599992959988737,1.0,1.0,1.0,1.0,1.0,0.0056984091174545875,1.0,1.0,1.0,0.016998427197483516,0.199998719997952,9.84001574402519e-05,1.0,1.0,1.0,0.00439840703745126,1.0,1.0,1.0,1.0,1.0,1.0,1.0,1.0,1.0,1.0,1.0,1.0,0.020998433597493756,1.0,1.0,1.0,0.0007884012614420183,1.0,1.0,1.0,1.0,1.0,0.11999859199774718,0.5299992479987968,1.0,1.0,1.0,1.0,0.0001784002854404567,1.0,1.0,1.0,0.018998430397488636,0.03799846079753727,0.4099990559984896,1.0,0.17999868799790078,1.0,0.15999865599784957,1.0,1.0,1.0,1.0,1.0,1.0,0.28999886399818237,1.0,1.0,1.0,1.0,0.15999865599784957,1.0,1.0,1.0,0.030998449597519354,1.0,1.0,1.0,1.0,0.007698412317459707,1.0,1.0,1.0,1.0,0.00959841535746457,1.0,0.018998430397488636,1.0,1.0,1.0,1.0,1.0,1.0,1.0,1.0,0.05799849279758848,1.0,1.0,1.0,1.0,1.0,0.21999875199800317,0.18999870399792637,1.0,1.0,1.0,0.0005584008934414295,0.21999875199800317,1.0,0.24999879999807997,1.0,1.0,1.0,1.0,1.0,0.08799854079766528,1.0,0.014998423997478397,1.0,0.5099992159987456,1.0,1.0,1.0,0.004798407677452284,1.0,1.0,1.0,1.0,1.0,1.0,1.0,0.28999886399818237,1.0,1.0,1.0,1.0,1.0,1.0,1.0,1.0,1.0,1.0,1.0,0.017998428797486078,0.7699996319994112,1.0,1.0,0.03399845439752703,1.0,1.0,1.0,1.0,1.0,1.0,1.0,0.599999359998976,1.0,0.36999899199838715,1.0,0.0001984003174405079,1.0,1.0,1.0,1.0,1.0,1.0,1.0,0.199998719997952,0.20999873599797758,1.0,0.017998428797486078,1.0,1.0,0.3199989119982592,0.2599988159981056,1.0,1.0,1.0,1.0,0.0009984015974425558,0.08699853919766272,1.0,0.009998415997465595,1.0,0.009098414557463292,1.0,1.0,0.020998433597493756,1.0,1.0,1.0,1.0,1.0,1.0,0.49999919999872,1.0,0.00439840703745126,1.0,1.0,1.0,1.0,1.0,0.08099852959764736,0.002698404317446908,0.17999868799790078,1.0,1.0,1.0,1.0,0.050998481597570554,1.0,0.007198411517458427,0.099998559997696,1.0,1.0,0.099998559997696,0.10999857599772159,1.0,0.003698405917449468,1.0,1.0,0.00037840060544096866,1.0,1.0,1.0,1.0,0.199998719997952,0.2299987679980288,0.10999857599772159,0.05399848639757824,1.0,0.019998431997491198,1.0,1.0,1.0,0.2799988479981568,0.18999870399792637,1.0,1.0,1.0,0.023998438397501435,1.0,0.7899996639994624,1.0,1.0,1.0,7.700012320019712e-06,1.0,1.0,1.0,0.1699986719978752,1.0,1.0,0.5199992319987712,0.0061984099174558676,1.0,1.0,1.0,1.0,1.0,1.0,1.0,1.0,1.0,1.0,0.07199851519762432,0.026998443197509114,1.0,1.0,1.0,0.17999868799790078,0.005098408157453052,1.0,0.03599845759753215,1.0,0.0012984020774433238,1.0,1.0,1.0,1.0,1.0,1.0,1.0,0.09899855839769343,0.09099854559767295,0.001198401917443068,1.0,1.0,1.0,0.06699850719761152,1.0,0.0049984079974527956,1.0,1.0,1.0,0.027998444797511672,1.0,1.0,1.0,1.0,1.0,0.00039840063744101987,1.0,1.0,0.043998470397552635,1.0,0.018998430397488636,1.0,0.949999919999872,0.0002984004774407639,0.18999870399792637,1.0,1.0,1.0,1.0,1.0,1.0,1.0,1.0,1.0,0.054998487997580794,1.0,0.099998559997696,1.0,0.15999865599784957,1.0,1.0,1.0,0.04699847519756031,0.0009084014534423254,1.0,1.0,1.0,1.0,0.00239840383744614,1.0,0.002298403677445884,0.23999878399805438,1.0,1.0,1.0,1.0,1.0,0.014998423997478397,0.11999859199774718,1.0,1.0,0.019998431997491198,1.0,0.023998438397501435,1.0,1.0,1.0,1.0,1.0,1.0,1.0,0.08399853439765503,1.0,0.5299992479987968,1.0,1.0,0.3799990079984128,0.17999868799790078,1.0,1.0,1.0,1.0,1.0,0.002798404477447164,0.023998438397501435,1.0,1.0,1.0,1.0,1.0,1.0,1.0,1.0,1.0,1.0,1.0,0.014998423997478397,1.0,1.0,1.0,1.0,1.0,1.0,1.0,0.5899993439989504,0.08999854399767039,1.0,0.04699847519756031,1.0,0.10999857599772159,1.0,1.0,1.0,0.058998494397591035,1.0,1.0,1.0,0.18999870399792637,0.18999870399792637,1.0,0.05699849119758592,1.0,0.14999863999782398,1.0,1.0,1.0,1.0,1.0,1.0,1.0,1.0,0.2699988319981312,1.0,1.0,0.0015984025574440918,1.0,1.0,1.0,0.49999919999872,1.0,0.3099988959982336,1.0,0.007398411837458939,1.0,1.0,1.0,1.0,1.0,0.099998559997696,0.0001684002694404311,0.0056984091174545875,1.0,0.018998430397488636,1.0,0.799999679999488,1.0,0.2299987679980288,0.09299854879767808,1.0,1.0,1.0,1.0,1.0,0.05699849119758592,0.14999863999782398,1.0,1.0,0.14999863999782398,0.00239840383744614,1.0,1.0,1.0,1.0,0.004098406557450492,1.0,1.0,1.0,1.0,1.0,1.0,1.0,0.08899854239766784,0.00043840070144112234,1.0,0.4199990719985152,1.0,1.0,1.0,1.0,1.0,1.0,0.0002384003814406103,1.0,1.0,0.09699855519768831,0.005498408797454076,1.0,0.0003484005574408919,1.0,1.0,0.05299848479757568,1.0,1.0,1.0,1.0,0.11999859199774718,1.0,0.3099988959982336,0.3899990239984384,1.0,1.0,1.0,1.0,0.10999857599772159,0.007998412797460474,0.018998430397488636,1.0,1.0,1.0,1.0,1.0,1.0,0.000818401309442095,0.14999863999782398,0.009798415677465084,1.0,0.0002384003814406103,1.0,1.0,1.0,1.0,1.0,1.0,0.003998406397450236,1.0,1.0,1.0,1.0,1.0,0.032998452797524475,1.0,0.6399994239990784,1.0,0.004098406557450492,1.0,1.0,1.0,1.0,1.0,0.44999911999859205,1.0,1.0,1.0,1.0,0.18999870399792637,0.15999865599784957,1.0,1.0,1.0,1.0,0.002298403677445884,1.0,1.0,1.0,1.0,1.0,0.058998494397591035,1.0,1.0,1.0,1.0,1.0,1.0,1.0,1.0,1.0,1.0,1.0,0.11999859199774718,1.0,1.0,1.0,1.0,0.04499847199755519,1.0,1.0,0.3899990239984384,0.013998422397475837,1.0,1.0,0.8699997919996671,1.0,0.3799990079984128,1.0,1.0,0.03499845599752959,1.0,1.0,1.0,1.0,1.0,1.0,0.03199845119752191,0.027998444797511672,0.199998719997952,1.0,0.024998439997503997,1.0,1.0,1.0,1.0,1.0,1.0,0.14999863999782398,0.0002184003494405591,0.022998436797498877,1.0,1.0,1.0,1.0,1.0,1.0,0.29999887999820796,1.0,1.0,1.0,1.0,0.008298413277461242,0.2799988479981568,1.0,1.0,0.00439840703745126,1.0,1.0,1.0,1.0,0.1299986079977728,1.0,1.0,1.0,0.016998427197483516,0.050998481597570554,0.00045840073344117344,1.0,1.0,1.0,0.06299850079760128,1.0,1.0,0.002198403517445628,1.0,0.08899854239766784,1.0,1.0,1.0,1.0,0.06899851039761663,0.026998443197509114,1.0,1.0,1.0,1.0,1.0,1.0,1.0,1.0,1.0,1.0,0.14999863999782398,1.0,0.6099993759990016,1.0,1.0,1.0,1.0,0.1699986719978752,0.036998459197534715,1.0,1.0,1.0,1.0,0.10999857599772159,0.10999857599772159,1.0,1.0,1.0,1.0,1.0,1.0,1.0,1.0,1.0,0.3099988959982336,1.0,0.030998449597519354,1.0,1.0,1.0,0.012998420797473277,0.003298405277448444,1.0,1.0,0.020998433597493756,1.0,0.21999875199800317,1.0,1.0,1.0,1.0,1.0,1.0,1.0,1.0,1.0,1.0,1.0,1.0,1.0,1.0,0.021998435197496315,0.17999868799790078,0.003198405117448188,1.0,1.0,1.0,0.011998419197470715,1.0,1.0,1.0,1.0,0.09799855679769087,0.399999039998464,1.0,1.0,1.0,1.0,1.0,0.08699853919766272,1.0,1.0,1.0,0.03599845759753215,0.0003684005894409431,0.001498402397443836,1.0,1.0,1.0,1.0,0.04499847199755519,1.0,1.0,1.0,0.03899846239753983,1.0,1.0,1.0,1.0,1.0,1.0,1.0,1.0,0.04899847839756543,0.7899996639994624,1.0,1.0,1.0,1.0,1.0,1.0,1.0,1.0,1.0,1.0,0.03199845119752191,1.0,1.0,1.0,1.0,0.030998449597519354,0.008798414077462523,1.0,0.3199989119982592,1.0,1.0,1.0,1.0,1.0,1.0,1.0,1.0,1.0,0.4699991519986432,1.0,1.0,1.0,0.008298413277461242,1.0,0.003198405117448188,0.05799849279758848,0.015998425597480957,1.0,1.0,0.029998447997516792,1.0,1.0,1.0,0.0003484005574408919,1.0,1.0,1.0,1.0,1.0,1.0,1.0,1.0,1.0,1.0,1.0,1.0,1.0,0.09799855679769087,1.0,1.0,1.0,1.0,1.0,0.17999868799790078,1.0,1.0,1.0,0.00489840783745254,1.0,0.11999859199774718,1.0,1.0,1.0,0.007298411677458683,1.0,1.0,1.0,1.0,0.0649985039976064,0.18999870399792637,1.0,0.05299848479757568,0.28999886399818237,0.012998420797473277,1.0,1.0,1.0,0.0002184003494405591,0.019998431997491198,1.0,1.0,1.0,1.0,1.0,1.0,1.0,1.0,1.0,1.0,1.0,1.0,1.0,1.0,1.0,1.0,1.0,0.06399850239760384,0.11999859199774718,1.0,1.0,0.0007284011654418647,1.0,1.0,1.0,1.0,1.0,1.0,1.0,0.09599855359768576,1.0,1.0,1.0,0.599999359998976,1.0,1.0,1.0,0.06699850719761152,1.0,0.09599855359768576,0.34999895999833597,1.0,1.0,1.0,0.10999857599772159,0.0009984015974425558,1.0,0.040998465597544956,0.003998406397450236,1.0,1.0,1.0,0.2699988319981312,0.1399986239977984,0.5199992319987712,0.024998439997503997,0.23999878399805438,1.0,0.0061984099174558676,1.0,1.0,1.0,0.11999859199774718,1.0,1.0,1.0,1.0,0.027998444797511672,1.0,1.0,0.1399986239977984,1.0,1.0,0.1699986719978752,1.0,1.0,1.0,1.0,1.0,1.0,0.032998452797524475,1.0,1.0,1.0,1.0,1.0,1.0,1.0,1.0,1.0,1.0,0.0068984110374576595,0.4299990879985408,1.0,0.07599852159763455,1.0,0.10999857599772159,1.0,1.0,1.0,0.009998415997465595,1.0,0.10999857599772159,0.24999879999807997,1.0,1.0,1.0,1.0,1.0,1.0,1.0,1.0,1.0,1.0,0.018998430397488636,1.0,1.0,1.0,1.0,0.1399986239977984,0.000918401469442351,1.0,1.0,1.0,0.11999859199774718,0.03899846239753983,1.0,1.0,1.0,0.002098403357445372,0.7899996639994624,1.0,0.04499847199755519,0.0008084012934420694,1.0,1.0,1.0,0.1399986239977984,1.0,1.0,1.0,1.0,0.009498415197464315,1.0,1.0,1.0,1.0,1.0,1.0,0.3099988959982336,1.0,1.0,1.0,0.0007184011494418391,0.14999863999782398,1.0,0.03199845119752191,1.0,1.0,1.0,1.0,0.04599847359755775,1.0,1.0,1.0,1.0,0.29999887999820796,1.0,0.012998420797473277,1.0,0.007998412797460474,1.0,1.0,1.0,0.028998446397514234,1.0,0.11999859199774718,0.06199849919759872,1.0,1.0,1.0,0.012998420797473277,1.0,1.0,1.0,1.0,1.0,0.09699855519768831,0.18999870399792637,0.08099852959764736,1.0,1.0,1.0,0.14999863999782398,1.0,0.026998443197509114,1.0,1.0,0.022998436797498877,0.06299850079760128,1.0,0.06899851039761663,1.0,1.0,1.0,1.0,0.040998465597544956,1.0,1.0,1.0,1.0,0.08299853279765247,1.0,1.0,1.0,1.0,1.0,1.0,1.0,0.021998435197496315,1.0,1.0,1.0,1.0,1.0,1.0,1.0,1.0,0.0056984091174545875,0.1299986079977728,1.0,0.17999868799790078,0.1299986079977728,1.0,1.0,0.005198408317453308,1.0,0.025998441597506552,0.5199992319987712,0.005798409277454844,0.004298406877451004,1.0,1.0,1.0,0.021998435197496315,1.0,1.0,1.0,1.0,0.003098404957447932,0.08699853919766272,0.0009984015974425558,0.45999913599861764,1.0,0.03499845599752959,1.0,1.0,1.0,1.0,1.0,1.0,1.0,0.028998446397514234,1.0,0.002598404157446652,0.0949985519976832,1.0,1.0,0.1299986079977728,0.022998436797498877,1.0,1.0,0.0004284006854410967,1.0,1.0,1.0,1.0,1.0,1.0,1.0,1.0,0.0008284013254421207,0.11999859199774718,1.0,1.0,1.0,1.0,1.0,0.0599984959975936,1.0,1.0,1.0,1.0,1.0,0.1399986239977984,1.0,1.0,0.14999863999782398,1.0,1.0,1.0,0.3099988959982336,1.0,1.0,1.0,1.0,0.07599852159763455,1.0,1.0,0.3399989439983104,1.0,0.00189840303744486,0.0849985359976576,0.099998559997696,1.0,1.0,1.0,0.06399850239760384,1.0,8.740013984022373e-05,1.0,0.08899854239766784,0.018998430397488636,1.0,1.0,1.0,1.0,1.0,1.0,0.4199990719985152,0.043998470397552635,1.0,0.011998419197470715,1.0,1.0,1.0,1.0,0.11999859199774718,0.4399991039985664,1.0,0.21999875199800317,1.0,1.0,1.0,0.003698405917449468,1.0,1.0,1.0,1.0,1.0,0.019998431997491198,0.009298414877463803,1.0,1.0,1.0,1.0,1.0,1.0,1.0,1.0,0.0699985119976192,1.0,1.0,1.0,1.0,0.032998452797524475,1.0,1.0,1.0,0.5099992159987456,1.0,1.0,1.0,1.0,1.0,1.0,0.020998433597493756,0.0007484011974419159,1.0,0.004798407677452284,1.0,1.0,1.0,0.00289840463744742,0.032998452797524475,1.0,0.14999863999782398,1.0,1.0,1.0,1.0,1.0,0.3899990239984384,1.0,1.0,0.5599992959988737,1.0,1.0,1.0,1.0,0.1299986079977728,0.025998441597506552,1.0,1.0,1.0,0.4799991679986688,1.0,1.0,0.018998430397488636,1.0,0.7099995359992576,0.09199854719767551,1.0,1.0,1.0,0.04699847519756031,0.949999919999872,1.0,1.0,0.08899854239766784,0.23999878399805438,0.002198403517445628,0.1699986719978752,0.0013984022374435798,1.0,1.0,1.0,1.0,1.0,1.0,0.020998433597493756,1.0,0.055998489597583356,1.0,1.0,0.18999870399792637,1.0,1.0,1.0,0.11999859199774718,0.09699855519768831,1.0,1.0,1.0,1.0,1.0,1.0,0.3399989439983104,1.0,1.0,0.6299994079990529,1.0,1.0,0.0003584005734409175,1.0,1.0,1.0,1.0,1.0,1.0,0.07399851839762944,1.0,0.9899999839999744,1.0,1.0,1.0,1.0,1.0,0.15999865599784957,1.0,1.0,1.0,1.0,1.0,1.0,1.0,1.0,1.0,1.0,1.0,1.0,1.0,0.0003184005094408151,1.0,1.0,1.0,0.11999859199774718,0.006498410397456635,1.0,1.0,0.2299987679980288,1.0,0.06699850719761152,1.0,1.0,1.0,1.0,1.0,0.1299986079977728,1.0,1.0,0.36999899199838715,1.0,0.3399989439983104,1.0,0.18999870399792637,0.006298410077456124,1.0,0.03599845759753215,1.0,1.0,1.0,1.0,1.0,1.0,1.0,1.0,1.0,0.014998423997478397,1.0,1.0,0.051998483197573116,1.0,0.099998559997696,1.0,0.09399855039768064,1.0,0.11999859199774718,1.0,1.0,1.0,1.0,1.0,1.0,1.0,7.740012384019814e-05,0.2699988319981312,1.0,1.0,1.0,1.0,1.0,1.0,1.0,1.0,0.17999868799790078,1.0,1.0,1.0,1.0,1.0,0.1299986079977728,0.20999873599797758,1.0,1.0,1.0,1.0,0.006098409757455612,1.0,1.0,0.010998417597468155,1.0,1.0,0.0034984055974489558,1.0,0.18999870399792637,1.0,1.0,1.0,0.14999863999782398,0.0015984025574440918,1.0,0.00859841375746201,1.0,1.0,0.00859841375746201,1.0,0.11999859199774718,1.0,1.0,1.0,1.0,1.0,1.0,1.0,0.1299986079977728,1.0,0.11999859199774718,1.0,1.0,1.0,1.0,1.0,1.0,1.0,0.23999878399805438,0.007298411677458683,0.5099992159987456,1.0,1.0,0.1299986079977728,1.0,0.07499851999763199,0.04299846879755007,0.4099990559984896,1.0,1.0,1.0,1.0,1.0,1.0,1.0,1.0,0.040998465597544956,1.0,1.0,0.012998420797473277,1.0,0.35999897599836156,0.6099993759990016,1.0,0.006998411197457915,1.0,1.0,1.0,1.0,1.0,1.0,1.0,1.0,0.2599988159981056,0.08099852959764736,1.0,1.0,0.4299990879985408,1.0,1.0,1.0,0.199998719997952,0.0007384011814418903,1.0,0.45999913599861764,0.199998719997952,0.025998441597506552,1.0,1.0,1.0,1.0,1.0,0.20999873599797758,1.0,1.0,1.0,1.0,0.015998425597480957,1.0,1.0,1.0,1.0,0.0008884014214422743,0.23999878399805438,1.0,1.0,1.0,1.0,0.099998559997696,1.0,1.0,0.5699993119988992,0.0015984025574440918,1.0,1.0,0.00639841023745638,1.0,1.0,1.0,1.0,1.0,1.0,1.0,0.013998422397475837,1.0,1.0,0.0002984004774407639,0.4099990559984896,1.0,1.0,0.0003384005414408663,1.0,0.06299850079760128,1.0,1.0,0.3399989439983104,0.029998447997516792,0.2699988319981312,1.0,1.0,0.49999919999872,1.0,1.0,1.0,1.0,0.0007784012454419926,1.0,0.599999359998976,0.015998425597480957,0.21999875199800317,1.0,0.018998430397488636,1.0,1.0,0.06599850559760896,1.0,0.022998436797498877,1.0,1.0,1.0,1.0,0.2699988319981312,1.0,1.0,0.058998494397591035,1.0,1.0,1.0,0.03199845119752191,1.0,1.0,0.1299986079977728,1.0,1.0,1.0,1.0,1.0,1.0,0.030998449597519354,1.0,1.0,1.0,0.0699985119976192,1.0,1.0,1.0,1.0,0.003098404957447932,0.06899851039761663,1.0,1.0,0.0001684002694404311,1.0,1.0,1.0,0.04499847199755519,1.0,1.0,1.0,0.6699994719991552,1.0,1.0,0.5099992159987456,0.002698404317446908,0.18999870399792637,1.0,0.051998483197573116,1.0,1.0,1.0,1.0,1.0,1.0,1.0,1.0,1.0,0.15999865599784957,1.0,1.0,0.011998419197470715,1.0,1.0,1.0,1.0,1.0,0.024998439997503997,1.0,1.0,1.0,1.0,1.0,1.0,1.0,1.0,1.0,1.0,1.0,1.0,0.10999857599772159,0.5199992319987712,1.0,1.0,1.0,1.0,0.2599988159981056,1.0,1.0,0.14999863999782398,1.0,1.0,1.0,1.0,1.0,1.0,1.0,1.0,1.0,0.07399851839762944,1.0,1.0,1.0,1.0,1.0,1.0,1.0,0.030998449597519354,1.0,1.0,1.0,1.0,1.0,1.0,1.0,0.10999857599772159,1.0,1.0,1.0,1.0,0.2299987679980288,1.0,1.0,1.0,1.0,1.0,1.0,0.17999868799790078,0.0006484010374416599,1.0,1.0,0.00239840383744614,1.0,0.18999870399792637,0.06399850239760384,1.0,1.0,1.0,1.0,0.010998417597468155,1.0,1.0,1.0,1.0,1.0,1.0,1.0,0.024998439997503997,1.0,1.0,0.09099854559767295,0.0004884007814412503,1.0,0.04199846719754751,1.0,0.10999857599772159,1.0,1.0,1.0,1.0,1.0,1.0,1.0,0.0002884004614407383,1.0,1.0,1.0,1.0,1.0,1.0,1.0,0.11999859199774718,1.0,0.08599853759766016,1.0,1.0,0.09799855679769087,1.0,0.17999868799790078,1.0,1.0,1.0,0.00439840703745126,1.0,1.0,1.0,0.0001284002054403287,0.06699850719761152,0.055998489597583356,1.0,0.10999857599772159,0.029998447997516792,0.1699986719978752,0.5399992639988224,1.0,1.0,1.0,1.0,0.029998447997516792,1.0,0.23999878399805438,1.0,0.8599997759996416,1.0,1.0,0.35999897599836156,0.07399851839762944,1.0,1.0,1.0,1.0,1.0,0.022998436797498877,0.05799849279758848,1.0,1.0,1.0,1.0,0.5599992959988737,0.06699850719761152,1.0,0.006598410557456891,1.0,1.0,1.0,1.0,1.0,0.2599988159981056,1.0,0.949999919999872,1.0,1.0,1.0,0.08699853919766272,0.949999919999872,0.11999859199774718,1.0,0.7399995839993344,1.0,1.0,1.0,1.0,0.0002384003814406103,1.0,1.0,1.0,1.0,1.0,1.0,0.08899854239766784,0.1299986079977728,1.0,1.0,0.34999895999833597,1.0,1.0,0.14999863999782398,1.0,1.0,0.4699991519986432,0.23999878399805438,0.05299848479757568,1.0,1.0,0.3099988959982336,1.0,1.0,1.0,1.0,1.0,1.0,1.0,1.0,0.199998719997952,0.050998481597570554,1.0,0.011998419197470715,1.0,0.4199990719985152,0.08299853279765247,1.0,1.0,0.009998415997465595,0.07199851519762432,1.0,0.07499851999763199,1.0,1.0,1.0,0.099998559997696,0.00041840066944107113,1.0,1.0,0.009698415517464826,1.0,0.10999857599772159,1.0,1.0,1.0,1.0,1.0,0.3299989279982848,1.0,0.4099990559984896,1.0,1.0,1.0,1.0,0.001698402717444348,1.0,1.0,1.0,1.0,0.11999859199774718,1.0,1.0,1.0,1.0,9.84001574402519e-05,1.0,0.07699852319763711,1.0,1.0,1.0,1.0,0.2799988479981568,1.0,0.001698402717444348,1.0,1.0,1.0,0.0002984004774407639,1.0,0.11999859199774718,1.0,1.0,0.018998430397488636,0.1699986719978752,1.0,0.03599845759753215,1.0,0.015998425597480957,1.0,0.06199849919759872,0.020998433597493756,1.0,0.7499995999993601,1.0,0.0009584015334424534,0.027998444797511672,1.0,1.0,1.0,0.1399986239977984,1.0,1.0,1.0,1.0,1.0,1.0,1.0,0.06399850239760384,1.0,1.0,1.0,1.0,1.0,1.0,1.0,1.0,1.0,0.06899851039761663,1.0,1.0,0.05699849119758592,0.0003484005574408919,1.0,0.20999873599797758,1.0,1.0,0.024998439997503997,1.0,0.002298403677445884,1.0,1.0,0.18999870399792637,1.0,1.0,1.0,1.0,1.0,1.0,1.0,1.0,1.0,1.0,1.0,1.0,1.0,1.0,1.0,0.1399986239977984,0.4399991039985664,1.0,1.0,1.0,1.0,0.1699986719978752,0.05699849119758592,1.0,1.0,1.0,0.3099988959982336,0.11999859199774718,1.0,1.0,1.0,1.0,1.0,1.0,0.399999039998464,1.0,1.0,1.0,1.0,1.0,0.3299989279982848,1.0,1.0,1.0,1.0,0.17999868799790078,1.0,0.028998446397514234,1.0,1.0,1.0,1.0,1.0,1.0,1.0,1.0,1.0,1.0,0.006998411197457915,1.0,0.2299987679980288,0.006698410717457147,0.010998417597468155,1.0,0.001998403197445116,1.0,1.0,1.0,1.0,1.0,1.0,1.0,1.0,1.0,1.0,0.040998465597544956,1.0,0.0003684005894409431,1.0,0.23999878399805438,0.00037840060544096866,0.5899993439989504,1.0,1.0,0.007298411677458683,1.0,1.0,1.0,1.0,1.0,1.0,1.0,1.0,1.0,1.0,1.0,1.0,1.0,0.4799991679986688,1.0,0.026998443197509114,1.0,0.15999865599784957,0.4399991039985664,1.0,1.0,0.03199845119752191,1.0,1.0,1.0,1.0,1.0,1.0,1.0,1.0,1.0,1.0,1.0,1.0,0.11999859199774718,1.0,0.15999865599784957,1.0,1.0,1.0,0.009998415997465595,1.0,1.0,1.0,0.07799852479763968,1.0,1.0,1.0,0.07299851679762688,0.599999359998976,1.0,1.0,1.0,1.0,1.0,1.0,0.2599988159981056,0.3899990239984384,1.0,1.0,1.0,1.0,1.0,0.8599997759996416,0.002098403357445372,1.0,0.0002884004614407383,0.4399991039985664,0.004498407197451516,1.0,1.0,0.20999873599797758,1.0,0.002798404477447164,0.17999868799790078,1.0,1.0,0.05299848479757568,1.0,0.0005084008134413014,1.0,1.0,1.0,1.0,1.0,0.23999878399805438,0.002098403357445372,1.0,1.0,0.0003384005414408663,1.0,1.0,1.0,1.0,1.0,1.0,1.0,0.03799846079753727,1.0,1.0,1.0,1.0,0.00859841375746201,0.4299990879985408,0.021998435197496315,1.0,1.0,1.0,1.0,1.0,0.021998435197496315,1.0,1.0,0.000818401309442095,1.0,0.004298406877451004,0.021998435197496315,0.1399986239977984,0.5899993439989504,1.0,0.5099992159987456,0.7799996479994368,0.09699855519768831,1.0,1.0,1.0,1.0,1.0,1.0,1.0,1.0,1.0,0.18999870399792637,1.0,1.0,0.011998419197470715,0.3199989119982592,1.0,1.0,1.0,1.0,1.0,1.0,1.0,1.0,1.0,0.3299989279982848,0.05799849279758848,1.0,1.0,1.0,1.0,0.0004984007974412759,0.7499995999993601,1.0,1.0,1.0,0.17999868799790078,1.0,1.0,1.0,1.0,1.0,1.0,1.0,0.4199990719985152,1.0,1.0,1.0,1.0,1.0,0.5899993439989504,0.055998489597583356,1.0,1.0,0.0003384005414408663,1.0,0.0003684005894409431,1.0,1.0,0.0007084011334418135,1.0,1.0,1.0,1.0,1.0,1.0,1.0,0.009798415677465084,1.0,1.0,1.0,1.0,1.0,1.0,1.0,1.0,1.0,0.36999899199838715,0.010998417597468155,0.49999919999872,1.0,1.0,1.0,1.0,1.0,0.017998428797486078,1.0,1.0,1.0,1.0,1.0,0.29999887999820796,1.0,1.0,1.0,1.0,1.0,1.0,1.0,0.4299990879985408,1.0,1.0,1.0,1.0,0.00959841535746457,0.07299851679762688,1.0,1.0,1.0,0.050998481597570554,1.0,1.0,1.0,1.0,1.0,1.0,1.0,1.0,0.1699986719978752,0.0006184009894415831,0.03599845759753215,0.04699847519756031,0.019998431997491198,1.0,1.0,1.0,1.0,1.0,1.0,0.3899990239984384,1.0,0.24999879999807997,1.0,1.0,1.0,0.0005184008294413271,1.0,1.0,1.0,1.0,1.0,1.0,0.058998494397591035,0.35999897599836156,1.0,1.0,1.0,0.003698405917449468,1.0,0.027998444797511672,0.2299987679980288,1.0,0.4399991039985664,1.0,1.0,1.0,1.0,0.10999857599772159,1.0,0.001698402717444348,0.2599988159981056,1.0,1.0,1.0,1.0,1.0,1.0,1.0,1.0,1.0,1.0,0.2799988479981568,1.0,1.0,0.003098404957447932,1.0,1.0,1.0,1.0,0.0017984028774446041,1.0,1.0,1.0,1.0,1.0,1.0,1.0,1.0,1.0,1.0,1.0,0.549999279998848,0.0015984025574440918,1.0,1.0,1.0,0.055998489597583356,1.0,1.0,1.0,1.0,0.0799985279976448,1.0,1.0,0.058998494397591035,0.23999878399805438,0.0001784002854404567,1.0,1.0,1.0,1.0,1.0,1.0,1.0,1.0,1.0,0.006998411197457915,0.03799846079753727,0.3199989119982592,1.0,0.004298406877451004,1.0,1.0,1.0,1.0,1.0,1.0,0.0009984015974425558,1.0,0.06199849919759872,1.0,1.0,1.0,0.0949985519976832,1.0,1.0,1.0,1.0,1.0,1.0,0.026998443197509114,1.0,1.0,0.003798406077449724,0.2799988479981568,0.11999859199774718,1.0,1.0,1.0,1.0,0.03399845439752703,1.0,1.0,1.0,1.0,1.0,1.0,1.0,1.0,1.0,1.0,1.0,0.001098401757442812,1.0,0.04299846879755007,1.0,0.08999854399767039,0.022998436797498877,1.0,1.0,1.0,1.0,1.0,1.0,1.0,1.0,1.0,1.0,0.004198406717450748,0.001098401757442812,1.0,1.0,1.0,1.0,0.8399997439995904,1.0,1.0,0.04199846719754751,1.0,1.0,0.17999868799790078,1.0,1.0,1.0,1.0,1.0,1.0,0.0008084012934420694,1.0,1.0,1.0,1.0,1.0,1.0,1.0,0.0049984079974527956,1.0,0.006498410397456635,0.004298406877451004,1.0,1.0,0.10999857599772159,0.029998447997516792,1.0,0.29999887999820796,0.15999865599784957,1.0,1.0,0.025998441597506552,1.0,1.0,0.00041840066944107113,1.0,1.0,1.0,1.0,0.011998419197470715,1.0,1.0,0.004198406717450748,1.0,1.0,1.0,0.4099990559984896,1.0,1.0,0.3899990239984384,1.0,1.0,1.0,1.0,1.0,1.0,1.0,0.08799854079766528,1.0,1.0,1.0,1.0,1.0,0.199998719997952,1.0,0.002598404157446652,1.0,0.007898412637460219,1.0,0.699999519999232,1.0,1.0,1.0,1.0,1.0,1.0,1.0,0.11999859199774718,0.011998419197470715,1.0,1.0,1.0,1.0,0.18999870399792637,1.0,1.0,1.0,1.0,1.0,1.0,0.28999886399818237,0.36999899199838715,0.08899854239766784,1.0,1.0,0.006698410717457147,1.0,1.0,0.013998422397475837,1.0,0.399999039998464,1.0,1.0,1.0,1.0,1.0,1.0,0.001198401917443068,1.0,1.0,0.4099990559984896,1.0,1.0,0.7799996479994368,1.0,1.0,1.0,1.0,1.0,0.1299986079977728,1.0,0.199998719997952,1.0,1.0,0.001698402717444348,0.014998423997478397,1.0,1.0,1.0,0.08799854079766528,1.0,1.0,1.0,1.0,0.06199849919759872,1.0,1.0,0.009698415517464826,0.099998559997696,1.0,1.0,1.0,0.29999887999820796,0.34999895999833597,0.04299846879755007,1.0,1.0,1.0,1.0,1.0,1.0,1.0,1.0,0.003798406077449724,1.0,1.0,0.18999870399792637,1.0,0.20999873599797758,1.0,1.0,1.0,1.0,1.0,1.0,1.0,1.0,1.0,1.0,1.0,1.0,0.09399855039768064,1.0,0.5699993119988992,1.0,1.0,0.2799988479981568,0.10999857599772159,1.0,0.199998719997952,0.3099988959982336,1.0,1.0,0.10999857599772159,1.0,1.0,0.04299846879755007,1.0,0.001998403197445116,1.0,1.0,1.0,1.0,1.0,0.15999865599784957,1.0,1.0,1.0,1.0,1.0,1.0,1.0,1.0,1.0,0.14999863999782398,1.0,1.0,1.0,1.0,0.00045840073344117344,0.1399986239977984,1.0,1.0,1.0,0.001198401917443068,0.0017984028774446041,1.0,0.09299854879767808,1.0,1.0,1.0,1.0,1.0,1.0,0.010998417597468155,0.09399855039768064,1.0,0.032998452797524475,1.0,1.0,1.0,1.0,1.0,1.0,0.08799854079766528,1.0,1.0,1.0,1.0,1.0,0.0007684012294419671,1.0,0.009798415677465084,1.0,1.0,1.0,0.3399989439983104,1.0,0.09099854559767295,1.0,0.043998470397552635,1.0,1.0,1.0,1.0,1.0,1.0,1.0,0.026998443197509114,1.0,1.0,1.0,0.002598404157446652,0.03599845759753215,0.008198413117460987,1.0,1.0,1.0,1.0,0.0007784012454419926,1.0,0.10999857599772159,1.0,0.0003484005574408919,1.0,1.0,0.5099992159987456,1.0,0.2299987679980288,1.0,1.0,1.0,1.0,0.013998422397475837,1.0,1.0,1.0,1.0,1.0,1.0,1.0,1.0,1.0,1.0,1.0,0.03199845119752191,0.009998415997465595,0.17999868799790078,0.023998438397501435,1.0,1.0,0.026998443197509114,0.1699986719978752,1.0,1.0,1.0,1.0,1.0,1.0,1.0,1.0,1.0,1.0,1.0,1.0,1.0,0.0008084012934420694,1.0,1.0,2.940004704007526e-05,1.0,1.0,1.0,1.0,1.0,1.0,1.0,0.1299986079977728,1.0,0.9599999359998976,1.0,1.0,1.0,1.0,0.08999854399767039,1.0,1.0,1.0,1.0,1.0,1.0,1.0,1.0,1.0,1.0,1.0,1.0,1.0,1.0,0.018998430397488636,1.0,1.0,1.0,1.0,1.0,1.0,1.0,1.0,1.0,0.00013840022144035428,0.0003384005414408663,0.04699847519756031,1.0,1.0,1.0,1.0,0.1299986079977728,0.3299989279982848,1.0,1.0,1.0,1.0,1.0,1.0,0.0004984007974412759,0.0001984003174405079,0.004198406717450748,1.0,1.0,1.0,1.0,1.0,1.0,1.0,1.0,1.0,1.0,1.0,0.007598412157459451,1.0,1.0,0.0013984022374435798,1.0,0.2299987679980288,1.0,0.1299986079977728,1.0,1.0,0.3799990079984128,1.0,0.07099851359762176,1.0,0.021998435197496315,0.08999854399767039,0.002998404797447676,1.0,1.0,1.0,1.0,1.0,1.0,1.0,1.0,0.14999863999782398,0.03599845759753215,1.0,0.022998436797498877,1.0,1.0,1.0,1.0,0.017998428797486078,0.45999913599861764,1.0,1.0,0.3199989119982592,1.0,0.018998430397488636,1.0,1.0,1.0,1.0,1.0,0.1399986239977984,0.06299850079760128,0.11999859199774718,1.0,1.0,1.0,1.0,1.0,1.0,0.599999359998976,0.017998428797486078,1.0,1.0,0.016998427197483516,0.0049984079974527956,0.001098401757442812,0.34999895999833597,0.4199990719985152,1.0,1.0,0.0849985359976576,1.0,0.017998428797486078,0.011998419197470715,0.0058984094374551,1.0,1.0,1.0,1.0,1.0,1.0,1.0,1.0,0.7599996159993856,1.0,1.0,0.3199989119982592,0.013998422397475837,0.2799988479981568,9.84001574402519e-05,0.001498402397443836,1.0,1.0,1.0,0.043998470397552635,0.017998428797486078,0.10999857599772159,1.0,1.0,1.0,1.0,1.0,1.0,0.013998422397475837,1.0,1.0,1.0,1.0,1.0,0.06299850079760128,1.0,1.0,1.0,1.0,1.0,1.0,1.0,1.0,1.0,1.0,0.44999911999859205,1.0,1.0,1.0,1.0,0.21999875199800317,0.014998423997478397,1.0,0.8399997439995904,1.0,1.0,1.0,1.0,1.0,1.0,1.0,0.005498408797454076,0.009498415197464315,1.0,1.0,1.0,1.0,1.0,1.0,0.029998447997516792,1.0,1.0,0.036998459197534715,1.0,0.2599988159981056,1.0,0.012998420797473277,1.0,1.0,1.0,1.0,1.0,1.0,0.003098404957447932,0.8299997279995648,1.0,1.0,1.0,1.0,0.0699985119976192,0.024998439997503997,1.0,1.0,1.0,1.0,1.0,0.2799988479981568,0.28999886399818237,1.0,0.0649985039976064,1.0,1.0,1.0,1.0,1.0,1.0,0.1699986719978752,1.0,1.0,0.00389840623744998,1.0,0.7099995359992576,0.07699852319763711,1.0,0.00859841375746201,1.0,1.0,1.0,1.0,1.0,1.0,1.0,0.549999279998848,1.0,0.04899847839756543,0.021998435197496315,1.0,1.0,1.0,1.0,1.0,0.1399986239977984,1.0,1.0,1.0,1.0,1.0,1.0,1.0,1.0,8.440013504021606e-05,0.009498415197464315,1.0,0.06299850079760128,1.0,2.3400037440059902e-05,1.0,1.0,1.0,0.00043840070144112234,0.007198411517458427,1.0,1.0,1.0,1.0,1.0,1.0,1.0,1.0,1.0,1.0,1.0,1.0,0.023998438397501435,1.0,1.0,1.0,1.0,1.0,1.0,1.0,1.0,1.0,1.0,0.014998423997478397,1.0,0.10999857599772159,1.0,1.0,1.0,1.0,0.05399848639757824,1.0,1.0,1.0,1.0,1.0,1.0,0.004698407517452028,1.0,1.0,1.0,1.0,1.0,0.23999878399805438,0.29999887999820796,1.0,1.0,1.0,1.0,0.009898415837465339,1.0,1.0,1.0,0.06699850719761152,1.0,1.0,1.0,0.3899990239984384,1.0,1.0,1.0,0.0004484007174411479,1.0,1.0,0.11999859199774718,0.6699994719991552,0.04199846719754751,1.0,1.0,0.17999868799790078,1.0,1.0,1.0,1.0,0.15999865599784957,1.0,1.0,1.0,0.10999857599772159,1.0,0.11999859199774718,1.0,1.0,0.004198406717450748,0.099998559997696,1.0,1.0,0.04499847199755519,1.0,1.0,1.0,0.4199990719985152,1.0,1.0,0.001698402717444348,0.11999859199774718,0.0049984079974527956,0.1699986719978752,1.0,0.0599984959975936,1.0,1.0,1.0,0.003698405917449468,0.099998559997696,1.0,0.001098401757442812,1.0,1.0,0.0003184005094408151,1.0,1.0,1.0,1.0,1.0,1.0,1.0,1.0,1.0,1.0,1.0,1.0,0.0799985279976448,0.00489840783745254,1.0,1.0,0.008498413597461755,1.0,0.6699994719991552,1.0,1.0,1.0,0.3299989279982848,0.09299854879767808,1.0,0.002298403677445884,1.0,1.0,1.0,1.0,0.09199854719767551,1.0,1.0,0.050998481597570554,0.18999870399792637,1.0,0.099998559997696,1.0,0.0003384005414408663,1.0,1.0,0.21999875199800317,1.0,1.0,1.0,1.0,0.3199989119982592,1.0,1.0,1.0,0.3099988959982336,1.0,1.0,1.0,0.04699847519756031,1.0,1.0,0.2299987679980288,0.039998463997542394,1.0,1.0,1.0,1.0,1.0,1.0,0.005298408477453564,1.0,1.0,1.640002624004198e-05,1.0,0.10999857599772159,0.11999859199774718,1.0,1.0,1.0,1.0,1.0,1.0,0.002198403517445628,1.0,1.0,1.0,1.0,1.0,1.0,0.7199995519992832,1.0,1.0,0.04999847999756799,1.0,2.240003584005734e-05,1.0,0.06299850079760128,1.0,1.0,1.0,1.0,0.06399850239760384,0.6299994079990529,1.0,1.0,1.0,1.0,1.0,1.0,0.00010840017344027751,0.14999863999782398,1.0,1.0,1.0,1.0,0.003298405277448444,1.0,0.29999887999820796,1.0,1.0,0.199998719997952,1.0,1.0,1.0,1.0,1.0,1.0,0.36999899199838715,0.0009284014854423768,1.0,1.0,0.07699852319763711,0.00959841535746457,1.0,1.0,1.0,1.0,0.023998438397501435,1.0,0.013998422397475837,1.0,1.0,1.0,1.0,1.0,1.0,0.28999886399818237,0.09199854719767551,1.0,1.0,1.0,1.0,1.0,1.0,1.0,1.0,0.08099852959764736,0.08999854399767039,0.5199992319987712,1.0,0.04699847519756031,1.0,1.0,1.0,1.0,1.0,0.008798414077462523,0.949999919999872,1.0,0.00959841535746457,1.0,0.0008784014054422488,0.4299990879985408,0.09699855519768831,1.0,1.0,1.0,1.0,0.1699986719978752,0.008098412957460732,0.18999870399792637,1.0,1.0,0.21999875199800317,1.0,0.07399851839762944,0.649999439999104,1.0,0.06799850879761407,1.0,1.0,1.0,1.0,1.0,1.0,1.0,1.0,1.0,1.0,0.15999865599784957,0.00039840063744101987,0.11999859199774718,1.0,1.0,1.0,1.0,1.0,1.0,0.001998403197445116,1.0,1.0,0.099998559997696,1.0,0.05399848639757824,0.012998420797473277,1.0,1.0,1.0,0.0015984025574440918,1.0,0.18999870399792637,1.0,1.0,0.058998494397591035,0.08199853119764992,1.0,1.0,1.0,1.0,0.07499851999763199,0.0017984028774446041,1.0,0.3099988959982336,1.0,1.0,1.0,1.0,1.0,1.0,0.2299987679980288,0.005998409597455356,1.0,1.0,1.0,1.0,1.0,0.00439840703745126,1.0,1.0,1.0,0.00189840303744486,1.0,1.0,1.0,1.0,0.0008784014054422488,1.0,1.0,0.20999873599797758,1.0,0.1299986079977728,0.15999865599784957,1.0,1.0,0.1699986719978752,1.0,1.0,1.0,1.0,1.0,1.0,1.0,1.0,1.0,0.5899993439989504,1.0,0.5299992479987968,0.18999870399792637,0.04199846719754751,1.0,1.0,0.7099995359992576,0.08699853919766272,1.0,1.0,1.0,1.0,1.0,1.0,0.015998425597480957,1.0,0.3299989279982848,0.0002084003334405335,1.0,0.06299850079760128,0.001498402397443836,1.0,0.03199845119752191,1.0,1.0,1.0,1.0,1.0,1.0,1.0,1.0,1.0,1.0,1.0,0.2799988479981568,1.0,1.0,0.003798406077449724,1.0,1.0,1.0,0.6199993919990272,1.0,0.35999897599836156,0.015998425597480957,1.0,1.0,0.00047840076544122465,1.0,1.0,0.05699849119758592,0.026998443197509114,1.0,1.0,0.00389840623744998,1.0,0.4199990719985152,1.0,1.0,0.4899991839986944,0.001498402397443836,1.0,1.0,1.0,1.0,1.0,1.0,0.003198405117448188,1.0,1.0,1.0,1.0,1.0,1.0,0.5099992159987456,1.0,1.0,1.0,0.011998419197470715,1.0,1.0,1.0,1.0,0.2299987679980288,0.06199849919759872,0.0008884014214422743,0.199998719997952,6.84001094401751e-05,1.0,1.0,1.0,1.0,1.0,0.28999886399818237,1.0,1.0,1.0,1.0,0.026998443197509114,0.06799850879761407,0.44999911999859205,1.0,0.028998446397514234,1.0,1.0,1.0,1.0,1.0,1.0,1.0,1.0,1.0,0.7799996479994368,1.0,0.014998423997478397,1.0,1.0,0.023998438397501435,0.3199989119982592,1.0,1.0,1.0,1.0,1.0,1.0,1.0,1.0,1.0,1.0,1.0,1.0,1.0,1.0,1.0,1.0,1.0,1.0,0.008298413277461242,1.0,0.016998427197483516,1.0,0.009998415997465595,1.0,1.0,1.0,1.0,0.18999870399792637,1.0,1.0,0.1699986719978752,1.0,1.0,1.0,0.047998476797562875,1.0,1.0,1.0,1.0,1.0,1.0,0.2699988319981312,1.0,1.0,1.0,0.002098403357445372,1.0,1.0,1.0,1.0,1.0,0.027998444797511672,0.099998559997696,0.028998446397514234,1.0,1.0,0.5199992319987712,1.0,1.0,1.0,1.0,1.0,1.0,1.0,1.0,0.007398411837458939,1.0,1.0,1.0,1.0,1.0,1.0,1.0,0.899999839999744,1.0,1.0,5.5400088640141815e-05,0.058998494397591035,0.036998459197534715,0.06699850719761152,1.0,1.0,1.0,1.0,1.0,0.2699988319981312,1.0,1.0,1.0,0.7199995519992832,1.0,1.0,1.0,1.0,1.0,0.00539840863745382,1.0,1.0,1.0,0.10999857599772159,1.0,1.0,1.0,1.0,1.0,1.0,1.0,1.0,1.0,0.08799854079766528,0.003098404957447932,1.0,1.0,1.0,0.04999847999756799,1.0,0.0068984110374576595,1.0,0.055998489597583356,1.0,1.0,1.0,0.018998430397488636,1.0,0.20999873599797758,0.14999863999782398,1.0,1.0,1.0,0.005198408317453308,0.03599845759753215,1.0,1.0,0.07599852159763455,1.0,0.1299986079977728,1.0,1.0,1.0,1.0,1.0,1.0,1.0,1.0,1.0,1.0,1.0,1.0,1.0,1.0,1.0,1.0,1.0,1.0,1.0,1.0,1.0,0.3099988959982336,1.0,1.0,1.0,1.0,1.0,0.14999863999782398,1.0,1.0,1.0,0.014998423997478397,1.0,0.11999859199774718,1.0,1.0,1.0,1.0,1.0,0.6199993919990272,1.0,1.0,1.0,1.0,1.0,0.002998404797447676,1.0,0.6199993919990272,1.0,1.0,1.0,0.34999895999833597,1.0,1.0,1.0,1.0,0.9799999679999488,1.0,1.0,1.0,1.0,0.6199993919990272,1.0,1.0,1.0,0.0012984020774433238,0.019998431997491198,0.6699994719991552,1.0,1.0,0.23999878399805438,1.0,1.0,1.0,1.0,1.0,1.0,0.04699847519756031,1.0,1.0,1.0,0.08599853759766016,0.014998423997478397,0.09599855359768576,1.0,1.0,1.0,0.029998447997516792,0.1699986719978752,0.023998438397501435,1.0,1.0,0.1299986079977728,1.0,1.0,0.015998425597480957,1.0,1.0,1.0,1.0,1.0,0.001698402717444348,1.0,1.0,1.0,0.005498408797454076,1.0,0.020998433597493756,1.0,0.24999879999807997,1.0,1.0,0.021998435197496315,1.0,1.0,1.0,1.0,0.0004284006854410967,0.1399986239977984,1.0,0.028998446397514234,1.0,1.0,0.05699849119758592,1.0,1.0,1.0,1.0,1.0,1.0,0.549999279998848,0.05699849119758592,1.0,1.0,1.0,1.0,1.0,1.0,1.0,0.029998447997516792,1.0,1.0,1.0,1.0,1.0,1.0,0.002698404317446908,1.0,0.399999039998464,0.24999879999807997,1.0,0.20999873599797758,1.0,0.09199854719767551,1.0,1.0,1.0,1.0,1.0,1.0,0.050998481597570554,1.0,0.04999847999756799,1.0,1.0,1.0,1.0,0.6699994719991552,1.0,1.0,0.00939841503746406,1.0,1.0,0.08299853279765247,1.0,1.0,1.0,1.0,1.0,1.0,1.0,1.0,1.0,1.0,0.11999859199774718,1.0,0.2299987679980288,1.0,0.009198414717463547,1.0,1.0,1.0,1.0,1.0,1.0,0.18999870399792637,1.0,0.4899991839986944,1.0,1.0,0.00289840463744742,1.0,1.0,1.0,1.0,1.0,1.0,1.0,1.0,1.0,0.010998417597468155,1.0,1.0,1.0,1.0,0.7399995839993344,1.0,0.23999878399805438,0.5699993119988992,0.00047840076544122465,0.07399851839762944,1.0,1.0,1.0,0.026998443197509114,0.0005284008454413527,1.0,1.0,1.0,0.2699988319981312,0.3099988959982336,1.0,0.3899990239984384,0.0001984003174405079,0.0058984094374551,1.0,1.0,1.0,1.0,1.0,1.0,1.0,1.0,1.0,1.0,0.00189840303744486,1.0,0.027998444797511672,0.2599988159981056,1.0,1.0,1.0,1.0,1.0,0.5699993119988992,0.18999870399792637,1.0,1.0,1.0,1.0,1.0,1.0,1.0,0.0058984094374551,1.0,1.0,0.0013984022374435798,1.0,1.0,1.0,1.0,1.0,1.0,0.022998436797498877,0.14999863999782398,1.0,4.940007904012646e-05,1.0,0.012998420797473277,1.0,0.009498415197464315,1.0,1.0,1.0,0.7299995679993088,1.0,1.0,0.09099854559767295,1.0,1.0,0.00013840022144035428,0.0002284003654405847,1.0,1.0,1.0,1.0,0.0017984028774446041,1.0,1.0,1.0,0.06199849919759872,1.0,1.0,0.2699988319981312,0.025998441597506552,1.0,0.002498403997446396,1.0,1.0,1.0,1.0,0.026998443197509114,0.3299989279982848,1.0,1.0,1.0,0.4099990559984896,1.0,1.0,1.0,1.0,1.0,1.0,1.0,1.0,0.001198401917443068,1.0,1.0,1.0,1.0,0.23999878399805438,1.0,1.0,1.0,0.005998409597455356,0.28999886399818237,1.0,1.0,1.0,1.0,1.0,1.0,1.0,0.18999870399792637,1.0,1.0,1.0,1.0,0.04499847199755519,1.0,0.2699988319981312,1.0,1.0,1.0,0.3899990239984384,0.03399845439752703,1.0,1.0,0.021998435197496315,1.0,0.4399991039985664,0.5299992479987968,1.0,1.0,0.9399999039998465,1.0,0.00489840783745254,0.019998431997491198,0.0006284010054416086,1.0,0.020998433597493756,0.001198401917443068,1.0,1.0,1.0,1.0,0.032998452797524475,1.0,1.0,1.0,1.0,1.0,1.0,1.0,1.0,1.0,1.0,1.0,0.11999859199774718,1.0,0.399999039998464,0.9799999679999488,1.0,1.0,0.03399845439752703,1.0,1.0,0.0004284006854410967,0.34999895999833597,1.0,1.0,1.0,1.0,1.0,1.0,1.0,1.0,0.4799991679986688,0.002498403997446396,0.2599988159981056,1.0,0.023998438397501435,1.0,0.5599992959988737,1.0,0.199998719997952,1.0,0.1699986719978752,0.004098406557450492,0.009998415997465595,1.0,1.0,1.0,0.2599988159981056,1.0,1.0,1.0,1.0,1.0,1.0,1.0,0.07499851999763199,1.0,1.0,1.0,1.0,1.0,1.0,0.5099992159987456,1.0,1.0,1.0,1.0,1.0,0.49999919999872,1.0,1.0,1.0,1.0,1.0,1.0,1.0,1.0,0.03599845759753215,0.15999865599784957,1.0,1.0,1.0,1.0,1.0,0.199998719997952,1.0,1.0,1.0,1.0,1.0,0.0012984020774433238,0.7599996159993856,0.04899847839756543,1.0,1.0,0.005598408957454332,1.0,1.0,0.011998419197470715,0.08099852959764736,1.0,1.0,1.0,1.0,1.0,0.018998430397488636,0.5799993279989248,1.0,0.11999859199774718,1.0,1.0,1.0,1.0,1.0,1.0,1.0,1.0,1.0,1.0,1.0,1.0,0.04699847519756031,1.0,0.06199849919759872,0.0005484008774414039,1.0,1.0,0.3799990079984128,1.0,1.0,1.0,1.0,1.0,0.08699853919766272,0.009998415997465595,1.0,1.0,1.0,1.0,1.0,0.0003584005734409175,0.08399853439765503,1.0,1.0,0.0083984134374615,1.0,0.21999875199800317,1.0,0.35999897599836156,1.0,1.0,1.0,0.015998425597480957,1.0,1.0,1.0,1.0,1.0,0.24999879999807997,1.0,1.0,0.2799988479981568,1.0,1.0,1.0,0.11999859199774718,1.0,0.005098408157453052,1.0,1.0,0.2799988479981568,0.1299986079977728,0.026998443197509114,0.3099988959982336,0.043998470397552635,0.2299987679980288,0.020998433597493756,1.0,0.15999865599784957,1.0,1.0,0.012998420797473277,1.0,0.06699850719761152,1.0,0.15999865599784957,1.0,1.0,1.0,1.0,1.0,0.011998419197470715,1.0,1.0,1.0,1.0,1.0,1.0,1.0,1.0,1.0,0.1699986719978752,1.0,1.0,1.0,1.0,1.0,1.0,0.00024840039744063587,1.0,1.0,1.0,1.0,0.44999911999859205,1.0,0.06299850079760128,0.17999868799790078,1.0,1.0,1.0,1.0,1.0,1.0,1.0,0.03399845439752703,0.0007784012454419926,1.0,1.0,1.0,1.0,1.0,0.024998439997503997,0.4199990719985152,1.0,1.0,1.0,1.0,1.0,1.0,1.0,1.0,1.0,1.0,0.07899852639764224,1.0,1.0,1.0,0.36999899199838715,1.0,1.0,0.10999857599772159,1.0,1.0,1.0,0.18999870399792637,1.0,1.0,1.0,1.0,1.0,1.0,1.0,1.0,1.0,1.0,1.0,1.0,0.0013984022374435798,1.0,0.07199851519762432,0.021998435197496315,1.0,1.0,1.0,1.0,0.002598404157446652,0.002298403677445884,1.0,1.0,1.0,1.0,1.0,1.0,1.0,0.28999886399818237,0.2599988159981056,1.0,0.07699852319763711,1.0,1.0,0.03899846239753983,1.0,0.6199993919990272,1.0,1.0,1.0,1.0,0.14999863999782398,1.0,0.004098406557450492,1.0,1.0,1.0,0.11999859199774718,1.0,1.0,0.007598412157459451,0.17999868799790078,1.0,0.11999859199774718,1.0,1.0,1.0,1.0,0.008198413117460987,0.032998452797524475,3.0400048640077823e-05,0.001098401757442812,1.0,1.0,0.029998447997516792,1.0,1.0,1.0,1.0,1.0,1.0,1.0,1.0,0.00024840039744063587,0.016998427197483516,0.07299851679762688,1.0,1.0,0.030998449597519354,0.0002984004774407639,1.0,1.0,1.0,1.0,1.0,1.0,1.0,0.07699852319763711,0.03799846079753727,1.0,1.0,0.4399991039985664,1.0,1.0,1.0,1.0,1.0,1.0,1.0,1.0,1.0,1.0,0.1699986719978752,0.003698405917449468,1.0,1.0,1.0,1.0,1.0,1.0,1.0,1.0,0.002998404797447676,1.0,0.011998419197470715,1.0,1.0,1.0,1.0,1.0,0.09399855039768064,1.0,0.05699849119758592,1.0,1.0,1.0,0.4099990559984896,1.0,0.3199989119982592,1.0,0.1399986239977984,1.0,1.0,0.0007584012134419414,1.0,1.0,1.0,1.0,1.0,1.0,1.0,1.0,1.0,1.0,1.0,0.03599845759753215,1.0,1.0,1.0,1.0,1.0,1.0,1.0,1.0,0.028998446397514234,0.099998559997696,0.23999878399805438,1.0,1.0,1.0,1.0,0.36999899199838715,1.0,1.0,1.0,1.0,1.0,1.0,1.0,1.0,1.0,1.0,1.0,1.0,1.0,1.0,1.0,0.1299986079977728,1.0,0.0006584010534416854,0.0007884012614420183,1.0,0.04299846879755007,0.013998422397475837,0.10999857599772159,1.0,8.440013504021606e-05,1.0,0.06899851039761663,1.0,1.0,1.0,1.0,1.0,0.07199851519762432,1.0,1.0,1.0,1.0,0.030998449597519354,0.03599845759753215,1.0,1.0,1.0,0.008798414077462523,1.0,1.0,1.0,0.06699850719761152,0.9599999359998976,1.0,0.07199851519762432,1.0,0.9399999039998465,1.0,1.0,1.0,1.0,1.0,1.0,0.025998441597506552,1.0,1.0,0.09399855039768064,1.0,1.0,1.0,1.0,1.0,0.3299989279982848,1.0,1.0,1.0,1.0,1.0,1.0,0.2299987679980288,1.0,1.0,1.0,1.0,1.0,0.45999913599861764,1.0,1.0,1.0,0.0006484010374416599,1.0,1.0,1.0,1.0,1.0,1.0,1.0,1.0,0.0034984055974489558,1.0,1.0,0.002098403357445372,1.0,1.0,0.9599999359998976,1.0,1.0,1.0,1.0,1.0,1.0,1.0,1.0,1.0,1.0,1.0,1.0,1.0,1.0,0.10999857599772159,1.0,1.0,1.0,0.21999875199800317,0.1299986079977728,1.0,1.0,0.10999857599772159,1.0,0.0599984959975936,1.0,1.0,0.24999879999807997,0.28999886399818237,1.0,1.0,0.2599988159981056,1.0,1.0,1.0,1.0,1.0,1.0,1.0,0.0002084003334405335,1.0,0.07699852319763711,1.0,1.0,1.0,1.0,1.0,0.2699988319981312,1.0,0.006798410877457403,1.0,0.00011840018944030309,1.0,1.0,1.0,0.027998444797511672,0.0799985279976448,0.0015984025574440918,1.0,1.0,1.0,1.0,1.0,1.0,1.0,1.0,1.0,1.0,1.0,0.23999878399805438,0.010998417597468155,1.0,0.001098401757442812,1.0,0.28999886399818237,1.0,0.6299994079990529,0.050998481597570554,0.005498408797454076,1.0,1.0,1.0,1.0,0.004198406717450748,1.0,1.0,1.0,1.0,1.0,0.45999913599861764,1.0,1.0,0.11999859199774718,0.043998470397552635,1.0,1.0,1.0,1.0,0.036998459197534715,1.0,1.0,1.0,1.0,0.11999859199774718,0.3799990079984128,1.0,1.0,1.0,1.0,1.0,1.0,1.0,0.050998481597570554,1.0,1.0,0.013998422397475837,1.0,1.0,1.0,0.0599984959975936,1.0,1.0,0.010998417597468155,1.0,0.10999857599772159,0.00189840303744486,0.4099990559984896,0.019998431997491198,1.0,0.18999870399792637,1.0,0.04999847999756799,0.0949985519976832,0.001498402397443836,1.0,1.0,0.099998559997696,1.0,0.005498408797454076,1.0,1.0,1.0,0.1399986239977984,1.0,1.0,1.0,1.0,1.0,1.0,0.007798412477459963,0.023998438397501435,1.0,1.0,1.0,1.0,1.0,1.0,1.0,1.0,0.07799852479763968,1.0,1.0,1.0,0.23999878399805438,0.2299987679980288,1.0,1.0,1.0,0.2699988319981312,1.0,1.0,1.0,0.00639841023745638,0.051998483197573116,1.0,1.0,1.0,1.0,1.0,1.0,1.0,0.23999878399805438,1.0,0.6399994239990784,1.0,1.0,0.00959841535746457,1.0,0.0599984959975936,1.0,1.0,0.025998441597506552,1.0,1.0,1.0,0.0001484002374403799,1.0,0.00289840463744742,1.0,1.0,0.0009984015974425558,1.0,1.0,1.0,1.0,0.17999868799790078,1.0,1.0,1.0,0.005498408797454076,1.0,1.0,1.0,1.0,1.0,1.0,1.0,1.0,1.0,1.0,1.0,1.0,1.0,0.099998559997696,1.0,1.0,1.0,0.003598405757449212,1.0,0.099998559997696,0.051998483197573116,1.0,1.0,0.06699850719761152,1.0,1.0,1.0,1.0,0.0006484010374416599,1.0,1.0,1.0,0.1299986079977728,0.05299848479757568,1.0,1.0,1.0,1.0,0.05399848639757824,1.0,0.0002784004454407127,1.0,0.3899990239984384,1.0,0.0003384005414408663,0.0008284013254421207,1.0,0.0013984022374435798,1.0,0.4199990719985152,1.0,0.009998415997465595,0.011998419197470715,1.0,0.6199993919990272,1.0,1.0,4.940007904012646e-05,1.0,1.0,0.14999863999782398,1.0,1.0,1.0,1.0,1.0,1.0,1.0,1.0,1.0,0.2599988159981056,1.0,1.0,0.23999878399805438,1.0,1.0,0.008998414397463034,1.0,1.0,1.0,1.0,1.0,1.0,1.0,1.0,1.0,1.0,0.029998447997516792,0.08399853439765503,1.0,1.0,1.0,1.0,1.0,1.0,0.006698410717457147,0.14999863999782398,1.0,1.0,1.0,0.0005584008934414295,1.0,1.0,1.0,1.0,1.0,1.0,1.0,1.0,1.0,0.6199993919990272,1.0,1.0,1.0,0.2699988319981312,1.0,1.0,1.0,0.6199993919990272,0.4099990559984896,1.0,0.1299986079977728,1.0,1.0,1.0,0.054998487997580794,1.0,1.0,1.0,1.0,1.0,1.0,1.0,0.14999863999782398,0.003198405117448188,1.0,0.001198401917443068,1.0,1.0,1.0,1.0,1.0,0.0083984134374615,1.0,1.0,0.10999857599772159,0.027998444797511672,1.0,1.0,1.0,0.015998425597480957,1.0,1.0,1.0,1.0,1.0,0.04299846879755007,0.004098406557450492,0.030998449597519354,1.0,0.07099851359762176,1.0,1.0,1.0,1.0,1.0,0.14999863999782398,0.4299990879985408,1.0,1.0,1.0,0.199998719997952,1.0,1.0,0.17999868799790078,0.019998431997491198,2.0400032640052226e-05,0.03599845759753215,0.8899998239997184,1.0,1.0,1.0,0.5899993439989504,1.0,0.06299850079760128,0.0004284006854410967,0.03499845599752959,1.0,1.0,1.0,1.0,1.0,1.0,1.0,1.0,1.0,1.0,0.000818401309442095,1.0,1.0,1.0,0.0599984959975936,1.0,4.84000774401239e-05,0.1299986079977728,1.0,1.0,1.0,1.0,1.0,1.0,1.0,1.0,1.0,1.0,0.09099854559767295,0.8799998079996928,1.0,1.0,1.0,0.0009984015974425558,1.0,1.0,1.0,1.0,1.0,1.0,1.0,0.2799988479981568,1.0,1.0,0.0005884009414415063,1.0,0.4799991679986688,0.002698404317446908,1.0,0.09099854559767295,1.0,1.0,0.03899846239753983,1.0,0.06399850239760384,1.0,1.0,0.7499995999993601,0.4399991039985664,1.0,1.0,1.0,0.0012984020774433238,0.23999878399805438,1.0,0.058998494397591035,1.0,1.0,1.0,1.0,0.6699994719991552,0.5299992479987968,1.0,1.0,1.0,1.0,0.08099852959764736,1.0,1.0,1.0,1.0,1.0,1.0,0.05399848639757824,1.0,1.0,1.0,1.0,0.030998449597519354,1.0,1.0,1.0,1.0,1.0,1.0,1.0,1.0,0.3199989119982592,1.0,1.0,1.0,1.0,0.019998431997491198,1.0,1.0,1.0,1.0,1.0,1.0,0.014998423997478397,1.0,0.07499851999763199,0.4399991039985664,0.9599999359998976,1.0,1.0,1.0,1.0,1.0,0.1699986719978752,1.0,1.0,0.027998444797511672,0.20999873599797758,0.14999863999782398,1.0,1.0,1.0,1.0,1.0,1.0,1.0,1.9400031040049665e-05,1.0,1.0,1.0,1.0,0.04299846879755007,0.025998441597506552,0.1399986239977984,1.0,0.10999857599772159,0.016998427197483516,0.039998463997542394,1.0,1.0,1.0,0.004498407197451516,1.0,1.0,1.0,1.0,1.0,0.5299992479987968,1.0,0.009898415837465339,1.0,1.0,0.007198411517458427,1.0,0.5399992639988224,1.0,1.0,1.0,1.0,1.0,1.0,1.0,1.0,0.04599847359755775,1.0,0.10999857599772159,1.0,1.0,0.15999865599784957,1.0,1.0,1.0,0.199998719997952,1.0,5.3400085440136706e-05,0.2599988159981056,0.20999873599797758,1.0,0.0009884015814425303,1.0,1.0,0.001698402717444348,1.0,1.0,1.0,1.0,0.03399845439752703,1.0,1.0,0.11999859199774718,1.0,1.0,1.0,1.0,0.29999887999820796,0.9099998559997696,1.0,1.0,1.0,1.0,0.032998452797524475,1.0,0.10999857599772159,1.0,1.0,1.0,1.0,1.0,1.0,1.0,0.002498403997446396,1.0,1.0,1.0,0.0068984110374576595,1.0,1.0,1.0,1.0,1.0,0.004598407357451772,1.0,1.0,1.0,1.0,1.0,1.0,1.0,1.0,1.0,1.0,1.0,1.0,1.0,0.1699986719978752,1.0,1.0,1.0,1.0,0.00439840703745126,1.0,1.0,1.0,1.0,1.0,1.0,1.0,1.0,1.0,1.0,1.0,1.0,1.0,0.04899847839756543,1.0,1.0,0.00859841375746201,0.019998431997491198,1.0,1.0,0.016998427197483516,1.0,1.0,0.010998417597468155,1.0,1.0,1.0,1.0,0.34999895999833597,1.0,0.003698405917449468,1.0,1.0,0.04199846719754751,1.0,1.0,1.0,1.0,1.0,1.0,1.0,1.0,1.0,0.0003284005254408407,1.0,1.0,1.0,1.0,0.006598410557456891,1.0,1.0,1.0,1.0,1.0,1.0,1.0,1.0,1.0,1.0,1.0,1.0,1.0,0.00011840018944030309,1.0,1.0,1.0,1.0,2.6400042240067585e-05,0.0009084014534423254,1.0,1.0,1.0,0.3199989119982592,1.0,9.240014784023654e-05,1.0,1.0,1.0,1.0,1.0,0.04699847519756031,0.040998465597544956,0.054998487997580794,1.0,0.036998459197534715,0.17999868799790078,1.0,0.08699853919766272,1.0,1.0,1.0,1.0,1.0,1.0,1.0,1.0,1.0,1.0,1.0,0.004498407197451516,1.0,0.015998425597480957,0.025998441597506552,1.0,1.0,1.0,1.0,1.0,1.0,1.0,1.0,0.6299994079990529,1.0,0.20999873599797758,0.2699988319981312,1.0,1.0,1.0,1.0,1.0,0.03199845119752191,1.0,0.023998438397501435,1.0,1.0,0.6199993919990272,3.940006304010086e-05,1.0,1.0,1.0,1.0,1.0,1.0,0.14999863999782398,1.0,1.0,1.0,1.0,0.013998422397475837,1.0,1.0,0.010998417597468155,1.0,0.03599845759753215,1.0,1.0,1.0,1.0,1.0,0.1399986239977984,1.0,1.0,1.0,1.0,1.0,1.0,1.0,0.06199849919759872,0.11999859199774718,0.399999039998464,1.0,1.0,1.0,1.0,1.0,0.23999878399805438,0.04999847999756799,1.0,0.2599988159981056,1.0,1.0,1.0,1.0,1.0,1.0,1.0,1.0,1.0,1.0,1.0,1.0,1.0,1.0,1.0,1.0,0.10999857599772159,1.0,1.0,0.051998483197573116,1.0,1.0,1.0,1.0,1.0,1.0,1.0,1.0,1.0,1.0,1.0,1.0,1.0,1.0,1.0,1.0,1.0,1.0,0.6899995039992064,1.0,1.0,0.10999857599772159,1.0,1.0,1.0,1.0,1.0,1.0,1.0,1.0,1.0,1.0,1.0,1.0,0.44999911999859205,1.0,1.0,1.0,0.10999857599772159,1.0,1.0,0.399999039998464,1.0,1.0,0.002298403677445884,1.0,1.0,1.0,1.0,1.0,1.0,1.0,1.0,0.0005984009574415319,0.8399997439995904,1.0,1.0,1.0,1.0,1.0,1.0,1.0,1.0,1.0,0.09799855679769087,1.0,1.0,1.0,0.0007284011654418647,1.0,1.0,1.0,1.0,1.0,1.0,1.0,0.0015984025574440918,1.0,0.007098411357458171,1.0,1.0,1.0,0.0009584015334424534,1.0,0.005098408157453052,1.0,1.0,0.04599847359755775,1.0,1.0,0.8699997919996671,0.3199989119982592,0.0013984022374435798,1.0,1.0,1.0,1.0,1.0,1.0,1.0,1.0,0.34999895999833597,1.0,1.0,0.00037840060544096866,0.7599996159993856,1.0,0.3299989279982848,1.0,1.0,1.0,1.0,1.0,0.0017984028774446041,1.0,1.0,1.0,1.0,1.0,1.0,1.0,0.0015984025574440918,0.2699988319981312,1.0,0.2699988319981312,1.0,0.8899998239997184,0.016998427197483516,0.00439840703745126,1.0,1.0,1.0,1.0,1.0,0.18999870399792637,1.0,1.0,0.03599845759753215,1.0,1.0,1.0,1.0,1.0,1.0,0.08699853919766272,1.0,1.0,1.0,1.0,0.04299846879755007,1.0,0.024998439997503997,1.0,1.0,1.0,1.0,1.0,0.06199849919759872,1.0,1.0,1.0,1.0,1.0,1.0,1.0,1.0,1.0,1.0,1.0,1.0,0.04899847839756543,1.0,1.0,1.0,1.0,1.0,1.0,1.0,1.0,1.0,1.0,1.0,1.0,1.0,1.0,1.0,0.3799990079984128,1.0,1.0,1.4400023040036864e-05,1.0,1.0,1.0,1.0,1.0,1.0,1.0,1.0,1.0,0.00939841503746406,0.4399991039985664,1.0,1.0,0.1399986239977984,1.0,1.0,0.004198406717450748,1.0,1.0,1.0,1.0,0.0699985119976192,0.14999863999782398,1.0,1.0,1.0,0.2599988159981056,1.0,1.0,1.0,0.018998430397488636,1.0,0.34999895999833597,1.0,1.0,1.0,1.0,1.0,1.0,1.0,1.0,1.0,1.0,1.0,0.5899993439989504,1.0,1.0,0.003298405277448444,1.0,1.0,1.0,0.03599845759753215,0.099998559997696,1.0,1.0,1.0,1.0,1.0,1.0,1.0,1.0,1.0,1.0,0.4099990559984896,1.0,0.1299986079977728,1.0,1.0,1.0,1.0,1.0,1.0,0.1299986079977728,0.00010840017344027751,1.0,0.018998430397488636,0.45999913599861764,1.0,1.0,1.0,0.05299848479757568,1.0,0.008198413117460987,1.0,0.05699849119758592,1.0,1.0,0.0003084004934407895,1.0,1.0,1.0,1.0,1.0,1.0,1.0,1.0,1.0,1.0,1.0,1.0,1.0,0.099998559997696,1.0,1.0,0.00189840303744486,1.0,0.010998417597468155,1.0,0.24999879999807997,0.24999879999807997,1.0,0.020998433597493756,1.0,1.0,1.0,1.0,0.399999039998464,1.0,0.09099854559767295,1.0,1.0,1.0,0.06699850719761152,1.0,1.0,1.0,1.0,1.0,1.0,1.0,0.0009984015974425558,0.0017984028774446041,0.00539840863745382,1.0,1.0,1.0,1.0,1.0,0.3099988959982336,1.0,0.4099990559984896,1.0,0.4399991039985664,1.0,1.0,0.1299986079977728,0.8199997119995392,0.007498411997459195,1.0,0.0599984959975936,1.0,1.0,1.0,1.0,1.0,1.0,0.0034984055974489558,1.0,1.0,1.0,0.07399851839762944,0.019998431997491198,1.0,0.3399989439983104,0.3199989119982592,1.0,0.4399991039985664,0.09399855039768064,1.0,1.0,1.0,0.032998452797524475,1.0,0.022998436797498877,1.0,1.0,1.0,1.0,1.0,0.04899847839756543,1.0,1.0,1.0,1.0,1.0,0.036998459197534715,1.0,0.06799850879761407,1.0,0.5699993119988992,0.002798404477447164,0.9899999839999744,1.0,1.0,1.0,1.0,1.0,0.7099995359992576,1.0,1.0,1.0,1.0,0.44999911999859205,1.0,0.03799846079753727,0.006698410717457147,0.1399986239977984,1.0,1.0,1.0,0.849999759999616,1.0,2.5400040640065024e-05,1.0,1.0,0.1399986239977984,1.0,1.0,1.0,1.0,1.0,1.0,1.0,0.28999886399818237,1.0,1.0,1.0,1.0,1.0,1.0,1.0,1.0,1.0,1.0,1.0,1.0,0.1699986719978752,1.0,1.0,1.0,1.0,1.0,1.0,0.03799846079753727,1.0,1.0,0.34999895999833597,1.0,1.0,1.0,1.0,1.0,1.0,1.0,1.0,1.0,1.0,0.36999899199838715,1.0,1.0,1.0,0.006998411197457915,1.0,1.0,0.00489840783745254,1.0,1.0,1.0,1.0,1.0,1.0,0.0799985279976448,0.008898414237462779,1.0,0.009198414717463547,1.0,0.06899851039761663,1.0,1.0,1.0,1.0,1.0,1.0,0.023998438397501435,1.0,4.140006624010598e-05,1.0,1.0,1.0,0.23999878399805438,1.0,0.11999859199774718,1.0,1.0,1.0,0.00539840863745382,1.0,1.0,1.0,1.0,1.0,0.009998415997465595,1.0,0.4399991039985664,0.03199845119752191,1.0,2.240003584005734e-05,1.0,0.006798410877457403,0.18999870399792637,1.0,1.0,1.0,1.0,1.0,1.0,0.6299994079990529,1.0,1.0,1.0,0.11999859199774718,0.23999878399805438,1.0,0.2299987679980288,1.0,1.0,1.0,0.0005284008454413527,1.0,0.020998433597493756,1.0,0.021998435197496315,1.0,0.24999879999807997,1.0,0.03399845439752703,1.0,1.0,1.0,1.0,0.1399986239977984,1.0,0.199998719997952,0.020998433597493756,0.399999039998464,1.0,0.002598404157446652,1.0,1.0,0.08299853279765247,0.007498411997459195,1.0,1.0,1.0,1.0,1.0,1.0,1.0,1.0,0.10999857599772159,0.040998465597544956,0.1699986719978752,1.0,0.00389840623744998,1.0,1.0,1.0,1.0,1.0,1.0,3.240005184008294e-05,0.20999873599797758,0.44999911999859205,1.0,1.0,0.0009384015014424023,1.0,0.036998459197534715,0.11999859199774718,1.0,0.1299986079977728,0.17999868799790078,0.023998438397501435,1.0,1.0,0.1399986239977984,1.0,1.0,1.0,0.0017984028774446041,1.0,1.0,0.15999865599784957,1.0,0.03899846239753983,0.003098404957447932,1.0,1.0,1.0,1.0,1.0,9.84001574402519e-05,1.0,1.0,1.0,1.0,1.0,1.0,1.0,0.0649985039976064,1.0,1.0,1.0,1.0,1.0,1.0,1.0,1.0,1.0,1.0,1.0,1.0,1.0,1.0,1.0,1.0,1.0,1.0,0.07199851519762432,1.0,1.0,1.0,1.0,1.0,1.0,0.007098411357458171,1.0,1.0,1.0,1.0,0.03499845599752959,1.0,1.0,0.002798404477447164,0.0599984959975936,1.0,1.0,1.0,0.18999870399792637,1.0,1.0,1.0,0.054998487997580794,1.0,1.0,0.008098412957460732,1.0,1.0,0.11999859199774718,0.003098404957447932,0.05699849119758592,0.023998438397501435,1.0,1.0,1.0,1.0,1.0,1.0,1.0,0.0056984091174545875,1.0,0.1399986239977984,0.054998487997580794,1.0,0.4299990879985408,0.08999854399767039,0.2599988159981056,0.03499845599752959,1.0,1.0,1.0,1.0,1.0,1.0,1.0,1.0,1.0,0.008098412957460732,0.11999859199774718,1.0,1.0,1.0,0.0004884007814412503,0.05399848639757824,0.05299848479757568,0.005298408477453564,1.0,0.027998444797511672,1.0,1.0,1.0,1.0,1.0,1.0,0.03599845759753215,1.0,1.0,1.0,1.0,0.005598408957454332,1.0,0.28999886399818237,1.0,1.0,1.0,0.0699985119976192,1.0,1.0,1.0,1.0,1.0,0.2299987679980288,1.0,1.0,1.0,1.0,1.0,1.0,1.0,0.07299851679762688,0.10999857599772159,1.0,1.0,1.0,0.7599996159993856,1.0,0.29999887999820796,1.0,1.0,1.0,0.00489840783745254,4.34000694401111e-05,0.0017984028774446041,1.0,1.0,1.0,1.0,1.0,1.0,1.0,1.0,1.0,1.0,1.0,1.0,1.0,1.0,1.0,0.6899995039992064,1.0,1.0,1.0,1.0,0.5599992959988737,1.0,0.2799988479981568,0.17999868799790078,0.10999857599772159,1.0,1.0,1.0,1.0,0.0049984079974527956,0.08199853119764992,1.0,0.20999873599797758,1.0,1.0,1.0,1.0,1.0,1.0,0.054998487997580794,1.0,0.6299994079990529,0.399999039998464,1.0,0.03799846079753727,0.7299995679993088,1.0,1.0,0.030998449597519354,1.0,1.0,0.10999857599772159,1.0,1.0,0.002098403357445372,1.0,0.014998423997478397,1.0,1.0,1.0,0.07199851519762432,0.036998459197534715,0.1399986239977984,1.0,1.0,1.0,1.0,0.032998452797524475,1.0,1.0,1.0,1.0,0.04599847359755775,1.0,1.0,1.0,1.0,1.0,1.0,0.015998425597480957,0.047998476797562875,1.0,1.0,0.008998414397463034,1.0,0.004298406877451004,0.002198403517445628,1.0,1.0,1.0,1.0,1.0,1.0,1.0,1.0,1.0,1.0,1.0,0.24999879999807997,1.0,1.0,1.0,1.0,1.0,1.0,0.799999679999488,1.0,0.17999868799790078,1.0,1.0,0.8399997439995904,1.0,1.0,1.0,1.0,1.0,1.0,1.0,1.0,1.0,1.0,0.1299986079977728,0.014998423997478397,0.0083984134374615,0.099998559997696,1.0,1.0,3.740005984009574e-05,1.0,1.0,1.0,1.0,1.0,1.0,0.0002784004454407127,1.0,1.0,1.0,0.0599984959975936,1.0,1.0,0.001098401757442812,1.0,0.00189840303744486,0.1399986239977984,0.15999865599784957,1.0,1.0,0.00189840303744486,1.0,0.023998438397501435,1.0,1.0,1.0,0.0049984079974527956,1.0,0.23999878399805438,1.0,1.0,1.0,1.0,1.0,1.0,0.1399986239977984,1.0,0.06199849919759872,1.0,1.0,0.03399845439752703,1.0,0.005198408317453308,1.0,0.15999865599784957,1.0,0.016998427197483516,1.0,0.005498408797454076,1.0,1.0,1.0,0.00010840017344027751,1.0,1.0,1.0,0.007898412637460219,1.0,0.026998443197509114,0.17999868799790078,1.0,0.0015984025574440918,1.0,1.0,0.019998431997491198,0.0034984055974489558,1.0,1.0,0.23999878399805438,1.0,1.0,1.0,1.0,1.0,1.0,1.0,1.0,0.06699850719761152,1.0,0.09199854719767551,1.0,1.0,1.0,1.0,1.0,1.0,0.0009984015974425558,0.6899995039992064,0.34999895999833597,1.0,0.21999875199800317,1.0,1.0,1.0,1.0,0.016998427197483516,1.0,0.022998436797498877,1.0,1.0,1.0,0.017998428797486078,1.0,0.09099854559767295,1.0,1.0,0.014998423997478397,1.0,1.0,0.0004884007814412503,1.0,1.0,1.0,1.0,1.0,0.0003684005894409431,1.0,1.0,1.0,1.0,0.05299848479757568,0.002098403357445372,1.0,0.007698412317459707,1.0,0.08099852959764736,0.6599994559991296,0.021998435197496315,1.0,1.0,1.0,1.0,1.0,1.0,0.032998452797524475,1.0,1.0,0.10999857599772159,6.34001014401623e-05,1.0,0.030998449597519354,1.0,1.0,1.0,1.0,1.0,0.15999865599784957,0.2299987679980288,0.24999879999807997,1.0,1.0,1.0,1.0,1.0,1.0,0.4299990879985408,0.050998481597570554,1.0,1.0,1.0,1.0,1.0,0.4399991039985664,1.0,0.28999886399818237,1.0,1.0,1.0,1.0,1.0,1.0,0.6399994239990784,1.0,1.0,0.007898412637460219,0.11999859199774718,0.10999857599772159,1.0,1.0,1.0,1.0,1.0,1.0,0.03499845599752959,1.0,1.0,1.0,1.0,1.0,1.0,1.0,0.005298408477453564,0.6799994879991809,1.0,0.7599996159993856,0.09699855519768831,0.199998719997952,0.024998439997503997,1.0,1.0,1.0,1.0,0.055998489597583356,1.0,0.05699849119758592,0.3299989279982848,1.0,1.0,1.0,1.0,1.0,1.0,1.0,1.0,0.07199851519762432,1.0,1.0,1.0,1.0,1.0,1.0,1.0,1.0,1.0,0.0008984014374422999,1.0,1.0,1.0,1.0,1.0,1.0,1.0,1.0,1.0,0.29999887999820796,0.07399851839762944,0.040998465597544956,1.0,1.0,1.0,1.0,1.0,0.2299987679980288,1.0,0.03499845599752959,1.0,1.0,0.025998441597506552,1.0,1.0,1.0,1.0,1.0,0.18999870399792637,1.0,1.0,1.0,1.0,0.5399992639988224,1.0,1.0,0.199998719997952,1.0,1.0,1.0,1.0,1.0,1.0,0.199998719997952,0.4399991039985664,1.0,1.0,1.0,1.0,1.0,1.0,0.005198408317453308,1.0,0.032998452797524475,0.1699986719978752,1.0,1.0,0.036998459197534715,1.0,1.0,1.0,1.0,1.0,1.0,1.0,0.00539840863745382,1.0,1.0,1.0,1.0,0.0017984028774446041,0.199998719997952,1.0,1.0,1.0,0.04699847519756031,1.0,0.004198406717450748,0.34999895999833597,1.0,0.021998435197496315,1.0,1.0,1.0,1.0,1.0,1.0,1.0,1.0,1.0,1.0,0.015998425597480957,0.023998438397501435,1.0,0.4699991519986432,1.0,1.0,1.0,1.0,1.0,0.04299846879755007,1.0,0.199998719997952,0.1299986079977728,1.0,1.0,1.0,1.0,0.10999857599772159,0.029998447997516792,1.0,1.0,1.0,0.08099852959764736,1.0,1.0,1.0,1.0,1.0,1.0,0.15999865599784957,1.0,1.0,0.549999279998848,1.0,1.0,1.0,0.18999870399792637,1.0,0.11999859199774718,1.0,1.0,1.0,1.0,0.0017984028774446041,0.014998423997478397,0.8399997439995904,0.10999857599772159,1.0,1.0,1.0,5.740009184014694e-05,0.08899854239766784,0.14999863999782398,1.0,1.0,1.0,0.4399991039985664,0.21999875199800317,1.0,0.027998444797511672,0.1299986079977728,1.0,0.10999857599772159,1.0,0.021998435197496315,0.09699855519768831,0.2299987679980288,1.0,1.0,1.0,0.03599845759753215,0.20999873599797758,1.0,1.0,1.0,1.0,0.3799990079984128,0.002298403677445884,1.0,1.0,0.03799846079753727,1.0,1.0,1.0,1.0,0.019998431997491198,1.0,1.0,1.0,1.0,1.0,0.010998417597468155,1.0,1.0,1.0,0.3099988959982336,1.0,0.2699988319981312,1.0,0.3199989119982592,0.1399986239977984,1.0,1.0,0.025998441597506552,1.0,1.0,0.8199997119995392,0.1399986239977984,1.0,0.2699988319981312,1.0,0.003698405917449468,1.0,1.0,1.0,1.0,1.0,0.07599852159763455,0.0003584005734409175,1.0,1.0,1.0,0.013998422397475837,0.11999859199774718,1.0,1.0,0.0034984055974489558,0.024998439997503997,0.0799985279976448,0.019998431997491198,1.0,1.0,1.0,1.0,1.0,1.0,0.5299992479987968,1.0,1.0,0.2299987679980288,1.0,1.0,0.027998444797511672,1.0,0.020998433597493756,1.0,0.199998719997952,1.0,1.0,1.0,0.14999863999782398,0.28999886399818237,1.0,1.0,1.0,1.0,1.0,1.0,1.0,1.0,0.1699986719978752,0.08299853279765247,0.001198401917443068,1.0,1.0,1.0,1.0,0.03399845439752703,1.0,1.0,1.0,1.0,1.0,1.0,0.00189840303744486,1.0,1.0,0.06799850879761407,0.2599988159981056,1.0,1.0,1.0,1.0,0.5699993119988992,1.0,1.0,0.024998439997503997,1.0,1.0,1.0,0.20999873599797758,1.0,1.0,1.0,1.0,1.0,0.18999870399792637,1.0,1.0,1.0,1.0,0.4699991519986432,1.0,1.0,1.0,1.0,0.3399989439983104,0.03399845439752703,0.15999865599784957,1.0,0.18999870399792637,1.0,1.0,1.0,1.0,1.0,1.0,1.0,0.06799850879761407,1.0,0.0013984022374435798,0.03399845439752703,0.04899847839756543,0.099998559997696,1.0,1.0,1.0,0.06899851039761663,0.07299851679762688,0.018998430397488636,1.0,1.0,1.0,1.0,1.0,1.0,1.0,1.0,1.0,0.014998423997478397,0.04199846719754751,0.549999279998848,0.399999039998464,1.0,0.007598412157459451,0.016998427197483516,1.0,0.04499847199755519,1.0,1.0,1.0,1.0,1.0,1.0,1.0,1.0,1.0,1.0,0.4399991039985664,1.0,0.003098404957447932,1.0,1.0,1.0,1.0,0.07399851839762944,1.0,0.022998436797498877,1.0,1.0,0.1299986079977728,0.20999873599797758,1.0,1.0,1.0,1.0,1.0,0.5699993119988992,1.0,0.1299986079977728,0.08299853279765247,1.0,1.0,1.0,1.0,1.0,0.018998430397488636,1.0,0.0012984020774433238,1.0,1.0,1.0,0.06899851039761663,1.0,1.0,1.0,1.0,1.0,1.0,1.0,1.0,0.5299992479987968,0.0699985119976192,1.0,1.0,1.0,0.4399991039985664,1.0,1.0,1.0,1.0,1.0,1.0,1.0,1.0,1.0,1.0,0.17999868799790078,1.0,1.0,1.0,1.0,1.0,1.0,1.0,1.0,1.0,1.0,0.009198414717463547,0.08299853279765247,1.0,1.0,1.0,1.0,1.0,1.0,1.0,1.0,1.0,1.0,1.0,1.0,1.0,0.009998415997465595,1.0,1.0,1.0,0.0002984004774407639,0.08999854399767039,1.0,1.0,1.0,0.21999875199800317,1.0,1.0,1.0,1.0,1.0,1.0,1.0,1.0,1.0,0.9199998719997952,1.0,1.0,1.0,1.0,1.0,1.0,1.0,1.0,1.0,1.0,1.0,1.0,1.0,0.022998436797498877,1.0,1.0,1.0,1.0,0.020998433597493756,1.0,1.0,0.0949985519976832,1.0,1.0,1.0,0.010998417597468155,1.0,1.0,1.0,1.0,1.0,1.0,1.0,0.5099992159987456,0.08199853119764992,1.0,0.03899846239753983,0.3299989279982848,1.0,0.09099854559767295,1.0,1.0,0.2699988319981312,0.3399989439983104,1.0,1.0,0.549999279998848,1.0,1.0,1.0,1.0,0.11999859199774718,1.0,1.0,1.0,0.016998427197483516,1.0,0.099998559997696,0.05299848479757568,1.0,1.0,0.03899846239753983,0.018998430397488636,0.5099992159987456,1.0,0.00539840863745382,1.0,1.0,1.0,1.0,1.0,1.0,0.010998417597468155,1.0,1.0,1.0,1.0,0.4099990559984896,1.0,0.009498415197464315,1.0,1.0,1.0,1.0,1.0,1.0,1.0,1.0,0.28999886399818237,1.0,1.0,0.001198401917443068,0.10999857599772159,1.0,1.0,0.2699988319981312,0.1299986079977728,1.0,0.5399992639988224,0.06399850239760384,1.0,0.23999878399805438,0.019998431997491198,1.0,1.0,0.030998449597519354,1.0,1.0,1.0,1.0,1.0,1.0,1.0,1.0,1.0,0.020998433597493756,1.0,1.0,1.0,0.002698404317446908,0.34999895999833597,1.0,1.0,1.0,1.0,1.0,1.0,2.300003680005888e-06,1.0,1.0,1.0,0.1299986079977728,1.0,1.0,1.0,0.013998422397475837,0.023998438397501435,1.0,1.0,1.0,0.29999887999820796,1.0,1.0,1.0,1.0,1.0,0.002698404317446908,0.15999865599784957,1.0,1.0,1.0,1.0,0.2299987679980288,0.024998439997503997,1.0,1.0,1.0,0.4699991519986432,1.0,0.020998433597493756,1.0,1.0,1.0,1.0,1.0,1.0,1.0,1.0,1.0,1.0,0.026998443197509114,1.0,0.001698402717444348,1.0,1.0,1.0,1.0,1.0,1.0,0.013998422397475837,1.0,1.0,1.0,1.0,0.003098404957447932,0.011998419197470715,0.0015984025574440918,0.2299987679980288,1.0,1.0,1.0,1.0,1.0,0.0034984055974489558,1.0,1.0,1.0,1.0,1.0,1.0,0.0012984020774433238,1.0,1.0,1.0,0.001198401917443068,0.1399986239977984,0.04299846879755007,0.8399997439995904,1.0,0.0799985279976448,1.0,1.0,1.0,1.0,1.0,1.0,1.0,1.0,1.0,1.0,1.0,1.0,1.0,0.3799990079984128,1.0,1.0,1.0,1.0,1.0,1.0,0.08699853919766272,0.8199997119995392,1.0,0.08599853759766016,0.4199990719985152,1.0,1.0,1.0,1.0,0.6899995039992064,1.0,1.0,0.002598404157446652,1.0,0.004098406557450492,1.0,1.0,0.44999911999859205,1.0,1.0,1.0,1.0,0.0699985119976192,1.0,1.0,1.0,1.0,1.0,0.18999870399792637,1.0,0.0799985279976448,0.00015840025344040552,0.2299987679980288,1.0,1.0,1.0,1.0,1.0,1.0,1.0,1.0,1.0,1.0,1.0,1.0,1.0,1.0,0.2699988319981312,1.0,1.0,1.0,0.49999919999872,1.0,1.0,1.0,1.0,1.0,0.030998449597519354,1.0,1.0,1.0,1.0,1.0,1.0,1.0,1.0,0.008198413117460987,0.007198411517458427,1.0,0.15999865599784957,1.0,1.0,1.0,1.0,0.0033984054374487,1.0,1.0,1.0,1.0,0.5199992319987712,1.0,1.0,1.0,1.0,1.0,1.0,0.4299990879985408,0.8399997439995904,1.0,1.0,1.0,1.0,0.032998452797524475,1.0,0.45999913599861764,1.0,1.0,3.34000534400855e-05,1.0,1.0,1.0,3.540005664009062e-05,0.20999873599797758,1.0,1.0,1.0,1.0,1.0,1.0,1.0,1.0,1.0,1.0,1.0,1.0,1.0,1.0,1.0,1.0,0.00189840303744486,0.2599988159981056,1.0,1.0,1.0,1.0,1.0,1.0,1.0,1.0,1.0,0.054998487997580794,0.006098409757455612,1.0,0.3799990079984128,1.0,0.0006484010374416599,1.0,0.009698415517464826,1.0,1.0,1.0,1.0,1.0,1.0,1.0,1.0,1.0,1.0,1.0,1.0,0.06599850559760896,1.0,1.0,1.0,1.0,1.0,1.0,1.0,1.0,0.03799846079753727,1.0,1.0,1.0,1.0,1.0,1.0,1.0,0.1699986719978752,1.0,0.5899993439989504,1.0,1.0,1.0,0.10999857599772159,0.17999868799790078,1.0,1.0,1.0,1.0,1.0,1.0,1.0,0.043998470397552635,1.0,1.0,1.0,0.00539840863745382,0.022998436797498877,0.9899999839999744,1.0,0.09199854719767551,1.0,0.10999857599772159,0.18999870399792637,1.0,1.0,1.0,1.0,1.0,0.0002384003814406103,1.0,1.0,0.0004684007494411991,1.0,0.14999863999782398,1.0,0.07799852479763968,0.2299987679980288,1.0,1.0,0.17999868799790078,0.055998489597583356,1.0,0.5699993119988992,1.0,0.0599984959975936,1.0,1.0,0.007298411677458683,1.0,1.0,1.0,1.0,1.0,1.0,0.14999863999782398,0.0003184005094408151,1.0,1.0,0.0005584008934414295,1.0,1.0,1.0,1.0,1.0,1.0,1.0,1.0,1.0,1.0,0.44999911999859205,1.0,1.0,1.0,1.0,0.11999859199774718,1.0,0.3799990079984128,1.0,1.0,1.0,1.0,1.0,1.0,0.001498402397443836,1.0,1.0,1.0,1.0,0.0849985359976576,1.0,0.026998443197509114,1.0,0.00959841535746457,1.0,1.0,1.0,1.0,0.029998447997516792,1.0,1.0,1.0,1.0,1.0,0.06899851039761663,1.0,0.0008984014374422999,1.0,0.009998415997465595,1.0,5.040008064012902e-05,1.0,1.0,1.0,1.0,1.0,1.0,0.5099992159987456,0.036998459197534715,1.0,0.001498402397443836,1.0,1.0,0.45999913599861764,0.07299851679762688,1.0,1.0,1.0,1.0,1.0,0.07599852159763455,1.0,1.0,1.0,1.0,0.0008984014374422999,0.021998435197496315,0.012998420797473277,1.0,1.0,1.0,1.0,1.0,1.0,1.0,0.10999857599772159,0.03799846079753727,0.09099854559767295,1.0,1.0,0.013998422397475837,1.0,1.0,1.0,0.20999873599797758,0.018998430397488636,1.0,0.011998419197470715,1.0,0.001098401757442812,1.0,1.0,1.0,1.0,1.0,1.0,0.032998452797524475,1.0,0.11999859199774718,0.058998494397591035,1.0,0.030998449597519354,0.15999865599784957,1.0,1.0,1.0,0.054998487997580794,1.0,1.0,1.0,1.0,0.0005384008614413783,0.45999913599861764,0.9899999839999744,1.0,1.0,0.36999899199838715,1.0,0.4199990719985152,0.0004884007814412503,1.0,1.0,1.0,1.0,1.0,0.023998438397501435,0.6299994079990529,0.09199854719767551,1.0,1.0,1.0,1.0,1.0,1.0,0.00013840022144035428,1.0,1.0,1.0,0.14999863999782398,1.0,7.240011584018534e-05,1.0,0.06199849919759872,1.0,1.0,1.0,1.0,1.0,0.15999865599784957,1.0,1.0,0.021998435197496315,0.45999913599861764,1.0,1.0,1.0,1.0,1.0,1.0,1.0,0.0008384013414421463,1.0,0.10999857599772159,0.2599988159981056,1.0,1.0,1.0,0.032998452797524475,1.0,1.0,1.0,0.04599847359755775,0.18999870399792637,1.0,0.07199851519762432,0.14999863999782398,1.0,0.022998436797498877,0.10999857599772159,1.0,0.004798407677452284,1.0,1.0,0.35999897599836156,1.0,1.0,0.0033984054374487,1.0,1.0,1.0,0.0009484015174424279,0.2299987679980288,0.4199990719985152,1.0,0.09799855679769087,1.0,1.0,1.0,1.0,1.0,1.0,0.0033984054374487,0.23999878399805438,1.0,1.0,0.047998476797562875,0.08099852959764736,1.0,0.6899995039992064,1.0,0.08899854239766784,1.0,0.799999679999488,0.000818401309442095,1.0,1.0,1.0,1.0,1.0,0.11999859199774718,1.0,1.0,1.0,0.001098401757442812,1.0,1.0,1.0,1.0,1.0,0.023998438397501435,1.0,1.0,1.0,1.0,1.0,1.0,1.0,1.0,1.0,1.0,1.0,1.0,1.0,1.0,1.0,1.0,1.0,1.0,0.17999868799790078,1.0,5.5400088640141815e-05,0.022998436797498877,1.0,0.3799990079984128,1.0,1.0,1.4400023040036864e-05,1.0,1.0,1.0,1.0,0.11999859199774718,1.0,1.0,1.0,0.03499845599752959,1.0,1.0,1.0,1.0,1.0,0.10999857599772159,1.0,1.0,0.012998420797473277,0.2599988159981056,1.0,0.04999847999756799,0.9699999519999232,1.0,0.0599984959975936,0.004598407357451772,0.002298403677445884,0.020998433597493756,0.0949985519976832,1.0,1.0,1.0,0.0001984003174405079,0.10999857599772159,1.0,1.0,1.0,1.0,1.0,1.0,1.0,0.009898415837465339,1.0,1.0,1.0,0.003198405117448188,1.0,1.0,1.0,1.0,1.0,1.0,1.0,1.0,1.0,1.0,1.0,1.0,1.0,0.36999899199838715,1.0,1.0,1.0,0.07899852639764224,1.0,1.0,0.007298411677458683,1.0,1.0,1.0,1.0,1.0,0.010998417597468155,1.0,1.0,1.0,1.0,1.0,0.015998425597480957,0.03499845599752959,0.06899851039761663,1.0,1.0,1.0,1.0,0.3399989439983104,1.0,1.0,0.020998433597493756,0.0083984134374615,1.0,1.0,1.0,1.0,1.0,1.0,0.04199846719754751,0.3899990239984384,1.0,0.039998463997542394,0.0058984094374551,1.0,1.0,1.0,0.09599855359768576,1.0,1.0,0.14999863999782398,1.0,0.3299989279982848,1.0,1.0,1.0,1.0,1.0,1.0,1.0,0.055998489597583356,0.001098401757442812,1.0,1.0,1.0,1.0,1.0,1.0,1.0,1.0,0.4299990879985408,1.0,1.0,1.0,1.0,1.0,1.0,0.1399986239977984,1.0,1.0,1.0,1.0,1.0,1.0,1.0,0.007698412317459707,1.0,1.0,1.0,1.0,0.0017984028774446041,1.0,1.0,0.09599855359768576,0.28999886399818237,1.0,0.022998436797498877,1.0,1.0,1.0,1.0,0.002098403357445372,0.2599988159981056,1.0,1.0,0.09399855039768064,1.0,1.0,0.032998452797524475,1.0,1.0,1.0,1.0,0.006698410717457147,1.0,0.14999863999782398,1.0,1.0,1.0,1.0,0.8699997919996671,1.0,1.0,1.0,0.017998428797486078,1.0,1.0,1.0,1.0,0.2799988479981568,1.0,1.0,0.6399994239990784,1.0,1.0,1.0,0.00239840383744614,1.0,0.023998438397501435,1.0,1.0,0.020998433597493756,0.026998443197509114,1.0,0.024998439997503997,1.0,1.0,1.0,1.0,1.0,1.0,0.007998412797460474,1.0,1.0,1.0,1.0,0.15999865599784957,1.0,0.012998420797473277,0.3299989279982848,1.0,1.0,1.0,0.06399850239760384,1.0,1.0,0.0005484008774414039,1.0,1.0,1.0,1.0,0.3399989439983104,1.0,1.0,1.0,1.0,1.0,0.030998449597519354,1.0,0.008098412957460732,0.18999870399792637,0.18999870399792637,0.1699986719978752,0.03899846239753983,1.0,1.0,0.3299989279982848,1.0,1.0,1.0,1.0,1.0,1.0,1.0,0.3199989119982592,1.0,1.0,0.21999875199800317,1.0,1.0,1.0,1.0,0.08299853279765247,0.028998446397514234,1.0,1.0,1.0,0.04199846719754751,1.0,0.20999873599797758,0.010998417597468155,1.0,0.0003184005094408151,0.20999873599797758,0.0013984022374435798,1.0,1.0,0.09899855839769343,1.0,1.0,1.0,0.3199989119982592,1.0,0.051998483197573116,1.0,0.019998431997491198,1.0,0.20999873599797758,1.0,1.0,1.0,1.0,1.0,0.032998452797524475,1.0,9.84001574402519e-05,1.0,1.0,1.0,0.06099849759759616,0.1299986079977728,1.0,1.0,1.0,0.00010840017344027751,1.0,0.7199995519992832,1.0,1.0,1.0,1.0,0.019998431997491198,1.0,0.1399986239977984,1.0,0.013998422397475837,1.0,1.0,1.0,1.0,1.0,1.0,1.0,0.00189840303744486,1.0,1.0,0.047998476797562875,0.899999839999744,1.0,1.0,1.0,1.0,0.17999868799790078,0.4099990559984896,1.0,1.0,1.0,1.0,0.011998419197470715,1.0,0.06299850079760128,0.009698415517464826,1.0,1.0,1.0,1.0,1.0,1.0,1.0,0.025998441597506552,0.055998489597583356,1.0,1.0,1.0,1.0,1.0,1.0,1.0,1.0,1.0,1.0,1.0,1.0,1.0,1.0,1.0,0.005998409597455356,1.0,1.0,1.0,1.0,0.9899999839999744,1.0,1.0,1.0,1.0,1.0,1.0,1.0,1.0,1.0,0.1699986719978752,0.05399848639757824,1.0,0.03499845599752959,1.0,1.0,0.020998433597493756,1.0,1.0,0.24999879999807997,1.0,1.0,1.0,1.0,0.04299846879755007,0.9099998559997696,1.0,1.0,1.0,0.45999913599861764,1.0,1.0,1.0,1.0,1.0,0.024998439997503997,1.0,1.0,0.007898412637460219,0.4799991679986688,1.0,1.0,1.0,1.0,0.002298403677445884,1.0,1.0,1.0,1.0,0.015998425597480957,1.0,1.0,1.0,0.007898412637460219,1.0,0.8899998239997184,1.0,1.0,0.0015984025574440918,5.1400082240131584e-05,1.0,0.03799846079753727,0.012998420797473277,6.940011104017766e-05,1.0,1.0,1.0,1.0,1.0,1.0,0.6699994719991552,1.0,1.0,1.0,1.0,1.0,1.0,1.0,0.025998441597506552,1.0,1.0,1.0,1.0,1.0,1.0,1.0,1.0,0.00189840303744486,0.030998449597519354,1.0,0.0649985039976064,1.0,0.058998494397591035,0.029998447997516792,1.0,0.2699988319981312,0.11999859199774718,1.0,1.0,1.0,1.0,1.0,1.0,1.0,1.0,0.012998420797473277,1.0,1.0,0.0001484002374403799,1.0,1.0,1.0,1.0,1.0,0.039998463997542394,0.1399986239977984,0.0599984959975936,0.14999863999782398,0.3199989119982592,1.0,1.0,1.0,1.0,1.0,1.0,1.0,1.0,1.0,1.0,0.036998459197534715,1.0,0.0009884015814425303,1.0,1.0,1.0,0.0001684002694404311,0.03199845119752191,0.7899996639994624,1.0,1.0,0.001698402717444348,1.0,0.007098411357458171,0.08299853279765247,1.0,0.18999870399792637,1.0,0.0006384010214416343,1.0,1.0,0.026998443197509114,0.001098401757442812,0.028998446397514234,0.0013984022374435798,1.0,1.0,0.4399991039985664,1.0,1.0,0.03899846239753983,1.0,0.1299986079977728,1.0,1.0,1.0,1.0,1.0,0.0083984134374615,0.051998483197573116,1.0,1.0,0.07299851679762688,1.0,1.0,1.0,1.0,1.0,0.0009384015014424023,1.0,1.0,1.0,1.0,1.0,1.0,1.0,1.0,1.0,0.6599994559991296,1.0,0.2799988479981568,1.0,1.0,1.0,1.0,0.002098403357445372,0.36999899199838715,1.0,1.0,0.002498403997446396,1.0,1.0,0.039998463997542394,1.0,1.0,1.0,1.0,1.0,0.006298410077456124,1.0,1.0,0.399999039998464,0.2799988479981568,1.0,0.07099851359762176,1.0,1.0,0.0006884011014417623,1.0,0.018998430397488636,0.06199849919759872,0.024998439997503997,1.0,1.0,0.024998439997503997,0.06899851039761663,0.009198414717463547,1.0,1.0,1.0,1.0,1.0,1.0,1.0,0.15999865599784957,1.0,0.0005784009254414807,1.0,0.007398411837458939,1.0,0.4299990879985408,0.4699991519986432,1.0,0.06699850719761152,1.0,0.058998494397591035,1.0,1.0,1.0,0.14999863999782398,1.0,0.03899846239753983,1.0,1.0,0.799999679999488,1.0,1.0,1.0,1.0,1.0,0.04199846719754751,1.0,1.0,1.0,1.0,0.007898412637460219,1.0,1.0,1.0,1.0,1.0,1.0,1.0,1.0,0.00010840017344027751,1.0,1.0,1.0,1.0,1.0,1.0,0.00239840383744614,1.0,1.0,0.2299987679980288,1.0,1.0,0.10999857599772159,1.0,0.09399855039768064,0.7699996319994112,1.0,0.0799985279976448,0.21999875199800317,1.0,0.6099993759990016,1.0,1.0,1.0,1.0,1.0,1.0,1.0,0.23999878399805438,1.0,1.0,1.0,0.17999868799790078,1.0,1.0,0.021998435197496315,0.23999878399805438,0.14999863999782398,1.0,1.0,1.0,1.0,1.0,0.020998433597493756,1.0,1.0,1.0,1.0,0.7699996319994112,1.0,1.0,1.0,1.0,0.013998422397475837,0.002698404317446908,1.0,0.04199846719754751,1.0,0.9799999679999488,1.0,0.5899993439989504,0.10999857599772159,0.17999868799790078,1.0,1.0,1.0,1.0,0.11999859199774718,1.0,0.3099988959982336,0.08999854399767039,1.0,1.0,1.0,1.0,1.0,1.0,1.0,1.0,0.3399989439983104,1.0,1.0,0.0849985359976576,0.04699847519756031,0.030998449597519354,1.0,1.0,1.0,1.0,1.0,1.0,1.0,0.012998420797473277,1.0,0.1399986239977984,1.0,1.0,0.032998452797524475,0.0799985279976448,0.0013984022374435798,1.0,1.0,1.0,0.024998439997503997,1.0,1.0,1.0,1.0,0.018998430397488636,1.0,1.0,1.0,1.0,0.0058984094374551,1.0,1.0,1.0,1.0,0.5699993119988992,1.0,1.0,1.0,1.0,1.0,1.0,0.09099854559767295,1.0,1.0,1.0,1.0,1.0,1.0,1.0,1.0,1.0,0.00010840017344027751,1.0,1.0,1.0,1.0,1.0,0.03899846239753983,1.0,0.032998452797524475,1.0,1.0,1.0,1.0,1.0,0.4799991679986688,1.0,0.1399986239977984,1.0,1.0,1.0,1.0,5.1400082240131584e-05,1.0,0.03599845759753215,1.0,1.0,1.0,1.0,1.0,0.050998481597570554,1.0,1.0,1.0,0.0008784014054422488,1.0,1.0,1.0,1.0,1.0,1.0,1.0,1.0,1.0,1.0,1.0,0.050998481597570554,0.21999875199800317,1.0,0.34999895999833597,1.0,0.3199989119982592,1.0,0.028998446397514234,1.0,1.0,1.0,0.03799846079753727,1.0,0.03799846079753727,1.0,0.6799994879991809,0.3299989279982848,0.03499845599752959,1.0,1.0,1.0,0.9699999519999232,0.0001484002374403799,1.0,1.0,1.0,1.0,1.0,1.0,1.0,0.34999895999833597,1.0,1.0,1.0,1.0,1.0,1.0,1.0,1.0,1.0,1.0,1.0,0.2699988319981312,1.0,1.0,0.055998489597583356,0.3399989439983104,0.08399853439765503,1.0,1.0,1.0,1.0,1.0,1.0,1.0,1.0,0.1699986719978752,1.0,1.0,0.15999865599784957,0.199998719997952,0.18999870399792637,0.1399986239977984,1.0,1.0,1.0,1.0,1.0,1.0,1.0,1.0,1.0,1.0,0.06899851039761663,0.09599855359768576,1.0,1.0,1.0,1.0,0.0001684002694404311,1.0,0.016998427197483516,1.0,1.0,1.0,1.0,1.0,0.004298406877451004,1.0,0.15999865599784957,1.0,1.0,1.0,1.0,1.0,1.0,0.009698415517464826,0.199998719997952,1.0,1.0,1.0,1.0,1.0,1.0,1.0,0.2799988479981568,1.0,1.0,1.0,1.0,1.0,1.0,1.0,1.0,0.2299987679980288,0.017998428797486078,1.0,0.29999887999820796,1.0,1.0,1.0,0.021998435197496315,0.06199849919759872,1.0,1.0,0.4299990879985408,1.0,1.8400029440047104e-05,1.0,1.0,1.0,1.0,1.0,1.0,1.0,1.0,0.17999868799790078,3.0400048640077823e-05,1.0,0.026998443197509114,1.0,0.07699852319763711,1.0,1.0,1.0,0.08699853919766272,0.06199849919759872,0.09099854559767295,1.0,1.0,0.05799849279758848,0.549999279998848,1.0,0.9899999839999744,1.0,0.03899846239753983,1.0,1.0,1.0,0.09699855519768831,1.0,1.0,0.18999870399792637,1.0,0.0005284008454413527,1.0,1.0,1.0,0.20999873599797758,1.0,1.0,1.0,1.0,0.05299848479757568,1.0,1.0,0.5799993279989248,1.0,1.0,1.0,1.0,0.29999887999820796,1.0,1.0,1.0,0.002498403997446396,1.0,1.0,1.0,1.0,1.0,1.0,0.10999857599772159,1.0,1.0,1.0,1.0,1.0,1.0,1.0,1.0,1.0,1.0,0.17999868799790078,0.040998465597544956,1.0,1.0,1.0,0.00939841503746406,1.0,1.0,1.0,1.0,1.0,0.15999865599784957,0.05699849119758592,1.0,1.0,1.0,1.0,1.0,1.0,0.9799999679999488,0.0015984025574440918,1.0,0.49999919999872,1.0,0.016998427197483516,0.8299997279995648,0.022998436797498877,0.058998494397591035,1.0,0.00025840041344066153,4.940007904012646e-05,0.011998419197470715,1.0,1.0,1.0,1.0,1.0,0.10999857599772159,1.0,1.0,1.0,0.3299989279982848,0.0012984020774433238,1.0,1.0,1.0,1.0,0.2799988479981568,1.0,0.006998411197457915,1.0,1.0,1.0,0.199998719997952,1.0,1.0,1.0,1.0,1.0,1.0,1.0,1.0,1.0,1.0,1.0,0.016998427197483516,1.0,1.0,1.0,1.0,1.0,1.0,0.7699996319994112,1.0,1.0,1.0,0.2599988159981056,1.0,0.012998420797473277,0.34999895999833597,0.014998423997478397,0.44999911999859205,1.0,1.0,1.0,1.0,1.0,1.0,1.0,0.06599850559760896,0.2599988159981056,0.050998481597570554,1.0,1.0,1.0,0.9299998879998208,0.009898415837465339,0.1399986239977984,1.0,1.0,1.0,1.0,0.9799999679999488,1.0,1.0,1.0,1.0,1.0,1.0,1.0,1.0,1.0,1.0,1.0,1.0,0.45999913599861764,1.0,1.0,1.0,1.0,1.0,0.44999911999859205,0.09399855039768064,1.0,1.0,1.0,1.0,1.0,1.0,0.043998470397552635,1.0,1.0,1.0,1.0,0.027998444797511672,1.0,1.0,1.0,0.03499845599752959,1.0,0.28999886399818237,0.18999870399792637,0.0699985119976192,1.0,1.0,1.0,1.0,1.0,1.0,1.0,5.5400088640141815e-05,1.0,0.0004084006534410455,1.0,0.5699993119988992,1.0,1.0,1.0,1.0,1.0,1.0,0.11999859199774718,1.0,1.0,1.0,1.0,1.0,1.0,1.0,1.0,1.0,1.0,1.0,0.004098406557450492,1.0,0.009298414877463803,0.06199849919759872,1.0,1.0,1.0,1.0,1.0,1.0,1.0,1.0,1.0,1.0,1.0,1.0,1.0,0.021998435197496315,1.0,1.0,0.0004484007174411479,1.0,1.0,1.0,0.004798407677452284,1.0,1.0,1.0,1.0,1.0,1.0,1.0,0.06799850879761407,1.0,1.0,1.0,1.0,1.0,0.44999911999859205,0.0009784015654425047,1.0,1.0,1.0,0.013998422397475837,0.7499995999993601,1.0,0.35999897599836156,1.0,0.0005384008614413783,1.0,0.024998439997503997,1.0,0.5599992959988737,0.11999859199774718,1.0,0.3199989119982592,1.0,1.0,0.15999865599784957,1.0,0.018998430397488636,1.0,0.2299987679980288,1.0,0.002498403997446396,1.0,1.0,1.0,1.0,1.0,1.0,1.0,1.0,0.03499845599752959,1.0,1.0,1.0,1.0,1.0,0.0949985519976832,0.0004984007974412759,1.0,0.07699852319763711,1.0,1.0,1.0,1.0,1.0,1.0,1.0,0.08899854239766784,1.0,1.0,0.016998427197483516,0.0005284008454413527,1.0,1.0,0.026998443197509114,0.3899990239984384,0.23999878399805438,1.0,1.0,1.0,1.0,1.0,0.015998425597480957,1.0,0.009898415837465339,1.0,1.0,0.024998439997503997,0.05699849119758592,1.0,1.0,1.0,1.0,1.0,1.0,1.0,0.5299992479987968,1.0,1.0,0.06699850719761152,1.0,1.0,1.0,1.0,1.0,1.0,1.0,1.0,1.0,1.0,1.0,1.0,0.1299986079977728,1.0,1.0,1.0,1.0,1.0,1.0,1.0,0.949999919999872,0.15999865599784957,0.0015984025574440918,1.0,1.0,1.0,1.0,1.0,1.0,0.0003684005894409431,0.051998483197573116,1.0,1.0,1.0,1.0,1.0,0.14999863999782398,1.0,1.0,1.0,1.0,1.0,1.0,1.0,1.0,0.03599845759753215,0.2699988319981312,1.0,1.0,0.6899995039992064,1.0,1.0,0.00939841503746406,1.0,0.04299846879755007,0.003698405917449468,1.0,0.005598408957454332,1.0,1.0,0.399999039998464,0.699999519999232,0.003998406397450236,1.0,1.0,1.0,1.0,1.0,1.0,1.0,1.0,1.0,1.0,0.09199854719767551,0.032998452797524475,1.0,1.0,1.0,1.0,0.649999439999104,1.0,0.025998441597506552,1.0,0.026998443197509114,1.0,0.09599855359768576,0.027998444797511672,1.0,1.0,1.0,0.7099995359992576,0.18999870399792637,1.0,1.0,1.0,1.0,0.17999868799790078,1.0,1.0,6.84001094401751e-05,1.0,1.0,1.0,1.0,1.0,1.0,1.0,1.0,0.2299987679980288,0.11999859199774718,1.0,1.0,1.0,1.0,1.0,1.0,0.4199990719985152,1.0,1.0,0.008198413117460987,1.0,1.0,1.0,1.0,1.0,1.0,1.0,1.0,1.0,1.0,1.0,0.04299846879755007,1.0,1.0,0.3299989279982848,1.0,0.03499845599752959,1.0,0.03599845759753215,1.0,1.0,1.0,1.0,1.0,1.0,1.0,1.0,1.0,1.0,1.0,0.08199853119764992,1.0,1.0,0.2599988159981056,1.0,1.0,1.0,1.0,1.0,1.0,1.0,1.0,0.18999870399792637,0.013998422397475837,1.0,1.0,0.058998494397591035,1.0,1.0,0.23999878399805438,0.00639841023745638,1.0,1.0,1.0,1.0,0.040998465597544956,1.0,0.3099988959982336,1.0,1.0,1.0,1.0,0.00239840383744614,1.0,1.0,0.10999857599772159,1.0,0.11999859199774718,0.1399986239977984,0.45999913599861764,1.0,1.0,0.05799849279758848,0.00389840623744998,1.0,1.0,1.0,0.019998431997491198,1.0,1.0,0.6599994559991296,1.0,0.07599852159763455,1.0,1.0,1.0,1.0,0.015998425597480957,1.0,0.0003684005894409431,1.0,1.0,1.0,0.020998433597493756,1.0,1.0,1.0,1.0,1.0,1.0,0.17999868799790078,1.0,1.0,1.0,1.0,0.001098401757442812,1.0,1.0,1.0,1.0,1.0,1.0,1.0,0.0007684012294419671,0.3199989119982592,1.0,1.0,1.0,1.0,1.0,1.0,1.0,1.0,1.0,1.0,1.0,0.0015984025574440918,1.0,1.0,0.4799991679986688,1.0,1.0,1.0,1.0,0.006298410077456124,1.0,0.15999865599784957,1.0,1.0,1.0,0.399999039998464,1.0,1.0,1.0,1.0,1.0,1.0,1.0,8.400013440021505e-06,1.0,0.699999519999232,0.020998433597493756,1.0,0.04599847359755775,1.0,0.3099988959982336,1.0,1.0,1.0,1.0,1.0,1.0,1.0,1.0,1.0,1.0,0.013998422397475837,1.0,1.0,1.0,1.0,1.0,0.04699847519756031,1.0,0.07899852639764224,1.0,1.0,1.0,1.0,1.0,1.0,1.0,1.0,1.0,1.0,1.0,0.007998412797460474,0.6199993919990272,1.0,0.1299986079977728,1.0,0.8299997279995648,0.15999865599784957,1.0,1.0,1.0,1.0,1.0,1.0,0.21999875199800317,0.5399992639988224,1.0,0.028998446397514234,1.0,1.0,0.040998465597544956,1.0,1.0,0.8599997759996416,0.022998436797498877,1.0,1.0,0.9699999519999232,1.0,1.0,1.0,0.3799990079984128,0.0012984020774433238,0.6199993919990272,1.0,1.0,1.0,0.24999879999807997,1.0,1.0,1.0,1.0,1.0,1.0,1.0,1.0,1.0,0.009098414557463292,0.013998422397475837,1.0,0.36999899199838715,1.0,1.0,0.002698404317446908,1.0,1.0,1.0,1.0,1.0,0.00189840303744486,1.0,1.0,1.0,0.24999879999807997,1.0,1.0,1.0,1.0,1.0,1.0,1.0,0.10999857599772159,1.0,1.0,1.0,1.0,0.7399995839993344,1.0,1.0,0.07599852159763455,1.0,0.04299846879755007,1.0,1.0,0.23999878399805438,1.0,1.0,0.3099988959982336,1.0,1.0,1.0,0.28999886399818237,0.0013984022374435798,1.0,1.0,1.0,1.0,1.0,1.0,0.08599853759766016,1.0,0.099998559997696,0.1699986719978752,1.0,0.04199846719754751,0.11999859199774718,1.0,1.0,1.0,0.21999875199800317,0.025998441597506552,1.0,1.0,0.006998411197457915,1.0,1.0,1.0,1.0,1.0,1.0,1.0,0.029998447997516792,0.002498403997446396,1.0,1.0,1.0,1.0,1.0,1.0,1.0,1.0,0.001498402397443836,0.014998423997478397,1.0,1.0,0.1299986079977728,0.039998463997542394,0.5199992319987712,1.0,1.0,1.0,0.10999857599772159,1.0,1.0,1.0,0.00439840703745126,0.4099990559984896,0.34999895999833597,1.0,1.0,1.0,1.0,1.0,1.0,1.0,1.0,0.3299989279982848,0.099998559997696,1.0,0.23999878399805438,1.0,1.0,0.009998415997465595,1.0,1.0,0.29999887999820796,1.0,0.2799988479981568,1.0,1.0,0.21999875199800317,1.0,1.0,1.0,1.0,1.0,1.0,1.0,1.0,0.027998444797511672,1.0,1.0,0.5899993439989504,1.0,1.0,1.0,0.24999879999807997,1.0,1.0,0.05399848639757824,1.0,1.0,1.0,1.0,5.5400088640141815e-05,0.07199851519762432,1.0,1.0,0.023998438397501435,1.0,0.021998435197496315,1.0,1.0,0.34999895999833597,1.0,1.0,1.0,1.0,1.0,1.0,1.0,1.0,0.04999847999756799,1.0,1.0,0.0012984020774433238,1.0,1.0,1.0,1.0,1.0,1.0,1.0,1.0,1.0,0.649999439999104,0.012998420797473277,1.0,1.0,1.0,1.0,1.0,0.2599988159981056,1.0,1.0,1.0,1.0,1.0,0.016998427197483516,0.002598404157446652,1.0,0.07599852159763455,1.0,1.0,0.006998411197457915,0.44999911999859205,0.08799854079766528,0.3299989279982848,1.0,0.008198413117460987,1.0,1.0,1.0,0.06099849759759616,0.0013984022374435798,1.0,1.0,1.0,1.0,1.0,1.0,1.0,1.0,0.003598405757449212,0.23999878399805438,1.0,1.0,0.199998719997952,1.0,1.0,0.03799846079753727,0.06399850239760384,0.06899851039761663,1.0,1.0,1.0,1.0,1.0,1.0,1.0,1.0,1.0,1.0,1.0,0.014998423997478397,0.1299986079977728,1.0,1.0,1.0,0.0007284011654418647,1.0,0.29999887999820796,1.0,0.44999911999859205,1.0,1.0,1.0,1.0,1.0,1.0,1.0,0.06399850239760384,1.0,1.0,0.029998447997516792,1.0,1.0,1.0,1.0,1.0,0.015998425597480957,0.011998419197470715,1.0,1.0,0.44999911999859205,1.0,1.0,1.0,1.0,1.0,1.0,1.0,1.0,1.0,1.0,0.28999886399818237,1.0,1.0,1.0,0.5199992319987712,1.0,1.0,0.08799854079766528,1.0,0.9699999519999232,0.036998459197534715,1.0,1.0,1.0,0.09699855519768831,1.0,1.0,1.0,1.0,1.0,1.0,1.0,1.0,1.0,1.0,1.0,1.0,1.0,1.0,0.3099988959982336,0.009798415677465084,1.0,0.8399997439995904,1.0,1.0,1.0,1.0,0.11999859199774718,1.0,1.0,1.0,0.04699847519756031,1.0,0.025998441597506552,0.0006584010534416854,1.0,0.04299846879755007,1.0,1.0,1.0,0.020998433597493756,1.0,0.21999875199800317,1.0,1.0,0.11999859199774718,1.0,0.20999873599797758,0.009898415837465339,1.0,1.0,1.0,1.0,0.08599853759766016,1.0,1.0,1.0,0.17999868799790078,1.0,1.0,1.0,1.0,1.0,0.14999863999782398,1.0,0.019998431997491198,1.0,1.0,1.0,1.0,1.0,1.0,0.007298411677458683,0.00013840022144035428,0.06699850719761152,1.0,1.0,1.0,1.0,0.11999859199774718,1.0,1.0,1.0,1.0,1.0,1.0,0.006498410397456635,1.0,1.0,1.0,1.0,1.0,0.0083984134374615,1.0,1.0,0.005598408957454332,1.0,1.0,1.0,1.0,0.2599988159981056,1.0,1.0,0.0004084006534410455,1.0,0.2599988159981056,1.0,1.0,1.0,1.0,0.1399986239977984,1.0,1.0,1.0,1.0,1.0,0.28999886399818237,1.0,1.0,0.07399851839762944,1.0,0.03599845759753215,1.0,1.0,1.0,1.0,1.0,1.0,1.0,1.0,1.0,1.0,1.0,0.007098411357458171,1.0,1.0,1.0,1.0,1.0,0.45999913599861764,0.05799849279758848,0.24999879999807997,1.0,0.040998465597544956,0.009698415517464826,1.0,1.0,1.0,1.0,0.0001284002054403287,1.0,0.032998452797524475,1.0,1.0,1.0,1.0,1.0,1.0,0.03599845759753215,0.14999863999782398,1.0,0.011998419197470715,1.0,1.0,1.0,0.07399851839762944,0.032998452797524475,0.0699985119976192,1.0,1.0,1.0,1.0,0.0001484002374403799,1.0,0.009498415197464315,1.0,1.0,1.0,0.05399848639757824,1.0,1.0,1.0,0.028998446397514234,1.0,1.0,1.0,1.0,1.0,0.09799855679769087,1.0,1.0,0.05699849119758592,1.0,0.08999854399767039,1.0,1.0,1.0,0.09399855039768064,1.0,1.0,1.0,1.0,1.0,0.36999899199838715,1.0,1.0,0.11999859199774718,1.0,1.0,1.0,0.0799985279976448,1.0,1.0,1.0,1.0,1.0,0.4299990879985408,1.0,0.022998436797498877,1.0,1.0,0.29999887999820796,1.0,1.0,0.013998422397475837,1.0,1.0,1.0,1.0,1.0,0.014998423997478397,0.23999878399805438,1.0,0.0056984091174545875,1.0,1.0,1.0,1.0,0.012998420797473277,0.00959841535746457,2.740004384007014e-05,1.0,1.0,1.0,1.0,0.1299986079977728,1.0,1.0,0.009998415997465595,1.0,1.0,1.0,1.0,0.11999859199774718,1.0,0.011998419197470715,0.023998438397501435,1.0,1.0,1.0,0.5199992319987712,0.0009984015974425558,0.0699985119976192,1.0,0.010998417597468155,1.0,0.0001984003174405079,1.0,1.0,6.740010784017254e-05,1.0,1.0,0.002698404317446908,3.34000534400855e-05,1.0,1.0,0.36999899199838715,1.0,0.5599992959988737,1.0,1.0,1.0,1.0,1.0,1.0,1.0,0.0006084009734415574,0.04899847839756543,1.0,1.0,1.0,1.0,1.0,1.0,0.4399991039985664,1.0,1.0,0.026998443197509114,1.0,1.0,1.0,1.0,1.0,1.0,1.0,1.0,0.1399986239977984,1.0,1.0,1.0,1.0,1.0,1.0,1.0,1.0,1.0,1.0,0.001698402717444348,1.0,1.0,1.0,1.0,1.0,0.003798406077449724,1.0,0.24999879999807997,1.0,1.0,1.0,1.0,0.013998422397475837,0.1699986719978752,1.0,1.0,1.0,1.0,1.0,0.6099993759990016,1.0,0.099998559997696,1.0,1.0,1.0,1.0,1.0,4.34000694401111e-05,1.0,0.004798407677452284,0.15999865599784957,0.04899847839756543,1.0,0.10999857599772159,1.0,1.0,0.34999895999833597,1.0,1.0,0.00239840383744614,1.0,1.0,1.0,1.0,0.4899991839986944,0.017998428797486078,0.00010840017344027751,1.0,0.023998438397501435,1.0,1.0,1.0,1.0,1.0,0.09799855679769087,7.740012384019814e-05,1.0,1.0,0.08799854079766528,1.0,1.0,1.0,1.0,1.0,0.03199845119752191,0.6799994879991809,0.10999857599772159,1.0,1.0,1.0,6.640010624016998e-05,1.0,0.3199989119982592,0.0015984025574440918,1.0,1.0,1.0,1.0,0.04999847999756799,1.0,0.1299986079977728,0.007398411837458939,1.0,1.0,1.0,0.020998433597493756,1.0,1.0,1.0,1.0,0.24999879999807997,1.0,1.0,1.0,1.0,1.0,1.0,1.0,1.0,1.0,0.03899846239753983,1.0,0.49999919999872,0.002998404797447676,1.0,0.009698415517464826,1.0,1.0,0.5299992479987968,1.0,0.2799988479981568,1.0,1.0,0.7499995999993601,1.0,1.0,1.0,0.028998446397514234,0.022998436797498877,1.0,1.0,0.08599853759766016,1.0,1.0,1.0,1.0,1.0,1.0,1.0,1.0,1.0,1.0,1.0,1.0,0.5799993279989248,1.0,1.0,1.0,1.0,1.0,1.0,0.0699985119976192,1.0,0.0007684012294419671,1.0,1.0,1.0,0.07099851359762176,1.0,1.0,1.0,1.0,1.0,1.0,0.099998559997696,0.3199989119982592,1.0,0.06899851039761663,1.0,1.0,0.055998489597583356,0.17999868799790078,1.0,1.0,1.0,1.0,1.0,1.0,1.0,1.0,0.23999878399805438,1.0,0.3199989119982592,0.1399986239977984,1.0,0.000918401469442351,1.0,1.0,1.0,1.0,1.0,1.0,1.0,1.0,1.0,1.0,0.17999868799790078,1.0,0.054998487997580794,1.0,0.21999875199800317,1.0,0.15999865599784957,1.0,1.7400027840044543e-05,0.6299994079990529,1.0,1.0,0.2599988159981056,1.0,1.0,1.0,0.07299851679762688,1.0,1.0,1.0,0.04199846719754751,1.0,1.0,0.03399845439752703,1.0,1.0,0.15999865599784957,1.0,1.0,1.0,0.06599850559760896,1.0,0.5399992639988224,1.0,1.0,1.0,0.05699849119758592,1.0,1.0,0.011998419197470715,1.0,1.0,1.0,1.0,1.0,1.0,1.0,1.0,1.0,1.0,1.0,1.0,1.0,0.2599988159981056,1.0,0.08099852959764736,1.0,0.04999847999756799,0.012998420797473277,1.0,1.0,0.002298403677445884,1.0,1.0,1.0,1.0,0.019998431997491198,0.001698402717444348,0.06399850239760384,0.002698404317446908,1.0,1.0,1.0,1.0,1.0,1.0,0.1699986719978752,1.0,0.009898415837465339,2.240003584005734e-05,1.0,0.005598408957454332,0.099998559997696,1.0,1.0,1.0,1.0,0.07199851519762432,1.0,1.0,1.0,0.004098406557450492,1.0,0.012998420797473277,0.009298414877463803,0.1399986239977984,1.0,1.0,1.0,0.1299986079977728,1.0,1.0,0.2699988319981312,1.0,0.013998422397475837,1.0,1.0,1.0,0.17999868799790078,1.0,1.0,1.0,0.2799988479981568,0.18999870399792637,1.0,0.04599847359755775,1.0,1.0,1.0,1.0,1.0,0.022998436797498877,1.0,1.0,1.0,0.00859841375746201,1.0,1.0,1.0,1.0,0.03899846239753983,0.05299848479757568,1.0,1.0,1.0,1.0,0.1699986719978752,0.29999887999820796,1.0,0.4299990879985408,0.010998417597468155,1.0,0.04999847999756799,1.0,1.0,1.0,0.028998446397514234,1.0,0.005998409597455356,1.0,1.0,1.0,1.0,0.1299986079977728,1.0,1.0,1.0,0.021998435197496315,1.0,1.0,0.2599988159981056,1.0,1.0,1.0,1.0,1.0,0.00189840303744486,0.06599850559760896,1.0,1.0,0.07099851359762176,1.0,1.0,0.012998420797473277,1.0,1.0,1.0,1.0,1.0,0.5599992959988737,0.10999857599772159,1.0,1.0,1.0,1.0,1.0,0.14999863999782398,1.0,1.0,0.0001484002374403799,1.0,1.0,1.0,1.0,1.0,1.0,1.0,1.0,1.0,1.0,0.001998403197445116,1.0,1.0,1.0,9.040014464023142e-05,1.0,0.012998420797473277,1.0,1.0,1.0,1.0,0.10999857599772159,1.0,0.17999868799790078,1.0,0.199998719997952,1.0,1.0,1.0,0.18999870399792637,5.040008064012902e-05,1.0,1.0,0.011998419197470715,1.0,1.0,1.0,1.0,0.17999868799790078,0.0001284002054403287,1.0,1.0,1.0,1.0,1.0,0.2599988159981056,1.0,1.0,1.0,0.5399992639988224,0.4699991519986432,1.0,1.0,1.0,1.0,1.0,1.0,1.0,0.28999886399818237,0.0649985039976064,1.0,1.0,1.0,1.0,1.0,1.0,0.17999868799790078,1.0,1.0,1.0,1.0,0.0003184005094408151,1.0,0.099998559997696,0.08199853119764992,0.36999899199838715,0.199998719997952,1.0,1.0,0.021998435197496315,1.0,1.0,1.0,0.5699993119988992,1.0,1.0,1.0,1.0,1.0,1.0,1.0,1.0,1.0,1.0,1.0,1.0,1.0,1.0,1.0,1.0,0.6199993919990272,0.5299992479987968,1.0,1.0,1.0,1.0,1.0,1.0,1.0,1.0,1.0,1.0,1.0,1.0,1.0,0.24999879999807997,0.14999863999782398,1.0,1.0,1.0,0.00010840017344027751,1.0,1.0,1.0,1.0,1.0,1.0,1.0,1.0,1.0,0.2699988319981312,0.8699997919996671,1.0,0.015998425597480957,1.0,1.0,1.0,1.0,1.0,1.0,0.002298403677445884,1.0,1.0,0.4699991519986432,0.20999873599797758,1.0,1.0,1.0,0.0002184003494405591,0.34999895999833597,0.002998404797447676,1.0,1.0,0.34999895999833597,0.005298408477453564,0.009298414877463803,1.0,0.11999859199774718,1.0,0.3199989119982592,1.0,0.6299994079990529,1.0,1.0,1.0,1.0,1.0,1.0,1.0,1.0,1.0,1.0,0.032998452797524475,1.0,0.4799991679986688,0.008098412957460732,1.0,1.0,1.0,0.0006184009894415831,1.0,1.0,1.0,1.0,0.058998494397591035,0.549999279998848,0.0849985359976576,0.022998436797498877,0.1299986079977728,1.0,1.0,1.0,1.0,1.0,0.35999897599836156,1.0,1.0,1.0,0.006298410077456124,1.0,0.5099992159987456,1.0,0.014998423997478397,0.1299986079977728,1.0,0.001198401917443068,0.6399994239990784,1.0,0.0001784002854404567,0.0006584010534416854,1.0,0.0002884004614407383,0.012998420797473277,1.0,1.0,0.099998559997696,0.18999870399792637,1.0,1.0,1.0,1.0,1.0,1.0,1.0,1.0,1.0,1.0,0.199998719997952,1.0,0.07299851679762688,1.0,1.0,1.0,0.00289840463744742,0.09299854879767808,1.0,1.0,1.0,1.0,1.0,1.0,1.0,1.0,1.0,1.0,1.0,1.0,1.0,0.007898412637460219,0.06399850239760384,1.0,0.00038840062144099427,1.0,1.0,1.0,1.0,1.0,1.0,1.0,0.0003384005414408663,0.3199989119982592,0.1299986079977728,0.05299848479757568,0.004498407197451516,0.4099990559984896,1.0,1.0,1.0,1.0,0.07699852319763711,1.0,1.0,1.0,0.07399851839762944,0.08199853119764992,1.0,0.3299989279982848,0.14999863999782398,1.0,0.006298410077456124,0.28999886399818237,1.0,0.15999865599784957,1.0,0.09399855039768064,1.0,1.0,1.0,1.0,0.36999899199838715,1.0,1.0,0.000818401309442095,1.0,1.0,0.012998420797473277,1.0,0.001998403197445116,1.0,0.013998422397475837,1.0,1.0,1.0,1.0,0.08799854079766528,1.0,1.0,1.0,1.0,1.0,0.017998428797486078,1.0,1.0,1.0,0.001198401917443068,1.0,1.0,1.0,1.0,1.0,0.29999887999820796,0.024998439997503997,1.0,1.0,0.08599853759766016,1.0,0.00439840703745126,0.011998419197470715,1.0,1.0,1.0,1.0,1.0,1.0,1.0,1.0,1.0,1.0,1.0,1.0,1.0,1.0,1.0,1.0,0.15999865599784957,0.5599992959988737,1.0,1.0,0.29999887999820796,0.18999870399792637,1.0,1.0,1.0,1.0,1.0,1.0,0.0002984004774407639,1.0,1.0,1.0,0.5299992479987968,1.0,1.0,1.0,1.0,1.0,1.0,0.018998430397488636,0.6099993759990016,1.0,1.0,1.0,1.0,0.021998435197496315,1.0,1.0,1.0,1.0,0.11999859199774718,1.0,1.0,1.0,1.0,1.0,1.0,0.5899993439989504,1.0,1.0,1.0,0.4199990719985152,1.0,0.003598405757449212,1.0,0.09799855679769087,1.0,1.0,0.649999439999104,1.0,1.0,0.4199990719985152,1.0,1.0,0.7699996319994112,0.015998425597480957,1.0,1.0,1.0,1.0,0.058998494397591035,0.0005784009254414807,1.0,1.0,1.0,1.0,1.0,1.0,1.0,1.0,1.0,1.0,1.0,1.0,0.001498402397443836,1.0,1.0,0.001498402397443836,1.0,1.0,1.0,1.0,1.0,1.0,0.0004884007814412503,1.0,0.020998433597493756,1.0,1.0,1.0,0.34999895999833597,0.0012984020774433238,1.0,0.029998447997516792,1.0,1.0,1.0,0.011998419197470715,1.0,1.0,1.0,0.08399853439765503,0.026998443197509114,0.0001784002854404567,1.0,1.0,1.0,1.0,1.0,1.0,1.0,1.0,0.8299997279995648,1.0,1.0,1.0,0.08099852959764736,1.0,0.18999870399792637,1.0,0.399999039998464,1.0,1.0,0.003698405917449468,0.5199992319987712,0.14999863999782398,1.0,1.0,1.0,1.0,1.0,1.0,1.0,1.0,0.003298405277448444,1.0,1.0,1.0,1.0,1.0,1.0,1.0,1.0,1.0,0.4099990559984896,0.04599847359755775,1.0,0.1299986079977728,1.0,1.0,1.0,1.0,1.0,1.0,1.0,1.0,1.0,0.5399992639988224,1.0,0.009998415997465595,1.0,0.0003584005734409175,0.10999857599772159,1.0,1.0,1.0,1.0,1.0,0.11999859199774718,1.0,0.10999857599772159,0.14999863999782398,1.0,1.0,0.003098404957447932,1.0,0.002998404797447676,1.0,1.0,1.0,1.0,1.0,1.0,1.0,0.28999886399818237,0.07799852479763968,1.0,1.0,1.0,1.0,1.0,1.0,1.0,0.005298408477453564,1.0,1.0,0.002498403997446396,0.023998438397501435,1.0,1.0,0.11999859199774718,1.0,1.0,1.0,1.0,1.0,1.0,1.0,1.0,1.0,0.017998428797486078,0.004098406557450492,1.0,0.23999878399805438,1.0,1.0,1.0,1.0,0.199998719997952,1.0,1.0,0.20999873599797758,1.0,1.0,0.012998420797473277,0.04299846879755007,0.025998441597506552,1.0,0.009998415997465595,1.0,1.0,0.18999870399792637,0.010998417597468155,1.0,1.0,1.0,1.0,1.0,4.040006464010342e-05,1.0,1.0,1.0,5.240008384013414e-05,1.0,1.0,1.0,0.15999865599784957,0.03599845759753215,1.0,0.04599847359755775,1.0,1.0,0.09299854879767808,0.1299986079977728,1.0,1.0,1.0,1.0,1.0,1.0,0.06599850559760896,1.0,1.0,1.0,1.0,1.0,1.0,1.0,1.0,1.0,1.0,0.003198405117448188,0.06099849759759616,1.0,0.017998428797486078,1.0,1.0,1.0,1.0,1.0,1.0,0.0004084006534410455,1.0,1.0,1.0,1.0,0.2599988159981056,1.0,1.0,0.05699849119758592,1.0,1.0,1.0,1.0,0.18999870399792637,0.3199989119982592,1.0,1.0,1.0,0.032998452797524475,1.0,1.0,1.0,1.0,1.0,1.0,0.003098404957447932,1.0,1.0,1.0,0.025998441597506552,0.24999879999807997,1.0,1.0,1.0,0.001998403197445116,1.0,1.0,1.0,1.0,1.0,1.0,1.0,0.849999759999616,1.0,1.0,1.0,1.0,0.08199853119764992,1.0,1.0,0.2299987679980288,1.0,1.0,1.0,0.010998417597468155,0.003098404957447932,0.0009884015814425303,1.0,1.0,1.0,1.0,0.8699997919996671,1.0,1.0,1.0,0.036998459197534715,0.010998417597468155,1.0,1.0,0.00045840073344117344,1.0,1.0,1.0,1.0,1.0,1.0,0.023998438397501435,1.0,0.014998423997478397,1.0,1.0,1.0,1.0,0.03799846079753727,1.0,0.012998420797473277,1.0,1.0,1.0,1.0,1.0,1.0,0.003998406397450236,1.0,1.0,1.0,1.0,1.0,1.0,1.0,1.0,0.03599845759753215,1.0,1.0,1.0,1.0,1.0,0.7899996639994624,1.0,1.0,1.0,0.006098409757455612,0.055998489597583356,1.0,1.0,1.0,1.0,8.34001334402135e-05,1.0,1.0,0.06399850239760384,0.029998447997516792,1.0,0.099998559997696,1.0,0.007798412477459963,1.0,1.0,1.0,0.09299854879767808,1.0,1.0,1.0,0.026998443197509114,1.0,0.28999886399818237,1.0,0.21999875199800317,1.0,1.0,1.0,1.0,1.0,0.00489840783745254,1.0,1.0,1.0,1.0,0.17999868799790078,1.0,0.004098406557450492,1.0,1.0,1.0,1.0,0.06899851039761663,0.21999875199800317,0.027998444797511672,1.0,1.0,1.0,1.0,1.0,1.0,1.0,1.0,0.04199846719754751,1.0,0.012998420797473277,1.0,1.0,1.0,1.0,1.0,1.0,1.0,1.0,0.010998417597468155,1.0,1.0,0.4899991839986944,0.015998425597480957,1.0,1.0,0.9699999519999232,1.0,1.0,0.3099988959982336,0.015998425597480957,0.0017984028774446041,1.0,0.008098412957460732,1.0,1.0,1.0,1.0,1.0,0.4299990879985408,1.0,1.0,1.0,0.3099988959982336,1.0,1.0,0.2299987679980288,1.0,1.0,1.0,1.0,0.030998449597519354,1.0,1.0,1.0,0.007998412797460474,1.0,1.0,1.0,1.0,1.0,1.0,1.0,1.0,0.0034984055974489558,1.0,1.0,1.0,0.0006084009734415574,1.0,0.03799846079753727,1.0,1.0,1.0,1.0,1.0,1.0,1.0,1.0,1.0,1.0,1.0,0.00039840063744101987,1.0,0.07799852479763968,1.0,1.0,0.14999863999782398,1.0,1.0,1.0,0.3099988959982336,1.0,0.0699985119976192,1.0,1.0,1.0,1.0,1.0,0.08099852959764736,1.0,1.0,1.0,1.0,1.0,1.0,1.0,0.5399992639988224,1.0,1.0,0.00489840783745254,1.0,1.0,1.0,1.0,1.0,0.1299986079977728,0.03899846239753983,0.20999873599797758,0.6699994719991552,1.0,1.0,1.0,1.0,1.0,1.0,1.0,1.0,1.0,1.0,1.0,1.0,1.0,1.0,1.0,1.0,1.0,1.0,1.0,1.0,0.007198411517458427,1.0,1.0,1.0,1.0,0.002298403677445884,1.0,1.0,1.0,0.49999919999872,1.0,0.14999863999782398,1.0,1.0,1.0,0.199998719997952,1.0,1.0,1.0,1.0,1.0,1.0,1.0,1.0,1.0,1.0,1.0,1.0,0.0005084008134413014,1.0,1.0,1.0,1.0,0.004498407197451516,1.0,0.3099988959982336,1.0,1.0,0.17999868799790078,1.0,1.0,1.0,1.0,1.0,1.0,1.0,1.0,1.0,1.0,1.0,0.03599845759753215,0.010998417597468155,0.23999878399805438,1.0,1.0,1.0,1.0,0.020998433597493756,1.0,0.2799988479981568,0.0058984094374551,1.0,0.004198406717450748,1.0,0.005598408957454332,1.0,1.0,0.05299848479757568,1.0,0.008998414397463034,1.0,0.3899990239984384,1.0,1.0,0.24999879999807997,0.4799991679986688,1.0,0.3299989279982848,1.0,1.0,1.0,1.0,1.0,0.44999911999859205,1.0,0.18999870399792637,1.0,1.0,0.5699993119988992,1.0,0.44999911999859205,1.0,1.0,1.0,0.0699985119976192,1.0,1.0,1.0,1.0,1.0,1.0,1.0,1.0,1.0,0.00189840303744486,0.007698412317459707,0.0012984020774433238,1.0,1.0,1.0,1.0,1.0,0.36999899199838715,0.49999919999872,1.0,1.0,1.0,1.0,0.10999857599772159,0.027998444797511672,1.0,0.010998417597468155,0.04899847839756543,1.0,0.005198408317453308,1.0,0.1299986079977728,1.0,1.0,1.0,1.0,1.0,1.0,0.028998446397514234,1.0,0.15999865599784957,0.011998419197470715,1.0,0.06399850239760384,1.0,1.0,1.0,0.05399848639757824,1.0,1.0,1.0,1.0,1.0,1.0,1.0,1.0,0.004798407677452284,0.058998494397591035,0.3799990079984128,0.1299986079977728,1.0,1.0,1.0,1.0,0.001698402717444348,1.0,1.0,1.0,0.44999911999859205,1.0,0.005298408477453564,0.21999875199800317,1.0,0.004798407677452284,1.0,1.0,0.043998470397552635,0.013998422397475837,1.0,0.013998422397475837,1.0,1.0,1.0,1.0,1.0,1.0,1.0,1.0,0.032998452797524475,1.0,1.0,1.0,0.17999868799790078,0.1399986239977984,1.0,1.0,1.0,1.0,0.013998422397475837,0.3899990239984384,1.0,1.0,1.0,0.399999039998464,1.0,1.0,1.0,1.0,0.7299995679993088,1.0,1.0,0.5799993279989248,0.051998483197573116,1.0,1.0,1.0,1.0,1.0,1.0,0.4099990559984896,1.0,1.0,1.0,1.0,0.14999863999782398,0.10999857599772159,1.0,1.0,0.06099849759759616,1.0,1.0,0.399999039998464,1.0,1.0,0.11999859199774718,0.040998465597544956,0.2599988159981056,1.0,0.012998420797473277,1.0,0.04999847999756799,1.0,1.0,0.012998420797473277,0.17999868799790078,1.0,1.0,1.0,0.28999886399818237,1.0,1.0,6.140009824015718e-05,0.1699986719978752,0.0001284002054403287,1.0,0.00389840623744998,0.08899854239766784,0.0005584008934414295,1.0,0.07199851519762432,0.014998423997478397,1.0,1.0,0.6099993759990016,1.0,0.043998470397552635,1.0,1.0,1.0,1.0,1.0,1.0,1.0,0.009798415677465084,1.0,0.005198408317453308,1.0,1.0,0.012998420797473277,1.0,0.45999913599861764,1.0,1.0,1.0,1.0,1.0,1.0,1.0,0.0799985279976448,0.799999679999488,0.0849985359976576,0.05799849279758848,0.006998411197457915,0.006998411197457915,0.020998433597493756,1.0,1.0,1.0,0.36999899199838715,1.0,1.0,1.0,0.0001984003174405079,1.0,1.0,1.0,1.0,1.0,0.18999870399792637,1.0,1.0,0.07299851679762688,1.0,1.0,1.0,1.0,0.013998422397475837,1.0,0.024998439997503997,0.008798414077462523,1.0,1.0,1.0,0.06299850079760128,0.0006284010054416086,1.0,1.0,1.0,1.0,1.0,1.0,0.0949985519976832,0.001998403197445116,1.0,1.0,1.0,1.0,0.3199989119982592,0.09699855519768831,1.0,1.0,1.0,0.6199993919990272,2.300003680005888e-06,0.050998481597570554,1.0,0.016998427197483516,1.0,0.2299987679980288,1.0,1.0,1.0,1.0,0.4299990879985408,1.0,1.0,1.0,1.0,1.0,1.0,1.0,1.0,0.009998415997465595,1.0,0.0004684007494411991,1.0,0.07399851839762944,1.0,0.09599855359768576,0.3299989279982848,0.1699986719978752,0.2699988319981312,0.7599996159993856,1.0,0.3299989279982848,1.0,0.06399850239760384,0.0083984134374615,1.0,0.001198401917443068,1.0,1.0,1.0,1.0,1.0,0.29999887999820796,0.8199997119995392,1.0,1.0,0.029998447997516792,1.0,1.0,1.0,1.0,0.1399986239977984,1.0,0.3299989279982848,1.0,1.0,0.03199845119752191,0.3399989439983104,1.0,1.0,0.07199851519762432,0.10999857599772159,1.0,5.3400085440136706e-05,0.20999873599797758,1.0,1.0,1.0,1.0,0.35999897599836156,0.7499995999993601,1.0,1.0,1.0,1.0,1.0,0.012998420797473277,1.0,1.0,1.0,1.0,1.0,1.0,1.0,1.0,1.0,1.0,1.0,1.0,1.0,1.0,0.008298413277461242,1.0,1.0,1.0,0.016998427197483516,0.001198401917443068,1.0,1.0,0.17999868799790078,0.399999039998464,1.0,0.002598404157446652,0.35999897599836156,1.0,1.0,1.0,1.0,0.2299987679980288,1.0,1.0,1.0,1.0,1.0,1.0,1.0,1.0,0.03799846079753727,1.0,1.0,0.5299992479987968,1.0,1.0,1.0,1.0,1.0,1.0,1.0,1.0,1.0,1.0,1.0,0.007198411517458427,1.0,1.0,1.0,1.0,1.0,1.0,1.0,1.0,0.07199851519762432,1.0,1.0,0.2299987679980288,1.0,1.0,0.11999859199774718,1.0,1.0,0.3799990079984128,0.003298405277448444,1.0,1.0,0.2699988319981312,1.0,1.0,0.2699988319981312,1.0,1.0,0.03599845759753215,1.0,0.007198411517458427,1.0,0.018998430397488636,1.0,0.11999859199774718,0.001198401917443068,1.0,1.0,1.0,1.0,0.28999886399818237,0.21999875199800317,0.00289840463744742,1.0,1.0,1.0,1.0,1.0,1.0,0.11999859199774718,1.0,0.007998412797460474,1.0,0.0009084014534423254,0.008898414237462779,1.0,1.0,1.0,0.08699853919766272,0.020998433597493756,0.6899995039992064,1.0,1.0,1.0,1.0,1.0,0.022998436797498877,1.0,1.0,1.0,0.3199989119982592,1.0,1.0,1.0,0.3099988959982336,0.5199992319987712,1.0,0.11999859199774718,1.0,0.21999875199800317,1.0,1.0,1.0,0.003198405117448188,1.0,1.0,1.0,1.0,0.032998452797524475,1.0,1.0,1.0,0.3099988959982336,1.0,1.0,0.001198401917443068,1.0,1.0,1.0,1.0,1.0,1.0,1.0,1.0,1.0,1.0,1.0,0.11999859199774718,1.0,0.11999859199774718,1.0,1.0,1.0,1.0,1.0,1.0,1.0,1.0,0.0006184009894415831,1.0,0.1299986079977728,1.0,1.0,0.00389840623744998,1.0,1.0,1.0,1.0,0.04599847359755775,1.0,0.051998483197573116,1.0,0.1299986079977728,1.0,0.06399850239760384,1.0,1.0,1.0,1.0,0.2699988319981312,0.001498402397443836,1.0,0.2299987679980288,1.0,0.4199990719985152,1.0,1.0,1.0,1.0,1.0,1.0,1.0,1.0,1.0,1.0,1.0,1.0,1.0,0.009998415997465595,0.649999439999104,1.0,1.0,0.03499845599752959,0.10999857599772159,0.5799993279989248,1.0,1.0,1.0,1.0,1.0,1.0,1.0,1.0,1.0,0.0005284008454413527,0.3299989279982848,1.0,1.0,1.0,1.0,1.0,1.0,1.0,1.0,0.15999865599784957,1.0,1.0,1.0,1.0,0.006298410077456124,1.0,1.0,1.0,0.04899847839756543,1.0,1.0,0.06299850079760128,1.0,1.0,1.0,1.0,0.20999873599797758,1.0,1.0,1.0,1.0,1.0,0.6299994079990529,1.0,1.0,1.0,1.0,0.015998425597480957,1.0,1.0,0.0699985119976192,1.0,0.07399851839762944,1.0,1.0,1.0,1.0,0.0004884007814412503,1.0,1.0,0.012998420797473277,1.0,1.0,1.0,1.0,1.0,1.0,0.006498410397456635,1.0,1.0,0.029998447997516792,1.0,0.007298411677458683,0.10999857599772159,1.0,1.0,1.0,1.0,1.0,1.0,1.0,1.0,1.0,1.0,0.3099988959982336,1.0,1.0,1.0,1.0,1.0,0.007598412157459451,1.0,0.2299987679980288,0.4299990879985408,1.0,0.00439840703745126,1.0,1.0,1.0,1.0,1.0,1.0,1.0,0.3099988959982336,0.36999899199838715,1.0,0.199998719997952,0.011998419197470715,1.0,0.24999879999807997,0.1699986719978752,0.1399986239977984,1.0,1.0,1.0,1.0,0.001098401757442812,1.0,0.011998419197470715,1.0,1.0,1.0,1.0,0.05399848639757824,1.0,0.08199853119764992,1.0,1.0,1.0,1.0,1.0,0.5299992479987968,1.0,1.0,0.08599853759766016,1.0,1.0,1.0,1.0,0.0033984054374487,1.0,1.0,1.0,4.84000774401239e-05,0.10999857599772159,0.10999857599772159,1.0,1.0,1.0,0.009998415997465595,0.199998719997952,1.0,1.0,0.023998438397501435,1.0,1.0,1.0,1.0,1.0,0.043998470397552635,1.0,0.002698404317446908,0.1399986239977984,1.0,1.0,1.0,1.0,1.0,1.0,0.024998439997503997,1.0,1.0,1.0,1.0,0.001098401757442812,0.5899993439989504,1.0,1.0,1.0,1.0,1.0,1.0,0.4199990719985152,0.013998422397475837,1.0,0.020998433597493756,1.0,0.24999879999807997,1.0,1.0,1.0,1.0,0.0599984959975936,0.10999857599772159,1.0,1.0,0.03499845599752959,0.058998494397591035,0.0599984959975936,1.0,1.0,1.0,1.0,1.0,1.0,1.0,1.0,1.0,1.0,1.0,1.0,0.07499851999763199,2.84000454400727e-05,1.0,1.0,1.0,1.0,1.0,1.0,1.0,0.7099995359992576,1.0,1.0,1.0,0.0009984015974425558,0.002698404317446908,1.0,1.0,1.0,1.0,1.0,0.20999873599797758,1.0,1.0,1.0,1.0,0.199998719997952,0.022998436797498877,0.030998449597519354,1.0,0.4299990879985408,1.0,0.17999868799790078,1.0,1.0,0.35999897599836156,0.2599988159981056,1.0,1.0,1.0,1.0,0.11999859199774718,1.0,1.0,0.07299851679762688,1.0,0.043998470397552635,1.0,1.0,0.032998452797524475,1.0,0.00239840383744614,0.09899855839769343,0.3899990239984384,1.0,0.4099990559984896,1.0,1.0,0.2599988159981056,1.0,1.0,1.0,1.0,1.0,1.0,0.6199993919990272,0.002198403517445628,1.0,1.0,0.04299846879755007,1.0,1.0,1.0,0.026998443197509114,1.0,0.04899847839756543,0.04599847359755775,1.0,1.0,1.0,1.0,1.0,1.0,0.0005484008774414039,1.0,1.0,0.21999875199800317,0.0012984020774433238,1.0,0.17999868799790078,0.00043840070144112234,1.0,1.0,1.0,1.0,1.0,1.0,0.4399991039985664,1.0,1.0,0.0007084011334418135,1.0,1.0,1.0,0.0034984055974489558,1.0,0.021998435197496315,1.0,1.0,1.0,1.0,1.0,1.0,1.0,0.0005784009254414807,1.0,1.0,0.0007184011494418391,1.0,1.0,1.0,0.2299987679980288,1.0,0.21999875199800317,1.0,1.0,0.3199989119982592,1.0,1.0,1.0,1.0,1.0,0.04699847519756031,0.06299850079760128,1.0,0.04999847999756799,1.0,1.0,1.0,1.0,0.6799994879991809,1.0,0.00025840041344066153,0.0009584015334424534,5.900009440015103e-06,0.0007184011494418391,1.0,1.0,1.0,1.0,1.0,1.0,0.005498408797454076,1.0,1.0,1.0,1.0,1.0,0.20999873599797758,1.0,1.0,1.0,1.0,1.0,1.0,1.0,1.0,1.0,0.0008284013254421207,1.0,1.0,1.0,0.020998433597493756,1.0,0.002998404797447676,1.0,0.009698415517464826,0.047998476797562875,1.0,1.0,0.010998417597468155,0.008698413917462268,1.0,0.0002084003334405335,0.03899846239753983,1.0,1.0,0.002498403997446396,0.002998404797447676,1.0,1.0,1.0,1.0,0.5099992159987456,1.0,1.0,0.003598405757449212,1.0,1.0,1.0,0.010998417597468155,1.0,1.0,0.08799854079766528,1.0,1.0,0.35999897599836156,0.010998417597468155,1.0,0.14999863999782398,1.0,1.0,1.0,1.0,1.0,1.0,1.0,1.0,1.0,1.0,1.0,1.0,1.0,1.0,1.0,0.039998463997542394,1.0,1.0,1.0,1.0,1.0,0.03399845439752703,1.0,1.0,1.0,0.399999039998464,1.0,0.1299986079977728,1.0,1.0,0.0649985039976064,1.0,1.0,0.008798414077462523,1.0,1.0,1.0,1.0,1.0,0.10999857599772159,1.0,1.0,0.017998428797486078,0.027998444797511672,1.0,1.0,1.0,1.0,1.0,1.0,1.0,1.0,1.0,1.0,1.0,0.00037840060544096866,1.0,1.0,1.0,1.0,1.0,1.0,1.0,1.0,1.0,1.0,1.0,1.0,1.0,1.0,1.0,1.0,1.0,0.1299986079977728,0.008798414077462523,1.0,0.0849985359976576,1.0,1.0,0.8399997439995904,0.013998422397475837,1.0,1.0,1.0,1.0,0.002998404797447676,1.0,1.0,1.0,1.0,1.0,1.0,1.0,0.1699986719978752,1.0,1.0,1.0,0.599999359998976,0.015998425597480957,0.35999897599836156,1.0,1.0,0.2299987679980288,0.5799993279989248,1.0,0.3199989119982592,1.0,0.5599992959988737,1.0,1.0,1.0,1.0,1.0,1.0,1.0,1.0,0.18999870399792637,1.0,0.899999839999744,1.0,0.0003084004934407895,0.014998423997478397,1.0,1.0,0.0006984011174417879,1.0,1.0,1.0,0.058998494397591035,1.0,0.010998417597468155,0.28999886399818237,1.0,1.0,1.0,1.0,1.0,0.10999857599772159,1.0,0.016998427197483516,1.0,1.0,0.03799846079753727,0.20999873599797758,1.0,0.099998559997696,1.0,0.009298414877463803,1.0,0.2799988479981568,0.0002184003494405591,0.17999868799790078,0.1699986719978752,1.0,1.0,1.0,0.6799994879991809,1.0,1.0,1.0,1.0,1.0,0.032998452797524475,0.21999875199800317,1.0,1.0,1.0,1.0,0.5399992639988224,1.0,1.0,1.0,0.07899852639764224,1.0,1.0,1.0,0.04499847199755519,1.0,1.0,1.0,1.0,1.0,0.00189840303744486,0.039998463997542394,1.0,1.0,1.0,1.0,1.0,1.0,1.0,1.0,0.08399853439765503,0.004298406877451004,0.047998476797562875,0.027998444797511672,0.016998427197483516,0.9099998559997696,1.0,1.0,1.0,0.016998427197483516,1.0,0.3399989439983104,1.0,0.055998489597583356,1.0,0.20999873599797758,1.0,1.0,0.040998465597544956,1.0,1.0,1.0,1.0,1.0,1.0,0.029998447997516792,1.0,1.0,1.0,1.0,0.4099990559984896,1.0,1.0,1.0,1.0,1.0,9.540015264024422e-05,0.003998406397450236,0.14999863999782398,1.0,1.0,0.024998439997503997,0.04599847359755775,0.9599999359998976,1.0,0.001198401917443068,1.0,1.0,0.001698402717444348,1.0,0.1699986719978752,1.0,1.0,1.0,0.013998422397475837,1.0,1.0,1.0,1.0,1.0,1.0,1.0,1.0,1.0,1.0,1.0,1.0,1.0,1.0,1.0,0.24999879999807997,1.0,1.0,1.0,0.04699847519756031,0.013998422397475837,0.21999875199800317,1.0,1.0,1.0,1.0,1.0,1.0,1.0,1.0,1.0,0.3899990239984384,1.0,0.032998452797524475,1.0,1.0,1.0,0.0001284002054403287,0.24999879999807997,1.0,1.0,0.2599988159981056,1.0,1.0,1.0,1.0,1.0,1.0,1.0,1.0,1.0,1.0,0.010998417597468155,1.0,1.0,1.0,0.6099993759990016,0.005998409597455356,1.0,1.0,1.0,0.24999879999807997,1.0,0.4899991839986944,1.0,1.0,1.0,0.0068984110374576595,1.0,1.0,1.0,0.20999873599797758,1.0,1.0,0.06199849919759872,1.0,1.0,0.024998439997503997,1.0,0.007398411837458939,0.036998459197534715,1.0,0.1399986239977984,0.04599847359755775,1.0,1.0,1.0,0.051998483197573116,1.0,1.0,0.021998435197496315,1.0,0.9199998719997952,1.0,1.0,1.0,1.0,0.002698404317446908,1.0,1.0,1.0,1.0,1.0,1.0,1.0,0.007298411677458683,1.0,1.0,1.0,1.0,1.0,0.14999863999782398,1.0,0.49999919999872,1.0,1.0,1.0,1.0,1.0,1.0,1.0,1.0,0.0006984011174417879,0.10999857599772159,1.0,1.0,1.0,0.09699855519768831,1.0,1.0,1.0,1.0,0.04199846719754751,1.0,1.0,1.0,1.0,0.29999887999820796,1.0,1.0,0.023998438397501435,1.0,1.0,1.0,1.0,1.0,1.0,1.0,1.0,1.0,1.0,0.009498415197464315,0.1299986079977728,1.0,1.0,1.0,1.0,1.0,1.0,1.0,1.0,0.0017984028774446041,0.023998438397501435,1.0,1.0,1.0,0.08699853919766272,1.0,1.0,1.0,1.0,1.0,0.00013840022144035428,1.0,1.0,1.0,1.0,1.0,1.0,0.003298405277448444,1.0,1.0,1.0,1.0,0.599999359998976,1.0,0.05699849119758592,0.0002384003814406103,1.0,0.055998489597583356,1.0,1.0,0.00289840463744742,0.039998463997542394,0.1299986079977728,1.0,1.0,0.11999859199774718,0.8099996959995136,1.0,0.08699853919766272,1.0,0.030998449597519354,1.0,1.0,1.0,1.0,0.17999868799790078,0.28999886399818237,1.0,1.0,1.0,1.0,0.018998430397488636,1.0,1.0,1.0,0.00010840017344027751,1.0,1.0,1.0,1.0,0.199998719997952,0.1399986239977984,1.0,0.03799846079753727,1.0,1.0,1.0,0.023998438397501435,1.0,1.0,0.4199990719985152,1.0,1.0,0.9099998559997696,1.0,1.0,1.0,1.0,1.0,1.0,0.04899847839756543,0.3799990079984128,1.0,1.0,0.20999873599797758,0.3299989279982848,0.009898415837465339,1.0,1.0,1.0,0.03599845759753215,1.0,1.0,1.0,0.012998420797473277,1.0,0.1299986079977728,1.0,1.0,1.0,0.003998406397450236,0.0002084003334405335,1.0,1.0,0.007598412157459451,1.0,1.0,1.0,0.09599855359768576,1.0,0.008498413597461755,1.0,1.0,1.0,1.0,0.025998441597506552,1.0,0.0008384013414421463,1.0,1.0,1.0,1.0,1.0,0.047998476797562875,1.0,1.0,0.001098401757442812,1.0,0.001198401917443068,1.0,1.0,1.0,1.0,0.027998444797511672,1.0,1.0,1.0,0.07199851519762432,1.0,1.0,0.028998446397514234,1.0,1.0,1.0,0.010998417597468155,1.0,0.015998425597480957,1.0,1.0,1.0,1.0,1.0,1.0,1.0,1.0,0.0005884009414415063,1.0,1.0,0.099998559997696,1.0,1.0,0.015998425597480957,1.0,1.0,1.0,1.0,0.08599853759766016,1.0,1.0,1.0,1.0,1.0,1.0,1.0,0.050998481597570554,1.0,1.0,1.0,1.0,1.0,1.0,0.15999865599784957,0.10999857599772159,0.0005184008294413271,1.0,1.0,1.0,1.0,1.0,1.0,1.0,1.0,1.0,1.0,1.0,0.006498410397456635,1.0,1.0,1.0,1.0,0.006098409757455612,0.058998494397591035,1.0,1.0,1.0,1.0,0.08699853919766272,0.05299848479757568,1.0,1.0,0.1399986239977984,0.04899847839756543,0.003198405117448188,0.5299992479987968,1.0,1.0,1.0,1.0,1.0,1.0,0.003198405117448188,1.0,1.0,1.0,0.023998438397501435,1.0,1.0,0.008998414397463034,0.5599992959988737,0.0013984022374435798,1.0,0.04199846719754751,1.0,1.0,1.0,0.21999875199800317,0.9899999839999744,1.0,1.0,1.0,1.0,1.0,1.0,0.29999887999820796,1.0,1.0,0.18999870399792637,1.0,1.0,1.0,1.0,1.0,1.0,1.0,1.0,1.0,1.0,1.0,1.0,1.0,0.1299986079977728,0.49999919999872,1.0,1.0,1.0,0.016998427197483516,1.0,1.0,1.0,0.3199989119982592,1.0,1.0,1.0,1.0,1.0,0.001498402397443836,1.0,1.0,1.0,1.0,1.0,1.0,0.34999895999833597,1.0,0.004298406877451004,1.0,1.0,1.0,0.00439840703745126,1.0,0.11999859199774718,1.0,1.0,1.0,1.0,1.0,0.15999865599784957,1.0,0.3099988959982336,1.0,1.0,1.0,1.0,1.0,1.0,1.0,1.0,1.0,1.0,1.0,1.0,0.099998559997696,0.08599853759766016,1.0,1.0,1.0,0.054998487997580794,1.0,0.002698404317446908,0.28999886399818237,1.0,1.0,1.0,1.0,1.0,0.0034984055974489558,1.0,1.0,0.1699986719978752,0.4399991039985664,1.0,1.0,1.0,1.0,0.14999863999782398,1.0,1.0,0.07499851999763199,1.0,0.022998436797498877,1.0,1.0,1.0,0.649999439999104,0.08299853279765247,1.0,1.0,1.0,1.0,0.23999878399805438,1.0,1.0,0.07799852479763968,1.0,1.0,1.0,0.8199997119995392,1.0,0.0013984022374435798,0.44999911999859205,1.0,1.0,0.10999857599772159,0.0001284002054403287,1.0,0.099998559997696,1.0,1.0,1.0,1.0,1.0,0.003298405277448444,1.0,1.0,1.0,1.0,1.0,1.0,1.0,1.0,1.0,1.0,1.0,1.0,9.34001494402391e-05,1.0,1.0,1.0,1.0,0.03799846079753727,0.007598412157459451,1.0,1.0,0.06799850879761407,0.020998433597493756,1.0,1.0,1.0,1.0,1.0,1.0,1.0,1.0,1.0,1.0,1.0,1.0,1.0,1.0,1.0,1.0,0.00939841503746406,1.0,0.001198401917443068,1.0,1.0,1.0,1.0,1.0,0.199998719997952,0.2299987679980288,0.21999875199800317,0.08999854399767039,1.0,1.0,1.0,0.15999865599784957,0.036998459197534715,1.0,1.0,1.0,1.0,0.06099849759759616,1.0,0.04499847199755519,0.2599988159981056,1.0,1.0,0.4299990879985408,1.0,1.0,0.00013840022144035428,1.0,1.0,1.0,1.0,1.0,1.0,0.003098404957447932,0.8799998079996928,1.0,0.7199995519992832,1.0,1.0,1.0,0.3099988959982336,0.006498410397456635,1.0,1.0,0.23999878399805438,1.0,1.0,1.0,1.0,1.0,1.0,1.0,1.0,1.0,1.0,1.0,1.0,1.0,1.0,1.0,1.0,1.0,1.0,1.0,1.0,1.0,1.0,1.0,0.3099988959982336,0.11999859199774718,1.0,0.0033984054374487,1.0,1.0,1.0,1.0,1.0,1.0,1.0,1.0,1.0,1.0,0.099998559997696,0.021998435197496315,1.0,1.0,1.0,1.0,0.00026840042944068713,1.0,1.0,1.0,1.0,1.0,1.0,1.0,1.0,1.0,1.0,0.099998559997696,1.0,0.05399848639757824,1.0,1.0,1.0,1.0,0.29999887999820796,1.0,0.03399845439752703,0.017998428797486078,1.0,1.0,0.11999859199774718,1.0,0.1299986079977728,1.0,1.0,1.0,0.199998719997952,1.0,1.0,1.0,1.0,1.0,0.44999911999859205,0.050998481597570554,1.0,0.016998427197483516,1.0,0.008198413117460987,1.0,0.047998476797562875,0.3099988959982336,1.0,1.0,1.0,0.17999868799790078,1.0,1.0,1.0,0.001498402397443836,0.6699994719991552,0.1299986079977728,0.04599847359755775,0.0068984110374576595,1.0,0.040998465597544956,1.0,0.0001784002854404567,1.0,0.3299989279982848,1.0,0.09399855039768064,0.1699986719978752,0.15999865599784957,1.0,1.0,1.0,1.0,1.0,1.0,1.0,1.0,1.0,1.0,1.0,1.0,1.0,1.0,1.0,0.5699993119988992,1.0,1.0,1.0,1.0,1.0,1.0,1.0,1.0,1.0,1.0,1.0,1.0,0.0599984959975936,1.0,1.0,0.3099988959982336,1.0,1.0,0.17999868799790078,1.0,0.649999439999104,1.0,0.199998719997952,0.00859841375746201,0.0015984025574440918,1.0,0.002498403997446396,0.013998422397475837,0.15999865599784957,1.0,1.0,1.0,1.0,1.0,0.14999863999782398,1.0,1.0,1.0,1.0,1.0,0.2699988319981312,0.1399986239977984,1.0,1.0,1.0,1.0,1.0,1.0,1.0,1.0,1.0,0.0001684002694404311,1.0,1.0,1.0,1.0,1.0,1.0,1.0,1.0,1.0,0.4399991039985664,1.0,1.0,0.9199998719997952,1.0,1.0,1.0,1.0,1.0,1.0,1.0,1.0,0.2799988479981568,1.0,0.11999859199774718,1.0,1.0,1.0,1.0,1.0,1.0,0.0049984079974527956,1.0,0.3899990239984384,1.0,1.0,0.0003384005414408663,1.0,0.009498415197464315,1.0,1.0,1.0,0.2599988159981056,1.0,1.0,1.0,1.0,1.0,0.4699991519986432,1.0,0.008298413277461242,0.0005984009574415319,0.008698413917462268,1.0,0.3299989279982848,1.0,1.0,1.0,1.0,0.0009984015974425558,0.013998422397475837,1.0,0.011998419197470715,0.008198413117460987,1.0,1.0,1.0,1.0,1.0,1.0,1.0,1.0,0.3799990079984128,1.0,1.0,0.199998719997952,1.0,1.0,1.0,0.849999759999616,0.043998470397552635,0.7499995999993601,1.0,0.018998430397488636,1.0,1.0,1.0,1.0,0.199998719997952,1.0,1.0,0.14999863999782398,0.24999879999807997,1.0,1.0,1.0,1.0,0.00039840063744101987,0.025998441597506552,1.0,1.0,1.0,0.20999873599797758,0.9899999839999744,1.0,1.0,1.0,1.0,1.0,1.0,1.0,1.0,1.0,1.0,1.0,1.0,0.0009984015974425558,1.0,1.0,0.11999859199774718,1.0,7.540012064019302e-05,0.002598404157446652,1.0,1.0,1.0,1.0,1.0,0.05699849119758592,1.0,1.0,1.0,1.0,1.0,1.0,1.0,1.0,1.0,1.0,1.0,1.0,0.1699986719978752,1.0,1.0,1.0,1.0,1.0,0.0012984020774433238,1.0,1.0,1.0,0.10999857599772159,1.0,0.28999886399818237,1.0,1.0,0.025998441597506552,1.0,1.0,1.0,1.0,1.0,0.2699988319981312,1.0,0.6599994559991296,1.0,0.006998411197457915,0.06899851039761663,1.0,0.030998449597519354,1.0,1.0,0.002798404477447164,1.0,0.09899855839769343,1.0,0.03199845119752191,1.0,1.0,1.0,1.0,1.0,3.34000534400855e-05,1.0,1.0,1.0,1.0,0.025998441597506552,1.0,1.0,0.45999913599861764,0.199998719997952,1.0,1.0,1.0,1.0,1.0,1.0,1.0,0.4299990879985408,1.0,1.0,1.0,1.0,1.0,3.540005664009062e-05,0.11999859199774718,1.0,0.36999899199838715,1.0,1.0,0.002798404477447164,1.0,1.0,1.0,0.10999857599772159,0.010998417597468155,1.0,0.3099988959982336,0.021998435197496315,1.0,0.04499847199755519,0.022998436797498877,0.3899990239984384,0.003198405117448188,0.2299987679980288,9.34001494402391e-05,1.0,1.0,1.0,1.0,1.0,1.0,0.1699986719978752,0.036998459197534715,1.0,0.003098404957447932,1.0,1.0,1.0,1.0,1.0,1.0,1.0,1.0,1.0,1.0,1.0,1.0,0.21999875199800317,1.0,1.0,1.0,1.0,1.0,1.0,1.0,0.45999913599861764,1.0,0.10999857599772159,1.0,0.011998419197470715,1.0,0.5599992959988737,1.0,1.0,1.0,0.3299989279982848,1.0,0.07899852639764224,1.0,0.2699988319981312,1.0,0.002098403357445372,1.0,0.3399989439983104,0.0007284011654418647,1.0,1.0,0.24999879999807997,1.0,0.011998419197470715,1.0,0.008898414237462779,1.0,1.0,1.0,0.849999759999616,0.2699988319981312,1.0,1.0,1.0,1.0,1.0,1.0,1.0,1.0,1.0,1.0,1.0,1.0,1.0,0.1699986719978752,1.0,1.0,1.0,1.0,1.0,1.0,1.0,1.0,1.0,0.004098406557450492,0.06099849759759616,1.0,1.0,1.0,1.0,1.0,1.0,1.0,1.0,1.0,1.0,1.0,1.0,0.17999868799790078,1.0,1.0,1.0,0.0002784004454407127,1.0,1.0,0.06199849919759872,1.0,1.0,0.6299994079990529,1.0,0.21999875199800317,0.0649985039976064,1.0,0.011998419197470715,1.0,1.0,1.0,0.3299989279982848,1.0,0.5899993439989504,1.0,1.0,0.06399850239760384,1.0,1.0,1.0,0.0017984028774446041,1.0,1.0,1.0,0.04599847359755775,1.0,1.0,1.0,1.0,8.040012864020582e-05,0.03499845599752959,1.0,1.0,0.21999875199800317,1.0,0.34999895999833597,0.36999899199838715,1.0,1.0,1.0,1.0,0.0007184011494418391,1.0,1.0,0.03499845599752959,0.09099854559767295,1.0,0.18999870399792637,1.0,0.5199992319987712,1.0,1.0,0.0003284005254408407,1.0,1.0,1.0,1.0,1.0,1.0,1.0,0.09099854559767295,1.0,1.0,1.0,1.0,0.24999879999807997,1.0,1.0,0.36999899199838715,1.0,1.0,1.0,1.0,0.06399850239760384,1.0,0.07699852319763711,1.0,1.0,0.010998417597468155,1.0,1.0,1.0,0.11999859199774718,0.0001484002374403799,1.0,1.0,1.0,1.0,1.0,1.0,1.0,0.28999886399818237,1.0,1.0,1.0,1.0,0.15999865599784957,1.0,1.0,1.0,0.5399992639988224,1.0,1.0,1.0,1.0,0.20999873599797758,1.0,1.0,1.0,1.0,1.0,1.0,1.0,1.0,1.0,0.0002384003814406103,1.0,1.0,1.0,0.019998431997491198,1.0,1.0,1.0,1.0,0.015998425597480957,1.0,1.0,1.0,1.0,1.0,1.0,1.0,1.0,0.002598404157446652,0.099998559997696,1.0,0.028998446397514234,1.0,1.0,1.0,1.0,1.0,0.49999919999872,1.0,1.0,1.0,0.9399999039998465,1.0,1.0,1.0,0.004198406717450748,1.0,1.0,1.0,0.005598408957454332,0.00939841503746406,1.0,1.0,0.026998443197509114,1.0,1.0,1.0,1.0,0.1399986239977984,1.0,1.0,1.0,1.0,1.0,1.0,1.0,1.0,0.5599992959988737,1.0,1.0,1.0,1.0,1.0,1.0,1.0,1.0,1.0,0.3099988959982336,1.0,1.0,0.039998463997542394,1.0,1.0,1.0,0.09799855679769087,1.0,1.0,0.7599996159993856,0.009698415517464826,0.027998444797511672,1.0,1.0,1.0,1.0,0.05799849279758848,1.0,1.0,0.00639841023745638,1.0,0.10999857599772159,0.36999899199838715,0.07799852479763968,1.0,1.0,0.0005784009254414807,1.0,1.0,1.0,1.0,1.0,0.025998441597506552,1.0,1.0,1.0,0.3899990239984384,1.0,4.940007904012646e-05,1.0,1.0,0.00239840383744614,1.0,1.0,1.0,0.014998423997478397,1.0,1.0,1.0,0.005798409277454844,0.00859841375746201,0.013998422397475837,1.0,0.4299990879985408,1.0,1.0,1.0,1.0,0.699999519999232,0.5599992959988737,1.0,1.0,1.0,1.0,1.0,0.20999873599797758,0.1699986719978752,1.0,1.0,1.0,1.0,1.0,0.2699988319981312,1.0,1.0,0.199998719997952,1.0,0.09799855679769087,1.0,1.0,0.009898415837465339,1.0,1.0,0.011998419197470715,0.3299989279982848,1.0,1.0,1.0,1.0,0.18999870399792637,0.000968401549442479,1.0,1.0,1.0,1.0,0.009798415677465084,0.6099993759990016,1.0,1.0,1.0,1.0,1.0,1.0,1.0,1.0,1.0,1.0,1.0,0.06799850879761407,1.0,1.0,1.0,1.0,0.011998419197470715,1.0,0.6199993919990272,0.1299986079977728,1.0,1.0,0.021998435197496315,0.20999873599797758,1.0,1.0,1.0,1.0,1.0,1.0,0.006298410077456124,1.0,1.0,0.14999863999782398,0.0003284005254408407,1.0,0.002498403997446396,0.11999859199774718,0.002098403357445372,0.07799852479763968,1.0,1.0,1.0,1.0,1.0,0.09199854719767551,1.0,0.4899991839986944,1.0,0.4799991679986688,1.0,1.0,1.0,0.004298406877451004,1.0,1.0,1.0,0.1299986079977728,0.012998420797473277,1.0,1.0,0.34999895999833597,1.0,0.002698404317446908,0.09699855519768831,0.03599845759753215,0.003098404957447932,0.1699986719978752,1.0,1.0,1.0,1.0,0.1299986079977728,1.0,1.0,0.4199990719985152,1.0,1.0,1.0,1.0,1.0,0.00047840076544122465,0.11999859199774718,1.0,1.0,1.0,0.003198405117448188,0.004798407677452284,1.0,0.020998433597493756,0.20999873599797758,0.4899991839986944,1.0,1.0,1.0,1.0,1.0,1.0,1.0,1.0,1.0,1.0,1.0,1.0,1.0,1.0,1.0,1.0,1.0,0.549999279998848,1.0,1.0,1.0,1.0,0.050998481597570554,1.0,1.0,1.0,0.1299986079977728,1.0,1.0,1.0,1.0,1.0,1.0,0.028998446397514234,1.0,1.0,1.0,0.001198401917443068,1.0,0.17999868799790078,1.0,1.0,0.017998428797486078,0.024998439997503997,1.0,1.0,1.0,1.0,1.0,0.06699850719761152,0.020998433597493756,1.0,1.0,1.0,1.0,1.0,1.0,1.0,1.0,1.0,1.0,0.020998433597493756,1.0,0.028998446397514234,1.0,1.0,0.04199846719754751,0.004498407197451516,0.024998439997503997,1.0,1.0,1.0,0.6399994239990784,1.0,1.0,1.0,1.0,1.0,1.0,1.0,0.03799846079753727,0.029998447997516792,0.09199854719767551,1.0,0.6899995039992064,1.0,1.0,1.0,1.0,1.0,1.0,1.0,6.540010464016743e-05,1.0,1.0,0.028998446397514234,1.0,1.0,1.0,0.010998417597468155,1.0,1.0,1.0,1.0,1.0,1.0,1.0,0.9899999839999744,5.040008064012902e-05,1.0,0.014998423997478397,0.199998719997952,1.0,1.0,1.0,1.0,1.0,0.05799849279758848,0.008998414397463034,1.0,1.0,1.0,1.0,1.0,0.06799850879761407,0.007298411677458683,1.0,1.0,1.0,1.0,1.0,1.0,1.0,0.0008984014374422999,1.0,0.20999873599797758,1.0,1.0,1.0,0.014998423997478397,1.0,0.007498411997459195,0.0649985039976064,1.0,1.0,1.0,1.0,1.0,1.0,0.002298403677445884,1.0,0.20999873599797758,1.0,0.010998417597468155,0.001198401917443068,1.0,1.0,1.0,1.0,0.15999865599784957,0.8699997919996671,0.03599845759753215,1.0,0.09899855839769343,0.099998559997696,1.0,1.0,1.0,1.0,7.940012704020326e-05,0.3099988959982336,1.0,1.0,0.36999899199838715,0.1299986079977728,0.011998419197470715,0.07699852319763711,1.0,1.0,1.0,1.0,1.0,1.0,1.0,1.0,1.0,0.3099988959982336,0.004298406877451004,1.0,1.0,1.0,0.015998425597480957,0.028998446397514234,1.0,1.0,0.0006284010054416086,1.0,1.0,1.0,1.0,1.0,1.0,1.0,0.004498407197451516,0.026998443197509114,1.0,0.2599988159981056,0.24999879999807997,0.004098406557450492,1.0,1.0,1.0,1.0,1.0,1.0,0.04599847359755775,0.49999919999872,1.0,1.0,0.04299846879755007,1.0,1.0,2.100003360005376e-06,1.0,1.0,1.0,1.0,1.0,1.0,0.10999857599772159,1.0,1.0,1.0,1.0,0.002498403997446396,1.0,0.20999873599797758,1.0,1.0,1.0,1.0,1.0,1.0,0.099998559997696,0.0649985039976064,0.04999847999756799,1.0,0.09099854559767295,1.0,1.0,1.0,1.0,1.0,0.15999865599784957,1.0,1.0,0.021998435197496315,1.0,1.0,1.0,1.0,1.0,1.0,1.0,1.0,1.0,0.04299846879755007,0.009998415997465595,1.0,1.0,1.0,0.4199990719985152,1.0,0.03499845599752959,1.0,0.549999279998848,1.0,1.0,1.0,1.0,1.0,0.3399989439983104,0.11999859199774718,0.7499995999993601,1.0,1.0,1.0,1.0,1.0,1.0,1.0,0.1299986079977728,1.0,1.0,0.043998470397552635,0.2799988479981568,0.011998419197470715,0.03799846079753727,1.0,1.0,0.032998452797524475,1.0,1.0,1.0,1.0,0.23999878399805438,1.0,1.0,1.0,1.0,1.0,1.0,1.0,1.0,0.028998446397514234,1.0,1.0,0.699999519999232,0.44999911999859205,0.6899995039992064,1.0,1.0,0.007898412637460219,1.0,1.0,0.013998422397475837,1.0,1.0,1.0,1.0,1.0,1.0,1.0,1.0,1.0,1.0,1.0,1.0,1.0,0.0056984091174545875,0.028998446397514234,0.17999868799790078,1.0,1.0,0.21999875199800317,1.0,0.17999868799790078,1.0,1.0,0.23999878399805438,1.0,0.5199992319987712,1.0,1.0,0.08299853279765247,1.0,1.0,1.0,1.0,1.0,1.0,1.0,0.28999886399818237,0.24999879999807997,0.3099988959982336,1.0,1.0,1.0,1.0,1.0,1.0,1.0,0.00013840022144035428,1.0,1.0,1.0,1.0,1.0,1.0,1.0,1.0,6.740010784017254e-05,0.008198413117460987,1.0,1.0,1.0,1.0,1.0,1.0,1.0,1.0,0.021998435197496315,0.0006284010054416086,1.0,0.0009984015974425558,0.039998463997542394,0.5899993439989504,1.0,1.0,1.0,0.20999873599797758,1.0,0.49999919999872,1.0,1.0,1.0,1.0,1.0,1.0,1.0,0.04299846879755007,1.0,1.0,1.0,1.0,1.0,1.0,0.001198401917443068,1.0,1.0,0.20999873599797758,1.0,1.0,1.0,1.0,0.06399850239760384,0.0001484002374403799,0.099998559997696,0.002298403677445884,0.04699847519756031,1.0,0.0799985279976448,0.0649985039976064,2.0000032000051195e-06,1.0,1.0,1.0,1.0,1.0,1.0,0.002998404797447676,1.0,1.0,0.0699985119976192,0.06699850719761152,1.0,1.0,1.0,1.0,1.0,1.0,1.0,1.0,1.0,1.0,1.0,1.0,1.0,0.030998449597519354,1.0,1.0,1.0,0.047998476797562875,1.0,0.07299851679762688,1.0,1.0,1.0,1.0,1.0,1.0,1.0,1.0,1.0,0.0001984003174405079,1.0,1.0,1.0,0.199998719997952,1.0,1.0,1.0,0.0015984025574440918,0.4699991519986432,1.0,0.009698415517464826,1.0,1.0,1.0,0.001098401757442812,1.0,1.0,0.199998719997952,1.0,1.0,0.0034984055974489558,1.0,0.24999879999807997,0.14999863999782398,1.0,1.0,1.0,1.0,0.04599847359755775,1.0,1.0,1.0,0.0799985279976448,1.0,1.0,1.0,1.0,1.0,1.0,1.0,0.5699993119988992,1.0,1.0,1.0,1.0,0.012998420797473277,0.002698404317446908,1.0,0.007498411997459195,1.0,1.0,1.0,1.0,0.05699849119758592,1.0,1.0,0.026998443197509114,1.0,0.001198401917443068,1.0,1.0,1.0,1.0,0.05699849119758592,1.0,0.027998444797511672,0.5299992479987968,1.0,1.0,1.0,0.0599984959975936,0.028998446397514234,1.0,1.0,1.0,1.0,1.0,1.0,0.003298405277448444,1.0,1.0,1.0,1.0,0.2599988159981056,1.0,1.0,1.0,1.0,0.36999899199838715,1.0,1.0,1.0,1.0,0.549999279998848,0.5299992479987968,1.0,1.0,0.199998719997952,1.0,0.004198406717450748,0.0003284005254408407,1.0,0.20999873599797758,1.0,1.0,0.007198411517458427,1.0,1.0,1.0,1.0,1.0,1.0,1.0,1.0,1.0,1.0,1.0,1.0,0.005598408957454332,1.0,1.0,1.0,0.4899991839986944,1.0,0.018998430397488636,1.0,1.0,1.0,0.009698415517464826,1.0,1.0,0.45999913599861764,1.0,0.15999865599784957,1.0,1.0,1.0,1.0,1.0,1.0,0.1399986239977984,1.0,1.0,0.3099988959982336,1.0,1.0,1.0,1.0,1.0,0.35999897599836156,1.0,0.1399986239977984,1.0,1.0,1.0,0.399999039998464,0.199998719997952,1.0,1.0,1.0,1.0,1.0,0.020998433597493756,0.0009484015174424279,0.047998476797562875,1.0,1.0,0.009998415997465595,1.0,1.0,2.740004384007014e-05,1.0,1.0,1.0,1.0,1.0,1.0,1.0,1.0,0.030998449597519354,0.1299986079977728,1.0,0.036998459197534715,1.0,1.0,1.0,1.0,1.0,0.03899846239753983,1.0,0.2299987679980288,1.0,0.007998412797460474,1.0,1.0,0.0007684012294419671,0.0005884009414415063,1.0,0.09899855839769343,0.2599988159981056,1.0,1.0,1.0,1.0,1.0,0.08799854079766528,1.0,1.0,1.0,0.00024840039744063587,1.0,1.0,1.0,1.0,1.0,0.11999859199774718,1.0,1.0,1.0,1.0,0.017998428797486078,1.0,1.0,1.0,1.0,1.0,1.0,1.0,1.0,0.00439840703745126,1.0,0.0007084011334418135,1.0,1.0,0.3799990079984128,1.0,1.0,1.0,1.0,1.0,1.0,1.0,1.0,1.0,0.18999870399792637,1.0,1.0,1.0,1.0,1.0,1.0,1.0,0.199998719997952,1.0,1.0,0.012998420797473277,1.0,1.0,1.0,1.0,0.35999897599836156,1.0,1.0,0.2599988159981056,0.023998438397501435,1.0,0.003098404957447932,1.0,1.0,1.0,1.0,1.0,1.0,1.0,1.0,0.020998433597493756,1.0,1.0,0.07499851999763199,1.0,1.0,1.0,0.1699986719978752,1.0,1.0,1.0,1.0,0.00939841503746406,0.00439840703745126,1.0,0.0003384005414408663,0.3199989119982592,1.0,0.002498403997446396,1.0,1.0,1.0,0.00038840062144099427,1.0,1.0,1.0,1.0,0.017998428797486078,1.0,1.0,1.0,1.0,1.0,1.0,1.0,1.0,0.2299987679980288,1.0,0.013998422397475837,1.0,1.0,1.0,1.0,1.0,0.021998435197496315,0.018998430397488636,1.0,0.03799846079753727,0.0007584012134419414,1.0,1.0,1.0,0.00011840018944030309,1.0,1.0,1.0,1.0,0.03399845439752703,0.017998428797486078,1.0,1.0,0.002298403677445884,1.0,1.0,1.0,1.0,1.0,1.0,1.0,1.0,1.0,1.0,1.0,1.0,1.0,1.0,0.03899846239753983,1.0,1.0,0.1699986719978752,0.0599984959975936,1.0,1.0,1.0,0.00041840066944107113,0.005298408477453564,1.0,0.099998559997696,1.0,1.0,1.0,1.0,1.0,1.0,0.08999854399767039,1.0,1.0,1.0,0.027998444797511672,1.0,1.0,1.0,1.0,1.0,1.0,1.0,1.0,1.0,1.0,0.5599992959988737,0.00489840783745254,1.0,0.3099988959982336,1.0,1.0,1.0,1.0,1.0,1.0,1.0,1.0,0.1699986719978752,0.36999899199838715,1.0,1.0,1.0,1.0,0.29999887999820796,0.4399991039985664,1.0,0.2599988159981056,0.025998441597506552,0.018998430397488636,1.0,0.009998415997465595,1.0,0.010998417597468155,1.0,1.0,1.0,1.0,4.940007904012646e-05,1.0,1.0,0.08399853439765503,1.0,1.0,1.0,0.399999039998464,0.020998433597493756,0.006998411197457915,0.005998409597455356,1.0,0.036998459197534715,0.04999847999756799,0.022998436797498877,0.006598410557456891,1.0,1.0,0.040998465597544956,0.8299997279995648,1.0,1.0,1.0,1.0,0.0017984028774446041,0.0012984020774433238,0.00489840783745254,0.4899991839986944,1.0,1.0,1.0,1.0,1.0,0.04299846879755007,1.0,1.0,1.0,0.3899990239984384,1.0,1.0,1.0,1.0,1.0,1.0,1.0,1.0,1.0,1.0,1.0,1.0,1.0,0.050998481597570554,1.0,0.45999913599861764,0.00037840060544096866,1.0,1.0,1.0,1.0,1.0,0.016998427197483516,0.03899846239753983,1.0,0.0001684002694404311,1.0,1.0,1.0,1.0,1.0,1.0,1.0,1.0,1.0,1.0,1.0,1.0,1.0,1.0,1.0,1.0,1.0,1.0,1.0,1.0,1.0,0.599999359998976,1.0,1.0,0.0849985359976576,0.2299987679980288,1.0,1.0,0.6399994239990784,1.0,1.0,1.0,1.0,1.0,1.0,1.0,1.0,1.0,0.03199845119752191,1.0,1.0,1.0,6.740010784017254e-05,0.07199851519762432,1.0,1.0,0.3099988959982336,0.18999870399792637,1.0,1.0,1.0,1.0,1.0,1.0,0.17999868799790078,1.0,0.08699853919766272,0.002998404797447676,1.0,0.039998463997542394,1.0,0.001498402397443836,0.014998423997478397,1.0,0.023998438397501435,0.7499995999993601,1.0,0.10999857599772159,1.0,1.0,1.0,0.011998419197470715,1.0,1.0,1.0,1.0,1.0,0.012998420797473277,1.0,0.649999439999104,0.10999857599772159,1.0,1.0,1.0,1.0,1.0,0.055998489597583356,1.0,1.0,0.012998420797473277,0.1699986719978752,1.0,0.18999870399792637,1.0,1.0,1.0,1.0,0.199998719997952,1.0,1.0,0.1299986079977728,1.0,1.0,0.001098401757442812,1.0,1.0,1.0,0.2699988319981312,0.3099988959982336,1.0,0.14999863999782398,1.0,1.0,0.000918401469442351,0.45999913599861764,0.005598408957454332,1.0,1.0,1.0,1.0,0.099998559997696,1.0,1.0,1.0,1.0,1.0,1.0,0.07799852479763968,1.0,1.0,1.0,1.0,1.0,1.0,0.017998428797486078,1.3000020800033282e-06,1.0,1.0,1.0,0.0015984025574440918,1.0,0.05799849279758848,1.0,1.0,0.17999868799790078,1.0,0.7299995679993088,0.8799998079996928,1.0,1.0,1.0,1.0,1.0,0.8399997439995904,1.0,1.0,1.0,0.050998481597570554,0.36999899199838715,1.0,1.0,0.058998494397591035,1.0,0.03599845759753215,0.0599984959975936,1.0,1.0,0.14999863999782398,0.3899990239984384,1.0,1.0,1.0,0.7799996479994368,1.0,1.0,1.0,0.29999887999820796,0.036998459197534715,1.0,0.10999857599772159,0.03899846239753983,1.0,1.0,1.0,0.012998420797473277,1.0,1.0,1.0,1.0,1.0,1.0,1.0,1.0,0.6899995039992064,1.0,1.0,1.0,1.0,0.0005284008454413527,1.0,0.399999039998464,1.0,1.0,1.0,0.29999887999820796,1.0,0.2799988479981568,1.0,1.0,0.011998419197470715,1.0,1.0,1.0,1.0,1.0,1.0,1.0,0.6599994559991296,1.0,1.0,1.0,1.0,1.0,1.0,0.199998719997952,1.0,1.0,0.00289840463744742,0.058998494397591035,1.0,0.1299986079977728,1.0,0.549999279998848,0.039998463997542394,1.0,0.3199989119982592,0.0004984007974412759,1.0,1.0,0.2299987679980288,0.1299986079977728,0.018998430397488636,1.0,1.0,0.9899999839999744,0.3199989119982592,1.0,1.0,1.0,1.0,1.0,0.09699855519768831,0.20999873599797758,0.0001984003174405079,1.0,1.0,1.0,0.004198406717450748,0.04499847199755519,1.0,0.0699985119976192,1.0,1.0,1.0,1.0,1.0,0.3399989439983104,0.649999439999104,0.06099849759759616,1.0,1.0,1.0,1.0,1.0,0.2299987679980288,1.0,1.0,0.026998443197509114,1.0,0.06399850239760384,1.0,0.1699986719978752,0.0012984020774433238,1.0,1.0,1.0,1.0,1.0,1.0,0.054998487997580794,0.0061984099174558676,1.0,1.0,1.0,0.9299998879998208,1.0,1.0,1.0,1.0,1.0,1.0,0.0005984009574415319,1.0,1.0,0.005298408477453564,1.0,0.00015840025344040552,1.0,1.0,1.0,1.0,1.0,1.0,0.001498402397443836,1.0,0.040998465597544956,1.0,0.006798410877457403,1.0,0.1299986079977728,1.0,1.0,0.5599992959988737,0.00018840030144048227,1.0,0.019998431997491198,0.199998719997952,1.0,1.0,1.0,1.0,1.0,0.10999857599772159,1.0,1.0,1.0,1.0,1.0,1.0,1.0,1.0,1.0,1.0,1.0,1.0,0.4199990719985152,1.0,1.0,1.0,1.0,1.0,1.0,1.0,1.0,1.0,0.04299846879755007,1.0,0.013998422397475837,1.0,0.7799996479994368,1.0,1.0,0.025998441597506552,1.0,1.0,1.0,1.0,1.0,1.0,1.0,1.0,0.051998483197573116,1.0,1.0,1.0,1.0,1.0,1.0,1.0,0.1299986079977728,1.0,0.025998441597506552,0.3799990079984128,1.0,0.018998430397488636,1.0,1.0,1.0,1.0,1.0,1.0,0.001098401757442812,1.0,0.3799990079984128,0.0083984134374615,1.0,0.2799988479981568,1.0,1.0,1.0,1.0,1.0,1.0,1.0,1.0,1.0,0.001198401917443068,1.0,0.006498410397456635,1.0,0.04699847519756031,0.055998489597583356,1.0,1.0,0.030998449597519354,1.0,2.5400040640065024e-05,1.0,1.0,0.004198406717450748,1.0,1.0,1.0,1.0,1.0,1.0,0.08299853279765247,1.0,1.0,1.0,1.0,1.0,0.00189840303744486,0.017998428797486078,1.0,1.0,1.0,1.0,1.0,1.0,1.0,0.0017984028774446041,1.0,1.0,0.004698407517452028,1.0,0.849999759999616,0.05799849279758848,1.0,1.0,1.0,0.15999865599784957,1.0,1.0,1.0,1.0,1.0,1.0,0.001698402717444348,1.0,1.0,1.0,1.0,1.0,1.0,0.008798414077462523,0.11999859199774718,1.0,1.0,0.010998417597468155,1.0,1.0,0.011998419197470715,1.0,1.0,0.649999439999104,1.0,1.0,1.0,1.0,1.0,1.0,1.0,0.0002084003334405335,1.0,1.0,1.0,1.0,1.0,1.0,1.0,0.0003584005734409175,1.0,1.0,1.0,0.2699988319981312,1.0,1.0,0.399999039998464,2.0400032640052226e-05,1.0,1.0,1.0,0.007698412317459707,0.004198406717450748,1.0,1.0,1.0,0.21999875199800317,1.0,1.0,0.11999859199774718,1.0,1.0,1.0,1.0,1.0,1.0,1.0,0.025998441597506552,1.0,1.0,1.0,1.0,0.04599847359755775,1.0,1.0,1.0,0.054998487997580794,1.0,1.0,1.0,1.0,1.0,1.0,1.0,1.0,1.0,4.740007584012134e-05,1.0,0.2599988159981056,1.0,1.0,1.0,0.04599847359755775,1.0,1.0,1.0,1.0,1.0,1.0,1.0,1.0,1.0,1.0,0.5399992639988224,1.0,0.009698415517464826,1.0,1.0,0.00239840383744614,1.0,1.0,0.1299986079977728,1.0,1.0,1.0,0.15999865599784957,1.0,1.0,1.0,1.0,1.0,1.0,1.0,1.0,0.025998441597506552,1.0,1.0,1.0,0.06899851039761663,1.0,1.0,1.0,1.0,1.0,1.0,1.0,1.0,1.0,1.0,1.0,0.0005384008614413783,1.0,1.0,1.0,0.018998430397488636,1.0,1.0,0.24999879999807997,1.0,1.0,1.0,1.0,1.0,0.7299995679993088,1.0,1.0,1.0,1.0,1.0,1.0,1.0,0.00043840070144112234,1.0,0.3199989119982592,0.17999868799790078,1.0,1.0,1.0,1.0,1.0,0.002798404477447164,0.0005784009254414807,1.0,1.0,1.0,1.0,1.0,1.0,1.0,1.0,1.0,1.0,1.0,1.0,1.0,0.028998446397514234,0.06799850879761407,1.0,1.0,0.002098403357445372,1.0,1.0,1.0,0.1699986719978752,1.0,0.0949985519976832,1.0,1.0,1.0,1.0,0.017998428797486078,1.0,0.00539840863745382,1.0,1.0,1.0,1.0,1.0,1.0,1.0,1.0,1.0,1.0,1.0,0.2699988319981312,1.0,1.0,0.0013984022374435798,1.0,0.00038840062144099427,1.0,0.2299987679980288,0.10999857599772159,1.0,1.0,1.0,1.0,0.0004884007814412503,0.10999857599772159,0.0033984054374487,7.000011200017919e-06,1.0,0.10999857599772159,1.0,1.0,1.0,1.0,0.5099992159987456,1.0,1.0,1.0,1.0,0.07799852479763968,1.0,1.0,1.0,1.0,1.0,1.0,1.0,1.0,0.0006384010214416343,1.0,1.0,1.0,0.3899990239984384,1.0,0.010998417597468155,1.0,1.0,1.0,1.0,1.0,0.4799991679986688,1.0,1.0,1.0,1.0,1.0,1.0,1.0,1.0,1.0,0.3299989279982848,1.0,1.0,1.0,1.0,1.0,1.0,1.0,1.0,1.0,0.03599845759753215,0.025998441597506552,1.0,1.0,1.0,1.0,0.012998420797473277,0.0005684009094414551,0.5199992319987712,1.0,1.0,1.0,1.0,0.06299850079760128,1.0,1.0,1.0,1.0,0.017998428797486078,0.10999857599772159,1.0,1.0,1.0,1.0,0.001198401917443068,1.0,0.021998435197496315,1.0,1.0,1.0,1.0,1.0,0.00013840022144035428,0.5399992639988224,0.00039840063744101987,1.0,1.0,0.549999279998848,1.0,1.0,0.009498415197464315,1.0,1.0,0.8099996959995136,0.4099990559984896,0.05799849279758848,0.3199989119982592,1.0,0.005998409597455356,1.0,1.0,1.0,1.0,1.0,1.0,0.07299851679762688,1.0,0.0034984055974489558,0.00489840783745254,1.0,0.0002984004774407639,1.0,1.0,1.0,1.0,1.0,0.15999865599784957,1.0,1.0,1.0,0.043998470397552635,1.0,1.0,1.0,1.0,1.0,0.030998449597519354,1.0,1.0,1.0,1.0,1.0,0.023998438397501435,1.0,0.3299989279982848,1.0,1.0,1.0,0.000968401549442479,1.0,1.0,0.021998435197496315,1.0,0.36999899199838715,1.0,1.0,0.6199993919990272,1.0,1.0,1.0,0.2699988319981312,1.0,1.0,1.0,0.3099988959982336,1.0,1.0,1.0,0.4099990559984896,1.0,0.06099849759759616,1.0,1.0,1.0,1.0,1.0,1.0,1.0,0.003798406077449724,1.0,0.24999879999807997,1.0,1.0,1.0,1.0,1.0,1.0,0.0004684007494411991,1.0,0.10999857599772159,1.0,1.0,1.0,0.4799991679986688,1.0,1.0,1.0,0.018998430397488636,1.0,0.34999895999833597,0.21999875199800317,0.0012984020774433238,0.05299848479757568,0.00439840703745126,1.0,1.0,1.0,1.0,1.0,1.0,1.0,1.0,1.0,1.0,1.0,1.0,1.0,0.7899996639994624,1.0,0.06599850559760896,0.07399851839762944,1.0,0.6199993919990272,1.0,1.0,1.0,1.0,1.0,1.0,0.1299986079977728,1.0,1.0,1.0,1.0,1.0,0.024998439997503997,1.0,1.0,1.0,0.024998439997503997,1.0,1.0,1.0,0.10999857599772159,1.0,1.0,1.0,1.0,0.45999913599861764,1.0,0.08899854239766784,1.0,1.0,0.07899852639764224,0.0001284002054403287,1.0,0.10999857599772159,0.07099851359762176,0.24999879999807997,1.0,1.0,0.009798415677465084,1.0,1.0,1.0,0.7599996159993856,1.0,0.1299986079977728,1.0,1.0,1.0,1.0,1.0,0.5599992959988737,0.028998446397514234,1.0,1.0,1.0,0.11999859199774718,1.0,1.0,1.0,1.0,0.09899855839769343,1.0,1.0,0.08599853759766016,1.0,1.0,1.0,0.7799996479994368,0.018998430397488636,1.0,0.17999868799790078,0.032998452797524475,0.2799988479981568,0.0004284006854410967,1.0,1.0,0.00011840018944030309,1.0,1.0,1.0,1.0,1.0,0.4199990719985152,1.0,1.0,1.0,2.3400037440059902e-05,0.5799993279989248,0.17999868799790078,1.0,1.0,1.0,1.0,1.0,1.0,1.0,0.00289840463744742,0.20999873599797758,1.0,1.0,1.0,1.0,1.0,0.15999865599784957,1.0,1.0,1.0,0.03199845119752191,0.016998427197483516,0.28999886399818237,1.0,1.0,1.0,0.2299987679980288,1.0,0.019998431997491198,1.0,1.0,0.0004084006534410455,1.0,1.0,1.0,1.0,1.0,1.0,1.0,1.0,0.11999859199774718,1.0,1.0,1.0,1.0,1.0,1.0,1.0,0.05399848639757824,1.0,1.0,0.7499995999993601,1.0,1.0,1.0,1.0,1.0,1.0,1.0,1.0,1.0,0.051998483197573116,1.0,0.007898412637460219,1.0,1.0,1.0,1.0,1.0,1.0,0.03599845759753215,1.0,1.0,1.0,1.0,0.1699986719978752,1.0,1.0,0.00859841375746201,1.0,1.0,1.0,1.0,0.020998433597493756,0.036998459197534715,0.7199995519992832,1.0,1.0,1.0,1.0,0.45999913599861764,0.025998441597506552,1.0,0.24999879999807997,1.0,1.0,1.0,1.0,0.025998441597506552,1.0,1.0,1.0,1.0,1.0,1.0,3.740005984009574e-05,0.011998419197470715,0.14999863999782398,1.0,0.0005084008134413014,1.0,1.0,0.18999870399792637,1.0,1.0,1.0,1.0,0.34999895999833597,1.0,0.10999857599772159,1.0,0.08599853759766016,1.0,1.0,0.24999879999807997,1.0,1.0,0.023998438397501435,0.24999879999807997,1.0,0.000868401389442223,0.003998406397450236,1.0,0.549999279998848,1.0,0.3199989119982592,0.0002884004614407383,0.00289840463744742,1.0,1.0,0.6699994719991552,0.1299986079977728,1.0,1.0,1.0,0.3099988959982336,1.0,0.07799852479763968,1.0,0.07599852159763455,1.0,0.005098408157453052,1.0,1.0,1.0,1.0,1.0,1.0,1.0,1.0,1.0,1.0,0.004198406717450748,1.0,1.0,1.0,1.0,1.0,0.20999873599797758,1.0,1.0,1.0,1.0,1.0,1.0,1.0,0.14999863999782398,1.0,0.024998439997503997,0.0012984020774433238,1.0,1.0,1.0,0.0056984091174545875,0.08599853759766016,1.0,0.3399989439983104,0.0012984020774433238,0.001098401757442812,0.04699847519756031,1.0,0.3199989119982592,0.006698410717457147,1.0,1.0,1.0,0.08199853119764992,1.0,0.0013984022374435798,0.005598408957454332,1.0,0.14999863999782398,0.21999875199800317,1.0,0.03599845759753215,1.0,1.0,0.4399991039985664,0.001998403197445116,0.001198401917443068,0.0061984099174558676,0.005798409277454844,1.0,0.04699847519756031,0.099998559997696,1.0,1.0,0.016998427197483516,1.0,1.0,1.0,1.0,1.0,1.0,1.0,1.0,0.11999859199774718,1.0,1.0,1.0,1.0,1.0,1.0,1.0,0.21999875199800317,0.008698413917462268,1.0,1.0,0.2799988479981568,1.0,1.0,1.0,1.0,0.20999873599797758,1.0,1.0,1.0,1.0,1.0,1.0,1.0,0.043998470397552635,1.0,1.0,1.0,1.0,1.0,1.0,1.0,1.0,1.0,0.029998447997516792,1.0,1.0,1.0,1.0,0.04899847839756543,0.04699847519756031,0.026998443197509114,1.0,0.08899854239766784,1.0,0.10999857599772159,0.1299986079977728,1.0,0.5399992639988224,1.0,1.0,1.0,1.0,1.0,0.017998428797486078,0.010998417597468155,1.0,1.0,1.0,1.0,0.018998430397488636,1.0,1.0,0.00013840022144035428,0.6299994079990529,1.0,0.0799985279976448,1.0,1.0,1.0,1.0,1.0,0.009998415997465595,1.0,1.0,1.0,1.0,1.0,1.0,1.0,1.0,1.0,1.0,0.023998438397501435,0.3199989119982592,0.005598408957454332,0.05699849119758592,0.003998406397450236,0.009298414877463803,1.0,1.0,1.0,1.0,1.0,1.0,1.0,0.14999863999782398,1.0,1.0,1.0,0.10999857599772159,1.0,1.0,1.0,1.0,1.0,0.055998489597583356,0.29999887999820796,1.0,1.0,1.0,1.0,0.10999857599772159,1.0,0.008098412957460732,0.04599847359755775,1.0,0.005498408797454076,1.0,1.0,1.0,1.0,1.0,0.28999886399818237,1.0,1.0,1.0,1.0,0.14999863999782398,1.0,0.020998433597493756,1.0,1.0,1.0,1.0,1.0,1.0,1.0,1.0,1.0,1.0,0.06099849759759616,1.0,1.0,1.0,1.0,1.0,1.0,1.0,1.0,1.0,1.0,1.0,1.0,1.0,1.0,1.0,1.0,1.0,1.0,0.005298408477453564,1.0,0.019998431997491198,0.5699993119988992,1.0,1.0,0.3099988959982336,1.0,1.0,0.019998431997491198,1.0,1.0,1.0,1.0,1.0,1.0,1.0,1.0,0.549999279998848,1.0,0.07499851999763199,1.0,0.5299992479987968,0.14999863999782398,0.15999865599784957,0.0009984015974425558,1.0,1.0,0.07899852639764224,1.0,1.0,1.0,1.0,1.0,1.0,0.20999873599797758,1.0,1.0,1.0,1.0,0.04299846879755007,0.21999875199800317,1.0,1.0,0.017998428797486078,1.0,0.00039840063744101987,1.0,1.0,1.0,1.0,1.0,1.0,0.9399999039998465,0.2599988159981056,1.0,1.0,1.0,0.00010840017344027751,1.0,1.0,1.0,1.0,1.0,1.0,1.0,1.0,0.0002984004774407639,1.0,1.0,0.5699993119988992,1.0,1.0,1.0,1.0,1.0,1.0,1.0,1.0,0.036998459197534715,1.0,1.0,0.018998430397488636,1.0,0.005998409597455356,1.9400031040049665e-05,1.0,1.0,1.0,1.0,0.04499847199755519,0.36999899199838715,0.10999857599772159,0.399999039998464,0.08899854239766784,0.1299986079977728,1.0,0.0599984959975936,1.0,0.022998436797498877,1.0,0.1699986719978752,1.0,1.0,1.0,1.0,1.0,1.0,1.0,1.0,1.0,0.18999870399792637,1.0,1.0,1.0,0.001498402397443836,1.0,1.0,1.0,0.008298413277461242,0.199998719997952,0.24999879999807997,1.0,1.0,1.0,1.0,0.005598408957454332,1.0,1.0,1.0,1.0,0.020998433597493756,0.3899990239984384,1.0,1.0,0.06699850719761152,1.0,1.0,1.0,1.0,1.0,1.0,1.0,0.05299848479757568,1.0,1.0,0.004198406717450748,1.0,0.039998463997542394,1.0,1.0,1.0,1.0,1.0,0.3899990239984384,0.024998439997503997,0.019998431997491198,0.004298406877451004,0.4099990559984896,0.18999870399792637,1.0,1.0,1.0,0.007198411517458427,1.0,1.0,0.2699988319981312,1.0,1.0,1.0,1.0,1.0,0.6299994079990529,1.0,0.006498410397456635,1.0,1.0,1.0,0.1699986719978752,1.0,0.23999878399805438,1.0,1.0,1.0,1.0,1.0,0.007098411357458171,1.0,0.03599845759753215,1.0,1.0,1.0,1.0,1.0,1.0,0.3199989119982592,1.0,0.04199846719754751,1.0,1.0,1.0,0.027998444797511672,1.0,0.019998431997491198,0.07399851839762944,0.10999857599772159,1.0,1.0,0.0001784002854404567,0.07299851679762688,1.0,1.0,1.0,1.0,1.0,1.0,1.0,0.0005784009254414807,0.04999847999756799,1.0,1.0,1.0,1.0,1.0,0.004698407517452028,0.9099998559997696,0.17999868799790078,1.0,1.0,1.0,1.0,0.20999873599797758,1.0,1.0,0.04499847199755519,0.14999863999782398,0.04199846719754751,1.0,1.0,1.0,1.0,0.3799990079984128,1.0,1.0,0.399999039998464,0.028998446397514234,0.013998422397475837,1.0,1.0,1.0,1.0,0.4799991679986688,1.0,1.0,0.29999887999820796,0.5899993439989504,1.0,1.0,1.0,1.0,1.0,0.11999859199774718,1.0,0.21999875199800317,1.0,1.0,1.0,0.07299851679762688,1.0,1.0,1.0,0.015998425597480957,1.0,1.0,1.0,1.0,1.0,1.0,1.0,1.0,1.0,1.0,0.2599988159981056,1.0,1.0,0.0002284003654405847,1.0,1.0,0.001698402717444348,1.0,1.0,0.016998427197483516,1.0,0.4699991519986432,1.0,0.03199845119752191,1.0,1.0,1.0,1.0,1.0,1.0,1.0,1.0,1.0,1.0,1.0,1.0,1.0,1.0,0.15999865599784957,0.0008484013574421719,1.0,1.0,0.07899852639764224,1.0,1.0,0.34999895999833597,1.0,1.0,1.0,0.0017984028774446041,0.20999873599797758,1.0,0.20999873599797758,1.0,1.0,0.05299848479757568,1.0,1.0,9.040014464023142e-05,8.34001334402135e-05,1.0,0.004198406717450748,1.0,1.0,1.0,1.0,1.0,1.0,1.0,0.0008384013414421463,0.3199989119982592,0.5299992479987968,1.0,1.0,0.002198403517445628,1.0,1.0,1.0,1.0,1.0,1.0,0.002098403357445372,1.0,1.0,1.0,0.0017984028774446041,1.0,1.0,1.0,1.0,0.040998465597544956,1.0,1.0,0.5199992319987712,1.0,0.0004084006534410455,1.0,1.0,0.039998463997542394,0.2799988479981568,0.10999857599772159,1.0,1.0,0.015998425597480957,1.0,1.0,1.0,1.0,1.0,1.0,1.0,0.2799988479981568,0.0001784002854404567,1.0,1.0,1.0,1.0,0.06899851039761663,1.0,1.0,0.3199989119982592,0.10999857599772159,0.14999863999782398,1.0,1.0,1.0,1.0,0.058998494397591035,1.0,0.15999865599784957,0.6699994719991552,1.0,1.0,1.0,1.0,0.4699991519986432,0.03599845759753215,1.0,1.0,1.0,0.0056984091174545875,1.0,0.002998404797447676,0.0034984055974489558,1.0,1.0,1.0,0.025998441597506552,1.0,0.3099988959982336,1.0,0.7099995359992576,0.07699852319763711,1.0,1.0,1.0,0.24999879999807997,1.0,1.0,0.7899996639994624,1.0,1.0,1.0,0.036998459197534715,1.0,1.0,1.0,0.04299846879755007,0.3199989119982592,1.0,1.0,0.4699991519986432,1.0,1.0,1.0,0.17999868799790078,1.0,0.047998476797562875,1.0,1.0,1.0,1.0,1.0,0.018998430397488636,0.06899851039761663,1.0,1.0,0.009198414717463547,1.0,1.0,0.05699849119758592,0.18999870399792637,1.0,1.0,1.0,1.0,1.0,1.0,1.0,0.023998438397501435,0.5299992479987968,0.14999863999782398,1.0,0.17999868799790078,0.006998411197457915,1.0,1.0,1.0,1.0,0.00011840018944030309,1.0,1.0,0.023998438397501435,0.4899991839986944,1.0,1.0,1.0,1.0,0.14999863999782398,1.0,1.0,0.08299853279765247,1.0,0.11999859199774718,1.0,1.0,1.0,0.004598407357451772,1.0,1.0,0.10999857599772159,1.0,1.0,1.0,0.013998422397475837,1.0,1.0,0.3399989439983104,1.0,1.0,0.003798406077449724,1.0,1.0,1.0,0.1299986079977728,1.0,1.0,1.0,1.0,1.0,0.1399986239977984,1.0,1.0,0.07099851359762176,1.0,1.0,1.0,0.24999879999807997,1.0,1.0,0.006498410397456635,1.0,0.17999868799790078,1.0,0.030998449597519354,1.0,0.029998447997516792,0.3099988959982336,1.0,1.0,1.0,1.0,1.0,0.4399991039985664,1.0,0.007798412477459963,1.0,0.6899995039992064,0.04499847199755519,0.199998719997952,1.0,0.013998422397475837,0.24999879999807997,1.0,0.1399986239977984,1.0,1.0,0.00289840463744742,0.0007584012134419414,0.0015984025574440918,1.0,1.0,1.0,1.0,1.0,1.0,0.001998403197445116,1.0,1.0,0.054998487997580794,1.0,1.0,1.0,0.03899846239753983,1.0,1.0,1.0,1.0,0.2299987679980288,0.0005384008614413783,1.0,1.0,1.0,0.2699988319981312,0.3199989119982592,1.0,0.032998452797524475,1.0,0.009998415997465595,0.00389840623744998,0.012998420797473277,0.023998438397501435,1.0,1.0,1.0,1.0,1.0,1.0,1.0,1.0,1.0,1.0,1.0,0.009298414877463803,0.08899854239766784,1.0,1.0,0.1399986239977984,1.0,0.047998476797562875,1.0,1.0,1.0,0.15999865599784957,1.0,1.0,1.0,1.0,0.002998404797447676,0.011998419197470715,1.0,1.0,0.6899995039992064,0.20999873599797758,1.0,0.023998438397501435,0.24999879999807997,1.0,0.06699850719761152,0.006298410077456124,1.0,1.0,1.0,1.0,1.0,1.0,1.0,0.0799985279976448,0.23999878399805438,1.0,1.0,0.030998449597519354,0.6699994719991552,1.0,1.0,1.0,0.036998459197534715,1.0,1.0,1.0,1.0,1.0,1.0,1.0,1.0,1.0,1.0,1.0,0.03399845439752703,1.0,1.0,1.0,1.0,1.0,1.0,1.0,0.08299853279765247,1.0,1.0,1.0,1.0,1.0,1.0,1.0,1.0,1.0,0.8099996959995136,1.0,1.0,1.0,1.0,1.0,0.49999919999872,0.020998433597493756,0.018998430397488636,1.0,0.2299987679980288,0.36999899199838715,1.0,0.003598405757449212,1.0,1.0,1.0,1.0,0.0003284005254408407,1.0,1.0,1.0,1.0,1.0,0.11999859199774718,0.011998419197470715,1.0,1.0,0.18999870399792637,1.0,1.0,1.0,1.0,1.0,1.0,1.0,0.5299992479987968,0.019998431997491198,0.006698410717457147,1.0,0.011998419197470715,0.004198406717450748,0.04999847999756799,1.0,1.0,1.0,0.006598410557456891,1.0,0.00026840042944068713,1.0,1.0,1.0,1.0,1.0,0.001998403197445116,0.002598404157446652,1.0,0.006598410557456891,1.0,1.0,1.0,0.17999868799790078,1.0,1.0,0.1399986239977984,1.0,1.0,1.0,1.0,1.0,1.0,0.08299853279765247,1.0,1.0,1.0,0.0056984091174545875,1.0,1.0,0.08899854239766784,0.45999913599861764,1.0,1.0,0.4299990879985408,1.0,0.00015840025344040552,1.0,0.006598410557456891,1.0,0.23999878399805438,1.0,1.0,1.0,1.0,0.5699993119988992,0.013998422397475837,0.199998719997952,1.0,0.3099988959982336,1.0,0.009998415997465595,1.0,0.3199989119982592,1.0,1.0,1.0,1.0,1.0,0.001198401917443068,1.0,1.0,0.003698405917449468,0.7199995519992832,1.0,1.0,0.04699847519756031,1.0,0.001998403197445116,1.0,0.29999887999820796,1.0,0.0012984020774433238,0.012998420797473277,0.10999857599772159,1.0,1.0,1.0,1.0,1.0,1.0,0.14999863999782398,0.09699855519768831,0.549999279998848,1.0,0.055998489597583356,1.0,1.0,0.2299987679980288,4.440007104011366e-05,0.04199846719754751,1.0,1.0,1.0,1.0,1.0,1.0,1.0,1.0,1.0,1.0,1.0,1.0,1.0,1.0,0.7499995999993601,1.0,1.0,0.24999879999807997,1.0,0.28999886399818237,1.0,1.0,0.24999879999807997,1.0,1.0,0.011998419197470715,1.0,1.0,1.0,1.0,1.0,1.0,1.0,1.0,0.49999919999872,1.0,1.0,1.0,1.0,0.29999887999820796,1.0,1.0,1.0,0.24999879999807997,1.0,1.0,1.0,0.036998459197534715,1.0,1.0,1.0,1.0,1.0,0.00047840076544122465,1.0,1.0,1.0,1.0,1.0,1.0,1.0,1.0,1.0,1.0,0.03499845599752959,1.0,1.0,1.0,0.009198414717463547,1.0,1.0,0.2299987679980288,0.36999899199838715,1.0,1.0,0.15999865599784957,1.0,0.3399989439983104,0.06599850559760896,1.0,1.0,0.9799999679999488,0.6699994719991552,0.199998719997952,0.008698413917462268,1.0,1.0,1.0,1.0,1.0,1.0,1.0,0.002298403677445884,1.0,0.055998489597583356,1.0,1.0,1.0,0.039998463997542394,1.0,1.0,1.0,0.15999865599784957,0.08899854239766784,1.0,1.0,1.0,0.015998425597480957,1.0,1.0,1.0,1.0,1.0,0.004798407677452284,0.006798410877457403,1.0,0.0004084006534410455,1.0,1.0,0.07599852159763455,1.0,1.0,0.013998422397475837,0.025998441597506552,0.36999899199838715,0.9299998879998208,1.0,1.0,1.0,1.0,0.35999897599836156,1.0,0.04999847999756799,1.0,1.0,0.599999359998976,1.0,1.0,1.0,1.0,1.0,1.0,0.14999863999782398,0.09699855519768831,1.0,1.0,1.0,0.44999911999859205,1.0,1.0,1.0,1.0,1.0,1.0,1.0,1.0,1.0,1.0,1.0,1.0,1.0,1.0,0.9399999039998465,0.3299989279982848,0.017998428797486078,1.0,1.0,0.009698415517464826,1.0,1.0,0.18999870399792637,1.0,1.0,1.0,1.0,1.0,0.07799852479763968,1.0,0.23999878399805438,1.0,1.0,1.0,1.0,0.018998430397488636,1.0,1.0,1.0,0.44999911999859205,1.0,1.0,1.0,1.0,1.0,1.0,0.3899990239984384,1.0,0.11999859199774718,0.4299990879985408,1.0,1.0,1.0,1.0,1.0,1.0,0.0799985279976448,0.032998452797524475,1.0,1.0,1.0,0.4099990559984896,1.0,1.0,1.0,1.0,1.0,1.0,1.0,1.0,1.0,7.740012384019814e-05,1.0,1.0,0.04499847199755519,1.0,1.0,1.0,1.0,0.4799991679986688,1.0,0.00639841023745638,0.043998470397552635,1.0,0.11999859199774718,1.0,1.0,1.0,0.015998425597480957,1.0,1.0,0.17999868799790078,1.0,1.0,1.0,1.0,0.016998427197483516,0.34999895999833597,1.0,1.0,0.3099988959982336,0.03499845599752959,1.0,1.0,0.009898415837465339,0.0015984025574440918,0.0004884007814412503,1.0,0.07099851359762176,0.3199989119982592,1.0,1.0,0.5699993119988992,1.0,0.009698415517464826,1.0,0.0083984134374615,0.10999857599772159,1.0,1.0,1.0,0.024998439997503997,0.3099988959982336,1.0,1.0,1.0,1.0,0.0006384010214416343,0.022998436797498877,1.0,1.0,1.0,1.0,1.0,1.0,1.0,1.0,1.0,1.0,0.6199993919990272,0.24999879999807997,1.0,1.0,0.07199851519762432,0.0058984094374551,1.0,1.0,1.0,1.0,1.0,1.0,1.0,0.029998447997516792,1.0,0.9399999039998465,1.0,1.0,0.8699997919996671,1.0,1.0,1.0,0.8099996959995136,0.11999859199774718,0.3799990079984128,0.199998719997952,1.0,0.03399845439752703,1.0,1.0,1.0,1.0,1.0,1.0,0.008198413117460987,1.0,0.2599988159981056,1.0,0.11999859199774718,1.0,1.0,1.0,0.030998449597519354,1.0,1.0,1.0,1.0,1.0,1.0,1.0,1.0,0.549999279998848,1.0,0.04699847519756031,0.0001484002374403799,1.0,0.0649985039976064,0.3099988959982336,1.0,1.0,1.0,1.0,1.0,0.15999865599784957,1.0,0.017998428797486078,1.0,1.0,1.0,0.1699986719978752,1.0,0.04299846879755007,0.06799850879761407,1.0,1.0,0.11999859199774718,1.0,0.14999863999782398,1.0,0.28999886399818237,1.0,0.028998446397514234,0.0003384005414408663,1.0,0.5199992319987712,1.0,1.0,1.0,0.20999873599797758,1.0,0.28999886399818237,1.0,1.0,1.0,0.5699993119988992,0.4399991039985664,0.043998470397552635,1.0,0.016998427197483516,1.0,1.0,0.9299998879998208,1.0,1.0,1.0,1.0,1.0,0.029998447997516792,1.0,1.0,1.0,0.8099996959995136,1.0,1.0,1.0,1.0,0.0005784009254414807,1.0,0.008698413917462268,1.0,0.03499845599752959,0.05299848479757568,1.0,0.0849985359976576,1.0,1.0,0.012998420797473277,0.030998449597519354,1.0,0.2299987679980288,1.0,1.0,1.0,0.011998419197470715,0.007698412317459707,1.0,1.0,1.0,1.0,1.0,1.0,0.016998427197483516,0.004798407677452284,1.0,1.0,1.0,1.0,1.0,1.0,1.0,0.1399986239977984,1.0,1.0,0.4199990719985152,1.0,1.0,1.0,1.0,1.0,0.0004684007494411991,1.0,0.010998417597468155,1.0,1.0,1.0,1.0,1.0,1.0,0.019998431997491198,1.0,1.0,8.440013504021606e-05,0.3799990079984128,1.0,1.0,0.0001984003174405079,1.0,0.022998436797498877,1.0,1.0,1.0,0.49999919999872,1.0,1.0,1.0,1.0,0.14999863999782398,1.0,1.0,1.0,1.0,1.0,1.0,0.009698415517464826,0.07399851839762944,1.0,1.0,1.0,1.0,1.0,1.0,1.0,0.055998489597583356,1.0,1.0,1.0,1.0,1.0,1.0,0.45999913599861764,0.49999919999872,1.0,1.0,1.0,1.0,1.0,1.0,1.0,1.0,1.0,0.0012984020774433238,1.0,0.029998447997516792,0.0008484013574421719,1.0,1.0,0.34999895999833597,1.0,1.0,0.015998425597480957,0.17999868799790078,0.4699991519986432,1.0,1.0,1.0,1.0,0.013998422397475837,1.0,1.0,1.0,0.07899852639764224,0.5199992319987712,1.0,1.0,1.0,0.08699853919766272,1.0,1.0,1.0,1.0,0.04899847839756543,0.6899995039992064,1.0,1.0,1.0,1.0,0.1399986239977984,1.0,1.0,1.0,0.009798415677465084,1.0,1.0,0.17999868799790078,1.0,1.0,0.0002384003814406103,1.0,1.0,1.0,1.0,1.0,1.0,0.0012984020774433238,0.5799993279989248,1.0,1.0,1.0,0.099998559997696,1.0,1.0,1.0,1.0,0.04899847839756543,1.0,0.36999899199838715,1.0,1.0,1.0,1.0,1.0,1.0,1.0,0.00239840383744614,1.0,1.0,1.0,0.015998425597480957,1.0,1.0,1.0,0.1399986239977984,1.0,1.0,1.0,1.0,0.012998420797473277,1.0,1.0,1.0,1.0,1.0,1.0,1.0,1.0,0.3899990239984384,0.009998415997465595,0.2699988319981312,1.0,1.0,0.2699988319981312,1.0,0.2299987679980288,1.0,1.0,0.1699986719978752,1.0,1.0,0.04499847199755519,1.0,1.0,1.0,1.0,1.0,0.099998559997696,1.0,1.0,0.03899846239753983,0.8299997279995648,1.0,1.0,1.0,1.0,1.0,1.0,7.540012064019302e-05,1.0,1.0,1.0,1.0,1.0,0.04299846879755007,1.0,1.0,1.0,1.0,0.5399992639988224,1.0,1.0,0.199998719997952,1.0,0.06299850079760128,0.043998470397552635,1.0,1.0,1.0,0.016998427197483516,1.0,1.0,1.0,1.0,0.0015984025574440918,0.4299990879985408,0.03499845599752959,0.0004484007174411479,1.0,1.0,0.24999879999807997,0.49999919999872,1.0,1.0,1.0,1.0,1.0,1.0,1.0,1.0,1.0,1.0,1.0,1.0,1.0,0.11999859199774718,1.0,1.0,1.0,0.00047840076544122465,0.022998436797498877,1.0,0.004798407677452284,1.0,1.0,1.0,0.050998481597570554,1.0,1.0,1.0,1.0,1.0,1.0,0.017998428797486078,1.0,0.0004284006854410967,1.0,1.0,1.0,1.0,0.9899999839999744,1.0,1.0,1.0,1.0,1.0,1.0,1.0,1.0,1.0,1.0,1.0,1.0,0.047998476797562875,1.0,1.0,0.029998447997516792,1.0,0.4299990879985408,1.0,1.0,1.0,1.0,1.0,1.0,1.0,1.0,1.0,1.0,1.0,0.3099988959982336,1.0,0.03199845119752191,0.44999911999859205,1.0,8.040012864020582e-05,1.0,1.0,1.0,0.1399986239977984,1.0,1.0,1.0,1.0,0.030998449597519354,1.0,0.29999887999820796,1.0,1.0,1.0,1.0,1.0,1.0,1.0,1.0,0.10999857599772159,1.0,1.0,1.0,1.0,0.35999897599836156,1.0,0.9399999039998465,0.021998435197496315,9.84001574402519e-05,1.0,1.0,1.0,0.022998436797498877,1.0,0.001198401917443068,0.1399986239977984,1.0,1.0,1.0,1.0,1.0,0.9299998879998208,1.0,1.0,1.0,1.0,1.0,0.7299995679993088,0.00539840863745382,1.0,1.0,1.0,0.015998425597480957,0.004498407197451516,1.0,1.0,0.03899846239753983,1.0,1.0,1.0,1.0,0.2599988159981056,1.0,1.0,0.24999879999807997,1.0,1.0,1.0,0.018998430397488636,0.0068984110374576595,1.0,0.18999870399792637,1.0,1.0,1.0,1.0,1.0,1.0,1.0,1.0,1.0,1.0,1.0,1.0,1.0,1.0,1.0,0.018998430397488636,1.0,8.84001414402263e-05,0.029998447997516792,9.84001574402519e-05,1.0,0.005098408157453052,1.0,1.0,0.17999868799790078,1.0,1.0,1.0,1.0,1.0,1.0,1.0,1.0,1.0,1.0,1.0,1.0,1.0,0.3799990079984128,0.3199989119982592,0.0008584013734421975,0.06399850239760384,1.0,1.0,0.34999895999833597,1.0,1.0,1.0,0.199998719997952,1.0,1.0,0.5399992639988224,1.0,1.0,0.199998719997952,0.025998441597506552,1.0,0.4399991039985664,1.0,0.199998719997952,0.23999878399805438,0.15999865599784957,0.004598407357451772,1.0,1.0,1.0,1.0,1.0,1.0,1.0,0.007098411357458171,0.17999868799790078,0.018998430397488636,1.0,1.0,0.11999859199774718,0.08599853759766016,1.0,1.0,1.0,1.0,3.740005984009574e-05,0.5599992959988737,1.0,1.0,0.03199845119752191,1.0,1.0,1.0,1.0,1.0,0.006598410557456891,0.024998439997503997,1.0,1.0,0.002798404477447164,0.399999039998464,1.0,0.047998476797562875,0.20999873599797758,0.3799990079984128,1.0,0.29999887999820796,1.0,1.0,0.036998459197534715,1.0,0.0849985359976576,1.0,1.0,0.5699993119988992,1.0,1.0,1.0,1.0,1.0,1.0,0.025998441597506552,1.0,1.0,1.0,1.0,1.0,1.0,1.0,1.0,1.0,1.0,1.0,1.0,1.0,1.0,1.0,1.0,1.0,1.0,0.014998423997478397,1.0,1.0,1.0,1.0,1.0,1.0,1.0,0.011998419197470715,0.021998435197496315,1.0,1.0,1.0,0.1299986079977728,1.0,0.549999279998848,1.0,0.49999919999872,1.0,0.05799849279758848,0.030998449597519354,0.006098409757455612,1.0,0.08799854079766528,1.0,0.013998422397475837,0.008098412957460732,1.0,1.0,1.0,1.0,1.0,1.0,0.4099990559984896,0.04499847199755519,1.0,1.0,1.0,1.0,1.0,0.4399991039985664,1.0,1.0,1.0,1.0,1.0,1.0,1.0,1.0,1.0,0.07599852159763455,1.0,0.399999039998464,1.0,1.0,1.0,1.0,1.0,1.0,1.0,1.0,1.0,1.0,0.07799852479763968,1.0,1.0,1.0,0.00389840623744998,1.0,0.008698413917462268,1.0,1.0,1.0,1.0,0.0004684007494411991,0.14999863999782398,1.0,1.0,1.0,1.0,0.28999886399818237,1.0,0.3099988959982336,0.5399992639988224,1.0,1.0,1.0,1.0,0.029998447997516792,0.29999887999820796,1.0,1.0,1.0,1.0,1.0,1.0,1.0,0.002798404477447164,0.28999886399818237,1.0,1.0,1.0,0.15999865599784957,1.0,0.028998446397514234,1.0,1.0,1.0,1.0,1.0,1.0,1.0,1.0,0.019998431997491198,1.0,0.03799846079753727,0.28999886399818237,1.0,0.026998443197509114,0.18999870399792637,0.003698405917449468,1.0,1.0,1.0,1.0,1.0,1.0,1.0,1.0,1.0,1.0,0.002298403677445884,0.2599988159981056,0.4899991839986944,1.0,0.09899855839769343,0.026998443197509114,1.0,1.0,0.17999868799790078,1.0,0.199998719997952,0.00859841375746201,1.0,1.0,1.0,1.0,0.0649985039976064,1.0,1.0,0.1399986239977984,1.0,0.3099988959982336,1.0,1.0,0.002998404797447676,1.0,1.0,1.0,1.0,0.00039840063744101987,1.0,0.10999857599772159,0.2599988159981056,1.0,1.0,1.0,1.0,1.0,1.0,1.0,0.5199992319987712,1.0,1.0,0.06199849919759872,1.0,1.0,0.099998559997696,1.0,1.0,1.0,0.001198401917443068,0.054998487997580794,0.06199849919759872,1.0,1.0,1.0,0.15999865599784957,1.0,1.0,0.099998559997696,0.11999859199774718,1.0,1.0,1.0,1.0,0.29999887999820796,1.0,1.0,1.0,1.0,1.0,0.026998443197509114,1.0,0.3899990239984384,1.0,1.0,1.0,0.0004984007974412759,0.001998403197445116,0.009798415677465084,0.000818401309442095,1.0,1.0,0.07199851519762432,1.0,1.0,1.0,1.0,0.019998431997491198,1.0,0.09399855039768064,1.0,1.0,1.0,1.0,1.0,1.0,1.0,1.0,1.0,0.08099852959764736,1.0,1.0,0.07299851679762688,1.0,1.0,0.1399986239977984,5.640009024014438e-05,1.0,1.0,0.058998494397591035,1.0,1.0,1.0,1.0,1.0,0.04199846719754751,0.040998465597544956,0.002298403677445884,1.0,1.0,0.1399986239977984,0.09399855039768064,1.0,1.0,0.00024840039744063587,0.24999879999807997,1.0,0.027998444797511672,0.023998438397501435,1.0,1.0,1.0,1.0,1.0,1.0,0.49999919999872,1.0,1.0,1.0,1.0,1.0,0.4399991039985664,0.07199851519762432,0.002598404157446652,0.09199854719767551,0.05799849279758848,1.0,1.0,1.0,0.00011840018944030309,0.016998427197483516,0.058998494397591035,1.0,0.0002784004454407127,1.0,1.0,0.006098409757455612,1.0,1.0,0.1699986719978752,1.0,1.0,1.0,0.0699985119976192,0.3899990239984384,1.0,1.0,1.0,1.0,1.0,1.0,0.09599855359768576,1.0,1.0,1.0,1.0,1.0,1.0,0.5899993439989504,0.014998423997478397,1.0,1.0,1.0,1.0,0.17999868799790078,1.0,1.0,1.0,1.0,0.014998423997478397,1.0,1.0,1.0,0.17999868799790078,1.0,1.0,0.036998459197534715,1.0,0.09399855039768064,1.0,0.1299986079977728,1.0,1.0,1.0,0.014998423997478397,1.0,1.0,0.549999279998848,1.0,0.0061984099174558676,1.0,1.0,0.1299986079977728,0.08899854239766784,1.0,1.0,1.0,0.17999868799790078,1.0,1.0,1.0,1.0,1.0,1.0,1.0,1.0,1.0,1.0,1.0,1.0,1.0,1.0,0.0009984015974425558,1.0,0.00018840030144048227,1.0,0.010998417597468155,1.0,0.007198411517458427,1.0,1.0,1.0,0.29999887999820796,1.0,1.0,1.0,0.8599997759996416,1.0,0.14999863999782398,1.0,1.0,1.0,1.0,1.0,0.23999878399805438,1.0,1.0,0.14999863999782398,1.0,1.0,0.00189840303744486,0.005798409277454844,0.5099992159987456,0.021998435197496315,1.0,0.0001684002694404311,0.1399986239977984,1.0,1.0,1.0,0.23999878399805438,1.0,0.2799988479981568,1.0,1.0,1.0,1.0,1.0,1.0,0.004098406557450492,1.0,1.0,1.0,1.0,1.0,1.0,0.3099988959982336,1.0,0.08199853119764992,1.0,0.0012984020774433238,0.03599845759753215,1.0,1.0,0.004298406877451004,0.03899846239753983,1.0,1.0,1.0,1.0,1.0,1.0,1.0,1.0,1.0,1.0,1.0,1.0,1.0,0.032998452797524475,1.0,1.0,1.0,0.10999857599772159,1.0,1.0,1.0,1.0,1.0,1.0,1.0,1.0,0.7099995359992576,0.015998425597480957,1.0,1.0,1.0,1.0,0.2299987679980288,1.0,1.0,1.0,0.008098412957460732,0.0003484005574408919,1.0,1.0,1.0,1.0,1.0,1.0,1.0,1.0,1.0,0.018998430397488636,1.0,1.0,1.0,1.0,0.004498407197451516,1.0,1.0,1.0,1.0,1.0,1.0,1.0,0.35999897599836156,1.0,1.0,1.0,0.018998430397488636,1.0,1.0,1.0,0.05799849279758848,0.05299848479757568,0.005598408957454332,1.0,1.0,0.36999899199838715,0.001498402397443836,0.20999873599797758,0.2799988479981568,1.0,1.0,1.0,0.03399845439752703,1.0,0.06299850079760128,1.0,1.0,1.0,0.549999279998848,0.11999859199774718,1.0,1.0,1.0,1.0,1.0,1.0,0.1699986719978752,1.0,1.0,1.0,1.0,1.0,1.0,1.0,1.0,0.3799990079984128,0.007298411677458683,1.0,1.0,0.18999870399792637,1.0,1.0,1.0,1.0,1.0,1.0,1.0,0.0068984110374576595,1.0,1.0,1.0,1.0,1.0,1.0,0.18999870399792637,1.0,1.0,1.0,1.0,1.0,1.0,1.0,1.0,1.0,1.0,1.0,1.0,1.0,1.0,1.0,1.0,1.0,1.0,0.008198413117460987,0.008898414237462779,0.004798407677452284,1.0,1.0,1.0,1.0,1.0,1.0,1.0,0.2599988159981056,0.099998559997696,0.005798409277454844,1.0,1.0,1.0,0.15999865599784957,1.0,0.0002384003814406103,1.0,0.1299986079977728,1.0,1.0,1.0,1.0,0.039998463997542394,1.0,1.0,1.0,1.0,1.0,1.0,1.0,1.0,1.0,1.0,1.0,0.022998436797498877,1.0,1.0,1.0,1.0,1.0,0.024998439997503997,0.7199995519992832,1.0,1.0,0.24999879999807997,0.20999873599797758,1.0,1.0,1.0,1.0,1.0,1.0,1.0,1.0,0.1299986079977728,0.003698405917449468,0.07599852159763455,1.0,1.0,1.0,1.0,1.0,1.0,1.0,1.0,0.036998459197534715,1.0,0.8399997439995904,1.0,1.0,0.24999879999807997,1.0,0.0007784012454419926,1.0,1.0,1.0,1.0,0.008798414077462523,1.0,0.2299987679980288,1.0,1.0,1.0,0.2799988479981568,1.0,1.0,1.0,1.0,0.050998481597570554,1.0,1.0,1.0,1.0,1.0,1.0,1.0,1.0,1.0,0.09299854879767808,1.0,0.011998419197470715,1.0,1.0,0.23999878399805438,1.0,1.0,1.0,1.0,1.0,1.0,1.0,1.0,1.0,1.0,0.5199992319987712,1.0,1.0,1.0,1.0,0.2699988319981312,1.0,0.0049984079974527956,1.0,1.0,1.0,0.001198401917443068,1.0,1.0,1.0,1.0,1.0,1.0,1.0,1.0,0.0001784002854404567,1.0,1.0,1.0,0.28999886399818237,0.0013984022374435798,1.0,1.0,1.0,1.0,0.004698407517452028,0.0599984959975936,1.0,1.0,1.0,0.6099993759990016,1.0,0.05799849279758848,1.0,1.0,0.007998412797460474,0.7699996319994112,1.0,0.24999879999807997,1.0,0.05799849279758848,1.0,1.0,1.0,1.0,0.4899991839986944,1.0,1.0,1.0,0.9599999359998976,1.0,1.0,1.0,0.03899846239753983,1.0,0.04599847359755775,1.0,0.29999887999820796,1.0,0.2699988319981312,1.0,1.0,1.0,0.004598407357451772,1.0,1.0,1.0,1.0,1.0,1.0,1.0,1.0,0.0003484005574408919,1.0,1.0,1.0,1.0,0.00024840039744063587,1.0,1.0,0.3799990079984128,1.0,1.0,1.0,0.003598405757449212,0.008298413277461242,1.0,1.0,1.0,1.0,1.0,1.0,0.004098406557450492,0.00189840303744486,1.0,1.0,1.0,1.0,1.0,1.0,1.0,8.00001280002048e-07,0.3399989439983104,1.0,1.0,1.0,1.0,1.0,0.0599984959975936,1.0,0.2299987679980288,1.0,1.0,1.0,0.002498403997446396,1.0,1.0,1.0,1.0,1.0,1.0,0.032998452797524475,1.0,0.5599992959988737,1.0,0.0009984015974425558,1.0,1.0,1.0,1.0,1.0,1.0,0.032998452797524475,0.020998433597493756,1.0,1.0,1.0,1.0,0.0034984055974489558,1.0,1.0,1.0,1.0,1.0,0.0017984028774446041,1.0,1.0,1.0,0.10999857599772159,0.00489840783745254,1.0,1.0,1.0,1.0,1.0,1.0,1.0,1.0,1.0,1.0,1.0,1.0,0.003298405277448444,0.020998433597493756,1.0,1.0,0.026998443197509114,1.0,1.0,1.0,1.0,1.0,0.18999870399792637,1.0,0.2299987679980288,1.0,0.011998419197470715,0.011998419197470715,1.0,0.0017984028774446041,0.7399995839993344,1.0,0.20999873599797758,1.0,0.35999897599836156,1.0,0.0599984959975936,1.0,1.0,1.0,1.0,0.030998449597519354,1.0,1.0,0.09899855839769343,1.0,1.0,0.08099852959764736,1.0,1.0,0.3799990079984128,0.3099988959982336,1.0,1.0,1.0,0.004298406877451004,0.0003384005414408663,1.0,0.06299850079760128,1.0,0.05299848479757568,1.0,1.0,0.03799846079753727,1.0,1.0,1.0,1.0,0.002098403357445372,0.030998449597519354,1.0,1.0,1.0,0.4899991839986944,0.023998438397501435,1.0,1.0,1.0,1.0,1.0,0.18999870399792637,0.11999859199774718,1.0,1.0,0.009998415997465595,1.0,1.0,1.0,1.0,1.0,1.0,1.0,1.0,0.006298410077456124,1.0,0.3199989119982592,0.3899990239984384,1.0,1.0,1.0,1.0,0.0005784009254414807,0.17999868799790078,1.0,1.0,1.0,0.7499995999993601,1.0,0.004798407677452284,1.0,1.0,1.0,1.0,0.054998487997580794,0.001198401917443068,1.0,0.06199849919759872,1.0,1.0,1.0,1.0,1.0,1.0,1.0,1.0,0.06399850239760384,1.0,0.6599994559991296,1.0,0.2799988479981568,0.006598410557456891,1.0,1.0,1.0,1.0,1.0,0.4099990559984896,1.0,1.0,1.0,1.0,1.0,1.0,1.0,1.0,1.0,1.0,1.0,1.0,1.0,1.0,0.002198403517445628,0.0649985039976064,1.0,0.014998423997478397,1.0,1.0,1.0,0.06199849919759872,1.0,1.0,1.0,1.0,1.0,0.051998483197573116,1.0,0.005598408957454332,0.028998446397514234,1.0,1.0,1.0,0.0005184008294413271,1.0,1.0,1.0,1.0,1.0,0.8899998239997184,1.0,1.0,1.0,1.0,1.0,0.00024840039744063587,1.0,1.0,0.199998719997952,1.0,1.0,0.18999870399792637,0.0649985039976064,1.0,1.0,0.025998441597506552,1.0,0.3899990239984384,0.00539840863745382,1.0,1.0,1.0,1.0,0.2699988319981312,1.0,1.0,1.0,1.0,0.015998425597480957,0.003598405757449212,0.20999873599797758,1.0,1.0,1.0,1.0,1.0,1.0,1.0,0.015998425597480957,0.11999859199774718,1.0,0.1699986719978752,0.00024840039744063587,1.0,1.0,1.0,0.04599847359755775,1.0,1.0,1.0,1.0,0.007398411837458939,1.0,1.0,1.0,1.0,0.17999868799790078,1.0,1.0,0.10999857599772159,0.007398411837458939,0.001198401917443068,1.0,1.0,1.0,0.04299846879755007,0.013998422397475837,1.0,1.0,1.0,1.0,1.0,1.0,1.0,1.0,1.0,1.0,1.0,1.0,1.0,0.05799849279758848,1.0,1.0,0.05399848639757824,0.054998487997580794,1.0,1.0,1.0,1.0,1.0,1.0,1.0,0.1399986239977984,1.0,1.0,0.008198413117460987,0.011998419197470715,1.0,1.0,1.0,0.0699985119976192,0.21999875199800317,0.004098406557450492,0.1299986079977728,1.0,0.002498403997446396,0.0003184005094408151,1.0,0.06599850559760896,1.0,1.0,0.004298406877451004,1.0,1.0,0.1399986239977984,1.0,1.0,1.0,1.0,1.0,1.0,1.0,1.0,1.0,1.0,1.0,1.0,1.0,1.0,1.0,1.0,1.0,0.002798404477447164,1.0,1.0,1.0,0.016998427197483516,1.0,1.0,0.00489840783745254,1.0,1.0,0.04699847519756031,0.06599850559760896,1.0,1.0,0.013998422397475837,0.001498402397443836,1.0,1.0,1.0,1.0,1.0,1.0,1.0,0.043998470397552635,1.0,0.018998430397488636,1.0,1.0,1.0,0.1399986239977984,0.08299853279765247,1.0,1.0,0.050998481597570554,1.0,1.0,0.028998446397514234,1.0,1.0,1.0,0.08599853759766016,0.1699986719978752,0.23999878399805438,1.0,0.899999839999744,1.0,0.1699986719978752,1.0,1.0,1.0,0.011998419197470715,1.0,1.0,1.0,1.0,1.0,1.0,1.0,1.0,1.0,0.6599994559991296,0.020998433597493756,1.0,1.0,1.0,1.0,0.11999859199774718,1.0,0.20999873599797758,1.0,1.0,0.9199998719997952,0.003698405917449468,1.0,1.0,0.00047840076544122465,1.0,1.0,1.0,1.0,0.2299987679980288,0.019998431997491198,1.0,1.0,1.0,1.0,1.0,0.3899990239984384,1.0,0.07099851359762176,1.0,0.0002884004614407383,1.0,1.0,0.0001684002694404311,1.0,0.18999870399792637,1.0,0.1299986079977728,1.0,1.0,1.0,1.0,1.0,1.0,0.07599852159763455,1.0,0.5599992959988737,1.0,1.0,1.0,1.0,1.0,1.0,1.0,1.0,1.0,1.0,1.0,1.0,1.0,1.0,1.0,1.0,0.07499851999763199,1.0,0.49999919999872,0.010998417597468155,1.0,1.0,0.28999886399818237,1.0,1.0,0.06399850239760384,0.018998430397488636,0.019998431997491198,1.0,1.0,0.07299851679762688,1.0,1.0,0.3799990079984128,1.0,0.0001484002374403799,1.0,0.0049984079974527956,1.0,1.0,0.007098411357458171,1.0,1.0,1.0,1.0,1.0,1.0,1.0,0.026998443197509114,1.0,0.08199853119764992,0.2599988159981056,0.34999895999833597,0.10999857599772159,0.03499845599752959,1.0,0.003698405917449468,1.0,1.0,1.0,0.3199989119982592,0.021998435197496315,1.0,0.0006284010054416086,1.0,0.0007084011334418135,1.0,1.0,1.0,1.0,1.0,1.0,1.0,1.0,0.017998428797486078,0.099998559997696,1.0,1.0,1.0,2.5400040640065024e-05,0.14999863999782398,1.0,0.011998419197470715,0.23999878399805438,1.0,1.0,1.0,0.08999854399767039,1.0,1.0,1.0,1.0,0.00489840783745254,0.00189840303744486,1.0,1.0,0.007598412157459451,0.002598404157446652,0.051998483197573116,1.0,0.3199989119982592,0.001198401917443068,0.15999865599784957,1.0,1.0,1.0,1.0,1.0,1.0,1.0,1.0,1.0,0.0012984020774433238,1.0,1.0,0.6799994879991809,1.0,0.1699986719978752,1.0,1.0,1.0,1.0,1.0,1.0,1.0,0.005998409597455356,1.0,1.0,1.0,1.0,1.0,1.0,0.20999873599797758,1.0,1.0,1.0,1.0,1.0,1.0,1.0,1.0,0.199998719997952,0.0649985039976064,1.0,0.1399986239977984,1.0,1.0,0.17999868799790078,1.0,0.5599992959988737,1.0,1.0,1.0,1.0,0.0056984091174545875,1.0,0.008998414397463034,0.030998449597519354,1.0,1.0,1.0,0.07099851359762176,1.0,1.0,1.0,1.0,1.0,0.025998441597506552,0.08699853919766272,0.09799855679769087,1.0,1.0,1.0,1.0,1.0,1.0,1.0,0.9599999359998976,1.0,1.0,1.0,1.0,0.007998412797460474,1.0,1.0,0.20999873599797758,1.0,1.0,1.0,1.0,1.0,1.0,0.011998419197470715,1.0,1.0,1.0,1.0,1.0,1.0,1.0,0.0017984028774446041,0.20999873599797758,0.04899847839756543,1.0,1.0,1.0,1.0,1.0,1.0,1.0,1.0,1.0,1.0,0.036998459197534715,0.09699855519768831,1.0,1.0,0.599999359998976,0.5099992159987456,1.0,1.0,1.0,1.0,1.0,1.0,1.0,1.0,1.0,1.0,1.0,1.0,0.051998483197573116,1.0,1.0,1.0,0.047998476797562875,1.0,1.0,1.0,1.0,0.11999859199774718,1.0,1.0,1.0,1.0,1.0,0.07899852639764224,1.0,0.07899852639764224,1.0,1.0,0.028998446397514234,0.7399995839993344,1.0,0.8299997279995648,1.0,0.022998436797498877,0.20999873599797758,1.0,1.0,0.08099852959764736,1.0,0.06099849759759616,1.0,0.06799850879761407,1.0,1.0,1.0,1.0,1.0,1.0,1.0,1.0,0.054998487997580794,1.0,1.0,0.8599997759996416,1.0,1.0,1.0,1.0,0.10999857599772159,0.03199845119752191,0.004798407677452284,1.0,1.0,1.0,1.0,1.0,1.0,1.0,1.0,0.006798410877457403,1.0,0.014998423997478397,1.0,1.0,1.0,0.019998431997491198,1.0,1.0,1.0,1.0,1.0,0.015998425597480957,1.0,1.0,1.0,1.0,0.003098404957447932,0.7899996639994624,1.0,1.0,0.002798404477447164,0.040998465597544956,1.0,1.0,1.0,1.0,1.0,1.0,1.0,1.0,1.0,0.399999039998464,0.018998430397488636,1.0,1.0,0.2299987679980288,1.0,1.0,0.003698405917449468,0.08799854079766528,0.007298411677458683,0.14999863999782398,1.0,1.0,1.0,1.0,1.0,1.0,1.0,0.004798407677452284,1.0,0.2599988159981056,1.0,1.0,0.2799988479981568,0.047998476797562875,1.0,1.0,0.058998494397591035,1.0,1.0,0.027998444797511672,0.00639841023745638,0.34999895999833597,0.07299851679762688,1.0,0.14999863999782398,0.06299850079760128,1.0,0.001498402397443836,1.0,1.0,0.3099988959982336,1.0,1.0,1.0,1.0,1.0,1.0,1.0,1.0,0.001998403197445116,1.0,1.0,1.0,1.0,1.0,0.05799849279758848,1.0,1.0,1.0,0.15999865599784957,1.0,1.0,1.0,1.0,1.0,1.0,1.0,1.0,0.015998425597480957,1.0,1.0,1.0,1.0,1.0,1.0,0.15999865599784957,1.0,1.0,1.0,1.0,1.0,1.0,1.0,1.0,1.0,0.3399989439983104,0.007698412317459707,0.20999873599797758,1.0,0.1699986719978752,1.0,1.0,0.3099988959982336,1.0,0.04899847839756543,1.0,1.0,1.0,1.0,1.0,0.002998404797447676,0.799999679999488,1.0,1.0,1.0,1.0,0.1299986079977728,1.0,1.0,1.0,1.0,1.0,1.0,1.0,1.0,0.23999878399805438,0.012998420797473277,0.019998431997491198,1.0,1.0,0.00489840783745254,1.0,0.03899846239753983,0.010998417597468155,1.0,1.0,1.0,1.0,1.0,0.6399994239990784,0.4799991679986688,1.0,1.0,1.0,1.0,0.07299851679762688,0.04499847199755519,1.0,0.032998452797524475,1.0,1.0,1.0,1.0,1.0,1.0,1.0,1.0,1.0,0.020998433597493756,1.0,0.019998431997491198,1.0,0.003298405277448444,1.0,1.0,1.0,0.054998487997580794,1.0,1.0,1.0,1.0,1.0,1.0,1.0,0.030998449597519354,1.0,1.0,0.399999039998464,1.0,1.0,1.0,1.0,1.0,1.0,1.0,1.0,1.0,0.199998719997952,0.05799849279758848,0.047998476797562875,1.0,0.054998487997580794,1.0,1.0,1.0,1.0,1.0,0.10999857599772159,1.0,1.0,1.0,1.0,0.03199845119752191,1.0,1.0,1.0,0.24999879999807997,1.0,1.0,1.0,1.0,1.0,1.0,0.34999895999833597,1.0,1.0,0.017998428797486078,1.0,1.0,1.0,1.0,1.0,1.0,1.0,1.0,1.0,1.0,1.0,0.11999859199774718,0.4799991679986688,1.0,1.0,1.0,1.0,1.0,1.0,1.0,0.013998422397475837,0.2299987679980288,1.0,0.2799988479981568,1.0,0.028998446397514234,1.0,0.015998425597480957,0.7799996479994368,1.0,1.0,1.0,1.0,1.0,1.0,1.0,1.0,0.2299987679980288,1.0,0.3299989279982848,1.0,0.050998481597570554,0.6199993919990272,1.0,1.0,1.0,1.0,1.0,0.009698415517464826,1.0,1.0,1.0,0.009998415997465595,0.2699988319981312,1.0,0.0003084004934407895,0.016998427197483516,1.0,1.0,1.0,1.0,0.007598412157459451,1.0,1.0,1.0,1.0,0.0699985119976192,1.0,1.0,1.0,1.0,0.14999863999782398,0.014998423997478397,1.0,1.0,1.0,1.0,0.0799985279976448,1.0,1.0,1.0,0.3899990239984384,0.012998420797473277,0.002798404477447164,1.0,0.3099988959982336,0.09099854559767295,1.0,0.06099849759759616,1.0,1.0,1.0,1.0,1.0,1.0,1.0,1.0,1.0,0.549999279998848,1.0,1.0,1.0,1.0,0.06299850079760128,1.0,0.06399850239760384,1.0,1.0,0.039998463997542394,0.021998435197496315,1.0,1.0,1.0,0.04899847839756543,0.5299992479987968,1.0,1.0,1.0,1.0,1.0,1.0,1.0,1.0,0.001198401917443068,1.0,0.11999859199774718,0.001498402397443836,0.14999863999782398,0.3199989119982592,1.0,0.6599994559991296,1.0,1.0,1.0,1.0,0.07899852639764224,0.0003184005094408151,1.0,1.0,1.0,1.0,0.20999873599797758,0.012998420797473277,1.0,1.0,0.3399989439983104,1.0,1.0,1.0,0.11999859199774718,1.0,0.1399986239977984,0.15999865599784957,1.0,1.0,1.0,1.0,1.0,1.0,0.012998420797473277,0.4299990879985408,1.0,1.0,1.0,1.0,1.0,1.0,0.0012984020774433238,1.0,1.0,0.03899846239753983,1.0,1.0,1.0,1.0,1.0,1.0,1.0,1.0,0.20999873599797758,1.0,0.010998417597468155,1.0,1.0,1.0,0.4299990879985408,1.0,0.022998436797498877,1.0,1.0,0.10999857599772159,1.0,1.0,0.050998481597570554,1.0,1.0,1.0,1.0,0.021998435197496315,0.004798407677452284,0.00289840463744742,1.0,1.0,0.24999879999807997,1.0,1.0,1.0,0.014998423997478397,0.199998719997952,1.0,1.0,0.005798409277454844,1.0,1.0,0.0008784014054422488,0.03799846079753727,0.1299986079977728,0.058998494397591035,1.0,0.6199993919990272,1.0,0.0799985279976448,1.0,1.0,0.2599988159981056,1.0,0.17999868799790078,1.0,0.08199853119764992,1.0,1.0,0.08899854239766784,0.5699993119988992,1.0,1.0,1.0,1.0,1.0,0.21999875199800317,1.0,1.0,1.0,1.0,0.649999439999104,1.0,1.0,1.0,1.0,0.36999899199838715,1.0,1.0,1.0,0.09299854879767808,1.0,1.0,1.0,1.0,1.0,0.04299846879755007,1.0,1.0,0.00047840076544122465,1.0,1.0,1.0,1.0,0.3799990079984128,0.019998431997491198,1.0,1.0,1.0,1.0,1.0,1.0,1.0,0.14999863999782398,1.0,1.0,1.0,0.09899855839769343,1.0,1.0,1.0,1.0,1.0,1.0,1.0,1.0,1.0,1.0,0.2299987679980288,0.8599997759996416,0.23999878399805438,1.0,1.0,1.0,1.0,0.06699850719761152,1.0,1.0,1.0,6.34001014401623e-05,1.0,1.0,0.011998419197470715,1.0,1.0,0.029998447997516792,0.1399986239977984,0.07699852319763711,1.0,1.0,1.0,1.0,1.0,1.0,1.0,0.17999868799790078,1.0,0.5299992479987968,1.0,1.0,1.0,1.0,1.0,0.09399855039768064,1.0,1.0,1.0,1.0,1.0,1.0,1.0,1.0,1.0,0.03199845119752191,1.0,0.23999878399805438,1.0,1.0,1.0,1.0,1.0,0.45999913599861764,0.0002184003494405591,1.0,1.0,1.0,1.0,0.3299989279982848,1.0,1.0,1.0,1.0,1.0,1.0,1.0,1.0,1.0,0.35999897599836156,1.0,1.0,1.0,1.0,0.3399989439983104,1.0,0.0015984025574440918,0.0003484005574408919,1.0,1.0,0.4699991519986432,1.0,1.0,1.0,0.23999878399805438,0.2599988159981056,1.0,0.35999897599836156,1.0,0.0007384011814418903,1.0,1.0,1.0,0.14999863999782398,1.0,0.00010840017344027751,1.0,1.0,1.0,1.0,1.0,1.0,1.0,1.0,0.0004884007814412503,1.0,0.4699991519986432,1.0,0.040998465597544956,1.0,1.0,1.0,0.6799994879991809,1.0,1.0,1.0,0.04199846719754751,1.0,1.0,1.0,1.0,1.0,0.199998719997952,1.0,1.0,1.0,1.0,0.0008884014214422743,1.0,0.35999897599836156,0.010998417597468155,1.0,1.0,1.0,0.06399850239760384,1.0,1.0,0.3899990239984384,1.0,1.0,1.0,1.0,1.0,1.0,1.0,1.0,0.20999873599797758,1.0,1.0,1.0,1.0,1.0,0.016998427197483516,1.0,1.0,0.3799990079984128,1.0,1.0,1.0,1.0,0.051998483197573116,0.6299994079990529,1.0,1.0,1.0,1.0,1.0,1.0,1.0,1.0,1.0,0.1299986079977728,1.0,1.0,1.0,1.0,0.025998441597506552,1.0,0.24999879999807997,1.0,1.0,1.0,0.1299986079977728,0.008698413917462268,1.0,1.0,1.0,1.0,1.0,1.0,1.0,1.0,1.0,1.0,0.005598408957454332,0.44999911999859205,0.649999439999104,1.0,1.0,1.0,1.0,1.0,1.0,1.0,1.0,1.0,1.0,1.0,1.0,1.0,1.0,0.07599852159763455,1.0,1.0,1.0,1.0,1.0,1.0,0.09599855359768576,1.0,1.0,0.11999859199774718,1.0,1.0,0.10999857599772159,1.0,1.0,1.0,0.549999279998848,1.0,1.0,0.1699986719978752,0.03899846239753983,1.0,0.5399992639988224,1.0,0.1699986719978752,0.03399845439752703,0.0015984025574440918,0.0009884015814425303,0.4199990719985152,1.0,1.0,0.14999863999782398,1.0,0.199998719997952,1.0,1.0,0.021998435197496315,1.0,1.0,1.0,1.0,1.0,1.0,1.0,1.0,1.0,0.022998436797498877,1.0,1.0,1.0,0.7199995519992832,1.0,0.15999865599784957,0.040998465597544956,1.0,1.0,0.29999887999820796,0.0699985119976192,1.0,0.6899995039992064,0.4799991679986688,1.0,0.3099988959982336,1.0,1.0,1.0,0.09699855519768831,1.0,1.0,1.0,1.0,0.0068984110374576595,0.0003184005094408151,1.0,1.0,1.0,1.0,1.0,0.5899993439989504,1.0,1.0,1.0,1.0,1.0,1.0,1.0,1.0,1.0,0.00010840017344027751,0.019998431997491198,1.0,0.06299850079760128,0.10999857599772159,0.1299986079977728,1.0,0.17999868799790078,1.0,0.4899991839986944,1.0,0.24999879999807997,0.3099988959982336,1.0,1.0,1.0,0.029998447997516792,0.008198413117460987,1.0,0.0008984014374422999,1.0,0.0006484010374416599,0.399999039998464,1.0,1.0,0.2799988479981568,0.003098404957447932,1.0,1.0,1.0,0.03599845759753215,1.0,0.08399853439765503,1.0,0.004198406717450748,1.0,1.0,1.0,1.0,0.024998439997503997,0.022998436797498877,1.0,1.0,1.0,1.0,1.0,0.09399855039768064,1.0,0.549999279998848,1.0,1.0,1.0,1.0,1.0,1.0,1.0,1.0,1.0,1.0,1.0,1.0,1.0,0.10999857599772159,1.0,1.0,1.0,0.49999919999872,1.0,1.0,0.899999839999744,1.0,0.4099990559984896,1.0,0.7799996479994368,1.0,0.04999847999756799,1.0,0.027998444797511672,0.9099998559997696,0.001098401757442812,0.1299986079977728,1.0,1.0,1.0,0.051998483197573116,1.0,1.0,1.0,0.24999879999807997,1.0,1.0,1.0,1.0,1.0,1.0,1.0,1.0,1.0,1.0,1.0,1.0,1.0,1.0,1.0,0.001098401757442812,1.0,1.0,1.0,1.0,1.0,1.0,1.0,1.0,1.0,0.2599988159981056,1.0,0.1399986239977984,1.0,1.0,1.0,1.0,0.14999863999782398,1.0,1.0,0.00039840063744101987,1.0,1.0,1.0,1.0,1.0,1.0,1.0,1.0,0.3899990239984384,0.055998489597583356,1.0,0.7099995359992576,1.0,1.0,0.0068984110374576595,0.005798409277454844,0.0068984110374576595,1.0,1.0,1.0,0.03899846239753983,0.00539840863745382,1.0,1.0,1.0,0.011998419197470715,1.0,0.029998447997516792,1.0,1.0,1.0,0.5899993439989504,0.03599845759753215,1.0,1.0,1.0,1.0,1.0,1.0,1.0,1.0,1.0,1.0,1.0,1.0,1.0,1.0,1.0,1.0,1.0,0.1299986079977728,0.011998419197470715,1.0,0.004098406557450492,1.0,1.0,1.0,1.0,1.0,1.0,0.11999859199774718,1.0,1.0,1.0,1.0,1.0,1.0,1.0,1.0,1.0,1.0,1.0,1.0,1.0,0.022998436797498877,1.0,1.0,1.0,1.0,1.0,1.0,1.0,1.0,0.14999863999782398,0.017998428797486078,0.7899996639994624,1.0,0.015998425597480957,1.0,1.0,1.0,1.0,1.0,1.0,1.0,1.0,0.04599847359755775,1.0,1.0,1.0,0.0001684002694404311,1.0,1.0,1.0,1.0,1.0,1.0,1.0,1.0,1.0,1.0,1.0,1.0,1.0,1.0,1.0,1.0,1.0,0.799999679999488,1.0,1.0,1.0,1.0,1.0,0.018998430397488636,1.0,0.7299995679993088,0.0012984020774433238,0.03599845759753215,1.0,1.0,1.0,1.0,1.0,1.0,1.0,1.0,1.0,1.0,1.0,1.0,1.0,1.0,1.0,1.0,1.0,1.0,1.0,1.0,0.09199854719767551,1.0,0.6099993759990016,0.18999870399792637,1.0,1.0,1.0,1.0,1.0,1.0,0.014998423997478397,1.0,1.0,0.09399855039768064,1.0,4.740007584012134e-05,1.0,1.0,1.0,0.10999857599772159,0.018998430397488636,1.0,0.3299989279982848,0.49999919999872,1.0,1.0,1.0,1.0,1.0,1.0,0.2799988479981568,0.23999878399805438,1.0,0.011998419197470715,1.0,0.2299987679980288,1.0,1.0,1.0,1.0,0.016998427197483516,1.0,1.0,1.0,1.0,0.07299851679762688,0.2299987679980288,0.014998423997478397,1.0,1.0,1.0,0.17999868799790078,0.21999875199800317,0.08199853119764992,0.10999857599772159,1.0,0.0006584010534416854,1.0,1.0,1.0,1.0,1.0,1.0,1.0,1.0,0.0013984022374435798,1.0,1.0,1.0,1.0,0.036998459197534715,1.0,0.5899993439989504,0.07399851839762944,1.0,1.0,1.0,1.0,0.04299846879755007,1.0,1.0,1.0,1.0,1.0,1.0,1.0,1.0,0.0849985359976576,1.0,0.05399848639757824,1.0,0.0599984959975936,1.0,1.0,1.0,1.0,1.0,1.0,1.0,1.0,1.0,1.0,0.024998439997503997,1.0,0.35999897599836156,1.0,1.0,1.0,1.0,1.0,1.0,1.0,1.0,1.0,1.0,1.0,1.0,1.0,1.0,1.0,0.00539840863745382,1.0,0.06599850559760896,1.0,1.0,1.0,1.0,1.0,1.0,0.03199845119752191,1.0,1.0,0.14999863999782398,1.0,1.0,0.2599988159981056,1.0,1.0,0.1399986239977984,1.0,1.0,1.0,1.0,1.0,1.0,1.0,8.400013440021505e-06,0.00859841375746201,1.0,1.0,1.0,1.0,1.0,0.04999847999756799,1.0,1.0,1.0,1.0,0.0015984025574440918,1.0,0.00289840463744742,1.0,1.0,1.0,1.0,1.0,1.0,1.0,1.0,1.0,1.0,1.0,0.0006984011174417879,1.0,1.0,0.0599984959975936,1.0,1.0,1.0,1.0,1.0,1.0,1.0,1.0,1.0,1.0,1.0,0.17999868799790078,0.18999870399792637,0.021998435197496315,1.0,1.0,1.0,0.8699997919996671,1.0,1.0,1.0,1.0,0.10999857599772159,1.0,0.014998423997478397,1.0,0.1699986719978752,1.0,1.0,0.029998447997516792,1.0,1.0,0.4899991839986944,0.03899846239753983,1.0,0.0033984054374487,1.0,1.0,1.0,0.199998719997952,0.07599852159763455,1.0,1.0,1.0,1.0,1.0,1.0,0.018998430397488636,0.03799846079753727,1.0,1.0,1.0,0.06199849919759872,1.0,0.07499851999763199,1.0,1.0,0.7099995359992576,1.0,0.0009084014534423254,1.0,1.0,1.0,1.0,1.0,0.14999863999782398,0.17999868799790078,1.0,1.0,1.0,1.0,0.1699986719978752,0.004698407517452028,0.15999865599784957,1.0,0.099998559997696,1.0,0.9899999839999744,1.0,1.0,1.0,1.0,0.20999873599797758,1.0,1.0,0.013998422397475837,1.0,0.1399986239977984,0.1699986719978752,1.0,1.0,0.007598412157459451,0.18999870399792637,0.08199853119764992,0.0034984055974489558,1.0,0.1399986239977984,1.0,1.0,1.0,1.0,1.0,1.0,1.0,0.6599994559991296,1.0,0.0009284014854423768,0.199998719997952,1.0,1.0,0.03499845599752959,1.0,0.6099993759990016,1.0,1.0,1.0,1.0,1.0,1.0,1.0,1.0,0.0068984110374576595,1.0,1.0,1.0,0.00439840703745126,1.0,1.0,1.0,1.0,0.1699986719978752,0.007498411997459195,0.21999875199800317,1.0,0.199998719997952,1.0,1.0,1.0,0.006098409757455612,0.002498403997446396,1.0,0.08899854239766784,1.0,1.0,1.0,1.0,1.0,1.0,1.0,0.199998719997952,0.022998436797498877,1.0,1.0,1.0,1.0,1.0,0.06299850079760128,1.0,0.011998419197470715,0.0008784014054422488,1.0,1.0,1.0,0.5599992959988737,1.0,1.0,1.0,0.00959841535746457,0.2299987679980288,1.0,0.5399992639988224,1.0,1.0,1.0,1.0,1.0,1.0,1.0,1.0,1.0,1.0,0.006498410397456635,1.0,1.0,1.0,1.0,0.039998463997542394,1.0,1.0,1.0,0.009198414717463547,1.0,1.0,1.0,1.0,1.0,0.34999895999833597,0.0949985519976832,1.0,1.0,1.0,1.0,1.0,1.0,1.0,1.0,1.0,0.012998420797473277,1.0,1.0,0.11999859199774718,1.0,1.0,1.0,1.0,0.016998427197483516,1.0,0.1399986239977984,1.0,1.0,1.0,1.0,1.0,1.0,1.0,1.0,1.0,1.0,0.003298405277448444,1.0,1.0,1.0,0.4199990719985152,1.0,0.6799994879991809,1.0,1.0,1.0,0.2299987679980288,1.0,1.0,1.0,1.0,1.0,1.0,1.0,1.0,1.0,1.0,0.4899991839986944,0.013998422397475837,1.0,1.0,0.08799854079766528,0.0001784002854404567,1.0,4.540007264011622e-05,0.1299986079977728,0.3099988959982336,1.0,1.0,0.004198406717450748,0.0003184005094408151,1.0,1.0,0.004098406557450492,0.024998439997503997,1.0,1.0,0.05399848639757824,0.20999873599797758,0.1299986079977728,1.0,1.0,1.0,1.0,1.0,1.0,0.00639841023745638,0.11999859199774718,1.0,1.0,1.0,1.0,0.5799993279989248,1.0,1.0,0.34999895999833597,1.0,1.0,7.700012320019712e-06,0.08099852959764736,0.399999039998464,0.06799850879761407,1.0,1.0,1.0,1.0,0.009898415837465339,0.1399986239977984,0.04699847519756031,1.0,1.0,1.0,1.0,1.0,1.0,0.4399991039985664,1.0,0.6899995039992064,0.00039840063744101987,1.0,1.0,1.0,1.0,1.0,0.0002084003334405335,0.00024840039744063587,1.0,1.0,1.0,1.0,1.0,1.0,1.0,1.0,0.06799850879761407,1.0,1.0,1.0,0.08899854239766784,1.0,1.0,1.0,0.4899991839986944,1.0,0.0003184005094408151,0.1699986719978752,0.015998425597480957,0.001198401917443068,1.0,0.1699986719978752,1.0,1.0,1.7400027840044543e-05,1.0,1.0,1.0,1.0,0.0083984134374615,0.34999895999833597,0.34999895999833597,0.019998431997491198,1.0,1.0,0.44999911999859205,1.0,1.0,1.0,0.2799988479981568,0.2799988479981568,0.23999878399805438,1.0,1.0,1.0,1.0,0.09299854879767808,1.0,1.0,0.2299987679980288,0.04999847999756799,1.0,1.0,0.04899847839756543,1.0,1.0,1.0,1.0,0.05699849119758592,1.0,0.0033984054374487,1.0,1.0,1.0,1.0,1.0,1.0,1.0,1.0,1.0,1.0,1.0,1.0,1.0,0.4199990719985152,1.0,1.0,1.0,0.03399845439752703,0.019998431997491198,1.0,1.0,1.0,1.0,0.007998412797460474,1.0,1.0,0.016998427197483516,1.0,0.09399855039768064,1.0,1.0,0.006098409757455612,0.49999919999872,1.0,1.0,1.0,1.0,1.0,1.0,0.28999886399818237,0.0015984025574440918,1.0,0.002298403677445884,1.0,1.0,0.0008884014214422743,1.0,1.0,0.11999859199774718,1.0,1.0,1.0,0.011998419197470715,1.0,1.0,0.007498411997459195,0.2799988479981568,0.35999897599836156,1.0,1.0,1.0,0.5099992159987456,1.0,1.0,1.0,0.11999859199774718,0.14999863999782398,1.0,0.09699855519768831,0.003598405757449212,1.0,1.0,1.0,1.0,1.0,1.0,1.0,1.0,0.0004084006534410455,1.0,0.4799991679986688,0.06799850879761407,1.0,1.0,0.29999887999820796,1.0,1.0,1.0,0.002598404157446652,1.0,1.0,1.0,0.14999863999782398,0.07699852319763711,1.0,1.0,1.0,0.29999887999820796,0.0799985279976448,1.0,1.0,1.0,1.0,1.0,1.0,0.03199845119752191,1.0,1.0,0.2699988319981312,1.0,1.0,1.0,1.0,0.6799994879991809,1.0,0.003298405277448444,1.0,1.0,1.0,1.0,1.0,1.0,1.0,1.0,1.0,1.0,1.0,1.0,1.0,1.0,0.24999879999807997,0.1399986239977984,1.0,1.0,1.0,1.0,1.0,1.0,1.0,1.0,1.0,1.0,1.0,1.0,1.0,1.0,1.0,1.0,1.0,1.0,1.0,1.0,0.025998441597506552,1.0,1.0,1.0],\"xaxis\":\"x\",\"yaxis\":\"y\",\"type\":\"histogram\"},{\"alignmentgroup\":\"True\",\"hovertemplate\":\"variable=Y\\u003cbr\\u003evalue=%{x}\\u003cextra\\u003e\\u003c\\u002fextra\\u003e\",\"legendgroup\":\"Y\",\"marker\":{\"color\":\"#636efa\"},\"name\":\"Y\",\"notched\":true,\"offsetgroup\":\"Y\",\"showlegend\":false,\"x\":[1.0,1.0,1.0,1.0,0.5399992639988224,1.0,0.18999870399792637,0.15999865599784957,1.0,1.0,1.0,0.043998470397552635,1.0,1.0,0.17999868799790078,1.0,1.0,1.0,1.0,1.0,0.07599852159763455,1.0,1.0,1.0,1.0,1.0,0.2299987679980288,0.06899851039761663,1.0,1.0,1.0,1.0,1.0,0.28999886399818237,1.0,1.0,1.0,0.2799988479981568,0.010998417597468155,1.0,1.0,1.0,1.0,1.0,1.0,1.0,0.0007084011334418135,1.0,1.0,0.019998431997491198,1.0,1.0,1.0,1.0,1.0,0.009098414557463292,1.0,1.0,0.0005484008774414039,1.0,0.009998415997465595,1.0,1.0,1.0,0.00639841023745638,1.0,1.0,1.0,1.0,1.0,1.0,1.0,1.0,1.0,1.0,1.0,0.04599847359755775,0.2799988479981568,1.0,0.11999859199774718,1.0,0.23999878399805438,0.3399989439983104,1.0,1.0,0.019998431997491198,0.11999859199774718,1.0,0.020998433597493756,1.0,1.0,1.0,1.0,1.0,0.09399855039768064,0.006798410877457403,1.0,1.0,1.0,0.0006584010534416854,1.0,1.0,1.0,1.0,1.0,0.00038840062144099427,1.0,1.0,1.0,1.0,1.0,1.0,0.3099988959982336,0.0002184003494405591,0.2299987679980288,1.0,1.0,1.0,1.0,1.0,1.0,1.0,0.03399845439752703,1.0,1.0,1.0,1.0,1.0,1.0,1.0,0.002798404477447164,9.84001574402519e-05,1.0,1.0,0.003598405757449212,1.0,1.0,1.0,1.0,0.7199995519992832,0.399999039998464,1.0,0.10999857599772159,0.055998489597583356,0.001198401917443068,1.0,1.0,1.0,1.0,1.0,1.0,0.6899995039992064,1.0,0.34999895999833597,0.00489840783745254,1.0,1.0,1.0,1.0,1.0,1.0,1.0,0.1299986079977728,0.039998463997542394,0.003198405117448188,1.0,0.1399986239977984,1.0,0.018998430397488636,0.849999759999616,1.0,1.0,1.0,1.0,1.0,1.0,1.0,1.0,1.0,1.0,1.0,1.0,1.0,1.0,0.010998417597468155,0.10999857599772159,1.0,0.10999857599772159,1.0,0.0799985279976448,1.0,1.0,1.0,1.0,0.4899991839986944,1.0,0.029998447997516792,1.0,1.0,1.0,1.0,1.0,1.0,0.004498407197451516,1.0,1.0,1.0,1.0,0.00239840383744614,1.0,0.05299848479757568,0.004698407517452028,1.0,1.0,1.0,1.0,1.0,1.0,1.0,1.0,1.0,0.18999870399792637,1.0,1.0,1.0,1.0,0.4299990879985408,1.0,1.0,0.002598404157446652,1.0,1.0,0.14999863999782398,1.0,1.0,1.0,1.0,1.0,1.0,0.4299990879985408,1.0,1.0,0.017998428797486078,1.0,0.0001484002374403799,1.0,1.0,1.0,1.0,1.0,0.008498413597461755,0.020998433597493756,0.399999039998464,0.012998420797473277,1.0,0.0012984020774433238,1.0,1.0,1.0,1.0,0.29999887999820796,1.0,1.0,1.0,1.0,1.0,1.0,1.0,1.0,1.0,1.0,1.0,1.0,1.0,0.1399986239977984,1.0,1.0,0.0001484002374403799,1.0,1.0,1.0,1.0,1.0,1.0,1.0,1.0,1.0,0.00189840303744486,1.0,1.0,1.0,1.0,1.0,1.0,1.0,1.0,0.009998415997465595,1.0,1.0,1.0,0.4399991039985664,1.0,1.0,1.0,1.0,1.0,0.00389840623744998,1.0,1.0,1.0,1.0,1.0,0.15999865599784957,1.0,1.0,1.0,0.019998431997491198,0.09099854559767295,1.0,1.0,1.0,0.28999886399818237,1.0,1.0,1.0,1.0,1.0,0.00859841375746201,1.0,1.0,1.0,1.0,1.0,1.0,1.0,0.026998443197509114,1.0,0.016998427197483516,1.0,1.0,1.0,0.001698402717444348,1.0,0.3399989439983104,1.0,1.0,1.0,1.0,0.00239840383744614,0.0599984959975936,0.010998417597468155,1.0,1.0,0.20999873599797758,1.0,0.016998427197483516,1.0,1.0,0.36999899199838715,1.0,0.013998422397475837,0.047998476797562875,1.0,1.0,1.0,0.099998559997696,1.0,0.018998430397488636,1.0,1.0,0.025998441597506552,1.0,1.0,1.0,0.6299994079990529,1.0,1.0,1.0,1.0,1.0,1.0,1.0,1.0,1.0,1.0,1.0,0.021998435197496315,0.0033984054374487,1.0,0.9599999359998976,1.0,1.0,0.0006284010054416086,1.0,1.0,1.0,0.23999878399805438,1.0,1.0,1.0,1.0,1.0,1.0,1.0,0.040998465597544956,1.0,0.0003084004934407895,1.0,1.0,0.043998470397552635,1.0,0.08299853279765247,1.0,1.0,1.0,1.0,0.21999875199800317,1.0,1.0,1.0,1.0,1.0,1.0,0.18999870399792637,0.18999870399792637,0.09299854879767808,1.0,1.0,0.0006484010374416599,1.0,1.0,0.18999870399792637,1.0,1.0,1.0,1.0,1.0,1.0,0.030998449597519354,1.0,1.0,1.0,1.0,0.0649985039976064,1.0,1.0,0.06099849759759616,0.4399991039985664,0.030998449597519354,1.0,1.0,1.0,1.0,0.003798406077449724,1.0,1.0,0.002698404317446908,0.2299987679980288,1.0,1.0,0.0008984014374422999,1.0,0.055998489597583356,1.0,1.0,0.4399991039985664,1.0,1.0,5.5400088640141815e-05,1.0,2.0400032640052226e-05,1.0,1.0,1.0,0.34999895999833597,1.0,1.0,1.0,0.18999870399792637,1.0,1.0,1.0,0.020998433597493756,1.0,1.0,1.0,1.0,1.0,0.7499995999993601,1.0,1.0,1.0,0.5799993279989248,1.0,0.07899852639764224,1.0,1.0,0.1699986719978752,1.0,1.0,1.0,1.0,1.0,1.0,1.0,1.0,0.021998435197496315,1.0,1.0,1.0,1.0,1.0,1.0,0.007098411357458171,1.0,1.0,1.0,0.014998423997478397,0.03399845439752703,1.0,0.08399853439765503,0.0003084004934407895,1.0,0.4799991679986688,0.099998559997696,0.030998449597519354,0.2299987679980288,1.0,1.0,1.0,0.022998436797498877,0.07399851839762944,1.0,1.0,0.005998409597455356,1.0,1.0,0.399999039998464,0.03399845439752703,1.0,1.0,1.0,1.0,1.0,1.0,1.0,1.0,0.001698402717444348,0.015998425597480957,1.0,1.0,1.0,0.18999870399792637,1.0,1.0,0.002598404157446652,1.0,1.0,1.0,0.099998559997696,1.0,0.24999879999807997,1.0,1.0,1.0,0.010998417597468155,0.28999886399818237,1.0,1.0,1.0,1.0,1.0,0.002798404477447164,1.0,1.0,1.0,0.2599988159981056,0.1399986239977984,0.0599984959975936,1.0,0.10999857599772159,0.4199990719985152,1.0,1.0,1.0,1.0,1.0,0.0003284005254408407,1.0,0.005298408477453564,1.0,1.0,1.0,1.0,1.0,1.0,1.0,1.0,0.20999873599797758,1.0,1.0,1.0,0.05699849119758592,0.2599988159981056,0.00039840063744101987,0.1399986239977984,1.0,1.0,1.0,0.04299846879755007,1.0,1.0,1.0,1.0,1.0,1.0,1.0,1.0,1.0,1.0,1.0,1.0,1.0,1.0,0.199998719997952,1.0,1.0,1.0,0.4199990719985152,0.09299854879767808,1.0,1.0,1.0,1.0,1.0,1.0,1.0,1.0,0.0005084008134413014,0.099998559997696,1.0,1.0,1.0,0.0061984099174558676,1.0,1.0,1.0,1.0,1.0,1.0,0.019998431997491198,1.0,1.0,1.0,0.1699986719978752,1.0,1.0,0.4399991039985664,0.1299986079977728,1.0,1.0,1.0,1.0,1.0,1.0,1.0,0.04599847359755775,0.28999886399818237,1.0,1.0,0.2799988479981568,0.28999886399818237,1.0,1.0,1.0,1.0,1.0,0.23999878399805438,1.0,1.0,1.0,1.0,0.4899991839986944,1.0,1.0,1.0,0.0008284013254421207,0.006698410717457147,1.0,1.0,1.0,1.0,0.3199989119982592,0.10999857599772159,0.05399848639757824,1.0,1.0,1.0,1.0,0.099998559997696,1.0,1.0,1.0,1.0,1.0,0.24999879999807997,0.649999439999104,1.0,1.0,1.0,0.0004084006534410455,1.0,1.0,1.0,0.016998427197483516,1.0,0.2799988479981568,1.0,1.0,1.0,1.0,1.0,1.0,1.0,0.2699988319981312,1.0,0.20999873599797758,1.0,1.0,0.21999875199800317,1.0,1.0,1.0,1.0,1.0,0.2599988159981056,0.002598404157446652,1.0,1.0,1.0,1.0,1.0,1.0,1.0,1.0,1.0,0.07399851839762944,1.0,1.0,1.0,1.0,1.0,1.0,1.0,0.039998463997542394,0.09899855839769343,1.0,0.23999878399805438,1.0,1.0,0.8599997759996416,1.0,0.5299992479987968,1.0,1.0,1.0,0.00389840623744998,1.0,1.0,1.0,0.18999870399792637,0.1699986719978752,1.0,0.00047840076544122465,1.0,1.0,0.10999857599772159,0.011998419197470715,1.0,0.2799988479981568,1.0,0.07599852159763455,1.0,1.0,1.0,0.029998447997516792,1.0,0.036998459197534715,1.0,1.0,1.0,0.09399855039768064,1.0,0.023998438397501435,1.0,1.0,1.0,1.0,1.0,1.0,2.3400037440059902e-05,1.0,1.0,1.0,1.0,1.0,1.0,0.0056984091174545875,1.0,0.001198401917443068,1.0,1.0,0.34999895999833597,1.0,1.0,1.0,1.0,1.0,1.0,1.0,0.1699986719978752,1.0,1.0,1.0,1.0,1.0,0.005598408957454332,1.0,1.0,1.0,1.0,0.0849985359976576,1.0,0.0001784002854404567,0.004598407357451772,1.0,1.0,0.7299995679993088,1.0,1.0,1.0,9.440015104024165e-05,1.0,1.0,1.0,0.099998559997696,1.0,0.7299995679993088,1.0,1.0,1.0,1.0,0.0004484007174411479,1.0,0.21999875199800317,1.0,1.0,1.0,1.0,1.0,1.0,0.11999859199774718,1.0,0.03499845599752959,1.0,1.0,1.0,0.023998438397501435,0.549999279998848,1.0,1.0,1.0,0.5099992159987456,1.0,1.0,0.4199990719985152,1.0,0.009498415197464315,1.0,0.8699997919996671,1.0,1.0,1.0,0.15999865599784957,1.0,1.0,0.00289840463744742,1.0,1.0,0.023998438397501435,0.199998719997952,1.0,1.0,1.0,1.0,1.0,1.0,1.0,0.010998417597468155,0.0015984025574440918,1.0,0.6799994879991809,1.0,1.0,0.0949985519976832,1.0,1.0,1.0,1.0,0.8399997439995904,1.0,1.0,1.0,1.0,0.28999886399818237,1.0,1.0,0.0006584010534416854,1.0,1.0,0.050998481597570554,1.0,1.0,1.0,0.799999679999488,1.0,1.0,0.23999878399805438,0.012998420797473277,1.0,0.04299846879755007,0.001998403197445116,1.0,1.0,1.0,1.0,1.0,1.0,1.0,1.0,0.7499995999993601,1.0,1.0,1.0,0.0002884004614407383,0.08299853279765247,1.0,1.0,1.0,1.0,1.0,1.0,1.0,1.0,1.0,0.099998559997696,1.0,0.007898412637460219,1.0,1.0,1.0,1.0,1.0,1.0,1.0,1.0,1.0,1.0,1.0,0.2299987679980288,0.199998719997952,1.0,1.0,0.699999519999232,1.0,0.011998419197470715,0.002098403357445372,0.07399851839762944,0.016998427197483516,1.0,1.0,1.0,1.0,1.0,1.0,0.199998719997952,1.0,1.0,0.099998559997696,0.5399992639988224,0.004598407357451772,1.0,0.011998419197470715,0.04599847359755775,0.007498411997459195,5.040008064012902e-05,1.0,1.0,1.0,1.0,1.0,1.0,0.011998419197470715,1.0,1.0,1.0,0.09299854879767808,1.0,1.0,1.0,0.00639841023745638,0.2599988159981056,1.0,0.18999870399792637,1.0,1.0,0.18999870399792637,1.0,0.03599845759753215,0.1399986239977984,6.540010464016743e-05,1.0,1.0,1.0,0.04899847839756543,1.0,1.0,1.0,1.0,1.0,1.0,0.10999857599772159,1.0,1.0,1.0,0.058998494397591035,1.0,0.099998559997696,1.0,1.0,1.0,1.0,1.0,1.0,0.0849985359976576,0.03199845119752191,1.0,0.5699993119988992,1.0,1.0,1.0,1.0,1.0,1.0,1.0,1.0,0.00015840025344040552,1.0,1.0,1.0,1.0,1.0,1.0,1.0,1.0,1.0,0.0013984022374435798,0.002798404477447164,1.0,1.0,1.0,1.0,1.0,1.0,1.0,1.0,1.0,1.0,0.14999863999782398,0.005498408797454076,0.4399991039985664,0.09899855839769343,1.0,1.0,0.4099990559984896,1.0,1.0,1.0,1.0,0.013998422397475837,1.0,1.0,1.0,1.0,1.0,1.0,1.0,1.0,1.0,1.0,0.00037840060544096866,0.6799994879991809,1.0,0.15999865599784957,1.0,1.0,0.047998476797562875,1.0,0.3299989279982848,0.2299987679980288,0.010998417597468155,1.0,1.0,1.0,1.0,8.140013024020837e-05,0.013998422397475837,1.0,1.0,1.0,1.0,0.026998443197509114,1.0,0.14999863999782398,1.0,1.0,1.0,0.04499847199755519,0.44999911999859205,1.0,1.0,0.010998417597468155,0.14999863999782398,1.0,0.04699847519756031,0.6799994879991809,1.0,1.0,1.0,1.0,1.0,1.0,1.0,1.0,1.0,1.0,1.0,1.0,0.23999878399805438,1.0,1.0,0.6899995039992064,1.0,0.2599988159981056,1.0,0.8799998079996928,1.0,1.0,1.0,0.199998719997952,1.0,1.0,1.0,1.0,1.0,0.0007684012294419671,0.04499847199755519,1.0,0.11999859199774718,1.0,1.0,0.0013984022374435798,1.0,1.0,1.0,1.0,1.0,1.0,0.0061984099174558676,1.0,1.0,1.0,1.0,1.0,0.9299998879998208,1.0,0.03399845439752703,1.0,0.2799988479981568,0.11999859199774718,0.0007384011814418903,1.0,0.3299989279982848,0.025998441597506552,1.0,1.0,0.899999839999744,0.0849985359976576,0.00939841503746406,1.0,1.0,0.0006584010534416854,0.2699988319981312,1.0,1.0,1.0,1.0,1.0,1.0,0.006298410077456124,1.0,1.0,1.0,0.5699993119988992,1.0,0.3099988959982336,1.0,1.0,1.0,1.0,1.0,0.05799849279758848,1.0,1.0,1.0,1.0,1.0,1.0,1.0,1.0,0.06899851039761663,0.3299989279982848,0.014998423997478397,1.0,0.003298405277448444,0.03199845119752191,1.0,1.0,0.0799985279976448,1.0,0.00038840062144099427,1.0,0.0003184005094408151,1.0,1.0,1.0,1.0,1.0,1.0,0.24999879999807997,0.18999870399792637,1.0,1.0,1.0,1.0,0.11999859199774718,0.10999857599772159,1.0,1.0,1.0,1.0,0.002098403357445372,5.5400088640141815e-05,1.0,1.0,0.006598410557456891,0.0013984022374435798,1.0,0.002098403357445372,0.1299986079977728,1.0,0.040998465597544956,0.010998417597468155,0.199998719997952,1.0,1.0,0.099998559997696,1.0,0.36999899199838715,1.640002624004198e-05,0.003298405277448444,1.0,1.0,0.09399855039768064,1.0,0.027998444797511672,0.21999875199800317,1.0,0.4399991039985664,1.0,1.0,1.0,0.9299998879998208,1.0,0.0005084008134413014,1.0,0.24999879999807997,1.0,1.0,1.0,1.0,1.0,0.11999859199774718,1.0,1.0,1.0,1.0,0.1299986079977728,1.0,0.001998403197445116,1.0,1.0,1.0,1.0,1.0,0.0008984014374422999,0.014998423997478397,0.025998441597506552,0.004098406557450492,1.0,1.0,1.0,1.0,1.0,1.0,1.0,1.0,1.0,1.0,1.0,1.0,0.5799993279989248,0.00289840463744742,1.0,1.0,1.0,1.0,0.018998430397488636,0.002198403517445628,1.0,1.0,1.0,1.0,1.0,1.0,1.0,1.0,1.0,1.0,1.0,1.0,0.013998422397475837,1.0,0.11999859199774718,1.0,0.0056984091174545875,0.017998428797486078,0.10999857599772159,1.0,0.0006784010854417366,1.0,0.1699986719978752,1.0,1.0,1.0,1.0,0.10999857599772159,0.017998428797486078,1.0,1.0,1.0,1.0,1.0,1.0,1.0,0.00539840863745382,1.0,0.016998427197483516,1.0,1.0,0.18999870399792637,0.21999875199800317,0.36999899199838715,1.0,0.9699999519999232,1.0,1.0,1.0,1.0,0.06699850719761152,0.03799846079753727,1.0,1.0,1.0,1.0,1.0,0.49999919999872,1.0,0.001098401757442812,0.020998433597493756,1.0,1.0,1.0,1.0,1.0,0.028998446397514234,1.0,1.0,1.0,1.0,0.019998431997491198,1.0,1.0,0.1399986239977984,0.6899995039992064,1.0,1.0,0.2699988319981312,1.0,0.009998415997465595,1.0,1.0,1.0,1.0,1.0,1.0,1.0,1.0,1.0,1.0,1.0,1.0,1.0,1.0,0.1399986239977984,1.0,1.0,1.0,1.0,1.0,1.0,1.0,0.28999886399818237,1.0,0.009998415997465595,0.36999899199838715,0.007198411517458427,0.0003084004934407895,1.0,1.0,1.0,0.001098401757442812,1.0,0.026998443197509114,1.0,0.199998719997952,0.5099992159987456,0.07399851839762944,0.00289840463744742,0.23999878399805438,1.0,1.0,1.0,0.019998431997491198,1.0,0.5899993439989504,1.0,1.0,1.0,1.0,1.0,1.0,1.0,1.0,1.0,0.007698412317459707,1.0,0.005598408957454332,1.0,1.0,1.0,1.2400019840031744e-05,1.0,0.011998419197470715,1.0,1.0,1.0,1.0,1.0,0.5899993439989504,1.0,1.0,1.0,0.36999899199838715,0.0949985519976832,1.0,1.0,1.0,0.0012984020774433238,1.0,1.0,1.0,1.0,0.003998406397450236,1.0,1.0,1.0,0.011998419197470715,0.00439840703745126,1.0,1.0,1.0,1.0,1.0,1.0,1.0,1.0,0.0005584008934414295,1.0,0.03499845599752959,0.8099996959995136,1.0,1.0,1.0,1.0,0.018998430397488636,0.010998417597468155,0.022998436797498877,1.0,1.0,0.018998430397488636,1.0,1.0,0.7099995359992576,1.0,1.0,1.0,0.025998441597506552,0.051998483197573116,1.0,1.0,1.0,1.0,1.0,0.20999873599797758,1.0,1.0,1.0,1.0,0.10999857599772159,1.0,1.0,1.0,1.0,1.0,1.0,1.0,0.0004684007494411991,1.0,0.11999859199774718,0.17999868799790078,1.0,1.0,1.0,0.008698413917462268,0.28999886399818237,1.0,0.29999887999820796,1.0,1.0,1.0,1.0,0.03499845599752959,1.0,0.2699988319981312,1.0,1.0,1.0,0.024998439997503997,0.001198401917443068,1.0,0.028998446397514234,0.2599988159981056,1.0,1.0,1.0,0.4199990719985152,0.5299992479987968,0.019998431997491198,1.0,0.058998494397591035,1.0,1.0,0.006098409757455612,0.04199846719754751,1.0,1.0,0.21999875199800317,0.004098406557450492,1.0,1.0,1.0,1.0,1.0,0.06099849759759616,1.0,1.0,1.0,1.0,1.0,1.0,1.0,0.007698412317459707,1.0,1.0,1.0,1.0,1.0,1.0,1.0,0.2699988319981312,0.032998452797524475,0.3399989439983104,1.0,0.17999868799790078,1.0,1.0,0.07399851839762944,1.0,1.0,1.0,1.0,1.0,1.0,0.36999899199838715,0.040998465597544956,1.0,1.0,1.0,1.0,0.4799991679986688,1.0,1.0,1.0,0.016998427197483516,1.0,1.0,1.0,0.001198401917443068,0.054998487997580794,1.0,1.0,1.0,1.0,0.0949985519976832,1.0,1.0,1.0,0.8699997919996671,1.0,0.020998433597493756,1.0,0.3899990239984384,0.099998559997696,0.2599988159981056,1.0,1.0,0.022998436797498877,1.0,1.0,1.0,8.140013024020837e-05,1.0,1.0,1.0,1.0,1.0,1.0,1.0,1.0,0.016998427197483516,1.0,1.0,1.0,0.008898414237462779,0.023998438397501435,0.10999857599772159,1.0,1.0,1.0,1.0,0.5199992319987712,1.0,0.011998419197470715,1.0,0.09699855519768831,1.0,0.001198401917443068,1.0,1.0,0.03899846239753983,1.0,0.025998441597506552,0.3099988959982336,1.0,1.0,1.0,0.06299850079760128,1.0,1.0,1.0,1.0,0.0003084004934407895,1.0,1.0,1.0,1.0,1.0,1.0,1.0,1.0,1.0,0.00189840303744486,0.10999857599772159,1.0,1.0,0.17999868799790078,0.039998463997542394,1.0,1.0,1.0,0.11999859199774718,1.0,0.10999857599772159,1.0,1.0,1.0,1.0,1.0,0.015998425597480957,0.03899846239753983,1.0,1.0,1.0,1.0,1.0,0.199998719997952,1.0,1.0,1.0,1.0,1.0,1.0,1.0,1.0,1.0,0.004498407197451516,1.0,1.0,1.0,1.0,1.0,1.0,1.0,1.0,0.6399994239990784,0.44999911999859205,1.0,1.0,0.099998559997696,1.0,1.0,1.0,1.0,1.0,1.0,0.2699988319981312,1.0,0.050998481597570554,1.0,9.140014624023398e-05,0.3899990239984384,1.0,0.055998489597583356,1.0,0.08999854399767039,1.0,0.2299987679980288,1.0,1.0,1.0,0.03499845599752959,1.0,1.0,1.0,1.0,1.0,1.0,0.2299987679980288,1.0,1.0,1.0,1.0,0.29999887999820796,1.0,1.0,1.0,0.10999857599772159,0.010998417597468155,1.0,1.0,1.0,1.0,0.003598405757449212,1.0,1.0,1.0,1.0,1.0,1.0,0.0015984025574440918,0.017998428797486078,1.0,1.0,1.0,1.0,0.0,1.0,1.0,1.0,1.0,1.0,0.00026840042944068713,1.0,1.0,1.0,1.0,0.03599845759753215,1.0,1.0,1.0,1.0,1.0,1.0,0.14999863999782398,1.0,1.0,1.0,0.00439840703745126,0.021998435197496315,1.0,1.0,1.0,0.04299846879755007,1.0,1.0,0.0013984022374435798,1.0,1.0,1.0,1.0,1.0,1.0,1.0,0.06199849919759872,0.2299987679980288,1.0,0.0849985359976576,1.0,1.0,1.0,1.0,1.0,0.11999859199774718,0.5699993119988992,0.016998427197483516,1.0,0.054998487997580794,0.00489840783745254,0.36999899199838715,1.0,1.0,1.0,1.0,1.0,1.0,1.0,1.0,1.0,0.013998422397475837,1.0,1.0,1.0,0.4199990719985152,1.0,0.06399850239760384,1.0,1.0,1.0,0.00539840863745382,1.0,0.0061984099174558676,0.014998423997478397,0.4399991039985664,0.03799846079753727,1.0,1.0,1.0,1.0,1.0,0.17999868799790078,1.0,1.0,1.0,1.0,0.04699847519756031,1.0,1.0,0.18999870399792637,0.0001284002054403287,1.0,1.0,1.0,1.0,1.0,1.0,1.0,1.0,1.0,1.0,1.0,0.009998415997465595,0.36999899199838715,1.0,1.0,1.0,1.0,0.4699991519986432,1.0,1.0,0.030998449597519354,1.0,1.0,1.0,1.0,0.010998417597468155,0.1299986079977728,0.009998415997465595,1.0,1.0,1.0,0.3299989279982848,1.0,1.0,1.0,1.0,1.0,1.0,1.0,0.002698404317446908,1.0,0.3099988959982336,1.0,1.0,1.0,1.0,0.0008484013574421719,0.18999870399792637,1.0,1.0,0.10999857599772159,0.050998481597570554,1.0,0.5199992319987712,0.06199849919759872,0.11999859199774718,1.0,0.007498411997459195,1.0,1.0,0.3099988959982336,1.0,1.0,0.06199849919759872,0.2599988159981056,1.0,1.0,0.3799990079984128,1.0,1.0,1.0,1.0,1.0,0.4399991039985664,1.0,1.0,0.019998431997491198,1.0,1.0,1.0,1.0,1.0,1.0,1.0,0.7099995359992576,1.0,1.0,1.0,1.0,1.0,1.0,0.2799988479981568,1.0,1.0,1.0,1.0,0.005498408797454076,0.008198413117460987,0.07299851679762688,1.0,1.0,1.0,0.099998559997696,1.0,1.0,1.0,1.0,1.0,1.0,1.0,1.0,1.0,1.0,0.7199995519992832,1.0,1.0,0.019998431997491198,1.0,1.0,1.0,0.008998414397463034,1.0,0.7099995359992576,1.0,1.0,1.0,1.0,1.0,1.0,1.0,1.0,1.0,0.549999279998848,1.0,0.015998425597480957,1.0,1.0,1.0,1.0,0.024998439997503997,1.0,1.0,1.0,1.0,1.0,0.07799852479763968,1.0,1.0,1.0,1.0,1.0,1.0,1.0,1.0,0.04299846879755007,0.14999863999782398,0.039998463997542394,1.0,1.0,0.030998449597519354,1.0,0.04299846879755007,0.0013984022374435798,1.0,1.0,1.0,1.0,1.0,1.0,1.0,1.0,0.00010840017344027751,1.0,0.34999895999833597,1.0,1.0,1.0,1.0,5.640009024014438e-05,1.0,1.0,0.00189840303744486,1.0,1.0,0.1299986079977728,1.0,1.0,1.0,1.0,0.1399986239977984,1.0,1.0,1.0,1.0,1.0,0.0002884004614407383,1.0,0.04599847359755775,1.0,1.0,0.017998428797486078,1.0,1.0,1.0,1.0,0.06599850559760896,1.0,0.1399986239977984,1.0,0.9599999359998976,1.0,0.015998425597480957,0.0017984028774446041,1.0,1.0,1.0,1.0,1.0,0.2699988319981312,1.0,1.0,1.0,1.0,1.0,1.0,1.0,0.009998415997465595,1.0,1.0,1.0,1.0,1.0,1.0,0.10999857599772159,1.0,1.0,1.0,1.0,0.3199989119982592,1.0,1.0,0.017998428797486078,1.0,1.0,0.0008384013414421463,0.3799990079984128,1.0,1.0,1.0,1.0,1.0,0.0005784009254414807,0.2599988159981056,1.0,1.0,0.006498410397456635,0.043998470397552635,1.0,0.043998470397552635,0.001098401757442812,0.04699847519756031,1.0,1.0,1.0,0.2299987679980288,0.00439840703745126,1.0,1.0,0.1699986719978752,1.0,1.0,1.0,1.0,0.06199849919759872,1.0,1.0,0.03199845119752191,1.0,0.2599988159981056,1.0,0.11999859199774718,0.2599988159981056,1.0,0.3799990079984128,1.0,0.04199846719754751,0.6699994719991552,1.0,0.4699991519986432,0.11999859199774718,0.00289840463744742,1.0,1.0,1.0,0.5199992319987712,1.0,0.04199846719754751,1.0,1.0,1.0,1.0,1.0,1.0,1.0,0.11999859199774718,1.0,1.0,0.001698402717444348,1.0,0.08699853919766272,1.0,1.0,1.0,1.0,0.021998435197496315,1.0,0.35999897599836156,1.0,1.0,1.0,1.0,1.0,1.0,1.0,1.0,1.0,0.0009584015334424534,1.0,1.0,1.0,1.0,1.0,0.7199995519992832,0.199998719997952,1.0,1.0,1.0,1.0,1.0,0.026998443197509114,1.0,0.1699986719978752,0.17999868799790078,1.0,1.0,1.0,0.11999859199774718,0.0799985279976448,1.0,0.18999870399792637,1.0,0.6899995039992064,1.0,0.00859841375746201,1.0,1.0,0.054998487997580794,0.4299990879985408,1.0,1.0,1.0,0.3199989119982592,1.0,1.0,1.0,1.0,1.0,1.0,1.0,0.4699991519986432,1.0,1.0,1.0,1.0,1.0,1.0,1.0,1.0,1.0,1.0,1.0,1.0,1.0,0.008998414397463034,0.11999859199774718,1.0,1.0,1.0,0.1299986079977728,1.0,1.0,1.0,1.0,0.005998409597455356,1.0,1.0,0.17999868799790078,1.0,1.0,0.054998487997580794,0.4699991519986432,0.05399848639757824,1.0,1.0,1.0,1.0,0.17999868799790078,1.0,1.0,1.0,1.0,1.0,1.0,1.0,1.0,1.0,0.006998411197457915,0.011998419197470715,0.09399855039768064,1.0,1.0,1.0,1.0,1.0,0.0006984011174417879,1.0,1.0,0.199998719997952,1.0,0.1699986719978752,1.0,1.0,1.0,1.0,1.0,0.026998443197509114,1.0,1.0,0.002298403677445884,1.0,1.0,1.0,1.0,0.03899846239753983,1.0,1.0,1.0,0.18999870399792637,1.0,1.0,0.09099854559767295,1.0,1.0,1.0,1.0,1.0,1.0,1.0,1.0,1.0,1.0,0.021998435197496315,1.0,1.0,1.0,0.36999899199838715,0.012998420797473277,0.025998441597506552,1.0,1.0,1.0,0.15999865599784957,0.028998446397514234,1.0,1.0,1.0,0.043998470397552635,1.0,1.0,0.007998412797460474,1.0,0.10999857599772159,1.0,1.0,1.0,1.0,1.0,1.0,1.0,1.0,0.17999868799790078,1.0,1.0,1.0,1.0,1.0,0.012998420797473277,0.0005384008614413783,1.0,1.0,1.0,1.0,1.0,1.0,0.013998422397475837,1.0,0.34999895999833597,0.05299848479757568,1.0,1.0,1.0,1.0,1.0,0.15999865599784957,0.039998463997542394,1.0,1.0,1.0,1.0,1.0,0.021998435197496315,1.0,0.5299992479987968,1.0,0.11999859199774718,0.004698407517452028,1.0,1.0,1.0,1.0,1.0,0.032998452797524475,0.009998415997465595,1.0,0.28999886399818237,1.0,1.0,0.03399845439752703,0.8799998079996928,1.0,0.002598404157446652,1.0,1.0,1.0,1.0,0.07699852319763711,1.0,1.0,1.0,1.0,1.0,0.5799993279989248,0.0005684009094414551,1.0,0.04199846719754751,0.028998446397514234,1.0,1.0,1.0,1.0,1.0,1.0,1.0,0.3099988959982336,1.0,1.0,1.0,1.0,1.0,1.0,1.0,1.0,0.0012984020774433238,1.0,0.03399845439752703,1.0,1.0,1.0,1.0,1.0,1.0,0.18999870399792637,1.0,1.0,0.34999895999833597,1.0,1.0,1.0,1.0,0.006698410717457147,0.18999870399792637,1.0,1.0,1.0,1.0,1.0,0.016998427197483516,1.0,1.0,1.0,1.0,1.0,1.0,1.0,1.0,1.0,1.0,0.10999857599772159,0.18999870399792637,1.0,1.0,0.8699997919996671,0.0799985279976448,1.0,1.0,0.07499851999763199,0.03799846079753727,1.0,0.15999865599784957,1.0,1.0,1.0,1.0,1.0,1.0,1.0,1.0,0.03599845759753215,0.024998439997503997,1.0,0.3099988959982336,0.21999875199800317,1.0,1.0,0.06299850079760128,1.0,1.0,1.0,1.0,0.1299986079977728,0.036998459197534715,0.0003284005254408407,1.0,1.0,4.34000694401111e-05,1.0,1.0,1.0,1.0,1.0,1.0,1.0,0.0799985279976448,0.004498407197451516,1.0,1.0,0.00489840783745254,1.0,1.0,1.0,0.21999875199800317,1.0,1.0,1.0,1.0,1.0,0.07199851519762432,1.0,1.0,1.0,1.0,1.0,1.0,1.0,1.0,1.0,1.0,0.1299986079977728,0.4399991039985664,0.49999919999872,1.0,1.0,6.740010784017254e-05,1.0,0.007198411517458427,1.0,1.0,1.0,1.0,1.0,1.0,1.0,1.0,1.0,1.0,1.0,0.027998444797511672,1.0,0.10999857599772159,1.0,1.0,1.0,0.06699850719761152,0.00018840030144048227,0.0013984022374435798,0.599999359998976,0.03199845119752191,1.0,1.0,0.17999868799790078,0.054998487997580794,1.0,0.599999359998976,0.013998422397475837,1.0,1.0,1.0,1.0,1.0,0.29999887999820796,1.0,0.0033984054374487,1.0,1.0,1.0,1.0,1.0,0.20999873599797758,0.015998425597480957,0.0599984959975936,1.0,1.0,1.0,1.0,1.0,0.054998487997580794,1.0,1.0,1.0,0.099998559997696,1.0,1.0,1.0,1.0,1.0,0.009298414877463803,1.0,0.15999865599784957,1.0,1.0,1.0,1.0,0.024998439997503997,1.0,1.0,1.0,1.0,0.03899846239753983,0.0003284005254408407,1.0,1.0,1.0,1.0,1.0,1.0,0.0002284003654405847,1.0,1.0,0.06199849919759872,0.027998444797511672,1.0,1.0,1.0,1.0,1.0,1.0,1.0,1.0,1.0,1.0,1.0,0.0061984099174558676,1.0,0.003098404957447932,1.0,1.0,1.0,0.06199849919759872,0.35999897599836156,1.0,1.0,1.0,1.0,1.0,1.0,0.010998417597468155,1.0,1.0,1.0,1.0,1.0,1.0,1.0,1.0,0.24999879999807997,1.0,1.0,1.0,1.0,1.0,1.0,1.0,1.0,1.0,1.0,1.0,0.020998433597493756,1.0,1.0,0.14999863999782398,1.0,1.0,1.0,1.0,0.7099995359992576,0.00189840303744486,1.0,1.0,1.0,1.0,0.8899998239997184,0.0009984015974425558,0.07699852319763711,0.025998441597506552,1.0,1.0,0.04499847199755519,1.0,1.0,1.0,1.0,1.0,1.0,0.0002984004774407639,1.0,1.0,1.0,1.0,1.0,1.0,0.0068984110374576595,1.0,1.0,1.0,1.0,0.14999863999782398,0.3199989119982592,1.0,1.0,1.0,0.011998419197470715,1.0,1.0,1.0,1.0,1.0,0.18999870399792637,0.03599845759753215,1.0,1.0,1.0,0.4899991839986944,1.0,1.0,1.0,0.21999875199800317,1.0,1.0,1.0,1.0,1.0,1.0,1.0,1.0,0.002498403997446396,1.0,1.0,1.0,1.0,1.0,1.0,0.36999899199838715,1.0,1.0,1.0,1.0,0.03499845599752959,1.0,1.0,1.0,1.0,1.0,1.0,1.0,0.0003584005734409175,0.18999870399792637,0.35999897599836156,0.7799996479994368,1.0,1.0,1.0,1.0,1.0,1.0,0.36999899199838715,0.004798407677452284,1.0,1.0,1.0,1.0,0.0849985359976576,0.7699996319994112,1.0,1.0,1.0,1.0,1.0,1.0,1.0,1.0,0.0009084014534423254,1.0,0.8099996959995136,0.3199989119982592,1.0,1.0,1.0,0.009998415997465595,1.0,1.0,1.0,1.0,1.0,1.0,0.3799990079984128,1.0,1.0,0.00639841023745638,1.0,1.0,1.0,1.0,0.002698404317446908,1.0,0.00959841535746457,0.0012984020774433238,1.0,1.0,0.20999873599797758,0.043998470397552635,1.0,1.0,1.0,1.0,1.0,1.0,1.0,1.0,1.0,1.0,1.0,1.0,1.0,1.0,1.0,1.0,1.0,1.0,0.09799855679769087,1.0,0.099998559997696,1.0,1.0,1.0,1.0,1.0,0.0017984028774446041,1.0,1.0,0.04699847519756031,1.0,1.0,0.34999895999833597,0.00038840062144099427,1.0,0.001498402397443836,1.0,0.0649985039976064,0.002598404157446652,1.0,0.032998452797524475,1.0,0.2799988479981568,1.0,1.0,1.0,0.4699991519986432,1.0,0.008498413597461755,1.0,1.0,1.0,1.0,1.0,1.0,1.0,1.0,1.0,1.0,1.0,1.0,0.34999895999833597,1.0,0.021998435197496315,1.0,0.04999847999756799,1.0,0.6399994239990784,1.0,1.0,1.0,1.0,1.0,1.0,0.005098408157453052,0.28999886399818237,0.0009284014854423768,0.7099995359992576,1.0,1.0,1.0,0.043998470397552635,1.0,1.0,0.2599988159981056,1.0,1.0,1.0,1.0,1.0,0.050998481597570554,0.0007884012614420183,0.032998452797524475,1.0,1.0,1.0,1.0,0.11999859199774718,1.0,0.007598412157459451,1.0,1.0,0.0001684002694404311,1.0,1.0,1.0,1.0,1.0,1.0,1.0,1.0,1.0,1.0,0.2299987679980288,1.0,1.0,1.0,1.0,0.07499851999763199,8.440013504021606e-05,1.0,1.0,1.0,1.0,1.0,1.0,0.7899996639994624,0.00859841375746201,1.0,1.0,1.0,1.0,1.0,0.05299848479757568,1.0,1.0,7.740012384019814e-05,1.0,1.0,1.0,0.11999859199774718,1.0,0.5199992319987712,1.0,1.0,0.11999859199774718,1.0,1.0,1.0,1.0,0.03499845599752959,1.0,1.0,1.0,0.11999859199774718,1.0,1.0,1.0,0.07699852319763711,1.0,1.0,0.549999279998848,0.09799855679769087,1.0,0.1399986239977984,1.0,0.028998446397514234,1.0,1.0,1.0,1.0,1.0,1.0,1.0,1.0,1.0,1.0,0.0015984025574440918,1.0,0.0005984009574415319,0.04899847839756543,0.002198403517445628,1.0,0.03499845599752959,1.0,0.08699853919766272,1.0,0.006598410557456891,1.0,1.0,0.0061984099174558676,1.0,1.0,0.4699991519986432,1.0,0.007798412477459963,1.0,1.0,1.0,1.0,1.0,1.0,1.0,0.199998719997952,0.45999913599861764,1.0,1.0,1.0,1.0,1.0,0.9599999359998976,1.0,1.0,1.0,1.0,1.0,1.0,1.0,1.0,1.0,1.0,1.0,0.06799850879761407,1.0,0.0009284014854423768,1.0,0.022998436797498877,1.0,0.005198408317453308,0.7699996319994112,0.28999886399818237,1.0,1.0,1.0,0.2799988479981568,1.0,0.3099988959982336,1.0,1.0,1.0,1.0,0.04699847519756031,0.6299994079990529,0.9699999519999232,0.0008284013254421207,1.0,0.04899847839756543,1.0,1.0,1.0,1.0,0.799999679999488,1.0,0.09399855039768064,1.0,0.1299986079977728,0.10999857599772159,1.0,0.2699988319981312,0.008698413917462268,0.599999359998976,1.0,0.06699850719761152,1.0,1.0,0.015998425597480957,1.0,1.0,0.20999873599797758,0.11999859199774718,1.0,1.0,1.0,0.3099988959982336,0.0007984012774420439,1.0,1.0,1.0,1.0,1.0,1.0,1.0,1.0,0.6299994079990529,1.0,1.0,1.0,1.0,0.0599984959975936,1.0,1.0,0.05699849119758592,1.0,1.0,1.0,1.0,0.3099988959982336,1.0,1.0,1.0,0.08899854239766784,1.0,1.0,1.0,1.0,1.0,1.0,0.099998559997696,1.0,1.0,0.3799990079984128,1.0,1.0,1.0,1.9400031040049665e-05,1.0,1.0,0.002098403357445372,1.0,0.10999857599772159,0.20999873599797758,1.0,1.0,0.055998489597583356,1.0,1.0,0.001698402717444348,1.0,1.0,1.0,0.15999865599784957,1.0,1.0,1.0,1.0,1.0,0.1699986719978752,0.051998483197573116,1.0,1.0,1.0,1.0,0.3199989119982592,1.0,0.0015984025574440918,1.0,0.00038840062144099427,1.0,0.11999859199774718,1.0,1.0,1.0,1.0,0.00639841023745638,1.0,1.0,0.001698402717444348,0.026998443197509114,1.0,1.0,1.0,1.0,1.0,1.0,1.0,1.0,1.0,1.0,1.0,0.1299986079977728,0.06799850879761407,0.003798406077449724,1.0,1.0,1.0,1.0,1.0,1.0,0.0015984025574440918,0.4399991039985664,1.0,0.022998436797498877,1.0,0.15999865599784957,1.0,1.0,1.0,1.0,1.0,0.06799850879761407,0.3199989119982592,1.0,0.002598404157446652,1.0,1.0,1.0,0.49999919999872,1.0,1.0,0.8899998239997184,0.4299990879985408,1.0,1.0,1.0,0.29999887999820796,0.549999279998848,1.0,1.0,1.0,0.44999911999859205,1.0,0.002798404477447164,1.0,1.0,1.0,1.0,1.0,1.0,1.0,1.0,1.0,0.00010840017344027751,1.0,1.0,0.019998431997491198,1.0,0.5099992159987456,0.006998411197457915,0.28999886399818237,1.0,0.29999887999820796,0.099998559997696,1.0,1.0,1.0,1.0,0.3799990079984128,1.0,1.0,1.0,1.0,0.0017984028774446041,1.0,1.0,1.0,1.0,0.17999868799790078,1.0,1.0,1.0,1.0,0.007298411677458683,1.0,0.005098408157453052,1.0,0.4899991839986944,1.0,1.0,0.051998483197573116,1.0,1.0,0.06599850559760896,1.0,0.06399850239760384,1.0,0.1299986079977728,1.0,1.0,0.006298410077456124,1.0,1.0,0.11999859199774718,1.0,1.0,0.03199845119752191,1.0,1.0,1.0,1.0,1.0,1.0,1.0,1.0,0.00038840062144099427,1.0,0.29999887999820796,1.0,1.0,1.0,0.010998417597468155,0.44999911999859205,0.003698405917449468,1.0,1.0,1.0,1.0,1.0,1.0,1.0,1.0,0.00039840063744101987,1.0,0.024998439997503997,1.0,1.0,0.5899993439989504,1.0,0.949999919999872,0.007998412797460474,1.0,0.399999039998464,0.0008084012934420694,1.0,0.014998423997478397,0.032998452797524475,1.0,1.0,1.0,1.0,1.0,1.0,1.0,1.0,1.0,1.0,0.0012984020774433238,1.0,1.0,1.0,1.0,1.0,1.0,1.0,0.0001484002374403799,0.029998447997516792,1.0,0.058998494397591035,1.0,1.0,1.0,0.03499845599752959,0.3399989439983104,1.0,1.0,1.0,1.0,1.0,1.5400024640039427e-05,1.0,1.0,1.0,1.0,1.0,1.0,1.0,1.0,1.0,1.0,1.0,1.0,1.0,1.0,1.0,1.0,0.7599996159993856,1.0,1.0,1.0,0.0009884015814425303,0.099998559997696,1.0,1.0,1.0,1.0,1.0,1.0,1.0,1.7400027840044543e-05,1.0,1.0,1.0,0.1399986239977984,1.0,1.0,1.0,1.0,0.0008384013414421463,1.0,1.0,0.6699994719991552,1.0,1.0,0.003198405117448188,1.0,1.0,1.0,1.0,1.0,1.0,1.0,1.0,1.0,1.0,1.0,0.007298411677458683,1.0,1.0,1.0,1.0,1.0,1.0,1.0,1.0,1.0,0.1399986239977984,0.04699847519756031,0.030998449597519354,1.0,1.0,1.0,1.0,1.0,1.0,1.0,1.0,0.10999857599772159,0.0068984110374576595,1.0,1.0,0.5299992479987968,1.0,1.0,1.0,0.019998431997491198,0.003798406077449724,1.0,1.0,1.0,1.0,0.017998428797486078,0.050998481597570554,0.030998449597519354,1.0,1.0,0.0009584015334424534,1.0,1.0,0.04299846879755007,0.002598404157446652,0.08399853439765503,1.0,0.036998459197534715,1.0,1.0,0.8299997279995648,1.0,1.0,1.0,1.0,0.20999873599797758,1.0,1.0,0.00047840076544122465,0.3099988959982336,1.0,6.140009824015718e-05,0.7799996479994368,1.0,1.0,1.0,0.0056984091174545875,1.0,0.07099851359762176,1.0,1.0,1.0,1.0,1.0,0.2599988159981056,1.0,1.0,1.0,1.0,0.043998470397552635,1.0,0.03399845439752703,1.0,1.0,1.0,0.043998470397552635,0.003698405917449468,1.0,0.002598404157446652,1.0,1.0,1.0,0.028998446397514234,1.0,1.0,1.0,1.0,1.0,1.0,1.0,1.0,0.1699986719978752,1.0,1.0,1.0,1.0,1.0,1.0,1.0,0.024998439997503997,1.0,1.0,0.024998439997503997,1.0,1.0,1.0,1.0,0.35999897599836156,1.0,1.0,0.00039840063744101987,0.013998422397475837,1.0,1.0,1.0,1.0,1.0,0.001098401757442812,1.0,1.0,1.0,1.0,0.11999859199774718,1.0,1.0,0.11999859199774718,0.017998428797486078,1.0,0.0003584005734409175,1.0,1.0,1.0,0.002698404317446908,1.0,1.0,1.0,1.0,1.0,0.3899990239984384,0.3299989279982848,1.0,1.0,0.005598408957454332,0.00024840039744063587,1.0,1.0,1.0,0.0003584005734409175,1.0,1.0,0.6399994239990784,1.0,1.0,1.0,1.0,1.0,1.0,1.0,1.0,1.0,1.0,1.0,1.0,1.0,0.099998559997696,0.0002284003654405847,1.0,0.1699986719978752,1.0,0.34999895999833597,1.0,1.0,1.0,1.0,0.0002084003334405335,1.0,1.0,1.0,1.0,1.0,1.0,1.0,1.0,1.0,0.028998446397514234,1.0,1.0,1.0,1.0,0.0015984025574440918,1.0,1.0,1.0,1.0,0.001498402397443836,0.1399986239977984,0.06699850719761152,1.0,1.0,0.0002284003654405847,1.0,1.0,1.0,1.0,1.0,1.0,1.0,1.0,1.0,0.799999679999488,1.0,1.0,0.004598407357451772,1.0,0.1399986239977984,0.0006084009734415574,1.0,1.0,0.29999887999820796,1.0,1.0,1.0,1.0,1.0,1.0,1.0,0.3299989279982848,1.0,1.0,1.0,1.0,1.0,0.027998444797511672,0.008298413277461242,1.0,1.0,1.0,1.0,0.019998431997491198,1.0,1.0,1.0,1.0,6.240009984015974e-05,0.35999897599836156,1.0,1.0,0.028998446397514234,1.0,1.0,0.04899847839756543,1.0,0.06399850239760384,1.0,0.18999870399792637,0.07399851839762944,1.0,1.0,1.0,1.0,0.05699849119758592,1.0,1.0,0.06299850079760128,0.10999857599772159,1.0,1.0,1.0,0.06599850559760896,1.0,0.0007284011654418647,0.699999519999232,1.0,1.0,0.00289840463744742,1.0,0.08699853919766272,1.0,1.0,1.0,1.0,0.03599845759753215,1.0,0.1299986079977728,0.015998425597480957,0.08099852959764736,1.0,1.0,0.008898414237462779,1.0,1.0,1.0,1.0,1.0,1.0,1.0,1.0,1.0,0.2299987679980288,1.0,0.4799991679986688,0.0949985519976832,1.0,1.0,1.0,0.0001284002054403287,1.0,1.0,0.012998420797473277,1.0,1.0,1.0,1.0,1.0,0.020998433597493756,1.0,1.0,1.0,1.0,1.0,0.199998719997952,1.0,1.0,1.0,1.0,1.0,0.021998435197496315,1.0,1.0,1.0,1.0,1.0,1.0,0.006298410077456124,0.15999865599784957,1.0,1.0,1.0,1.0,0.0012984020774433238,1.0,1.0,1.0,1.0,1.0,1.0,0.14999863999782398,1.0,1.0,1.0,1.0,1.0,0.03399845439752703,1.0,1.0,1.0,1.0,1.0,0.2699988319981312,1.0,1.0,1.0,1.0,1.0,1.0,0.05699849119758592,1.0,1.0,1.0,1.0,0.34999895999833597,1.0,1.0,1.0,1.0,1.0,1.0,1.0,0.2699988319981312,1.0,1.0,1.0,1.0,1.0,0.06799850879761407,1.0,1.0,1.0,1.0,1.0,1.0,0.011998419197470715,0.1399986239977984,1.0,1.0,0.15999865599784957,1.0,1.0,0.004798407677452284,1.0,1.0,0.8799998079996928,0.013998422397475837,1.0,1.0,1.0,1.0,1.0,1.0,1.0,1.0,1.0,1.0,0.0699985119976192,1.0,1.0,0.03599845759753215,1.0,1.0,1.0,0.28999886399818237,0.3099988959982336,1.0,0.09599855359768576,1.0,1.4400023040036864e-05,1.0,1.0,0.4899991839986944,1.0,1.0,1.0,1.0,1.0,0.1399986239977984,1.0,1.0,1.0,1.0,0.0012984020774433238,1.0,1.0,0.1299986079977728,1.0,1.0,1.0,0.29999887999820796,1.0,0.003998406397450236,1.0,1.0,1.0,1.0,0.10999857599772159,1.0,1.0,1.0,1.0,0.008098412957460732,1.0,0.004298406877451004,1.0,1.0,0.49999919999872,0.05699849119758592,1.0,1.0,1.0,0.0005884009414415063,1.0,1.0,1.0,0.1299986079977728,1.0,1.0,1.0,1.0,1.0,0.04699847519756031,0.15999865599784957,1.0,1.0,1.0,1.0,1.0,1.0,1.0,1.0,1.0,1.0,1.0,1.0,1.0,0.027998444797511672,1.0,0.17999868799790078,1.0,1.0,1.0,1.0,0.03899846239753983,1.0,1.0,0.040998465597544956,1.0,1.0,1.0,1.0,1.0,0.35999897599836156,1.0,1.0,1.0,1.0,1.0,1.0,0.8699997919996671,0.1399986239977984,1.0,1.0,0.003598405757449212,1.0,1.0,1.0,1.0,1.0,0.1699986719978752,1.0,1.0,1.0,0.023998438397501435,1.0,1.0,1.0,1.0,1.0,1.0,1.0,0.023998438397501435,0.0002984004774407639,1.0,1.0,1.0,1.0,1.0,1.0,0.20999873599797758,1.0,1.0,0.0649985039976064,0.1399986239977984,1.0,1.0,1.0,1.0,0.036998459197534715,1.0,1.0,1.0,1.0,1.0,0.026998443197509114,1.0,1.0,1.0,1.0,1.0,1.0,1.0,1.0,1.0,1.0,1.0,0.013998422397475837,1.0,1.0,1.0,1.0,0.012998420797473277,1.0,1.0,1.8400029440047104e-05,0.0949985519976832,1.0,1.0,1.0,0.5899993439989504,0.3199989119982592,0.14999863999782398,1.0,1.0,1.0,1.0,1.0,1.0,1.0,1.0,1.0,0.099998559997696,1.0,1.0,0.004498407197451516,1.0,1.0,0.029998447997516792,1.0,1.0,0.44999911999859205,1.0,0.00018840030144048227,0.08899854239766784,1.0,0.009298414877463803,0.1299986079977728,1.0,1.0,1.0,1.0,1.0,1.0,1.0,1.0,1.0,1.0,1.0,1.0,1.0,1.0,0.11999859199774718,0.002598404157446652,1.0,1.0,1.0,1.0,0.3899990239984384,1.0,1.0,1.0,1.0,0.199998719997952,0.08799854079766528,1.0,0.05399848639757824,0.5199992319987712,0.0013984022374435798,1.0,1.0,1.0,1.0,1.0,1.0,1.0,1.0,0.7699996319994112,1.0,0.36999899199838715,1.0,1.0,0.07599852159763455,1.0,1.0,1.0,1.0,0.002798404477447164,0.032998452797524475,1.0,0.00037840060544096866,1.0,1.0,1.0,1.0,1.0,1.0,0.0004984007974412759,1.0,1.0,1.0,1.0,1.0,1.0,0.015998425597480957,1.0,0.5299992479987968,1.0,1.0,0.10999857599772159,1.0,1.0,1.0,0.23999878399805438,1.0,1.0,1.0,1.0,1.0,1.0,1.0,1.0,1.0,0.34999895999833597,1.0,1.0,1.0,0.15999865599784957,1.0,1.0,1.0,0.04899847839756543,1.0,1.0,1.0,1.0,1.0,1.0,1.0,1.0,1.0,0.6699994719991552,1.0,1.0,1.0,1.0,1.0,1.0,0.03199845119752191,0.2599988159981056,0.001698402717444348,0.29999887999820796,0.04999847999756799,0.022998436797498877,1.0,1.0,1.0,1.0,1.0,0.000818401309442095,1.0,1.0,1.0,1.0,1.0,1.0,0.9899999839999744,1.0,1.0,0.2699988319981312,0.040998465597544956,0.36999899199838715,1.0,0.029998447997516792,1.0,1.0,1.0,1.0,1.4400023040036864e-05,1.0,1.0,1.0,1.0,1.0,1.0,0.026998443197509114,1.0,0.5599992959988737,1.0,1.0,1.0,1.0,1.0,0.0056984091174545875,1.0,1.0,1.0,0.016998427197483516,0.199998719997952,9.84001574402519e-05,1.0,1.0,1.0,0.00439840703745126,1.0,1.0,1.0,1.0,1.0,1.0,1.0,1.0,1.0,1.0,1.0,1.0,0.020998433597493756,1.0,1.0,1.0,0.0007884012614420183,1.0,1.0,1.0,1.0,1.0,0.11999859199774718,0.5299992479987968,1.0,1.0,1.0,1.0,0.0001784002854404567,1.0,1.0,1.0,0.018998430397488636,0.03799846079753727,0.4099990559984896,1.0,0.17999868799790078,1.0,0.15999865599784957,1.0,1.0,1.0,1.0,1.0,1.0,0.28999886399818237,1.0,1.0,1.0,1.0,0.15999865599784957,1.0,1.0,1.0,0.030998449597519354,1.0,1.0,1.0,1.0,0.007698412317459707,1.0,1.0,1.0,1.0,0.00959841535746457,1.0,0.018998430397488636,1.0,1.0,1.0,1.0,1.0,1.0,1.0,1.0,0.05799849279758848,1.0,1.0,1.0,1.0,1.0,0.21999875199800317,0.18999870399792637,1.0,1.0,1.0,0.0005584008934414295,0.21999875199800317,1.0,0.24999879999807997,1.0,1.0,1.0,1.0,1.0,0.08799854079766528,1.0,0.014998423997478397,1.0,0.5099992159987456,1.0,1.0,1.0,0.004798407677452284,1.0,1.0,1.0,1.0,1.0,1.0,1.0,0.28999886399818237,1.0,1.0,1.0,1.0,1.0,1.0,1.0,1.0,1.0,1.0,1.0,0.017998428797486078,0.7699996319994112,1.0,1.0,0.03399845439752703,1.0,1.0,1.0,1.0,1.0,1.0,1.0,0.599999359998976,1.0,0.36999899199838715,1.0,0.0001984003174405079,1.0,1.0,1.0,1.0,1.0,1.0,1.0,0.199998719997952,0.20999873599797758,1.0,0.017998428797486078,1.0,1.0,0.3199989119982592,0.2599988159981056,1.0,1.0,1.0,1.0,0.0009984015974425558,0.08699853919766272,1.0,0.009998415997465595,1.0,0.009098414557463292,1.0,1.0,0.020998433597493756,1.0,1.0,1.0,1.0,1.0,1.0,0.49999919999872,1.0,0.00439840703745126,1.0,1.0,1.0,1.0,1.0,0.08099852959764736,0.002698404317446908,0.17999868799790078,1.0,1.0,1.0,1.0,0.050998481597570554,1.0,0.007198411517458427,0.099998559997696,1.0,1.0,0.099998559997696,0.10999857599772159,1.0,0.003698405917449468,1.0,1.0,0.00037840060544096866,1.0,1.0,1.0,1.0,0.199998719997952,0.2299987679980288,0.10999857599772159,0.05399848639757824,1.0,0.019998431997491198,1.0,1.0,1.0,0.2799988479981568,0.18999870399792637,1.0,1.0,1.0,0.023998438397501435,1.0,0.7899996639994624,1.0,1.0,1.0,7.700012320019712e-06,1.0,1.0,1.0,0.1699986719978752,1.0,1.0,0.5199992319987712,0.0061984099174558676,1.0,1.0,1.0,1.0,1.0,1.0,1.0,1.0,1.0,1.0,0.07199851519762432,0.026998443197509114,1.0,1.0,1.0,0.17999868799790078,0.005098408157453052,1.0,0.03599845759753215,1.0,0.0012984020774433238,1.0,1.0,1.0,1.0,1.0,1.0,1.0,0.09899855839769343,0.09099854559767295,0.001198401917443068,1.0,1.0,1.0,0.06699850719761152,1.0,0.0049984079974527956,1.0,1.0,1.0,0.027998444797511672,1.0,1.0,1.0,1.0,1.0,0.00039840063744101987,1.0,1.0,0.043998470397552635,1.0,0.018998430397488636,1.0,0.949999919999872,0.0002984004774407639,0.18999870399792637,1.0,1.0,1.0,1.0,1.0,1.0,1.0,1.0,1.0,0.054998487997580794,1.0,0.099998559997696,1.0,0.15999865599784957,1.0,1.0,1.0,0.04699847519756031,0.0009084014534423254,1.0,1.0,1.0,1.0,0.00239840383744614,1.0,0.002298403677445884,0.23999878399805438,1.0,1.0,1.0,1.0,1.0,0.014998423997478397,0.11999859199774718,1.0,1.0,0.019998431997491198,1.0,0.023998438397501435,1.0,1.0,1.0,1.0,1.0,1.0,1.0,0.08399853439765503,1.0,0.5299992479987968,1.0,1.0,0.3799990079984128,0.17999868799790078,1.0,1.0,1.0,1.0,1.0,0.002798404477447164,0.023998438397501435,1.0,1.0,1.0,1.0,1.0,1.0,1.0,1.0,1.0,1.0,1.0,0.014998423997478397,1.0,1.0,1.0,1.0,1.0,1.0,1.0,0.5899993439989504,0.08999854399767039,1.0,0.04699847519756031,1.0,0.10999857599772159,1.0,1.0,1.0,0.058998494397591035,1.0,1.0,1.0,0.18999870399792637,0.18999870399792637,1.0,0.05699849119758592,1.0,0.14999863999782398,1.0,1.0,1.0,1.0,1.0,1.0,1.0,1.0,0.2699988319981312,1.0,1.0,0.0015984025574440918,1.0,1.0,1.0,0.49999919999872,1.0,0.3099988959982336,1.0,0.007398411837458939,1.0,1.0,1.0,1.0,1.0,0.099998559997696,0.0001684002694404311,0.0056984091174545875,1.0,0.018998430397488636,1.0,0.799999679999488,1.0,0.2299987679980288,0.09299854879767808,1.0,1.0,1.0,1.0,1.0,0.05699849119758592,0.14999863999782398,1.0,1.0,0.14999863999782398,0.00239840383744614,1.0,1.0,1.0,1.0,0.004098406557450492,1.0,1.0,1.0,1.0,1.0,1.0,1.0,0.08899854239766784,0.00043840070144112234,1.0,0.4199990719985152,1.0,1.0,1.0,1.0,1.0,1.0,0.0002384003814406103,1.0,1.0,0.09699855519768831,0.005498408797454076,1.0,0.0003484005574408919,1.0,1.0,0.05299848479757568,1.0,1.0,1.0,1.0,0.11999859199774718,1.0,0.3099988959982336,0.3899990239984384,1.0,1.0,1.0,1.0,0.10999857599772159,0.007998412797460474,0.018998430397488636,1.0,1.0,1.0,1.0,1.0,1.0,0.000818401309442095,0.14999863999782398,0.009798415677465084,1.0,0.0002384003814406103,1.0,1.0,1.0,1.0,1.0,1.0,0.003998406397450236,1.0,1.0,1.0,1.0,1.0,0.032998452797524475,1.0,0.6399994239990784,1.0,0.004098406557450492,1.0,1.0,1.0,1.0,1.0,0.44999911999859205,1.0,1.0,1.0,1.0,0.18999870399792637,0.15999865599784957,1.0,1.0,1.0,1.0,0.002298403677445884,1.0,1.0,1.0,1.0,1.0,0.058998494397591035,1.0,1.0,1.0,1.0,1.0,1.0,1.0,1.0,1.0,1.0,1.0,0.11999859199774718,1.0,1.0,1.0,1.0,0.04499847199755519,1.0,1.0,0.3899990239984384,0.013998422397475837,1.0,1.0,0.8699997919996671,1.0,0.3799990079984128,1.0,1.0,0.03499845599752959,1.0,1.0,1.0,1.0,1.0,1.0,0.03199845119752191,0.027998444797511672,0.199998719997952,1.0,0.024998439997503997,1.0,1.0,1.0,1.0,1.0,1.0,0.14999863999782398,0.0002184003494405591,0.022998436797498877,1.0,1.0,1.0,1.0,1.0,1.0,0.29999887999820796,1.0,1.0,1.0,1.0,0.008298413277461242,0.2799988479981568,1.0,1.0,0.00439840703745126,1.0,1.0,1.0,1.0,0.1299986079977728,1.0,1.0,1.0,0.016998427197483516,0.050998481597570554,0.00045840073344117344,1.0,1.0,1.0,0.06299850079760128,1.0,1.0,0.002198403517445628,1.0,0.08899854239766784,1.0,1.0,1.0,1.0,0.06899851039761663,0.026998443197509114,1.0,1.0,1.0,1.0,1.0,1.0,1.0,1.0,1.0,1.0,0.14999863999782398,1.0,0.6099993759990016,1.0,1.0,1.0,1.0,0.1699986719978752,0.036998459197534715,1.0,1.0,1.0,1.0,0.10999857599772159,0.10999857599772159,1.0,1.0,1.0,1.0,1.0,1.0,1.0,1.0,1.0,0.3099988959982336,1.0,0.030998449597519354,1.0,1.0,1.0,0.012998420797473277,0.003298405277448444,1.0,1.0,0.020998433597493756,1.0,0.21999875199800317,1.0,1.0,1.0,1.0,1.0,1.0,1.0,1.0,1.0,1.0,1.0,1.0,1.0,1.0,0.021998435197496315,0.17999868799790078,0.003198405117448188,1.0,1.0,1.0,0.011998419197470715,1.0,1.0,1.0,1.0,0.09799855679769087,0.399999039998464,1.0,1.0,1.0,1.0,1.0,0.08699853919766272,1.0,1.0,1.0,0.03599845759753215,0.0003684005894409431,0.001498402397443836,1.0,1.0,1.0,1.0,0.04499847199755519,1.0,1.0,1.0,0.03899846239753983,1.0,1.0,1.0,1.0,1.0,1.0,1.0,1.0,0.04899847839756543,0.7899996639994624,1.0,1.0,1.0,1.0,1.0,1.0,1.0,1.0,1.0,1.0,0.03199845119752191,1.0,1.0,1.0,1.0,0.030998449597519354,0.008798414077462523,1.0,0.3199989119982592,1.0,1.0,1.0,1.0,1.0,1.0,1.0,1.0,1.0,0.4699991519986432,1.0,1.0,1.0,0.008298413277461242,1.0,0.003198405117448188,0.05799849279758848,0.015998425597480957,1.0,1.0,0.029998447997516792,1.0,1.0,1.0,0.0003484005574408919,1.0,1.0,1.0,1.0,1.0,1.0,1.0,1.0,1.0,1.0,1.0,1.0,1.0,0.09799855679769087,1.0,1.0,1.0,1.0,1.0,0.17999868799790078,1.0,1.0,1.0,0.00489840783745254,1.0,0.11999859199774718,1.0,1.0,1.0,0.007298411677458683,1.0,1.0,1.0,1.0,0.0649985039976064,0.18999870399792637,1.0,0.05299848479757568,0.28999886399818237,0.012998420797473277,1.0,1.0,1.0,0.0002184003494405591,0.019998431997491198,1.0,1.0,1.0,1.0,1.0,1.0,1.0,1.0,1.0,1.0,1.0,1.0,1.0,1.0,1.0,1.0,1.0,0.06399850239760384,0.11999859199774718,1.0,1.0,0.0007284011654418647,1.0,1.0,1.0,1.0,1.0,1.0,1.0,0.09599855359768576,1.0,1.0,1.0,0.599999359998976,1.0,1.0,1.0,0.06699850719761152,1.0,0.09599855359768576,0.34999895999833597,1.0,1.0,1.0,0.10999857599772159,0.0009984015974425558,1.0,0.040998465597544956,0.003998406397450236,1.0,1.0,1.0,0.2699988319981312,0.1399986239977984,0.5199992319987712,0.024998439997503997,0.23999878399805438,1.0,0.0061984099174558676,1.0,1.0,1.0,0.11999859199774718,1.0,1.0,1.0,1.0,0.027998444797511672,1.0,1.0,0.1399986239977984,1.0,1.0,0.1699986719978752,1.0,1.0,1.0,1.0,1.0,1.0,0.032998452797524475,1.0,1.0,1.0,1.0,1.0,1.0,1.0,1.0,1.0,1.0,0.0068984110374576595,0.4299990879985408,1.0,0.07599852159763455,1.0,0.10999857599772159,1.0,1.0,1.0,0.009998415997465595,1.0,0.10999857599772159,0.24999879999807997,1.0,1.0,1.0,1.0,1.0,1.0,1.0,1.0,1.0,1.0,0.018998430397488636,1.0,1.0,1.0,1.0,0.1399986239977984,0.000918401469442351,1.0,1.0,1.0,0.11999859199774718,0.03899846239753983,1.0,1.0,1.0,0.002098403357445372,0.7899996639994624,1.0,0.04499847199755519,0.0008084012934420694,1.0,1.0,1.0,0.1399986239977984,1.0,1.0,1.0,1.0,0.009498415197464315,1.0,1.0,1.0,1.0,1.0,1.0,0.3099988959982336,1.0,1.0,1.0,0.0007184011494418391,0.14999863999782398,1.0,0.03199845119752191,1.0,1.0,1.0,1.0,0.04599847359755775,1.0,1.0,1.0,1.0,0.29999887999820796,1.0,0.012998420797473277,1.0,0.007998412797460474,1.0,1.0,1.0,0.028998446397514234,1.0,0.11999859199774718,0.06199849919759872,1.0,1.0,1.0,0.012998420797473277,1.0,1.0,1.0,1.0,1.0,0.09699855519768831,0.18999870399792637,0.08099852959764736,1.0,1.0,1.0,0.14999863999782398,1.0,0.026998443197509114,1.0,1.0,0.022998436797498877,0.06299850079760128,1.0,0.06899851039761663,1.0,1.0,1.0,1.0,0.040998465597544956,1.0,1.0,1.0,1.0,0.08299853279765247,1.0,1.0,1.0,1.0,1.0,1.0,1.0,0.021998435197496315,1.0,1.0,1.0,1.0,1.0,1.0,1.0,1.0,0.0056984091174545875,0.1299986079977728,1.0,0.17999868799790078,0.1299986079977728,1.0,1.0,0.005198408317453308,1.0,0.025998441597506552,0.5199992319987712,0.005798409277454844,0.004298406877451004,1.0,1.0,1.0,0.021998435197496315,1.0,1.0,1.0,1.0,0.003098404957447932,0.08699853919766272,0.0009984015974425558,0.45999913599861764,1.0,0.03499845599752959,1.0,1.0,1.0,1.0,1.0,1.0,1.0,0.028998446397514234,1.0,0.002598404157446652,0.0949985519976832,1.0,1.0,0.1299986079977728,0.022998436797498877,1.0,1.0,0.0004284006854410967,1.0,1.0,1.0,1.0,1.0,1.0,1.0,1.0,0.0008284013254421207,0.11999859199774718,1.0,1.0,1.0,1.0,1.0,0.0599984959975936,1.0,1.0,1.0,1.0,1.0,0.1399986239977984,1.0,1.0,0.14999863999782398,1.0,1.0,1.0,0.3099988959982336,1.0,1.0,1.0,1.0,0.07599852159763455,1.0,1.0,0.3399989439983104,1.0,0.00189840303744486,0.0849985359976576,0.099998559997696,1.0,1.0,1.0,0.06399850239760384,1.0,8.740013984022373e-05,1.0,0.08899854239766784,0.018998430397488636,1.0,1.0,1.0,1.0,1.0,1.0,0.4199990719985152,0.043998470397552635,1.0,0.011998419197470715,1.0,1.0,1.0,1.0,0.11999859199774718,0.4399991039985664,1.0,0.21999875199800317,1.0,1.0,1.0,0.003698405917449468,1.0,1.0,1.0,1.0,1.0,0.019998431997491198,0.009298414877463803,1.0,1.0,1.0,1.0,1.0,1.0,1.0,1.0,0.0699985119976192,1.0,1.0,1.0,1.0,0.032998452797524475,1.0,1.0,1.0,0.5099992159987456,1.0,1.0,1.0,1.0,1.0,1.0,0.020998433597493756,0.0007484011974419159,1.0,0.004798407677452284,1.0,1.0,1.0,0.00289840463744742,0.032998452797524475,1.0,0.14999863999782398,1.0,1.0,1.0,1.0,1.0,0.3899990239984384,1.0,1.0,0.5599992959988737,1.0,1.0,1.0,1.0,0.1299986079977728,0.025998441597506552,1.0,1.0,1.0,0.4799991679986688,1.0,1.0,0.018998430397488636,1.0,0.7099995359992576,0.09199854719767551,1.0,1.0,1.0,0.04699847519756031,0.949999919999872,1.0,1.0,0.08899854239766784,0.23999878399805438,0.002198403517445628,0.1699986719978752,0.0013984022374435798,1.0,1.0,1.0,1.0,1.0,1.0,0.020998433597493756,1.0,0.055998489597583356,1.0,1.0,0.18999870399792637,1.0,1.0,1.0,0.11999859199774718,0.09699855519768831,1.0,1.0,1.0,1.0,1.0,1.0,0.3399989439983104,1.0,1.0,0.6299994079990529,1.0,1.0,0.0003584005734409175,1.0,1.0,1.0,1.0,1.0,1.0,0.07399851839762944,1.0,0.9899999839999744,1.0,1.0,1.0,1.0,1.0,0.15999865599784957,1.0,1.0,1.0,1.0,1.0,1.0,1.0,1.0,1.0,1.0,1.0,1.0,1.0,0.0003184005094408151,1.0,1.0,1.0,0.11999859199774718,0.006498410397456635,1.0,1.0,0.2299987679980288,1.0,0.06699850719761152,1.0,1.0,1.0,1.0,1.0,0.1299986079977728,1.0,1.0,0.36999899199838715,1.0,0.3399989439983104,1.0,0.18999870399792637,0.006298410077456124,1.0,0.03599845759753215,1.0,1.0,1.0,1.0,1.0,1.0,1.0,1.0,1.0,0.014998423997478397,1.0,1.0,0.051998483197573116,1.0,0.099998559997696,1.0,0.09399855039768064,1.0,0.11999859199774718,1.0,1.0,1.0,1.0,1.0,1.0,1.0,7.740012384019814e-05,0.2699988319981312,1.0,1.0,1.0,1.0,1.0,1.0,1.0,1.0,0.17999868799790078,1.0,1.0,1.0,1.0,1.0,0.1299986079977728,0.20999873599797758,1.0,1.0,1.0,1.0,0.006098409757455612,1.0,1.0,0.010998417597468155,1.0,1.0,0.0034984055974489558,1.0,0.18999870399792637,1.0,1.0,1.0,0.14999863999782398,0.0015984025574440918,1.0,0.00859841375746201,1.0,1.0,0.00859841375746201,1.0,0.11999859199774718,1.0,1.0,1.0,1.0,1.0,1.0,1.0,0.1299986079977728,1.0,0.11999859199774718,1.0,1.0,1.0,1.0,1.0,1.0,1.0,0.23999878399805438,0.007298411677458683,0.5099992159987456,1.0,1.0,0.1299986079977728,1.0,0.07499851999763199,0.04299846879755007,0.4099990559984896,1.0,1.0,1.0,1.0,1.0,1.0,1.0,1.0,0.040998465597544956,1.0,1.0,0.012998420797473277,1.0,0.35999897599836156,0.6099993759990016,1.0,0.006998411197457915,1.0,1.0,1.0,1.0,1.0,1.0,1.0,1.0,0.2599988159981056,0.08099852959764736,1.0,1.0,0.4299990879985408,1.0,1.0,1.0,0.199998719997952,0.0007384011814418903,1.0,0.45999913599861764,0.199998719997952,0.025998441597506552,1.0,1.0,1.0,1.0,1.0,0.20999873599797758,1.0,1.0,1.0,1.0,0.015998425597480957,1.0,1.0,1.0,1.0,0.0008884014214422743,0.23999878399805438,1.0,1.0,1.0,1.0,0.099998559997696,1.0,1.0,0.5699993119988992,0.0015984025574440918,1.0,1.0,0.00639841023745638,1.0,1.0,1.0,1.0,1.0,1.0,1.0,0.013998422397475837,1.0,1.0,0.0002984004774407639,0.4099990559984896,1.0,1.0,0.0003384005414408663,1.0,0.06299850079760128,1.0,1.0,0.3399989439983104,0.029998447997516792,0.2699988319981312,1.0,1.0,0.49999919999872,1.0,1.0,1.0,1.0,0.0007784012454419926,1.0,0.599999359998976,0.015998425597480957,0.21999875199800317,1.0,0.018998430397488636,1.0,1.0,0.06599850559760896,1.0,0.022998436797498877,1.0,1.0,1.0,1.0,0.2699988319981312,1.0,1.0,0.058998494397591035,1.0,1.0,1.0,0.03199845119752191,1.0,1.0,0.1299986079977728,1.0,1.0,1.0,1.0,1.0,1.0,0.030998449597519354,1.0,1.0,1.0,0.0699985119976192,1.0,1.0,1.0,1.0,0.003098404957447932,0.06899851039761663,1.0,1.0,0.0001684002694404311,1.0,1.0,1.0,0.04499847199755519,1.0,1.0,1.0,0.6699994719991552,1.0,1.0,0.5099992159987456,0.002698404317446908,0.18999870399792637,1.0,0.051998483197573116,1.0,1.0,1.0,1.0,1.0,1.0,1.0,1.0,1.0,0.15999865599784957,1.0,1.0,0.011998419197470715,1.0,1.0,1.0,1.0,1.0,0.024998439997503997,1.0,1.0,1.0,1.0,1.0,1.0,1.0,1.0,1.0,1.0,1.0,1.0,0.10999857599772159,0.5199992319987712,1.0,1.0,1.0,1.0,0.2599988159981056,1.0,1.0,0.14999863999782398,1.0,1.0,1.0,1.0,1.0,1.0,1.0,1.0,1.0,0.07399851839762944,1.0,1.0,1.0,1.0,1.0,1.0,1.0,0.030998449597519354,1.0,1.0,1.0,1.0,1.0,1.0,1.0,0.10999857599772159,1.0,1.0,1.0,1.0,0.2299987679980288,1.0,1.0,1.0,1.0,1.0,1.0,0.17999868799790078,0.0006484010374416599,1.0,1.0,0.00239840383744614,1.0,0.18999870399792637,0.06399850239760384,1.0,1.0,1.0,1.0,0.010998417597468155,1.0,1.0,1.0,1.0,1.0,1.0,1.0,0.024998439997503997,1.0,1.0,0.09099854559767295,0.0004884007814412503,1.0,0.04199846719754751,1.0,0.10999857599772159,1.0,1.0,1.0,1.0,1.0,1.0,1.0,0.0002884004614407383,1.0,1.0,1.0,1.0,1.0,1.0,1.0,0.11999859199774718,1.0,0.08599853759766016,1.0,1.0,0.09799855679769087,1.0,0.17999868799790078,1.0,1.0,1.0,0.00439840703745126,1.0,1.0,1.0,0.0001284002054403287,0.06699850719761152,0.055998489597583356,1.0,0.10999857599772159,0.029998447997516792,0.1699986719978752,0.5399992639988224,1.0,1.0,1.0,1.0,0.029998447997516792,1.0,0.23999878399805438,1.0,0.8599997759996416,1.0,1.0,0.35999897599836156,0.07399851839762944,1.0,1.0,1.0,1.0,1.0,0.022998436797498877,0.05799849279758848,1.0,1.0,1.0,1.0,0.5599992959988737,0.06699850719761152,1.0,0.006598410557456891,1.0,1.0,1.0,1.0,1.0,0.2599988159981056,1.0,0.949999919999872,1.0,1.0,1.0,0.08699853919766272,0.949999919999872,0.11999859199774718,1.0,0.7399995839993344,1.0,1.0,1.0,1.0,0.0002384003814406103,1.0,1.0,1.0,1.0,1.0,1.0,0.08899854239766784,0.1299986079977728,1.0,1.0,0.34999895999833597,1.0,1.0,0.14999863999782398,1.0,1.0,0.4699991519986432,0.23999878399805438,0.05299848479757568,1.0,1.0,0.3099988959982336,1.0,1.0,1.0,1.0,1.0,1.0,1.0,1.0,0.199998719997952,0.050998481597570554,1.0,0.011998419197470715,1.0,0.4199990719985152,0.08299853279765247,1.0,1.0,0.009998415997465595,0.07199851519762432,1.0,0.07499851999763199,1.0,1.0,1.0,0.099998559997696,0.00041840066944107113,1.0,1.0,0.009698415517464826,1.0,0.10999857599772159,1.0,1.0,1.0,1.0,1.0,0.3299989279982848,1.0,0.4099990559984896,1.0,1.0,1.0,1.0,0.001698402717444348,1.0,1.0,1.0,1.0,0.11999859199774718,1.0,1.0,1.0,1.0,9.84001574402519e-05,1.0,0.07699852319763711,1.0,1.0,1.0,1.0,0.2799988479981568,1.0,0.001698402717444348,1.0,1.0,1.0,0.0002984004774407639,1.0,0.11999859199774718,1.0,1.0,0.018998430397488636,0.1699986719978752,1.0,0.03599845759753215,1.0,0.015998425597480957,1.0,0.06199849919759872,0.020998433597493756,1.0,0.7499995999993601,1.0,0.0009584015334424534,0.027998444797511672,1.0,1.0,1.0,0.1399986239977984,1.0,1.0,1.0,1.0,1.0,1.0,1.0,0.06399850239760384,1.0,1.0,1.0,1.0,1.0,1.0,1.0,1.0,1.0,0.06899851039761663,1.0,1.0,0.05699849119758592,0.0003484005574408919,1.0,0.20999873599797758,1.0,1.0,0.024998439997503997,1.0,0.002298403677445884,1.0,1.0,0.18999870399792637,1.0,1.0,1.0,1.0,1.0,1.0,1.0,1.0,1.0,1.0,1.0,1.0,1.0,1.0,1.0,0.1399986239977984,0.4399991039985664,1.0,1.0,1.0,1.0,0.1699986719978752,0.05699849119758592,1.0,1.0,1.0,0.3099988959982336,0.11999859199774718,1.0,1.0,1.0,1.0,1.0,1.0,0.399999039998464,1.0,1.0,1.0,1.0,1.0,0.3299989279982848,1.0,1.0,1.0,1.0,0.17999868799790078,1.0,0.028998446397514234,1.0,1.0,1.0,1.0,1.0,1.0,1.0,1.0,1.0,1.0,0.006998411197457915,1.0,0.2299987679980288,0.006698410717457147,0.010998417597468155,1.0,0.001998403197445116,1.0,1.0,1.0,1.0,1.0,1.0,1.0,1.0,1.0,1.0,0.040998465597544956,1.0,0.0003684005894409431,1.0,0.23999878399805438,0.00037840060544096866,0.5899993439989504,1.0,1.0,0.007298411677458683,1.0,1.0,1.0,1.0,1.0,1.0,1.0,1.0,1.0,1.0,1.0,1.0,1.0,0.4799991679986688,1.0,0.026998443197509114,1.0,0.15999865599784957,0.4399991039985664,1.0,1.0,0.03199845119752191,1.0,1.0,1.0,1.0,1.0,1.0,1.0,1.0,1.0,1.0,1.0,1.0,0.11999859199774718,1.0,0.15999865599784957,1.0,1.0,1.0,0.009998415997465595,1.0,1.0,1.0,0.07799852479763968,1.0,1.0,1.0,0.07299851679762688,0.599999359998976,1.0,1.0,1.0,1.0,1.0,1.0,0.2599988159981056,0.3899990239984384,1.0,1.0,1.0,1.0,1.0,0.8599997759996416,0.002098403357445372,1.0,0.0002884004614407383,0.4399991039985664,0.004498407197451516,1.0,1.0,0.20999873599797758,1.0,0.002798404477447164,0.17999868799790078,1.0,1.0,0.05299848479757568,1.0,0.0005084008134413014,1.0,1.0,1.0,1.0,1.0,0.23999878399805438,0.002098403357445372,1.0,1.0,0.0003384005414408663,1.0,1.0,1.0,1.0,1.0,1.0,1.0,0.03799846079753727,1.0,1.0,1.0,1.0,0.00859841375746201,0.4299990879985408,0.021998435197496315,1.0,1.0,1.0,1.0,1.0,0.021998435197496315,1.0,1.0,0.000818401309442095,1.0,0.004298406877451004,0.021998435197496315,0.1399986239977984,0.5899993439989504,1.0,0.5099992159987456,0.7799996479994368,0.09699855519768831,1.0,1.0,1.0,1.0,1.0,1.0,1.0,1.0,1.0,0.18999870399792637,1.0,1.0,0.011998419197470715,0.3199989119982592,1.0,1.0,1.0,1.0,1.0,1.0,1.0,1.0,1.0,0.3299989279982848,0.05799849279758848,1.0,1.0,1.0,1.0,0.0004984007974412759,0.7499995999993601,1.0,1.0,1.0,0.17999868799790078,1.0,1.0,1.0,1.0,1.0,1.0,1.0,0.4199990719985152,1.0,1.0,1.0,1.0,1.0,0.5899993439989504,0.055998489597583356,1.0,1.0,0.0003384005414408663,1.0,0.0003684005894409431,1.0,1.0,0.0007084011334418135,1.0,1.0,1.0,1.0,1.0,1.0,1.0,0.009798415677465084,1.0,1.0,1.0,1.0,1.0,1.0,1.0,1.0,1.0,0.36999899199838715,0.010998417597468155,0.49999919999872,1.0,1.0,1.0,1.0,1.0,0.017998428797486078,1.0,1.0,1.0,1.0,1.0,0.29999887999820796,1.0,1.0,1.0,1.0,1.0,1.0,1.0,0.4299990879985408,1.0,1.0,1.0,1.0,0.00959841535746457,0.07299851679762688,1.0,1.0,1.0,0.050998481597570554,1.0,1.0,1.0,1.0,1.0,1.0,1.0,1.0,0.1699986719978752,0.0006184009894415831,0.03599845759753215,0.04699847519756031,0.019998431997491198,1.0,1.0,1.0,1.0,1.0,1.0,0.3899990239984384,1.0,0.24999879999807997,1.0,1.0,1.0,0.0005184008294413271,1.0,1.0,1.0,1.0,1.0,1.0,0.058998494397591035,0.35999897599836156,1.0,1.0,1.0,0.003698405917449468,1.0,0.027998444797511672,0.2299987679980288,1.0,0.4399991039985664,1.0,1.0,1.0,1.0,0.10999857599772159,1.0,0.001698402717444348,0.2599988159981056,1.0,1.0,1.0,1.0,1.0,1.0,1.0,1.0,1.0,1.0,0.2799988479981568,1.0,1.0,0.003098404957447932,1.0,1.0,1.0,1.0,0.0017984028774446041,1.0,1.0,1.0,1.0,1.0,1.0,1.0,1.0,1.0,1.0,1.0,0.549999279998848,0.0015984025574440918,1.0,1.0,1.0,0.055998489597583356,1.0,1.0,1.0,1.0,0.0799985279976448,1.0,1.0,0.058998494397591035,0.23999878399805438,0.0001784002854404567,1.0,1.0,1.0,1.0,1.0,1.0,1.0,1.0,1.0,0.006998411197457915,0.03799846079753727,0.3199989119982592,1.0,0.004298406877451004,1.0,1.0,1.0,1.0,1.0,1.0,0.0009984015974425558,1.0,0.06199849919759872,1.0,1.0,1.0,0.0949985519976832,1.0,1.0,1.0,1.0,1.0,1.0,0.026998443197509114,1.0,1.0,0.003798406077449724,0.2799988479981568,0.11999859199774718,1.0,1.0,1.0,1.0,0.03399845439752703,1.0,1.0,1.0,1.0,1.0,1.0,1.0,1.0,1.0,1.0,1.0,0.001098401757442812,1.0,0.04299846879755007,1.0,0.08999854399767039,0.022998436797498877,1.0,1.0,1.0,1.0,1.0,1.0,1.0,1.0,1.0,1.0,0.004198406717450748,0.001098401757442812,1.0,1.0,1.0,1.0,0.8399997439995904,1.0,1.0,0.04199846719754751,1.0,1.0,0.17999868799790078,1.0,1.0,1.0,1.0,1.0,1.0,0.0008084012934420694,1.0,1.0,1.0,1.0,1.0,1.0,1.0,0.0049984079974527956,1.0,0.006498410397456635,0.004298406877451004,1.0,1.0,0.10999857599772159,0.029998447997516792,1.0,0.29999887999820796,0.15999865599784957,1.0,1.0,0.025998441597506552,1.0,1.0,0.00041840066944107113,1.0,1.0,1.0,1.0,0.011998419197470715,1.0,1.0,0.004198406717450748,1.0,1.0,1.0,0.4099990559984896,1.0,1.0,0.3899990239984384,1.0,1.0,1.0,1.0,1.0,1.0,1.0,0.08799854079766528,1.0,1.0,1.0,1.0,1.0,0.199998719997952,1.0,0.002598404157446652,1.0,0.007898412637460219,1.0,0.699999519999232,1.0,1.0,1.0,1.0,1.0,1.0,1.0,0.11999859199774718,0.011998419197470715,1.0,1.0,1.0,1.0,0.18999870399792637,1.0,1.0,1.0,1.0,1.0,1.0,0.28999886399818237,0.36999899199838715,0.08899854239766784,1.0,1.0,0.006698410717457147,1.0,1.0,0.013998422397475837,1.0,0.399999039998464,1.0,1.0,1.0,1.0,1.0,1.0,0.001198401917443068,1.0,1.0,0.4099990559984896,1.0,1.0,0.7799996479994368,1.0,1.0,1.0,1.0,1.0,0.1299986079977728,1.0,0.199998719997952,1.0,1.0,0.001698402717444348,0.014998423997478397,1.0,1.0,1.0,0.08799854079766528,1.0,1.0,1.0,1.0,0.06199849919759872,1.0,1.0,0.009698415517464826,0.099998559997696,1.0,1.0,1.0,0.29999887999820796,0.34999895999833597,0.04299846879755007,1.0,1.0,1.0,1.0,1.0,1.0,1.0,1.0,0.003798406077449724,1.0,1.0,0.18999870399792637,1.0,0.20999873599797758,1.0,1.0,1.0,1.0,1.0,1.0,1.0,1.0,1.0,1.0,1.0,1.0,0.09399855039768064,1.0,0.5699993119988992,1.0,1.0,0.2799988479981568,0.10999857599772159,1.0,0.199998719997952,0.3099988959982336,1.0,1.0,0.10999857599772159,1.0,1.0,0.04299846879755007,1.0,0.001998403197445116,1.0,1.0,1.0,1.0,1.0,0.15999865599784957,1.0,1.0,1.0,1.0,1.0,1.0,1.0,1.0,1.0,0.14999863999782398,1.0,1.0,1.0,1.0,0.00045840073344117344,0.1399986239977984,1.0,1.0,1.0,0.001198401917443068,0.0017984028774446041,1.0,0.09299854879767808,1.0,1.0,1.0,1.0,1.0,1.0,0.010998417597468155,0.09399855039768064,1.0,0.032998452797524475,1.0,1.0,1.0,1.0,1.0,1.0,0.08799854079766528,1.0,1.0,1.0,1.0,1.0,0.0007684012294419671,1.0,0.009798415677465084,1.0,1.0,1.0,0.3399989439983104,1.0,0.09099854559767295,1.0,0.043998470397552635,1.0,1.0,1.0,1.0,1.0,1.0,1.0,0.026998443197509114,1.0,1.0,1.0,0.002598404157446652,0.03599845759753215,0.008198413117460987,1.0,1.0,1.0,1.0,0.0007784012454419926,1.0,0.10999857599772159,1.0,0.0003484005574408919,1.0,1.0,0.5099992159987456,1.0,0.2299987679980288,1.0,1.0,1.0,1.0,0.013998422397475837,1.0,1.0,1.0,1.0,1.0,1.0,1.0,1.0,1.0,1.0,1.0,0.03199845119752191,0.009998415997465595,0.17999868799790078,0.023998438397501435,1.0,1.0,0.026998443197509114,0.1699986719978752,1.0,1.0,1.0,1.0,1.0,1.0,1.0,1.0,1.0,1.0,1.0,1.0,1.0,0.0008084012934420694,1.0,1.0,2.940004704007526e-05,1.0,1.0,1.0,1.0,1.0,1.0,1.0,0.1299986079977728,1.0,0.9599999359998976,1.0,1.0,1.0,1.0,0.08999854399767039,1.0,1.0,1.0,1.0,1.0,1.0,1.0,1.0,1.0,1.0,1.0,1.0,1.0,1.0,0.018998430397488636,1.0,1.0,1.0,1.0,1.0,1.0,1.0,1.0,1.0,0.00013840022144035428,0.0003384005414408663,0.04699847519756031,1.0,1.0,1.0,1.0,0.1299986079977728,0.3299989279982848,1.0,1.0,1.0,1.0,1.0,1.0,0.0004984007974412759,0.0001984003174405079,0.004198406717450748,1.0,1.0,1.0,1.0,1.0,1.0,1.0,1.0,1.0,1.0,1.0,0.007598412157459451,1.0,1.0,0.0013984022374435798,1.0,0.2299987679980288,1.0,0.1299986079977728,1.0,1.0,0.3799990079984128,1.0,0.07099851359762176,1.0,0.021998435197496315,0.08999854399767039,0.002998404797447676,1.0,1.0,1.0,1.0,1.0,1.0,1.0,1.0,0.14999863999782398,0.03599845759753215,1.0,0.022998436797498877,1.0,1.0,1.0,1.0,0.017998428797486078,0.45999913599861764,1.0,1.0,0.3199989119982592,1.0,0.018998430397488636,1.0,1.0,1.0,1.0,1.0,0.1399986239977984,0.06299850079760128,0.11999859199774718,1.0,1.0,1.0,1.0,1.0,1.0,0.599999359998976,0.017998428797486078,1.0,1.0,0.016998427197483516,0.0049984079974527956,0.001098401757442812,0.34999895999833597,0.4199990719985152,1.0,1.0,0.0849985359976576,1.0,0.017998428797486078,0.011998419197470715,0.0058984094374551,1.0,1.0,1.0,1.0,1.0,1.0,1.0,1.0,0.7599996159993856,1.0,1.0,0.3199989119982592,0.013998422397475837,0.2799988479981568,9.84001574402519e-05,0.001498402397443836,1.0,1.0,1.0,0.043998470397552635,0.017998428797486078,0.10999857599772159,1.0,1.0,1.0,1.0,1.0,1.0,0.013998422397475837,1.0,1.0,1.0,1.0,1.0,0.06299850079760128,1.0,1.0,1.0,1.0,1.0,1.0,1.0,1.0,1.0,1.0,0.44999911999859205,1.0,1.0,1.0,1.0,0.21999875199800317,0.014998423997478397,1.0,0.8399997439995904,1.0,1.0,1.0,1.0,1.0,1.0,1.0,0.005498408797454076,0.009498415197464315,1.0,1.0,1.0,1.0,1.0,1.0,0.029998447997516792,1.0,1.0,0.036998459197534715,1.0,0.2599988159981056,1.0,0.012998420797473277,1.0,1.0,1.0,1.0,1.0,1.0,0.003098404957447932,0.8299997279995648,1.0,1.0,1.0,1.0,0.0699985119976192,0.024998439997503997,1.0,1.0,1.0,1.0,1.0,0.2799988479981568,0.28999886399818237,1.0,0.0649985039976064,1.0,1.0,1.0,1.0,1.0,1.0,0.1699986719978752,1.0,1.0,0.00389840623744998,1.0,0.7099995359992576,0.07699852319763711,1.0,0.00859841375746201,1.0,1.0,1.0,1.0,1.0,1.0,1.0,0.549999279998848,1.0,0.04899847839756543,0.021998435197496315,1.0,1.0,1.0,1.0,1.0,0.1399986239977984,1.0,1.0,1.0,1.0,1.0,1.0,1.0,1.0,8.440013504021606e-05,0.009498415197464315,1.0,0.06299850079760128,1.0,2.3400037440059902e-05,1.0,1.0,1.0,0.00043840070144112234,0.007198411517458427,1.0,1.0,1.0,1.0,1.0,1.0,1.0,1.0,1.0,1.0,1.0,1.0,0.023998438397501435,1.0,1.0,1.0,1.0,1.0,1.0,1.0,1.0,1.0,1.0,0.014998423997478397,1.0,0.10999857599772159,1.0,1.0,1.0,1.0,0.05399848639757824,1.0,1.0,1.0,1.0,1.0,1.0,0.004698407517452028,1.0,1.0,1.0,1.0,1.0,0.23999878399805438,0.29999887999820796,1.0,1.0,1.0,1.0,0.009898415837465339,1.0,1.0,1.0,0.06699850719761152,1.0,1.0,1.0,0.3899990239984384,1.0,1.0,1.0,0.0004484007174411479,1.0,1.0,0.11999859199774718,0.6699994719991552,0.04199846719754751,1.0,1.0,0.17999868799790078,1.0,1.0,1.0,1.0,0.15999865599784957,1.0,1.0,1.0,0.10999857599772159,1.0,0.11999859199774718,1.0,1.0,0.004198406717450748,0.099998559997696,1.0,1.0,0.04499847199755519,1.0,1.0,1.0,0.4199990719985152,1.0,1.0,0.001698402717444348,0.11999859199774718,0.0049984079974527956,0.1699986719978752,1.0,0.0599984959975936,1.0,1.0,1.0,0.003698405917449468,0.099998559997696,1.0,0.001098401757442812,1.0,1.0,0.0003184005094408151,1.0,1.0,1.0,1.0,1.0,1.0,1.0,1.0,1.0,1.0,1.0,1.0,0.0799985279976448,0.00489840783745254,1.0,1.0,0.008498413597461755,1.0,0.6699994719991552,1.0,1.0,1.0,0.3299989279982848,0.09299854879767808,1.0,0.002298403677445884,1.0,1.0,1.0,1.0,0.09199854719767551,1.0,1.0,0.050998481597570554,0.18999870399792637,1.0,0.099998559997696,1.0,0.0003384005414408663,1.0,1.0,0.21999875199800317,1.0,1.0,1.0,1.0,0.3199989119982592,1.0,1.0,1.0,0.3099988959982336,1.0,1.0,1.0,0.04699847519756031,1.0,1.0,0.2299987679980288,0.039998463997542394,1.0,1.0,1.0,1.0,1.0,1.0,0.005298408477453564,1.0,1.0,1.640002624004198e-05,1.0,0.10999857599772159,0.11999859199774718,1.0,1.0,1.0,1.0,1.0,1.0,0.002198403517445628,1.0,1.0,1.0,1.0,1.0,1.0,0.7199995519992832,1.0,1.0,0.04999847999756799,1.0,2.240003584005734e-05,1.0,0.06299850079760128,1.0,1.0,1.0,1.0,0.06399850239760384,0.6299994079990529,1.0,1.0,1.0,1.0,1.0,1.0,0.00010840017344027751,0.14999863999782398,1.0,1.0,1.0,1.0,0.003298405277448444,1.0,0.29999887999820796,1.0,1.0,0.199998719997952,1.0,1.0,1.0,1.0,1.0,1.0,0.36999899199838715,0.0009284014854423768,1.0,1.0,0.07699852319763711,0.00959841535746457,1.0,1.0,1.0,1.0,0.023998438397501435,1.0,0.013998422397475837,1.0,1.0,1.0,1.0,1.0,1.0,0.28999886399818237,0.09199854719767551,1.0,1.0,1.0,1.0,1.0,1.0,1.0,1.0,0.08099852959764736,0.08999854399767039,0.5199992319987712,1.0,0.04699847519756031,1.0,1.0,1.0,1.0,1.0,0.008798414077462523,0.949999919999872,1.0,0.00959841535746457,1.0,0.0008784014054422488,0.4299990879985408,0.09699855519768831,1.0,1.0,1.0,1.0,0.1699986719978752,0.008098412957460732,0.18999870399792637,1.0,1.0,0.21999875199800317,1.0,0.07399851839762944,0.649999439999104,1.0,0.06799850879761407,1.0,1.0,1.0,1.0,1.0,1.0,1.0,1.0,1.0,1.0,0.15999865599784957,0.00039840063744101987,0.11999859199774718,1.0,1.0,1.0,1.0,1.0,1.0,0.001998403197445116,1.0,1.0,0.099998559997696,1.0,0.05399848639757824,0.012998420797473277,1.0,1.0,1.0,0.0015984025574440918,1.0,0.18999870399792637,1.0,1.0,0.058998494397591035,0.08199853119764992,1.0,1.0,1.0,1.0,0.07499851999763199,0.0017984028774446041,1.0,0.3099988959982336,1.0,1.0,1.0,1.0,1.0,1.0,0.2299987679980288,0.005998409597455356,1.0,1.0,1.0,1.0,1.0,0.00439840703745126,1.0,1.0,1.0,0.00189840303744486,1.0,1.0,1.0,1.0,0.0008784014054422488,1.0,1.0,0.20999873599797758,1.0,0.1299986079977728,0.15999865599784957,1.0,1.0,0.1699986719978752,1.0,1.0,1.0,1.0,1.0,1.0,1.0,1.0,1.0,0.5899993439989504,1.0,0.5299992479987968,0.18999870399792637,0.04199846719754751,1.0,1.0,0.7099995359992576,0.08699853919766272,1.0,1.0,1.0,1.0,1.0,1.0,0.015998425597480957,1.0,0.3299989279982848,0.0002084003334405335,1.0,0.06299850079760128,0.001498402397443836,1.0,0.03199845119752191,1.0,1.0,1.0,1.0,1.0,1.0,1.0,1.0,1.0,1.0,1.0,0.2799988479981568,1.0,1.0,0.003798406077449724,1.0,1.0,1.0,0.6199993919990272,1.0,0.35999897599836156,0.015998425597480957,1.0,1.0,0.00047840076544122465,1.0,1.0,0.05699849119758592,0.026998443197509114,1.0,1.0,0.00389840623744998,1.0,0.4199990719985152,1.0,1.0,0.4899991839986944,0.001498402397443836,1.0,1.0,1.0,1.0,1.0,1.0,0.003198405117448188,1.0,1.0,1.0,1.0,1.0,1.0,0.5099992159987456,1.0,1.0,1.0,0.011998419197470715,1.0,1.0,1.0,1.0,0.2299987679980288,0.06199849919759872,0.0008884014214422743,0.199998719997952,6.84001094401751e-05,1.0,1.0,1.0,1.0,1.0,0.28999886399818237,1.0,1.0,1.0,1.0,0.026998443197509114,0.06799850879761407,0.44999911999859205,1.0,0.028998446397514234,1.0,1.0,1.0,1.0,1.0,1.0,1.0,1.0,1.0,0.7799996479994368,1.0,0.014998423997478397,1.0,1.0,0.023998438397501435,0.3199989119982592,1.0,1.0,1.0,1.0,1.0,1.0,1.0,1.0,1.0,1.0,1.0,1.0,1.0,1.0,1.0,1.0,1.0,1.0,0.008298413277461242,1.0,0.016998427197483516,1.0,0.009998415997465595,1.0,1.0,1.0,1.0,0.18999870399792637,1.0,1.0,0.1699986719978752,1.0,1.0,1.0,0.047998476797562875,1.0,1.0,1.0,1.0,1.0,1.0,0.2699988319981312,1.0,1.0,1.0,0.002098403357445372,1.0,1.0,1.0,1.0,1.0,0.027998444797511672,0.099998559997696,0.028998446397514234,1.0,1.0,0.5199992319987712,1.0,1.0,1.0,1.0,1.0,1.0,1.0,1.0,0.007398411837458939,1.0,1.0,1.0,1.0,1.0,1.0,1.0,0.899999839999744,1.0,1.0,5.5400088640141815e-05,0.058998494397591035,0.036998459197534715,0.06699850719761152,1.0,1.0,1.0,1.0,1.0,0.2699988319981312,1.0,1.0,1.0,0.7199995519992832,1.0,1.0,1.0,1.0,1.0,0.00539840863745382,1.0,1.0,1.0,0.10999857599772159,1.0,1.0,1.0,1.0,1.0,1.0,1.0,1.0,1.0,0.08799854079766528,0.003098404957447932,1.0,1.0,1.0,0.04999847999756799,1.0,0.0068984110374576595,1.0,0.055998489597583356,1.0,1.0,1.0,0.018998430397488636,1.0,0.20999873599797758,0.14999863999782398,1.0,1.0,1.0,0.005198408317453308,0.03599845759753215,1.0,1.0,0.07599852159763455,1.0,0.1299986079977728,1.0,1.0,1.0,1.0,1.0,1.0,1.0,1.0,1.0,1.0,1.0,1.0,1.0,1.0,1.0,1.0,1.0,1.0,1.0,1.0,1.0,0.3099988959982336,1.0,1.0,1.0,1.0,1.0,0.14999863999782398,1.0,1.0,1.0,0.014998423997478397,1.0,0.11999859199774718,1.0,1.0,1.0,1.0,1.0,0.6199993919990272,1.0,1.0,1.0,1.0,1.0,0.002998404797447676,1.0,0.6199993919990272,1.0,1.0,1.0,0.34999895999833597,1.0,1.0,1.0,1.0,0.9799999679999488,1.0,1.0,1.0,1.0,0.6199993919990272,1.0,1.0,1.0,0.0012984020774433238,0.019998431997491198,0.6699994719991552,1.0,1.0,0.23999878399805438,1.0,1.0,1.0,1.0,1.0,1.0,0.04699847519756031,1.0,1.0,1.0,0.08599853759766016,0.014998423997478397,0.09599855359768576,1.0,1.0,1.0,0.029998447997516792,0.1699986719978752,0.023998438397501435,1.0,1.0,0.1299986079977728,1.0,1.0,0.015998425597480957,1.0,1.0,1.0,1.0,1.0,0.001698402717444348,1.0,1.0,1.0,0.005498408797454076,1.0,0.020998433597493756,1.0,0.24999879999807997,1.0,1.0,0.021998435197496315,1.0,1.0,1.0,1.0,0.0004284006854410967,0.1399986239977984,1.0,0.028998446397514234,1.0,1.0,0.05699849119758592,1.0,1.0,1.0,1.0,1.0,1.0,0.549999279998848,0.05699849119758592,1.0,1.0,1.0,1.0,1.0,1.0,1.0,0.029998447997516792,1.0,1.0,1.0,1.0,1.0,1.0,0.002698404317446908,1.0,0.399999039998464,0.24999879999807997,1.0,0.20999873599797758,1.0,0.09199854719767551,1.0,1.0,1.0,1.0,1.0,1.0,0.050998481597570554,1.0,0.04999847999756799,1.0,1.0,1.0,1.0,0.6699994719991552,1.0,1.0,0.00939841503746406,1.0,1.0,0.08299853279765247,1.0,1.0,1.0,1.0,1.0,1.0,1.0,1.0,1.0,1.0,0.11999859199774718,1.0,0.2299987679980288,1.0,0.009198414717463547,1.0,1.0,1.0,1.0,1.0,1.0,0.18999870399792637,1.0,0.4899991839986944,1.0,1.0,0.00289840463744742,1.0,1.0,1.0,1.0,1.0,1.0,1.0,1.0,1.0,0.010998417597468155,1.0,1.0,1.0,1.0,0.7399995839993344,1.0,0.23999878399805438,0.5699993119988992,0.00047840076544122465,0.07399851839762944,1.0,1.0,1.0,0.026998443197509114,0.0005284008454413527,1.0,1.0,1.0,0.2699988319981312,0.3099988959982336,1.0,0.3899990239984384,0.0001984003174405079,0.0058984094374551,1.0,1.0,1.0,1.0,1.0,1.0,1.0,1.0,1.0,1.0,0.00189840303744486,1.0,0.027998444797511672,0.2599988159981056,1.0,1.0,1.0,1.0,1.0,0.5699993119988992,0.18999870399792637,1.0,1.0,1.0,1.0,1.0,1.0,1.0,0.0058984094374551,1.0,1.0,0.0013984022374435798,1.0,1.0,1.0,1.0,1.0,1.0,0.022998436797498877,0.14999863999782398,1.0,4.940007904012646e-05,1.0,0.012998420797473277,1.0,0.009498415197464315,1.0,1.0,1.0,0.7299995679993088,1.0,1.0,0.09099854559767295,1.0,1.0,0.00013840022144035428,0.0002284003654405847,1.0,1.0,1.0,1.0,0.0017984028774446041,1.0,1.0,1.0,0.06199849919759872,1.0,1.0,0.2699988319981312,0.025998441597506552,1.0,0.002498403997446396,1.0,1.0,1.0,1.0,0.026998443197509114,0.3299989279982848,1.0,1.0,1.0,0.4099990559984896,1.0,1.0,1.0,1.0,1.0,1.0,1.0,1.0,0.001198401917443068,1.0,1.0,1.0,1.0,0.23999878399805438,1.0,1.0,1.0,0.005998409597455356,0.28999886399818237,1.0,1.0,1.0,1.0,1.0,1.0,1.0,0.18999870399792637,1.0,1.0,1.0,1.0,0.04499847199755519,1.0,0.2699988319981312,1.0,1.0,1.0,0.3899990239984384,0.03399845439752703,1.0,1.0,0.021998435197496315,1.0,0.4399991039985664,0.5299992479987968,1.0,1.0,0.9399999039998465,1.0,0.00489840783745254,0.019998431997491198,0.0006284010054416086,1.0,0.020998433597493756,0.001198401917443068,1.0,1.0,1.0,1.0,0.032998452797524475,1.0,1.0,1.0,1.0,1.0,1.0,1.0,1.0,1.0,1.0,1.0,0.11999859199774718,1.0,0.399999039998464,0.9799999679999488,1.0,1.0,0.03399845439752703,1.0,1.0,0.0004284006854410967,0.34999895999833597,1.0,1.0,1.0,1.0,1.0,1.0,1.0,1.0,0.4799991679986688,0.002498403997446396,0.2599988159981056,1.0,0.023998438397501435,1.0,0.5599992959988737,1.0,0.199998719997952,1.0,0.1699986719978752,0.004098406557450492,0.009998415997465595,1.0,1.0,1.0,0.2599988159981056,1.0,1.0,1.0,1.0,1.0,1.0,1.0,0.07499851999763199,1.0,1.0,1.0,1.0,1.0,1.0,0.5099992159987456,1.0,1.0,1.0,1.0,1.0,0.49999919999872,1.0,1.0,1.0,1.0,1.0,1.0,1.0,1.0,0.03599845759753215,0.15999865599784957,1.0,1.0,1.0,1.0,1.0,0.199998719997952,1.0,1.0,1.0,1.0,1.0,0.0012984020774433238,0.7599996159993856,0.04899847839756543,1.0,1.0,0.005598408957454332,1.0,1.0,0.011998419197470715,0.08099852959764736,1.0,1.0,1.0,1.0,1.0,0.018998430397488636,0.5799993279989248,1.0,0.11999859199774718,1.0,1.0,1.0,1.0,1.0,1.0,1.0,1.0,1.0,1.0,1.0,1.0,0.04699847519756031,1.0,0.06199849919759872,0.0005484008774414039,1.0,1.0,0.3799990079984128,1.0,1.0,1.0,1.0,1.0,0.08699853919766272,0.009998415997465595,1.0,1.0,1.0,1.0,1.0,0.0003584005734409175,0.08399853439765503,1.0,1.0,0.0083984134374615,1.0,0.21999875199800317,1.0,0.35999897599836156,1.0,1.0,1.0,0.015998425597480957,1.0,1.0,1.0,1.0,1.0,0.24999879999807997,1.0,1.0,0.2799988479981568,1.0,1.0,1.0,0.11999859199774718,1.0,0.005098408157453052,1.0,1.0,0.2799988479981568,0.1299986079977728,0.026998443197509114,0.3099988959982336,0.043998470397552635,0.2299987679980288,0.020998433597493756,1.0,0.15999865599784957,1.0,1.0,0.012998420797473277,1.0,0.06699850719761152,1.0,0.15999865599784957,1.0,1.0,1.0,1.0,1.0,0.011998419197470715,1.0,1.0,1.0,1.0,1.0,1.0,1.0,1.0,1.0,0.1699986719978752,1.0,1.0,1.0,1.0,1.0,1.0,0.00024840039744063587,1.0,1.0,1.0,1.0,0.44999911999859205,1.0,0.06299850079760128,0.17999868799790078,1.0,1.0,1.0,1.0,1.0,1.0,1.0,0.03399845439752703,0.0007784012454419926,1.0,1.0,1.0,1.0,1.0,0.024998439997503997,0.4199990719985152,1.0,1.0,1.0,1.0,1.0,1.0,1.0,1.0,1.0,1.0,0.07899852639764224,1.0,1.0,1.0,0.36999899199838715,1.0,1.0,0.10999857599772159,1.0,1.0,1.0,0.18999870399792637,1.0,1.0,1.0,1.0,1.0,1.0,1.0,1.0,1.0,1.0,1.0,1.0,0.0013984022374435798,1.0,0.07199851519762432,0.021998435197496315,1.0,1.0,1.0,1.0,0.002598404157446652,0.002298403677445884,1.0,1.0,1.0,1.0,1.0,1.0,1.0,0.28999886399818237,0.2599988159981056,1.0,0.07699852319763711,1.0,1.0,0.03899846239753983,1.0,0.6199993919990272,1.0,1.0,1.0,1.0,0.14999863999782398,1.0,0.004098406557450492,1.0,1.0,1.0,0.11999859199774718,1.0,1.0,0.007598412157459451,0.17999868799790078,1.0,0.11999859199774718,1.0,1.0,1.0,1.0,0.008198413117460987,0.032998452797524475,3.0400048640077823e-05,0.001098401757442812,1.0,1.0,0.029998447997516792,1.0,1.0,1.0,1.0,1.0,1.0,1.0,1.0,0.00024840039744063587,0.016998427197483516,0.07299851679762688,1.0,1.0,0.030998449597519354,0.0002984004774407639,1.0,1.0,1.0,1.0,1.0,1.0,1.0,0.07699852319763711,0.03799846079753727,1.0,1.0,0.4399991039985664,1.0,1.0,1.0,1.0,1.0,1.0,1.0,1.0,1.0,1.0,0.1699986719978752,0.003698405917449468,1.0,1.0,1.0,1.0,1.0,1.0,1.0,1.0,0.002998404797447676,1.0,0.011998419197470715,1.0,1.0,1.0,1.0,1.0,0.09399855039768064,1.0,0.05699849119758592,1.0,1.0,1.0,0.4099990559984896,1.0,0.3199989119982592,1.0,0.1399986239977984,1.0,1.0,0.0007584012134419414,1.0,1.0,1.0,1.0,1.0,1.0,1.0,1.0,1.0,1.0,1.0,0.03599845759753215,1.0,1.0,1.0,1.0,1.0,1.0,1.0,1.0,0.028998446397514234,0.099998559997696,0.23999878399805438,1.0,1.0,1.0,1.0,0.36999899199838715,1.0,1.0,1.0,1.0,1.0,1.0,1.0,1.0,1.0,1.0,1.0,1.0,1.0,1.0,1.0,0.1299986079977728,1.0,0.0006584010534416854,0.0007884012614420183,1.0,0.04299846879755007,0.013998422397475837,0.10999857599772159,1.0,8.440013504021606e-05,1.0,0.06899851039761663,1.0,1.0,1.0,1.0,1.0,0.07199851519762432,1.0,1.0,1.0,1.0,0.030998449597519354,0.03599845759753215,1.0,1.0,1.0,0.008798414077462523,1.0,1.0,1.0,0.06699850719761152,0.9599999359998976,1.0,0.07199851519762432,1.0,0.9399999039998465,1.0,1.0,1.0,1.0,1.0,1.0,0.025998441597506552,1.0,1.0,0.09399855039768064,1.0,1.0,1.0,1.0,1.0,0.3299989279982848,1.0,1.0,1.0,1.0,1.0,1.0,0.2299987679980288,1.0,1.0,1.0,1.0,1.0,0.45999913599861764,1.0,1.0,1.0,0.0006484010374416599,1.0,1.0,1.0,1.0,1.0,1.0,1.0,1.0,0.0034984055974489558,1.0,1.0,0.002098403357445372,1.0,1.0,0.9599999359998976,1.0,1.0,1.0,1.0,1.0,1.0,1.0,1.0,1.0,1.0,1.0,1.0,1.0,1.0,0.10999857599772159,1.0,1.0,1.0,0.21999875199800317,0.1299986079977728,1.0,1.0,0.10999857599772159,1.0,0.0599984959975936,1.0,1.0,0.24999879999807997,0.28999886399818237,1.0,1.0,0.2599988159981056,1.0,1.0,1.0,1.0,1.0,1.0,1.0,0.0002084003334405335,1.0,0.07699852319763711,1.0,1.0,1.0,1.0,1.0,0.2699988319981312,1.0,0.006798410877457403,1.0,0.00011840018944030309,1.0,1.0,1.0,0.027998444797511672,0.0799985279976448,0.0015984025574440918,1.0,1.0,1.0,1.0,1.0,1.0,1.0,1.0,1.0,1.0,1.0,0.23999878399805438,0.010998417597468155,1.0,0.001098401757442812,1.0,0.28999886399818237,1.0,0.6299994079990529,0.050998481597570554,0.005498408797454076,1.0,1.0,1.0,1.0,0.004198406717450748,1.0,1.0,1.0,1.0,1.0,0.45999913599861764,1.0,1.0,0.11999859199774718,0.043998470397552635,1.0,1.0,1.0,1.0,0.036998459197534715,1.0,1.0,1.0,1.0,0.11999859199774718,0.3799990079984128,1.0,1.0,1.0,1.0,1.0,1.0,1.0,0.050998481597570554,1.0,1.0,0.013998422397475837,1.0,1.0,1.0,0.0599984959975936,1.0,1.0,0.010998417597468155,1.0,0.10999857599772159,0.00189840303744486,0.4099990559984896,0.019998431997491198,1.0,0.18999870399792637,1.0,0.04999847999756799,0.0949985519976832,0.001498402397443836,1.0,1.0,0.099998559997696,1.0,0.005498408797454076,1.0,1.0,1.0,0.1399986239977984,1.0,1.0,1.0,1.0,1.0,1.0,0.007798412477459963,0.023998438397501435,1.0,1.0,1.0,1.0,1.0,1.0,1.0,1.0,0.07799852479763968,1.0,1.0,1.0,0.23999878399805438,0.2299987679980288,1.0,1.0,1.0,0.2699988319981312,1.0,1.0,1.0,0.00639841023745638,0.051998483197573116,1.0,1.0,1.0,1.0,1.0,1.0,1.0,0.23999878399805438,1.0,0.6399994239990784,1.0,1.0,0.00959841535746457,1.0,0.0599984959975936,1.0,1.0,0.025998441597506552,1.0,1.0,1.0,0.0001484002374403799,1.0,0.00289840463744742,1.0,1.0,0.0009984015974425558,1.0,1.0,1.0,1.0,0.17999868799790078,1.0,1.0,1.0,0.005498408797454076,1.0,1.0,1.0,1.0,1.0,1.0,1.0,1.0,1.0,1.0,1.0,1.0,1.0,0.099998559997696,1.0,1.0,1.0,0.003598405757449212,1.0,0.099998559997696,0.051998483197573116,1.0,1.0,0.06699850719761152,1.0,1.0,1.0,1.0,0.0006484010374416599,1.0,1.0,1.0,0.1299986079977728,0.05299848479757568,1.0,1.0,1.0,1.0,0.05399848639757824,1.0,0.0002784004454407127,1.0,0.3899990239984384,1.0,0.0003384005414408663,0.0008284013254421207,1.0,0.0013984022374435798,1.0,0.4199990719985152,1.0,0.009998415997465595,0.011998419197470715,1.0,0.6199993919990272,1.0,1.0,4.940007904012646e-05,1.0,1.0,0.14999863999782398,1.0,1.0,1.0,1.0,1.0,1.0,1.0,1.0,1.0,0.2599988159981056,1.0,1.0,0.23999878399805438,1.0,1.0,0.008998414397463034,1.0,1.0,1.0,1.0,1.0,1.0,1.0,1.0,1.0,1.0,0.029998447997516792,0.08399853439765503,1.0,1.0,1.0,1.0,1.0,1.0,0.006698410717457147,0.14999863999782398,1.0,1.0,1.0,0.0005584008934414295,1.0,1.0,1.0,1.0,1.0,1.0,1.0,1.0,1.0,0.6199993919990272,1.0,1.0,1.0,0.2699988319981312,1.0,1.0,1.0,0.6199993919990272,0.4099990559984896,1.0,0.1299986079977728,1.0,1.0,1.0,0.054998487997580794,1.0,1.0,1.0,1.0,1.0,1.0,1.0,0.14999863999782398,0.003198405117448188,1.0,0.001198401917443068,1.0,1.0,1.0,1.0,1.0,0.0083984134374615,1.0,1.0,0.10999857599772159,0.027998444797511672,1.0,1.0,1.0,0.015998425597480957,1.0,1.0,1.0,1.0,1.0,0.04299846879755007,0.004098406557450492,0.030998449597519354,1.0,0.07099851359762176,1.0,1.0,1.0,1.0,1.0,0.14999863999782398,0.4299990879985408,1.0,1.0,1.0,0.199998719997952,1.0,1.0,0.17999868799790078,0.019998431997491198,2.0400032640052226e-05,0.03599845759753215,0.8899998239997184,1.0,1.0,1.0,0.5899993439989504,1.0,0.06299850079760128,0.0004284006854410967,0.03499845599752959,1.0,1.0,1.0,1.0,1.0,1.0,1.0,1.0,1.0,1.0,0.000818401309442095,1.0,1.0,1.0,0.0599984959975936,1.0,4.84000774401239e-05,0.1299986079977728,1.0,1.0,1.0,1.0,1.0,1.0,1.0,1.0,1.0,1.0,0.09099854559767295,0.8799998079996928,1.0,1.0,1.0,0.0009984015974425558,1.0,1.0,1.0,1.0,1.0,1.0,1.0,0.2799988479981568,1.0,1.0,0.0005884009414415063,1.0,0.4799991679986688,0.002698404317446908,1.0,0.09099854559767295,1.0,1.0,0.03899846239753983,1.0,0.06399850239760384,1.0,1.0,0.7499995999993601,0.4399991039985664,1.0,1.0,1.0,0.0012984020774433238,0.23999878399805438,1.0,0.058998494397591035,1.0,1.0,1.0,1.0,0.6699994719991552,0.5299992479987968,1.0,1.0,1.0,1.0,0.08099852959764736,1.0,1.0,1.0,1.0,1.0,1.0,0.05399848639757824,1.0,1.0,1.0,1.0,0.030998449597519354,1.0,1.0,1.0,1.0,1.0,1.0,1.0,1.0,0.3199989119982592,1.0,1.0,1.0,1.0,0.019998431997491198,1.0,1.0,1.0,1.0,1.0,1.0,0.014998423997478397,1.0,0.07499851999763199,0.4399991039985664,0.9599999359998976,1.0,1.0,1.0,1.0,1.0,0.1699986719978752,1.0,1.0,0.027998444797511672,0.20999873599797758,0.14999863999782398,1.0,1.0,1.0,1.0,1.0,1.0,1.0,1.9400031040049665e-05,1.0,1.0,1.0,1.0,0.04299846879755007,0.025998441597506552,0.1399986239977984,1.0,0.10999857599772159,0.016998427197483516,0.039998463997542394,1.0,1.0,1.0,0.004498407197451516,1.0,1.0,1.0,1.0,1.0,0.5299992479987968,1.0,0.009898415837465339,1.0,1.0,0.007198411517458427,1.0,0.5399992639988224,1.0,1.0,1.0,1.0,1.0,1.0,1.0,1.0,0.04599847359755775,1.0,0.10999857599772159,1.0,1.0,0.15999865599784957,1.0,1.0,1.0,0.199998719997952,1.0,5.3400085440136706e-05,0.2599988159981056,0.20999873599797758,1.0,0.0009884015814425303,1.0,1.0,0.001698402717444348,1.0,1.0,1.0,1.0,0.03399845439752703,1.0,1.0,0.11999859199774718,1.0,1.0,1.0,1.0,0.29999887999820796,0.9099998559997696,1.0,1.0,1.0,1.0,0.032998452797524475,1.0,0.10999857599772159,1.0,1.0,1.0,1.0,1.0,1.0,1.0,0.002498403997446396,1.0,1.0,1.0,0.0068984110374576595,1.0,1.0,1.0,1.0,1.0,0.004598407357451772,1.0,1.0,1.0,1.0,1.0,1.0,1.0,1.0,1.0,1.0,1.0,1.0,1.0,0.1699986719978752,1.0,1.0,1.0,1.0,0.00439840703745126,1.0,1.0,1.0,1.0,1.0,1.0,1.0,1.0,1.0,1.0,1.0,1.0,1.0,0.04899847839756543,1.0,1.0,0.00859841375746201,0.019998431997491198,1.0,1.0,0.016998427197483516,1.0,1.0,0.010998417597468155,1.0,1.0,1.0,1.0,0.34999895999833597,1.0,0.003698405917449468,1.0,1.0,0.04199846719754751,1.0,1.0,1.0,1.0,1.0,1.0,1.0,1.0,1.0,0.0003284005254408407,1.0,1.0,1.0,1.0,0.006598410557456891,1.0,1.0,1.0,1.0,1.0,1.0,1.0,1.0,1.0,1.0,1.0,1.0,1.0,0.00011840018944030309,1.0,1.0,1.0,1.0,2.6400042240067585e-05,0.0009084014534423254,1.0,1.0,1.0,0.3199989119982592,1.0,9.240014784023654e-05,1.0,1.0,1.0,1.0,1.0,0.04699847519756031,0.040998465597544956,0.054998487997580794,1.0,0.036998459197534715,0.17999868799790078,1.0,0.08699853919766272,1.0,1.0,1.0,1.0,1.0,1.0,1.0,1.0,1.0,1.0,1.0,0.004498407197451516,1.0,0.015998425597480957,0.025998441597506552,1.0,1.0,1.0,1.0,1.0,1.0,1.0,1.0,0.6299994079990529,1.0,0.20999873599797758,0.2699988319981312,1.0,1.0,1.0,1.0,1.0,0.03199845119752191,1.0,0.023998438397501435,1.0,1.0,0.6199993919990272,3.940006304010086e-05,1.0,1.0,1.0,1.0,1.0,1.0,0.14999863999782398,1.0,1.0,1.0,1.0,0.013998422397475837,1.0,1.0,0.010998417597468155,1.0,0.03599845759753215,1.0,1.0,1.0,1.0,1.0,0.1399986239977984,1.0,1.0,1.0,1.0,1.0,1.0,1.0,0.06199849919759872,0.11999859199774718,0.399999039998464,1.0,1.0,1.0,1.0,1.0,0.23999878399805438,0.04999847999756799,1.0,0.2599988159981056,1.0,1.0,1.0,1.0,1.0,1.0,1.0,1.0,1.0,1.0,1.0,1.0,1.0,1.0,1.0,1.0,0.10999857599772159,1.0,1.0,0.051998483197573116,1.0,1.0,1.0,1.0,1.0,1.0,1.0,1.0,1.0,1.0,1.0,1.0,1.0,1.0,1.0,1.0,1.0,1.0,0.6899995039992064,1.0,1.0,0.10999857599772159,1.0,1.0,1.0,1.0,1.0,1.0,1.0,1.0,1.0,1.0,1.0,1.0,0.44999911999859205,1.0,1.0,1.0,0.10999857599772159,1.0,1.0,0.399999039998464,1.0,1.0,0.002298403677445884,1.0,1.0,1.0,1.0,1.0,1.0,1.0,1.0,0.0005984009574415319,0.8399997439995904,1.0,1.0,1.0,1.0,1.0,1.0,1.0,1.0,1.0,0.09799855679769087,1.0,1.0,1.0,0.0007284011654418647,1.0,1.0,1.0,1.0,1.0,1.0,1.0,0.0015984025574440918,1.0,0.007098411357458171,1.0,1.0,1.0,0.0009584015334424534,1.0,0.005098408157453052,1.0,1.0,0.04599847359755775,1.0,1.0,0.8699997919996671,0.3199989119982592,0.0013984022374435798,1.0,1.0,1.0,1.0,1.0,1.0,1.0,1.0,0.34999895999833597,1.0,1.0,0.00037840060544096866,0.7599996159993856,1.0,0.3299989279982848,1.0,1.0,1.0,1.0,1.0,0.0017984028774446041,1.0,1.0,1.0,1.0,1.0,1.0,1.0,0.0015984025574440918,0.2699988319981312,1.0,0.2699988319981312,1.0,0.8899998239997184,0.016998427197483516,0.00439840703745126,1.0,1.0,1.0,1.0,1.0,0.18999870399792637,1.0,1.0,0.03599845759753215,1.0,1.0,1.0,1.0,1.0,1.0,0.08699853919766272,1.0,1.0,1.0,1.0,0.04299846879755007,1.0,0.024998439997503997,1.0,1.0,1.0,1.0,1.0,0.06199849919759872,1.0,1.0,1.0,1.0,1.0,1.0,1.0,1.0,1.0,1.0,1.0,1.0,0.04899847839756543,1.0,1.0,1.0,1.0,1.0,1.0,1.0,1.0,1.0,1.0,1.0,1.0,1.0,1.0,1.0,0.3799990079984128,1.0,1.0,1.4400023040036864e-05,1.0,1.0,1.0,1.0,1.0,1.0,1.0,1.0,1.0,0.00939841503746406,0.4399991039985664,1.0,1.0,0.1399986239977984,1.0,1.0,0.004198406717450748,1.0,1.0,1.0,1.0,0.0699985119976192,0.14999863999782398,1.0,1.0,1.0,0.2599988159981056,1.0,1.0,1.0,0.018998430397488636,1.0,0.34999895999833597,1.0,1.0,1.0,1.0,1.0,1.0,1.0,1.0,1.0,1.0,1.0,0.5899993439989504,1.0,1.0,0.003298405277448444,1.0,1.0,1.0,0.03599845759753215,0.099998559997696,1.0,1.0,1.0,1.0,1.0,1.0,1.0,1.0,1.0,1.0,0.4099990559984896,1.0,0.1299986079977728,1.0,1.0,1.0,1.0,1.0,1.0,0.1299986079977728,0.00010840017344027751,1.0,0.018998430397488636,0.45999913599861764,1.0,1.0,1.0,0.05299848479757568,1.0,0.008198413117460987,1.0,0.05699849119758592,1.0,1.0,0.0003084004934407895,1.0,1.0,1.0,1.0,1.0,1.0,1.0,1.0,1.0,1.0,1.0,1.0,1.0,0.099998559997696,1.0,1.0,0.00189840303744486,1.0,0.010998417597468155,1.0,0.24999879999807997,0.24999879999807997,1.0,0.020998433597493756,1.0,1.0,1.0,1.0,0.399999039998464,1.0,0.09099854559767295,1.0,1.0,1.0,0.06699850719761152,1.0,1.0,1.0,1.0,1.0,1.0,1.0,0.0009984015974425558,0.0017984028774446041,0.00539840863745382,1.0,1.0,1.0,1.0,1.0,0.3099988959982336,1.0,0.4099990559984896,1.0,0.4399991039985664,1.0,1.0,0.1299986079977728,0.8199997119995392,0.007498411997459195,1.0,0.0599984959975936,1.0,1.0,1.0,1.0,1.0,1.0,0.0034984055974489558,1.0,1.0,1.0,0.07399851839762944,0.019998431997491198,1.0,0.3399989439983104,0.3199989119982592,1.0,0.4399991039985664,0.09399855039768064,1.0,1.0,1.0,0.032998452797524475,1.0,0.022998436797498877,1.0,1.0,1.0,1.0,1.0,0.04899847839756543,1.0,1.0,1.0,1.0,1.0,0.036998459197534715,1.0,0.06799850879761407,1.0,0.5699993119988992,0.002798404477447164,0.9899999839999744,1.0,1.0,1.0,1.0,1.0,0.7099995359992576,1.0,1.0,1.0,1.0,0.44999911999859205,1.0,0.03799846079753727,0.006698410717457147,0.1399986239977984,1.0,1.0,1.0,0.849999759999616,1.0,2.5400040640065024e-05,1.0,1.0,0.1399986239977984,1.0,1.0,1.0,1.0,1.0,1.0,1.0,0.28999886399818237,1.0,1.0,1.0,1.0,1.0,1.0,1.0,1.0,1.0,1.0,1.0,1.0,0.1699986719978752,1.0,1.0,1.0,1.0,1.0,1.0,0.03799846079753727,1.0,1.0,0.34999895999833597,1.0,1.0,1.0,1.0,1.0,1.0,1.0,1.0,1.0,1.0,0.36999899199838715,1.0,1.0,1.0,0.006998411197457915,1.0,1.0,0.00489840783745254,1.0,1.0,1.0,1.0,1.0,1.0,0.0799985279976448,0.008898414237462779,1.0,0.009198414717463547,1.0,0.06899851039761663,1.0,1.0,1.0,1.0,1.0,1.0,0.023998438397501435,1.0,4.140006624010598e-05,1.0,1.0,1.0,0.23999878399805438,1.0,0.11999859199774718,1.0,1.0,1.0,0.00539840863745382,1.0,1.0,1.0,1.0,1.0,0.009998415997465595,1.0,0.4399991039985664,0.03199845119752191,1.0,2.240003584005734e-05,1.0,0.006798410877457403,0.18999870399792637,1.0,1.0,1.0,1.0,1.0,1.0,0.6299994079990529,1.0,1.0,1.0,0.11999859199774718,0.23999878399805438,1.0,0.2299987679980288,1.0,1.0,1.0,0.0005284008454413527,1.0,0.020998433597493756,1.0,0.021998435197496315,1.0,0.24999879999807997,1.0,0.03399845439752703,1.0,1.0,1.0,1.0,0.1399986239977984,1.0,0.199998719997952,0.020998433597493756,0.399999039998464,1.0,0.002598404157446652,1.0,1.0,0.08299853279765247,0.007498411997459195,1.0,1.0,1.0,1.0,1.0,1.0,1.0,1.0,0.10999857599772159,0.040998465597544956,0.1699986719978752,1.0,0.00389840623744998,1.0,1.0,1.0,1.0,1.0,1.0,3.240005184008294e-05,0.20999873599797758,0.44999911999859205,1.0,1.0,0.0009384015014424023,1.0,0.036998459197534715,0.11999859199774718,1.0,0.1299986079977728,0.17999868799790078,0.023998438397501435,1.0,1.0,0.1399986239977984,1.0,1.0,1.0,0.0017984028774446041,1.0,1.0,0.15999865599784957,1.0,0.03899846239753983,0.003098404957447932,1.0,1.0,1.0,1.0,1.0,9.84001574402519e-05,1.0,1.0,1.0,1.0,1.0,1.0,1.0,0.0649985039976064,1.0,1.0,1.0,1.0,1.0,1.0,1.0,1.0,1.0,1.0,1.0,1.0,1.0,1.0,1.0,1.0,1.0,1.0,0.07199851519762432,1.0,1.0,1.0,1.0,1.0,1.0,0.007098411357458171,1.0,1.0,1.0,1.0,0.03499845599752959,1.0,1.0,0.002798404477447164,0.0599984959975936,1.0,1.0,1.0,0.18999870399792637,1.0,1.0,1.0,0.054998487997580794,1.0,1.0,0.008098412957460732,1.0,1.0,0.11999859199774718,0.003098404957447932,0.05699849119758592,0.023998438397501435,1.0,1.0,1.0,1.0,1.0,1.0,1.0,0.0056984091174545875,1.0,0.1399986239977984,0.054998487997580794,1.0,0.4299990879985408,0.08999854399767039,0.2599988159981056,0.03499845599752959,1.0,1.0,1.0,1.0,1.0,1.0,1.0,1.0,1.0,0.008098412957460732,0.11999859199774718,1.0,1.0,1.0,0.0004884007814412503,0.05399848639757824,0.05299848479757568,0.005298408477453564,1.0,0.027998444797511672,1.0,1.0,1.0,1.0,1.0,1.0,0.03599845759753215,1.0,1.0,1.0,1.0,0.005598408957454332,1.0,0.28999886399818237,1.0,1.0,1.0,0.0699985119976192,1.0,1.0,1.0,1.0,1.0,0.2299987679980288,1.0,1.0,1.0,1.0,1.0,1.0,1.0,0.07299851679762688,0.10999857599772159,1.0,1.0,1.0,0.7599996159993856,1.0,0.29999887999820796,1.0,1.0,1.0,0.00489840783745254,4.34000694401111e-05,0.0017984028774446041,1.0,1.0,1.0,1.0,1.0,1.0,1.0,1.0,1.0,1.0,1.0,1.0,1.0,1.0,1.0,0.6899995039992064,1.0,1.0,1.0,1.0,0.5599992959988737,1.0,0.2799988479981568,0.17999868799790078,0.10999857599772159,1.0,1.0,1.0,1.0,0.0049984079974527956,0.08199853119764992,1.0,0.20999873599797758,1.0,1.0,1.0,1.0,1.0,1.0,0.054998487997580794,1.0,0.6299994079990529,0.399999039998464,1.0,0.03799846079753727,0.7299995679993088,1.0,1.0,0.030998449597519354,1.0,1.0,0.10999857599772159,1.0,1.0,0.002098403357445372,1.0,0.014998423997478397,1.0,1.0,1.0,0.07199851519762432,0.036998459197534715,0.1399986239977984,1.0,1.0,1.0,1.0,0.032998452797524475,1.0,1.0,1.0,1.0,0.04599847359755775,1.0,1.0,1.0,1.0,1.0,1.0,0.015998425597480957,0.047998476797562875,1.0,1.0,0.008998414397463034,1.0,0.004298406877451004,0.002198403517445628,1.0,1.0,1.0,1.0,1.0,1.0,1.0,1.0,1.0,1.0,1.0,0.24999879999807997,1.0,1.0,1.0,1.0,1.0,1.0,0.799999679999488,1.0,0.17999868799790078,1.0,1.0,0.8399997439995904,1.0,1.0,1.0,1.0,1.0,1.0,1.0,1.0,1.0,1.0,0.1299986079977728,0.014998423997478397,0.0083984134374615,0.099998559997696,1.0,1.0,3.740005984009574e-05,1.0,1.0,1.0,1.0,1.0,1.0,0.0002784004454407127,1.0,1.0,1.0,0.0599984959975936,1.0,1.0,0.001098401757442812,1.0,0.00189840303744486,0.1399986239977984,0.15999865599784957,1.0,1.0,0.00189840303744486,1.0,0.023998438397501435,1.0,1.0,1.0,0.0049984079974527956,1.0,0.23999878399805438,1.0,1.0,1.0,1.0,1.0,1.0,0.1399986239977984,1.0,0.06199849919759872,1.0,1.0,0.03399845439752703,1.0,0.005198408317453308,1.0,0.15999865599784957,1.0,0.016998427197483516,1.0,0.005498408797454076,1.0,1.0,1.0,0.00010840017344027751,1.0,1.0,1.0,0.007898412637460219,1.0,0.026998443197509114,0.17999868799790078,1.0,0.0015984025574440918,1.0,1.0,0.019998431997491198,0.0034984055974489558,1.0,1.0,0.23999878399805438,1.0,1.0,1.0,1.0,1.0,1.0,1.0,1.0,0.06699850719761152,1.0,0.09199854719767551,1.0,1.0,1.0,1.0,1.0,1.0,0.0009984015974425558,0.6899995039992064,0.34999895999833597,1.0,0.21999875199800317,1.0,1.0,1.0,1.0,0.016998427197483516,1.0,0.022998436797498877,1.0,1.0,1.0,0.017998428797486078,1.0,0.09099854559767295,1.0,1.0,0.014998423997478397,1.0,1.0,0.0004884007814412503,1.0,1.0,1.0,1.0,1.0,0.0003684005894409431,1.0,1.0,1.0,1.0,0.05299848479757568,0.002098403357445372,1.0,0.007698412317459707,1.0,0.08099852959764736,0.6599994559991296,0.021998435197496315,1.0,1.0,1.0,1.0,1.0,1.0,0.032998452797524475,1.0,1.0,0.10999857599772159,6.34001014401623e-05,1.0,0.030998449597519354,1.0,1.0,1.0,1.0,1.0,0.15999865599784957,0.2299987679980288,0.24999879999807997,1.0,1.0,1.0,1.0,1.0,1.0,0.4299990879985408,0.050998481597570554,1.0,1.0,1.0,1.0,1.0,0.4399991039985664,1.0,0.28999886399818237,1.0,1.0,1.0,1.0,1.0,1.0,0.6399994239990784,1.0,1.0,0.007898412637460219,0.11999859199774718,0.10999857599772159,1.0,1.0,1.0,1.0,1.0,1.0,0.03499845599752959,1.0,1.0,1.0,1.0,1.0,1.0,1.0,0.005298408477453564,0.6799994879991809,1.0,0.7599996159993856,0.09699855519768831,0.199998719997952,0.024998439997503997,1.0,1.0,1.0,1.0,0.055998489597583356,1.0,0.05699849119758592,0.3299989279982848,1.0,1.0,1.0,1.0,1.0,1.0,1.0,1.0,0.07199851519762432,1.0,1.0,1.0,1.0,1.0,1.0,1.0,1.0,1.0,0.0008984014374422999,1.0,1.0,1.0,1.0,1.0,1.0,1.0,1.0,1.0,0.29999887999820796,0.07399851839762944,0.040998465597544956,1.0,1.0,1.0,1.0,1.0,0.2299987679980288,1.0,0.03499845599752959,1.0,1.0,0.025998441597506552,1.0,1.0,1.0,1.0,1.0,0.18999870399792637,1.0,1.0,1.0,1.0,0.5399992639988224,1.0,1.0,0.199998719997952,1.0,1.0,1.0,1.0,1.0,1.0,0.199998719997952,0.4399991039985664,1.0,1.0,1.0,1.0,1.0,1.0,0.005198408317453308,1.0,0.032998452797524475,0.1699986719978752,1.0,1.0,0.036998459197534715,1.0,1.0,1.0,1.0,1.0,1.0,1.0,0.00539840863745382,1.0,1.0,1.0,1.0,0.0017984028774446041,0.199998719997952,1.0,1.0,1.0,0.04699847519756031,1.0,0.004198406717450748,0.34999895999833597,1.0,0.021998435197496315,1.0,1.0,1.0,1.0,1.0,1.0,1.0,1.0,1.0,1.0,0.015998425597480957,0.023998438397501435,1.0,0.4699991519986432,1.0,1.0,1.0,1.0,1.0,0.04299846879755007,1.0,0.199998719997952,0.1299986079977728,1.0,1.0,1.0,1.0,0.10999857599772159,0.029998447997516792,1.0,1.0,1.0,0.08099852959764736,1.0,1.0,1.0,1.0,1.0,1.0,0.15999865599784957,1.0,1.0,0.549999279998848,1.0,1.0,1.0,0.18999870399792637,1.0,0.11999859199774718,1.0,1.0,1.0,1.0,0.0017984028774446041,0.014998423997478397,0.8399997439995904,0.10999857599772159,1.0,1.0,1.0,5.740009184014694e-05,0.08899854239766784,0.14999863999782398,1.0,1.0,1.0,0.4399991039985664,0.21999875199800317,1.0,0.027998444797511672,0.1299986079977728,1.0,0.10999857599772159,1.0,0.021998435197496315,0.09699855519768831,0.2299987679980288,1.0,1.0,1.0,0.03599845759753215,0.20999873599797758,1.0,1.0,1.0,1.0,0.3799990079984128,0.002298403677445884,1.0,1.0,0.03799846079753727,1.0,1.0,1.0,1.0,0.019998431997491198,1.0,1.0,1.0,1.0,1.0,0.010998417597468155,1.0,1.0,1.0,0.3099988959982336,1.0,0.2699988319981312,1.0,0.3199989119982592,0.1399986239977984,1.0,1.0,0.025998441597506552,1.0,1.0,0.8199997119995392,0.1399986239977984,1.0,0.2699988319981312,1.0,0.003698405917449468,1.0,1.0,1.0,1.0,1.0,0.07599852159763455,0.0003584005734409175,1.0,1.0,1.0,0.013998422397475837,0.11999859199774718,1.0,1.0,0.0034984055974489558,0.024998439997503997,0.0799985279976448,0.019998431997491198,1.0,1.0,1.0,1.0,1.0,1.0,0.5299992479987968,1.0,1.0,0.2299987679980288,1.0,1.0,0.027998444797511672,1.0,0.020998433597493756,1.0,0.199998719997952,1.0,1.0,1.0,0.14999863999782398,0.28999886399818237,1.0,1.0,1.0,1.0,1.0,1.0,1.0,1.0,0.1699986719978752,0.08299853279765247,0.001198401917443068,1.0,1.0,1.0,1.0,0.03399845439752703,1.0,1.0,1.0,1.0,1.0,1.0,0.00189840303744486,1.0,1.0,0.06799850879761407,0.2599988159981056,1.0,1.0,1.0,1.0,0.5699993119988992,1.0,1.0,0.024998439997503997,1.0,1.0,1.0,0.20999873599797758,1.0,1.0,1.0,1.0,1.0,0.18999870399792637,1.0,1.0,1.0,1.0,0.4699991519986432,1.0,1.0,1.0,1.0,0.3399989439983104,0.03399845439752703,0.15999865599784957,1.0,0.18999870399792637,1.0,1.0,1.0,1.0,1.0,1.0,1.0,0.06799850879761407,1.0,0.0013984022374435798,0.03399845439752703,0.04899847839756543,0.099998559997696,1.0,1.0,1.0,0.06899851039761663,0.07299851679762688,0.018998430397488636,1.0,1.0,1.0,1.0,1.0,1.0,1.0,1.0,1.0,0.014998423997478397,0.04199846719754751,0.549999279998848,0.399999039998464,1.0,0.007598412157459451,0.016998427197483516,1.0,0.04499847199755519,1.0,1.0,1.0,1.0,1.0,1.0,1.0,1.0,1.0,1.0,0.4399991039985664,1.0,0.003098404957447932,1.0,1.0,1.0,1.0,0.07399851839762944,1.0,0.022998436797498877,1.0,1.0,0.1299986079977728,0.20999873599797758,1.0,1.0,1.0,1.0,1.0,0.5699993119988992,1.0,0.1299986079977728,0.08299853279765247,1.0,1.0,1.0,1.0,1.0,0.018998430397488636,1.0,0.0012984020774433238,1.0,1.0,1.0,0.06899851039761663,1.0,1.0,1.0,1.0,1.0,1.0,1.0,1.0,0.5299992479987968,0.0699985119976192,1.0,1.0,1.0,0.4399991039985664,1.0,1.0,1.0,1.0,1.0,1.0,1.0,1.0,1.0,1.0,0.17999868799790078,1.0,1.0,1.0,1.0,1.0,1.0,1.0,1.0,1.0,1.0,0.009198414717463547,0.08299853279765247,1.0,1.0,1.0,1.0,1.0,1.0,1.0,1.0,1.0,1.0,1.0,1.0,1.0,0.009998415997465595,1.0,1.0,1.0,0.0002984004774407639,0.08999854399767039,1.0,1.0,1.0,0.21999875199800317,1.0,1.0,1.0,1.0,1.0,1.0,1.0,1.0,1.0,0.9199998719997952,1.0,1.0,1.0,1.0,1.0,1.0,1.0,1.0,1.0,1.0,1.0,1.0,1.0,0.022998436797498877,1.0,1.0,1.0,1.0,0.020998433597493756,1.0,1.0,0.0949985519976832,1.0,1.0,1.0,0.010998417597468155,1.0,1.0,1.0,1.0,1.0,1.0,1.0,0.5099992159987456,0.08199853119764992,1.0,0.03899846239753983,0.3299989279982848,1.0,0.09099854559767295,1.0,1.0,0.2699988319981312,0.3399989439983104,1.0,1.0,0.549999279998848,1.0,1.0,1.0,1.0,0.11999859199774718,1.0,1.0,1.0,0.016998427197483516,1.0,0.099998559997696,0.05299848479757568,1.0,1.0,0.03899846239753983,0.018998430397488636,0.5099992159987456,1.0,0.00539840863745382,1.0,1.0,1.0,1.0,1.0,1.0,0.010998417597468155,1.0,1.0,1.0,1.0,0.4099990559984896,1.0,0.009498415197464315,1.0,1.0,1.0,1.0,1.0,1.0,1.0,1.0,0.28999886399818237,1.0,1.0,0.001198401917443068,0.10999857599772159,1.0,1.0,0.2699988319981312,0.1299986079977728,1.0,0.5399992639988224,0.06399850239760384,1.0,0.23999878399805438,0.019998431997491198,1.0,1.0,0.030998449597519354,1.0,1.0,1.0,1.0,1.0,1.0,1.0,1.0,1.0,0.020998433597493756,1.0,1.0,1.0,0.002698404317446908,0.34999895999833597,1.0,1.0,1.0,1.0,1.0,1.0,2.300003680005888e-06,1.0,1.0,1.0,0.1299986079977728,1.0,1.0,1.0,0.013998422397475837,0.023998438397501435,1.0,1.0,1.0,0.29999887999820796,1.0,1.0,1.0,1.0,1.0,0.002698404317446908,0.15999865599784957,1.0,1.0,1.0,1.0,0.2299987679980288,0.024998439997503997,1.0,1.0,1.0,0.4699991519986432,1.0,0.020998433597493756,1.0,1.0,1.0,1.0,1.0,1.0,1.0,1.0,1.0,1.0,0.026998443197509114,1.0,0.001698402717444348,1.0,1.0,1.0,1.0,1.0,1.0,0.013998422397475837,1.0,1.0,1.0,1.0,0.003098404957447932,0.011998419197470715,0.0015984025574440918,0.2299987679980288,1.0,1.0,1.0,1.0,1.0,0.0034984055974489558,1.0,1.0,1.0,1.0,1.0,1.0,0.0012984020774433238,1.0,1.0,1.0,0.001198401917443068,0.1399986239977984,0.04299846879755007,0.8399997439995904,1.0,0.0799985279976448,1.0,1.0,1.0,1.0,1.0,1.0,1.0,1.0,1.0,1.0,1.0,1.0,1.0,0.3799990079984128,1.0,1.0,1.0,1.0,1.0,1.0,0.08699853919766272,0.8199997119995392,1.0,0.08599853759766016,0.4199990719985152,1.0,1.0,1.0,1.0,0.6899995039992064,1.0,1.0,0.002598404157446652,1.0,0.004098406557450492,1.0,1.0,0.44999911999859205,1.0,1.0,1.0,1.0,0.0699985119976192,1.0,1.0,1.0,1.0,1.0,0.18999870399792637,1.0,0.0799985279976448,0.00015840025344040552,0.2299987679980288,1.0,1.0,1.0,1.0,1.0,1.0,1.0,1.0,1.0,1.0,1.0,1.0,1.0,1.0,0.2699988319981312,1.0,1.0,1.0,0.49999919999872,1.0,1.0,1.0,1.0,1.0,0.030998449597519354,1.0,1.0,1.0,1.0,1.0,1.0,1.0,1.0,0.008198413117460987,0.007198411517458427,1.0,0.15999865599784957,1.0,1.0,1.0,1.0,0.0033984054374487,1.0,1.0,1.0,1.0,0.5199992319987712,1.0,1.0,1.0,1.0,1.0,1.0,0.4299990879985408,0.8399997439995904,1.0,1.0,1.0,1.0,0.032998452797524475,1.0,0.45999913599861764,1.0,1.0,3.34000534400855e-05,1.0,1.0,1.0,3.540005664009062e-05,0.20999873599797758,1.0,1.0,1.0,1.0,1.0,1.0,1.0,1.0,1.0,1.0,1.0,1.0,1.0,1.0,1.0,1.0,0.00189840303744486,0.2599988159981056,1.0,1.0,1.0,1.0,1.0,1.0,1.0,1.0,1.0,0.054998487997580794,0.006098409757455612,1.0,0.3799990079984128,1.0,0.0006484010374416599,1.0,0.009698415517464826,1.0,1.0,1.0,1.0,1.0,1.0,1.0,1.0,1.0,1.0,1.0,1.0,0.06599850559760896,1.0,1.0,1.0,1.0,1.0,1.0,1.0,1.0,0.03799846079753727,1.0,1.0,1.0,1.0,1.0,1.0,1.0,0.1699986719978752,1.0,0.5899993439989504,1.0,1.0,1.0,0.10999857599772159,0.17999868799790078,1.0,1.0,1.0,1.0,1.0,1.0,1.0,0.043998470397552635,1.0,1.0,1.0,0.00539840863745382,0.022998436797498877,0.9899999839999744,1.0,0.09199854719767551,1.0,0.10999857599772159,0.18999870399792637,1.0,1.0,1.0,1.0,1.0,0.0002384003814406103,1.0,1.0,0.0004684007494411991,1.0,0.14999863999782398,1.0,0.07799852479763968,0.2299987679980288,1.0,1.0,0.17999868799790078,0.055998489597583356,1.0,0.5699993119988992,1.0,0.0599984959975936,1.0,1.0,0.007298411677458683,1.0,1.0,1.0,1.0,1.0,1.0,0.14999863999782398,0.0003184005094408151,1.0,1.0,0.0005584008934414295,1.0,1.0,1.0,1.0,1.0,1.0,1.0,1.0,1.0,1.0,0.44999911999859205,1.0,1.0,1.0,1.0,0.11999859199774718,1.0,0.3799990079984128,1.0,1.0,1.0,1.0,1.0,1.0,0.001498402397443836,1.0,1.0,1.0,1.0,0.0849985359976576,1.0,0.026998443197509114,1.0,0.00959841535746457,1.0,1.0,1.0,1.0,0.029998447997516792,1.0,1.0,1.0,1.0,1.0,0.06899851039761663,1.0,0.0008984014374422999,1.0,0.009998415997465595,1.0,5.040008064012902e-05,1.0,1.0,1.0,1.0,1.0,1.0,0.5099992159987456,0.036998459197534715,1.0,0.001498402397443836,1.0,1.0,0.45999913599861764,0.07299851679762688,1.0,1.0,1.0,1.0,1.0,0.07599852159763455,1.0,1.0,1.0,1.0,0.0008984014374422999,0.021998435197496315,0.012998420797473277,1.0,1.0,1.0,1.0,1.0,1.0,1.0,0.10999857599772159,0.03799846079753727,0.09099854559767295,1.0,1.0,0.013998422397475837,1.0,1.0,1.0,0.20999873599797758,0.018998430397488636,1.0,0.011998419197470715,1.0,0.001098401757442812,1.0,1.0,1.0,1.0,1.0,1.0,0.032998452797524475,1.0,0.11999859199774718,0.058998494397591035,1.0,0.030998449597519354,0.15999865599784957,1.0,1.0,1.0,0.054998487997580794,1.0,1.0,1.0,1.0,0.0005384008614413783,0.45999913599861764,0.9899999839999744,1.0,1.0,0.36999899199838715,1.0,0.4199990719985152,0.0004884007814412503,1.0,1.0,1.0,1.0,1.0,0.023998438397501435,0.6299994079990529,0.09199854719767551,1.0,1.0,1.0,1.0,1.0,1.0,0.00013840022144035428,1.0,1.0,1.0,0.14999863999782398,1.0,7.240011584018534e-05,1.0,0.06199849919759872,1.0,1.0,1.0,1.0,1.0,0.15999865599784957,1.0,1.0,0.021998435197496315,0.45999913599861764,1.0,1.0,1.0,1.0,1.0,1.0,1.0,0.0008384013414421463,1.0,0.10999857599772159,0.2599988159981056,1.0,1.0,1.0,0.032998452797524475,1.0,1.0,1.0,0.04599847359755775,0.18999870399792637,1.0,0.07199851519762432,0.14999863999782398,1.0,0.022998436797498877,0.10999857599772159,1.0,0.004798407677452284,1.0,1.0,0.35999897599836156,1.0,1.0,0.0033984054374487,1.0,1.0,1.0,0.0009484015174424279,0.2299987679980288,0.4199990719985152,1.0,0.09799855679769087,1.0,1.0,1.0,1.0,1.0,1.0,0.0033984054374487,0.23999878399805438,1.0,1.0,0.047998476797562875,0.08099852959764736,1.0,0.6899995039992064,1.0,0.08899854239766784,1.0,0.799999679999488,0.000818401309442095,1.0,1.0,1.0,1.0,1.0,0.11999859199774718,1.0,1.0,1.0,0.001098401757442812,1.0,1.0,1.0,1.0,1.0,0.023998438397501435,1.0,1.0,1.0,1.0,1.0,1.0,1.0,1.0,1.0,1.0,1.0,1.0,1.0,1.0,1.0,1.0,1.0,1.0,0.17999868799790078,1.0,5.5400088640141815e-05,0.022998436797498877,1.0,0.3799990079984128,1.0,1.0,1.4400023040036864e-05,1.0,1.0,1.0,1.0,0.11999859199774718,1.0,1.0,1.0,0.03499845599752959,1.0,1.0,1.0,1.0,1.0,0.10999857599772159,1.0,1.0,0.012998420797473277,0.2599988159981056,1.0,0.04999847999756799,0.9699999519999232,1.0,0.0599984959975936,0.004598407357451772,0.002298403677445884,0.020998433597493756,0.0949985519976832,1.0,1.0,1.0,0.0001984003174405079,0.10999857599772159,1.0,1.0,1.0,1.0,1.0,1.0,1.0,0.009898415837465339,1.0,1.0,1.0,0.003198405117448188,1.0,1.0,1.0,1.0,1.0,1.0,1.0,1.0,1.0,1.0,1.0,1.0,1.0,0.36999899199838715,1.0,1.0,1.0,0.07899852639764224,1.0,1.0,0.007298411677458683,1.0,1.0,1.0,1.0,1.0,0.010998417597468155,1.0,1.0,1.0,1.0,1.0,0.015998425597480957,0.03499845599752959,0.06899851039761663,1.0,1.0,1.0,1.0,0.3399989439983104,1.0,1.0,0.020998433597493756,0.0083984134374615,1.0,1.0,1.0,1.0,1.0,1.0,0.04199846719754751,0.3899990239984384,1.0,0.039998463997542394,0.0058984094374551,1.0,1.0,1.0,0.09599855359768576,1.0,1.0,0.14999863999782398,1.0,0.3299989279982848,1.0,1.0,1.0,1.0,1.0,1.0,1.0,0.055998489597583356,0.001098401757442812,1.0,1.0,1.0,1.0,1.0,1.0,1.0,1.0,0.4299990879985408,1.0,1.0,1.0,1.0,1.0,1.0,0.1399986239977984,1.0,1.0,1.0,1.0,1.0,1.0,1.0,0.007698412317459707,1.0,1.0,1.0,1.0,0.0017984028774446041,1.0,1.0,0.09599855359768576,0.28999886399818237,1.0,0.022998436797498877,1.0,1.0,1.0,1.0,0.002098403357445372,0.2599988159981056,1.0,1.0,0.09399855039768064,1.0,1.0,0.032998452797524475,1.0,1.0,1.0,1.0,0.006698410717457147,1.0,0.14999863999782398,1.0,1.0,1.0,1.0,0.8699997919996671,1.0,1.0,1.0,0.017998428797486078,1.0,1.0,1.0,1.0,0.2799988479981568,1.0,1.0,0.6399994239990784,1.0,1.0,1.0,0.00239840383744614,1.0,0.023998438397501435,1.0,1.0,0.020998433597493756,0.026998443197509114,1.0,0.024998439997503997,1.0,1.0,1.0,1.0,1.0,1.0,0.007998412797460474,1.0,1.0,1.0,1.0,0.15999865599784957,1.0,0.012998420797473277,0.3299989279982848,1.0,1.0,1.0,0.06399850239760384,1.0,1.0,0.0005484008774414039,1.0,1.0,1.0,1.0,0.3399989439983104,1.0,1.0,1.0,1.0,1.0,0.030998449597519354,1.0,0.008098412957460732,0.18999870399792637,0.18999870399792637,0.1699986719978752,0.03899846239753983,1.0,1.0,0.3299989279982848,1.0,1.0,1.0,1.0,1.0,1.0,1.0,0.3199989119982592,1.0,1.0,0.21999875199800317,1.0,1.0,1.0,1.0,0.08299853279765247,0.028998446397514234,1.0,1.0,1.0,0.04199846719754751,1.0,0.20999873599797758,0.010998417597468155,1.0,0.0003184005094408151,0.20999873599797758,0.0013984022374435798,1.0,1.0,0.09899855839769343,1.0,1.0,1.0,0.3199989119982592,1.0,0.051998483197573116,1.0,0.019998431997491198,1.0,0.20999873599797758,1.0,1.0,1.0,1.0,1.0,0.032998452797524475,1.0,9.84001574402519e-05,1.0,1.0,1.0,0.06099849759759616,0.1299986079977728,1.0,1.0,1.0,0.00010840017344027751,1.0,0.7199995519992832,1.0,1.0,1.0,1.0,0.019998431997491198,1.0,0.1399986239977984,1.0,0.013998422397475837,1.0,1.0,1.0,1.0,1.0,1.0,1.0,0.00189840303744486,1.0,1.0,0.047998476797562875,0.899999839999744,1.0,1.0,1.0,1.0,0.17999868799790078,0.4099990559984896,1.0,1.0,1.0,1.0,0.011998419197470715,1.0,0.06299850079760128,0.009698415517464826,1.0,1.0,1.0,1.0,1.0,1.0,1.0,0.025998441597506552,0.055998489597583356,1.0,1.0,1.0,1.0,1.0,1.0,1.0,1.0,1.0,1.0,1.0,1.0,1.0,1.0,1.0,0.005998409597455356,1.0,1.0,1.0,1.0,0.9899999839999744,1.0,1.0,1.0,1.0,1.0,1.0,1.0,1.0,1.0,0.1699986719978752,0.05399848639757824,1.0,0.03499845599752959,1.0,1.0,0.020998433597493756,1.0,1.0,0.24999879999807997,1.0,1.0,1.0,1.0,0.04299846879755007,0.9099998559997696,1.0,1.0,1.0,0.45999913599861764,1.0,1.0,1.0,1.0,1.0,0.024998439997503997,1.0,1.0,0.007898412637460219,0.4799991679986688,1.0,1.0,1.0,1.0,0.002298403677445884,1.0,1.0,1.0,1.0,0.015998425597480957,1.0,1.0,1.0,0.007898412637460219,1.0,0.8899998239997184,1.0,1.0,0.0015984025574440918,5.1400082240131584e-05,1.0,0.03799846079753727,0.012998420797473277,6.940011104017766e-05,1.0,1.0,1.0,1.0,1.0,1.0,0.6699994719991552,1.0,1.0,1.0,1.0,1.0,1.0,1.0,0.025998441597506552,1.0,1.0,1.0,1.0,1.0,1.0,1.0,1.0,0.00189840303744486,0.030998449597519354,1.0,0.0649985039976064,1.0,0.058998494397591035,0.029998447997516792,1.0,0.2699988319981312,0.11999859199774718,1.0,1.0,1.0,1.0,1.0,1.0,1.0,1.0,0.012998420797473277,1.0,1.0,0.0001484002374403799,1.0,1.0,1.0,1.0,1.0,0.039998463997542394,0.1399986239977984,0.0599984959975936,0.14999863999782398,0.3199989119982592,1.0,1.0,1.0,1.0,1.0,1.0,1.0,1.0,1.0,1.0,0.036998459197534715,1.0,0.0009884015814425303,1.0,1.0,1.0,0.0001684002694404311,0.03199845119752191,0.7899996639994624,1.0,1.0,0.001698402717444348,1.0,0.007098411357458171,0.08299853279765247,1.0,0.18999870399792637,1.0,0.0006384010214416343,1.0,1.0,0.026998443197509114,0.001098401757442812,0.028998446397514234,0.0013984022374435798,1.0,1.0,0.4399991039985664,1.0,1.0,0.03899846239753983,1.0,0.1299986079977728,1.0,1.0,1.0,1.0,1.0,0.0083984134374615,0.051998483197573116,1.0,1.0,0.07299851679762688,1.0,1.0,1.0,1.0,1.0,0.0009384015014424023,1.0,1.0,1.0,1.0,1.0,1.0,1.0,1.0,1.0,0.6599994559991296,1.0,0.2799988479981568,1.0,1.0,1.0,1.0,0.002098403357445372,0.36999899199838715,1.0,1.0,0.002498403997446396,1.0,1.0,0.039998463997542394,1.0,1.0,1.0,1.0,1.0,0.006298410077456124,1.0,1.0,0.399999039998464,0.2799988479981568,1.0,0.07099851359762176,1.0,1.0,0.0006884011014417623,1.0,0.018998430397488636,0.06199849919759872,0.024998439997503997,1.0,1.0,0.024998439997503997,0.06899851039761663,0.009198414717463547,1.0,1.0,1.0,1.0,1.0,1.0,1.0,0.15999865599784957,1.0,0.0005784009254414807,1.0,0.007398411837458939,1.0,0.4299990879985408,0.4699991519986432,1.0,0.06699850719761152,1.0,0.058998494397591035,1.0,1.0,1.0,0.14999863999782398,1.0,0.03899846239753983,1.0,1.0,0.799999679999488,1.0,1.0,1.0,1.0,1.0,0.04199846719754751,1.0,1.0,1.0,1.0,0.007898412637460219,1.0,1.0,1.0,1.0,1.0,1.0,1.0,1.0,0.00010840017344027751,1.0,1.0,1.0,1.0,1.0,1.0,0.00239840383744614,1.0,1.0,0.2299987679980288,1.0,1.0,0.10999857599772159,1.0,0.09399855039768064,0.7699996319994112,1.0,0.0799985279976448,0.21999875199800317,1.0,0.6099993759990016,1.0,1.0,1.0,1.0,1.0,1.0,1.0,0.23999878399805438,1.0,1.0,1.0,0.17999868799790078,1.0,1.0,0.021998435197496315,0.23999878399805438,0.14999863999782398,1.0,1.0,1.0,1.0,1.0,0.020998433597493756,1.0,1.0,1.0,1.0,0.7699996319994112,1.0,1.0,1.0,1.0,0.013998422397475837,0.002698404317446908,1.0,0.04199846719754751,1.0,0.9799999679999488,1.0,0.5899993439989504,0.10999857599772159,0.17999868799790078,1.0,1.0,1.0,1.0,0.11999859199774718,1.0,0.3099988959982336,0.08999854399767039,1.0,1.0,1.0,1.0,1.0,1.0,1.0,1.0,0.3399989439983104,1.0,1.0,0.0849985359976576,0.04699847519756031,0.030998449597519354,1.0,1.0,1.0,1.0,1.0,1.0,1.0,0.012998420797473277,1.0,0.1399986239977984,1.0,1.0,0.032998452797524475,0.0799985279976448,0.0013984022374435798,1.0,1.0,1.0,0.024998439997503997,1.0,1.0,1.0,1.0,0.018998430397488636,1.0,1.0,1.0,1.0,0.0058984094374551,1.0,1.0,1.0,1.0,0.5699993119988992,1.0,1.0,1.0,1.0,1.0,1.0,0.09099854559767295,1.0,1.0,1.0,1.0,1.0,1.0,1.0,1.0,1.0,0.00010840017344027751,1.0,1.0,1.0,1.0,1.0,0.03899846239753983,1.0,0.032998452797524475,1.0,1.0,1.0,1.0,1.0,0.4799991679986688,1.0,0.1399986239977984,1.0,1.0,1.0,1.0,5.1400082240131584e-05,1.0,0.03599845759753215,1.0,1.0,1.0,1.0,1.0,0.050998481597570554,1.0,1.0,1.0,0.0008784014054422488,1.0,1.0,1.0,1.0,1.0,1.0,1.0,1.0,1.0,1.0,1.0,0.050998481597570554,0.21999875199800317,1.0,0.34999895999833597,1.0,0.3199989119982592,1.0,0.028998446397514234,1.0,1.0,1.0,0.03799846079753727,1.0,0.03799846079753727,1.0,0.6799994879991809,0.3299989279982848,0.03499845599752959,1.0,1.0,1.0,0.9699999519999232,0.0001484002374403799,1.0,1.0,1.0,1.0,1.0,1.0,1.0,0.34999895999833597,1.0,1.0,1.0,1.0,1.0,1.0,1.0,1.0,1.0,1.0,1.0,0.2699988319981312,1.0,1.0,0.055998489597583356,0.3399989439983104,0.08399853439765503,1.0,1.0,1.0,1.0,1.0,1.0,1.0,1.0,0.1699986719978752,1.0,1.0,0.15999865599784957,0.199998719997952,0.18999870399792637,0.1399986239977984,1.0,1.0,1.0,1.0,1.0,1.0,1.0,1.0,1.0,1.0,0.06899851039761663,0.09599855359768576,1.0,1.0,1.0,1.0,0.0001684002694404311,1.0,0.016998427197483516,1.0,1.0,1.0,1.0,1.0,0.004298406877451004,1.0,0.15999865599784957,1.0,1.0,1.0,1.0,1.0,1.0,0.009698415517464826,0.199998719997952,1.0,1.0,1.0,1.0,1.0,1.0,1.0,0.2799988479981568,1.0,1.0,1.0,1.0,1.0,1.0,1.0,1.0,0.2299987679980288,0.017998428797486078,1.0,0.29999887999820796,1.0,1.0,1.0,0.021998435197496315,0.06199849919759872,1.0,1.0,0.4299990879985408,1.0,1.8400029440047104e-05,1.0,1.0,1.0,1.0,1.0,1.0,1.0,1.0,0.17999868799790078,3.0400048640077823e-05,1.0,0.026998443197509114,1.0,0.07699852319763711,1.0,1.0,1.0,0.08699853919766272,0.06199849919759872,0.09099854559767295,1.0,1.0,0.05799849279758848,0.549999279998848,1.0,0.9899999839999744,1.0,0.03899846239753983,1.0,1.0,1.0,0.09699855519768831,1.0,1.0,0.18999870399792637,1.0,0.0005284008454413527,1.0,1.0,1.0,0.20999873599797758,1.0,1.0,1.0,1.0,0.05299848479757568,1.0,1.0,0.5799993279989248,1.0,1.0,1.0,1.0,0.29999887999820796,1.0,1.0,1.0,0.002498403997446396,1.0,1.0,1.0,1.0,1.0,1.0,0.10999857599772159,1.0,1.0,1.0,1.0,1.0,1.0,1.0,1.0,1.0,1.0,0.17999868799790078,0.040998465597544956,1.0,1.0,1.0,0.00939841503746406,1.0,1.0,1.0,1.0,1.0,0.15999865599784957,0.05699849119758592,1.0,1.0,1.0,1.0,1.0,1.0,0.9799999679999488,0.0015984025574440918,1.0,0.49999919999872,1.0,0.016998427197483516,0.8299997279995648,0.022998436797498877,0.058998494397591035,1.0,0.00025840041344066153,4.940007904012646e-05,0.011998419197470715,1.0,1.0,1.0,1.0,1.0,0.10999857599772159,1.0,1.0,1.0,0.3299989279982848,0.0012984020774433238,1.0,1.0,1.0,1.0,0.2799988479981568,1.0,0.006998411197457915,1.0,1.0,1.0,0.199998719997952,1.0,1.0,1.0,1.0,1.0,1.0,1.0,1.0,1.0,1.0,1.0,0.016998427197483516,1.0,1.0,1.0,1.0,1.0,1.0,0.7699996319994112,1.0,1.0,1.0,0.2599988159981056,1.0,0.012998420797473277,0.34999895999833597,0.014998423997478397,0.44999911999859205,1.0,1.0,1.0,1.0,1.0,1.0,1.0,0.06599850559760896,0.2599988159981056,0.050998481597570554,1.0,1.0,1.0,0.9299998879998208,0.009898415837465339,0.1399986239977984,1.0,1.0,1.0,1.0,0.9799999679999488,1.0,1.0,1.0,1.0,1.0,1.0,1.0,1.0,1.0,1.0,1.0,1.0,0.45999913599861764,1.0,1.0,1.0,1.0,1.0,0.44999911999859205,0.09399855039768064,1.0,1.0,1.0,1.0,1.0,1.0,0.043998470397552635,1.0,1.0,1.0,1.0,0.027998444797511672,1.0,1.0,1.0,0.03499845599752959,1.0,0.28999886399818237,0.18999870399792637,0.0699985119976192,1.0,1.0,1.0,1.0,1.0,1.0,1.0,5.5400088640141815e-05,1.0,0.0004084006534410455,1.0,0.5699993119988992,1.0,1.0,1.0,1.0,1.0,1.0,0.11999859199774718,1.0,1.0,1.0,1.0,1.0,1.0,1.0,1.0,1.0,1.0,1.0,0.004098406557450492,1.0,0.009298414877463803,0.06199849919759872,1.0,1.0,1.0,1.0,1.0,1.0,1.0,1.0,1.0,1.0,1.0,1.0,1.0,0.021998435197496315,1.0,1.0,0.0004484007174411479,1.0,1.0,1.0,0.004798407677452284,1.0,1.0,1.0,1.0,1.0,1.0,1.0,0.06799850879761407,1.0,1.0,1.0,1.0,1.0,0.44999911999859205,0.0009784015654425047,1.0,1.0,1.0,0.013998422397475837,0.7499995999993601,1.0,0.35999897599836156,1.0,0.0005384008614413783,1.0,0.024998439997503997,1.0,0.5599992959988737,0.11999859199774718,1.0,0.3199989119982592,1.0,1.0,0.15999865599784957,1.0,0.018998430397488636,1.0,0.2299987679980288,1.0,0.002498403997446396,1.0,1.0,1.0,1.0,1.0,1.0,1.0,1.0,0.03499845599752959,1.0,1.0,1.0,1.0,1.0,0.0949985519976832,0.0004984007974412759,1.0,0.07699852319763711,1.0,1.0,1.0,1.0,1.0,1.0,1.0,0.08899854239766784,1.0,1.0,0.016998427197483516,0.0005284008454413527,1.0,1.0,0.026998443197509114,0.3899990239984384,0.23999878399805438,1.0,1.0,1.0,1.0,1.0,0.015998425597480957,1.0,0.009898415837465339,1.0,1.0,0.024998439997503997,0.05699849119758592,1.0,1.0,1.0,1.0,1.0,1.0,1.0,0.5299992479987968,1.0,1.0,0.06699850719761152,1.0,1.0,1.0,1.0,1.0,1.0,1.0,1.0,1.0,1.0,1.0,1.0,0.1299986079977728,1.0,1.0,1.0,1.0,1.0,1.0,1.0,0.949999919999872,0.15999865599784957,0.0015984025574440918,1.0,1.0,1.0,1.0,1.0,1.0,0.0003684005894409431,0.051998483197573116,1.0,1.0,1.0,1.0,1.0,0.14999863999782398,1.0,1.0,1.0,1.0,1.0,1.0,1.0,1.0,0.03599845759753215,0.2699988319981312,1.0,1.0,0.6899995039992064,1.0,1.0,0.00939841503746406,1.0,0.04299846879755007,0.003698405917449468,1.0,0.005598408957454332,1.0,1.0,0.399999039998464,0.699999519999232,0.003998406397450236,1.0,1.0,1.0,1.0,1.0,1.0,1.0,1.0,1.0,1.0,0.09199854719767551,0.032998452797524475,1.0,1.0,1.0,1.0,0.649999439999104,1.0,0.025998441597506552,1.0,0.026998443197509114,1.0,0.09599855359768576,0.027998444797511672,1.0,1.0,1.0,0.7099995359992576,0.18999870399792637,1.0,1.0,1.0,1.0,0.17999868799790078,1.0,1.0,6.84001094401751e-05,1.0,1.0,1.0,1.0,1.0,1.0,1.0,1.0,0.2299987679980288,0.11999859199774718,1.0,1.0,1.0,1.0,1.0,1.0,0.4199990719985152,1.0,1.0,0.008198413117460987,1.0,1.0,1.0,1.0,1.0,1.0,1.0,1.0,1.0,1.0,1.0,0.04299846879755007,1.0,1.0,0.3299989279982848,1.0,0.03499845599752959,1.0,0.03599845759753215,1.0,1.0,1.0,1.0,1.0,1.0,1.0,1.0,1.0,1.0,1.0,0.08199853119764992,1.0,1.0,0.2599988159981056,1.0,1.0,1.0,1.0,1.0,1.0,1.0,1.0,0.18999870399792637,0.013998422397475837,1.0,1.0,0.058998494397591035,1.0,1.0,0.23999878399805438,0.00639841023745638,1.0,1.0,1.0,1.0,0.040998465597544956,1.0,0.3099988959982336,1.0,1.0,1.0,1.0,0.00239840383744614,1.0,1.0,0.10999857599772159,1.0,0.11999859199774718,0.1399986239977984,0.45999913599861764,1.0,1.0,0.05799849279758848,0.00389840623744998,1.0,1.0,1.0,0.019998431997491198,1.0,1.0,0.6599994559991296,1.0,0.07599852159763455,1.0,1.0,1.0,1.0,0.015998425597480957,1.0,0.0003684005894409431,1.0,1.0,1.0,0.020998433597493756,1.0,1.0,1.0,1.0,1.0,1.0,0.17999868799790078,1.0,1.0,1.0,1.0,0.001098401757442812,1.0,1.0,1.0,1.0,1.0,1.0,1.0,0.0007684012294419671,0.3199989119982592,1.0,1.0,1.0,1.0,1.0,1.0,1.0,1.0,1.0,1.0,1.0,0.0015984025574440918,1.0,1.0,0.4799991679986688,1.0,1.0,1.0,1.0,0.006298410077456124,1.0,0.15999865599784957,1.0,1.0,1.0,0.399999039998464,1.0,1.0,1.0,1.0,1.0,1.0,1.0,8.400013440021505e-06,1.0,0.699999519999232,0.020998433597493756,1.0,0.04599847359755775,1.0,0.3099988959982336,1.0,1.0,1.0,1.0,1.0,1.0,1.0,1.0,1.0,1.0,0.013998422397475837,1.0,1.0,1.0,1.0,1.0,0.04699847519756031,1.0,0.07899852639764224,1.0,1.0,1.0,1.0,1.0,1.0,1.0,1.0,1.0,1.0,1.0,0.007998412797460474,0.6199993919990272,1.0,0.1299986079977728,1.0,0.8299997279995648,0.15999865599784957,1.0,1.0,1.0,1.0,1.0,1.0,0.21999875199800317,0.5399992639988224,1.0,0.028998446397514234,1.0,1.0,0.040998465597544956,1.0,1.0,0.8599997759996416,0.022998436797498877,1.0,1.0,0.9699999519999232,1.0,1.0,1.0,0.3799990079984128,0.0012984020774433238,0.6199993919990272,1.0,1.0,1.0,0.24999879999807997,1.0,1.0,1.0,1.0,1.0,1.0,1.0,1.0,1.0,0.009098414557463292,0.013998422397475837,1.0,0.36999899199838715,1.0,1.0,0.002698404317446908,1.0,1.0,1.0,1.0,1.0,0.00189840303744486,1.0,1.0,1.0,0.24999879999807997,1.0,1.0,1.0,1.0,1.0,1.0,1.0,0.10999857599772159,1.0,1.0,1.0,1.0,0.7399995839993344,1.0,1.0,0.07599852159763455,1.0,0.04299846879755007,1.0,1.0,0.23999878399805438,1.0,1.0,0.3099988959982336,1.0,1.0,1.0,0.28999886399818237,0.0013984022374435798,1.0,1.0,1.0,1.0,1.0,1.0,0.08599853759766016,1.0,0.099998559997696,0.1699986719978752,1.0,0.04199846719754751,0.11999859199774718,1.0,1.0,1.0,0.21999875199800317,0.025998441597506552,1.0,1.0,0.006998411197457915,1.0,1.0,1.0,1.0,1.0,1.0,1.0,0.029998447997516792,0.002498403997446396,1.0,1.0,1.0,1.0,1.0,1.0,1.0,1.0,0.001498402397443836,0.014998423997478397,1.0,1.0,0.1299986079977728,0.039998463997542394,0.5199992319987712,1.0,1.0,1.0,0.10999857599772159,1.0,1.0,1.0,0.00439840703745126,0.4099990559984896,0.34999895999833597,1.0,1.0,1.0,1.0,1.0,1.0,1.0,1.0,0.3299989279982848,0.099998559997696,1.0,0.23999878399805438,1.0,1.0,0.009998415997465595,1.0,1.0,0.29999887999820796,1.0,0.2799988479981568,1.0,1.0,0.21999875199800317,1.0,1.0,1.0,1.0,1.0,1.0,1.0,1.0,0.027998444797511672,1.0,1.0,0.5899993439989504,1.0,1.0,1.0,0.24999879999807997,1.0,1.0,0.05399848639757824,1.0,1.0,1.0,1.0,5.5400088640141815e-05,0.07199851519762432,1.0,1.0,0.023998438397501435,1.0,0.021998435197496315,1.0,1.0,0.34999895999833597,1.0,1.0,1.0,1.0,1.0,1.0,1.0,1.0,0.04999847999756799,1.0,1.0,0.0012984020774433238,1.0,1.0,1.0,1.0,1.0,1.0,1.0,1.0,1.0,0.649999439999104,0.012998420797473277,1.0,1.0,1.0,1.0,1.0,0.2599988159981056,1.0,1.0,1.0,1.0,1.0,0.016998427197483516,0.002598404157446652,1.0,0.07599852159763455,1.0,1.0,0.006998411197457915,0.44999911999859205,0.08799854079766528,0.3299989279982848,1.0,0.008198413117460987,1.0,1.0,1.0,0.06099849759759616,0.0013984022374435798,1.0,1.0,1.0,1.0,1.0,1.0,1.0,1.0,0.003598405757449212,0.23999878399805438,1.0,1.0,0.199998719997952,1.0,1.0,0.03799846079753727,0.06399850239760384,0.06899851039761663,1.0,1.0,1.0,1.0,1.0,1.0,1.0,1.0,1.0,1.0,1.0,0.014998423997478397,0.1299986079977728,1.0,1.0,1.0,0.0007284011654418647,1.0,0.29999887999820796,1.0,0.44999911999859205,1.0,1.0,1.0,1.0,1.0,1.0,1.0,0.06399850239760384,1.0,1.0,0.029998447997516792,1.0,1.0,1.0,1.0,1.0,0.015998425597480957,0.011998419197470715,1.0,1.0,0.44999911999859205,1.0,1.0,1.0,1.0,1.0,1.0,1.0,1.0,1.0,1.0,0.28999886399818237,1.0,1.0,1.0,0.5199992319987712,1.0,1.0,0.08799854079766528,1.0,0.9699999519999232,0.036998459197534715,1.0,1.0,1.0,0.09699855519768831,1.0,1.0,1.0,1.0,1.0,1.0,1.0,1.0,1.0,1.0,1.0,1.0,1.0,1.0,0.3099988959982336,0.009798415677465084,1.0,0.8399997439995904,1.0,1.0,1.0,1.0,0.11999859199774718,1.0,1.0,1.0,0.04699847519756031,1.0,0.025998441597506552,0.0006584010534416854,1.0,0.04299846879755007,1.0,1.0,1.0,0.020998433597493756,1.0,0.21999875199800317,1.0,1.0,0.11999859199774718,1.0,0.20999873599797758,0.009898415837465339,1.0,1.0,1.0,1.0,0.08599853759766016,1.0,1.0,1.0,0.17999868799790078,1.0,1.0,1.0,1.0,1.0,0.14999863999782398,1.0,0.019998431997491198,1.0,1.0,1.0,1.0,1.0,1.0,0.007298411677458683,0.00013840022144035428,0.06699850719761152,1.0,1.0,1.0,1.0,0.11999859199774718,1.0,1.0,1.0,1.0,1.0,1.0,0.006498410397456635,1.0,1.0,1.0,1.0,1.0,0.0083984134374615,1.0,1.0,0.005598408957454332,1.0,1.0,1.0,1.0,0.2599988159981056,1.0,1.0,0.0004084006534410455,1.0,0.2599988159981056,1.0,1.0,1.0,1.0,0.1399986239977984,1.0,1.0,1.0,1.0,1.0,0.28999886399818237,1.0,1.0,0.07399851839762944,1.0,0.03599845759753215,1.0,1.0,1.0,1.0,1.0,1.0,1.0,1.0,1.0,1.0,1.0,0.007098411357458171,1.0,1.0,1.0,1.0,1.0,0.45999913599861764,0.05799849279758848,0.24999879999807997,1.0,0.040998465597544956,0.009698415517464826,1.0,1.0,1.0,1.0,0.0001284002054403287,1.0,0.032998452797524475,1.0,1.0,1.0,1.0,1.0,1.0,0.03599845759753215,0.14999863999782398,1.0,0.011998419197470715,1.0,1.0,1.0,0.07399851839762944,0.032998452797524475,0.0699985119976192,1.0,1.0,1.0,1.0,0.0001484002374403799,1.0,0.009498415197464315,1.0,1.0,1.0,0.05399848639757824,1.0,1.0,1.0,0.028998446397514234,1.0,1.0,1.0,1.0,1.0,0.09799855679769087,1.0,1.0,0.05699849119758592,1.0,0.08999854399767039,1.0,1.0,1.0,0.09399855039768064,1.0,1.0,1.0,1.0,1.0,0.36999899199838715,1.0,1.0,0.11999859199774718,1.0,1.0,1.0,0.0799985279976448,1.0,1.0,1.0,1.0,1.0,0.4299990879985408,1.0,0.022998436797498877,1.0,1.0,0.29999887999820796,1.0,1.0,0.013998422397475837,1.0,1.0,1.0,1.0,1.0,0.014998423997478397,0.23999878399805438,1.0,0.0056984091174545875,1.0,1.0,1.0,1.0,0.012998420797473277,0.00959841535746457,2.740004384007014e-05,1.0,1.0,1.0,1.0,0.1299986079977728,1.0,1.0,0.009998415997465595,1.0,1.0,1.0,1.0,0.11999859199774718,1.0,0.011998419197470715,0.023998438397501435,1.0,1.0,1.0,0.5199992319987712,0.0009984015974425558,0.0699985119976192,1.0,0.010998417597468155,1.0,0.0001984003174405079,1.0,1.0,6.740010784017254e-05,1.0,1.0,0.002698404317446908,3.34000534400855e-05,1.0,1.0,0.36999899199838715,1.0,0.5599992959988737,1.0,1.0,1.0,1.0,1.0,1.0,1.0,0.0006084009734415574,0.04899847839756543,1.0,1.0,1.0,1.0,1.0,1.0,0.4399991039985664,1.0,1.0,0.026998443197509114,1.0,1.0,1.0,1.0,1.0,1.0,1.0,1.0,0.1399986239977984,1.0,1.0,1.0,1.0,1.0,1.0,1.0,1.0,1.0,1.0,0.001698402717444348,1.0,1.0,1.0,1.0,1.0,0.003798406077449724,1.0,0.24999879999807997,1.0,1.0,1.0,1.0,0.013998422397475837,0.1699986719978752,1.0,1.0,1.0,1.0,1.0,0.6099993759990016,1.0,0.099998559997696,1.0,1.0,1.0,1.0,1.0,4.34000694401111e-05,1.0,0.004798407677452284,0.15999865599784957,0.04899847839756543,1.0,0.10999857599772159,1.0,1.0,0.34999895999833597,1.0,1.0,0.00239840383744614,1.0,1.0,1.0,1.0,0.4899991839986944,0.017998428797486078,0.00010840017344027751,1.0,0.023998438397501435,1.0,1.0,1.0,1.0,1.0,0.09799855679769087,7.740012384019814e-05,1.0,1.0,0.08799854079766528,1.0,1.0,1.0,1.0,1.0,0.03199845119752191,0.6799994879991809,0.10999857599772159,1.0,1.0,1.0,6.640010624016998e-05,1.0,0.3199989119982592,0.0015984025574440918,1.0,1.0,1.0,1.0,0.04999847999756799,1.0,0.1299986079977728,0.007398411837458939,1.0,1.0,1.0,0.020998433597493756,1.0,1.0,1.0,1.0,0.24999879999807997,1.0,1.0,1.0,1.0,1.0,1.0,1.0,1.0,1.0,0.03899846239753983,1.0,0.49999919999872,0.002998404797447676,1.0,0.009698415517464826,1.0,1.0,0.5299992479987968,1.0,0.2799988479981568,1.0,1.0,0.7499995999993601,1.0,1.0,1.0,0.028998446397514234,0.022998436797498877,1.0,1.0,0.08599853759766016,1.0,1.0,1.0,1.0,1.0,1.0,1.0,1.0,1.0,1.0,1.0,1.0,0.5799993279989248,1.0,1.0,1.0,1.0,1.0,1.0,0.0699985119976192,1.0,0.0007684012294419671,1.0,1.0,1.0,0.07099851359762176,1.0,1.0,1.0,1.0,1.0,1.0,0.099998559997696,0.3199989119982592,1.0,0.06899851039761663,1.0,1.0,0.055998489597583356,0.17999868799790078,1.0,1.0,1.0,1.0,1.0,1.0,1.0,1.0,0.23999878399805438,1.0,0.3199989119982592,0.1399986239977984,1.0,0.000918401469442351,1.0,1.0,1.0,1.0,1.0,1.0,1.0,1.0,1.0,1.0,0.17999868799790078,1.0,0.054998487997580794,1.0,0.21999875199800317,1.0,0.15999865599784957,1.0,1.7400027840044543e-05,0.6299994079990529,1.0,1.0,0.2599988159981056,1.0,1.0,1.0,0.07299851679762688,1.0,1.0,1.0,0.04199846719754751,1.0,1.0,0.03399845439752703,1.0,1.0,0.15999865599784957,1.0,1.0,1.0,0.06599850559760896,1.0,0.5399992639988224,1.0,1.0,1.0,0.05699849119758592,1.0,1.0,0.011998419197470715,1.0,1.0,1.0,1.0,1.0,1.0,1.0,1.0,1.0,1.0,1.0,1.0,1.0,0.2599988159981056,1.0,0.08099852959764736,1.0,0.04999847999756799,0.012998420797473277,1.0,1.0,0.002298403677445884,1.0,1.0,1.0,1.0,0.019998431997491198,0.001698402717444348,0.06399850239760384,0.002698404317446908,1.0,1.0,1.0,1.0,1.0,1.0,0.1699986719978752,1.0,0.009898415837465339,2.240003584005734e-05,1.0,0.005598408957454332,0.099998559997696,1.0,1.0,1.0,1.0,0.07199851519762432,1.0,1.0,1.0,0.004098406557450492,1.0,0.012998420797473277,0.009298414877463803,0.1399986239977984,1.0,1.0,1.0,0.1299986079977728,1.0,1.0,0.2699988319981312,1.0,0.013998422397475837,1.0,1.0,1.0,0.17999868799790078,1.0,1.0,1.0,0.2799988479981568,0.18999870399792637,1.0,0.04599847359755775,1.0,1.0,1.0,1.0,1.0,0.022998436797498877,1.0,1.0,1.0,0.00859841375746201,1.0,1.0,1.0,1.0,0.03899846239753983,0.05299848479757568,1.0,1.0,1.0,1.0,0.1699986719978752,0.29999887999820796,1.0,0.4299990879985408,0.010998417597468155,1.0,0.04999847999756799,1.0,1.0,1.0,0.028998446397514234,1.0,0.005998409597455356,1.0,1.0,1.0,1.0,0.1299986079977728,1.0,1.0,1.0,0.021998435197496315,1.0,1.0,0.2599988159981056,1.0,1.0,1.0,1.0,1.0,0.00189840303744486,0.06599850559760896,1.0,1.0,0.07099851359762176,1.0,1.0,0.012998420797473277,1.0,1.0,1.0,1.0,1.0,0.5599992959988737,0.10999857599772159,1.0,1.0,1.0,1.0,1.0,0.14999863999782398,1.0,1.0,0.0001484002374403799,1.0,1.0,1.0,1.0,1.0,1.0,1.0,1.0,1.0,1.0,0.001998403197445116,1.0,1.0,1.0,9.040014464023142e-05,1.0,0.012998420797473277,1.0,1.0,1.0,1.0,0.10999857599772159,1.0,0.17999868799790078,1.0,0.199998719997952,1.0,1.0,1.0,0.18999870399792637,5.040008064012902e-05,1.0,1.0,0.011998419197470715,1.0,1.0,1.0,1.0,0.17999868799790078,0.0001284002054403287,1.0,1.0,1.0,1.0,1.0,0.2599988159981056,1.0,1.0,1.0,0.5399992639988224,0.4699991519986432,1.0,1.0,1.0,1.0,1.0,1.0,1.0,0.28999886399818237,0.0649985039976064,1.0,1.0,1.0,1.0,1.0,1.0,0.17999868799790078,1.0,1.0,1.0,1.0,0.0003184005094408151,1.0,0.099998559997696,0.08199853119764992,0.36999899199838715,0.199998719997952,1.0,1.0,0.021998435197496315,1.0,1.0,1.0,0.5699993119988992,1.0,1.0,1.0,1.0,1.0,1.0,1.0,1.0,1.0,1.0,1.0,1.0,1.0,1.0,1.0,1.0,0.6199993919990272,0.5299992479987968,1.0,1.0,1.0,1.0,1.0,1.0,1.0,1.0,1.0,1.0,1.0,1.0,1.0,0.24999879999807997,0.14999863999782398,1.0,1.0,1.0,0.00010840017344027751,1.0,1.0,1.0,1.0,1.0,1.0,1.0,1.0,1.0,0.2699988319981312,0.8699997919996671,1.0,0.015998425597480957,1.0,1.0,1.0,1.0,1.0,1.0,0.002298403677445884,1.0,1.0,0.4699991519986432,0.20999873599797758,1.0,1.0,1.0,0.0002184003494405591,0.34999895999833597,0.002998404797447676,1.0,1.0,0.34999895999833597,0.005298408477453564,0.009298414877463803,1.0,0.11999859199774718,1.0,0.3199989119982592,1.0,0.6299994079990529,1.0,1.0,1.0,1.0,1.0,1.0,1.0,1.0,1.0,1.0,0.032998452797524475,1.0,0.4799991679986688,0.008098412957460732,1.0,1.0,1.0,0.0006184009894415831,1.0,1.0,1.0,1.0,0.058998494397591035,0.549999279998848,0.0849985359976576,0.022998436797498877,0.1299986079977728,1.0,1.0,1.0,1.0,1.0,0.35999897599836156,1.0,1.0,1.0,0.006298410077456124,1.0,0.5099992159987456,1.0,0.014998423997478397,0.1299986079977728,1.0,0.001198401917443068,0.6399994239990784,1.0,0.0001784002854404567,0.0006584010534416854,1.0,0.0002884004614407383,0.012998420797473277,1.0,1.0,0.099998559997696,0.18999870399792637,1.0,1.0,1.0,1.0,1.0,1.0,1.0,1.0,1.0,1.0,0.199998719997952,1.0,0.07299851679762688,1.0,1.0,1.0,0.00289840463744742,0.09299854879767808,1.0,1.0,1.0,1.0,1.0,1.0,1.0,1.0,1.0,1.0,1.0,1.0,1.0,0.007898412637460219,0.06399850239760384,1.0,0.00038840062144099427,1.0,1.0,1.0,1.0,1.0,1.0,1.0,0.0003384005414408663,0.3199989119982592,0.1299986079977728,0.05299848479757568,0.004498407197451516,0.4099990559984896,1.0,1.0,1.0,1.0,0.07699852319763711,1.0,1.0,1.0,0.07399851839762944,0.08199853119764992,1.0,0.3299989279982848,0.14999863999782398,1.0,0.006298410077456124,0.28999886399818237,1.0,0.15999865599784957,1.0,0.09399855039768064,1.0,1.0,1.0,1.0,0.36999899199838715,1.0,1.0,0.000818401309442095,1.0,1.0,0.012998420797473277,1.0,0.001998403197445116,1.0,0.013998422397475837,1.0,1.0,1.0,1.0,0.08799854079766528,1.0,1.0,1.0,1.0,1.0,0.017998428797486078,1.0,1.0,1.0,0.001198401917443068,1.0,1.0,1.0,1.0,1.0,0.29999887999820796,0.024998439997503997,1.0,1.0,0.08599853759766016,1.0,0.00439840703745126,0.011998419197470715,1.0,1.0,1.0,1.0,1.0,1.0,1.0,1.0,1.0,1.0,1.0,1.0,1.0,1.0,1.0,1.0,0.15999865599784957,0.5599992959988737,1.0,1.0,0.29999887999820796,0.18999870399792637,1.0,1.0,1.0,1.0,1.0,1.0,0.0002984004774407639,1.0,1.0,1.0,0.5299992479987968,1.0,1.0,1.0,1.0,1.0,1.0,0.018998430397488636,0.6099993759990016,1.0,1.0,1.0,1.0,0.021998435197496315,1.0,1.0,1.0,1.0,0.11999859199774718,1.0,1.0,1.0,1.0,1.0,1.0,0.5899993439989504,1.0,1.0,1.0,0.4199990719985152,1.0,0.003598405757449212,1.0,0.09799855679769087,1.0,1.0,0.649999439999104,1.0,1.0,0.4199990719985152,1.0,1.0,0.7699996319994112,0.015998425597480957,1.0,1.0,1.0,1.0,0.058998494397591035,0.0005784009254414807,1.0,1.0,1.0,1.0,1.0,1.0,1.0,1.0,1.0,1.0,1.0,1.0,0.001498402397443836,1.0,1.0,0.001498402397443836,1.0,1.0,1.0,1.0,1.0,1.0,0.0004884007814412503,1.0,0.020998433597493756,1.0,1.0,1.0,0.34999895999833597,0.0012984020774433238,1.0,0.029998447997516792,1.0,1.0,1.0,0.011998419197470715,1.0,1.0,1.0,0.08399853439765503,0.026998443197509114,0.0001784002854404567,1.0,1.0,1.0,1.0,1.0,1.0,1.0,1.0,0.8299997279995648,1.0,1.0,1.0,0.08099852959764736,1.0,0.18999870399792637,1.0,0.399999039998464,1.0,1.0,0.003698405917449468,0.5199992319987712,0.14999863999782398,1.0,1.0,1.0,1.0,1.0,1.0,1.0,1.0,0.003298405277448444,1.0,1.0,1.0,1.0,1.0,1.0,1.0,1.0,1.0,0.4099990559984896,0.04599847359755775,1.0,0.1299986079977728,1.0,1.0,1.0,1.0,1.0,1.0,1.0,1.0,1.0,0.5399992639988224,1.0,0.009998415997465595,1.0,0.0003584005734409175,0.10999857599772159,1.0,1.0,1.0,1.0,1.0,0.11999859199774718,1.0,0.10999857599772159,0.14999863999782398,1.0,1.0,0.003098404957447932,1.0,0.002998404797447676,1.0,1.0,1.0,1.0,1.0,1.0,1.0,0.28999886399818237,0.07799852479763968,1.0,1.0,1.0,1.0,1.0,1.0,1.0,0.005298408477453564,1.0,1.0,0.002498403997446396,0.023998438397501435,1.0,1.0,0.11999859199774718,1.0,1.0,1.0,1.0,1.0,1.0,1.0,1.0,1.0,0.017998428797486078,0.004098406557450492,1.0,0.23999878399805438,1.0,1.0,1.0,1.0,0.199998719997952,1.0,1.0,0.20999873599797758,1.0,1.0,0.012998420797473277,0.04299846879755007,0.025998441597506552,1.0,0.009998415997465595,1.0,1.0,0.18999870399792637,0.010998417597468155,1.0,1.0,1.0,1.0,1.0,4.040006464010342e-05,1.0,1.0,1.0,5.240008384013414e-05,1.0,1.0,1.0,0.15999865599784957,0.03599845759753215,1.0,0.04599847359755775,1.0,1.0,0.09299854879767808,0.1299986079977728,1.0,1.0,1.0,1.0,1.0,1.0,0.06599850559760896,1.0,1.0,1.0,1.0,1.0,1.0,1.0,1.0,1.0,1.0,0.003198405117448188,0.06099849759759616,1.0,0.017998428797486078,1.0,1.0,1.0,1.0,1.0,1.0,0.0004084006534410455,1.0,1.0,1.0,1.0,0.2599988159981056,1.0,1.0,0.05699849119758592,1.0,1.0,1.0,1.0,0.18999870399792637,0.3199989119982592,1.0,1.0,1.0,0.032998452797524475,1.0,1.0,1.0,1.0,1.0,1.0,0.003098404957447932,1.0,1.0,1.0,0.025998441597506552,0.24999879999807997,1.0,1.0,1.0,0.001998403197445116,1.0,1.0,1.0,1.0,1.0,1.0,1.0,0.849999759999616,1.0,1.0,1.0,1.0,0.08199853119764992,1.0,1.0,0.2299987679980288,1.0,1.0,1.0,0.010998417597468155,0.003098404957447932,0.0009884015814425303,1.0,1.0,1.0,1.0,0.8699997919996671,1.0,1.0,1.0,0.036998459197534715,0.010998417597468155,1.0,1.0,0.00045840073344117344,1.0,1.0,1.0,1.0,1.0,1.0,0.023998438397501435,1.0,0.014998423997478397,1.0,1.0,1.0,1.0,0.03799846079753727,1.0,0.012998420797473277,1.0,1.0,1.0,1.0,1.0,1.0,0.003998406397450236,1.0,1.0,1.0,1.0,1.0,1.0,1.0,1.0,0.03599845759753215,1.0,1.0,1.0,1.0,1.0,0.7899996639994624,1.0,1.0,1.0,0.006098409757455612,0.055998489597583356,1.0,1.0,1.0,1.0,8.34001334402135e-05,1.0,1.0,0.06399850239760384,0.029998447997516792,1.0,0.099998559997696,1.0,0.007798412477459963,1.0,1.0,1.0,0.09299854879767808,1.0,1.0,1.0,0.026998443197509114,1.0,0.28999886399818237,1.0,0.21999875199800317,1.0,1.0,1.0,1.0,1.0,0.00489840783745254,1.0,1.0,1.0,1.0,0.17999868799790078,1.0,0.004098406557450492,1.0,1.0,1.0,1.0,0.06899851039761663,0.21999875199800317,0.027998444797511672,1.0,1.0,1.0,1.0,1.0,1.0,1.0,1.0,0.04199846719754751,1.0,0.012998420797473277,1.0,1.0,1.0,1.0,1.0,1.0,1.0,1.0,0.010998417597468155,1.0,1.0,0.4899991839986944,0.015998425597480957,1.0,1.0,0.9699999519999232,1.0,1.0,0.3099988959982336,0.015998425597480957,0.0017984028774446041,1.0,0.008098412957460732,1.0,1.0,1.0,1.0,1.0,0.4299990879985408,1.0,1.0,1.0,0.3099988959982336,1.0,1.0,0.2299987679980288,1.0,1.0,1.0,1.0,0.030998449597519354,1.0,1.0,1.0,0.007998412797460474,1.0,1.0,1.0,1.0,1.0,1.0,1.0,1.0,0.0034984055974489558,1.0,1.0,1.0,0.0006084009734415574,1.0,0.03799846079753727,1.0,1.0,1.0,1.0,1.0,1.0,1.0,1.0,1.0,1.0,1.0,0.00039840063744101987,1.0,0.07799852479763968,1.0,1.0,0.14999863999782398,1.0,1.0,1.0,0.3099988959982336,1.0,0.0699985119976192,1.0,1.0,1.0,1.0,1.0,0.08099852959764736,1.0,1.0,1.0,1.0,1.0,1.0,1.0,0.5399992639988224,1.0,1.0,0.00489840783745254,1.0,1.0,1.0,1.0,1.0,0.1299986079977728,0.03899846239753983,0.20999873599797758,0.6699994719991552,1.0,1.0,1.0,1.0,1.0,1.0,1.0,1.0,1.0,1.0,1.0,1.0,1.0,1.0,1.0,1.0,1.0,1.0,1.0,1.0,0.007198411517458427,1.0,1.0,1.0,1.0,0.002298403677445884,1.0,1.0,1.0,0.49999919999872,1.0,0.14999863999782398,1.0,1.0,1.0,0.199998719997952,1.0,1.0,1.0,1.0,1.0,1.0,1.0,1.0,1.0,1.0,1.0,1.0,0.0005084008134413014,1.0,1.0,1.0,1.0,0.004498407197451516,1.0,0.3099988959982336,1.0,1.0,0.17999868799790078,1.0,1.0,1.0,1.0,1.0,1.0,1.0,1.0,1.0,1.0,1.0,0.03599845759753215,0.010998417597468155,0.23999878399805438,1.0,1.0,1.0,1.0,0.020998433597493756,1.0,0.2799988479981568,0.0058984094374551,1.0,0.004198406717450748,1.0,0.005598408957454332,1.0,1.0,0.05299848479757568,1.0,0.008998414397463034,1.0,0.3899990239984384,1.0,1.0,0.24999879999807997,0.4799991679986688,1.0,0.3299989279982848,1.0,1.0,1.0,1.0,1.0,0.44999911999859205,1.0,0.18999870399792637,1.0,1.0,0.5699993119988992,1.0,0.44999911999859205,1.0,1.0,1.0,0.0699985119976192,1.0,1.0,1.0,1.0,1.0,1.0,1.0,1.0,1.0,0.00189840303744486,0.007698412317459707,0.0012984020774433238,1.0,1.0,1.0,1.0,1.0,0.36999899199838715,0.49999919999872,1.0,1.0,1.0,1.0,0.10999857599772159,0.027998444797511672,1.0,0.010998417597468155,0.04899847839756543,1.0,0.005198408317453308,1.0,0.1299986079977728,1.0,1.0,1.0,1.0,1.0,1.0,0.028998446397514234,1.0,0.15999865599784957,0.011998419197470715,1.0,0.06399850239760384,1.0,1.0,1.0,0.05399848639757824,1.0,1.0,1.0,1.0,1.0,1.0,1.0,1.0,0.004798407677452284,0.058998494397591035,0.3799990079984128,0.1299986079977728,1.0,1.0,1.0,1.0,0.001698402717444348,1.0,1.0,1.0,0.44999911999859205,1.0,0.005298408477453564,0.21999875199800317,1.0,0.004798407677452284,1.0,1.0,0.043998470397552635,0.013998422397475837,1.0,0.013998422397475837,1.0,1.0,1.0,1.0,1.0,1.0,1.0,1.0,0.032998452797524475,1.0,1.0,1.0,0.17999868799790078,0.1399986239977984,1.0,1.0,1.0,1.0,0.013998422397475837,0.3899990239984384,1.0,1.0,1.0,0.399999039998464,1.0,1.0,1.0,1.0,0.7299995679993088,1.0,1.0,0.5799993279989248,0.051998483197573116,1.0,1.0,1.0,1.0,1.0,1.0,0.4099990559984896,1.0,1.0,1.0,1.0,0.14999863999782398,0.10999857599772159,1.0,1.0,0.06099849759759616,1.0,1.0,0.399999039998464,1.0,1.0,0.11999859199774718,0.040998465597544956,0.2599988159981056,1.0,0.012998420797473277,1.0,0.04999847999756799,1.0,1.0,0.012998420797473277,0.17999868799790078,1.0,1.0,1.0,0.28999886399818237,1.0,1.0,6.140009824015718e-05,0.1699986719978752,0.0001284002054403287,1.0,0.00389840623744998,0.08899854239766784,0.0005584008934414295,1.0,0.07199851519762432,0.014998423997478397,1.0,1.0,0.6099993759990016,1.0,0.043998470397552635,1.0,1.0,1.0,1.0,1.0,1.0,1.0,0.009798415677465084,1.0,0.005198408317453308,1.0,1.0,0.012998420797473277,1.0,0.45999913599861764,1.0,1.0,1.0,1.0,1.0,1.0,1.0,0.0799985279976448,0.799999679999488,0.0849985359976576,0.05799849279758848,0.006998411197457915,0.006998411197457915,0.020998433597493756,1.0,1.0,1.0,0.36999899199838715,1.0,1.0,1.0,0.0001984003174405079,1.0,1.0,1.0,1.0,1.0,0.18999870399792637,1.0,1.0,0.07299851679762688,1.0,1.0,1.0,1.0,0.013998422397475837,1.0,0.024998439997503997,0.008798414077462523,1.0,1.0,1.0,0.06299850079760128,0.0006284010054416086,1.0,1.0,1.0,1.0,1.0,1.0,0.0949985519976832,0.001998403197445116,1.0,1.0,1.0,1.0,0.3199989119982592,0.09699855519768831,1.0,1.0,1.0,0.6199993919990272,2.300003680005888e-06,0.050998481597570554,1.0,0.016998427197483516,1.0,0.2299987679980288,1.0,1.0,1.0,1.0,0.4299990879985408,1.0,1.0,1.0,1.0,1.0,1.0,1.0,1.0,0.009998415997465595,1.0,0.0004684007494411991,1.0,0.07399851839762944,1.0,0.09599855359768576,0.3299989279982848,0.1699986719978752,0.2699988319981312,0.7599996159993856,1.0,0.3299989279982848,1.0,0.06399850239760384,0.0083984134374615,1.0,0.001198401917443068,1.0,1.0,1.0,1.0,1.0,0.29999887999820796,0.8199997119995392,1.0,1.0,0.029998447997516792,1.0,1.0,1.0,1.0,0.1399986239977984,1.0,0.3299989279982848,1.0,1.0,0.03199845119752191,0.3399989439983104,1.0,1.0,0.07199851519762432,0.10999857599772159,1.0,5.3400085440136706e-05,0.20999873599797758,1.0,1.0,1.0,1.0,0.35999897599836156,0.7499995999993601,1.0,1.0,1.0,1.0,1.0,0.012998420797473277,1.0,1.0,1.0,1.0,1.0,1.0,1.0,1.0,1.0,1.0,1.0,1.0,1.0,1.0,0.008298413277461242,1.0,1.0,1.0,0.016998427197483516,0.001198401917443068,1.0,1.0,0.17999868799790078,0.399999039998464,1.0,0.002598404157446652,0.35999897599836156,1.0,1.0,1.0,1.0,0.2299987679980288,1.0,1.0,1.0,1.0,1.0,1.0,1.0,1.0,0.03799846079753727,1.0,1.0,0.5299992479987968,1.0,1.0,1.0,1.0,1.0,1.0,1.0,1.0,1.0,1.0,1.0,0.007198411517458427,1.0,1.0,1.0,1.0,1.0,1.0,1.0,1.0,0.07199851519762432,1.0,1.0,0.2299987679980288,1.0,1.0,0.11999859199774718,1.0,1.0,0.3799990079984128,0.003298405277448444,1.0,1.0,0.2699988319981312,1.0,1.0,0.2699988319981312,1.0,1.0,0.03599845759753215,1.0,0.007198411517458427,1.0,0.018998430397488636,1.0,0.11999859199774718,0.001198401917443068,1.0,1.0,1.0,1.0,0.28999886399818237,0.21999875199800317,0.00289840463744742,1.0,1.0,1.0,1.0,1.0,1.0,0.11999859199774718,1.0,0.007998412797460474,1.0,0.0009084014534423254,0.008898414237462779,1.0,1.0,1.0,0.08699853919766272,0.020998433597493756,0.6899995039992064,1.0,1.0,1.0,1.0,1.0,0.022998436797498877,1.0,1.0,1.0,0.3199989119982592,1.0,1.0,1.0,0.3099988959982336,0.5199992319987712,1.0,0.11999859199774718,1.0,0.21999875199800317,1.0,1.0,1.0,0.003198405117448188,1.0,1.0,1.0,1.0,0.032998452797524475,1.0,1.0,1.0,0.3099988959982336,1.0,1.0,0.001198401917443068,1.0,1.0,1.0,1.0,1.0,1.0,1.0,1.0,1.0,1.0,1.0,0.11999859199774718,1.0,0.11999859199774718,1.0,1.0,1.0,1.0,1.0,1.0,1.0,1.0,0.0006184009894415831,1.0,0.1299986079977728,1.0,1.0,0.00389840623744998,1.0,1.0,1.0,1.0,0.04599847359755775,1.0,0.051998483197573116,1.0,0.1299986079977728,1.0,0.06399850239760384,1.0,1.0,1.0,1.0,0.2699988319981312,0.001498402397443836,1.0,0.2299987679980288,1.0,0.4199990719985152,1.0,1.0,1.0,1.0,1.0,1.0,1.0,1.0,1.0,1.0,1.0,1.0,1.0,0.009998415997465595,0.649999439999104,1.0,1.0,0.03499845599752959,0.10999857599772159,0.5799993279989248,1.0,1.0,1.0,1.0,1.0,1.0,1.0,1.0,1.0,0.0005284008454413527,0.3299989279982848,1.0,1.0,1.0,1.0,1.0,1.0,1.0,1.0,0.15999865599784957,1.0,1.0,1.0,1.0,0.006298410077456124,1.0,1.0,1.0,0.04899847839756543,1.0,1.0,0.06299850079760128,1.0,1.0,1.0,1.0,0.20999873599797758,1.0,1.0,1.0,1.0,1.0,0.6299994079990529,1.0,1.0,1.0,1.0,0.015998425597480957,1.0,1.0,0.0699985119976192,1.0,0.07399851839762944,1.0,1.0,1.0,1.0,0.0004884007814412503,1.0,1.0,0.012998420797473277,1.0,1.0,1.0,1.0,1.0,1.0,0.006498410397456635,1.0,1.0,0.029998447997516792,1.0,0.007298411677458683,0.10999857599772159,1.0,1.0,1.0,1.0,1.0,1.0,1.0,1.0,1.0,1.0,0.3099988959982336,1.0,1.0,1.0,1.0,1.0,0.007598412157459451,1.0,0.2299987679980288,0.4299990879985408,1.0,0.00439840703745126,1.0,1.0,1.0,1.0,1.0,1.0,1.0,0.3099988959982336,0.36999899199838715,1.0,0.199998719997952,0.011998419197470715,1.0,0.24999879999807997,0.1699986719978752,0.1399986239977984,1.0,1.0,1.0,1.0,0.001098401757442812,1.0,0.011998419197470715,1.0,1.0,1.0,1.0,0.05399848639757824,1.0,0.08199853119764992,1.0,1.0,1.0,1.0,1.0,0.5299992479987968,1.0,1.0,0.08599853759766016,1.0,1.0,1.0,1.0,0.0033984054374487,1.0,1.0,1.0,4.84000774401239e-05,0.10999857599772159,0.10999857599772159,1.0,1.0,1.0,0.009998415997465595,0.199998719997952,1.0,1.0,0.023998438397501435,1.0,1.0,1.0,1.0,1.0,0.043998470397552635,1.0,0.002698404317446908,0.1399986239977984,1.0,1.0,1.0,1.0,1.0,1.0,0.024998439997503997,1.0,1.0,1.0,1.0,0.001098401757442812,0.5899993439989504,1.0,1.0,1.0,1.0,1.0,1.0,0.4199990719985152,0.013998422397475837,1.0,0.020998433597493756,1.0,0.24999879999807997,1.0,1.0,1.0,1.0,0.0599984959975936,0.10999857599772159,1.0,1.0,0.03499845599752959,0.058998494397591035,0.0599984959975936,1.0,1.0,1.0,1.0,1.0,1.0,1.0,1.0,1.0,1.0,1.0,1.0,0.07499851999763199,2.84000454400727e-05,1.0,1.0,1.0,1.0,1.0,1.0,1.0,0.7099995359992576,1.0,1.0,1.0,0.0009984015974425558,0.002698404317446908,1.0,1.0,1.0,1.0,1.0,0.20999873599797758,1.0,1.0,1.0,1.0,0.199998719997952,0.022998436797498877,0.030998449597519354,1.0,0.4299990879985408,1.0,0.17999868799790078,1.0,1.0,0.35999897599836156,0.2599988159981056,1.0,1.0,1.0,1.0,0.11999859199774718,1.0,1.0,0.07299851679762688,1.0,0.043998470397552635,1.0,1.0,0.032998452797524475,1.0,0.00239840383744614,0.09899855839769343,0.3899990239984384,1.0,0.4099990559984896,1.0,1.0,0.2599988159981056,1.0,1.0,1.0,1.0,1.0,1.0,0.6199993919990272,0.002198403517445628,1.0,1.0,0.04299846879755007,1.0,1.0,1.0,0.026998443197509114,1.0,0.04899847839756543,0.04599847359755775,1.0,1.0,1.0,1.0,1.0,1.0,0.0005484008774414039,1.0,1.0,0.21999875199800317,0.0012984020774433238,1.0,0.17999868799790078,0.00043840070144112234,1.0,1.0,1.0,1.0,1.0,1.0,0.4399991039985664,1.0,1.0,0.0007084011334418135,1.0,1.0,1.0,0.0034984055974489558,1.0,0.021998435197496315,1.0,1.0,1.0,1.0,1.0,1.0,1.0,0.0005784009254414807,1.0,1.0,0.0007184011494418391,1.0,1.0,1.0,0.2299987679980288,1.0,0.21999875199800317,1.0,1.0,0.3199989119982592,1.0,1.0,1.0,1.0,1.0,0.04699847519756031,0.06299850079760128,1.0,0.04999847999756799,1.0,1.0,1.0,1.0,0.6799994879991809,1.0,0.00025840041344066153,0.0009584015334424534,5.900009440015103e-06,0.0007184011494418391,1.0,1.0,1.0,1.0,1.0,1.0,0.005498408797454076,1.0,1.0,1.0,1.0,1.0,0.20999873599797758,1.0,1.0,1.0,1.0,1.0,1.0,1.0,1.0,1.0,0.0008284013254421207,1.0,1.0,1.0,0.020998433597493756,1.0,0.002998404797447676,1.0,0.009698415517464826,0.047998476797562875,1.0,1.0,0.010998417597468155,0.008698413917462268,1.0,0.0002084003334405335,0.03899846239753983,1.0,1.0,0.002498403997446396,0.002998404797447676,1.0,1.0,1.0,1.0,0.5099992159987456,1.0,1.0,0.003598405757449212,1.0,1.0,1.0,0.010998417597468155,1.0,1.0,0.08799854079766528,1.0,1.0,0.35999897599836156,0.010998417597468155,1.0,0.14999863999782398,1.0,1.0,1.0,1.0,1.0,1.0,1.0,1.0,1.0,1.0,1.0,1.0,1.0,1.0,1.0,0.039998463997542394,1.0,1.0,1.0,1.0,1.0,0.03399845439752703,1.0,1.0,1.0,0.399999039998464,1.0,0.1299986079977728,1.0,1.0,0.0649985039976064,1.0,1.0,0.008798414077462523,1.0,1.0,1.0,1.0,1.0,0.10999857599772159,1.0,1.0,0.017998428797486078,0.027998444797511672,1.0,1.0,1.0,1.0,1.0,1.0,1.0,1.0,1.0,1.0,1.0,0.00037840060544096866,1.0,1.0,1.0,1.0,1.0,1.0,1.0,1.0,1.0,1.0,1.0,1.0,1.0,1.0,1.0,1.0,1.0,0.1299986079977728,0.008798414077462523,1.0,0.0849985359976576,1.0,1.0,0.8399997439995904,0.013998422397475837,1.0,1.0,1.0,1.0,0.002998404797447676,1.0,1.0,1.0,1.0,1.0,1.0,1.0,0.1699986719978752,1.0,1.0,1.0,0.599999359998976,0.015998425597480957,0.35999897599836156,1.0,1.0,0.2299987679980288,0.5799993279989248,1.0,0.3199989119982592,1.0,0.5599992959988737,1.0,1.0,1.0,1.0,1.0,1.0,1.0,1.0,0.18999870399792637,1.0,0.899999839999744,1.0,0.0003084004934407895,0.014998423997478397,1.0,1.0,0.0006984011174417879,1.0,1.0,1.0,0.058998494397591035,1.0,0.010998417597468155,0.28999886399818237,1.0,1.0,1.0,1.0,1.0,0.10999857599772159,1.0,0.016998427197483516,1.0,1.0,0.03799846079753727,0.20999873599797758,1.0,0.099998559997696,1.0,0.009298414877463803,1.0,0.2799988479981568,0.0002184003494405591,0.17999868799790078,0.1699986719978752,1.0,1.0,1.0,0.6799994879991809,1.0,1.0,1.0,1.0,1.0,0.032998452797524475,0.21999875199800317,1.0,1.0,1.0,1.0,0.5399992639988224,1.0,1.0,1.0,0.07899852639764224,1.0,1.0,1.0,0.04499847199755519,1.0,1.0,1.0,1.0,1.0,0.00189840303744486,0.039998463997542394,1.0,1.0,1.0,1.0,1.0,1.0,1.0,1.0,0.08399853439765503,0.004298406877451004,0.047998476797562875,0.027998444797511672,0.016998427197483516,0.9099998559997696,1.0,1.0,1.0,0.016998427197483516,1.0,0.3399989439983104,1.0,0.055998489597583356,1.0,0.20999873599797758,1.0,1.0,0.040998465597544956,1.0,1.0,1.0,1.0,1.0,1.0,0.029998447997516792,1.0,1.0,1.0,1.0,0.4099990559984896,1.0,1.0,1.0,1.0,1.0,9.540015264024422e-05,0.003998406397450236,0.14999863999782398,1.0,1.0,0.024998439997503997,0.04599847359755775,0.9599999359998976,1.0,0.001198401917443068,1.0,1.0,0.001698402717444348,1.0,0.1699986719978752,1.0,1.0,1.0,0.013998422397475837,1.0,1.0,1.0,1.0,1.0,1.0,1.0,1.0,1.0,1.0,1.0,1.0,1.0,1.0,1.0,0.24999879999807997,1.0,1.0,1.0,0.04699847519756031,0.013998422397475837,0.21999875199800317,1.0,1.0,1.0,1.0,1.0,1.0,1.0,1.0,1.0,0.3899990239984384,1.0,0.032998452797524475,1.0,1.0,1.0,0.0001284002054403287,0.24999879999807997,1.0,1.0,0.2599988159981056,1.0,1.0,1.0,1.0,1.0,1.0,1.0,1.0,1.0,1.0,0.010998417597468155,1.0,1.0,1.0,0.6099993759990016,0.005998409597455356,1.0,1.0,1.0,0.24999879999807997,1.0,0.4899991839986944,1.0,1.0,1.0,0.0068984110374576595,1.0,1.0,1.0,0.20999873599797758,1.0,1.0,0.06199849919759872,1.0,1.0,0.024998439997503997,1.0,0.007398411837458939,0.036998459197534715,1.0,0.1399986239977984,0.04599847359755775,1.0,1.0,1.0,0.051998483197573116,1.0,1.0,0.021998435197496315,1.0,0.9199998719997952,1.0,1.0,1.0,1.0,0.002698404317446908,1.0,1.0,1.0,1.0,1.0,1.0,1.0,0.007298411677458683,1.0,1.0,1.0,1.0,1.0,0.14999863999782398,1.0,0.49999919999872,1.0,1.0,1.0,1.0,1.0,1.0,1.0,1.0,0.0006984011174417879,0.10999857599772159,1.0,1.0,1.0,0.09699855519768831,1.0,1.0,1.0,1.0,0.04199846719754751,1.0,1.0,1.0,1.0,0.29999887999820796,1.0,1.0,0.023998438397501435,1.0,1.0,1.0,1.0,1.0,1.0,1.0,1.0,1.0,1.0,0.009498415197464315,0.1299986079977728,1.0,1.0,1.0,1.0,1.0,1.0,1.0,1.0,0.0017984028774446041,0.023998438397501435,1.0,1.0,1.0,0.08699853919766272,1.0,1.0,1.0,1.0,1.0,0.00013840022144035428,1.0,1.0,1.0,1.0,1.0,1.0,0.003298405277448444,1.0,1.0,1.0,1.0,0.599999359998976,1.0,0.05699849119758592,0.0002384003814406103,1.0,0.055998489597583356,1.0,1.0,0.00289840463744742,0.039998463997542394,0.1299986079977728,1.0,1.0,0.11999859199774718,0.8099996959995136,1.0,0.08699853919766272,1.0,0.030998449597519354,1.0,1.0,1.0,1.0,0.17999868799790078,0.28999886399818237,1.0,1.0,1.0,1.0,0.018998430397488636,1.0,1.0,1.0,0.00010840017344027751,1.0,1.0,1.0,1.0,0.199998719997952,0.1399986239977984,1.0,0.03799846079753727,1.0,1.0,1.0,0.023998438397501435,1.0,1.0,0.4199990719985152,1.0,1.0,0.9099998559997696,1.0,1.0,1.0,1.0,1.0,1.0,0.04899847839756543,0.3799990079984128,1.0,1.0,0.20999873599797758,0.3299989279982848,0.009898415837465339,1.0,1.0,1.0,0.03599845759753215,1.0,1.0,1.0,0.012998420797473277,1.0,0.1299986079977728,1.0,1.0,1.0,0.003998406397450236,0.0002084003334405335,1.0,1.0,0.007598412157459451,1.0,1.0,1.0,0.09599855359768576,1.0,0.008498413597461755,1.0,1.0,1.0,1.0,0.025998441597506552,1.0,0.0008384013414421463,1.0,1.0,1.0,1.0,1.0,0.047998476797562875,1.0,1.0,0.001098401757442812,1.0,0.001198401917443068,1.0,1.0,1.0,1.0,0.027998444797511672,1.0,1.0,1.0,0.07199851519762432,1.0,1.0,0.028998446397514234,1.0,1.0,1.0,0.010998417597468155,1.0,0.015998425597480957,1.0,1.0,1.0,1.0,1.0,1.0,1.0,1.0,0.0005884009414415063,1.0,1.0,0.099998559997696,1.0,1.0,0.015998425597480957,1.0,1.0,1.0,1.0,0.08599853759766016,1.0,1.0,1.0,1.0,1.0,1.0,1.0,0.050998481597570554,1.0,1.0,1.0,1.0,1.0,1.0,0.15999865599784957,0.10999857599772159,0.0005184008294413271,1.0,1.0,1.0,1.0,1.0,1.0,1.0,1.0,1.0,1.0,1.0,0.006498410397456635,1.0,1.0,1.0,1.0,0.006098409757455612,0.058998494397591035,1.0,1.0,1.0,1.0,0.08699853919766272,0.05299848479757568,1.0,1.0,0.1399986239977984,0.04899847839756543,0.003198405117448188,0.5299992479987968,1.0,1.0,1.0,1.0,1.0,1.0,0.003198405117448188,1.0,1.0,1.0,0.023998438397501435,1.0,1.0,0.008998414397463034,0.5599992959988737,0.0013984022374435798,1.0,0.04199846719754751,1.0,1.0,1.0,0.21999875199800317,0.9899999839999744,1.0,1.0,1.0,1.0,1.0,1.0,0.29999887999820796,1.0,1.0,0.18999870399792637,1.0,1.0,1.0,1.0,1.0,1.0,1.0,1.0,1.0,1.0,1.0,1.0,1.0,0.1299986079977728,0.49999919999872,1.0,1.0,1.0,0.016998427197483516,1.0,1.0,1.0,0.3199989119982592,1.0,1.0,1.0,1.0,1.0,0.001498402397443836,1.0,1.0,1.0,1.0,1.0,1.0,0.34999895999833597,1.0,0.004298406877451004,1.0,1.0,1.0,0.00439840703745126,1.0,0.11999859199774718,1.0,1.0,1.0,1.0,1.0,0.15999865599784957,1.0,0.3099988959982336,1.0,1.0,1.0,1.0,1.0,1.0,1.0,1.0,1.0,1.0,1.0,1.0,0.099998559997696,0.08599853759766016,1.0,1.0,1.0,0.054998487997580794,1.0,0.002698404317446908,0.28999886399818237,1.0,1.0,1.0,1.0,1.0,0.0034984055974489558,1.0,1.0,0.1699986719978752,0.4399991039985664,1.0,1.0,1.0,1.0,0.14999863999782398,1.0,1.0,0.07499851999763199,1.0,0.022998436797498877,1.0,1.0,1.0,0.649999439999104,0.08299853279765247,1.0,1.0,1.0,1.0,0.23999878399805438,1.0,1.0,0.07799852479763968,1.0,1.0,1.0,0.8199997119995392,1.0,0.0013984022374435798,0.44999911999859205,1.0,1.0,0.10999857599772159,0.0001284002054403287,1.0,0.099998559997696,1.0,1.0,1.0,1.0,1.0,0.003298405277448444,1.0,1.0,1.0,1.0,1.0,1.0,1.0,1.0,1.0,1.0,1.0,1.0,9.34001494402391e-05,1.0,1.0,1.0,1.0,0.03799846079753727,0.007598412157459451,1.0,1.0,0.06799850879761407,0.020998433597493756,1.0,1.0,1.0,1.0,1.0,1.0,1.0,1.0,1.0,1.0,1.0,1.0,1.0,1.0,1.0,1.0,0.00939841503746406,1.0,0.001198401917443068,1.0,1.0,1.0,1.0,1.0,0.199998719997952,0.2299987679980288,0.21999875199800317,0.08999854399767039,1.0,1.0,1.0,0.15999865599784957,0.036998459197534715,1.0,1.0,1.0,1.0,0.06099849759759616,1.0,0.04499847199755519,0.2599988159981056,1.0,1.0,0.4299990879985408,1.0,1.0,0.00013840022144035428,1.0,1.0,1.0,1.0,1.0,1.0,0.003098404957447932,0.8799998079996928,1.0,0.7199995519992832,1.0,1.0,1.0,0.3099988959982336,0.006498410397456635,1.0,1.0,0.23999878399805438,1.0,1.0,1.0,1.0,1.0,1.0,1.0,1.0,1.0,1.0,1.0,1.0,1.0,1.0,1.0,1.0,1.0,1.0,1.0,1.0,1.0,1.0,1.0,0.3099988959982336,0.11999859199774718,1.0,0.0033984054374487,1.0,1.0,1.0,1.0,1.0,1.0,1.0,1.0,1.0,1.0,0.099998559997696,0.021998435197496315,1.0,1.0,1.0,1.0,0.00026840042944068713,1.0,1.0,1.0,1.0,1.0,1.0,1.0,1.0,1.0,1.0,0.099998559997696,1.0,0.05399848639757824,1.0,1.0,1.0,1.0,0.29999887999820796,1.0,0.03399845439752703,0.017998428797486078,1.0,1.0,0.11999859199774718,1.0,0.1299986079977728,1.0,1.0,1.0,0.199998719997952,1.0,1.0,1.0,1.0,1.0,0.44999911999859205,0.050998481597570554,1.0,0.016998427197483516,1.0,0.008198413117460987,1.0,0.047998476797562875,0.3099988959982336,1.0,1.0,1.0,0.17999868799790078,1.0,1.0,1.0,0.001498402397443836,0.6699994719991552,0.1299986079977728,0.04599847359755775,0.0068984110374576595,1.0,0.040998465597544956,1.0,0.0001784002854404567,1.0,0.3299989279982848,1.0,0.09399855039768064,0.1699986719978752,0.15999865599784957,1.0,1.0,1.0,1.0,1.0,1.0,1.0,1.0,1.0,1.0,1.0,1.0,1.0,1.0,1.0,0.5699993119988992,1.0,1.0,1.0,1.0,1.0,1.0,1.0,1.0,1.0,1.0,1.0,1.0,0.0599984959975936,1.0,1.0,0.3099988959982336,1.0,1.0,0.17999868799790078,1.0,0.649999439999104,1.0,0.199998719997952,0.00859841375746201,0.0015984025574440918,1.0,0.002498403997446396,0.013998422397475837,0.15999865599784957,1.0,1.0,1.0,1.0,1.0,0.14999863999782398,1.0,1.0,1.0,1.0,1.0,0.2699988319981312,0.1399986239977984,1.0,1.0,1.0,1.0,1.0,1.0,1.0,1.0,1.0,0.0001684002694404311,1.0,1.0,1.0,1.0,1.0,1.0,1.0,1.0,1.0,0.4399991039985664,1.0,1.0,0.9199998719997952,1.0,1.0,1.0,1.0,1.0,1.0,1.0,1.0,0.2799988479981568,1.0,0.11999859199774718,1.0,1.0,1.0,1.0,1.0,1.0,0.0049984079974527956,1.0,0.3899990239984384,1.0,1.0,0.0003384005414408663,1.0,0.009498415197464315,1.0,1.0,1.0,0.2599988159981056,1.0,1.0,1.0,1.0,1.0,0.4699991519986432,1.0,0.008298413277461242,0.0005984009574415319,0.008698413917462268,1.0,0.3299989279982848,1.0,1.0,1.0,1.0,0.0009984015974425558,0.013998422397475837,1.0,0.011998419197470715,0.008198413117460987,1.0,1.0,1.0,1.0,1.0,1.0,1.0,1.0,0.3799990079984128,1.0,1.0,0.199998719997952,1.0,1.0,1.0,0.849999759999616,0.043998470397552635,0.7499995999993601,1.0,0.018998430397488636,1.0,1.0,1.0,1.0,0.199998719997952,1.0,1.0,0.14999863999782398,0.24999879999807997,1.0,1.0,1.0,1.0,0.00039840063744101987,0.025998441597506552,1.0,1.0,1.0,0.20999873599797758,0.9899999839999744,1.0,1.0,1.0,1.0,1.0,1.0,1.0,1.0,1.0,1.0,1.0,1.0,0.0009984015974425558,1.0,1.0,0.11999859199774718,1.0,7.540012064019302e-05,0.002598404157446652,1.0,1.0,1.0,1.0,1.0,0.05699849119758592,1.0,1.0,1.0,1.0,1.0,1.0,1.0,1.0,1.0,1.0,1.0,1.0,0.1699986719978752,1.0,1.0,1.0,1.0,1.0,0.0012984020774433238,1.0,1.0,1.0,0.10999857599772159,1.0,0.28999886399818237,1.0,1.0,0.025998441597506552,1.0,1.0,1.0,1.0,1.0,0.2699988319981312,1.0,0.6599994559991296,1.0,0.006998411197457915,0.06899851039761663,1.0,0.030998449597519354,1.0,1.0,0.002798404477447164,1.0,0.09899855839769343,1.0,0.03199845119752191,1.0,1.0,1.0,1.0,1.0,3.34000534400855e-05,1.0,1.0,1.0,1.0,0.025998441597506552,1.0,1.0,0.45999913599861764,0.199998719997952,1.0,1.0,1.0,1.0,1.0,1.0,1.0,0.4299990879985408,1.0,1.0,1.0,1.0,1.0,3.540005664009062e-05,0.11999859199774718,1.0,0.36999899199838715,1.0,1.0,0.002798404477447164,1.0,1.0,1.0,0.10999857599772159,0.010998417597468155,1.0,0.3099988959982336,0.021998435197496315,1.0,0.04499847199755519,0.022998436797498877,0.3899990239984384,0.003198405117448188,0.2299987679980288,9.34001494402391e-05,1.0,1.0,1.0,1.0,1.0,1.0,0.1699986719978752,0.036998459197534715,1.0,0.003098404957447932,1.0,1.0,1.0,1.0,1.0,1.0,1.0,1.0,1.0,1.0,1.0,1.0,0.21999875199800317,1.0,1.0,1.0,1.0,1.0,1.0,1.0,0.45999913599861764,1.0,0.10999857599772159,1.0,0.011998419197470715,1.0,0.5599992959988737,1.0,1.0,1.0,0.3299989279982848,1.0,0.07899852639764224,1.0,0.2699988319981312,1.0,0.002098403357445372,1.0,0.3399989439983104,0.0007284011654418647,1.0,1.0,0.24999879999807997,1.0,0.011998419197470715,1.0,0.008898414237462779,1.0,1.0,1.0,0.849999759999616,0.2699988319981312,1.0,1.0,1.0,1.0,1.0,1.0,1.0,1.0,1.0,1.0,1.0,1.0,1.0,0.1699986719978752,1.0,1.0,1.0,1.0,1.0,1.0,1.0,1.0,1.0,0.004098406557450492,0.06099849759759616,1.0,1.0,1.0,1.0,1.0,1.0,1.0,1.0,1.0,1.0,1.0,1.0,0.17999868799790078,1.0,1.0,1.0,0.0002784004454407127,1.0,1.0,0.06199849919759872,1.0,1.0,0.6299994079990529,1.0,0.21999875199800317,0.0649985039976064,1.0,0.011998419197470715,1.0,1.0,1.0,0.3299989279982848,1.0,0.5899993439989504,1.0,1.0,0.06399850239760384,1.0,1.0,1.0,0.0017984028774446041,1.0,1.0,1.0,0.04599847359755775,1.0,1.0,1.0,1.0,8.040012864020582e-05,0.03499845599752959,1.0,1.0,0.21999875199800317,1.0,0.34999895999833597,0.36999899199838715,1.0,1.0,1.0,1.0,0.0007184011494418391,1.0,1.0,0.03499845599752959,0.09099854559767295,1.0,0.18999870399792637,1.0,0.5199992319987712,1.0,1.0,0.0003284005254408407,1.0,1.0,1.0,1.0,1.0,1.0,1.0,0.09099854559767295,1.0,1.0,1.0,1.0,0.24999879999807997,1.0,1.0,0.36999899199838715,1.0,1.0,1.0,1.0,0.06399850239760384,1.0,0.07699852319763711,1.0,1.0,0.010998417597468155,1.0,1.0,1.0,0.11999859199774718,0.0001484002374403799,1.0,1.0,1.0,1.0,1.0,1.0,1.0,0.28999886399818237,1.0,1.0,1.0,1.0,0.15999865599784957,1.0,1.0,1.0,0.5399992639988224,1.0,1.0,1.0,1.0,0.20999873599797758,1.0,1.0,1.0,1.0,1.0,1.0,1.0,1.0,1.0,0.0002384003814406103,1.0,1.0,1.0,0.019998431997491198,1.0,1.0,1.0,1.0,0.015998425597480957,1.0,1.0,1.0,1.0,1.0,1.0,1.0,1.0,0.002598404157446652,0.099998559997696,1.0,0.028998446397514234,1.0,1.0,1.0,1.0,1.0,0.49999919999872,1.0,1.0,1.0,0.9399999039998465,1.0,1.0,1.0,0.004198406717450748,1.0,1.0,1.0,0.005598408957454332,0.00939841503746406,1.0,1.0,0.026998443197509114,1.0,1.0,1.0,1.0,0.1399986239977984,1.0,1.0,1.0,1.0,1.0,1.0,1.0,1.0,0.5599992959988737,1.0,1.0,1.0,1.0,1.0,1.0,1.0,1.0,1.0,0.3099988959982336,1.0,1.0,0.039998463997542394,1.0,1.0,1.0,0.09799855679769087,1.0,1.0,0.7599996159993856,0.009698415517464826,0.027998444797511672,1.0,1.0,1.0,1.0,0.05799849279758848,1.0,1.0,0.00639841023745638,1.0,0.10999857599772159,0.36999899199838715,0.07799852479763968,1.0,1.0,0.0005784009254414807,1.0,1.0,1.0,1.0,1.0,0.025998441597506552,1.0,1.0,1.0,0.3899990239984384,1.0,4.940007904012646e-05,1.0,1.0,0.00239840383744614,1.0,1.0,1.0,0.014998423997478397,1.0,1.0,1.0,0.005798409277454844,0.00859841375746201,0.013998422397475837,1.0,0.4299990879985408,1.0,1.0,1.0,1.0,0.699999519999232,0.5599992959988737,1.0,1.0,1.0,1.0,1.0,0.20999873599797758,0.1699986719978752,1.0,1.0,1.0,1.0,1.0,0.2699988319981312,1.0,1.0,0.199998719997952,1.0,0.09799855679769087,1.0,1.0,0.009898415837465339,1.0,1.0,0.011998419197470715,0.3299989279982848,1.0,1.0,1.0,1.0,0.18999870399792637,0.000968401549442479,1.0,1.0,1.0,1.0,0.009798415677465084,0.6099993759990016,1.0,1.0,1.0,1.0,1.0,1.0,1.0,1.0,1.0,1.0,1.0,0.06799850879761407,1.0,1.0,1.0,1.0,0.011998419197470715,1.0,0.6199993919990272,0.1299986079977728,1.0,1.0,0.021998435197496315,0.20999873599797758,1.0,1.0,1.0,1.0,1.0,1.0,0.006298410077456124,1.0,1.0,0.14999863999782398,0.0003284005254408407,1.0,0.002498403997446396,0.11999859199774718,0.002098403357445372,0.07799852479763968,1.0,1.0,1.0,1.0,1.0,0.09199854719767551,1.0,0.4899991839986944,1.0,0.4799991679986688,1.0,1.0,1.0,0.004298406877451004,1.0,1.0,1.0,0.1299986079977728,0.012998420797473277,1.0,1.0,0.34999895999833597,1.0,0.002698404317446908,0.09699855519768831,0.03599845759753215,0.003098404957447932,0.1699986719978752,1.0,1.0,1.0,1.0,0.1299986079977728,1.0,1.0,0.4199990719985152,1.0,1.0,1.0,1.0,1.0,0.00047840076544122465,0.11999859199774718,1.0,1.0,1.0,0.003198405117448188,0.004798407677452284,1.0,0.020998433597493756,0.20999873599797758,0.4899991839986944,1.0,1.0,1.0,1.0,1.0,1.0,1.0,1.0,1.0,1.0,1.0,1.0,1.0,1.0,1.0,1.0,1.0,0.549999279998848,1.0,1.0,1.0,1.0,0.050998481597570554,1.0,1.0,1.0,0.1299986079977728,1.0,1.0,1.0,1.0,1.0,1.0,0.028998446397514234,1.0,1.0,1.0,0.001198401917443068,1.0,0.17999868799790078,1.0,1.0,0.017998428797486078,0.024998439997503997,1.0,1.0,1.0,1.0,1.0,0.06699850719761152,0.020998433597493756,1.0,1.0,1.0,1.0,1.0,1.0,1.0,1.0,1.0,1.0,0.020998433597493756,1.0,0.028998446397514234,1.0,1.0,0.04199846719754751,0.004498407197451516,0.024998439997503997,1.0,1.0,1.0,0.6399994239990784,1.0,1.0,1.0,1.0,1.0,1.0,1.0,0.03799846079753727,0.029998447997516792,0.09199854719767551,1.0,0.6899995039992064,1.0,1.0,1.0,1.0,1.0,1.0,1.0,6.540010464016743e-05,1.0,1.0,0.028998446397514234,1.0,1.0,1.0,0.010998417597468155,1.0,1.0,1.0,1.0,1.0,1.0,1.0,0.9899999839999744,5.040008064012902e-05,1.0,0.014998423997478397,0.199998719997952,1.0,1.0,1.0,1.0,1.0,0.05799849279758848,0.008998414397463034,1.0,1.0,1.0,1.0,1.0,0.06799850879761407,0.007298411677458683,1.0,1.0,1.0,1.0,1.0,1.0,1.0,0.0008984014374422999,1.0,0.20999873599797758,1.0,1.0,1.0,0.014998423997478397,1.0,0.007498411997459195,0.0649985039976064,1.0,1.0,1.0,1.0,1.0,1.0,0.002298403677445884,1.0,0.20999873599797758,1.0,0.010998417597468155,0.001198401917443068,1.0,1.0,1.0,1.0,0.15999865599784957,0.8699997919996671,0.03599845759753215,1.0,0.09899855839769343,0.099998559997696,1.0,1.0,1.0,1.0,7.940012704020326e-05,0.3099988959982336,1.0,1.0,0.36999899199838715,0.1299986079977728,0.011998419197470715,0.07699852319763711,1.0,1.0,1.0,1.0,1.0,1.0,1.0,1.0,1.0,0.3099988959982336,0.004298406877451004,1.0,1.0,1.0,0.015998425597480957,0.028998446397514234,1.0,1.0,0.0006284010054416086,1.0,1.0,1.0,1.0,1.0,1.0,1.0,0.004498407197451516,0.026998443197509114,1.0,0.2599988159981056,0.24999879999807997,0.004098406557450492,1.0,1.0,1.0,1.0,1.0,1.0,0.04599847359755775,0.49999919999872,1.0,1.0,0.04299846879755007,1.0,1.0,2.100003360005376e-06,1.0,1.0,1.0,1.0,1.0,1.0,0.10999857599772159,1.0,1.0,1.0,1.0,0.002498403997446396,1.0,0.20999873599797758,1.0,1.0,1.0,1.0,1.0,1.0,0.099998559997696,0.0649985039976064,0.04999847999756799,1.0,0.09099854559767295,1.0,1.0,1.0,1.0,1.0,0.15999865599784957,1.0,1.0,0.021998435197496315,1.0,1.0,1.0,1.0,1.0,1.0,1.0,1.0,1.0,0.04299846879755007,0.009998415997465595,1.0,1.0,1.0,0.4199990719985152,1.0,0.03499845599752959,1.0,0.549999279998848,1.0,1.0,1.0,1.0,1.0,0.3399989439983104,0.11999859199774718,0.7499995999993601,1.0,1.0,1.0,1.0,1.0,1.0,1.0,0.1299986079977728,1.0,1.0,0.043998470397552635,0.2799988479981568,0.011998419197470715,0.03799846079753727,1.0,1.0,0.032998452797524475,1.0,1.0,1.0,1.0,0.23999878399805438,1.0,1.0,1.0,1.0,1.0,1.0,1.0,1.0,0.028998446397514234,1.0,1.0,0.699999519999232,0.44999911999859205,0.6899995039992064,1.0,1.0,0.007898412637460219,1.0,1.0,0.013998422397475837,1.0,1.0,1.0,1.0,1.0,1.0,1.0,1.0,1.0,1.0,1.0,1.0,1.0,0.0056984091174545875,0.028998446397514234,0.17999868799790078,1.0,1.0,0.21999875199800317,1.0,0.17999868799790078,1.0,1.0,0.23999878399805438,1.0,0.5199992319987712,1.0,1.0,0.08299853279765247,1.0,1.0,1.0,1.0,1.0,1.0,1.0,0.28999886399818237,0.24999879999807997,0.3099988959982336,1.0,1.0,1.0,1.0,1.0,1.0,1.0,0.00013840022144035428,1.0,1.0,1.0,1.0,1.0,1.0,1.0,1.0,6.740010784017254e-05,0.008198413117460987,1.0,1.0,1.0,1.0,1.0,1.0,1.0,1.0,0.021998435197496315,0.0006284010054416086,1.0,0.0009984015974425558,0.039998463997542394,0.5899993439989504,1.0,1.0,1.0,0.20999873599797758,1.0,0.49999919999872,1.0,1.0,1.0,1.0,1.0,1.0,1.0,0.04299846879755007,1.0,1.0,1.0,1.0,1.0,1.0,0.001198401917443068,1.0,1.0,0.20999873599797758,1.0,1.0,1.0,1.0,0.06399850239760384,0.0001484002374403799,0.099998559997696,0.002298403677445884,0.04699847519756031,1.0,0.0799985279976448,0.0649985039976064,2.0000032000051195e-06,1.0,1.0,1.0,1.0,1.0,1.0,0.002998404797447676,1.0,1.0,0.0699985119976192,0.06699850719761152,1.0,1.0,1.0,1.0,1.0,1.0,1.0,1.0,1.0,1.0,1.0,1.0,1.0,0.030998449597519354,1.0,1.0,1.0,0.047998476797562875,1.0,0.07299851679762688,1.0,1.0,1.0,1.0,1.0,1.0,1.0,1.0,1.0,0.0001984003174405079,1.0,1.0,1.0,0.199998719997952,1.0,1.0,1.0,0.0015984025574440918,0.4699991519986432,1.0,0.009698415517464826,1.0,1.0,1.0,0.001098401757442812,1.0,1.0,0.199998719997952,1.0,1.0,0.0034984055974489558,1.0,0.24999879999807997,0.14999863999782398,1.0,1.0,1.0,1.0,0.04599847359755775,1.0,1.0,1.0,0.0799985279976448,1.0,1.0,1.0,1.0,1.0,1.0,1.0,0.5699993119988992,1.0,1.0,1.0,1.0,0.012998420797473277,0.002698404317446908,1.0,0.007498411997459195,1.0,1.0,1.0,1.0,0.05699849119758592,1.0,1.0,0.026998443197509114,1.0,0.001198401917443068,1.0,1.0,1.0,1.0,0.05699849119758592,1.0,0.027998444797511672,0.5299992479987968,1.0,1.0,1.0,0.0599984959975936,0.028998446397514234,1.0,1.0,1.0,1.0,1.0,1.0,0.003298405277448444,1.0,1.0,1.0,1.0,0.2599988159981056,1.0,1.0,1.0,1.0,0.36999899199838715,1.0,1.0,1.0,1.0,0.549999279998848,0.5299992479987968,1.0,1.0,0.199998719997952,1.0,0.004198406717450748,0.0003284005254408407,1.0,0.20999873599797758,1.0,1.0,0.007198411517458427,1.0,1.0,1.0,1.0,1.0,1.0,1.0,1.0,1.0,1.0,1.0,1.0,0.005598408957454332,1.0,1.0,1.0,0.4899991839986944,1.0,0.018998430397488636,1.0,1.0,1.0,0.009698415517464826,1.0,1.0,0.45999913599861764,1.0,0.15999865599784957,1.0,1.0,1.0,1.0,1.0,1.0,0.1399986239977984,1.0,1.0,0.3099988959982336,1.0,1.0,1.0,1.0,1.0,0.35999897599836156,1.0,0.1399986239977984,1.0,1.0,1.0,0.399999039998464,0.199998719997952,1.0,1.0,1.0,1.0,1.0,0.020998433597493756,0.0009484015174424279,0.047998476797562875,1.0,1.0,0.009998415997465595,1.0,1.0,2.740004384007014e-05,1.0,1.0,1.0,1.0,1.0,1.0,1.0,1.0,0.030998449597519354,0.1299986079977728,1.0,0.036998459197534715,1.0,1.0,1.0,1.0,1.0,0.03899846239753983,1.0,0.2299987679980288,1.0,0.007998412797460474,1.0,1.0,0.0007684012294419671,0.0005884009414415063,1.0,0.09899855839769343,0.2599988159981056,1.0,1.0,1.0,1.0,1.0,0.08799854079766528,1.0,1.0,1.0,0.00024840039744063587,1.0,1.0,1.0,1.0,1.0,0.11999859199774718,1.0,1.0,1.0,1.0,0.017998428797486078,1.0,1.0,1.0,1.0,1.0,1.0,1.0,1.0,0.00439840703745126,1.0,0.0007084011334418135,1.0,1.0,0.3799990079984128,1.0,1.0,1.0,1.0,1.0,1.0,1.0,1.0,1.0,0.18999870399792637,1.0,1.0,1.0,1.0,1.0,1.0,1.0,0.199998719997952,1.0,1.0,0.012998420797473277,1.0,1.0,1.0,1.0,0.35999897599836156,1.0,1.0,0.2599988159981056,0.023998438397501435,1.0,0.003098404957447932,1.0,1.0,1.0,1.0,1.0,1.0,1.0,1.0,0.020998433597493756,1.0,1.0,0.07499851999763199,1.0,1.0,1.0,0.1699986719978752,1.0,1.0,1.0,1.0,0.00939841503746406,0.00439840703745126,1.0,0.0003384005414408663,0.3199989119982592,1.0,0.002498403997446396,1.0,1.0,1.0,0.00038840062144099427,1.0,1.0,1.0,1.0,0.017998428797486078,1.0,1.0,1.0,1.0,1.0,1.0,1.0,1.0,0.2299987679980288,1.0,0.013998422397475837,1.0,1.0,1.0,1.0,1.0,0.021998435197496315,0.018998430397488636,1.0,0.03799846079753727,0.0007584012134419414,1.0,1.0,1.0,0.00011840018944030309,1.0,1.0,1.0,1.0,0.03399845439752703,0.017998428797486078,1.0,1.0,0.002298403677445884,1.0,1.0,1.0,1.0,1.0,1.0,1.0,1.0,1.0,1.0,1.0,1.0,1.0,1.0,0.03899846239753983,1.0,1.0,0.1699986719978752,0.0599984959975936,1.0,1.0,1.0,0.00041840066944107113,0.005298408477453564,1.0,0.099998559997696,1.0,1.0,1.0,1.0,1.0,1.0,0.08999854399767039,1.0,1.0,1.0,0.027998444797511672,1.0,1.0,1.0,1.0,1.0,1.0,1.0,1.0,1.0,1.0,0.5599992959988737,0.00489840783745254,1.0,0.3099988959982336,1.0,1.0,1.0,1.0,1.0,1.0,1.0,1.0,0.1699986719978752,0.36999899199838715,1.0,1.0,1.0,1.0,0.29999887999820796,0.4399991039985664,1.0,0.2599988159981056,0.025998441597506552,0.018998430397488636,1.0,0.009998415997465595,1.0,0.010998417597468155,1.0,1.0,1.0,1.0,4.940007904012646e-05,1.0,1.0,0.08399853439765503,1.0,1.0,1.0,0.399999039998464,0.020998433597493756,0.006998411197457915,0.005998409597455356,1.0,0.036998459197534715,0.04999847999756799,0.022998436797498877,0.006598410557456891,1.0,1.0,0.040998465597544956,0.8299997279995648,1.0,1.0,1.0,1.0,0.0017984028774446041,0.0012984020774433238,0.00489840783745254,0.4899991839986944,1.0,1.0,1.0,1.0,1.0,0.04299846879755007,1.0,1.0,1.0,0.3899990239984384,1.0,1.0,1.0,1.0,1.0,1.0,1.0,1.0,1.0,1.0,1.0,1.0,1.0,0.050998481597570554,1.0,0.45999913599861764,0.00037840060544096866,1.0,1.0,1.0,1.0,1.0,0.016998427197483516,0.03899846239753983,1.0,0.0001684002694404311,1.0,1.0,1.0,1.0,1.0,1.0,1.0,1.0,1.0,1.0,1.0,1.0,1.0,1.0,1.0,1.0,1.0,1.0,1.0,1.0,1.0,0.599999359998976,1.0,1.0,0.0849985359976576,0.2299987679980288,1.0,1.0,0.6399994239990784,1.0,1.0,1.0,1.0,1.0,1.0,1.0,1.0,1.0,0.03199845119752191,1.0,1.0,1.0,6.740010784017254e-05,0.07199851519762432,1.0,1.0,0.3099988959982336,0.18999870399792637,1.0,1.0,1.0,1.0,1.0,1.0,0.17999868799790078,1.0,0.08699853919766272,0.002998404797447676,1.0,0.039998463997542394,1.0,0.001498402397443836,0.014998423997478397,1.0,0.023998438397501435,0.7499995999993601,1.0,0.10999857599772159,1.0,1.0,1.0,0.011998419197470715,1.0,1.0,1.0,1.0,1.0,0.012998420797473277,1.0,0.649999439999104,0.10999857599772159,1.0,1.0,1.0,1.0,1.0,0.055998489597583356,1.0,1.0,0.012998420797473277,0.1699986719978752,1.0,0.18999870399792637,1.0,1.0,1.0,1.0,0.199998719997952,1.0,1.0,0.1299986079977728,1.0,1.0,0.001098401757442812,1.0,1.0,1.0,0.2699988319981312,0.3099988959982336,1.0,0.14999863999782398,1.0,1.0,0.000918401469442351,0.45999913599861764,0.005598408957454332,1.0,1.0,1.0,1.0,0.099998559997696,1.0,1.0,1.0,1.0,1.0,1.0,0.07799852479763968,1.0,1.0,1.0,1.0,1.0,1.0,0.017998428797486078,1.3000020800033282e-06,1.0,1.0,1.0,0.0015984025574440918,1.0,0.05799849279758848,1.0,1.0,0.17999868799790078,1.0,0.7299995679993088,0.8799998079996928,1.0,1.0,1.0,1.0,1.0,0.8399997439995904,1.0,1.0,1.0,0.050998481597570554,0.36999899199838715,1.0,1.0,0.058998494397591035,1.0,0.03599845759753215,0.0599984959975936,1.0,1.0,0.14999863999782398,0.3899990239984384,1.0,1.0,1.0,0.7799996479994368,1.0,1.0,1.0,0.29999887999820796,0.036998459197534715,1.0,0.10999857599772159,0.03899846239753983,1.0,1.0,1.0,0.012998420797473277,1.0,1.0,1.0,1.0,1.0,1.0,1.0,1.0,0.6899995039992064,1.0,1.0,1.0,1.0,0.0005284008454413527,1.0,0.399999039998464,1.0,1.0,1.0,0.29999887999820796,1.0,0.2799988479981568,1.0,1.0,0.011998419197470715,1.0,1.0,1.0,1.0,1.0,1.0,1.0,0.6599994559991296,1.0,1.0,1.0,1.0,1.0,1.0,0.199998719997952,1.0,1.0,0.00289840463744742,0.058998494397591035,1.0,0.1299986079977728,1.0,0.549999279998848,0.039998463997542394,1.0,0.3199989119982592,0.0004984007974412759,1.0,1.0,0.2299987679980288,0.1299986079977728,0.018998430397488636,1.0,1.0,0.9899999839999744,0.3199989119982592,1.0,1.0,1.0,1.0,1.0,0.09699855519768831,0.20999873599797758,0.0001984003174405079,1.0,1.0,1.0,0.004198406717450748,0.04499847199755519,1.0,0.0699985119976192,1.0,1.0,1.0,1.0,1.0,0.3399989439983104,0.649999439999104,0.06099849759759616,1.0,1.0,1.0,1.0,1.0,0.2299987679980288,1.0,1.0,0.026998443197509114,1.0,0.06399850239760384,1.0,0.1699986719978752,0.0012984020774433238,1.0,1.0,1.0,1.0,1.0,1.0,0.054998487997580794,0.0061984099174558676,1.0,1.0,1.0,0.9299998879998208,1.0,1.0,1.0,1.0,1.0,1.0,0.0005984009574415319,1.0,1.0,0.005298408477453564,1.0,0.00015840025344040552,1.0,1.0,1.0,1.0,1.0,1.0,0.001498402397443836,1.0,0.040998465597544956,1.0,0.006798410877457403,1.0,0.1299986079977728,1.0,1.0,0.5599992959988737,0.00018840030144048227,1.0,0.019998431997491198,0.199998719997952,1.0,1.0,1.0,1.0,1.0,0.10999857599772159,1.0,1.0,1.0,1.0,1.0,1.0,1.0,1.0,1.0,1.0,1.0,1.0,0.4199990719985152,1.0,1.0,1.0,1.0,1.0,1.0,1.0,1.0,1.0,0.04299846879755007,1.0,0.013998422397475837,1.0,0.7799996479994368,1.0,1.0,0.025998441597506552,1.0,1.0,1.0,1.0,1.0,1.0,1.0,1.0,0.051998483197573116,1.0,1.0,1.0,1.0,1.0,1.0,1.0,0.1299986079977728,1.0,0.025998441597506552,0.3799990079984128,1.0,0.018998430397488636,1.0,1.0,1.0,1.0,1.0,1.0,0.001098401757442812,1.0,0.3799990079984128,0.0083984134374615,1.0,0.2799988479981568,1.0,1.0,1.0,1.0,1.0,1.0,1.0,1.0,1.0,0.001198401917443068,1.0,0.006498410397456635,1.0,0.04699847519756031,0.055998489597583356,1.0,1.0,0.030998449597519354,1.0,2.5400040640065024e-05,1.0,1.0,0.004198406717450748,1.0,1.0,1.0,1.0,1.0,1.0,0.08299853279765247,1.0,1.0,1.0,1.0,1.0,0.00189840303744486,0.017998428797486078,1.0,1.0,1.0,1.0,1.0,1.0,1.0,0.0017984028774446041,1.0,1.0,0.004698407517452028,1.0,0.849999759999616,0.05799849279758848,1.0,1.0,1.0,0.15999865599784957,1.0,1.0,1.0,1.0,1.0,1.0,0.001698402717444348,1.0,1.0,1.0,1.0,1.0,1.0,0.008798414077462523,0.11999859199774718,1.0,1.0,0.010998417597468155,1.0,1.0,0.011998419197470715,1.0,1.0,0.649999439999104,1.0,1.0,1.0,1.0,1.0,1.0,1.0,0.0002084003334405335,1.0,1.0,1.0,1.0,1.0,1.0,1.0,0.0003584005734409175,1.0,1.0,1.0,0.2699988319981312,1.0,1.0,0.399999039998464,2.0400032640052226e-05,1.0,1.0,1.0,0.007698412317459707,0.004198406717450748,1.0,1.0,1.0,0.21999875199800317,1.0,1.0,0.11999859199774718,1.0,1.0,1.0,1.0,1.0,1.0,1.0,0.025998441597506552,1.0,1.0,1.0,1.0,0.04599847359755775,1.0,1.0,1.0,0.054998487997580794,1.0,1.0,1.0,1.0,1.0,1.0,1.0,1.0,1.0,4.740007584012134e-05,1.0,0.2599988159981056,1.0,1.0,1.0,0.04599847359755775,1.0,1.0,1.0,1.0,1.0,1.0,1.0,1.0,1.0,1.0,0.5399992639988224,1.0,0.009698415517464826,1.0,1.0,0.00239840383744614,1.0,1.0,0.1299986079977728,1.0,1.0,1.0,0.15999865599784957,1.0,1.0,1.0,1.0,1.0,1.0,1.0,1.0,0.025998441597506552,1.0,1.0,1.0,0.06899851039761663,1.0,1.0,1.0,1.0,1.0,1.0,1.0,1.0,1.0,1.0,1.0,0.0005384008614413783,1.0,1.0,1.0,0.018998430397488636,1.0,1.0,0.24999879999807997,1.0,1.0,1.0,1.0,1.0,0.7299995679993088,1.0,1.0,1.0,1.0,1.0,1.0,1.0,0.00043840070144112234,1.0,0.3199989119982592,0.17999868799790078,1.0,1.0,1.0,1.0,1.0,0.002798404477447164,0.0005784009254414807,1.0,1.0,1.0,1.0,1.0,1.0,1.0,1.0,1.0,1.0,1.0,1.0,1.0,0.028998446397514234,0.06799850879761407,1.0,1.0,0.002098403357445372,1.0,1.0,1.0,0.1699986719978752,1.0,0.0949985519976832,1.0,1.0,1.0,1.0,0.017998428797486078,1.0,0.00539840863745382,1.0,1.0,1.0,1.0,1.0,1.0,1.0,1.0,1.0,1.0,1.0,0.2699988319981312,1.0,1.0,0.0013984022374435798,1.0,0.00038840062144099427,1.0,0.2299987679980288,0.10999857599772159,1.0,1.0,1.0,1.0,0.0004884007814412503,0.10999857599772159,0.0033984054374487,7.000011200017919e-06,1.0,0.10999857599772159,1.0,1.0,1.0,1.0,0.5099992159987456,1.0,1.0,1.0,1.0,0.07799852479763968,1.0,1.0,1.0,1.0,1.0,1.0,1.0,1.0,0.0006384010214416343,1.0,1.0,1.0,0.3899990239984384,1.0,0.010998417597468155,1.0,1.0,1.0,1.0,1.0,0.4799991679986688,1.0,1.0,1.0,1.0,1.0,1.0,1.0,1.0,1.0,0.3299989279982848,1.0,1.0,1.0,1.0,1.0,1.0,1.0,1.0,1.0,0.03599845759753215,0.025998441597506552,1.0,1.0,1.0,1.0,0.012998420797473277,0.0005684009094414551,0.5199992319987712,1.0,1.0,1.0,1.0,0.06299850079760128,1.0,1.0,1.0,1.0,0.017998428797486078,0.10999857599772159,1.0,1.0,1.0,1.0,0.001198401917443068,1.0,0.021998435197496315,1.0,1.0,1.0,1.0,1.0,0.00013840022144035428,0.5399992639988224,0.00039840063744101987,1.0,1.0,0.549999279998848,1.0,1.0,0.009498415197464315,1.0,1.0,0.8099996959995136,0.4099990559984896,0.05799849279758848,0.3199989119982592,1.0,0.005998409597455356,1.0,1.0,1.0,1.0,1.0,1.0,0.07299851679762688,1.0,0.0034984055974489558,0.00489840783745254,1.0,0.0002984004774407639,1.0,1.0,1.0,1.0,1.0,0.15999865599784957,1.0,1.0,1.0,0.043998470397552635,1.0,1.0,1.0,1.0,1.0,0.030998449597519354,1.0,1.0,1.0,1.0,1.0,0.023998438397501435,1.0,0.3299989279982848,1.0,1.0,1.0,0.000968401549442479,1.0,1.0,0.021998435197496315,1.0,0.36999899199838715,1.0,1.0,0.6199993919990272,1.0,1.0,1.0,0.2699988319981312,1.0,1.0,1.0,0.3099988959982336,1.0,1.0,1.0,0.4099990559984896,1.0,0.06099849759759616,1.0,1.0,1.0,1.0,1.0,1.0,1.0,0.003798406077449724,1.0,0.24999879999807997,1.0,1.0,1.0,1.0,1.0,1.0,0.0004684007494411991,1.0,0.10999857599772159,1.0,1.0,1.0,0.4799991679986688,1.0,1.0,1.0,0.018998430397488636,1.0,0.34999895999833597,0.21999875199800317,0.0012984020774433238,0.05299848479757568,0.00439840703745126,1.0,1.0,1.0,1.0,1.0,1.0,1.0,1.0,1.0,1.0,1.0,1.0,1.0,0.7899996639994624,1.0,0.06599850559760896,0.07399851839762944,1.0,0.6199993919990272,1.0,1.0,1.0,1.0,1.0,1.0,0.1299986079977728,1.0,1.0,1.0,1.0,1.0,0.024998439997503997,1.0,1.0,1.0,0.024998439997503997,1.0,1.0,1.0,0.10999857599772159,1.0,1.0,1.0,1.0,0.45999913599861764,1.0,0.08899854239766784,1.0,1.0,0.07899852639764224,0.0001284002054403287,1.0,0.10999857599772159,0.07099851359762176,0.24999879999807997,1.0,1.0,0.009798415677465084,1.0,1.0,1.0,0.7599996159993856,1.0,0.1299986079977728,1.0,1.0,1.0,1.0,1.0,0.5599992959988737,0.028998446397514234,1.0,1.0,1.0,0.11999859199774718,1.0,1.0,1.0,1.0,0.09899855839769343,1.0,1.0,0.08599853759766016,1.0,1.0,1.0,0.7799996479994368,0.018998430397488636,1.0,0.17999868799790078,0.032998452797524475,0.2799988479981568,0.0004284006854410967,1.0,1.0,0.00011840018944030309,1.0,1.0,1.0,1.0,1.0,0.4199990719985152,1.0,1.0,1.0,2.3400037440059902e-05,0.5799993279989248,0.17999868799790078,1.0,1.0,1.0,1.0,1.0,1.0,1.0,0.00289840463744742,0.20999873599797758,1.0,1.0,1.0,1.0,1.0,0.15999865599784957,1.0,1.0,1.0,0.03199845119752191,0.016998427197483516,0.28999886399818237,1.0,1.0,1.0,0.2299987679980288,1.0,0.019998431997491198,1.0,1.0,0.0004084006534410455,1.0,1.0,1.0,1.0,1.0,1.0,1.0,1.0,0.11999859199774718,1.0,1.0,1.0,1.0,1.0,1.0,1.0,0.05399848639757824,1.0,1.0,0.7499995999993601,1.0,1.0,1.0,1.0,1.0,1.0,1.0,1.0,1.0,0.051998483197573116,1.0,0.007898412637460219,1.0,1.0,1.0,1.0,1.0,1.0,0.03599845759753215,1.0,1.0,1.0,1.0,0.1699986719978752,1.0,1.0,0.00859841375746201,1.0,1.0,1.0,1.0,0.020998433597493756,0.036998459197534715,0.7199995519992832,1.0,1.0,1.0,1.0,0.45999913599861764,0.025998441597506552,1.0,0.24999879999807997,1.0,1.0,1.0,1.0,0.025998441597506552,1.0,1.0,1.0,1.0,1.0,1.0,3.740005984009574e-05,0.011998419197470715,0.14999863999782398,1.0,0.0005084008134413014,1.0,1.0,0.18999870399792637,1.0,1.0,1.0,1.0,0.34999895999833597,1.0,0.10999857599772159,1.0,0.08599853759766016,1.0,1.0,0.24999879999807997,1.0,1.0,0.023998438397501435,0.24999879999807997,1.0,0.000868401389442223,0.003998406397450236,1.0,0.549999279998848,1.0,0.3199989119982592,0.0002884004614407383,0.00289840463744742,1.0,1.0,0.6699994719991552,0.1299986079977728,1.0,1.0,1.0,0.3099988959982336,1.0,0.07799852479763968,1.0,0.07599852159763455,1.0,0.005098408157453052,1.0,1.0,1.0,1.0,1.0,1.0,1.0,1.0,1.0,1.0,0.004198406717450748,1.0,1.0,1.0,1.0,1.0,0.20999873599797758,1.0,1.0,1.0,1.0,1.0,1.0,1.0,0.14999863999782398,1.0,0.024998439997503997,0.0012984020774433238,1.0,1.0,1.0,0.0056984091174545875,0.08599853759766016,1.0,0.3399989439983104,0.0012984020774433238,0.001098401757442812,0.04699847519756031,1.0,0.3199989119982592,0.006698410717457147,1.0,1.0,1.0,0.08199853119764992,1.0,0.0013984022374435798,0.005598408957454332,1.0,0.14999863999782398,0.21999875199800317,1.0,0.03599845759753215,1.0,1.0,0.4399991039985664,0.001998403197445116,0.001198401917443068,0.0061984099174558676,0.005798409277454844,1.0,0.04699847519756031,0.099998559997696,1.0,1.0,0.016998427197483516,1.0,1.0,1.0,1.0,1.0,1.0,1.0,1.0,0.11999859199774718,1.0,1.0,1.0,1.0,1.0,1.0,1.0,0.21999875199800317,0.008698413917462268,1.0,1.0,0.2799988479981568,1.0,1.0,1.0,1.0,0.20999873599797758,1.0,1.0,1.0,1.0,1.0,1.0,1.0,0.043998470397552635,1.0,1.0,1.0,1.0,1.0,1.0,1.0,1.0,1.0,0.029998447997516792,1.0,1.0,1.0,1.0,0.04899847839756543,0.04699847519756031,0.026998443197509114,1.0,0.08899854239766784,1.0,0.10999857599772159,0.1299986079977728,1.0,0.5399992639988224,1.0,1.0,1.0,1.0,1.0,0.017998428797486078,0.010998417597468155,1.0,1.0,1.0,1.0,0.018998430397488636,1.0,1.0,0.00013840022144035428,0.6299994079990529,1.0,0.0799985279976448,1.0,1.0,1.0,1.0,1.0,0.009998415997465595,1.0,1.0,1.0,1.0,1.0,1.0,1.0,1.0,1.0,1.0,0.023998438397501435,0.3199989119982592,0.005598408957454332,0.05699849119758592,0.003998406397450236,0.009298414877463803,1.0,1.0,1.0,1.0,1.0,1.0,1.0,0.14999863999782398,1.0,1.0,1.0,0.10999857599772159,1.0,1.0,1.0,1.0,1.0,0.055998489597583356,0.29999887999820796,1.0,1.0,1.0,1.0,0.10999857599772159,1.0,0.008098412957460732,0.04599847359755775,1.0,0.005498408797454076,1.0,1.0,1.0,1.0,1.0,0.28999886399818237,1.0,1.0,1.0,1.0,0.14999863999782398,1.0,0.020998433597493756,1.0,1.0,1.0,1.0,1.0,1.0,1.0,1.0,1.0,1.0,0.06099849759759616,1.0,1.0,1.0,1.0,1.0,1.0,1.0,1.0,1.0,1.0,1.0,1.0,1.0,1.0,1.0,1.0,1.0,1.0,0.005298408477453564,1.0,0.019998431997491198,0.5699993119988992,1.0,1.0,0.3099988959982336,1.0,1.0,0.019998431997491198,1.0,1.0,1.0,1.0,1.0,1.0,1.0,1.0,0.549999279998848,1.0,0.07499851999763199,1.0,0.5299992479987968,0.14999863999782398,0.15999865599784957,0.0009984015974425558,1.0,1.0,0.07899852639764224,1.0,1.0,1.0,1.0,1.0,1.0,0.20999873599797758,1.0,1.0,1.0,1.0,0.04299846879755007,0.21999875199800317,1.0,1.0,0.017998428797486078,1.0,0.00039840063744101987,1.0,1.0,1.0,1.0,1.0,1.0,0.9399999039998465,0.2599988159981056,1.0,1.0,1.0,0.00010840017344027751,1.0,1.0,1.0,1.0,1.0,1.0,1.0,1.0,0.0002984004774407639,1.0,1.0,0.5699993119988992,1.0,1.0,1.0,1.0,1.0,1.0,1.0,1.0,0.036998459197534715,1.0,1.0,0.018998430397488636,1.0,0.005998409597455356,1.9400031040049665e-05,1.0,1.0,1.0,1.0,0.04499847199755519,0.36999899199838715,0.10999857599772159,0.399999039998464,0.08899854239766784,0.1299986079977728,1.0,0.0599984959975936,1.0,0.022998436797498877,1.0,0.1699986719978752,1.0,1.0,1.0,1.0,1.0,1.0,1.0,1.0,1.0,0.18999870399792637,1.0,1.0,1.0,0.001498402397443836,1.0,1.0,1.0,0.008298413277461242,0.199998719997952,0.24999879999807997,1.0,1.0,1.0,1.0,0.005598408957454332,1.0,1.0,1.0,1.0,0.020998433597493756,0.3899990239984384,1.0,1.0,0.06699850719761152,1.0,1.0,1.0,1.0,1.0,1.0,1.0,0.05299848479757568,1.0,1.0,0.004198406717450748,1.0,0.039998463997542394,1.0,1.0,1.0,1.0,1.0,0.3899990239984384,0.024998439997503997,0.019998431997491198,0.004298406877451004,0.4099990559984896,0.18999870399792637,1.0,1.0,1.0,0.007198411517458427,1.0,1.0,0.2699988319981312,1.0,1.0,1.0,1.0,1.0,0.6299994079990529,1.0,0.006498410397456635,1.0,1.0,1.0,0.1699986719978752,1.0,0.23999878399805438,1.0,1.0,1.0,1.0,1.0,0.007098411357458171,1.0,0.03599845759753215,1.0,1.0,1.0,1.0,1.0,1.0,0.3199989119982592,1.0,0.04199846719754751,1.0,1.0,1.0,0.027998444797511672,1.0,0.019998431997491198,0.07399851839762944,0.10999857599772159,1.0,1.0,0.0001784002854404567,0.07299851679762688,1.0,1.0,1.0,1.0,1.0,1.0,1.0,0.0005784009254414807,0.04999847999756799,1.0,1.0,1.0,1.0,1.0,0.004698407517452028,0.9099998559997696,0.17999868799790078,1.0,1.0,1.0,1.0,0.20999873599797758,1.0,1.0,0.04499847199755519,0.14999863999782398,0.04199846719754751,1.0,1.0,1.0,1.0,0.3799990079984128,1.0,1.0,0.399999039998464,0.028998446397514234,0.013998422397475837,1.0,1.0,1.0,1.0,0.4799991679986688,1.0,1.0,0.29999887999820796,0.5899993439989504,1.0,1.0,1.0,1.0,1.0,0.11999859199774718,1.0,0.21999875199800317,1.0,1.0,1.0,0.07299851679762688,1.0,1.0,1.0,0.015998425597480957,1.0,1.0,1.0,1.0,1.0,1.0,1.0,1.0,1.0,1.0,0.2599988159981056,1.0,1.0,0.0002284003654405847,1.0,1.0,0.001698402717444348,1.0,1.0,0.016998427197483516,1.0,0.4699991519986432,1.0,0.03199845119752191,1.0,1.0,1.0,1.0,1.0,1.0,1.0,1.0,1.0,1.0,1.0,1.0,1.0,1.0,0.15999865599784957,0.0008484013574421719,1.0,1.0,0.07899852639764224,1.0,1.0,0.34999895999833597,1.0,1.0,1.0,0.0017984028774446041,0.20999873599797758,1.0,0.20999873599797758,1.0,1.0,0.05299848479757568,1.0,1.0,9.040014464023142e-05,8.34001334402135e-05,1.0,0.004198406717450748,1.0,1.0,1.0,1.0,1.0,1.0,1.0,0.0008384013414421463,0.3199989119982592,0.5299992479987968,1.0,1.0,0.002198403517445628,1.0,1.0,1.0,1.0,1.0,1.0,0.002098403357445372,1.0,1.0,1.0,0.0017984028774446041,1.0,1.0,1.0,1.0,0.040998465597544956,1.0,1.0,0.5199992319987712,1.0,0.0004084006534410455,1.0,1.0,0.039998463997542394,0.2799988479981568,0.10999857599772159,1.0,1.0,0.015998425597480957,1.0,1.0,1.0,1.0,1.0,1.0,1.0,0.2799988479981568,0.0001784002854404567,1.0,1.0,1.0,1.0,0.06899851039761663,1.0,1.0,0.3199989119982592,0.10999857599772159,0.14999863999782398,1.0,1.0,1.0,1.0,0.058998494397591035,1.0,0.15999865599784957,0.6699994719991552,1.0,1.0,1.0,1.0,0.4699991519986432,0.03599845759753215,1.0,1.0,1.0,0.0056984091174545875,1.0,0.002998404797447676,0.0034984055974489558,1.0,1.0,1.0,0.025998441597506552,1.0,0.3099988959982336,1.0,0.7099995359992576,0.07699852319763711,1.0,1.0,1.0,0.24999879999807997,1.0,1.0,0.7899996639994624,1.0,1.0,1.0,0.036998459197534715,1.0,1.0,1.0,0.04299846879755007,0.3199989119982592,1.0,1.0,0.4699991519986432,1.0,1.0,1.0,0.17999868799790078,1.0,0.047998476797562875,1.0,1.0,1.0,1.0,1.0,0.018998430397488636,0.06899851039761663,1.0,1.0,0.009198414717463547,1.0,1.0,0.05699849119758592,0.18999870399792637,1.0,1.0,1.0,1.0,1.0,1.0,1.0,0.023998438397501435,0.5299992479987968,0.14999863999782398,1.0,0.17999868799790078,0.006998411197457915,1.0,1.0,1.0,1.0,0.00011840018944030309,1.0,1.0,0.023998438397501435,0.4899991839986944,1.0,1.0,1.0,1.0,0.14999863999782398,1.0,1.0,0.08299853279765247,1.0,0.11999859199774718,1.0,1.0,1.0,0.004598407357451772,1.0,1.0,0.10999857599772159,1.0,1.0,1.0,0.013998422397475837,1.0,1.0,0.3399989439983104,1.0,1.0,0.003798406077449724,1.0,1.0,1.0,0.1299986079977728,1.0,1.0,1.0,1.0,1.0,0.1399986239977984,1.0,1.0,0.07099851359762176,1.0,1.0,1.0,0.24999879999807997,1.0,1.0,0.006498410397456635,1.0,0.17999868799790078,1.0,0.030998449597519354,1.0,0.029998447997516792,0.3099988959982336,1.0,1.0,1.0,1.0,1.0,0.4399991039985664,1.0,0.007798412477459963,1.0,0.6899995039992064,0.04499847199755519,0.199998719997952,1.0,0.013998422397475837,0.24999879999807997,1.0,0.1399986239977984,1.0,1.0,0.00289840463744742,0.0007584012134419414,0.0015984025574440918,1.0,1.0,1.0,1.0,1.0,1.0,0.001998403197445116,1.0,1.0,0.054998487997580794,1.0,1.0,1.0,0.03899846239753983,1.0,1.0,1.0,1.0,0.2299987679980288,0.0005384008614413783,1.0,1.0,1.0,0.2699988319981312,0.3199989119982592,1.0,0.032998452797524475,1.0,0.009998415997465595,0.00389840623744998,0.012998420797473277,0.023998438397501435,1.0,1.0,1.0,1.0,1.0,1.0,1.0,1.0,1.0,1.0,1.0,0.009298414877463803,0.08899854239766784,1.0,1.0,0.1399986239977984,1.0,0.047998476797562875,1.0,1.0,1.0,0.15999865599784957,1.0,1.0,1.0,1.0,0.002998404797447676,0.011998419197470715,1.0,1.0,0.6899995039992064,0.20999873599797758,1.0,0.023998438397501435,0.24999879999807997,1.0,0.06699850719761152,0.006298410077456124,1.0,1.0,1.0,1.0,1.0,1.0,1.0,0.0799985279976448,0.23999878399805438,1.0,1.0,0.030998449597519354,0.6699994719991552,1.0,1.0,1.0,0.036998459197534715,1.0,1.0,1.0,1.0,1.0,1.0,1.0,1.0,1.0,1.0,1.0,0.03399845439752703,1.0,1.0,1.0,1.0,1.0,1.0,1.0,0.08299853279765247,1.0,1.0,1.0,1.0,1.0,1.0,1.0,1.0,1.0,0.8099996959995136,1.0,1.0,1.0,1.0,1.0,0.49999919999872,0.020998433597493756,0.018998430397488636,1.0,0.2299987679980288,0.36999899199838715,1.0,0.003598405757449212,1.0,1.0,1.0,1.0,0.0003284005254408407,1.0,1.0,1.0,1.0,1.0,0.11999859199774718,0.011998419197470715,1.0,1.0,0.18999870399792637,1.0,1.0,1.0,1.0,1.0,1.0,1.0,0.5299992479987968,0.019998431997491198,0.006698410717457147,1.0,0.011998419197470715,0.004198406717450748,0.04999847999756799,1.0,1.0,1.0,0.006598410557456891,1.0,0.00026840042944068713,1.0,1.0,1.0,1.0,1.0,0.001998403197445116,0.002598404157446652,1.0,0.006598410557456891,1.0,1.0,1.0,0.17999868799790078,1.0,1.0,0.1399986239977984,1.0,1.0,1.0,1.0,1.0,1.0,0.08299853279765247,1.0,1.0,1.0,0.0056984091174545875,1.0,1.0,0.08899854239766784,0.45999913599861764,1.0,1.0,0.4299990879985408,1.0,0.00015840025344040552,1.0,0.006598410557456891,1.0,0.23999878399805438,1.0,1.0,1.0,1.0,0.5699993119988992,0.013998422397475837,0.199998719997952,1.0,0.3099988959982336,1.0,0.009998415997465595,1.0,0.3199989119982592,1.0,1.0,1.0,1.0,1.0,0.001198401917443068,1.0,1.0,0.003698405917449468,0.7199995519992832,1.0,1.0,0.04699847519756031,1.0,0.001998403197445116,1.0,0.29999887999820796,1.0,0.0012984020774433238,0.012998420797473277,0.10999857599772159,1.0,1.0,1.0,1.0,1.0,1.0,0.14999863999782398,0.09699855519768831,0.549999279998848,1.0,0.055998489597583356,1.0,1.0,0.2299987679980288,4.440007104011366e-05,0.04199846719754751,1.0,1.0,1.0,1.0,1.0,1.0,1.0,1.0,1.0,1.0,1.0,1.0,1.0,1.0,0.7499995999993601,1.0,1.0,0.24999879999807997,1.0,0.28999886399818237,1.0,1.0,0.24999879999807997,1.0,1.0,0.011998419197470715,1.0,1.0,1.0,1.0,1.0,1.0,1.0,1.0,0.49999919999872,1.0,1.0,1.0,1.0,0.29999887999820796,1.0,1.0,1.0,0.24999879999807997,1.0,1.0,1.0,0.036998459197534715,1.0,1.0,1.0,1.0,1.0,0.00047840076544122465,1.0,1.0,1.0,1.0,1.0,1.0,1.0,1.0,1.0,1.0,0.03499845599752959,1.0,1.0,1.0,0.009198414717463547,1.0,1.0,0.2299987679980288,0.36999899199838715,1.0,1.0,0.15999865599784957,1.0,0.3399989439983104,0.06599850559760896,1.0,1.0,0.9799999679999488,0.6699994719991552,0.199998719997952,0.008698413917462268,1.0,1.0,1.0,1.0,1.0,1.0,1.0,0.002298403677445884,1.0,0.055998489597583356,1.0,1.0,1.0,0.039998463997542394,1.0,1.0,1.0,0.15999865599784957,0.08899854239766784,1.0,1.0,1.0,0.015998425597480957,1.0,1.0,1.0,1.0,1.0,0.004798407677452284,0.006798410877457403,1.0,0.0004084006534410455,1.0,1.0,0.07599852159763455,1.0,1.0,0.013998422397475837,0.025998441597506552,0.36999899199838715,0.9299998879998208,1.0,1.0,1.0,1.0,0.35999897599836156,1.0,0.04999847999756799,1.0,1.0,0.599999359998976,1.0,1.0,1.0,1.0,1.0,1.0,0.14999863999782398,0.09699855519768831,1.0,1.0,1.0,0.44999911999859205,1.0,1.0,1.0,1.0,1.0,1.0,1.0,1.0,1.0,1.0,1.0,1.0,1.0,1.0,0.9399999039998465,0.3299989279982848,0.017998428797486078,1.0,1.0,0.009698415517464826,1.0,1.0,0.18999870399792637,1.0,1.0,1.0,1.0,1.0,0.07799852479763968,1.0,0.23999878399805438,1.0,1.0,1.0,1.0,0.018998430397488636,1.0,1.0,1.0,0.44999911999859205,1.0,1.0,1.0,1.0,1.0,1.0,0.3899990239984384,1.0,0.11999859199774718,0.4299990879985408,1.0,1.0,1.0,1.0,1.0,1.0,0.0799985279976448,0.032998452797524475,1.0,1.0,1.0,0.4099990559984896,1.0,1.0,1.0,1.0,1.0,1.0,1.0,1.0,1.0,7.740012384019814e-05,1.0,1.0,0.04499847199755519,1.0,1.0,1.0,1.0,0.4799991679986688,1.0,0.00639841023745638,0.043998470397552635,1.0,0.11999859199774718,1.0,1.0,1.0,0.015998425597480957,1.0,1.0,0.17999868799790078,1.0,1.0,1.0,1.0,0.016998427197483516,0.34999895999833597,1.0,1.0,0.3099988959982336,0.03499845599752959,1.0,1.0,0.009898415837465339,0.0015984025574440918,0.0004884007814412503,1.0,0.07099851359762176,0.3199989119982592,1.0,1.0,0.5699993119988992,1.0,0.009698415517464826,1.0,0.0083984134374615,0.10999857599772159,1.0,1.0,1.0,0.024998439997503997,0.3099988959982336,1.0,1.0,1.0,1.0,0.0006384010214416343,0.022998436797498877,1.0,1.0,1.0,1.0,1.0,1.0,1.0,1.0,1.0,1.0,0.6199993919990272,0.24999879999807997,1.0,1.0,0.07199851519762432,0.0058984094374551,1.0,1.0,1.0,1.0,1.0,1.0,1.0,0.029998447997516792,1.0,0.9399999039998465,1.0,1.0,0.8699997919996671,1.0,1.0,1.0,0.8099996959995136,0.11999859199774718,0.3799990079984128,0.199998719997952,1.0,0.03399845439752703,1.0,1.0,1.0,1.0,1.0,1.0,0.008198413117460987,1.0,0.2599988159981056,1.0,0.11999859199774718,1.0,1.0,1.0,0.030998449597519354,1.0,1.0,1.0,1.0,1.0,1.0,1.0,1.0,0.549999279998848,1.0,0.04699847519756031,0.0001484002374403799,1.0,0.0649985039976064,0.3099988959982336,1.0,1.0,1.0,1.0,1.0,0.15999865599784957,1.0,0.017998428797486078,1.0,1.0,1.0,0.1699986719978752,1.0,0.04299846879755007,0.06799850879761407,1.0,1.0,0.11999859199774718,1.0,0.14999863999782398,1.0,0.28999886399818237,1.0,0.028998446397514234,0.0003384005414408663,1.0,0.5199992319987712,1.0,1.0,1.0,0.20999873599797758,1.0,0.28999886399818237,1.0,1.0,1.0,0.5699993119988992,0.4399991039985664,0.043998470397552635,1.0,0.016998427197483516,1.0,1.0,0.9299998879998208,1.0,1.0,1.0,1.0,1.0,0.029998447997516792,1.0,1.0,1.0,0.8099996959995136,1.0,1.0,1.0,1.0,0.0005784009254414807,1.0,0.008698413917462268,1.0,0.03499845599752959,0.05299848479757568,1.0,0.0849985359976576,1.0,1.0,0.012998420797473277,0.030998449597519354,1.0,0.2299987679980288,1.0,1.0,1.0,0.011998419197470715,0.007698412317459707,1.0,1.0,1.0,1.0,1.0,1.0,0.016998427197483516,0.004798407677452284,1.0,1.0,1.0,1.0,1.0,1.0,1.0,0.1399986239977984,1.0,1.0,0.4199990719985152,1.0,1.0,1.0,1.0,1.0,0.0004684007494411991,1.0,0.010998417597468155,1.0,1.0,1.0,1.0,1.0,1.0,0.019998431997491198,1.0,1.0,8.440013504021606e-05,0.3799990079984128,1.0,1.0,0.0001984003174405079,1.0,0.022998436797498877,1.0,1.0,1.0,0.49999919999872,1.0,1.0,1.0,1.0,0.14999863999782398,1.0,1.0,1.0,1.0,1.0,1.0,0.009698415517464826,0.07399851839762944,1.0,1.0,1.0,1.0,1.0,1.0,1.0,0.055998489597583356,1.0,1.0,1.0,1.0,1.0,1.0,0.45999913599861764,0.49999919999872,1.0,1.0,1.0,1.0,1.0,1.0,1.0,1.0,1.0,0.0012984020774433238,1.0,0.029998447997516792,0.0008484013574421719,1.0,1.0,0.34999895999833597,1.0,1.0,0.015998425597480957,0.17999868799790078,0.4699991519986432,1.0,1.0,1.0,1.0,0.013998422397475837,1.0,1.0,1.0,0.07899852639764224,0.5199992319987712,1.0,1.0,1.0,0.08699853919766272,1.0,1.0,1.0,1.0,0.04899847839756543,0.6899995039992064,1.0,1.0,1.0,1.0,0.1399986239977984,1.0,1.0,1.0,0.009798415677465084,1.0,1.0,0.17999868799790078,1.0,1.0,0.0002384003814406103,1.0,1.0,1.0,1.0,1.0,1.0,0.0012984020774433238,0.5799993279989248,1.0,1.0,1.0,0.099998559997696,1.0,1.0,1.0,1.0,0.04899847839756543,1.0,0.36999899199838715,1.0,1.0,1.0,1.0,1.0,1.0,1.0,0.00239840383744614,1.0,1.0,1.0,0.015998425597480957,1.0,1.0,1.0,0.1399986239977984,1.0,1.0,1.0,1.0,0.012998420797473277,1.0,1.0,1.0,1.0,1.0,1.0,1.0,1.0,0.3899990239984384,0.009998415997465595,0.2699988319981312,1.0,1.0,0.2699988319981312,1.0,0.2299987679980288,1.0,1.0,0.1699986719978752,1.0,1.0,0.04499847199755519,1.0,1.0,1.0,1.0,1.0,0.099998559997696,1.0,1.0,0.03899846239753983,0.8299997279995648,1.0,1.0,1.0,1.0,1.0,1.0,7.540012064019302e-05,1.0,1.0,1.0,1.0,1.0,0.04299846879755007,1.0,1.0,1.0,1.0,0.5399992639988224,1.0,1.0,0.199998719997952,1.0,0.06299850079760128,0.043998470397552635,1.0,1.0,1.0,0.016998427197483516,1.0,1.0,1.0,1.0,0.0015984025574440918,0.4299990879985408,0.03499845599752959,0.0004484007174411479,1.0,1.0,0.24999879999807997,0.49999919999872,1.0,1.0,1.0,1.0,1.0,1.0,1.0,1.0,1.0,1.0,1.0,1.0,1.0,0.11999859199774718,1.0,1.0,1.0,0.00047840076544122465,0.022998436797498877,1.0,0.004798407677452284,1.0,1.0,1.0,0.050998481597570554,1.0,1.0,1.0,1.0,1.0,1.0,0.017998428797486078,1.0,0.0004284006854410967,1.0,1.0,1.0,1.0,0.9899999839999744,1.0,1.0,1.0,1.0,1.0,1.0,1.0,1.0,1.0,1.0,1.0,1.0,0.047998476797562875,1.0,1.0,0.029998447997516792,1.0,0.4299990879985408,1.0,1.0,1.0,1.0,1.0,1.0,1.0,1.0,1.0,1.0,1.0,0.3099988959982336,1.0,0.03199845119752191,0.44999911999859205,1.0,8.040012864020582e-05,1.0,1.0,1.0,0.1399986239977984,1.0,1.0,1.0,1.0,0.030998449597519354,1.0,0.29999887999820796,1.0,1.0,1.0,1.0,1.0,1.0,1.0,1.0,0.10999857599772159,1.0,1.0,1.0,1.0,0.35999897599836156,1.0,0.9399999039998465,0.021998435197496315,9.84001574402519e-05,1.0,1.0,1.0,0.022998436797498877,1.0,0.001198401917443068,0.1399986239977984,1.0,1.0,1.0,1.0,1.0,0.9299998879998208,1.0,1.0,1.0,1.0,1.0,0.7299995679993088,0.00539840863745382,1.0,1.0,1.0,0.015998425597480957,0.004498407197451516,1.0,1.0,0.03899846239753983,1.0,1.0,1.0,1.0,0.2599988159981056,1.0,1.0,0.24999879999807997,1.0,1.0,1.0,0.018998430397488636,0.0068984110374576595,1.0,0.18999870399792637,1.0,1.0,1.0,1.0,1.0,1.0,1.0,1.0,1.0,1.0,1.0,1.0,1.0,1.0,1.0,0.018998430397488636,1.0,8.84001414402263e-05,0.029998447997516792,9.84001574402519e-05,1.0,0.005098408157453052,1.0,1.0,0.17999868799790078,1.0,1.0,1.0,1.0,1.0,1.0,1.0,1.0,1.0,1.0,1.0,1.0,1.0,0.3799990079984128,0.3199989119982592,0.0008584013734421975,0.06399850239760384,1.0,1.0,0.34999895999833597,1.0,1.0,1.0,0.199998719997952,1.0,1.0,0.5399992639988224,1.0,1.0,0.199998719997952,0.025998441597506552,1.0,0.4399991039985664,1.0,0.199998719997952,0.23999878399805438,0.15999865599784957,0.004598407357451772,1.0,1.0,1.0,1.0,1.0,1.0,1.0,0.007098411357458171,0.17999868799790078,0.018998430397488636,1.0,1.0,0.11999859199774718,0.08599853759766016,1.0,1.0,1.0,1.0,3.740005984009574e-05,0.5599992959988737,1.0,1.0,0.03199845119752191,1.0,1.0,1.0,1.0,1.0,0.006598410557456891,0.024998439997503997,1.0,1.0,0.002798404477447164,0.399999039998464,1.0,0.047998476797562875,0.20999873599797758,0.3799990079984128,1.0,0.29999887999820796,1.0,1.0,0.036998459197534715,1.0,0.0849985359976576,1.0,1.0,0.5699993119988992,1.0,1.0,1.0,1.0,1.0,1.0,0.025998441597506552,1.0,1.0,1.0,1.0,1.0,1.0,1.0,1.0,1.0,1.0,1.0,1.0,1.0,1.0,1.0,1.0,1.0,1.0,0.014998423997478397,1.0,1.0,1.0,1.0,1.0,1.0,1.0,0.011998419197470715,0.021998435197496315,1.0,1.0,1.0,0.1299986079977728,1.0,0.549999279998848,1.0,0.49999919999872,1.0,0.05799849279758848,0.030998449597519354,0.006098409757455612,1.0,0.08799854079766528,1.0,0.013998422397475837,0.008098412957460732,1.0,1.0,1.0,1.0,1.0,1.0,0.4099990559984896,0.04499847199755519,1.0,1.0,1.0,1.0,1.0,0.4399991039985664,1.0,1.0,1.0,1.0,1.0,1.0,1.0,1.0,1.0,0.07599852159763455,1.0,0.399999039998464,1.0,1.0,1.0,1.0,1.0,1.0,1.0,1.0,1.0,1.0,0.07799852479763968,1.0,1.0,1.0,0.00389840623744998,1.0,0.008698413917462268,1.0,1.0,1.0,1.0,0.0004684007494411991,0.14999863999782398,1.0,1.0,1.0,1.0,0.28999886399818237,1.0,0.3099988959982336,0.5399992639988224,1.0,1.0,1.0,1.0,0.029998447997516792,0.29999887999820796,1.0,1.0,1.0,1.0,1.0,1.0,1.0,0.002798404477447164,0.28999886399818237,1.0,1.0,1.0,0.15999865599784957,1.0,0.028998446397514234,1.0,1.0,1.0,1.0,1.0,1.0,1.0,1.0,0.019998431997491198,1.0,0.03799846079753727,0.28999886399818237,1.0,0.026998443197509114,0.18999870399792637,0.003698405917449468,1.0,1.0,1.0,1.0,1.0,1.0,1.0,1.0,1.0,1.0,0.002298403677445884,0.2599988159981056,0.4899991839986944,1.0,0.09899855839769343,0.026998443197509114,1.0,1.0,0.17999868799790078,1.0,0.199998719997952,0.00859841375746201,1.0,1.0,1.0,1.0,0.0649985039976064,1.0,1.0,0.1399986239977984,1.0,0.3099988959982336,1.0,1.0,0.002998404797447676,1.0,1.0,1.0,1.0,0.00039840063744101987,1.0,0.10999857599772159,0.2599988159981056,1.0,1.0,1.0,1.0,1.0,1.0,1.0,0.5199992319987712,1.0,1.0,0.06199849919759872,1.0,1.0,0.099998559997696,1.0,1.0,1.0,0.001198401917443068,0.054998487997580794,0.06199849919759872,1.0,1.0,1.0,0.15999865599784957,1.0,1.0,0.099998559997696,0.11999859199774718,1.0,1.0,1.0,1.0,0.29999887999820796,1.0,1.0,1.0,1.0,1.0,0.026998443197509114,1.0,0.3899990239984384,1.0,1.0,1.0,0.0004984007974412759,0.001998403197445116,0.009798415677465084,0.000818401309442095,1.0,1.0,0.07199851519762432,1.0,1.0,1.0,1.0,0.019998431997491198,1.0,0.09399855039768064,1.0,1.0,1.0,1.0,1.0,1.0,1.0,1.0,1.0,0.08099852959764736,1.0,1.0,0.07299851679762688,1.0,1.0,0.1399986239977984,5.640009024014438e-05,1.0,1.0,0.058998494397591035,1.0,1.0,1.0,1.0,1.0,0.04199846719754751,0.040998465597544956,0.002298403677445884,1.0,1.0,0.1399986239977984,0.09399855039768064,1.0,1.0,0.00024840039744063587,0.24999879999807997,1.0,0.027998444797511672,0.023998438397501435,1.0,1.0,1.0,1.0,1.0,1.0,0.49999919999872,1.0,1.0,1.0,1.0,1.0,0.4399991039985664,0.07199851519762432,0.002598404157446652,0.09199854719767551,0.05799849279758848,1.0,1.0,1.0,0.00011840018944030309,0.016998427197483516,0.058998494397591035,1.0,0.0002784004454407127,1.0,1.0,0.006098409757455612,1.0,1.0,0.1699986719978752,1.0,1.0,1.0,0.0699985119976192,0.3899990239984384,1.0,1.0,1.0,1.0,1.0,1.0,0.09599855359768576,1.0,1.0,1.0,1.0,1.0,1.0,0.5899993439989504,0.014998423997478397,1.0,1.0,1.0,1.0,0.17999868799790078,1.0,1.0,1.0,1.0,0.014998423997478397,1.0,1.0,1.0,0.17999868799790078,1.0,1.0,0.036998459197534715,1.0,0.09399855039768064,1.0,0.1299986079977728,1.0,1.0,1.0,0.014998423997478397,1.0,1.0,0.549999279998848,1.0,0.0061984099174558676,1.0,1.0,0.1299986079977728,0.08899854239766784,1.0,1.0,1.0,0.17999868799790078,1.0,1.0,1.0,1.0,1.0,1.0,1.0,1.0,1.0,1.0,1.0,1.0,1.0,1.0,0.0009984015974425558,1.0,0.00018840030144048227,1.0,0.010998417597468155,1.0,0.007198411517458427,1.0,1.0,1.0,0.29999887999820796,1.0,1.0,1.0,0.8599997759996416,1.0,0.14999863999782398,1.0,1.0,1.0,1.0,1.0,0.23999878399805438,1.0,1.0,0.14999863999782398,1.0,1.0,0.00189840303744486,0.005798409277454844,0.5099992159987456,0.021998435197496315,1.0,0.0001684002694404311,0.1399986239977984,1.0,1.0,1.0,0.23999878399805438,1.0,0.2799988479981568,1.0,1.0,1.0,1.0,1.0,1.0,0.004098406557450492,1.0,1.0,1.0,1.0,1.0,1.0,0.3099988959982336,1.0,0.08199853119764992,1.0,0.0012984020774433238,0.03599845759753215,1.0,1.0,0.004298406877451004,0.03899846239753983,1.0,1.0,1.0,1.0,1.0,1.0,1.0,1.0,1.0,1.0,1.0,1.0,1.0,0.032998452797524475,1.0,1.0,1.0,0.10999857599772159,1.0,1.0,1.0,1.0,1.0,1.0,1.0,1.0,0.7099995359992576,0.015998425597480957,1.0,1.0,1.0,1.0,0.2299987679980288,1.0,1.0,1.0,0.008098412957460732,0.0003484005574408919,1.0,1.0,1.0,1.0,1.0,1.0,1.0,1.0,1.0,0.018998430397488636,1.0,1.0,1.0,1.0,0.004498407197451516,1.0,1.0,1.0,1.0,1.0,1.0,1.0,0.35999897599836156,1.0,1.0,1.0,0.018998430397488636,1.0,1.0,1.0,0.05799849279758848,0.05299848479757568,0.005598408957454332,1.0,1.0,0.36999899199838715,0.001498402397443836,0.20999873599797758,0.2799988479981568,1.0,1.0,1.0,0.03399845439752703,1.0,0.06299850079760128,1.0,1.0,1.0,0.549999279998848,0.11999859199774718,1.0,1.0,1.0,1.0,1.0,1.0,0.1699986719978752,1.0,1.0,1.0,1.0,1.0,1.0,1.0,1.0,0.3799990079984128,0.007298411677458683,1.0,1.0,0.18999870399792637,1.0,1.0,1.0,1.0,1.0,1.0,1.0,0.0068984110374576595,1.0,1.0,1.0,1.0,1.0,1.0,0.18999870399792637,1.0,1.0,1.0,1.0,1.0,1.0,1.0,1.0,1.0,1.0,1.0,1.0,1.0,1.0,1.0,1.0,1.0,1.0,0.008198413117460987,0.008898414237462779,0.004798407677452284,1.0,1.0,1.0,1.0,1.0,1.0,1.0,0.2599988159981056,0.099998559997696,0.005798409277454844,1.0,1.0,1.0,0.15999865599784957,1.0,0.0002384003814406103,1.0,0.1299986079977728,1.0,1.0,1.0,1.0,0.039998463997542394,1.0,1.0,1.0,1.0,1.0,1.0,1.0,1.0,1.0,1.0,1.0,0.022998436797498877,1.0,1.0,1.0,1.0,1.0,0.024998439997503997,0.7199995519992832,1.0,1.0,0.24999879999807997,0.20999873599797758,1.0,1.0,1.0,1.0,1.0,1.0,1.0,1.0,0.1299986079977728,0.003698405917449468,0.07599852159763455,1.0,1.0,1.0,1.0,1.0,1.0,1.0,1.0,0.036998459197534715,1.0,0.8399997439995904,1.0,1.0,0.24999879999807997,1.0,0.0007784012454419926,1.0,1.0,1.0,1.0,0.008798414077462523,1.0,0.2299987679980288,1.0,1.0,1.0,0.2799988479981568,1.0,1.0,1.0,1.0,0.050998481597570554,1.0,1.0,1.0,1.0,1.0,1.0,1.0,1.0,1.0,0.09299854879767808,1.0,0.011998419197470715,1.0,1.0,0.23999878399805438,1.0,1.0,1.0,1.0,1.0,1.0,1.0,1.0,1.0,1.0,0.5199992319987712,1.0,1.0,1.0,1.0,0.2699988319981312,1.0,0.0049984079974527956,1.0,1.0,1.0,0.001198401917443068,1.0,1.0,1.0,1.0,1.0,1.0,1.0,1.0,0.0001784002854404567,1.0,1.0,1.0,0.28999886399818237,0.0013984022374435798,1.0,1.0,1.0,1.0,0.004698407517452028,0.0599984959975936,1.0,1.0,1.0,0.6099993759990016,1.0,0.05799849279758848,1.0,1.0,0.007998412797460474,0.7699996319994112,1.0,0.24999879999807997,1.0,0.05799849279758848,1.0,1.0,1.0,1.0,0.4899991839986944,1.0,1.0,1.0,0.9599999359998976,1.0,1.0,1.0,0.03899846239753983,1.0,0.04599847359755775,1.0,0.29999887999820796,1.0,0.2699988319981312,1.0,1.0,1.0,0.004598407357451772,1.0,1.0,1.0,1.0,1.0,1.0,1.0,1.0,0.0003484005574408919,1.0,1.0,1.0,1.0,0.00024840039744063587,1.0,1.0,0.3799990079984128,1.0,1.0,1.0,0.003598405757449212,0.008298413277461242,1.0,1.0,1.0,1.0,1.0,1.0,0.004098406557450492,0.00189840303744486,1.0,1.0,1.0,1.0,1.0,1.0,1.0,8.00001280002048e-07,0.3399989439983104,1.0,1.0,1.0,1.0,1.0,0.0599984959975936,1.0,0.2299987679980288,1.0,1.0,1.0,0.002498403997446396,1.0,1.0,1.0,1.0,1.0,1.0,0.032998452797524475,1.0,0.5599992959988737,1.0,0.0009984015974425558,1.0,1.0,1.0,1.0,1.0,1.0,0.032998452797524475,0.020998433597493756,1.0,1.0,1.0,1.0,0.0034984055974489558,1.0,1.0,1.0,1.0,1.0,0.0017984028774446041,1.0,1.0,1.0,0.10999857599772159,0.00489840783745254,1.0,1.0,1.0,1.0,1.0,1.0,1.0,1.0,1.0,1.0,1.0,1.0,0.003298405277448444,0.020998433597493756,1.0,1.0,0.026998443197509114,1.0,1.0,1.0,1.0,1.0,0.18999870399792637,1.0,0.2299987679980288,1.0,0.011998419197470715,0.011998419197470715,1.0,0.0017984028774446041,0.7399995839993344,1.0,0.20999873599797758,1.0,0.35999897599836156,1.0,0.0599984959975936,1.0,1.0,1.0,1.0,0.030998449597519354,1.0,1.0,0.09899855839769343,1.0,1.0,0.08099852959764736,1.0,1.0,0.3799990079984128,0.3099988959982336,1.0,1.0,1.0,0.004298406877451004,0.0003384005414408663,1.0,0.06299850079760128,1.0,0.05299848479757568,1.0,1.0,0.03799846079753727,1.0,1.0,1.0,1.0,0.002098403357445372,0.030998449597519354,1.0,1.0,1.0,0.4899991839986944,0.023998438397501435,1.0,1.0,1.0,1.0,1.0,0.18999870399792637,0.11999859199774718,1.0,1.0,0.009998415997465595,1.0,1.0,1.0,1.0,1.0,1.0,1.0,1.0,0.006298410077456124,1.0,0.3199989119982592,0.3899990239984384,1.0,1.0,1.0,1.0,0.0005784009254414807,0.17999868799790078,1.0,1.0,1.0,0.7499995999993601,1.0,0.004798407677452284,1.0,1.0,1.0,1.0,0.054998487997580794,0.001198401917443068,1.0,0.06199849919759872,1.0,1.0,1.0,1.0,1.0,1.0,1.0,1.0,0.06399850239760384,1.0,0.6599994559991296,1.0,0.2799988479981568,0.006598410557456891,1.0,1.0,1.0,1.0,1.0,0.4099990559984896,1.0,1.0,1.0,1.0,1.0,1.0,1.0,1.0,1.0,1.0,1.0,1.0,1.0,1.0,0.002198403517445628,0.0649985039976064,1.0,0.014998423997478397,1.0,1.0,1.0,0.06199849919759872,1.0,1.0,1.0,1.0,1.0,0.051998483197573116,1.0,0.005598408957454332,0.028998446397514234,1.0,1.0,1.0,0.0005184008294413271,1.0,1.0,1.0,1.0,1.0,0.8899998239997184,1.0,1.0,1.0,1.0,1.0,0.00024840039744063587,1.0,1.0,0.199998719997952,1.0,1.0,0.18999870399792637,0.0649985039976064,1.0,1.0,0.025998441597506552,1.0,0.3899990239984384,0.00539840863745382,1.0,1.0,1.0,1.0,0.2699988319981312,1.0,1.0,1.0,1.0,0.015998425597480957,0.003598405757449212,0.20999873599797758,1.0,1.0,1.0,1.0,1.0,1.0,1.0,0.015998425597480957,0.11999859199774718,1.0,0.1699986719978752,0.00024840039744063587,1.0,1.0,1.0,0.04599847359755775,1.0,1.0,1.0,1.0,0.007398411837458939,1.0,1.0,1.0,1.0,0.17999868799790078,1.0,1.0,0.10999857599772159,0.007398411837458939,0.001198401917443068,1.0,1.0,1.0,0.04299846879755007,0.013998422397475837,1.0,1.0,1.0,1.0,1.0,1.0,1.0,1.0,1.0,1.0,1.0,1.0,1.0,0.05799849279758848,1.0,1.0,0.05399848639757824,0.054998487997580794,1.0,1.0,1.0,1.0,1.0,1.0,1.0,0.1399986239977984,1.0,1.0,0.008198413117460987,0.011998419197470715,1.0,1.0,1.0,0.0699985119976192,0.21999875199800317,0.004098406557450492,0.1299986079977728,1.0,0.002498403997446396,0.0003184005094408151,1.0,0.06599850559760896,1.0,1.0,0.004298406877451004,1.0,1.0,0.1399986239977984,1.0,1.0,1.0,1.0,1.0,1.0,1.0,1.0,1.0,1.0,1.0,1.0,1.0,1.0,1.0,1.0,1.0,0.002798404477447164,1.0,1.0,1.0,0.016998427197483516,1.0,1.0,0.00489840783745254,1.0,1.0,0.04699847519756031,0.06599850559760896,1.0,1.0,0.013998422397475837,0.001498402397443836,1.0,1.0,1.0,1.0,1.0,1.0,1.0,0.043998470397552635,1.0,0.018998430397488636,1.0,1.0,1.0,0.1399986239977984,0.08299853279765247,1.0,1.0,0.050998481597570554,1.0,1.0,0.028998446397514234,1.0,1.0,1.0,0.08599853759766016,0.1699986719978752,0.23999878399805438,1.0,0.899999839999744,1.0,0.1699986719978752,1.0,1.0,1.0,0.011998419197470715,1.0,1.0,1.0,1.0,1.0,1.0,1.0,1.0,1.0,0.6599994559991296,0.020998433597493756,1.0,1.0,1.0,1.0,0.11999859199774718,1.0,0.20999873599797758,1.0,1.0,0.9199998719997952,0.003698405917449468,1.0,1.0,0.00047840076544122465,1.0,1.0,1.0,1.0,0.2299987679980288,0.019998431997491198,1.0,1.0,1.0,1.0,1.0,0.3899990239984384,1.0,0.07099851359762176,1.0,0.0002884004614407383,1.0,1.0,0.0001684002694404311,1.0,0.18999870399792637,1.0,0.1299986079977728,1.0,1.0,1.0,1.0,1.0,1.0,0.07599852159763455,1.0,0.5599992959988737,1.0,1.0,1.0,1.0,1.0,1.0,1.0,1.0,1.0,1.0,1.0,1.0,1.0,1.0,1.0,1.0,0.07499851999763199,1.0,0.49999919999872,0.010998417597468155,1.0,1.0,0.28999886399818237,1.0,1.0,0.06399850239760384,0.018998430397488636,0.019998431997491198,1.0,1.0,0.07299851679762688,1.0,1.0,0.3799990079984128,1.0,0.0001484002374403799,1.0,0.0049984079974527956,1.0,1.0,0.007098411357458171,1.0,1.0,1.0,1.0,1.0,1.0,1.0,0.026998443197509114,1.0,0.08199853119764992,0.2599988159981056,0.34999895999833597,0.10999857599772159,0.03499845599752959,1.0,0.003698405917449468,1.0,1.0,1.0,0.3199989119982592,0.021998435197496315,1.0,0.0006284010054416086,1.0,0.0007084011334418135,1.0,1.0,1.0,1.0,1.0,1.0,1.0,1.0,0.017998428797486078,0.099998559997696,1.0,1.0,1.0,2.5400040640065024e-05,0.14999863999782398,1.0,0.011998419197470715,0.23999878399805438,1.0,1.0,1.0,0.08999854399767039,1.0,1.0,1.0,1.0,0.00489840783745254,0.00189840303744486,1.0,1.0,0.007598412157459451,0.002598404157446652,0.051998483197573116,1.0,0.3199989119982592,0.001198401917443068,0.15999865599784957,1.0,1.0,1.0,1.0,1.0,1.0,1.0,1.0,1.0,0.0012984020774433238,1.0,1.0,0.6799994879991809,1.0,0.1699986719978752,1.0,1.0,1.0,1.0,1.0,1.0,1.0,0.005998409597455356,1.0,1.0,1.0,1.0,1.0,1.0,0.20999873599797758,1.0,1.0,1.0,1.0,1.0,1.0,1.0,1.0,0.199998719997952,0.0649985039976064,1.0,0.1399986239977984,1.0,1.0,0.17999868799790078,1.0,0.5599992959988737,1.0,1.0,1.0,1.0,0.0056984091174545875,1.0,0.008998414397463034,0.030998449597519354,1.0,1.0,1.0,0.07099851359762176,1.0,1.0,1.0,1.0,1.0,0.025998441597506552,0.08699853919766272,0.09799855679769087,1.0,1.0,1.0,1.0,1.0,1.0,1.0,0.9599999359998976,1.0,1.0,1.0,1.0,0.007998412797460474,1.0,1.0,0.20999873599797758,1.0,1.0,1.0,1.0,1.0,1.0,0.011998419197470715,1.0,1.0,1.0,1.0,1.0,1.0,1.0,0.0017984028774446041,0.20999873599797758,0.04899847839756543,1.0,1.0,1.0,1.0,1.0,1.0,1.0,1.0,1.0,1.0,0.036998459197534715,0.09699855519768831,1.0,1.0,0.599999359998976,0.5099992159987456,1.0,1.0,1.0,1.0,1.0,1.0,1.0,1.0,1.0,1.0,1.0,1.0,0.051998483197573116,1.0,1.0,1.0,0.047998476797562875,1.0,1.0,1.0,1.0,0.11999859199774718,1.0,1.0,1.0,1.0,1.0,0.07899852639764224,1.0,0.07899852639764224,1.0,1.0,0.028998446397514234,0.7399995839993344,1.0,0.8299997279995648,1.0,0.022998436797498877,0.20999873599797758,1.0,1.0,0.08099852959764736,1.0,0.06099849759759616,1.0,0.06799850879761407,1.0,1.0,1.0,1.0,1.0,1.0,1.0,1.0,0.054998487997580794,1.0,1.0,0.8599997759996416,1.0,1.0,1.0,1.0,0.10999857599772159,0.03199845119752191,0.004798407677452284,1.0,1.0,1.0,1.0,1.0,1.0,1.0,1.0,0.006798410877457403,1.0,0.014998423997478397,1.0,1.0,1.0,0.019998431997491198,1.0,1.0,1.0,1.0,1.0,0.015998425597480957,1.0,1.0,1.0,1.0,0.003098404957447932,0.7899996639994624,1.0,1.0,0.002798404477447164,0.040998465597544956,1.0,1.0,1.0,1.0,1.0,1.0,1.0,1.0,1.0,0.399999039998464,0.018998430397488636,1.0,1.0,0.2299987679980288,1.0,1.0,0.003698405917449468,0.08799854079766528,0.007298411677458683,0.14999863999782398,1.0,1.0,1.0,1.0,1.0,1.0,1.0,0.004798407677452284,1.0,0.2599988159981056,1.0,1.0,0.2799988479981568,0.047998476797562875,1.0,1.0,0.058998494397591035,1.0,1.0,0.027998444797511672,0.00639841023745638,0.34999895999833597,0.07299851679762688,1.0,0.14999863999782398,0.06299850079760128,1.0,0.001498402397443836,1.0,1.0,0.3099988959982336,1.0,1.0,1.0,1.0,1.0,1.0,1.0,1.0,0.001998403197445116,1.0,1.0,1.0,1.0,1.0,0.05799849279758848,1.0,1.0,1.0,0.15999865599784957,1.0,1.0,1.0,1.0,1.0,1.0,1.0,1.0,0.015998425597480957,1.0,1.0,1.0,1.0,1.0,1.0,0.15999865599784957,1.0,1.0,1.0,1.0,1.0,1.0,1.0,1.0,1.0,0.3399989439983104,0.007698412317459707,0.20999873599797758,1.0,0.1699986719978752,1.0,1.0,0.3099988959982336,1.0,0.04899847839756543,1.0,1.0,1.0,1.0,1.0,0.002998404797447676,0.799999679999488,1.0,1.0,1.0,1.0,0.1299986079977728,1.0,1.0,1.0,1.0,1.0,1.0,1.0,1.0,0.23999878399805438,0.012998420797473277,0.019998431997491198,1.0,1.0,0.00489840783745254,1.0,0.03899846239753983,0.010998417597468155,1.0,1.0,1.0,1.0,1.0,0.6399994239990784,0.4799991679986688,1.0,1.0,1.0,1.0,0.07299851679762688,0.04499847199755519,1.0,0.032998452797524475,1.0,1.0,1.0,1.0,1.0,1.0,1.0,1.0,1.0,0.020998433597493756,1.0,0.019998431997491198,1.0,0.003298405277448444,1.0,1.0,1.0,0.054998487997580794,1.0,1.0,1.0,1.0,1.0,1.0,1.0,0.030998449597519354,1.0,1.0,0.399999039998464,1.0,1.0,1.0,1.0,1.0,1.0,1.0,1.0,1.0,0.199998719997952,0.05799849279758848,0.047998476797562875,1.0,0.054998487997580794,1.0,1.0,1.0,1.0,1.0,0.10999857599772159,1.0,1.0,1.0,1.0,0.03199845119752191,1.0,1.0,1.0,0.24999879999807997,1.0,1.0,1.0,1.0,1.0,1.0,0.34999895999833597,1.0,1.0,0.017998428797486078,1.0,1.0,1.0,1.0,1.0,1.0,1.0,1.0,1.0,1.0,1.0,0.11999859199774718,0.4799991679986688,1.0,1.0,1.0,1.0,1.0,1.0,1.0,0.013998422397475837,0.2299987679980288,1.0,0.2799988479981568,1.0,0.028998446397514234,1.0,0.015998425597480957,0.7799996479994368,1.0,1.0,1.0,1.0,1.0,1.0,1.0,1.0,0.2299987679980288,1.0,0.3299989279982848,1.0,0.050998481597570554,0.6199993919990272,1.0,1.0,1.0,1.0,1.0,0.009698415517464826,1.0,1.0,1.0,0.009998415997465595,0.2699988319981312,1.0,0.0003084004934407895,0.016998427197483516,1.0,1.0,1.0,1.0,0.007598412157459451,1.0,1.0,1.0,1.0,0.0699985119976192,1.0,1.0,1.0,1.0,0.14999863999782398,0.014998423997478397,1.0,1.0,1.0,1.0,0.0799985279976448,1.0,1.0,1.0,0.3899990239984384,0.012998420797473277,0.002798404477447164,1.0,0.3099988959982336,0.09099854559767295,1.0,0.06099849759759616,1.0,1.0,1.0,1.0,1.0,1.0,1.0,1.0,1.0,0.549999279998848,1.0,1.0,1.0,1.0,0.06299850079760128,1.0,0.06399850239760384,1.0,1.0,0.039998463997542394,0.021998435197496315,1.0,1.0,1.0,0.04899847839756543,0.5299992479987968,1.0,1.0,1.0,1.0,1.0,1.0,1.0,1.0,0.001198401917443068,1.0,0.11999859199774718,0.001498402397443836,0.14999863999782398,0.3199989119982592,1.0,0.6599994559991296,1.0,1.0,1.0,1.0,0.07899852639764224,0.0003184005094408151,1.0,1.0,1.0,1.0,0.20999873599797758,0.012998420797473277,1.0,1.0,0.3399989439983104,1.0,1.0,1.0,0.11999859199774718,1.0,0.1399986239977984,0.15999865599784957,1.0,1.0,1.0,1.0,1.0,1.0,0.012998420797473277,0.4299990879985408,1.0,1.0,1.0,1.0,1.0,1.0,0.0012984020774433238,1.0,1.0,0.03899846239753983,1.0,1.0,1.0,1.0,1.0,1.0,1.0,1.0,0.20999873599797758,1.0,0.010998417597468155,1.0,1.0,1.0,0.4299990879985408,1.0,0.022998436797498877,1.0,1.0,0.10999857599772159,1.0,1.0,0.050998481597570554,1.0,1.0,1.0,1.0,0.021998435197496315,0.004798407677452284,0.00289840463744742,1.0,1.0,0.24999879999807997,1.0,1.0,1.0,0.014998423997478397,0.199998719997952,1.0,1.0,0.005798409277454844,1.0,1.0,0.0008784014054422488,0.03799846079753727,0.1299986079977728,0.058998494397591035,1.0,0.6199993919990272,1.0,0.0799985279976448,1.0,1.0,0.2599988159981056,1.0,0.17999868799790078,1.0,0.08199853119764992,1.0,1.0,0.08899854239766784,0.5699993119988992,1.0,1.0,1.0,1.0,1.0,0.21999875199800317,1.0,1.0,1.0,1.0,0.649999439999104,1.0,1.0,1.0,1.0,0.36999899199838715,1.0,1.0,1.0,0.09299854879767808,1.0,1.0,1.0,1.0,1.0,0.04299846879755007,1.0,1.0,0.00047840076544122465,1.0,1.0,1.0,1.0,0.3799990079984128,0.019998431997491198,1.0,1.0,1.0,1.0,1.0,1.0,1.0,0.14999863999782398,1.0,1.0,1.0,0.09899855839769343,1.0,1.0,1.0,1.0,1.0,1.0,1.0,1.0,1.0,1.0,0.2299987679980288,0.8599997759996416,0.23999878399805438,1.0,1.0,1.0,1.0,0.06699850719761152,1.0,1.0,1.0,6.34001014401623e-05,1.0,1.0,0.011998419197470715,1.0,1.0,0.029998447997516792,0.1399986239977984,0.07699852319763711,1.0,1.0,1.0,1.0,1.0,1.0,1.0,0.17999868799790078,1.0,0.5299992479987968,1.0,1.0,1.0,1.0,1.0,0.09399855039768064,1.0,1.0,1.0,1.0,1.0,1.0,1.0,1.0,1.0,0.03199845119752191,1.0,0.23999878399805438,1.0,1.0,1.0,1.0,1.0,0.45999913599861764,0.0002184003494405591,1.0,1.0,1.0,1.0,0.3299989279982848,1.0,1.0,1.0,1.0,1.0,1.0,1.0,1.0,1.0,0.35999897599836156,1.0,1.0,1.0,1.0,0.3399989439983104,1.0,0.0015984025574440918,0.0003484005574408919,1.0,1.0,0.4699991519986432,1.0,1.0,1.0,0.23999878399805438,0.2599988159981056,1.0,0.35999897599836156,1.0,0.0007384011814418903,1.0,1.0,1.0,0.14999863999782398,1.0,0.00010840017344027751,1.0,1.0,1.0,1.0,1.0,1.0,1.0,1.0,0.0004884007814412503,1.0,0.4699991519986432,1.0,0.040998465597544956,1.0,1.0,1.0,0.6799994879991809,1.0,1.0,1.0,0.04199846719754751,1.0,1.0,1.0,1.0,1.0,0.199998719997952,1.0,1.0,1.0,1.0,0.0008884014214422743,1.0,0.35999897599836156,0.010998417597468155,1.0,1.0,1.0,0.06399850239760384,1.0,1.0,0.3899990239984384,1.0,1.0,1.0,1.0,1.0,1.0,1.0,1.0,0.20999873599797758,1.0,1.0,1.0,1.0,1.0,0.016998427197483516,1.0,1.0,0.3799990079984128,1.0,1.0,1.0,1.0,0.051998483197573116,0.6299994079990529,1.0,1.0,1.0,1.0,1.0,1.0,1.0,1.0,1.0,0.1299986079977728,1.0,1.0,1.0,1.0,0.025998441597506552,1.0,0.24999879999807997,1.0,1.0,1.0,0.1299986079977728,0.008698413917462268,1.0,1.0,1.0,1.0,1.0,1.0,1.0,1.0,1.0,1.0,0.005598408957454332,0.44999911999859205,0.649999439999104,1.0,1.0,1.0,1.0,1.0,1.0,1.0,1.0,1.0,1.0,1.0,1.0,1.0,1.0,0.07599852159763455,1.0,1.0,1.0,1.0,1.0,1.0,0.09599855359768576,1.0,1.0,0.11999859199774718,1.0,1.0,0.10999857599772159,1.0,1.0,1.0,0.549999279998848,1.0,1.0,0.1699986719978752,0.03899846239753983,1.0,0.5399992639988224,1.0,0.1699986719978752,0.03399845439752703,0.0015984025574440918,0.0009884015814425303,0.4199990719985152,1.0,1.0,0.14999863999782398,1.0,0.199998719997952,1.0,1.0,0.021998435197496315,1.0,1.0,1.0,1.0,1.0,1.0,1.0,1.0,1.0,0.022998436797498877,1.0,1.0,1.0,0.7199995519992832,1.0,0.15999865599784957,0.040998465597544956,1.0,1.0,0.29999887999820796,0.0699985119976192,1.0,0.6899995039992064,0.4799991679986688,1.0,0.3099988959982336,1.0,1.0,1.0,0.09699855519768831,1.0,1.0,1.0,1.0,0.0068984110374576595,0.0003184005094408151,1.0,1.0,1.0,1.0,1.0,0.5899993439989504,1.0,1.0,1.0,1.0,1.0,1.0,1.0,1.0,1.0,0.00010840017344027751,0.019998431997491198,1.0,0.06299850079760128,0.10999857599772159,0.1299986079977728,1.0,0.17999868799790078,1.0,0.4899991839986944,1.0,0.24999879999807997,0.3099988959982336,1.0,1.0,1.0,0.029998447997516792,0.008198413117460987,1.0,0.0008984014374422999,1.0,0.0006484010374416599,0.399999039998464,1.0,1.0,0.2799988479981568,0.003098404957447932,1.0,1.0,1.0,0.03599845759753215,1.0,0.08399853439765503,1.0,0.004198406717450748,1.0,1.0,1.0,1.0,0.024998439997503997,0.022998436797498877,1.0,1.0,1.0,1.0,1.0,0.09399855039768064,1.0,0.549999279998848,1.0,1.0,1.0,1.0,1.0,1.0,1.0,1.0,1.0,1.0,1.0,1.0,1.0,0.10999857599772159,1.0,1.0,1.0,0.49999919999872,1.0,1.0,0.899999839999744,1.0,0.4099990559984896,1.0,0.7799996479994368,1.0,0.04999847999756799,1.0,0.027998444797511672,0.9099998559997696,0.001098401757442812,0.1299986079977728,1.0,1.0,1.0,0.051998483197573116,1.0,1.0,1.0,0.24999879999807997,1.0,1.0,1.0,1.0,1.0,1.0,1.0,1.0,1.0,1.0,1.0,1.0,1.0,1.0,1.0,0.001098401757442812,1.0,1.0,1.0,1.0,1.0,1.0,1.0,1.0,1.0,0.2599988159981056,1.0,0.1399986239977984,1.0,1.0,1.0,1.0,0.14999863999782398,1.0,1.0,0.00039840063744101987,1.0,1.0,1.0,1.0,1.0,1.0,1.0,1.0,0.3899990239984384,0.055998489597583356,1.0,0.7099995359992576,1.0,1.0,0.0068984110374576595,0.005798409277454844,0.0068984110374576595,1.0,1.0,1.0,0.03899846239753983,0.00539840863745382,1.0,1.0,1.0,0.011998419197470715,1.0,0.029998447997516792,1.0,1.0,1.0,0.5899993439989504,0.03599845759753215,1.0,1.0,1.0,1.0,1.0,1.0,1.0,1.0,1.0,1.0,1.0,1.0,1.0,1.0,1.0,1.0,1.0,0.1299986079977728,0.011998419197470715,1.0,0.004098406557450492,1.0,1.0,1.0,1.0,1.0,1.0,0.11999859199774718,1.0,1.0,1.0,1.0,1.0,1.0,1.0,1.0,1.0,1.0,1.0,1.0,1.0,0.022998436797498877,1.0,1.0,1.0,1.0,1.0,1.0,1.0,1.0,0.14999863999782398,0.017998428797486078,0.7899996639994624,1.0,0.015998425597480957,1.0,1.0,1.0,1.0,1.0,1.0,1.0,1.0,0.04599847359755775,1.0,1.0,1.0,0.0001684002694404311,1.0,1.0,1.0,1.0,1.0,1.0,1.0,1.0,1.0,1.0,1.0,1.0,1.0,1.0,1.0,1.0,1.0,0.799999679999488,1.0,1.0,1.0,1.0,1.0,0.018998430397488636,1.0,0.7299995679993088,0.0012984020774433238,0.03599845759753215,1.0,1.0,1.0,1.0,1.0,1.0,1.0,1.0,1.0,1.0,1.0,1.0,1.0,1.0,1.0,1.0,1.0,1.0,1.0,1.0,0.09199854719767551,1.0,0.6099993759990016,0.18999870399792637,1.0,1.0,1.0,1.0,1.0,1.0,0.014998423997478397,1.0,1.0,0.09399855039768064,1.0,4.740007584012134e-05,1.0,1.0,1.0,0.10999857599772159,0.018998430397488636,1.0,0.3299989279982848,0.49999919999872,1.0,1.0,1.0,1.0,1.0,1.0,0.2799988479981568,0.23999878399805438,1.0,0.011998419197470715,1.0,0.2299987679980288,1.0,1.0,1.0,1.0,0.016998427197483516,1.0,1.0,1.0,1.0,0.07299851679762688,0.2299987679980288,0.014998423997478397,1.0,1.0,1.0,0.17999868799790078,0.21999875199800317,0.08199853119764992,0.10999857599772159,1.0,0.0006584010534416854,1.0,1.0,1.0,1.0,1.0,1.0,1.0,1.0,0.0013984022374435798,1.0,1.0,1.0,1.0,0.036998459197534715,1.0,0.5899993439989504,0.07399851839762944,1.0,1.0,1.0,1.0,0.04299846879755007,1.0,1.0,1.0,1.0,1.0,1.0,1.0,1.0,0.0849985359976576,1.0,0.05399848639757824,1.0,0.0599984959975936,1.0,1.0,1.0,1.0,1.0,1.0,1.0,1.0,1.0,1.0,0.024998439997503997,1.0,0.35999897599836156,1.0,1.0,1.0,1.0,1.0,1.0,1.0,1.0,1.0,1.0,1.0,1.0,1.0,1.0,1.0,0.00539840863745382,1.0,0.06599850559760896,1.0,1.0,1.0,1.0,1.0,1.0,0.03199845119752191,1.0,1.0,0.14999863999782398,1.0,1.0,0.2599988159981056,1.0,1.0,0.1399986239977984,1.0,1.0,1.0,1.0,1.0,1.0,1.0,8.400013440021505e-06,0.00859841375746201,1.0,1.0,1.0,1.0,1.0,0.04999847999756799,1.0,1.0,1.0,1.0,0.0015984025574440918,1.0,0.00289840463744742,1.0,1.0,1.0,1.0,1.0,1.0,1.0,1.0,1.0,1.0,1.0,0.0006984011174417879,1.0,1.0,0.0599984959975936,1.0,1.0,1.0,1.0,1.0,1.0,1.0,1.0,1.0,1.0,1.0,0.17999868799790078,0.18999870399792637,0.021998435197496315,1.0,1.0,1.0,0.8699997919996671,1.0,1.0,1.0,1.0,0.10999857599772159,1.0,0.014998423997478397,1.0,0.1699986719978752,1.0,1.0,0.029998447997516792,1.0,1.0,0.4899991839986944,0.03899846239753983,1.0,0.0033984054374487,1.0,1.0,1.0,0.199998719997952,0.07599852159763455,1.0,1.0,1.0,1.0,1.0,1.0,0.018998430397488636,0.03799846079753727,1.0,1.0,1.0,0.06199849919759872,1.0,0.07499851999763199,1.0,1.0,0.7099995359992576,1.0,0.0009084014534423254,1.0,1.0,1.0,1.0,1.0,0.14999863999782398,0.17999868799790078,1.0,1.0,1.0,1.0,0.1699986719978752,0.004698407517452028,0.15999865599784957,1.0,0.099998559997696,1.0,0.9899999839999744,1.0,1.0,1.0,1.0,0.20999873599797758,1.0,1.0,0.013998422397475837,1.0,0.1399986239977984,0.1699986719978752,1.0,1.0,0.007598412157459451,0.18999870399792637,0.08199853119764992,0.0034984055974489558,1.0,0.1399986239977984,1.0,1.0,1.0,1.0,1.0,1.0,1.0,0.6599994559991296,1.0,0.0009284014854423768,0.199998719997952,1.0,1.0,0.03499845599752959,1.0,0.6099993759990016,1.0,1.0,1.0,1.0,1.0,1.0,1.0,1.0,0.0068984110374576595,1.0,1.0,1.0,0.00439840703745126,1.0,1.0,1.0,1.0,0.1699986719978752,0.007498411997459195,0.21999875199800317,1.0,0.199998719997952,1.0,1.0,1.0,0.006098409757455612,0.002498403997446396,1.0,0.08899854239766784,1.0,1.0,1.0,1.0,1.0,1.0,1.0,0.199998719997952,0.022998436797498877,1.0,1.0,1.0,1.0,1.0,0.06299850079760128,1.0,0.011998419197470715,0.0008784014054422488,1.0,1.0,1.0,0.5599992959988737,1.0,1.0,1.0,0.00959841535746457,0.2299987679980288,1.0,0.5399992639988224,1.0,1.0,1.0,1.0,1.0,1.0,1.0,1.0,1.0,1.0,0.006498410397456635,1.0,1.0,1.0,1.0,0.039998463997542394,1.0,1.0,1.0,0.009198414717463547,1.0,1.0,1.0,1.0,1.0,0.34999895999833597,0.0949985519976832,1.0,1.0,1.0,1.0,1.0,1.0,1.0,1.0,1.0,0.012998420797473277,1.0,1.0,0.11999859199774718,1.0,1.0,1.0,1.0,0.016998427197483516,1.0,0.1399986239977984,1.0,1.0,1.0,1.0,1.0,1.0,1.0,1.0,1.0,1.0,0.003298405277448444,1.0,1.0,1.0,0.4199990719985152,1.0,0.6799994879991809,1.0,1.0,1.0,0.2299987679980288,1.0,1.0,1.0,1.0,1.0,1.0,1.0,1.0,1.0,1.0,0.4899991839986944,0.013998422397475837,1.0,1.0,0.08799854079766528,0.0001784002854404567,1.0,4.540007264011622e-05,0.1299986079977728,0.3099988959982336,1.0,1.0,0.004198406717450748,0.0003184005094408151,1.0,1.0,0.004098406557450492,0.024998439997503997,1.0,1.0,0.05399848639757824,0.20999873599797758,0.1299986079977728,1.0,1.0,1.0,1.0,1.0,1.0,0.00639841023745638,0.11999859199774718,1.0,1.0,1.0,1.0,0.5799993279989248,1.0,1.0,0.34999895999833597,1.0,1.0,7.700012320019712e-06,0.08099852959764736,0.399999039998464,0.06799850879761407,1.0,1.0,1.0,1.0,0.009898415837465339,0.1399986239977984,0.04699847519756031,1.0,1.0,1.0,1.0,1.0,1.0,0.4399991039985664,1.0,0.6899995039992064,0.00039840063744101987,1.0,1.0,1.0,1.0,1.0,0.0002084003334405335,0.00024840039744063587,1.0,1.0,1.0,1.0,1.0,1.0,1.0,1.0,0.06799850879761407,1.0,1.0,1.0,0.08899854239766784,1.0,1.0,1.0,0.4899991839986944,1.0,0.0003184005094408151,0.1699986719978752,0.015998425597480957,0.001198401917443068,1.0,0.1699986719978752,1.0,1.0,1.7400027840044543e-05,1.0,1.0,1.0,1.0,0.0083984134374615,0.34999895999833597,0.34999895999833597,0.019998431997491198,1.0,1.0,0.44999911999859205,1.0,1.0,1.0,0.2799988479981568,0.2799988479981568,0.23999878399805438,1.0,1.0,1.0,1.0,0.09299854879767808,1.0,1.0,0.2299987679980288,0.04999847999756799,1.0,1.0,0.04899847839756543,1.0,1.0,1.0,1.0,0.05699849119758592,1.0,0.0033984054374487,1.0,1.0,1.0,1.0,1.0,1.0,1.0,1.0,1.0,1.0,1.0,1.0,1.0,0.4199990719985152,1.0,1.0,1.0,0.03399845439752703,0.019998431997491198,1.0,1.0,1.0,1.0,0.007998412797460474,1.0,1.0,0.016998427197483516,1.0,0.09399855039768064,1.0,1.0,0.006098409757455612,0.49999919999872,1.0,1.0,1.0,1.0,1.0,1.0,0.28999886399818237,0.0015984025574440918,1.0,0.002298403677445884,1.0,1.0,0.0008884014214422743,1.0,1.0,0.11999859199774718,1.0,1.0,1.0,0.011998419197470715,1.0,1.0,0.007498411997459195,0.2799988479981568,0.35999897599836156,1.0,1.0,1.0,0.5099992159987456,1.0,1.0,1.0,0.11999859199774718,0.14999863999782398,1.0,0.09699855519768831,0.003598405757449212,1.0,1.0,1.0,1.0,1.0,1.0,1.0,1.0,0.0004084006534410455,1.0,0.4799991679986688,0.06799850879761407,1.0,1.0,0.29999887999820796,1.0,1.0,1.0,0.002598404157446652,1.0,1.0,1.0,0.14999863999782398,0.07699852319763711,1.0,1.0,1.0,0.29999887999820796,0.0799985279976448,1.0,1.0,1.0,1.0,1.0,1.0,0.03199845119752191,1.0,1.0,0.2699988319981312,1.0,1.0,1.0,1.0,0.6799994879991809,1.0,0.003298405277448444,1.0,1.0,1.0,1.0,1.0,1.0,1.0,1.0,1.0,1.0,1.0,1.0,1.0,1.0,0.24999879999807997,0.1399986239977984,1.0,1.0,1.0,1.0,1.0,1.0,1.0,1.0,1.0,1.0,1.0,1.0,1.0,1.0,1.0,1.0,1.0,1.0,1.0,1.0,0.025998441597506552,1.0,1.0,1.0],\"xaxis\":\"x2\",\"yaxis\":\"y2\",\"type\":\"box\"}],                        {\"template\":{\"data\":{\"histogram2dcontour\":[{\"type\":\"histogram2dcontour\",\"colorbar\":{\"outlinewidth\":0,\"ticks\":\"\"},\"colorscale\":[[0.0,\"#0d0887\"],[0.1111111111111111,\"#46039f\"],[0.2222222222222222,\"#7201a8\"],[0.3333333333333333,\"#9c179e\"],[0.4444444444444444,\"#bd3786\"],[0.5555555555555556,\"#d8576b\"],[0.6666666666666666,\"#ed7953\"],[0.7777777777777778,\"#fb9f3a\"],[0.8888888888888888,\"#fdca26\"],[1.0,\"#f0f921\"]]}],\"choropleth\":[{\"type\":\"choropleth\",\"colorbar\":{\"outlinewidth\":0,\"ticks\":\"\"}}],\"histogram2d\":[{\"type\":\"histogram2d\",\"colorbar\":{\"outlinewidth\":0,\"ticks\":\"\"},\"colorscale\":[[0.0,\"#0d0887\"],[0.1111111111111111,\"#46039f\"],[0.2222222222222222,\"#7201a8\"],[0.3333333333333333,\"#9c179e\"],[0.4444444444444444,\"#bd3786\"],[0.5555555555555556,\"#d8576b\"],[0.6666666666666666,\"#ed7953\"],[0.7777777777777778,\"#fb9f3a\"],[0.8888888888888888,\"#fdca26\"],[1.0,\"#f0f921\"]]}],\"heatmap\":[{\"type\":\"heatmap\",\"colorbar\":{\"outlinewidth\":0,\"ticks\":\"\"},\"colorscale\":[[0.0,\"#0d0887\"],[0.1111111111111111,\"#46039f\"],[0.2222222222222222,\"#7201a8\"],[0.3333333333333333,\"#9c179e\"],[0.4444444444444444,\"#bd3786\"],[0.5555555555555556,\"#d8576b\"],[0.6666666666666666,\"#ed7953\"],[0.7777777777777778,\"#fb9f3a\"],[0.8888888888888888,\"#fdca26\"],[1.0,\"#f0f921\"]]}],\"heatmapgl\":[{\"type\":\"heatmapgl\",\"colorbar\":{\"outlinewidth\":0,\"ticks\":\"\"},\"colorscale\":[[0.0,\"#0d0887\"],[0.1111111111111111,\"#46039f\"],[0.2222222222222222,\"#7201a8\"],[0.3333333333333333,\"#9c179e\"],[0.4444444444444444,\"#bd3786\"],[0.5555555555555556,\"#d8576b\"],[0.6666666666666666,\"#ed7953\"],[0.7777777777777778,\"#fb9f3a\"],[0.8888888888888888,\"#fdca26\"],[1.0,\"#f0f921\"]]}],\"contourcarpet\":[{\"type\":\"contourcarpet\",\"colorbar\":{\"outlinewidth\":0,\"ticks\":\"\"}}],\"contour\":[{\"type\":\"contour\",\"colorbar\":{\"outlinewidth\":0,\"ticks\":\"\"},\"colorscale\":[[0.0,\"#0d0887\"],[0.1111111111111111,\"#46039f\"],[0.2222222222222222,\"#7201a8\"],[0.3333333333333333,\"#9c179e\"],[0.4444444444444444,\"#bd3786\"],[0.5555555555555556,\"#d8576b\"],[0.6666666666666666,\"#ed7953\"],[0.7777777777777778,\"#fb9f3a\"],[0.8888888888888888,\"#fdca26\"],[1.0,\"#f0f921\"]]}],\"surface\":[{\"type\":\"surface\",\"colorbar\":{\"outlinewidth\":0,\"ticks\":\"\"},\"colorscale\":[[0.0,\"#0d0887\"],[0.1111111111111111,\"#46039f\"],[0.2222222222222222,\"#7201a8\"],[0.3333333333333333,\"#9c179e\"],[0.4444444444444444,\"#bd3786\"],[0.5555555555555556,\"#d8576b\"],[0.6666666666666666,\"#ed7953\"],[0.7777777777777778,\"#fb9f3a\"],[0.8888888888888888,\"#fdca26\"],[1.0,\"#f0f921\"]]}],\"mesh3d\":[{\"type\":\"mesh3d\",\"colorbar\":{\"outlinewidth\":0,\"ticks\":\"\"}}],\"scatter\":[{\"fillpattern\":{\"fillmode\":\"overlay\",\"size\":10,\"solidity\":0.2},\"type\":\"scatter\"}],\"parcoords\":[{\"type\":\"parcoords\",\"line\":{\"colorbar\":{\"outlinewidth\":0,\"ticks\":\"\"}}}],\"scatterpolargl\":[{\"type\":\"scatterpolargl\",\"marker\":{\"colorbar\":{\"outlinewidth\":0,\"ticks\":\"\"}}}],\"bar\":[{\"error_x\":{\"color\":\"#2a3f5f\"},\"error_y\":{\"color\":\"#2a3f5f\"},\"marker\":{\"line\":{\"color\":\"#E5ECF6\",\"width\":0.5},\"pattern\":{\"fillmode\":\"overlay\",\"size\":10,\"solidity\":0.2}},\"type\":\"bar\"}],\"scattergeo\":[{\"type\":\"scattergeo\",\"marker\":{\"colorbar\":{\"outlinewidth\":0,\"ticks\":\"\"}}}],\"scatterpolar\":[{\"type\":\"scatterpolar\",\"marker\":{\"colorbar\":{\"outlinewidth\":0,\"ticks\":\"\"}}}],\"histogram\":[{\"marker\":{\"pattern\":{\"fillmode\":\"overlay\",\"size\":10,\"solidity\":0.2}},\"type\":\"histogram\"}],\"scattergl\":[{\"type\":\"scattergl\",\"marker\":{\"colorbar\":{\"outlinewidth\":0,\"ticks\":\"\"}}}],\"scatter3d\":[{\"type\":\"scatter3d\",\"line\":{\"colorbar\":{\"outlinewidth\":0,\"ticks\":\"\"}},\"marker\":{\"colorbar\":{\"outlinewidth\":0,\"ticks\":\"\"}}}],\"scattermapbox\":[{\"type\":\"scattermapbox\",\"marker\":{\"colorbar\":{\"outlinewidth\":0,\"ticks\":\"\"}}}],\"scatterternary\":[{\"type\":\"scatterternary\",\"marker\":{\"colorbar\":{\"outlinewidth\":0,\"ticks\":\"\"}}}],\"scattercarpet\":[{\"type\":\"scattercarpet\",\"marker\":{\"colorbar\":{\"outlinewidth\":0,\"ticks\":\"\"}}}],\"carpet\":[{\"aaxis\":{\"endlinecolor\":\"#2a3f5f\",\"gridcolor\":\"white\",\"linecolor\":\"white\",\"minorgridcolor\":\"white\",\"startlinecolor\":\"#2a3f5f\"},\"baxis\":{\"endlinecolor\":\"#2a3f5f\",\"gridcolor\":\"white\",\"linecolor\":\"white\",\"minorgridcolor\":\"white\",\"startlinecolor\":\"#2a3f5f\"},\"type\":\"carpet\"}],\"table\":[{\"cells\":{\"fill\":{\"color\":\"#EBF0F8\"},\"line\":{\"color\":\"white\"}},\"header\":{\"fill\":{\"color\":\"#C8D4E3\"},\"line\":{\"color\":\"white\"}},\"type\":\"table\"}],\"barpolar\":[{\"marker\":{\"line\":{\"color\":\"#E5ECF6\",\"width\":0.5},\"pattern\":{\"fillmode\":\"overlay\",\"size\":10,\"solidity\":0.2}},\"type\":\"barpolar\"}],\"pie\":[{\"automargin\":true,\"type\":\"pie\"}]},\"layout\":{\"autotypenumbers\":\"strict\",\"colorway\":[\"#636efa\",\"#EF553B\",\"#00cc96\",\"#ab63fa\",\"#FFA15A\",\"#19d3f3\",\"#FF6692\",\"#B6E880\",\"#FF97FF\",\"#FECB52\"],\"font\":{\"color\":\"#2a3f5f\"},\"hovermode\":\"closest\",\"hoverlabel\":{\"align\":\"left\"},\"paper_bgcolor\":\"white\",\"plot_bgcolor\":\"#E5ECF6\",\"polar\":{\"bgcolor\":\"#E5ECF6\",\"angularaxis\":{\"gridcolor\":\"white\",\"linecolor\":\"white\",\"ticks\":\"\"},\"radialaxis\":{\"gridcolor\":\"white\",\"linecolor\":\"white\",\"ticks\":\"\"}},\"ternary\":{\"bgcolor\":\"#E5ECF6\",\"aaxis\":{\"gridcolor\":\"white\",\"linecolor\":\"white\",\"ticks\":\"\"},\"baxis\":{\"gridcolor\":\"white\",\"linecolor\":\"white\",\"ticks\":\"\"},\"caxis\":{\"gridcolor\":\"white\",\"linecolor\":\"white\",\"ticks\":\"\"}},\"coloraxis\":{\"colorbar\":{\"outlinewidth\":0,\"ticks\":\"\"}},\"colorscale\":{\"sequential\":[[0.0,\"#0d0887\"],[0.1111111111111111,\"#46039f\"],[0.2222222222222222,\"#7201a8\"],[0.3333333333333333,\"#9c179e\"],[0.4444444444444444,\"#bd3786\"],[0.5555555555555556,\"#d8576b\"],[0.6666666666666666,\"#ed7953\"],[0.7777777777777778,\"#fb9f3a\"],[0.8888888888888888,\"#fdca26\"],[1.0,\"#f0f921\"]],\"sequentialminus\":[[0.0,\"#0d0887\"],[0.1111111111111111,\"#46039f\"],[0.2222222222222222,\"#7201a8\"],[0.3333333333333333,\"#9c179e\"],[0.4444444444444444,\"#bd3786\"],[0.5555555555555556,\"#d8576b\"],[0.6666666666666666,\"#ed7953\"],[0.7777777777777778,\"#fb9f3a\"],[0.8888888888888888,\"#fdca26\"],[1.0,\"#f0f921\"]],\"diverging\":[[0,\"#8e0152\"],[0.1,\"#c51b7d\"],[0.2,\"#de77ae\"],[0.3,\"#f1b6da\"],[0.4,\"#fde0ef\"],[0.5,\"#f7f7f7\"],[0.6,\"#e6f5d0\"],[0.7,\"#b8e186\"],[0.8,\"#7fbc41\"],[0.9,\"#4d9221\"],[1,\"#276419\"]]},\"xaxis\":{\"gridcolor\":\"white\",\"linecolor\":\"white\",\"ticks\":\"\",\"title\":{\"standoff\":15},\"zerolinecolor\":\"white\",\"automargin\":true,\"zerolinewidth\":2},\"yaxis\":{\"gridcolor\":\"white\",\"linecolor\":\"white\",\"ticks\":\"\",\"title\":{\"standoff\":15},\"zerolinecolor\":\"white\",\"automargin\":true,\"zerolinewidth\":2},\"scene\":{\"xaxis\":{\"backgroundcolor\":\"#E5ECF6\",\"gridcolor\":\"white\",\"linecolor\":\"white\",\"showbackground\":true,\"ticks\":\"\",\"zerolinecolor\":\"white\",\"gridwidth\":2},\"yaxis\":{\"backgroundcolor\":\"#E5ECF6\",\"gridcolor\":\"white\",\"linecolor\":\"white\",\"showbackground\":true,\"ticks\":\"\",\"zerolinecolor\":\"white\",\"gridwidth\":2},\"zaxis\":{\"backgroundcolor\":\"#E5ECF6\",\"gridcolor\":\"white\",\"linecolor\":\"white\",\"showbackground\":true,\"ticks\":\"\",\"zerolinecolor\":\"white\",\"gridwidth\":2}},\"shapedefaults\":{\"line\":{\"color\":\"#2a3f5f\"}},\"annotationdefaults\":{\"arrowcolor\":\"#2a3f5f\",\"arrowhead\":0,\"arrowwidth\":1},\"geo\":{\"bgcolor\":\"white\",\"landcolor\":\"#E5ECF6\",\"subunitcolor\":\"white\",\"showland\":true,\"showlakes\":true,\"lakecolor\":\"white\"},\"title\":{\"x\":0.05},\"mapbox\":{\"style\":\"light\"}}},\"xaxis\":{\"anchor\":\"y\",\"domain\":[0.0,1.0],\"title\":{\"text\":\"value\"}},\"yaxis\":{\"anchor\":\"x\",\"domain\":[0.0,0.7326],\"title\":{\"text\":\"count\"}},\"xaxis2\":{\"anchor\":\"y2\",\"domain\":[0.0,1.0],\"matches\":\"x\",\"showticklabels\":false,\"showgrid\":true},\"yaxis2\":{\"anchor\":\"x2\",\"domain\":[0.7426,1.0],\"matches\":\"y2\",\"showticklabels\":false,\"showline\":false,\"ticks\":\"\",\"showgrid\":false},\"legend\":{\"title\":{\"text\":\"variable\"},\"tracegroupgap\":0},\"margin\":{\"t\":60},\"barmode\":\"relative\"},                        {\"responsive\": true}                    ).then(function(){\n",
              "                            \n",
              "var gd = document.getElementById('a416316b-6350-4ac2-a334-5aed7fc30e96');\n",
              "var x = new MutationObserver(function (mutations, observer) {{\n",
              "        var display = window.getComputedStyle(gd).display;\n",
              "        if (!display || display === 'none') {{\n",
              "            console.log([gd, 'removed!']);\n",
              "            Plotly.purge(gd);\n",
              "            observer.disconnect();\n",
              "        }}\n",
              "}});\n",
              "\n",
              "// Listen for the removal of the full notebook cells\n",
              "var notebookContainer = gd.closest('#notebook-container');\n",
              "if (notebookContainer) {{\n",
              "    x.observe(notebookContainer, {childList: true});\n",
              "}}\n",
              "\n",
              "// Listen for the clearing of the current output cell\n",
              "var outputEl = gd.closest('.output');\n",
              "if (outputEl) {{\n",
              "    x.observe(outputEl, {childList: true});\n",
              "}}\n",
              "\n",
              "                        })                };                            </script>        </div>\n",
              "</body>\n",
              "</html>"
            ]
          },
          "metadata": {}
        }
      ],
      "source": [
        "fig = px.histogram(new_data['Y'], nbins=200,marginal=\"box\")\n",
        "\n",
        "# Show the plot\n",
        "fig.show()"
      ]
    },
    {
      "cell_type": "markdown",
      "metadata": {
        "id": "A2wTDUkq8gl5"
      },
      "source": [
        "## Let's create the tokenizer"
      ]
    },
    {
      "cell_type": "code",
      "execution_count": null,
      "metadata": {
        "id": "5AFnyd2n6Zl3"
      },
      "outputs": [],
      "source": [
        "def tokenize(input_string):\n",
        "  return [ord(char) for char in input_string]\n",
        "def encode(input_string,max_length=128,padding=True):\n",
        "  tokens=tokenize(input_string)\n",
        "  if len(tokens)>max_length:\n",
        "    tokens=tokens[:max_length]\n",
        "  if (len(tokens)<max_length) & padding:\n",
        "    tokens.extend([0 for _ in range(max_length-len(tokens))])\n",
        "  return tokens\n",
        "def decode(input_tokens):\n",
        "  return ''.join(list(map(lambda x:chr(x), input_tokens)))"
      ]
    },
    {
      "cell_type": "code",
      "execution_count": null,
      "metadata": {
        "id": "9IUIelUOAJZq"
      },
      "outputs": [],
      "source": [
        "l_tokenizer=encode('z',padding=False)[0]+1"
      ]
    },
    {
      "cell_type": "markdown",
      "metadata": {
        "id": "bLHVshvy8nJi"
      },
      "source": [
        "## Now, let's create the dataset object"
      ]
    },
    {
      "cell_type": "code",
      "execution_count": null,
      "metadata": {
        "id": "WzH02MkR4WYz"
      },
      "outputs": [],
      "source": [
        "class DTIA_Dataset(Dataset):\n",
        "    def __init__(self, df,drug_max_length,target_max_length):\n",
        "        self.df = df\n",
        "        self.dml=drug_max_length\n",
        "        self.tml=target_max_length\n",
        "    def __len__(self):\n",
        "        return len(self.df)\n",
        "\n",
        "    def __getitem__(self, idx):\n",
        "        row=self.df.iloc[idx]\n",
        "        input_drug=torch.tensor(encode(row['Drug'],max_length=self.dml))\n",
        "        input_target=torch.tensor(encode(row['Target'],max_length=self.tml))\n",
        "        y=torch.tensor(row['Y'],dtype=torch.float32)\n",
        "        return {'input_drug':input_drug,\n",
        "         'input_target': input_target,\n",
        "         'y':y}"
      ]
    },
    {
      "cell_type": "code",
      "execution_count": null,
      "metadata": {
        "id": "B3u_fHBhAjxD"
      },
      "outputs": [],
      "source": [
        "dml=45\n",
        "tml=700"
      ]
    },
    {
      "cell_type": "code",
      "execution_count": null,
      "metadata": {
        "id": "MdyWuihg_J65"
      },
      "outputs": [],
      "source": [
        "l=int(new_data.shape[0]*0.8)\n",
        "train_p=DTIA_Dataset(new_data[:l],drug_max_length=45,target_max_length=700)\n",
        "test_p=DTIA_Dataset(new_data[l:],drug_max_length=45,target_max_length=700)"
      ]
    },
    {
      "cell_type": "code",
      "execution_count": null,
      "metadata": {
        "id": "JbQ1aU6Z-jMx"
      },
      "outputs": [],
      "source": [
        "train_loader=DataLoader(train_p,batch_size=32,shuffle=True)\n",
        "test_loader=DataLoader(test_p,batch_size=32)"
      ]
    },
    {
      "cell_type": "code",
      "execution_count": null,
      "metadata": {
        "id": "6OWsOWBrBvL9"
      },
      "outputs": [],
      "source": []
    },
    {
      "cell_type": "markdown",
      "metadata": {
        "id": "-JeV556v_rAf"
      },
      "source": [
        "## Now a model"
      ]
    },
    {
      "cell_type": "code",
      "execution_count": null,
      "metadata": {
        "id": "RxdvQtkvZ3iN"
      },
      "outputs": [],
      "source": [
        "def create_mask(size,distance):\n",
        "    indices = torch.arange(size).view(1, -1)\n",
        "    matrix = torch.abs(indices - indices.t()) <= distance\n",
        "    return matrix.int()\n",
        "class SingleHeadAttention(torch.nn.Module):\n",
        "    def __init__(self, qkv_dim,embed_dim, dropout_rate=0.1):\n",
        "        super(SingleHeadAttention, self).__init__()\n",
        "        self.qkv_dim=qkv_dim\n",
        "        self.embed_dim = embed_dim\n",
        "        self.W_q = torch.nn.Linear(qkv_dim, embed_dim, bias=False)\n",
        "        self.W_k = torch.nn.Linear(qkv_dim, embed_dim, bias=False)\n",
        "        self.W_v = torch.nn.Linear(qkv_dim, embed_dim, bias=False)\n",
        "        self.dp = nn.Dropout(dropout_rate)\n",
        "    def forward(self, query, key, value, mask=None):\n",
        "        Q = self.W_q(query) #Q,KVe\n",
        "        Q=self.dp(Q)\n",
        "        K = self.W_k(key)   #KV,KVe\n",
        "        K=self.dp(K)\n",
        "        V = self.W_v(value) #KV,Ve\n",
        "        V=self.dp(V)\n",
        "        attention_scores = torch.matmul(Q, K.transpose(-2, -1)) / torch.sqrt(torch.tensor(self.qkv_dim, dtype=torch.float32)) #Q,KV\n",
        "        if mask is not None:\n",
        "            attention_scores = attention_scores.masked_fill(mask == 0, float('-inf')) #Q,KV\n",
        "        attention_weights = F.softmax(attention_scores, dim=-1) #Q,KV\n",
        "        attended_values = torch.matmul(attention_weights, V) #Q,Ve\n",
        "        return attended_values, attention_weights\n",
        "\n",
        "\n",
        "class MultiHeadAttention(torch.nn.Module):\n",
        "    def __init__(self, embed_size, num_heads,output_size,dropout_rate=0.1):\n",
        "        super(MultiHeadAttention, self).__init__()\n",
        "        self.embed_size = embed_size\n",
        "        self.num_heads = num_heads\n",
        "        self.attention_heads = torch.nn.ModuleList([SingleHeadAttention(embed_size,embed_size,dropout_rate) for _ in range(num_heads)])\n",
        "        self.fc_out = torch.nn.Linear(num_heads * embed_size, output_size)\n",
        "\n",
        "    def forward(self, query, key, value, mask=None):\n",
        "        head_outputs = [attention(query, key, value, mask)[0] for attention in self.attention_heads]\n",
        "        concatenated_output = torch.cat(head_outputs, dim=-1)\n",
        "        output = self.fc_out(concatenated_output)\n",
        "        return output"
      ]
    },
    {
      "cell_type": "code",
      "execution_count": null,
      "metadata": {
        "id": "PhMN7rXQ-veI"
      },
      "outputs": [],
      "source": [
        "device = torch.device('cuda' if torch.cuda.is_available() else 'cpu')\n",
        "drug_mask=create_mask(45,5).to(device)\n",
        "target_mask=create_mask(700,10).to(device)\n",
        "# target_mask1=create_mask(700,10).to(device)\n",
        "class Drug_Model_att(torch.nn.Module):\n",
        "    def __init__(self, embed_dim=16,dim1=32):\n",
        "        super(Drug_Model_att, self).__init__()\n",
        "        self.embeddings = nn.Embedding(l_tokenizer, embed_dim)\n",
        "        self.pos_embedding = nn.Embedding(45, embed_dim)\n",
        "        self.att1=MultiHeadAttention(embed_dim,2,embed_dim)\n",
        "        self.att2=MultiHeadAttention(embed_dim,2,embed_dim)\n",
        "        self.att3=MultiHeadAttention(embed_dim,2,embed_dim)\n",
        "\n",
        "    def forward(self, input_ids):\n",
        "        x = self.embeddings(input_ids)\n",
        "        x = x + self.pos_embedding(torch.arange(input_ids.size(1)).to(device))\n",
        "        x=self.att1(x,x,x,drug_mask)\n",
        "        x=self.att2(x,x,x,drug_mask)\n",
        "        x=self.att3(x,x,x,drug_mask)\n",
        "        x=torch.transpose(x,1,2)\n",
        "        x = torch.squeeze(F.adaptive_avg_pool1d(x, 1),2)\n",
        "        return x\n",
        "\n",
        "\n",
        "class Attention_Block(torch.nn.Module):\n",
        "  def __init__(self,embed_dim,n_att,dropout_rate=0.2):\n",
        "        super(Attention_Block,self).__init__()\n",
        "        self.atts=[MultiHeadAttention(embed_dim,2,embed_dim,dropout_rate).to(device) for _ in range(n_att)]\n",
        "  def forward(self,x,mask=None):\n",
        "    for layer in self.atts:\n",
        "          x=layer(x,x,x,mask)\n",
        "    return x\n",
        "\n",
        "class Target_Model_att(torch.nn.Module):\n",
        "    def __init__(self, embed_dim=16,dim1=32):\n",
        "        super(Target_Model_att, self).__init__()\n",
        "        self.embeddings = nn.Embedding(l_tokenizer, embed_dim)\n",
        "        self.pos_embedding = nn.Embedding(700, embed_dim)\n",
        "        self.att_b1=Attention_Block(embed_dim,2)\n",
        "        self.pool1=nn.MaxPool1d(10)\n",
        "        self.att_b2=Attention_Block(embed_dim,2)\n",
        "\n",
        "        # self.fpool=nn.AvgPool1d(700)\n",
        "\n",
        "    def forward(self, input_ids):\n",
        "        x = self.embeddings(input_ids)\n",
        "        x = x + self.pos_embedding(torch.arange(input_ids.size(1)).to(device))\n",
        "        x=self.att_b1(x,target_mask)\n",
        "        x=torch.transpose(x,1,2)\n",
        "        x=self.pool1(x)\n",
        "        x=torch.transpose(x,1,2)\n",
        "        x=self.att_b2(x)\n",
        "        x=torch.transpose(x,1,2)\n",
        "        x = torch.squeeze(F.adaptive_max_pool1d(x, 1),2)\n",
        "        return x\n",
        "\n",
        "\n",
        "class DTIA_Model(torch.nn.Module):\n",
        "    def __init__(self, embed_dim=32,dim1=64):\n",
        "        super(DTIA_Model, self).__init__()\n",
        "        self.drug_encoder=Drug_Model_att(embed_dim=embed_dim,dim1=dim1)\n",
        "        self.target_encoder=Target_Model_att(embed_dim=embed_dim,dim1=dim1)\n",
        "        self.dense1 = nn.Linear(embed_dim*2, 1024)\n",
        "        self.dp1=nn.Dropout(0.2)\n",
        "        self.dense2 = nn.Linear(1024, 1024)\n",
        "        self.dp2=nn.Dropout(0.2)\n",
        "        self.dense3 = nn.Linear(1024, 512)\n",
        "        self.dp3=nn.Dropout(0.2)\n",
        "        self.fdense = nn.Linear(512, 1)\n",
        "\n",
        "\n",
        "    def forward(self, drug_inputs,target_inputs):\n",
        "        drug_encoded=self.drug_encoder(drug_inputs)\n",
        "        target_encoded=self.target_encoder(target_inputs)\n",
        "        x=torch.concat((drug_encoded,target_encoded),dim=-1)\n",
        "        x = F.relu(self.dp1(self.dense1(x)))\n",
        "        x = F.relu(self.dp2(self.dense2(x)))\n",
        "        x = F.relu(self.dp3(self.dense3(x)))\n",
        "        x=self.fdense(x)\n",
        "\n",
        "        return x"
      ]
    },
    {
      "cell_type": "code",
      "execution_count": null,
      "metadata": {
        "colab": {
          "base_uri": "https://localhost:8080/"
        },
        "id": "wV5_o3ysCYN4",
        "outputId": "98890794-e55d-406f-d371-6127d94cecd4"
      },
      "outputs": [
        {
          "output_type": "execute_result",
          "data": {
            "text/plain": [
              "DTIA_Model(\n",
              "  (drug_encoder): Drug_Model_att(\n",
              "    (embeddings): Embedding(123, 64)\n",
              "    (pos_embedding): Embedding(45, 64)\n",
              "    (att1): MultiHeadAttention(\n",
              "      (attention_heads): ModuleList(\n",
              "        (0-1): 2 x SingleHeadAttention(\n",
              "          (W_q): Linear(in_features=64, out_features=64, bias=False)\n",
              "          (W_k): Linear(in_features=64, out_features=64, bias=False)\n",
              "          (W_v): Linear(in_features=64, out_features=64, bias=False)\n",
              "          (dp): Dropout(p=0.1, inplace=False)\n",
              "        )\n",
              "      )\n",
              "      (fc_out): Linear(in_features=128, out_features=64, bias=True)\n",
              "    )\n",
              "    (att2): MultiHeadAttention(\n",
              "      (attention_heads): ModuleList(\n",
              "        (0-1): 2 x SingleHeadAttention(\n",
              "          (W_q): Linear(in_features=64, out_features=64, bias=False)\n",
              "          (W_k): Linear(in_features=64, out_features=64, bias=False)\n",
              "          (W_v): Linear(in_features=64, out_features=64, bias=False)\n",
              "          (dp): Dropout(p=0.1, inplace=False)\n",
              "        )\n",
              "      )\n",
              "      (fc_out): Linear(in_features=128, out_features=64, bias=True)\n",
              "    )\n",
              "    (att3): MultiHeadAttention(\n",
              "      (attention_heads): ModuleList(\n",
              "        (0-1): 2 x SingleHeadAttention(\n",
              "          (W_q): Linear(in_features=64, out_features=64, bias=False)\n",
              "          (W_k): Linear(in_features=64, out_features=64, bias=False)\n",
              "          (W_v): Linear(in_features=64, out_features=64, bias=False)\n",
              "          (dp): Dropout(p=0.1, inplace=False)\n",
              "        )\n",
              "      )\n",
              "      (fc_out): Linear(in_features=128, out_features=64, bias=True)\n",
              "    )\n",
              "  )\n",
              "  (target_encoder): Target_Model_att(\n",
              "    (embeddings): Embedding(123, 64)\n",
              "    (pos_embedding): Embedding(700, 64)\n",
              "    (att_b1): Attention_Block()\n",
              "    (pool1): MaxPool1d(kernel_size=10, stride=10, padding=0, dilation=1, ceil_mode=False)\n",
              "    (att_b2): Attention_Block()\n",
              "  )\n",
              "  (dense1): Linear(in_features=128, out_features=1024, bias=True)\n",
              "  (dp1): Dropout(p=0.2, inplace=False)\n",
              "  (dense2): Linear(in_features=1024, out_features=1024, bias=True)\n",
              "  (dp2): Dropout(p=0.2, inplace=False)\n",
              "  (dense3): Linear(in_features=1024, out_features=512, bias=True)\n",
              "  (dp3): Dropout(p=0.2, inplace=False)\n",
              "  (fdense): Linear(in_features=512, out_features=1, bias=True)\n",
              ")"
            ]
          },
          "metadata": {},
          "execution_count": 21
        }
      ],
      "source": [
        "\n",
        "model=DTIA_Model(embed_dim=64,dim1=32)\n",
        "device = torch.device('cuda' if torch.cuda.is_available() else 'cpu')\n",
        "# device='cpu'\n",
        "model.to(device)"
      ]
    },
    {
      "cell_type": "markdown",
      "metadata": {
        "id": "nsOVtHKlCtiR"
      },
      "source": [
        "## Now, training."
      ]
    },
    {
      "cell_type": "code",
      "execution_count": null,
      "metadata": {
        "id": "X22cDgFtCk1R"
      },
      "outputs": [],
      "source": [
        "def train(num_epochs=200):\n",
        "    criterion= nn.MSELoss()\n",
        "    optimizer = torch.optim.Adam(model.parameters(), lr=5e-4)\n",
        "    best_test_loss = float('inf')\n",
        "\n",
        "    for epoch in range(num_epochs):\n",
        "        model.train()\n",
        "        train_loss = 0.0\n",
        "        train_total=0.0\n",
        "        test_loss=0.0\n",
        "        test_total=0.0\n",
        "\n",
        "        for batch in tqdm.tqdm(train_loader):\n",
        "            input_drug=batch['input_drug'].to(device)\n",
        "            input_target=batch['input_target'].to(device)\n",
        "            y=batch['y'].to(device)\n",
        "            optimizer.zero_grad()\n",
        "            outputs = model(input_drug,input_target).view(-1,)\n",
        "            loss = criterion(outputs,y)\n",
        "            train_loss += loss.item()\n",
        "            train_total+=outputs.size(0)\n",
        "            loss.backward()\n",
        "            optimizer.step()\n",
        "        avg_train_loss = train_loss / len(train_loader)\n",
        "\n",
        "\n",
        "\n",
        "        model.eval()\n",
        "        with torch.no_grad():\n",
        "            for batch in test_loader:\n",
        "                input_drug=batch['input_drug'].to(device)\n",
        "                input_target=batch['input_target'].to(device)\n",
        "                y=batch['y'].to(device)\n",
        "                outputs = model(input_drug,input_target).view(-1,)\n",
        "                loss = criterion(outputs,y)\n",
        "                test_total+=outputs.size(0)\n",
        "                test_loss += loss.item()\n",
        "        avg_test_loss = test_loss / len(test_loader)\n",
        "\n",
        "        if avg_test_loss < best_test_loss:\n",
        "            best_test_loss = avg_test_loss\n",
        "            torch.save(model.state_dict(), \"best_model.pt\")\n",
        "        print(f\"Epoch {epoch+1}/{num_epochs}: \"\n",
        "              f\"Train Loss: {avg_train_loss:.4f}, Valid Loss: {avg_test_loss:.4f}\")"
      ]
    },
    {
      "cell_type": "code",
      "execution_count": null,
      "metadata": {
        "colab": {
          "base_uri": "https://localhost:8080/"
        },
        "id": "HpZ9x_c1ELIh",
        "outputId": "36967a40-6ac4-4b29-8ae5-9f10862cf18a"
      },
      "outputs": [
        {
          "metadata": {
            "tags": null
          },
          "name": "stderr",
          "output_type": "stream",
          "text": [
            "100%|██████████| 645/645 [00:45<00:00, 14.12it/s]\n"
          ]
        },
        {
          "metadata": {
            "tags": null
          },
          "name": "stdout",
          "output_type": "stream",
          "text": [
            "Epoch 1/200: Train Loss: 0.1343, Valid Loss: 0.1330\n"
          ]
        },
        {
          "metadata": {
            "tags": null
          },
          "name": "stderr",
          "output_type": "stream",
          "text": [
            "100%|██████████| 645/645 [00:45<00:00, 14.17it/s]\n"
          ]
        },
        {
          "metadata": {
            "tags": null
          },
          "name": "stdout",
          "output_type": "stream",
          "text": [
            "Epoch 2/200: Train Loss: 0.1224, Valid Loss: 0.1211\n"
          ]
        },
        {
          "metadata": {
            "tags": null
          },
          "name": "stderr",
          "output_type": "stream",
          "text": [
            "100%|██████████| 645/645 [00:45<00:00, 14.18it/s]\n"
          ]
        },
        {
          "metadata": {
            "tags": null
          },
          "name": "stdout",
          "output_type": "stream",
          "text": [
            "Epoch 3/200: Train Loss: 0.1209, Valid Loss: 0.1173\n"
          ]
        },
        {
          "metadata": {
            "tags": null
          },
          "name": "stderr",
          "output_type": "stream",
          "text": [
            "100%|██████████| 645/645 [00:44<00:00, 14.34it/s]\n"
          ]
        },
        {
          "metadata": {
            "tags": null
          },
          "name": "stdout",
          "output_type": "stream",
          "text": [
            "Epoch 4/200: Train Loss: 0.1201, Valid Loss: 0.1254\n"
          ]
        },
        {
          "metadata": {
            "tags": null
          },
          "name": "stderr",
          "output_type": "stream",
          "text": [
            "100%|██████████| 645/645 [00:45<00:00, 14.19it/s]\n"
          ]
        },
        {
          "metadata": {
            "tags": null
          },
          "name": "stdout",
          "output_type": "stream",
          "text": [
            "Epoch 5/200: Train Loss: 0.1198, Valid Loss: 0.1229\n"
          ]
        },
        {
          "metadata": {
            "tags": null
          },
          "name": "stderr",
          "output_type": "stream",
          "text": [
            "100%|██████████| 645/645 [00:45<00:00, 14.27it/s]\n"
          ]
        },
        {
          "metadata": {
            "tags": null
          },
          "name": "stdout",
          "output_type": "stream",
          "text": [
            "Epoch 6/200: Train Loss: 0.1186, Valid Loss: 0.1183\n"
          ]
        },
        {
          "metadata": {
            "tags": null
          },
          "name": "stderr",
          "output_type": "stream",
          "text": [
            "100%|██████████| 645/645 [00:45<00:00, 14.28it/s]\n"
          ]
        },
        {
          "metadata": {
            "tags": null
          },
          "name": "stdout",
          "output_type": "stream",
          "text": [
            "Epoch 7/200: Train Loss: 0.1186, Valid Loss: 0.1172\n"
          ]
        },
        {
          "metadata": {
            "tags": null
          },
          "name": "stderr",
          "output_type": "stream",
          "text": [
            "100%|██████████| 645/645 [00:45<00:00, 14.20it/s]\n"
          ]
        },
        {
          "metadata": {
            "tags": null
          },
          "name": "stdout",
          "output_type": "stream",
          "text": [
            "Epoch 8/200: Train Loss: 0.1183, Valid Loss: 0.1172\n"
          ]
        },
        {
          "metadata": {
            "tags": null
          },
          "name": "stderr",
          "output_type": "stream",
          "text": [
            "100%|██████████| 645/645 [00:45<00:00, 14.19it/s]\n"
          ]
        },
        {
          "metadata": {
            "tags": null
          },
          "name": "stdout",
          "output_type": "stream",
          "text": [
            "Epoch 9/200: Train Loss: 0.1179, Valid Loss: 0.1183\n"
          ]
        },
        {
          "metadata": {
            "tags": null
          },
          "name": "stderr",
          "output_type": "stream",
          "text": [
            "100%|██████████| 645/645 [00:45<00:00, 14.27it/s]\n"
          ]
        },
        {
          "metadata": {
            "tags": null
          },
          "name": "stdout",
          "output_type": "stream",
          "text": [
            "Epoch 10/200: Train Loss: 0.1180, Valid Loss: 0.1184\n"
          ]
        },
        {
          "metadata": {
            "tags": null
          },
          "name": "stderr",
          "output_type": "stream",
          "text": [
            "100%|██████████| 645/645 [00:45<00:00, 14.23it/s]\n"
          ]
        },
        {
          "metadata": {
            "tags": null
          },
          "name": "stdout",
          "output_type": "stream",
          "text": [
            "Epoch 11/200: Train Loss: 0.1175, Valid Loss: 0.1169\n"
          ]
        },
        {
          "metadata": {
            "tags": null
          },
          "name": "stderr",
          "output_type": "stream",
          "text": [
            "100%|██████████| 645/645 [00:45<00:00, 14.06it/s]\n"
          ]
        },
        {
          "metadata": {
            "tags": null
          },
          "name": "stdout",
          "output_type": "stream",
          "text": [
            "Epoch 12/200: Train Loss: 0.1178, Valid Loss: 0.1175\n"
          ]
        },
        {
          "metadata": {
            "tags": null
          },
          "name": "stderr",
          "output_type": "stream",
          "text": [
            "100%|██████████| 645/645 [00:45<00:00, 14.26it/s]\n"
          ]
        },
        {
          "metadata": {
            "tags": null
          },
          "name": "stdout",
          "output_type": "stream",
          "text": [
            "Epoch 13/200: Train Loss: 0.1172, Valid Loss: 0.1173\n"
          ]
        },
        {
          "metadata": {
            "tags": null
          },
          "name": "stderr",
          "output_type": "stream",
          "text": [
            "100%|██████████| 645/645 [00:44<00:00, 14.39it/s]\n"
          ]
        },
        {
          "metadata": {
            "tags": null
          },
          "name": "stdout",
          "output_type": "stream",
          "text": [
            "Epoch 14/200: Train Loss: 0.1170, Valid Loss: 0.1218\n"
          ]
        },
        {
          "output_type": "stream",
          "name": "stderr",
          "text": [
            "100%|██████████| 645/645 [00:45<00:00, 14.23it/s]\n"
          ]
        },
        {
          "output_type": "stream",
          "name": "stdout",
          "text": [
            "Epoch 15/200: Train Loss: 0.1169, Valid Loss: 0.1189\n"
          ]
        },
        {
          "output_type": "stream",
          "name": "stderr",
          "text": [
            "100%|██████████| 645/645 [00:45<00:00, 14.30it/s]\n"
          ]
        },
        {
          "output_type": "stream",
          "name": "stdout",
          "text": [
            "Epoch 16/200: Train Loss: 0.1165, Valid Loss: 0.1182\n"
          ]
        },
        {
          "output_type": "stream",
          "name": "stderr",
          "text": [
            "100%|██████████| 645/645 [00:44<00:00, 14.34it/s]\n"
          ]
        },
        {
          "output_type": "stream",
          "name": "stdout",
          "text": [
            "Epoch 17/200: Train Loss: 0.1163, Valid Loss: 0.1172\n"
          ]
        },
        {
          "output_type": "stream",
          "name": "stderr",
          "text": [
            "100%|██████████| 645/645 [00:44<00:00, 14.36it/s]\n"
          ]
        },
        {
          "output_type": "stream",
          "name": "stdout",
          "text": [
            "Epoch 18/200: Train Loss: 0.1160, Valid Loss: 0.1173\n"
          ]
        },
        {
          "output_type": "stream",
          "name": "stderr",
          "text": [
            "100%|██████████| 645/645 [00:44<00:00, 14.43it/s]\n"
          ]
        },
        {
          "output_type": "stream",
          "name": "stdout",
          "text": [
            "Epoch 19/200: Train Loss: 0.1160, Valid Loss: 0.1179\n"
          ]
        },
        {
          "output_type": "stream",
          "name": "stderr",
          "text": [
            "100%|██████████| 645/645 [00:44<00:00, 14.37it/s]\n"
          ]
        },
        {
          "output_type": "stream",
          "name": "stdout",
          "text": [
            "Epoch 20/200: Train Loss: 0.1159, Valid Loss: 0.1154\n"
          ]
        },
        {
          "output_type": "stream",
          "name": "stderr",
          "text": [
            "100%|██████████| 645/645 [00:44<00:00, 14.43it/s]\n"
          ]
        },
        {
          "output_type": "stream",
          "name": "stdout",
          "text": [
            "Epoch 21/200: Train Loss: 0.1153, Valid Loss: 0.1160\n"
          ]
        },
        {
          "output_type": "stream",
          "name": "stderr",
          "text": [
            "100%|██████████| 645/645 [00:44<00:00, 14.42it/s]\n"
          ]
        },
        {
          "output_type": "stream",
          "name": "stdout",
          "text": [
            "Epoch 22/200: Train Loss: 0.1150, Valid Loss: 0.1146\n"
          ]
        },
        {
          "output_type": "stream",
          "name": "stderr",
          "text": [
            "100%|██████████| 645/645 [00:44<00:00, 14.39it/s]\n"
          ]
        },
        {
          "output_type": "stream",
          "name": "stdout",
          "text": [
            "Epoch 23/200: Train Loss: 0.1140, Valid Loss: 0.1139\n"
          ]
        },
        {
          "output_type": "stream",
          "name": "stderr",
          "text": [
            "100%|██████████| 645/645 [00:44<00:00, 14.36it/s]\n"
          ]
        },
        {
          "output_type": "stream",
          "name": "stdout",
          "text": [
            "Epoch 24/200: Train Loss: 0.1126, Valid Loss: 0.1160\n"
          ]
        },
        {
          "output_type": "stream",
          "name": "stderr",
          "text": [
            "100%|██████████| 645/645 [00:44<00:00, 14.34it/s]\n"
          ]
        },
        {
          "output_type": "stream",
          "name": "stdout",
          "text": [
            "Epoch 25/200: Train Loss: 0.1118, Valid Loss: 0.1105\n"
          ]
        },
        {
          "output_type": "stream",
          "name": "stderr",
          "text": [
            "100%|██████████| 645/645 [00:44<00:00, 14.37it/s]\n"
          ]
        },
        {
          "output_type": "stream",
          "name": "stdout",
          "text": [
            "Epoch 26/200: Train Loss: 0.1107, Valid Loss: 0.1091\n"
          ]
        },
        {
          "output_type": "stream",
          "name": "stderr",
          "text": [
            "100%|██████████| 645/645 [00:44<00:00, 14.41it/s]\n"
          ]
        },
        {
          "output_type": "stream",
          "name": "stdout",
          "text": [
            "Epoch 27/200: Train Loss: 0.1085, Valid Loss: 0.1112\n"
          ]
        },
        {
          "output_type": "stream",
          "name": "stderr",
          "text": [
            "100%|██████████| 645/645 [00:44<00:00, 14.37it/s]\n"
          ]
        },
        {
          "output_type": "stream",
          "name": "stdout",
          "text": [
            "Epoch 28/200: Train Loss: 0.1070, Valid Loss: 0.1060\n"
          ]
        },
        {
          "output_type": "stream",
          "name": "stderr",
          "text": [
            "100%|██████████| 645/645 [00:44<00:00, 14.42it/s]\n"
          ]
        },
        {
          "output_type": "stream",
          "name": "stdout",
          "text": [
            "Epoch 29/200: Train Loss: 0.1061, Valid Loss: 0.1047\n"
          ]
        },
        {
          "output_type": "stream",
          "name": "stderr",
          "text": [
            "100%|██████████| 645/645 [00:44<00:00, 14.39it/s]\n"
          ]
        },
        {
          "output_type": "stream",
          "name": "stdout",
          "text": [
            "Epoch 30/200: Train Loss: 0.1050, Valid Loss: 0.1091\n"
          ]
        },
        {
          "output_type": "stream",
          "name": "stderr",
          "text": [
            "100%|██████████| 645/645 [00:44<00:00, 14.41it/s]\n"
          ]
        },
        {
          "output_type": "stream",
          "name": "stdout",
          "text": [
            "Epoch 31/200: Train Loss: 0.1048, Valid Loss: 0.1032\n"
          ]
        },
        {
          "output_type": "stream",
          "name": "stderr",
          "text": [
            "100%|██████████| 645/645 [00:45<00:00, 14.26it/s]\n"
          ]
        },
        {
          "output_type": "stream",
          "name": "stdout",
          "text": [
            "Epoch 32/200: Train Loss: 0.1034, Valid Loss: 0.1080\n"
          ]
        },
        {
          "output_type": "stream",
          "name": "stderr",
          "text": [
            "100%|██████████| 645/645 [00:45<00:00, 14.29it/s]\n"
          ]
        },
        {
          "output_type": "stream",
          "name": "stdout",
          "text": [
            "Epoch 33/200: Train Loss: 0.1023, Valid Loss: 0.1026\n"
          ]
        },
        {
          "output_type": "stream",
          "name": "stderr",
          "text": [
            "100%|██████████| 645/645 [00:45<00:00, 14.26it/s]\n"
          ]
        },
        {
          "output_type": "stream",
          "name": "stdout",
          "text": [
            "Epoch 34/200: Train Loss: 0.1015, Valid Loss: 0.1038\n"
          ]
        },
        {
          "output_type": "stream",
          "name": "stderr",
          "text": [
            "100%|██████████| 645/645 [00:45<00:00, 14.32it/s]\n"
          ]
        },
        {
          "output_type": "stream",
          "name": "stdout",
          "text": [
            "Epoch 35/200: Train Loss: 0.1007, Valid Loss: 0.1014\n"
          ]
        },
        {
          "output_type": "stream",
          "name": "stderr",
          "text": [
            "100%|██████████| 645/645 [00:45<00:00, 14.25it/s]\n"
          ]
        },
        {
          "output_type": "stream",
          "name": "stdout",
          "text": [
            "Epoch 36/200: Train Loss: 0.1002, Valid Loss: 0.1026\n"
          ]
        },
        {
          "output_type": "stream",
          "name": "stderr",
          "text": [
            "100%|██████████| 645/645 [00:45<00:00, 14.33it/s]\n"
          ]
        },
        {
          "output_type": "stream",
          "name": "stdout",
          "text": [
            "Epoch 37/200: Train Loss: 0.1003, Valid Loss: 0.1016\n"
          ]
        },
        {
          "output_type": "stream",
          "name": "stderr",
          "text": [
            "100%|██████████| 645/645 [00:44<00:00, 14.41it/s]\n"
          ]
        },
        {
          "output_type": "stream",
          "name": "stdout",
          "text": [
            "Epoch 38/200: Train Loss: 0.1001, Valid Loss: 0.1021\n"
          ]
        },
        {
          "output_type": "stream",
          "name": "stderr",
          "text": [
            "100%|██████████| 645/645 [00:44<00:00, 14.36it/s]\n"
          ]
        },
        {
          "output_type": "stream",
          "name": "stdout",
          "text": [
            "Epoch 39/200: Train Loss: 0.0991, Valid Loss: 0.1010\n"
          ]
        },
        {
          "output_type": "stream",
          "name": "stderr",
          "text": [
            "100%|██████████| 645/645 [00:44<00:00, 14.37it/s]\n"
          ]
        },
        {
          "output_type": "stream",
          "name": "stdout",
          "text": [
            "Epoch 40/200: Train Loss: 0.0992, Valid Loss: 0.1004\n"
          ]
        },
        {
          "output_type": "stream",
          "name": "stderr",
          "text": [
            "100%|██████████| 645/645 [00:44<00:00, 14.36it/s]\n"
          ]
        },
        {
          "output_type": "stream",
          "name": "stdout",
          "text": [
            "Epoch 41/200: Train Loss: 0.0986, Valid Loss: 0.1009\n"
          ]
        },
        {
          "output_type": "stream",
          "name": "stderr",
          "text": [
            "100%|██████████| 645/645 [00:44<00:00, 14.36it/s]\n"
          ]
        },
        {
          "output_type": "stream",
          "name": "stdout",
          "text": [
            "Epoch 42/200: Train Loss: 0.0979, Valid Loss: 0.1048\n"
          ]
        },
        {
          "output_type": "stream",
          "name": "stderr",
          "text": [
            "100%|██████████| 645/645 [00:44<00:00, 14.37it/s]\n"
          ]
        },
        {
          "output_type": "stream",
          "name": "stdout",
          "text": [
            "Epoch 43/200: Train Loss: 0.0983, Valid Loss: 0.1007\n"
          ]
        },
        {
          "output_type": "stream",
          "name": "stderr",
          "text": [
            "100%|██████████| 645/645 [00:44<00:00, 14.42it/s]\n"
          ]
        },
        {
          "output_type": "stream",
          "name": "stdout",
          "text": [
            "Epoch 44/200: Train Loss: 0.0979, Valid Loss: 0.0996\n"
          ]
        },
        {
          "output_type": "stream",
          "name": "stderr",
          "text": [
            "100%|██████████| 645/645 [00:44<00:00, 14.38it/s]\n"
          ]
        },
        {
          "output_type": "stream",
          "name": "stdout",
          "text": [
            "Epoch 45/200: Train Loss: 0.0980, Valid Loss: 0.0998\n"
          ]
        },
        {
          "output_type": "stream",
          "name": "stderr",
          "text": [
            "100%|██████████| 645/645 [00:44<00:00, 14.38it/s]\n"
          ]
        },
        {
          "output_type": "stream",
          "name": "stdout",
          "text": [
            "Epoch 46/200: Train Loss: 0.0975, Valid Loss: 0.1022\n"
          ]
        },
        {
          "output_type": "stream",
          "name": "stderr",
          "text": [
            "100%|██████████| 645/645 [00:44<00:00, 14.41it/s]\n"
          ]
        },
        {
          "output_type": "stream",
          "name": "stdout",
          "text": [
            "Epoch 47/200: Train Loss: 0.0975, Valid Loss: 0.1044\n"
          ]
        },
        {
          "output_type": "stream",
          "name": "stderr",
          "text": [
            "100%|██████████| 645/645 [00:44<00:00, 14.49it/s]\n"
          ]
        },
        {
          "output_type": "stream",
          "name": "stdout",
          "text": [
            "Epoch 48/200: Train Loss: 0.0966, Valid Loss: 0.0990\n"
          ]
        },
        {
          "output_type": "stream",
          "name": "stderr",
          "text": [
            "100%|██████████| 645/645 [00:44<00:00, 14.42it/s]\n"
          ]
        },
        {
          "output_type": "stream",
          "name": "stdout",
          "text": [
            "Epoch 49/200: Train Loss: 0.0969, Valid Loss: 0.0986\n"
          ]
        },
        {
          "output_type": "stream",
          "name": "stderr",
          "text": [
            "100%|██████████| 645/645 [00:44<00:00, 14.50it/s]\n"
          ]
        },
        {
          "output_type": "stream",
          "name": "stdout",
          "text": [
            "Epoch 50/200: Train Loss: 0.0964, Valid Loss: 0.0987\n"
          ]
        },
        {
          "output_type": "stream",
          "name": "stderr",
          "text": [
            "100%|██████████| 645/645 [00:44<00:00, 14.44it/s]\n"
          ]
        },
        {
          "output_type": "stream",
          "name": "stdout",
          "text": [
            "Epoch 51/200: Train Loss: 0.0960, Valid Loss: 0.0988\n"
          ]
        },
        {
          "output_type": "stream",
          "name": "stderr",
          "text": [
            "100%|██████████| 645/645 [00:44<00:00, 14.39it/s]\n"
          ]
        },
        {
          "output_type": "stream",
          "name": "stdout",
          "text": [
            "Epoch 52/200: Train Loss: 0.0961, Valid Loss: 0.1100\n"
          ]
        },
        {
          "output_type": "stream",
          "name": "stderr",
          "text": [
            "100%|██████████| 645/645 [00:45<00:00, 14.32it/s]\n"
          ]
        },
        {
          "output_type": "stream",
          "name": "stdout",
          "text": [
            "Epoch 53/200: Train Loss: 0.0962, Valid Loss: 0.0993\n"
          ]
        },
        {
          "output_type": "stream",
          "name": "stderr",
          "text": [
            "100%|██████████| 645/645 [00:45<00:00, 14.32it/s]\n"
          ]
        },
        {
          "output_type": "stream",
          "name": "stdout",
          "text": [
            "Epoch 54/200: Train Loss: 0.0952, Valid Loss: 0.0985\n"
          ]
        },
        {
          "output_type": "stream",
          "name": "stderr",
          "text": [
            "100%|██████████| 645/645 [00:45<00:00, 14.26it/s]\n"
          ]
        },
        {
          "output_type": "stream",
          "name": "stdout",
          "text": [
            "Epoch 55/200: Train Loss: 0.0957, Valid Loss: 0.0997\n"
          ]
        },
        {
          "output_type": "stream",
          "name": "stderr",
          "text": [
            "100%|██████████| 645/645 [00:45<00:00, 14.32it/s]\n"
          ]
        },
        {
          "output_type": "stream",
          "name": "stdout",
          "text": [
            "Epoch 56/200: Train Loss: 0.0957, Valid Loss: 0.0969\n"
          ]
        },
        {
          "output_type": "stream",
          "name": "stderr",
          "text": [
            "100%|██████████| 645/645 [00:45<00:00, 14.28it/s]\n"
          ]
        },
        {
          "output_type": "stream",
          "name": "stdout",
          "text": [
            "Epoch 57/200: Train Loss: 0.0948, Valid Loss: 0.1001\n"
          ]
        },
        {
          "output_type": "stream",
          "name": "stderr",
          "text": [
            "100%|██████████| 645/645 [00:45<00:00, 14.32it/s]\n"
          ]
        },
        {
          "output_type": "stream",
          "name": "stdout",
          "text": [
            "Epoch 58/200: Train Loss: 0.0948, Valid Loss: 0.0976\n"
          ]
        },
        {
          "output_type": "stream",
          "name": "stderr",
          "text": [
            "100%|██████████| 645/645 [00:44<00:00, 14.36it/s]\n"
          ]
        },
        {
          "output_type": "stream",
          "name": "stdout",
          "text": [
            "Epoch 59/200: Train Loss: 0.0946, Valid Loss: 0.1027\n"
          ]
        },
        {
          "output_type": "stream",
          "name": "stderr",
          "text": [
            "100%|██████████| 645/645 [00:44<00:00, 14.42it/s]\n"
          ]
        },
        {
          "output_type": "stream",
          "name": "stdout",
          "text": [
            "Epoch 60/200: Train Loss: 0.0952, Valid Loss: 0.1005\n"
          ]
        },
        {
          "output_type": "stream",
          "name": "stderr",
          "text": [
            "100%|██████████| 645/645 [00:44<00:00, 14.34it/s]\n"
          ]
        },
        {
          "output_type": "stream",
          "name": "stdout",
          "text": [
            "Epoch 61/200: Train Loss: 0.0941, Valid Loss: 0.0981\n"
          ]
        },
        {
          "output_type": "stream",
          "name": "stderr",
          "text": [
            "100%|██████████| 645/645 [00:45<00:00, 14.33it/s]\n"
          ]
        },
        {
          "output_type": "stream",
          "name": "stdout",
          "text": [
            "Epoch 62/200: Train Loss: 0.0947, Valid Loss: 0.0968\n"
          ]
        },
        {
          "output_type": "stream",
          "name": "stderr",
          "text": [
            "100%|██████████| 645/645 [00:44<00:00, 14.41it/s]\n"
          ]
        },
        {
          "output_type": "stream",
          "name": "stdout",
          "text": [
            "Epoch 63/200: Train Loss: 0.0945, Valid Loss: 0.0987\n"
          ]
        },
        {
          "output_type": "stream",
          "name": "stderr",
          "text": [
            "100%|██████████| 645/645 [00:44<00:00, 14.44it/s]\n"
          ]
        },
        {
          "output_type": "stream",
          "name": "stdout",
          "text": [
            "Epoch 64/200: Train Loss: 0.0943, Valid Loss: 0.0970\n"
          ]
        },
        {
          "output_type": "stream",
          "name": "stderr",
          "text": [
            "100%|██████████| 645/645 [00:44<00:00, 14.44it/s]\n"
          ]
        },
        {
          "output_type": "stream",
          "name": "stdout",
          "text": [
            "Epoch 65/200: Train Loss: 0.0941, Valid Loss: 0.0969\n"
          ]
        },
        {
          "output_type": "stream",
          "name": "stderr",
          "text": [
            "100%|██████████| 645/645 [00:44<00:00, 14.49it/s]\n"
          ]
        },
        {
          "output_type": "stream",
          "name": "stdout",
          "text": [
            "Epoch 66/200: Train Loss: 0.0940, Valid Loss: 0.0967\n"
          ]
        },
        {
          "output_type": "stream",
          "name": "stderr",
          "text": [
            "100%|██████████| 645/645 [00:44<00:00, 14.44it/s]\n"
          ]
        },
        {
          "output_type": "stream",
          "name": "stdout",
          "text": [
            "Epoch 67/200: Train Loss: 0.0942, Valid Loss: 0.0974\n"
          ]
        },
        {
          "output_type": "stream",
          "name": "stderr",
          "text": [
            "100%|██████████| 645/645 [00:44<00:00, 14.41it/s]\n"
          ]
        },
        {
          "output_type": "stream",
          "name": "stdout",
          "text": [
            "Epoch 68/200: Train Loss: 0.0938, Valid Loss: 0.0976\n"
          ]
        },
        {
          "output_type": "stream",
          "name": "stderr",
          "text": [
            "100%|██████████| 645/645 [00:44<00:00, 14.42it/s]\n"
          ]
        },
        {
          "output_type": "stream",
          "name": "stdout",
          "text": [
            "Epoch 69/200: Train Loss: 0.0939, Valid Loss: 0.1002\n"
          ]
        },
        {
          "output_type": "stream",
          "name": "stderr",
          "text": [
            "100%|██████████| 645/645 [00:44<00:00, 14.43it/s]\n"
          ]
        },
        {
          "output_type": "stream",
          "name": "stdout",
          "text": [
            "Epoch 70/200: Train Loss: 0.0930, Valid Loss: 0.0966\n"
          ]
        },
        {
          "output_type": "stream",
          "name": "stderr",
          "text": [
            "100%|██████████| 645/645 [00:44<00:00, 14.38it/s]\n"
          ]
        },
        {
          "output_type": "stream",
          "name": "stdout",
          "text": [
            "Epoch 71/200: Train Loss: 0.0930, Valid Loss: 0.0982\n"
          ]
        },
        {
          "output_type": "stream",
          "name": "stderr",
          "text": [
            "100%|██████████| 645/645 [00:44<00:00, 14.40it/s]\n"
          ]
        },
        {
          "output_type": "stream",
          "name": "stdout",
          "text": [
            "Epoch 72/200: Train Loss: 0.0939, Valid Loss: 0.1004\n"
          ]
        },
        {
          "output_type": "stream",
          "name": "stderr",
          "text": [
            "100%|██████████| 645/645 [00:44<00:00, 14.38it/s]\n"
          ]
        },
        {
          "output_type": "stream",
          "name": "stdout",
          "text": [
            "Epoch 73/200: Train Loss: 0.0929, Valid Loss: 0.0973\n"
          ]
        },
        {
          "output_type": "stream",
          "name": "stderr",
          "text": [
            "100%|██████████| 645/645 [00:44<00:00, 14.43it/s]\n"
          ]
        },
        {
          "output_type": "stream",
          "name": "stdout",
          "text": [
            "Epoch 74/200: Train Loss: 0.0930, Valid Loss: 0.0958\n"
          ]
        },
        {
          "output_type": "stream",
          "name": "stderr",
          "text": [
            "100%|██████████| 645/645 [00:44<00:00, 14.43it/s]\n"
          ]
        },
        {
          "output_type": "stream",
          "name": "stdout",
          "text": [
            "Epoch 75/200: Train Loss: 0.0926, Valid Loss: 0.0971\n"
          ]
        },
        {
          "output_type": "stream",
          "name": "stderr",
          "text": [
            "100%|██████████| 645/645 [00:44<00:00, 14.38it/s]\n"
          ]
        },
        {
          "output_type": "stream",
          "name": "stdout",
          "text": [
            "Epoch 76/200: Train Loss: 0.0924, Valid Loss: 0.0975\n"
          ]
        },
        {
          "output_type": "stream",
          "name": "stderr",
          "text": [
            "100%|██████████| 645/645 [00:44<00:00, 14.61it/s]\n"
          ]
        },
        {
          "output_type": "stream",
          "name": "stdout",
          "text": [
            "Epoch 77/200: Train Loss: 0.0925, Valid Loss: 0.0997\n"
          ]
        },
        {
          "output_type": "stream",
          "name": "stderr",
          "text": [
            "100%|██████████| 645/645 [00:44<00:00, 14.63it/s]\n"
          ]
        },
        {
          "output_type": "stream",
          "name": "stdout",
          "text": [
            "Epoch 78/200: Train Loss: 0.0931, Valid Loss: 0.1017\n"
          ]
        },
        {
          "output_type": "stream",
          "name": "stderr",
          "text": [
            "100%|██████████| 645/645 [00:43<00:00, 14.67it/s]\n"
          ]
        },
        {
          "output_type": "stream",
          "name": "stdout",
          "text": [
            "Epoch 79/200: Train Loss: 0.0924, Valid Loss: 0.0968\n"
          ]
        },
        {
          "output_type": "stream",
          "name": "stderr",
          "text": [
            "100%|██████████| 645/645 [00:44<00:00, 14.64it/s]\n"
          ]
        },
        {
          "output_type": "stream",
          "name": "stdout",
          "text": [
            "Epoch 80/200: Train Loss: 0.0930, Valid Loss: 0.0967\n"
          ]
        },
        {
          "output_type": "stream",
          "name": "stderr",
          "text": [
            "100%|██████████| 645/645 [00:44<00:00, 14.62it/s]\n"
          ]
        },
        {
          "output_type": "stream",
          "name": "stdout",
          "text": [
            "Epoch 81/200: Train Loss: 0.0930, Valid Loss: 0.0959\n"
          ]
        },
        {
          "output_type": "stream",
          "name": "stderr",
          "text": [
            "100%|██████████| 645/645 [00:43<00:00, 14.66it/s]\n"
          ]
        },
        {
          "output_type": "stream",
          "name": "stdout",
          "text": [
            "Epoch 82/200: Train Loss: 0.0927, Valid Loss: 0.0946\n"
          ]
        },
        {
          "output_type": "stream",
          "name": "stderr",
          "text": [
            "100%|██████████| 645/645 [00:44<00:00, 14.44it/s]\n"
          ]
        },
        {
          "output_type": "stream",
          "name": "stdout",
          "text": [
            "Epoch 83/200: Train Loss: 0.0927, Valid Loss: 0.0955\n"
          ]
        },
        {
          "output_type": "stream",
          "name": "stderr",
          "text": [
            "100%|██████████| 645/645 [00:44<00:00, 14.58it/s]\n"
          ]
        },
        {
          "output_type": "stream",
          "name": "stdout",
          "text": [
            "Epoch 84/200: Train Loss: 0.0924, Valid Loss: 0.0967\n"
          ]
        },
        {
          "output_type": "stream",
          "name": "stderr",
          "text": [
            "100%|██████████| 645/645 [00:44<00:00, 14.50it/s]\n"
          ]
        },
        {
          "output_type": "stream",
          "name": "stdout",
          "text": [
            "Epoch 85/200: Train Loss: 0.0924, Valid Loss: 0.0949\n"
          ]
        },
        {
          "output_type": "stream",
          "name": "stderr",
          "text": [
            "100%|██████████| 645/645 [00:44<00:00, 14.51it/s]\n"
          ]
        },
        {
          "output_type": "stream",
          "name": "stdout",
          "text": [
            "Epoch 86/200: Train Loss: 0.0921, Valid Loss: 0.0965\n"
          ]
        },
        {
          "output_type": "stream",
          "name": "stderr",
          "text": [
            "100%|██████████| 645/645 [00:44<00:00, 14.50it/s]\n"
          ]
        },
        {
          "output_type": "stream",
          "name": "stdout",
          "text": [
            "Epoch 87/200: Train Loss: 0.0920, Valid Loss: 0.0951\n"
          ]
        },
        {
          "output_type": "stream",
          "name": "stderr",
          "text": [
            "100%|██████████| 645/645 [00:44<00:00, 14.65it/s]\n"
          ]
        },
        {
          "output_type": "stream",
          "name": "stdout",
          "text": [
            "Epoch 88/200: Train Loss: 0.0924, Valid Loss: 0.0958\n"
          ]
        },
        {
          "output_type": "stream",
          "name": "stderr",
          "text": [
            "100%|██████████| 645/645 [00:43<00:00, 14.72it/s]\n"
          ]
        },
        {
          "output_type": "stream",
          "name": "stdout",
          "text": [
            "Epoch 89/200: Train Loss: 0.0917, Valid Loss: 0.0952\n"
          ]
        },
        {
          "output_type": "stream",
          "name": "stderr",
          "text": [
            "100%|██████████| 645/645 [00:44<00:00, 14.50it/s]\n"
          ]
        },
        {
          "output_type": "stream",
          "name": "stdout",
          "text": [
            "Epoch 90/200: Train Loss: 0.0917, Valid Loss: 0.0976\n"
          ]
        },
        {
          "output_type": "stream",
          "name": "stderr",
          "text": [
            "100%|██████████| 645/645 [00:44<00:00, 14.34it/s]\n"
          ]
        },
        {
          "output_type": "stream",
          "name": "stdout",
          "text": [
            "Epoch 91/200: Train Loss: 0.0914, Valid Loss: 0.0961\n"
          ]
        },
        {
          "output_type": "stream",
          "name": "stderr",
          "text": [
            "100%|██████████| 645/645 [00:44<00:00, 14.38it/s]\n"
          ]
        },
        {
          "output_type": "stream",
          "name": "stdout",
          "text": [
            "Epoch 92/200: Train Loss: 0.0921, Valid Loss: 0.0954\n"
          ]
        },
        {
          "output_type": "stream",
          "name": "stderr",
          "text": [
            "100%|██████████| 645/645 [00:44<00:00, 14.45it/s]\n"
          ]
        },
        {
          "output_type": "stream",
          "name": "stdout",
          "text": [
            "Epoch 93/200: Train Loss: 0.0910, Valid Loss: 0.0950\n"
          ]
        },
        {
          "output_type": "stream",
          "name": "stderr",
          "text": [
            "100%|██████████| 645/645 [00:44<00:00, 14.39it/s]\n"
          ]
        },
        {
          "output_type": "stream",
          "name": "stdout",
          "text": [
            "Epoch 94/200: Train Loss: 0.0906, Valid Loss: 0.0958\n"
          ]
        },
        {
          "output_type": "stream",
          "name": "stderr",
          "text": [
            "100%|██████████| 645/645 [00:44<00:00, 14.46it/s]\n"
          ]
        },
        {
          "output_type": "stream",
          "name": "stdout",
          "text": [
            "Epoch 95/200: Train Loss: 0.0910, Valid Loss: 0.0967\n"
          ]
        },
        {
          "output_type": "stream",
          "name": "stderr",
          "text": [
            "100%|██████████| 645/645 [00:44<00:00, 14.47it/s]\n"
          ]
        },
        {
          "output_type": "stream",
          "name": "stdout",
          "text": [
            "Epoch 96/200: Train Loss: 0.0911, Valid Loss: 0.0959\n"
          ]
        },
        {
          "output_type": "stream",
          "name": "stderr",
          "text": [
            "100%|██████████| 645/645 [00:44<00:00, 14.40it/s]\n"
          ]
        },
        {
          "output_type": "stream",
          "name": "stdout",
          "text": [
            "Epoch 97/200: Train Loss: 0.0911, Valid Loss: 0.0960\n"
          ]
        },
        {
          "output_type": "stream",
          "name": "stderr",
          "text": [
            "100%|██████████| 645/645 [00:44<00:00, 14.40it/s]\n"
          ]
        },
        {
          "output_type": "stream",
          "name": "stdout",
          "text": [
            "Epoch 98/200: Train Loss: 0.0903, Valid Loss: 0.0943\n"
          ]
        },
        {
          "output_type": "stream",
          "name": "stderr",
          "text": [
            "100%|██████████| 645/645 [00:44<00:00, 14.47it/s]\n"
          ]
        },
        {
          "output_type": "stream",
          "name": "stdout",
          "text": [
            "Epoch 99/200: Train Loss: 0.0908, Valid Loss: 0.0943\n"
          ]
        },
        {
          "output_type": "stream",
          "name": "stderr",
          "text": [
            "100%|██████████| 645/645 [00:44<00:00, 14.58it/s]\n"
          ]
        },
        {
          "output_type": "stream",
          "name": "stdout",
          "text": [
            "Epoch 100/200: Train Loss: 0.0908, Valid Loss: 0.0947\n"
          ]
        },
        {
          "output_type": "stream",
          "name": "stderr",
          "text": [
            "100%|██████████| 645/645 [00:44<00:00, 14.48it/s]\n"
          ]
        },
        {
          "output_type": "stream",
          "name": "stdout",
          "text": [
            "Epoch 101/200: Train Loss: 0.0911, Valid Loss: 0.0953\n"
          ]
        },
        {
          "output_type": "stream",
          "name": "stderr",
          "text": [
            "100%|██████████| 645/645 [00:44<00:00, 14.50it/s]\n"
          ]
        },
        {
          "output_type": "stream",
          "name": "stdout",
          "text": [
            "Epoch 102/200: Train Loss: 0.0910, Valid Loss: 0.0942\n"
          ]
        },
        {
          "output_type": "stream",
          "name": "stderr",
          "text": [
            "100%|██████████| 645/645 [00:44<00:00, 14.36it/s]\n"
          ]
        },
        {
          "output_type": "stream",
          "name": "stdout",
          "text": [
            "Epoch 103/200: Train Loss: 0.0907, Valid Loss: 0.0952\n"
          ]
        },
        {
          "output_type": "stream",
          "name": "stderr",
          "text": [
            "100%|██████████| 645/645 [00:44<00:00, 14.42it/s]\n"
          ]
        },
        {
          "output_type": "stream",
          "name": "stdout",
          "text": [
            "Epoch 104/200: Train Loss: 0.0905, Valid Loss: 0.0963\n"
          ]
        },
        {
          "output_type": "stream",
          "name": "stderr",
          "text": [
            "100%|██████████| 645/645 [00:45<00:00, 14.27it/s]\n"
          ]
        },
        {
          "output_type": "stream",
          "name": "stdout",
          "text": [
            "Epoch 105/200: Train Loss: 0.0903, Valid Loss: 0.0970\n"
          ]
        },
        {
          "output_type": "stream",
          "name": "stderr",
          "text": [
            "100%|██████████| 645/645 [00:44<00:00, 14.41it/s]\n"
          ]
        },
        {
          "output_type": "stream",
          "name": "stdout",
          "text": [
            "Epoch 106/200: Train Loss: 0.0900, Valid Loss: 0.0952\n"
          ]
        },
        {
          "output_type": "stream",
          "name": "stderr",
          "text": [
            "100%|██████████| 645/645 [00:44<00:00, 14.50it/s]\n"
          ]
        },
        {
          "output_type": "stream",
          "name": "stdout",
          "text": [
            "Epoch 107/200: Train Loss: 0.0899, Valid Loss: 0.0939\n"
          ]
        },
        {
          "output_type": "stream",
          "name": "stderr",
          "text": [
            "100%|██████████| 645/645 [00:44<00:00, 14.54it/s]\n"
          ]
        },
        {
          "output_type": "stream",
          "name": "stdout",
          "text": [
            "Epoch 108/200: Train Loss: 0.0897, Valid Loss: 0.0955\n"
          ]
        },
        {
          "output_type": "stream",
          "name": "stderr",
          "text": [
            "100%|██████████| 645/645 [00:44<00:00, 14.45it/s]\n"
          ]
        },
        {
          "output_type": "stream",
          "name": "stdout",
          "text": [
            "Epoch 109/200: Train Loss: 0.0902, Valid Loss: 0.0941\n"
          ]
        },
        {
          "output_type": "stream",
          "name": "stderr",
          "text": [
            "100%|██████████| 645/645 [00:44<00:00, 14.45it/s]\n"
          ]
        },
        {
          "output_type": "stream",
          "name": "stdout",
          "text": [
            "Epoch 110/200: Train Loss: 0.0891, Valid Loss: 0.0969\n"
          ]
        },
        {
          "output_type": "stream",
          "name": "stderr",
          "text": [
            "100%|██████████| 645/645 [00:44<00:00, 14.49it/s]\n"
          ]
        },
        {
          "output_type": "stream",
          "name": "stdout",
          "text": [
            "Epoch 111/200: Train Loss: 0.0899, Valid Loss: 0.0955\n"
          ]
        },
        {
          "output_type": "stream",
          "name": "stderr",
          "text": [
            "100%|██████████| 645/645 [00:44<00:00, 14.37it/s]\n"
          ]
        },
        {
          "output_type": "stream",
          "name": "stdout",
          "text": [
            "Epoch 112/200: Train Loss: 0.0899, Valid Loss: 0.0948\n"
          ]
        },
        {
          "output_type": "stream",
          "name": "stderr",
          "text": [
            "100%|██████████| 645/645 [00:44<00:00, 14.62it/s]\n"
          ]
        },
        {
          "output_type": "stream",
          "name": "stdout",
          "text": [
            "Epoch 113/200: Train Loss: 0.0896, Valid Loss: 0.0963\n"
          ]
        },
        {
          "output_type": "stream",
          "name": "stderr",
          "text": [
            "100%|██████████| 645/645 [00:44<00:00, 14.61it/s]\n"
          ]
        },
        {
          "output_type": "stream",
          "name": "stdout",
          "text": [
            "Epoch 114/200: Train Loss: 0.0895, Valid Loss: 0.0927\n"
          ]
        },
        {
          "output_type": "stream",
          "name": "stderr",
          "text": [
            "100%|██████████| 645/645 [00:44<00:00, 14.58it/s]\n"
          ]
        },
        {
          "output_type": "stream",
          "name": "stdout",
          "text": [
            "Epoch 115/200: Train Loss: 0.0891, Valid Loss: 0.0932\n"
          ]
        },
        {
          "output_type": "stream",
          "name": "stderr",
          "text": [
            "100%|██████████| 645/645 [00:44<00:00, 14.54it/s]\n"
          ]
        },
        {
          "output_type": "stream",
          "name": "stdout",
          "text": [
            "Epoch 116/200: Train Loss: 0.0894, Valid Loss: 0.0962\n"
          ]
        },
        {
          "output_type": "stream",
          "name": "stderr",
          "text": [
            " 48%|████▊     | 312/645 [00:21<00:22, 14.95it/s]"
          ]
        }
      ],
      "source": [
        "train()"
      ]
    },
    {
      "cell_type": "code",
      "execution_count": null,
      "metadata": {
        "id": "WhsLqzLBrH4V"
      },
      "outputs": [],
      "source": [
        "train()"
      ]
    },
    {
      "cell_type": "markdown",
      "metadata": {
        "id": "qQDCPW6Q4Q4Q"
      },
      "source": [
        "## VISUAL EVALUATION"
      ]
    },
    {
      "cell_type": "code",
      "execution_count": null,
      "metadata": {
        "id": "lBSilFju4QQY"
      },
      "outputs": [],
      "source": [
        "ys=[]\n",
        "preds=[]\n",
        "for batch in tqdm.tqdm(test_loader):\n",
        "    input_drug=batch['input_drug'].to(device)\n",
        "    input_target=batch['input_target'].to(device)\n",
        "    y=batch['y'].to(device)\n",
        "    outputs = model(input_drug,input_target).view(-1,)\n",
        "    ys.extend(list(y.detach().cpu().numpy()))\n",
        "    preds.extend(list(outputs.detach().cpu().numpy()))\n",
        "temp_df=pd.DataFrame({'ys':ys,'preds':preds})\n",
        "px.scatter(temp_df,x='ys',y='preds')"
      ]
    },
    {
      "cell_type": "code",
      "execution_count": null,
      "metadata": {
        "id": "CdKzz2buk00m"
      },
      "outputs": [],
      "source": [
        "temp_df.corr()"
      ]
    },
    {
      "cell_type": "code",
      "execution_count": null,
      "metadata": {
        "id": "T_HSBT48EL1D"
      },
      "outputs": [],
      "source": []
    }
  ],
  "metadata": {
    "accelerator": "GPU",
    "colab": {
      "provenance": []
    },
    "kernelspec": {
      "display_name": "Python 3",
      "name": "python3"
    },
    "language_info": {
      "name": "python"
    }
  },
  "nbformat": 4,
  "nbformat_minor": 0
}